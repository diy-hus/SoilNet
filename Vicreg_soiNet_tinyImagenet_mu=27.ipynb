{
 "cells": [
  {
   "cell_type": "code",
   "execution_count": 1,
   "id": "0596ce92-98d1-499d-9204-7ad71a132d13",
   "metadata": {},
   "outputs": [
    {
     "name": "stdout",
     "output_type": "stream",
     "text": [
      "PyTorch version: 2.6.0+cu118\n",
      "CUDA is available: True\n"
     ]
    }
   ],
   "source": [
    "import torch\n",
    "import torch.nn as nn\n",
    "import torch.nn.functional as F\n",
    "import timm\n",
    "import pandas as pd\n",
    "import numpy as np\n",
    "from PIL import Image, UnidentifiedImageError\n",
    "import os\n",
    "import glob\n",
    "import random\n",
    "from torchvision import transforms\n",
    "from torch.utils.data import Dataset, DataLoader\n",
    "from tqdm import tqdm\n",
    "from sklearn.metrics import mean_squared_error, mean_absolute_error, accuracy_score, f1_score\n",
    "import logging\n",
    "\n",
    "device = torch.device('cuda' if torch.cuda.is_available() else 'cpu')\n",
    "print(\"PyTorch version:\", torch.__version__)\n",
    "print(\"CUDA is available:\", torch.cuda.is_available())\n"
   ]
  },
  {
   "cell_type": "code",
   "execution_count": 2,
   "id": "966ef7e8-05d4-43fa-981d-6079476f01a4",
   "metadata": {},
   "outputs": [],
   "source": [
    "def preprocess_images(df):\n",
    "    new_df = df.copy()\n",
    "    deleted_count = 0\n",
    "    valid_indices = []\n",
    "    for idx, row in tqdm(new_df.iterrows(), total=len(new_df)):\n",
    "        path = row[\"path\"]\n",
    "        try:\n",
    "            img = Image.open(path).convert(\"RGB\")\n",
    "            img.verify()\n",
    "            valid_indices.append(idx)\n",
    "        except (UnidentifiedImageError, FileNotFoundError, OSError) as e:\n",
    "            logging.info(f\"Image error: {path} ({str(e)})\")\n",
    "            try:\n",
    "                if os.path.exists(path):\n",
    "                    os.remove(path)\n",
    "                    deleted_count += 1\n",
    "                    logging.info(f\"Deleted image: {path}\")\n",
    "            except (PermissionError, OSError) as e:\n",
    "                logging.error(f\"Cannot delete image {path}: {str(e)}\")\n",
    "    new_df = new_df.loc[valid_indices].reset_index(drop=True)\n",
    "    print(f\"Deleted {deleted_count} invalid labeled images. {len(new_df)} images remain.\")\n",
    "    logging.info(f\"Deleted {deleted_count} labeled images. {len(new_df)} images remain.\")\n",
    "    return new_df"
   ]
  },
  {
   "cell_type": "code",
   "execution_count": 3,
   "id": "a58ccc4c-3d30-4b46-b0e4-e3286cad4d0b",
   "metadata": {},
   "outputs": [
    {
     "name": "stdout",
     "output_type": "stream",
     "text": [
      "Total unlabeled images before check: 11995\n"
     ]
    },
    {
     "name": "stderr",
     "output_type": "stream",
     "text": [
      "100%|████████████████████████████████████████████████████████████████████████████| 11995/11995 [02:25<00:00, 82.61it/s]\n"
     ]
    },
    {
     "name": "stdout",
     "output_type": "stream",
     "text": [
      "Deleted 0 invalid unlabeled images. 11995 images remain.\n",
      "Images after check and error removal: 11995\n",
      "Total labeled images before check: 2057\n",
      "Sample image paths:\n",
      "0    F:\\Soil_Labeled_Data\\M_0_10\\L_0_10\\alluvial\\z5...\n",
      "1    F:\\Soil_Labeled_Data\\M_0_10\\L_0_10\\alluvial\\z5...\n",
      "2    F:\\Soil_Labeled_Data\\M_0_10\\L_0_10\\alluvial\\z5...\n",
      "3    F:\\Soil_Labeled_Data\\M_0_10\\L_0_10\\alluvial\\z5...\n",
      "4    F:\\Soil_Labeled_Data\\M_0_10\\L_0_10\\alluvial\\z5...\n",
      "Name: path, dtype: object\n"
     ]
    },
    {
     "name": "stderr",
     "output_type": "stream",
     "text": [
      "100%|██████████████████████████████████████████████████████████████████████████████| 2057/2057 [01:17<00:00, 26.54it/s]\n"
     ]
    },
    {
     "name": "stdout",
     "output_type": "stream",
     "text": [
      "Deleted 0 invalid labeled images. 2052 images remain.\n",
      "Checking and replacing invalid images...\n"
     ]
    },
    {
     "name": "stderr",
     "output_type": "stream",
     "text": [
      "100%|██████████████████████████████████████████████████████████████████████████████| 2052/2052 [01:03<00:00, 32.27it/s]"
     ]
    },
    {
     "name": "stdout",
     "output_type": "stream",
     "text": [
      "Replaced 0 invalid images with augmented versions.\n"
     ]
    },
    {
     "name": "stderr",
     "output_type": "stream",
     "text": [
      "\n"
     ]
    }
   ],
   "source": [
    "def preprocess_unlabeled_images(image_paths):\n",
    "    new_image_paths = []\n",
    "    deleted_count = 0\n",
    "    for path in tqdm(image_paths):\n",
    "        try:\n",
    "            img = Image.open(path).convert(\"RGB\")\n",
    "            img.verify()\n",
    "            new_image_paths.append(path)\n",
    "        except (UnidentifiedImageError, FileNotFoundError, OSError) as e:\n",
    "            logging.info(f\"Image error: {path} ({str(e)})\")\n",
    "            try:\n",
    "                if os.path.exists(path):\n",
    "                    os.remove(path)\n",
    "                    deleted_count += 1\n",
    "                    logging.info(f\"Deleted image: {path}\")\n",
    "            except (PermissionError, OSError) as e:\n",
    "                logging.error(f\"Cannot delete image {path}: {str(e)}\")\n",
    "    print(f\"Deleted {deleted_count} invalid unlabeled images. {len(new_image_paths)} images remain.\")\n",
    "    logging.info(f\"Deleted {deleted_count} unlabeled images. {len(new_image_paths)} images remain.\")\n",
    "    return new_image_paths\n",
    "\n",
    "image_dir = r\"F:/unlabeled_images\"\n",
    "image_paths = []\n",
    "for ext in [\"*.jpg\", \"*.jpeg\", \"*.png\", \"*.bmp\"]:\n",
    "    image_paths.extend(glob.glob(os.path.join(image_dir, \"**\", ext), recursive=True))\n",
    "print(f\"Total unlabeled images before check: {len(image_paths)}\")\n",
    "image_paths = preprocess_unlabeled_images(image_paths)\n",
    "print(f\"Images after check and error removal: {len(image_paths)}\")\n",
    "\n",
    "\n",
    "label_csv_path = r\"F:\\Soil_Labeled_Data\\labels.csv\"\n",
    "fallback_dir = r\"F:\\Soil_Labeled_Data\\augmented_fallback\"\n",
    "os.makedirs(fallback_dir, exist_ok=True)\n",
    "df = pd.read_csv(label_csv_path)\n",
    "print(f\"Total labeled images before check: {len(df)}\")\n",
    "print(\"Sample image paths:\")\n",
    "print(df[\"path\"].head())\n",
    "df = preprocess_images(df)\n",
    "\n",
    "augment = transforms.ColorJitter(brightness=0.2, contrast=0.2)\n",
    "replaced_count = 0\n",
    "print(\"Checking and replacing invalid images...\")\n",
    "for idx, row in tqdm(df.iterrows(), total=len(df)):\n",
    "    path = row[\"path\"]\n",
    "    try:\n",
    "        img = Image.open(path).convert(\"RGB\")\n",
    "        img.verify()\n",
    "    except (UnidentifiedImageError, FileNotFoundError, OSError):\n",
    "        print(f\"Image error: {path}\")\n",
    "        folder = os.path.dirname(path)\n",
    "        all_images = [f for f in os.listdir(folder) if f.lower().endswith((\".jpg\", \".png\"))]\n",
    "        good_images = [f for f in all_images if f != os.path.basename(path)]\n",
    "        if not good_images:\n",
    "            print(f\"No replacement images in: {folder}\")\n",
    "            continue\n",
    "        candidate = random.choice(good_images)\n",
    "        candidate_path = os.path.join(folder, candidate)\n",
    "        try:\n",
    "            img = Image.open(candidate_path).convert(\"RGB\")\n",
    "            img_aug = augment(img)\n",
    "            new_filename = f\"aug_{os.path.basename(path)}\"\n",
    "            new_path = os.path.join(fallback_dir, new_filename)\n",
    "            img_aug.save(new_path)\n",
    "            df.at[idx, \"path\"] = new_path\n",
    "            replaced_count += 1\n",
    "            print(f\"Replaced with: {new_path}\")\n",
    "        except Exception as e:\n",
    "            print(f\"Replacement image error: {candidate_path} ({e})\")\n",
    "print(f\"Replaced {replaced_count} invalid images with augmented versions.\")\n",
    "\n",
    "image_size = 224\n",
    "transform = transforms.Compose([\n",
    "    transforms.RandomResizedCrop(image_size, scale=(0.8, 1.0)),\n",
    "    transforms.RandomHorizontalFlip(p=0.5),\n",
    "    transforms.RandomApply([transforms.ColorJitter(brightness=0.4, contrast=0.4, saturation=0.4, hue=0.1)], p=0.8),\n",
    "    transforms.RandomGrayscale(p=0.2),\n",
    "    transforms.GaussianBlur(kernel_size=3, sigma=(0.1, 2.0)),\n",
    "    transforms.ToTensor(),\n",
    "    transforms.Normalize(mean=[0.485, 0.456, 0.406], std=[0.229, 0.224, 0.225])\n",
    "])\n",
    "\n",
    "labeled_transform = transforms.Compose([\n",
    "    transforms.Resize((image_size, image_size)),\n",
    "    transforms.ToTensor(),\n",
    "    transforms.Normalize(mean=[0.485, 0.456, 0.406], std=[0.229, 0.224, 0.225])\n",
    "])\n",
    "\n",
    "class UnlabeledImageDataset(Dataset):\n",
    "    def __init__(self, image_paths, transform):\n",
    "        self.image_paths = image_paths\n",
    "        self.transform = transform\n",
    "    def __len__(self):\n",
    "        return len(self.image_paths)\n",
    "    def __getitem__(self, idx):\n",
    "        try:\n",
    "            img_path = self.image_paths[idx]\n",
    "            image = Image.open(img_path).convert(\"RGB\")\n",
    "            img1 = self.transform(image)\n",
    "            img2 = self.transform(image)\n",
    "            return img1, img2\n",
    "        except Exception as e:\n",
    "            print(f\"Error reading image {img_path}: {e}\")\n",
    "            logging.error(f\"Error reading image {img_path}: {e}\")\n",
    "            return self.__getitem__((idx + 1) % len(self.image_paths))\n",
    "\n",
    "class LabeledImageDataset(Dataset):\n",
    "    def __init__(self, df, transform):\n",
    "        self.df = df\n",
    "        self.transform = transform\n",
    "    def __len__(self):\n",
    "        return len(self.df)\n",
    "    def __getitem__(self, idx):\n",
    "        row = self.df.iloc[idx]\n",
    "        img_path = row['path']\n",
    "        try:\n",
    "            image = Image.open(img_path).convert(\"RGB\")\n",
    "            img = self.transform(image)\n",
    "        except Exception as e:\n",
    "            print(f\"Error reading image {img_path}: {e}\")\n",
    "            logging.error(f\"Error reading image {img_path}: {e}\")\n",
    "            return self.__getitem__((idx + 1) % len(self.df))\n",
    "        humidity = torch.tensor([row['SM_0'] / 100, row['SM_20'] / 100], dtype=torch.float32)\n",
    "        class_label = torch.tensor(row[\"moisture_class\"], dtype=torch.long)\n",
    "        return img, humidity, class_label\n",
    "\n",
    "\n"
   ]
  },
  {
   "cell_type": "code",
   "execution_count": 4,
   "id": "e4fc52c1-eddc-4bc9-9373-9b9c710f62b1",
   "metadata": {},
   "outputs": [],
   "source": [
    "unlabeled_dataset = UnlabeledImageDataset(image_paths, transform)\n",
    "unlabeled_dataloader = DataLoader(unlabeled_dataset, batch_size=8, shuffle=True, drop_last=True, num_workers=0)\n",
    "labeled_dataset = LabeledImageDataset(df, labeled_transform)\n",
    "labeled_dataloader = DataLoader(labeled_dataset, batch_size=8, shuffle=True, drop_last=True, num_workers=0)"
   ]
  },
  {
   "cell_type": "code",
   "execution_count": 5,
   "id": "32a77d02-f202-4d02-8e4a-2b05da817f82",
   "metadata": {},
   "outputs": [],
   "source": [
    "class SoilNetDualHead(nn.Module):\n",
    "    def __init__(self, num_classes=10, simclr_mode=False):\n",
    "        super().__init__()\n",
    "        self.simclr_mode = simclr_mode\n",
    "        self.initial_conv = nn.Conv2d(3, 32, kernel_size=3, stride=1, padding=1)\n",
    "        self.mnv2_block1 = nn.Sequential(*list(\n",
    "            timm.create_model(\"mobilenetv2_100.ra_in1k\", pretrained=True).blocks.children())[0:3]\n",
    "        )\n",
    "        self.channel_adapter = nn.Conv2d(32, 16, kernel_size=1, bias=False)\n",
    "        self.mobilevit_full = timm.create_model(\"mobilevitv2_050\", pretrained=True)\n",
    "        self.mobilevit_encoder = self.mobilevit_full.stages\n",
    "        self.mvit_to_mnv2 = nn.Conv2d(256, 32, kernel_size=1, bias=False)\n",
    "        self.mnv2_block2 = nn.Sequential(*list(\n",
    "            timm.create_model(\"mobilenetv2_100.ra_in1k\", pretrained=True).blocks.children())[3:7]\n",
    "        )\n",
    "        self.final_conv = nn.Conv2d(320, 1280, kernel_size=1)\n",
    "        self.pool = nn.AdaptiveAvgPool2d((1, 1))\n",
    "        self.light_dense = nn.Sequential(nn.Linear(1, 32), nn.ReLU(inplace=True))\n",
    "        self.reg_head = nn.Sequential(\n",
    "            nn.Linear(1280 + 32, 128),\n",
    "            nn.ReLU(inplace=True),\n",
    "            nn.Linear(128, 2)\n",
    "        )\n",
    "        self.cls_head = nn.Sequential(\n",
    "            nn.Linear(1280 + 32, 128),\n",
    "            nn.ReLU(inplace=True),\n",
    "            nn.Linear(128, num_classes)\n",
    "        )\n",
    "\n",
    "    def forward(self, x_img, x_light=None):\n",
    "        x = self.initial_conv(x_img)\n",
    "        x = self.mnv2_block1(x)\n",
    "        x = self.channel_adapter(x)\n",
    "        x = self.mobilevit_encoder(x)\n",
    "        x = self.mvit_to_mnv2(x)\n",
    "        x = self.mnv2_block2(x)\n",
    "        x = self.final_conv(x)\n",
    "        x = self.pool(x)\n",
    "        x_img_feat = torch.flatten(x, 1)\n",
    "        if self.simclr_mode:\n",
    "            return x_img_feat\n",
    "        x_light_feat = self.light_dense(x_light)\n",
    "        x_concat = torch.cat([x_img_feat, x_light_feat], dim=1)\n",
    "        reg_out = self.reg_head(x_concat)\n",
    "        cls_out = self.cls_head(x_concat)\n",
    "        return reg_out, cls_out\n"
   ]
  },
  {
   "cell_type": "code",
   "execution_count": 6,
   "id": "54a8425c-d9e1-4df7-a303-4e540da0999d",
   "metadata": {},
   "outputs": [
    {
     "name": "stdout",
     "output_type": "stream",
     "text": [
      "Loaded backbone weights from soilnet_pretrained_imageNet.pth (ignoring light_dense, reg_head, cls_head)\n"
     ]
    }
   ],
   "source": [
    "class Projector(nn.Module):\n",
    "    def __init__(self, input_dim=1280, proj_dim=128):\n",
    "        super().__init__()\n",
    "        self.net = nn.Sequential(\n",
    "            nn.Linear(input_dim, input_dim),\n",
    "            nn.ReLU(inplace=True),\n",
    "            nn.Linear(input_dim, proj_dim)\n",
    "        )\n",
    "    def forward(self, x):\n",
    "        return self.net(x)\n",
    "\n",
    "class OnlineLinearRegression(nn.Module):\n",
    "    def __init__(self, input_dim=1280, output_dim=2):\n",
    "        super().__init__()\n",
    "        self.linear = nn.Linear(input_dim, output_dim)\n",
    "    def forward(self, x):\n",
    "        return self.linear(x)\n",
    "\n",
    "class OnlineClassifier(nn.Module):\n",
    "    def __init__(self, input_dim=1280, num_classes=10):\n",
    "        super().__init__()\n",
    "        self.linear = nn.Linear(input_dim, num_classes)\n",
    "    def forward(self, x):\n",
    "        return self.linear(x)\n",
    "\n",
    "def vicreg_loss(z1, z2, lambda_=25.0, mu=25.0, nu=1.0, epsilon=1e-4):\n",
    "    invariance_loss = F.mse_loss(z1, z2)\n",
    "    def variance_term(z):\n",
    "        z_std = torch.sqrt(z.var(dim=0) + epsilon)\n",
    "        return torch.mean(F.relu(1 - z_std))\n",
    "    var_loss = variance_term(z1) + variance_term(z2)\n",
    "    def covariance_term(z):\n",
    "        z = z - z.mean(dim=0)\n",
    "        cov = (z.T @ z) / (z.shape[0] - 1)\n",
    "        off_diag = cov - torch.diag(cov.diag())\n",
    "        return off_diag.pow(2).sum() / z.shape[1]\n",
    "    cov_loss = covariance_term(z1) + covariance_term(z2)\n",
    "    return lambda_ * invariance_loss + mu * var_loss + nu * cov_loss\n",
    "\n",
    "model = SoilNetDualHead(num_classes=10, simclr_mode=True).to(device)\n",
    "checkpoint_path = r\"C:\\Users\\PC\\soilNet\\Model\\Soilnet_pretrained_ImageNet.pth\"\n",
    "try:\n",
    "    state_dict = torch.load(checkpoint_path, map_location=device)\n",
    "    filtered_state_dict = {k: v for k, v in state_dict.items() if not k.startswith(('light_dense', 'reg_head', 'cls_head'))}\n",
    "    model.load_state_dict(filtered_state_dict, strict=False)\n",
    "    print(\"Loaded backbone weights from soilnet_pretrained_imageNet.pth (ignoring light_dense, reg_head, cls_head)\")\n",
    "except FileNotFoundError:\n",
    "    print(\"Checkpoint file not found, starting with random weights\")\n",
    "\n",
    "\n",
    "projector = Projector(input_dim=1280, proj_dim=128).to(device)\n",
    "linear_reg = OnlineLinearRegression(input_dim=1280, output_dim=2).to(device)\n",
    "classifier = OnlineClassifier(input_dim=1280, num_classes=10).to(device)\n",
    "\n",
    "\n",
    "optimizer_vicreg = torch.optim.Adam(list(model.parameters()) + list(projector.parameters()), lr=1e-4)\n",
    "optimizer_linear = torch.optim.Adam(linear_reg.parameters(), lr=1e-3)\n",
    "optimizer_classifier = torch.optim.Adam(classifier.parameters(), lr=1e-3)\n",
    "\n",
    "checkpoint_dir = r\"C:\\Users\\PC\\soilNet\\checkpoints_VicReg_tinyImagenet\"\n",
    "\n",
    "os.makedirs(checkpoint_dir, exist_ok=True)"
   ]
  },
  {
   "cell_type": "code",
   "execution_count": 7,
   "id": "d8a53a6b-0c26-4e41-9a7f-1ec945db99f2",
   "metadata": {},
   "outputs": [],
   "source": [
    "def train_vicreg_with_mu(mu=25.0, num_epochs=50):\n",
    "    vicreg_losses, mse_losses, rmse_losses, mae_losses, accuracy_scores, f1_scores = [], [], [], [], [], []\n",
    "    labeled_iterator = iter(labeled_dataloader)\n",
    "    for epoch in range(1, num_epochs + 1):\n",
    "        model.train()\n",
    "        projector.train()\n",
    "        linear_reg.train()\n",
    "        classifier.train()\n",
    "        running_vicreg_loss = running_mse = running_mae = running_accuracy = running_f1 = 0.0\n",
    "        num_batches = 0\n",
    "        # Gán vòng lặp tqdm vào biến loop\n",
    "        loop = tqdm(unlabeled_dataloader, leave=False)\n",
    "        for img1, img2 in loop:\n",
    "            img1, img2 = img1.to(device), img2.to(device)\n",
    "            feat1 = model(img1, x_light=None)\n",
    "            feat2 = model(img2, x_light=None)\n",
    "            z1 = projector(feat1)\n",
    "            z2 = projector(feat2)\n",
    "            vicreg_loss_val = vicreg_loss(z1, z2, mu=mu)\n",
    "            optimizer_vicreg.zero_grad()\n",
    "            vicreg_loss_val.backward()\n",
    "            optimizer_vicreg.step()\n",
    "            try:\n",
    "                labeled_img, humidity, class_label = next(labeled_iterator)\n",
    "            except StopIteration:\n",
    "                labeled_iterator = iter(labeled_dataloader)\n",
    "                labeled_img, humidity, class_label = next(labeled_iterator)\n",
    "            labeled_img, humidity, class_label = labeled_img.to(device), humidity.to(device), class_label.to(device)\n",
    "            with torch.no_grad():\n",
    "                feat = model(labeled_img, x_light=None)\n",
    "            pred_humidity = linear_reg(feat)\n",
    "            mse_loss = F.mse_loss(pred_humidity, humidity)\n",
    "            optimizer_linear.zero_grad()\n",
    "            mse_loss.backward()\n",
    "            optimizer_linear.step()\n",
    "            pred_logits = classifier(feat)\n",
    "            cls_loss = F.cross_entropy(pred_logits, class_label)\n",
    "            optimizer_classifier.zero_grad()\n",
    "            cls_loss.backward()\n",
    "            optimizer_classifier.step()\n",
    "            pred_humidity_np = pred_humidity.detach().cpu().numpy() * 100\n",
    "            humidity_np = humidity.detach().cpu().numpy() * 100\n",
    "            mse = mean_squared_error(humidity_np, pred_humidity_np)\n",
    "            rmse = np.sqrt(mse)\n",
    "            mae = mean_absolute_error(humidity_np, pred_humidity_np)\n",
    "            pred_classes = torch.argmax(pred_logits, dim=1).detach().cpu().numpy()\n",
    "            true_classes = class_label.detach().cpu().numpy()\n",
    "            accuracy = accuracy_score(true_classes, pred_classes)\n",
    "            f1 = f1_score(true_classes, pred_classes, average='weighted')\n",
    "            running_vicreg_loss += vicreg_loss_val.item()\n",
    "            running_mse += mse\n",
    "            running_mae += mae\n",
    "            running_accuracy += accuracy\n",
    "            running_f1 += f1\n",
    "            num_batches += 1\n",
    "            # Cập nhật tiến trình với loop.set_postfix\n",
    "            loop.set_postfix(vicreg_loss=vicreg_loss_val.item(), mse=mse, rmse=rmse, mae=mae, accuracy=accuracy, f1=f1)\n",
    "        avg_vicreg_loss = running_vicreg_loss / num_batches\n",
    "        avg_mse = running_mse / num_batches\n",
    "        avg_rmse = np.sqrt(avg_mse)\n",
    "        avg_mae = running_mae / num_batches\n",
    "        avg_accuracy = running_accuracy / num_batches\n",
    "        avg_f1 = running_f1 / num_batches\n",
    "        vicreg_losses.append(avg_vicreg_loss)\n",
    "        mse_losses.append(avg_mse)\n",
    "        rmse_losses.append(avg_rmse)\n",
    "        mae_losses.append(avg_mae)\n",
    "        accuracy_scores.append(avg_accuracy)\n",
    "        f1_scores.append(avg_f1)\n",
    "        print(f\"Epoch {epoch:3d}/{num_epochs} (mu={mu}) - VICReg Loss: {avg_vicreg_loss:.4f}, MSE: {avg_mse:.4f}, RMSE: {avg_rmse:.4f}, MAE: {avg_mae:.4f}, Accuracy: {avg_accuracy:.8f}, F1-Score: {avg_f1:.8f}\")\n",
    "        checkpoint = {\n",
    "            'epoch': epoch,\n",
    "            'model_state_dict': model.state_dict(),\n",
    "            'projector_state_dict': projector.state_dict(),\n",
    "            'linear_reg_state_dict': linear_reg.state_dict(),\n",
    "            'classifier_state_dict': classifier.state_dict(),\n",
    "            'vicreg_loss': avg_vicreg_loss,\n",
    "            'mse_loss': avg_mse,\n",
    "            'rmse_loss': avg_rmse,\n",
    "            'mae_loss': avg_mae,\n",
    "            'accuracy': avg_accuracy,\n",
    "            'f1_score': avg_f1\n",
    "        }\n",
    "        checkpoint_path = os.path.join(checkpoint_dir, f'vicreg_mu_{mu}_epoch_{epoch}.pth')\n",
    "        torch.save(checkpoint, checkpoint_path)\n",
    "        print(f\"Saved checkpoint: {checkpoint_path}\")\n",
    "        logging.info(f\"Saved checkpoint: {checkpoint_path}\")\n",
    "    final_model_path = os.path.join(checkpoint_dir, f'vicreg_model_final_mu_{mu}.pth')\n",
    "    final_projector_path = os.path.join(checkpoint_dir, f'vicreg_projector_final_mu_{mu}.pth')\n",
    "    final_linear_reg_path = os.path.join(checkpoint_dir, f'vicreg_linear_reg_final_mu_{mu}.pth')\n",
    "    final_classifier_path = os.path.join(checkpoint_dir, f'vicreg_classifier_final_mu_{mu}.pth')\n",
    "    torch.save(model.state_dict(), final_model_path)\n",
    "    torch.save(projector.state_dict(), final_projector_path)\n",
    "    torch.save(linear_reg.state_dict(), final_linear_reg_path)\n",
    "    torch.save(classifier.state_dict(), final_classifier_path)\n",
    "    print(f\"Saved final models (mu={mu}):\")\n",
    "    print(f\"  - Model: {final_model_path}\")\n",
    "    print(f\"  - Projector: {final_projector_path}\")\n",
    "    print(f\"  - Linear Regression: {final_linear_reg_path}\")\n",
    "    print(f\"  - Classifier: {final_classifier_path}\")\n",
    "    logging.info(f\"Saved final models (mu={mu}): {final_model_path}, {final_projector_path}, {final_linear_reg_path}, {final_classifier_path}\")"
   ]
  },
  {
   "cell_type": "code",
   "execution_count": 8,
   "id": "1bdfddd5-50d3-4ce5-85a3-54c83e48bfa2",
   "metadata": {
    "scrolled": true
   },
   "outputs": [
    {
     "name": "stderr",
     "output_type": "stream",
     "text": [
      "                                                                                                                       "
     ]
    },
    {
     "name": "stdout",
     "output_type": "stream",
     "text": [
      "Epoch   1/60 (mu=27.0) - VICReg Loss: 31.6693, MSE: 2796.8159, RMSE: 52.8849, MAE: 39.5365, Accuracy: 0.20747165, F1-Score: 0.21489088\n",
      "Saved checkpoint: C:\\Users\\PC\\soilNet\\checkpoints_VicReg_tinyImagenet\\vicreg_mu_27.0_epoch_1.pth\n"
     ]
    },
    {
     "name": "stderr",
     "output_type": "stream",
     "text": [
      "                                                                                                                       "
     ]
    },
    {
     "name": "stdout",
     "output_type": "stream",
     "text": [
      "Epoch   2/60 (mu=27.0) - VICReg Loss: 28.3219, MSE: 1200.3526, RMSE: 34.6461, MAE: 27.6061, Accuracy: 0.21747832, F1-Score: 0.22677618\n",
      "Saved checkpoint: C:\\Users\\PC\\soilNet\\checkpoints_VicReg_tinyImagenet\\vicreg_mu_27.0_epoch_2.pth\n"
     ]
    },
    {
     "name": "stderr",
     "output_type": "stream",
     "text": [
      "                                                                                                                       "
     ]
    },
    {
     "name": "stdout",
     "output_type": "stream",
     "text": [
      "Epoch   3/60 (mu=27.0) - VICReg Loss: 27.4537, MSE: 1286.1506, RMSE: 35.8629, MAE: 28.4217, Accuracy: 0.21472648, F1-Score: 0.22421853\n",
      "Saved checkpoint: C:\\Users\\PC\\soilNet\\checkpoints_VicReg_tinyImagenet\\vicreg_mu_27.0_epoch_3.pth\n"
     ]
    },
    {
     "name": "stderr",
     "output_type": "stream",
     "text": [
      "                                                                                                                       "
     ]
    },
    {
     "name": "stdout",
     "output_type": "stream",
     "text": [
      "Epoch   4/60 (mu=27.0) - VICReg Loss: 27.0592, MSE: 1192.3021, RMSE: 34.5297, MAE: 27.6108, Accuracy: 0.22073049, F1-Score: 0.22817672\n",
      "Saved checkpoint: C:\\Users\\PC\\soilNet\\checkpoints_VicReg_tinyImagenet\\vicreg_mu_27.0_epoch_4.pth\n"
     ]
    },
    {
     "name": "stderr",
     "output_type": "stream",
     "text": [
      "                                                                                                                       "
     ]
    },
    {
     "name": "stdout",
     "output_type": "stream",
     "text": [
      "Epoch   5/60 (mu=27.0) - VICReg Loss: 26.8079, MSE: 1220.1135, RMSE: 34.9301, MAE: 27.8191, Accuracy: 0.20146765, F1-Score: 0.20879475\n",
      "Saved checkpoint: C:\\Users\\PC\\soilNet\\checkpoints_VicReg_tinyImagenet\\vicreg_mu_27.0_epoch_5.pth\n"
     ]
    },
    {
     "name": "stderr",
     "output_type": "stream",
     "text": [
      "                                                                                                                       "
     ]
    },
    {
     "name": "stdout",
     "output_type": "stream",
     "text": [
      "Epoch   6/60 (mu=27.0) - VICReg Loss: 26.6608, MSE: 1234.6096, RMSE: 35.1370, MAE: 28.0706, Accuracy: 0.19746498, F1-Score: 0.20404833\n",
      "Saved checkpoint: C:\\Users\\PC\\soilNet\\checkpoints_VicReg_tinyImagenet\\vicreg_mu_27.0_epoch_6.pth\n"
     ]
    },
    {
     "name": "stderr",
     "output_type": "stream",
     "text": [
      "                                                                                                                       "
     ]
    },
    {
     "name": "stdout",
     "output_type": "stream",
     "text": [
      "Epoch   7/60 (mu=27.0) - VICReg Loss: 26.4849, MSE: 1220.9874, RMSE: 34.9426, MAE: 28.0260, Accuracy: 0.21339226, F1-Score: 0.22108429\n",
      "Saved checkpoint: C:\\Users\\PC\\soilNet\\checkpoints_VicReg_tinyImagenet\\vicreg_mu_27.0_epoch_7.pth\n"
     ]
    },
    {
     "name": "stderr",
     "output_type": "stream",
     "text": [
      "                                                                                                                       "
     ]
    },
    {
     "name": "stdout",
     "output_type": "stream",
     "text": [
      "Epoch   8/60 (mu=27.0) - VICReg Loss: 26.3678, MSE: 1202.5990, RMSE: 34.6785, MAE: 27.6940, Accuracy: 0.20838893, F1-Score: 0.21466454\n",
      "Saved checkpoint: C:\\Users\\PC\\soilNet\\checkpoints_VicReg_tinyImagenet\\vicreg_mu_27.0_epoch_8.pth\n"
     ]
    },
    {
     "name": "stderr",
     "output_type": "stream",
     "text": [
      "                                                                                                                       "
     ]
    },
    {
     "name": "stdout",
     "output_type": "stream",
     "text": [
      "Epoch   9/60 (mu=27.0) - VICReg Loss: 26.2695, MSE: 1184.5003, RMSE: 34.4166, MAE: 27.5857, Accuracy: 0.21230821, F1-Score: 0.21940381\n",
      "Saved checkpoint: C:\\Users\\PC\\soilNet\\checkpoints_VicReg_tinyImagenet\\vicreg_mu_27.0_epoch_9.pth\n"
     ]
    },
    {
     "name": "stderr",
     "output_type": "stream",
     "text": [
      "                                                                                                                       "
     ]
    },
    {
     "name": "stdout",
     "output_type": "stream",
     "text": [
      "Epoch  10/60 (mu=27.0) - VICReg Loss: 26.2414, MSE: 1248.3218, RMSE: 35.3316, MAE: 28.3885, Accuracy: 0.19804870, F1-Score: 0.20449228\n",
      "Saved checkpoint: C:\\Users\\PC\\soilNet\\checkpoints_VicReg_tinyImagenet\\vicreg_mu_27.0_epoch_10.pth\n"
     ]
    },
    {
     "name": "stderr",
     "output_type": "stream",
     "text": [
      "                                                                                                                       "
     ]
    },
    {
     "name": "stdout",
     "output_type": "stream",
     "text": [
      "Epoch  11/60 (mu=27.0) - VICReg Loss: 26.1506, MSE: 1171.7125, RMSE: 34.2303, MAE: 27.3975, Accuracy: 0.20163442, F1-Score: 0.20701817\n",
      "Saved checkpoint: C:\\Users\\PC\\soilNet\\checkpoints_VicReg_tinyImagenet\\vicreg_mu_27.0_epoch_11.pth\n"
     ]
    },
    {
     "name": "stderr",
     "output_type": "stream",
     "text": [
      "                                                                                                                       "
     ]
    },
    {
     "name": "stdout",
     "output_type": "stream",
     "text": [
      "Epoch  12/60 (mu=27.0) - VICReg Loss: 26.1658, MSE: 1244.5346, RMSE: 35.2780, MAE: 28.3613, Accuracy: 0.20613742, F1-Score: 0.21198299\n",
      "Saved checkpoint: C:\\Users\\PC\\soilNet\\checkpoints_VicReg_tinyImagenet\\vicreg_mu_27.0_epoch_12.pth\n"
     ]
    },
    {
     "name": "stderr",
     "output_type": "stream",
     "text": [
      "                                                                                                                       "
     ]
    },
    {
     "name": "stdout",
     "output_type": "stream",
     "text": [
      "Epoch  13/60 (mu=27.0) - VICReg Loss: 26.0681, MSE: 1201.3923, RMSE: 34.6611, MAE: 27.6062, Accuracy: 0.20613742, F1-Score: 0.21098192\n",
      "Saved checkpoint: C:\\Users\\PC\\soilNet\\checkpoints_VicReg_tinyImagenet\\vicreg_mu_27.0_epoch_13.pth\n"
     ]
    },
    {
     "name": "stderr",
     "output_type": "stream",
     "text": [
      "                                                                                                                       "
     ]
    },
    {
     "name": "stdout",
     "output_type": "stream",
     "text": [
      "Epoch  14/60 (mu=27.0) - VICReg Loss: 26.0164, MSE: 1211.4929, RMSE: 34.8065, MAE: 27.8280, Accuracy: 0.20396931, F1-Score: 0.20961951\n",
      "Saved checkpoint: C:\\Users\\PC\\soilNet\\checkpoints_VicReg_tinyImagenet\\vicreg_mu_27.0_epoch_14.pth\n"
     ]
    },
    {
     "name": "stderr",
     "output_type": "stream",
     "text": [
      "                                                                                                                       "
     ]
    },
    {
     "name": "stdout",
     "output_type": "stream",
     "text": [
      "Epoch  15/60 (mu=27.0) - VICReg Loss: 25.9185, MSE: 1255.4959, RMSE: 35.4330, MAE: 28.3231, Accuracy: 0.20088392, F1-Score: 0.20574748\n",
      "Saved checkpoint: C:\\Users\\PC\\soilNet\\checkpoints_VicReg_tinyImagenet\\vicreg_mu_27.0_epoch_15.pth\n"
     ]
    },
    {
     "name": "stderr",
     "output_type": "stream",
     "text": [
      "                                                                                                                       "
     ]
    },
    {
     "name": "stdout",
     "output_type": "stream",
     "text": [
      "Epoch  16/60 (mu=27.0) - VICReg Loss: 25.9579, MSE: 1235.9577, RMSE: 35.1562, MAE: 28.2051, Accuracy: 0.20421948, F1-Score: 0.20760070\n",
      "Saved checkpoint: C:\\Users\\PC\\soilNet\\checkpoints_VicReg_tinyImagenet\\vicreg_mu_27.0_epoch_16.pth\n"
     ]
    },
    {
     "name": "stderr",
     "output_type": "stream",
     "text": [
      "                                                                                                                       "
     ]
    },
    {
     "name": "stdout",
     "output_type": "stream",
     "text": [
      "Epoch  17/60 (mu=27.0) - VICReg Loss: 25.8712, MSE: 1254.7786, RMSE: 35.4229, MAE: 28.4054, Accuracy: 0.19804870, F1-Score: 0.20306792\n",
      "Saved checkpoint: C:\\Users\\PC\\soilNet\\checkpoints_VicReg_tinyImagenet\\vicreg_mu_27.0_epoch_17.pth\n"
     ]
    },
    {
     "name": "stderr",
     "output_type": "stream",
     "text": [
      "                                                                                                                       "
     ]
    },
    {
     "name": "stdout",
     "output_type": "stream",
     "text": [
      "Epoch  18/60 (mu=27.0) - VICReg Loss: 25.9064, MSE: 1285.4604, RMSE: 35.8533, MAE: 28.6958, Accuracy: 0.20005003, F1-Score: 0.20569070\n",
      "Saved checkpoint: C:\\Users\\PC\\soilNet\\checkpoints_VicReg_tinyImagenet\\vicreg_mu_27.0_epoch_18.pth\n"
     ]
    },
    {
     "name": "stderr",
     "output_type": "stream",
     "text": [
      "                                                                                                                       "
     ]
    },
    {
     "name": "stdout",
     "output_type": "stream",
     "text": [
      "Epoch  19/60 (mu=27.0) - VICReg Loss: 25.7915, MSE: 1299.0353, RMSE: 36.0421, MAE: 28.9312, Accuracy: 0.19179453, F1-Score: 0.19669978\n",
      "Saved checkpoint: C:\\Users\\PC\\soilNet\\checkpoints_VicReg_tinyImagenet\\vicreg_mu_27.0_epoch_19.pth\n"
     ]
    },
    {
     "name": "stderr",
     "output_type": "stream",
     "text": [
      "                                                                                                                       "
     ]
    },
    {
     "name": "stdout",
     "output_type": "stream",
     "text": [
      "Epoch  20/60 (mu=27.0) - VICReg Loss: 25.8111, MSE: 1258.9160, RMSE: 35.4812, MAE: 28.4670, Accuracy: 0.19279520, F1-Score: 0.19830006\n",
      "Saved checkpoint: C:\\Users\\PC\\soilNet\\checkpoints_VicReg_tinyImagenet\\vicreg_mu_27.0_epoch_20.pth\n"
     ]
    },
    {
     "name": "stderr",
     "output_type": "stream",
     "text": [
      "                                                                                                                       "
     ]
    },
    {
     "name": "stdout",
     "output_type": "stream",
     "text": [
      "Epoch  21/60 (mu=27.0) - VICReg Loss: 25.7358, MSE: 1224.5010, RMSE: 34.9929, MAE: 28.1664, Accuracy: 0.19896598, F1-Score: 0.20468765\n",
      "Saved checkpoint: C:\\Users\\PC\\soilNet\\checkpoints_VicReg_tinyImagenet\\vicreg_mu_27.0_epoch_21.pth\n"
     ]
    },
    {
     "name": "stderr",
     "output_type": "stream",
     "text": [
      "                                                                                                                       "
     ]
    },
    {
     "name": "stdout",
     "output_type": "stream",
     "text": [
      "Epoch  22/60 (mu=27.0) - VICReg Loss: 25.7128, MSE: 1293.0310, RMSE: 35.9587, MAE: 28.8376, Accuracy: 0.19046031, F1-Score: 0.19372399\n",
      "Saved checkpoint: C:\\Users\\PC\\soilNet\\checkpoints_VicReg_tinyImagenet\\vicreg_mu_27.0_epoch_22.pth\n"
     ]
    },
    {
     "name": "stderr",
     "output_type": "stream",
     "text": [
      "                                                                                                                       "
     ]
    },
    {
     "name": "stdout",
     "output_type": "stream",
     "text": [
      "Epoch  23/60 (mu=27.0) - VICReg Loss: 25.7095, MSE: 1265.2283, RMSE: 35.5700, MAE: 28.4762, Accuracy: 0.18979320, F1-Score: 0.19364973\n",
      "Saved checkpoint: C:\\Users\\PC\\soilNet\\checkpoints_VicReg_tinyImagenet\\vicreg_mu_27.0_epoch_23.pth\n"
     ]
    },
    {
     "name": "stderr",
     "output_type": "stream",
     "text": [
      "                                                                                                                       "
     ]
    },
    {
     "name": "stdout",
     "output_type": "stream",
     "text": [
      "Epoch  24/60 (mu=27.0) - VICReg Loss: 25.7103, MSE: 1290.8449, RMSE: 35.9283, MAE: 28.7863, Accuracy: 0.18820881, F1-Score: 0.19443319\n",
      "Saved checkpoint: C:\\Users\\PC\\soilNet\\checkpoints_VicReg_tinyImagenet\\vicreg_mu_27.0_epoch_24.pth\n"
     ]
    },
    {
     "name": "stderr",
     "output_type": "stream",
     "text": [
      "                                                                                                                       "
     ]
    },
    {
     "name": "stdout",
     "output_type": "stream",
     "text": [
      "Epoch  25/60 (mu=27.0) - VICReg Loss: 25.6936, MSE: 1272.9831, RMSE: 35.6789, MAE: 28.6994, Accuracy: 0.19037692, F1-Score: 0.19524405\n",
      "Saved checkpoint: C:\\Users\\PC\\soilNet\\checkpoints_VicReg_tinyImagenet\\vicreg_mu_27.0_epoch_25.pth\n"
     ]
    },
    {
     "name": "stderr",
     "output_type": "stream",
     "text": [
      "                                                                                                                       "
     ]
    },
    {
     "name": "stdout",
     "output_type": "stream",
     "text": [
      "Epoch  26/60 (mu=27.0) - VICReg Loss: 25.6583, MSE: 1289.2485, RMSE: 35.9061, MAE: 28.8498, Accuracy: 0.18979320, F1-Score: 0.19586192\n",
      "Saved checkpoint: C:\\Users\\PC\\soilNet\\checkpoints_VicReg_tinyImagenet\\vicreg_mu_27.0_epoch_26.pth\n"
     ]
    },
    {
     "name": "stderr",
     "output_type": "stream",
     "text": [
      "                                                                                                                       "
     ]
    },
    {
     "name": "stdout",
     "output_type": "stream",
     "text": [
      "Epoch  27/60 (mu=27.0) - VICReg Loss: 25.7028, MSE: 1275.8314, RMSE: 35.7188, MAE: 28.6459, Accuracy: 0.18920947, F1-Score: 0.19231432\n",
      "Saved checkpoint: C:\\Users\\PC\\soilNet\\checkpoints_VicReg_tinyImagenet\\vicreg_mu_27.0_epoch_27.pth\n"
     ]
    },
    {
     "name": "stderr",
     "output_type": "stream",
     "text": [
      "                                                                                                                       "
     ]
    },
    {
     "name": "stdout",
     "output_type": "stream",
     "text": [
      "Epoch  28/60 (mu=27.0) - VICReg Loss: 25.6216, MSE: 1288.9087, RMSE: 35.9014, MAE: 28.7462, Accuracy: 0.18787525, F1-Score: 0.19129976\n",
      "Saved checkpoint: C:\\Users\\PC\\soilNet\\checkpoints_VicReg_tinyImagenet\\vicreg_mu_27.0_epoch_28.pth\n"
     ]
    },
    {
     "name": "stderr",
     "output_type": "stream",
     "text": [
      "                                                                                                                       "
     ]
    },
    {
     "name": "stdout",
     "output_type": "stream",
     "text": [
      "Epoch  29/60 (mu=27.0) - VICReg Loss: 25.6585, MSE: 1277.9186, RMSE: 35.7480, MAE: 28.7412, Accuracy: 0.19212809, F1-Score: 0.19760753\n",
      "Saved checkpoint: C:\\Users\\PC\\soilNet\\checkpoints_VicReg_tinyImagenet\\vicreg_mu_27.0_epoch_29.pth\n"
     ]
    },
    {
     "name": "stderr",
     "output_type": "stream",
     "text": [
      "                                                                                                                       "
     ]
    },
    {
     "name": "stdout",
     "output_type": "stream",
     "text": [
      "Epoch  30/60 (mu=27.0) - VICReg Loss: 25.6098, MSE: 1280.0469, RMSE: 35.7777, MAE: 28.7679, Accuracy: 0.18554036, F1-Score: 0.19008665\n",
      "Saved checkpoint: C:\\Users\\PC\\soilNet\\checkpoints_VicReg_tinyImagenet\\vicreg_mu_27.0_epoch_30.pth\n"
     ]
    },
    {
     "name": "stderr",
     "output_type": "stream",
     "text": [
      "                                                                                                                       "
     ]
    },
    {
     "name": "stdout",
     "output_type": "stream",
     "text": [
      "Epoch  31/60 (mu=27.0) - VICReg Loss: 25.6174, MSE: 1281.5280, RMSE: 35.7984, MAE: 28.8097, Accuracy: 0.18954303, F1-Score: 0.19234629\n",
      "Saved checkpoint: C:\\Users\\PC\\soilNet\\checkpoints_VicReg_tinyImagenet\\vicreg_mu_27.0_epoch_31.pth\n"
     ]
    },
    {
     "name": "stderr",
     "output_type": "stream",
     "text": [
      "                                                                                                                       "
     ]
    },
    {
     "name": "stdout",
     "output_type": "stream",
     "text": [
      "Epoch  32/60 (mu=27.0) - VICReg Loss: 25.5244, MSE: 1300.3501, RMSE: 36.0604, MAE: 29.0198, Accuracy: 0.18370580, F1-Score: 0.18753772\n",
      "Saved checkpoint: C:\\Users\\PC\\soilNet\\checkpoints_VicReg_tinyImagenet\\vicreg_mu_27.0_epoch_32.pth\n"
     ]
    },
    {
     "name": "stderr",
     "output_type": "stream",
     "text": [
      "                                                                                                                       "
     ]
    },
    {
     "name": "stdout",
     "output_type": "stream",
     "text": [
      "Epoch  33/60 (mu=27.0) - VICReg Loss: 25.5797, MSE: 1275.8207, RMSE: 35.7186, MAE: 28.6553, Accuracy: 0.18829219, F1-Score: 0.19229089\n",
      "Saved checkpoint: C:\\Users\\PC\\soilNet\\checkpoints_VicReg_tinyImagenet\\vicreg_mu_27.0_epoch_33.pth\n"
     ]
    },
    {
     "name": "stderr",
     "output_type": "stream",
     "text": [
      "                                                                                                                       "
     ]
    },
    {
     "name": "stdout",
     "output_type": "stream",
     "text": [
      "Epoch  34/60 (mu=27.0) - VICReg Loss: 25.5104, MSE: 1281.4369, RMSE: 35.7972, MAE: 28.7819, Accuracy: 0.18870914, F1-Score: 0.19020776\n",
      "Saved checkpoint: C:\\Users\\PC\\soilNet\\checkpoints_VicReg_tinyImagenet\\vicreg_mu_27.0_epoch_34.pth\n"
     ]
    },
    {
     "name": "stderr",
     "output_type": "stream",
     "text": [
      "                                                                                                                       "
     ]
    },
    {
     "name": "stdout",
     "output_type": "stream",
     "text": [
      "Epoch  35/60 (mu=27.0) - VICReg Loss: 25.5371, MSE: 1292.3864, RMSE: 35.9498, MAE: 28.8859, Accuracy: 0.18487325, F1-Score: 0.18719305\n",
      "Saved checkpoint: C:\\Users\\PC\\soilNet\\checkpoints_VicReg_tinyImagenet\\vicreg_mu_27.0_epoch_35.pth\n"
     ]
    },
    {
     "name": "stderr",
     "output_type": "stream",
     "text": [
      "                                                                                                                       "
     ]
    },
    {
     "name": "stdout",
     "output_type": "stream",
     "text": [
      "Epoch  36/60 (mu=27.0) - VICReg Loss: 25.4830, MSE: 1317.1232, RMSE: 36.2922, MAE: 29.1631, Accuracy: 0.18645764, F1-Score: 0.19047619\n",
      "Saved checkpoint: C:\\Users\\PC\\soilNet\\checkpoints_VicReg_tinyImagenet\\vicreg_mu_27.0_epoch_36.pth\n"
     ]
    },
    {
     "name": "stderr",
     "output_type": "stream",
     "text": [
      "                                                                                                                       "
     ]
    },
    {
     "name": "stdout",
     "output_type": "stream",
     "text": [
      "Epoch  37/60 (mu=27.0) - VICReg Loss: 25.5236, MSE: 1296.6324, RMSE: 36.0088, MAE: 28.8791, Accuracy: 0.18437292, F1-Score: 0.18637504\n",
      "Saved checkpoint: C:\\Users\\PC\\soilNet\\checkpoints_VicReg_tinyImagenet\\vicreg_mu_27.0_epoch_37.pth\n"
     ]
    },
    {
     "name": "stderr",
     "output_type": "stream",
     "text": [
      "                                                                                                                       "
     ]
    },
    {
     "name": "stdout",
     "output_type": "stream",
     "text": [
      "Epoch  38/60 (mu=27.0) - VICReg Loss: 25.4488, MSE: 1271.0679, RMSE: 35.6520, MAE: 28.6869, Accuracy: 0.18453969, F1-Score: 0.18679715\n",
      "Saved checkpoint: C:\\Users\\PC\\soilNet\\checkpoints_VicReg_tinyImagenet\\vicreg_mu_27.0_epoch_38.pth\n"
     ]
    },
    {
     "name": "stderr",
     "output_type": "stream",
     "text": [
      "                                                                                                                       "
     ]
    },
    {
     "name": "stdout",
     "output_type": "stream",
     "text": [
      "Epoch  39/60 (mu=27.0) - VICReg Loss: 25.4466, MSE: 1334.2419, RMSE: 36.5273, MAE: 29.3545, Accuracy: 0.18212141, F1-Score: 0.18486451\n",
      "Saved checkpoint: C:\\Users\\PC\\soilNet\\checkpoints_VicReg_tinyImagenet\\vicreg_mu_27.0_epoch_39.pth\n"
     ]
    },
    {
     "name": "stderr",
     "output_type": "stream",
     "text": [
      "                                                                                                                       "
     ]
    },
    {
     "name": "stdout",
     "output_type": "stream",
     "text": [
      "Epoch  40/60 (mu=27.0) - VICReg Loss: 25.4449, MSE: 1247.4412, RMSE: 35.3191, MAE: 28.4280, Accuracy: 0.18887592, F1-Score: 0.19079075\n",
      "Saved checkpoint: C:\\Users\\PC\\soilNet\\checkpoints_VicReg_tinyImagenet\\vicreg_mu_27.0_epoch_40.pth\n"
     ]
    },
    {
     "name": "stderr",
     "output_type": "stream",
     "text": [
      "                                                                                                                       "
     ]
    },
    {
     "name": "stdout",
     "output_type": "stream",
     "text": [
      "Epoch  41/60 (mu=27.0) - VICReg Loss: 25.4752, MSE: 1306.1693, RMSE: 36.1410, MAE: 29.0674, Accuracy: 0.18520680, F1-Score: 0.18944773\n",
      "Saved checkpoint: C:\\Users\\PC\\soilNet\\checkpoints_VicReg_tinyImagenet\\vicreg_mu_27.0_epoch_41.pth\n"
     ]
    },
    {
     "name": "stderr",
     "output_type": "stream",
     "text": [
      "                                                                                                                       "
     ]
    },
    {
     "name": "stdout",
     "output_type": "stream",
     "text": [
      "Epoch  42/60 (mu=27.0) - VICReg Loss: 25.4681, MSE: 1278.6011, RMSE: 35.7575, MAE: 28.7338, Accuracy: 0.18437292, F1-Score: 0.18610681\n",
      "Saved checkpoint: C:\\Users\\PC\\soilNet\\checkpoints_VicReg_tinyImagenet\\vicreg_mu_27.0_epoch_42.pth\n"
     ]
    },
    {
     "name": "stderr",
     "output_type": "stream",
     "text": [
      "                                                                                                                       "
     ]
    },
    {
     "name": "stdout",
     "output_type": "stream",
     "text": [
      "Epoch  43/60 (mu=27.0) - VICReg Loss: 25.4409, MSE: 1271.5404, RMSE: 35.6587, MAE: 28.8707, Accuracy: 0.18478986, F1-Score: 0.18778392\n",
      "Saved checkpoint: C:\\Users\\PC\\soilNet\\checkpoints_VicReg_tinyImagenet\\vicreg_mu_27.0_epoch_43.pth\n"
     ]
    },
    {
     "name": "stderr",
     "output_type": "stream",
     "text": [
      "                                                                                                                       "
     ]
    },
    {
     "name": "stdout",
     "output_type": "stream",
     "text": [
      "Epoch  44/60 (mu=27.0) - VICReg Loss: 25.4085, MSE: 1293.4762, RMSE: 35.9649, MAE: 28.9666, Accuracy: 0.18604069, F1-Score: 0.18838194\n",
      "Saved checkpoint: C:\\Users\\PC\\soilNet\\checkpoints_VicReg_tinyImagenet\\vicreg_mu_27.0_epoch_44.pth\n"
     ]
    },
    {
     "name": "stderr",
     "output_type": "stream",
     "text": [
      "                                                                                                                       "
     ]
    },
    {
     "name": "stdout",
     "output_type": "stream",
     "text": [
      "Epoch  45/60 (mu=27.0) - VICReg Loss: 25.4367, MSE: 1284.4122, RMSE: 35.8387, MAE: 28.8213, Accuracy: 0.18462308, F1-Score: 0.18908360\n",
      "Saved checkpoint: C:\\Users\\PC\\soilNet\\checkpoints_VicReg_tinyImagenet\\vicreg_mu_27.0_epoch_45.pth\n"
     ]
    },
    {
     "name": "stderr",
     "output_type": "stream",
     "text": [
      "                                                                                                                       "
     ]
    },
    {
     "name": "stdout",
     "output_type": "stream",
     "text": [
      "Epoch  46/60 (mu=27.0) - VICReg Loss: 25.4247, MSE: 1300.1333, RMSE: 36.0574, MAE: 28.9731, Accuracy: 0.17795197, F1-Score: 0.18002491\n",
      "Saved checkpoint: C:\\Users\\PC\\soilNet\\checkpoints_VicReg_tinyImagenet\\vicreg_mu_27.0_epoch_46.pth\n"
     ]
    },
    {
     "name": "stderr",
     "output_type": "stream",
     "text": [
      "                                                                                                                       "
     ]
    },
    {
     "name": "stdout",
     "output_type": "stream",
     "text": [
      "Epoch  47/60 (mu=27.0) - VICReg Loss: 25.4365, MSE: 1300.3596, RMSE: 36.0605, MAE: 29.0508, Accuracy: 0.17536691, F1-Score: 0.17830300\n",
      "Saved checkpoint: C:\\Users\\PC\\soilNet\\checkpoints_VicReg_tinyImagenet\\vicreg_mu_27.0_epoch_47.pth\n"
     ]
    },
    {
     "name": "stderr",
     "output_type": "stream",
     "text": [
      "                                                                                                                       "
     ]
    },
    {
     "name": "stdout",
     "output_type": "stream",
     "text": [
      "Epoch  48/60 (mu=27.0) - VICReg Loss: 25.3980, MSE: 1277.9407, RMSE: 35.7483, MAE: 28.7408, Accuracy: 0.18137091, F1-Score: 0.18262334\n",
      "Saved checkpoint: C:\\Users\\PC\\soilNet\\checkpoints_VicReg_tinyImagenet\\vicreg_mu_27.0_epoch_48.pth\n"
     ]
    },
    {
     "name": "stderr",
     "output_type": "stream",
     "text": [
      "                                                                                                                       "
     ]
    },
    {
     "name": "stdout",
     "output_type": "stream",
     "text": [
      "Epoch  49/60 (mu=27.0) - VICReg Loss: 25.3838, MSE: 1308.8003, RMSE: 36.1773, MAE: 29.1386, Accuracy: 0.18845897, F1-Score: 0.19114290\n",
      "Saved checkpoint: C:\\Users\\PC\\soilNet\\checkpoints_VicReg_tinyImagenet\\vicreg_mu_27.0_epoch_49.pth\n"
     ]
    },
    {
     "name": "stderr",
     "output_type": "stream",
     "text": [
      "                                                                                                                       "
     ]
    },
    {
     "name": "stdout",
     "output_type": "stream",
     "text": [
      "Epoch  50/60 (mu=27.0) - VICReg Loss: 25.3320, MSE: 1317.7378, RMSE: 36.3007, MAE: 29.4101, Accuracy: 0.17253169, F1-Score: 0.17367610\n",
      "Saved checkpoint: C:\\Users\\PC\\soilNet\\checkpoints_VicReg_tinyImagenet\\vicreg_mu_27.0_epoch_50.pth\n"
     ]
    },
    {
     "name": "stderr",
     "output_type": "stream",
     "text": [
      "                                                                                                                       "
     ]
    },
    {
     "name": "stdout",
     "output_type": "stream",
     "text": [
      "Epoch  51/60 (mu=27.0) - VICReg Loss: 25.3800, MSE: 1314.0056, RMSE: 36.2492, MAE: 29.2111, Accuracy: 0.18237158, F1-Score: 0.18488020\n",
      "Saved checkpoint: C:\\Users\\PC\\soilNet\\checkpoints_VicReg_tinyImagenet\\vicreg_mu_27.0_epoch_51.pth\n"
     ]
    },
    {
     "name": "stderr",
     "output_type": "stream",
     "text": [
      "                                                                                                                       "
     ]
    },
    {
     "name": "stdout",
     "output_type": "stream",
     "text": [
      "Epoch  52/60 (mu=27.0) - VICReg Loss: 25.3550, MSE: 1276.1511, RMSE: 35.7233, MAE: 28.8073, Accuracy: 0.18145430, F1-Score: 0.18262512\n",
      "Saved checkpoint: C:\\Users\\PC\\soilNet\\checkpoints_VicReg_tinyImagenet\\vicreg_mu_27.0_epoch_52.pth\n"
     ]
    },
    {
     "name": "stderr",
     "output_type": "stream",
     "text": [
      "                                                                                                                       "
     ]
    },
    {
     "name": "stdout",
     "output_type": "stream",
     "text": [
      "Epoch  53/60 (mu=27.0) - VICReg Loss: 25.3446, MSE: 1272.7455, RMSE: 35.6756, MAE: 28.6868, Accuracy: 0.17953636, F1-Score: 0.17956634\n",
      "Saved checkpoint: C:\\Users\\PC\\soilNet\\checkpoints_VicReg_tinyImagenet\\vicreg_mu_27.0_epoch_53.pth\n"
     ]
    },
    {
     "name": "stderr",
     "output_type": "stream",
     "text": [
      "                                                                                                                       "
     ]
    },
    {
     "name": "stdout",
     "output_type": "stream",
     "text": [
      "Epoch  54/60 (mu=27.0) - VICReg Loss: 25.3355, MSE: 1318.6910, RMSE: 36.3138, MAE: 29.2098, Accuracy: 0.17803536, F1-Score: 0.17890955\n",
      "Saved checkpoint: C:\\Users\\PC\\soilNet\\checkpoints_VicReg_tinyImagenet\\vicreg_mu_27.0_epoch_54.pth\n"
     ]
    },
    {
     "name": "stderr",
     "output_type": "stream",
     "text": [
      "                                                                                                                       "
     ]
    },
    {
     "name": "stdout",
     "output_type": "stream",
     "text": [
      "Epoch  55/60 (mu=27.0) - VICReg Loss: 25.3635, MSE: 1293.2284, RMSE: 35.9615, MAE: 28.9872, Accuracy: 0.18012008, F1-Score: 0.18255702\n",
      "Saved checkpoint: C:\\Users\\PC\\soilNet\\checkpoints_VicReg_tinyImagenet\\vicreg_mu_27.0_epoch_55.pth\n"
     ]
    },
    {
     "name": "stderr",
     "output_type": "stream",
     "text": [
      "                                                                                                                       "
     ]
    },
    {
     "name": "stdout",
     "output_type": "stream",
     "text": [
      "Epoch  56/60 (mu=27.0) - VICReg Loss: 25.2694, MSE: 1301.8539, RMSE: 36.0812, MAE: 29.0388, Accuracy: 0.18437292, F1-Score: 0.18517543\n",
      "Saved checkpoint: C:\\Users\\PC\\soilNet\\checkpoints_VicReg_tinyImagenet\\vicreg_mu_27.0_epoch_56.pth\n"
     ]
    },
    {
     "name": "stderr",
     "output_type": "stream",
     "text": [
      "                                                                                                                       "
     ]
    },
    {
     "name": "stdout",
     "output_type": "stream",
     "text": [
      "Epoch  57/60 (mu=27.0) - VICReg Loss: 25.2982, MSE: 1317.8348, RMSE: 36.3020, MAE: 29.2835, Accuracy: 0.17653436, F1-Score: 0.17932669\n",
      "Saved checkpoint: C:\\Users\\PC\\soilNet\\checkpoints_VicReg_tinyImagenet\\vicreg_mu_27.0_epoch_57.pth\n"
     ]
    },
    {
     "name": "stderr",
     "output_type": "stream",
     "text": [
      "                                                                                                                       "
     ]
    },
    {
     "name": "stdout",
     "output_type": "stream",
     "text": [
      "Epoch  58/60 (mu=27.0) - VICReg Loss: 25.3340, MSE: 1339.5775, RMSE: 36.6002, MAE: 29.3422, Accuracy: 0.17453302, F1-Score: 0.17634733\n",
      "Saved checkpoint: C:\\Users\\PC\\soilNet\\checkpoints_VicReg_tinyImagenet\\vicreg_mu_27.0_epoch_58.pth\n"
     ]
    },
    {
     "name": "stderr",
     "output_type": "stream",
     "text": [
      "                                                                                                                       "
     ]
    },
    {
     "name": "stdout",
     "output_type": "stream",
     "text": [
      "Epoch  59/60 (mu=27.0) - VICReg Loss: 25.3269, MSE: 1316.3258, RMSE: 36.2812, MAE: 29.3048, Accuracy: 0.17169780, F1-Score: 0.17370112\n",
      "Saved checkpoint: C:\\Users\\PC\\soilNet\\checkpoints_VicReg_tinyImagenet\\vicreg_mu_27.0_epoch_59.pth\n"
     ]
    },
    {
     "name": "stderr",
     "output_type": "stream",
     "text": [
      "                                                                                                                       "
     ]
    },
    {
     "name": "stdout",
     "output_type": "stream",
     "text": [
      "Epoch  60/60 (mu=27.0) - VICReg Loss: 25.2721, MSE: 1289.6842, RMSE: 35.9122, MAE: 28.9557, Accuracy: 0.17920280, F1-Score: 0.18083325\n",
      "Saved checkpoint: C:\\Users\\PC\\soilNet\\checkpoints_VicReg_tinyImagenet\\vicreg_mu_27.0_epoch_60.pth\n",
      "Saved final models (mu=27.0):\n",
      "  - Model: C:\\Users\\PC\\soilNet\\checkpoints_VicReg_tinyImagenet\\vicreg_model_final_mu_27.0.pth\n",
      "  - Projector: C:\\Users\\PC\\soilNet\\checkpoints_VicReg_tinyImagenet\\vicreg_projector_final_mu_27.0.pth\n",
      "  - Linear Regression: C:\\Users\\PC\\soilNet\\checkpoints_VicReg_tinyImagenet\\vicreg_linear_reg_final_mu_27.0.pth\n",
      "  - Classifier: C:\\Users\\PC\\soilNet\\checkpoints_VicReg_tinyImagenet\\vicreg_classifier_final_mu_27.0.pth\n"
     ]
    },
    {
     "name": "stderr",
     "output_type": "stream",
     "text": []
    }
   ],
   "source": [
    "for mu_val in [27.0]:\n",
    "    train_vicreg_with_mu(mu=mu_val, num_epochs=60)\n",
    "#for mu_val in [20.0, 23.0, 25.0, 27.0, 30.0, 33.0]:\n"
   ]
  }
 ],
 "metadata": {
  "kernelspec": {
   "display_name": "Python 3 (ipykernel)",
   "language": "python",
   "name": "python3"
  },
  "language_info": {
   "codemirror_mode": {
    "name": "ipython",
    "version": 3
   },
   "file_extension": ".py",
   "mimetype": "text/x-python",
   "name": "python",
   "nbconvert_exporter": "python",
   "pygments_lexer": "ipython3",
   "version": "3.10.16"
  }
 },
 "nbformat": 4,
 "nbformat_minor": 5
}
