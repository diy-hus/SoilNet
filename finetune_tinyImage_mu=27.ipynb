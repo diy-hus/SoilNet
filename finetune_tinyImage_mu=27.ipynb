{
 "cells": [
  {
   "cell_type": "code",
   "execution_count": 1,
   "id": "37ffe4d9-53e0-48ad-b3ab-365e1ba12eb8",
   "metadata": {},
   "outputs": [
    {
     "name": "stdout",
     "output_type": "stream",
     "text": [
      "Using device: cuda\n",
      "PyTorch version: 2.6.0+cu118\n",
      "Total labeled images before check: 2057\n"
     ]
    },
    {
     "data": {
      "application/vnd.jupyter.widget-view+json": {
       "model_id": "db220580b0ec4226bdd28ae36e35ea1b",
       "version_major": 2,
       "version_minor": 0
      },
      "text/plain": [
       "  0%|          | 0/2057 [00:00<?, ?it/s]"
      ]
     },
     "metadata": {},
     "output_type": "display_data"
    },
    {
     "name": "stdout",
     "output_type": "stream",
     "text": [
      "Image error: F:\\Soil_Labeled_Data\\M_10_20\\L_60_70\\alluvial\\IMG_0683.JPG\n",
      "Replaced with: F:\\Soil_Labeled_Data\\augmented_fallback\\aug_IMG_0683.JPG\n",
      "Image error: F:\\Soil_Labeled_Data\\M_10_20\\L_70_80\\alluvial\\IMG_0703.JPG\n",
      "Replaced with: F:\\Soil_Labeled_Data\\augmented_fallback\\aug_IMG_0703.JPG\n",
      "Image error: F:\\Soil_Labeled_Data\\M_10_20\\L_80_90\\alluvial\\IMG_0746.JPG\n",
      "Replaced with: F:\\Soil_Labeled_Data\\augmented_fallback\\aug_IMG_0746.JPG\n",
      "Image error: F:\\Soil_Labeled_Data\\M_10_20\\L_80_90\\alluvial\\IMG_0753.JPG\n",
      "Replaced with: F:\\Soil_Labeled_Data\\augmented_fallback\\aug_IMG_0753.JPG\n",
      "Image error: F:\\Soil_Labeled_Data\\M_10_20\\L_80_90\\alluvial\\IMG_0755.JPG\n",
      "Replaced with: F:\\Soil_Labeled_Data\\augmented_fallback\\aug_IMG_0755.JPG\n",
      "Replaced 5 invalid images with augmented versions.\n",
      "Loaded pretrained weights from C:\\Users\\PC\\soilNet\\checkpoints_VicReg_tinyImagenet\\vicreg_model_final_mu_27.0.pth\n",
      "Epoch 1/60\n"
     ]
    },
    {
     "data": {
      "application/vnd.jupyter.widget-view+json": {
       "model_id": "a488872cf5c042c292e10caf297d916f",
       "version_major": 2,
       "version_minor": 0
      },
      "text/plain": [
       "  0%|          | 0/65 [00:00<?, ?it/s]"
      ]
     },
     "metadata": {},
     "output_type": "display_data"
    },
    {
     "name": "stdout",
     "output_type": "stream",
     "text": [
      "Loss → Total: 2.2695, Regression: 0.0869, Classification: 2.1825\n",
      "SM_0 → RMSE: 22.38445061, MAE: 17.74893188, ME: 2.98026061\n",
      "SM_20 → RMSE: 22.57810675, MAE: 17.82946587, ME: 2.49226069\n",
      "Classification → Accuracy: 0.29703452, F1-score: 0.26486913\n",
      "Epoch 2/60\n"
     ]
    },
    {
     "data": {
      "application/vnd.jupyter.widget-view+json": {
       "model_id": "b51212fe5c684049a105c1715d66d1c9",
       "version_major": 2,
       "version_minor": 0
      },
      "text/plain": [
       "  0%|          | 0/65 [00:00<?, ?it/s]"
      ]
     },
     "metadata": {},
     "output_type": "display_data"
    },
    {
     "name": "stdout",
     "output_type": "stream",
     "text": [
      "Loss → Total: 1.9481, Regression: 0.0479, Classification: 1.9002\n",
      "SM_0 → RMSE: 16.22868099, MAE: 12.55598927, ME: 2.12204456\n",
      "SM_20 → RMSE: 16.27726079, MAE: 12.63007164, ME: -1.01809371\n",
      "Classification → Accuracy: 0.38162372, F1-score: 0.35285997\n",
      "Epoch 3/60\n"
     ]
    },
    {
     "data": {
      "application/vnd.jupyter.widget-view+json": {
       "model_id": "db6d11c8a1b94582a5ce67e949ce584b",
       "version_major": 2,
       "version_minor": 0
      },
      "text/plain": [
       "  0%|          | 0/65 [00:00<?, ?it/s]"
      ]
     },
     "metadata": {},
     "output_type": "display_data"
    },
    {
     "name": "stdout",
     "output_type": "stream",
     "text": [
      "Loss → Total: 1.7114, Regression: 0.0375, Classification: 1.6739\n",
      "SM_0 → RMSE: 15.06505414, MAE: 11.77078438, ME: 3.50496268\n",
      "SM_20 → RMSE: 14.75903819, MAE: 11.45345116, ME: 1.12670887\n",
      "Classification → Accuracy: 0.44336412, F1-score: 0.42010761\n",
      "Epoch 4/60\n"
     ]
    },
    {
     "data": {
      "application/vnd.jupyter.widget-view+json": {
       "model_id": "a6065ced51094b59a8c5b5c1a305bc3c",
       "version_major": 2,
       "version_minor": 0
      },
      "text/plain": [
       "  0%|          | 0/65 [00:00<?, ?it/s]"
      ]
     },
     "metadata": {},
     "output_type": "display_data"
    },
    {
     "name": "stdout",
     "output_type": "stream",
     "text": [
      "Loss → Total: 1.5311, Regression: 0.0292, Classification: 1.5019\n",
      "SM_0 → RMSE: 13.75569229, MAE: 10.78800488, ME: -1.69974577\n",
      "SM_20 → RMSE: 13.91587185, MAE: 11.07604790, ME: -1.29466784\n",
      "Classification → Accuracy: 0.50072922, F1-score: 0.48130007\n",
      "Epoch 5/60\n"
     ]
    },
    {
     "data": {
      "application/vnd.jupyter.widget-view+json": {
       "model_id": "64b349cce6ba4cc29c6676fd940307cd",
       "version_major": 2,
       "version_minor": 0
      },
      "text/plain": [
       "  0%|          | 0/65 [00:00<?, ?it/s]"
      ]
     },
     "metadata": {},
     "output_type": "display_data"
    },
    {
     "name": "stdout",
     "output_type": "stream",
     "text": [
      "Loss → Total: 1.4000, Regression: 0.0265, Classification: 1.3735\n",
      "SM_0 → RMSE: 12.99793931, MAE: 10.19843674, ME: -2.93012571\n",
      "SM_20 → RMSE: 13.39759188, MAE: 10.18927956, ME: -1.21057546\n",
      "Classification → Accuracy: 0.55760817, F1-score: 0.54743282\n",
      "Epoch 6/60\n"
     ]
    },
    {
     "data": {
      "application/vnd.jupyter.widget-view+json": {
       "model_id": "80141f7ad9334dd88d5da3b91df8cdd3",
       "version_major": 2,
       "version_minor": 0
      },
      "text/plain": [
       "  0%|          | 0/65 [00:00<?, ?it/s]"
      ]
     },
     "metadata": {},
     "output_type": "display_data"
    },
    {
     "name": "stdout",
     "output_type": "stream",
     "text": [
      "Loss → Total: 1.3279, Regression: 0.0244, Classification: 1.3034\n",
      "SM_0 → RMSE: 11.50024016, MAE: 8.85082912, ME: -0.99114305\n",
      "SM_20 → RMSE: 11.95327819, MAE: 9.39100170, ME: 0.78270328\n",
      "Classification → Accuracy: 0.61011181, F1-score: 0.60496016\n",
      "Epoch 7/60\n"
     ]
    },
    {
     "data": {
      "application/vnd.jupyter.widget-view+json": {
       "model_id": "2618ece6515b49e895bcea296f0b7c5b",
       "version_major": 2,
       "version_minor": 0
      },
      "text/plain": [
       "  0%|          | 0/65 [00:00<?, ?it/s]"
      ]
     },
     "metadata": {},
     "output_type": "display_data"
    },
    {
     "name": "stdout",
     "output_type": "stream",
     "text": [
      "Loss → Total: 1.2220, Regression: 0.0206, Classification: 1.2014\n",
      "SM_0 → RMSE: 11.18293268, MAE: 8.58813477, ME: 2.84229016\n",
      "SM_20 → RMSE: 11.47356461, MAE: 9.03176785, ME: 2.57636356\n",
      "Classification → Accuracy: 0.60865338, F1-score: 0.60332942\n",
      "Epoch 8/60\n"
     ]
    },
    {
     "data": {
      "application/vnd.jupyter.widget-view+json": {
       "model_id": "4fb55d6b03a048ec814263a86e71294a",
       "version_major": 2,
       "version_minor": 0
      },
      "text/plain": [
       "  0%|          | 0/65 [00:00<?, ?it/s]"
      ]
     },
     "metadata": {},
     "output_type": "display_data"
    },
    {
     "name": "stdout",
     "output_type": "stream",
     "text": [
      "Loss → Total: 1.1424, Regression: 0.0181, Classification: 1.1244\n",
      "SM_0 → RMSE: 10.25415587, MAE: 7.82923985, ME: -2.70571232\n",
      "SM_20 → RMSE: 10.18719108, MAE: 7.85608625, ME: -0.74539047\n",
      "Classification → Accuracy: 0.67087992, F1-score: 0.66564077\n",
      "Epoch 9/60\n"
     ]
    },
    {
     "data": {
      "application/vnd.jupyter.widget-view+json": {
       "model_id": "6b45f6c63d3b42ddae7246cde5b3a50c",
       "version_major": 2,
       "version_minor": 0
      },
      "text/plain": [
       "  0%|          | 0/65 [00:00<?, ?it/s]"
      ]
     },
     "metadata": {},
     "output_type": "display_data"
    },
    {
     "name": "stdout",
     "output_type": "stream",
     "text": [
      "Loss → Total: 1.0597, Regression: 0.0154, Classification: 1.0444\n",
      "SM_0 → RMSE: 11.18730121, MAE: 8.63769341, ME: 2.78973746\n",
      "SM_20 → RMSE: 11.69708740, MAE: 9.01497936, ME: 3.12120628\n",
      "Classification → Accuracy: 0.69907632, F1-score: 0.70466478\n",
      "Epoch 10/60\n"
     ]
    },
    {
     "data": {
      "application/vnd.jupyter.widget-view+json": {
       "model_id": "e6256d8dddb244878aa197e0400621ab",
       "version_major": 2,
       "version_minor": 0
      },
      "text/plain": [
       "  0%|          | 0/65 [00:00<?, ?it/s]"
      ]
     },
     "metadata": {},
     "output_type": "display_data"
    },
    {
     "name": "stdout",
     "output_type": "stream",
     "text": [
      "Loss → Total: 1.0498, Regression: 0.0162, Classification: 1.0336\n",
      "SM_0 → RMSE: 9.47431848, MAE: 7.20137024, ME: 0.72599000\n",
      "SM_20 → RMSE: 9.24728642, MAE: 6.94755507, ME: 0.80636615\n",
      "Classification → Accuracy: 0.70928537, F1-score: 0.71036856\n",
      "Epoch 11/60\n"
     ]
    },
    {
     "data": {
      "application/vnd.jupyter.widget-view+json": {
       "model_id": "d5229fa873484b65870757c7c9e48b23",
       "version_major": 2,
       "version_minor": 0
      },
      "text/plain": [
       "  0%|          | 0/65 [00:00<?, ?it/s]"
      ]
     },
     "metadata": {},
     "output_type": "display_data"
    },
    {
     "name": "stdout",
     "output_type": "stream",
     "text": [
      "Loss → Total: 1.0210, Regression: 0.0160, Classification: 1.0050\n",
      "SM_0 → RMSE: 8.69538225, MAE: 6.58845186, ME: -0.34886822\n",
      "SM_20 → RMSE: 8.89037099, MAE: 6.70927048, ME: -0.93481648\n",
      "Classification → Accuracy: 0.75984443, F1-score: 0.75969924\n",
      "Epoch 12/60\n"
     ]
    },
    {
     "data": {
      "application/vnd.jupyter.widget-view+json": {
       "model_id": "61fd31d5a2d740f6b20e3e3d40cedaf9",
       "version_major": 2,
       "version_minor": 0
      },
      "text/plain": [
       "  0%|          | 0/65 [00:00<?, ?it/s]"
      ]
     },
     "metadata": {},
     "output_type": "display_data"
    },
    {
     "name": "stdout",
     "output_type": "stream",
     "text": [
      "Loss → Total: 0.9595, Regression: 0.0141, Classification: 0.9453\n",
      "SM_0 → RMSE: 9.42016465, MAE: 7.40553331, ME: 0.84116334\n",
      "SM_20 → RMSE: 10.18198325, MAE: 7.90930748, ME: 2.57831669\n",
      "Classification → Accuracy: 0.73602333, F1-score: 0.73558272\n",
      "Epoch 13/60\n"
     ]
    },
    {
     "data": {
      "application/vnd.jupyter.widget-view+json": {
       "model_id": "905914c1a104432a871f474daa754d61",
       "version_major": 2,
       "version_minor": 0
      },
      "text/plain": [
       "  0%|          | 0/65 [00:00<?, ?it/s]"
      ]
     },
     "metadata": {},
     "output_type": "display_data"
    },
    {
     "name": "stdout",
     "output_type": "stream",
     "text": [
      "Loss → Total: 0.9027, Regression: 0.0142, Classification: 0.8885\n",
      "SM_0 → RMSE: 8.64026386, MAE: 6.60876656, ME: 2.68469715\n",
      "SM_20 → RMSE: 10.24713690, MAE: 8.02019119, ME: 4.52832317\n",
      "Classification → Accuracy: 0.75789985, F1-score: 0.75806029\n",
      "Epoch 14/60\n"
     ]
    },
    {
     "data": {
      "application/vnd.jupyter.widget-view+json": {
       "model_id": "5c1d45cf5e21464fac236193b93773de",
       "version_major": 2,
       "version_minor": 0
      },
      "text/plain": [
       "  0%|          | 0/65 [00:00<?, ?it/s]"
      ]
     },
     "metadata": {},
     "output_type": "display_data"
    },
    {
     "name": "stdout",
     "output_type": "stream",
     "text": [
      "Loss → Total: 0.8430, Regression: 0.0126, Classification: 0.8303\n",
      "SM_0 → RMSE: 9.07108968, MAE: 7.02340698, ME: -2.44691300\n",
      "SM_20 → RMSE: 9.00240209, MAE: 7.08262825, ME: -1.35007131\n",
      "Classification → Accuracy: 0.76956733, F1-score: 0.77006374\n",
      "Epoch 15/60\n"
     ]
    },
    {
     "data": {
      "application/vnd.jupyter.widget-view+json": {
       "model_id": "5bd80b91122d4f9d8314e877efae3568",
       "version_major": 2,
       "version_minor": 0
      },
      "text/plain": [
       "  0%|          | 0/65 [00:00<?, ?it/s]"
      ]
     },
     "metadata": {},
     "output_type": "display_data"
    },
    {
     "name": "stdout",
     "output_type": "stream",
     "text": [
      "Loss → Total: 0.8131, Regression: 0.0116, Classification: 0.8016\n",
      "SM_0 → RMSE: 9.00314785, MAE: 7.07826757, ME: -2.45215034\n",
      "SM_20 → RMSE: 8.20281389, MAE: 6.41097927, ME: -2.13462281\n",
      "Classification → Accuracy: 0.81672338, F1-score: 0.81785659\n",
      "Epoch 16/60\n"
     ]
    },
    {
     "data": {
      "application/vnd.jupyter.widget-view+json": {
       "model_id": "2f92e278e3324d51a425ad0ec5bd0c11",
       "version_major": 2,
       "version_minor": 0
      },
      "text/plain": [
       "  0%|          | 0/65 [00:00<?, ?it/s]"
      ]
     },
     "metadata": {},
     "output_type": "display_data"
    },
    {
     "name": "stdout",
     "output_type": "stream",
     "text": [
      "Loss → Total: 0.7885, Regression: 0.0115, Classification: 0.7770\n",
      "SM_0 → RMSE: 8.58838345, MAE: 6.56211615, ME: 3.03052926\n",
      "SM_20 → RMSE: 8.85940428, MAE: 6.96166754, ME: 3.10225701\n",
      "Classification → Accuracy: 0.76373359, F1-score: 0.75973149\n",
      "Epoch 17/60\n"
     ]
    },
    {
     "data": {
      "application/vnd.jupyter.widget-view+json": {
       "model_id": "fecd345ee50043ac8d02742b37082d47",
       "version_major": 2,
       "version_minor": 0
      },
      "text/plain": [
       "  0%|          | 0/65 [00:00<?, ?it/s]"
      ]
     },
     "metadata": {},
     "output_type": "display_data"
    },
    {
     "name": "stdout",
     "output_type": "stream",
     "text": [
      "Loss → Total: 0.7988, Regression: 0.0122, Classification: 0.7866\n",
      "SM_0 → RMSE: 8.02973752, MAE: 6.25236225, ME: 1.09246063\n",
      "SM_20 → RMSE: 8.17021673, MAE: 6.29440260, ME: 1.15145171\n",
      "Classification → Accuracy: 0.79727759, F1-score: 0.79516441\n",
      "Epoch 18/60\n"
     ]
    },
    {
     "data": {
      "application/vnd.jupyter.widget-view+json": {
       "model_id": "b3cf442139a642848f8c74b4774ab29a",
       "version_major": 2,
       "version_minor": 0
      },
      "text/plain": [
       "  0%|          | 0/65 [00:00<?, ?it/s]"
      ]
     },
     "metadata": {},
     "output_type": "display_data"
    },
    {
     "name": "stdout",
     "output_type": "stream",
     "text": [
      "Loss → Total: 0.7738, Regression: 0.0119, Classification: 0.7619\n",
      "SM_0 → RMSE: 7.48048048, MAE: 5.80085802, ME: 0.84515351\n",
      "SM_20 → RMSE: 8.33970607, MAE: 6.52653694, ME: 0.45484537\n",
      "Classification → Accuracy: 0.82061254, F1-score: 0.81942865\n",
      "Epoch 19/60\n"
     ]
    },
    {
     "data": {
      "application/vnd.jupyter.widget-view+json": {
       "model_id": "b7162630955b4604bc8a8128ec4de519",
       "version_major": 2,
       "version_minor": 0
      },
      "text/plain": [
       "  0%|          | 0/65 [00:00<?, ?it/s]"
      ]
     },
     "metadata": {},
     "output_type": "display_data"
    },
    {
     "name": "stdout",
     "output_type": "stream",
     "text": [
      "Loss → Total: 0.7198, Regression: 0.0107, Classification: 0.7091\n",
      "SM_0 → RMSE: 8.03906630, MAE: 6.30434084, ME: -1.78971744\n",
      "SM_20 → RMSE: 8.09925308, MAE: 6.29198122, ME: -0.87520343\n",
      "Classification → Accuracy: 0.83762761, F1-score: 0.83818370\n",
      "Epoch 20/60\n"
     ]
    },
    {
     "data": {
      "application/vnd.jupyter.widget-view+json": {
       "model_id": "a3cb83a641244c35add2bb358b10a616",
       "version_major": 2,
       "version_minor": 0
      },
      "text/plain": [
       "  0%|          | 0/65 [00:00<?, ?it/s]"
      ]
     },
     "metadata": {},
     "output_type": "display_data"
    },
    {
     "name": "stdout",
     "output_type": "stream",
     "text": [
      "Loss → Total: 0.7767, Regression: 0.0108, Classification: 0.7659\n",
      "SM_0 → RMSE: 9.03735652, MAE: 7.19246006, ME: -2.06650209\n",
      "SM_20 → RMSE: 7.90857478, MAE: 6.19955015, ME: -1.49056923\n",
      "Classification → Accuracy: 0.84880895, F1-score: 0.84796932\n",
      "Epoch 21/60\n"
     ]
    },
    {
     "data": {
      "application/vnd.jupyter.widget-view+json": {
       "model_id": "82027e382a7b4d32a903602843d92677",
       "version_major": 2,
       "version_minor": 0
      },
      "text/plain": [
       "  0%|          | 0/65 [00:00<?, ?it/s]"
      ]
     },
     "metadata": {},
     "output_type": "display_data"
    },
    {
     "name": "stdout",
     "output_type": "stream",
     "text": [
      "Loss → Total: 0.6871, Regression: 0.0091, Classification: 0.6780\n",
      "SM_0 → RMSE: 7.62183002, MAE: 6.02093935, ME: -1.33281422\n",
      "SM_20 → RMSE: 7.52668288, MAE: 5.82297659, ME: -0.08425970\n",
      "Classification → Accuracy: 0.85950413, F1-score: 0.85998899\n",
      "Epoch 22/60\n"
     ]
    },
    {
     "data": {
      "application/vnd.jupyter.widget-view+json": {
       "model_id": "3fa9c5a76614411d8e1525074fe7b7c9",
       "version_major": 2,
       "version_minor": 0
      },
      "text/plain": [
       "  0%|          | 0/65 [00:00<?, ?it/s]"
      ]
     },
     "metadata": {},
     "output_type": "display_data"
    },
    {
     "name": "stdout",
     "output_type": "stream",
     "text": [
      "Loss → Total: 0.7183, Regression: 0.0112, Classification: 0.7071\n",
      "SM_0 → RMSE: 7.48612405, MAE: 5.77322674, ME: 1.12442791\n",
      "SM_20 → RMSE: 7.18914352, MAE: 5.54813671, ME: 0.48421723\n",
      "Classification → Accuracy: 0.86631016, F1-score: 0.86624667\n",
      "Epoch 23/60\n"
     ]
    },
    {
     "data": {
      "application/vnd.jupyter.widget-view+json": {
       "model_id": "440d60dc76094a5ca99b6ba6ec4cf114",
       "version_major": 2,
       "version_minor": 0
      },
      "text/plain": [
       "  0%|          | 0/65 [00:00<?, ?it/s]"
      ]
     },
     "metadata": {},
     "output_type": "display_data"
    },
    {
     "name": "stdout",
     "output_type": "stream",
     "text": [
      "Loss → Total: 0.6657, Regression: 0.0101, Classification: 0.6555\n",
      "SM_0 → RMSE: 8.19219417, MAE: 6.47492552, ME: 2.43891430\n",
      "SM_20 → RMSE: 7.70338449, MAE: 6.11419678, ME: 1.79140759\n",
      "Classification → Accuracy: 0.84103063, F1-score: 0.83950340\n",
      "Epoch 24/60\n"
     ]
    },
    {
     "data": {
      "application/vnd.jupyter.widget-view+json": {
       "model_id": "cabafe588d834915846957b3a5cc3f39",
       "version_major": 2,
       "version_minor": 0
      },
      "text/plain": [
       "  0%|          | 0/65 [00:00<?, ?it/s]"
      ]
     },
     "metadata": {},
     "output_type": "display_data"
    },
    {
     "name": "stdout",
     "output_type": "stream",
     "text": [
      "Loss → Total: 0.6474, Regression: 0.0091, Classification: 0.6383\n",
      "SM_0 → RMSE: 7.96724863, MAE: 6.31984234, ME: -1.23906958\n",
      "SM_20 → RMSE: 8.37406620, MAE: 6.64872217, ME: -1.56466460\n",
      "Classification → Accuracy: 0.86728245, F1-score: 0.86827161\n",
      "Epoch 25/60\n"
     ]
    },
    {
     "data": {
      "application/vnd.jupyter.widget-view+json": {
       "model_id": "9c382ffcd4744ddf9285b4939378f6db",
       "version_major": 2,
       "version_minor": 0
      },
      "text/plain": [
       "  0%|          | 0/65 [00:00<?, ?it/s]"
      ]
     },
     "metadata": {},
     "output_type": "display_data"
    },
    {
     "name": "stdout",
     "output_type": "stream",
     "text": [
      "Loss → Total: 0.6339, Regression: 0.0089, Classification: 0.6250\n",
      "SM_0 → RMSE: 6.90386701, MAE: 5.34526730, ME: 0.22490673\n",
      "SM_20 → RMSE: 7.14864855, MAE: 5.60266972, ME: 0.67968082\n",
      "Classification → Accuracy: 0.88138065, F1-score: 0.88181291\n",
      "Epoch 26/60\n"
     ]
    },
    {
     "data": {
      "application/vnd.jupyter.widget-view+json": {
       "model_id": "d9f1f22fb4154babb22f9b04c184e7db",
       "version_major": 2,
       "version_minor": 0
      },
      "text/plain": [
       "  0%|          | 0/65 [00:00<?, ?it/s]"
      ]
     },
     "metadata": {},
     "output_type": "display_data"
    },
    {
     "name": "stdout",
     "output_type": "stream",
     "text": [
      "Loss → Total: 0.5817, Regression: 0.0085, Classification: 0.5732\n",
      "SM_0 → RMSE: 7.39893066, MAE: 5.74126530, ME: 1.30031431\n",
      "SM_20 → RMSE: 7.82493347, MAE: 6.09179831, ME: 1.33826280\n",
      "Classification → Accuracy: 0.87797764, F1-score: 0.87706822\n",
      "Epoch 27/60\n"
     ]
    },
    {
     "data": {
      "application/vnd.jupyter.widget-view+json": {
       "model_id": "2396dbf2044747a98b3a9d9f09afde2e",
       "version_major": 2,
       "version_minor": 0
      },
      "text/plain": [
       "  0%|          | 0/65 [00:00<?, ?it/s]"
      ]
     },
     "metadata": {},
     "output_type": "display_data"
    },
    {
     "name": "stdout",
     "output_type": "stream",
     "text": [
      "Loss → Total: 0.6244, Regression: 0.0100, Classification: 0.6145\n",
      "SM_0 → RMSE: 7.75846376, MAE: 6.15306759, ME: 0.97518480\n",
      "SM_20 → RMSE: 8.00654382, MAE: 6.33540392, ME: 0.15286604\n",
      "Classification → Accuracy: 0.83811376, F1-score: 0.83661718\n",
      "Epoch 28/60\n"
     ]
    },
    {
     "data": {
      "application/vnd.jupyter.widget-view+json": {
       "model_id": "901ca58bf430420ab164cc429c95a706",
       "version_major": 2,
       "version_minor": 0
      },
      "text/plain": [
       "  0%|          | 0/65 [00:00<?, ?it/s]"
      ]
     },
     "metadata": {},
     "output_type": "display_data"
    },
    {
     "name": "stdout",
     "output_type": "stream",
     "text": [
      "Loss → Total: 0.5642, Regression: 0.0087, Classification: 0.5554\n",
      "SM_0 → RMSE: 7.79226603, MAE: 6.10401392, ME: -1.14326632\n",
      "SM_20 → RMSE: 8.23132662, MAE: 6.41546345, ME: -0.46260706\n",
      "Classification → Accuracy: 0.88138065, F1-score: 0.88208441\n",
      "Epoch 29/60\n"
     ]
    },
    {
     "data": {
      "application/vnd.jupyter.widget-view+json": {
       "model_id": "5ac9156c32744df3afc3ad395a1c45bd",
       "version_major": 2,
       "version_minor": 0
      },
      "text/plain": [
       "  0%|          | 0/65 [00:00<?, ?it/s]"
      ]
     },
     "metadata": {},
     "output_type": "display_data"
    },
    {
     "name": "stdout",
     "output_type": "stream",
     "text": [
      "Loss → Total: 0.5914, Regression: 0.0101, Classification: 0.5813\n",
      "SM_0 → RMSE: 6.92796261, MAE: 5.23006582, ME: -0.45449311\n",
      "SM_20 → RMSE: 7.50184354, MAE: 5.74478531, ME: -1.50496590\n",
      "Classification → Accuracy: 0.91492465, F1-score: 0.91486843\n",
      "Epoch 30/60\n"
     ]
    },
    {
     "data": {
      "application/vnd.jupyter.widget-view+json": {
       "model_id": "81ce74ab4419408abff678464371d279",
       "version_major": 2,
       "version_minor": 0
      },
      "text/plain": [
       "  0%|          | 0/65 [00:00<?, ?it/s]"
      ]
     },
     "metadata": {},
     "output_type": "display_data"
    },
    {
     "name": "stdout",
     "output_type": "stream",
     "text": [
      "Loss → Total: 0.5147, Regression: 0.0082, Classification: 0.5065\n",
      "SM_0 → RMSE: 6.64914923, MAE: 5.15106678, ME: -1.05682659\n",
      "SM_20 → RMSE: 6.73976008, MAE: 5.22679472, ME: 0.29931113\n",
      "Classification → Accuracy: 0.91589694, F1-score: 0.91654545\n",
      "Epoch 31/60\n"
     ]
    },
    {
     "data": {
      "application/vnd.jupyter.widget-view+json": {
       "model_id": "7b628a90af06449da97b7552609a9cce",
       "version_major": 2,
       "version_minor": 0
      },
      "text/plain": [
       "  0%|          | 0/65 [00:00<?, ?it/s]"
      ]
     },
     "metadata": {},
     "output_type": "display_data"
    },
    {
     "name": "stdout",
     "output_type": "stream",
     "text": [
      "Loss → Total: 0.5268, Regression: 0.0075, Classification: 0.5194\n",
      "SM_0 → RMSE: 6.62249593, MAE: 5.07546663, ME: 1.15114820\n",
      "SM_20 → RMSE: 6.89370984, MAE: 5.33983803, ME: 1.03387284\n",
      "Classification → Accuracy: 0.91006320, F1-score: 0.90979113\n",
      "Epoch 32/60\n"
     ]
    },
    {
     "data": {
      "application/vnd.jupyter.widget-view+json": {
       "model_id": "3a7d48c745454d84ab93119e03a4f38b",
       "version_major": 2,
       "version_minor": 0
      },
      "text/plain": [
       "  0%|          | 0/65 [00:00<?, ?it/s]"
      ]
     },
     "metadata": {},
     "output_type": "display_data"
    },
    {
     "name": "stdout",
     "output_type": "stream",
     "text": [
      "Loss → Total: 0.5221, Regression: 0.0077, Classification: 0.5144\n",
      "SM_0 → RMSE: 6.84666012, MAE: 5.38009501, ME: 0.50054568\n",
      "SM_20 → RMSE: 6.84683395, MAE: 5.35099077, ME: 0.11229521\n",
      "Classification → Accuracy: 0.90422946, F1-score: 0.90424179\n",
      "Epoch 33/60\n"
     ]
    },
    {
     "data": {
      "application/vnd.jupyter.widget-view+json": {
       "model_id": "c0376801d7d2486f8a4ca51c9c7d8c00",
       "version_major": 2,
       "version_minor": 0
      },
      "text/plain": [
       "  0%|          | 0/65 [00:00<?, ?it/s]"
      ]
     },
     "metadata": {},
     "output_type": "display_data"
    },
    {
     "name": "stdout",
     "output_type": "stream",
     "text": [
      "Loss → Total: 0.5125, Regression: 0.0087, Classification: 0.5038\n",
      "SM_0 → RMSE: 7.30241102, MAE: 5.69904995, ME: 0.83521432\n",
      "SM_20 → RMSE: 7.63281700, MAE: 5.95632458, ME: 1.09679866\n",
      "Classification → Accuracy: 0.91686923, F1-score: 0.91630513\n",
      "Epoch 34/60\n"
     ]
    },
    {
     "data": {
      "application/vnd.jupyter.widget-view+json": {
       "model_id": "11c1dd2fd9224e7380aa94a2c6d7f694",
       "version_major": 2,
       "version_minor": 0
      },
      "text/plain": [
       "  0%|          | 0/65 [00:00<?, ?it/s]"
      ]
     },
     "metadata": {},
     "output_type": "display_data"
    },
    {
     "name": "stdout",
     "output_type": "stream",
     "text": [
      "Loss → Total: 0.4867, Regression: 0.0075, Classification: 0.4791\n",
      "SM_0 → RMSE: 6.21262998, MAE: 4.81183052, ME: -1.44226313\n",
      "SM_20 → RMSE: 6.39978863, MAE: 4.99149704, ME: -1.24420500\n",
      "Classification → Accuracy: 0.91103549, F1-score: 0.91131247\n",
      "Epoch 35/60\n"
     ]
    },
    {
     "data": {
      "application/vnd.jupyter.widget-view+json": {
       "model_id": "455169ed36944365b7d3d80d3c5b749b",
       "version_major": 2,
       "version_minor": 0
      },
      "text/plain": [
       "  0%|          | 0/65 [00:00<?, ?it/s]"
      ]
     },
     "metadata": {},
     "output_type": "display_data"
    },
    {
     "name": "stdout",
     "output_type": "stream",
     "text": [
      "Loss → Total: 0.4860, Regression: 0.0080, Classification: 0.4779\n",
      "SM_0 → RMSE: 8.32598380, MAE: 6.66619205, ME: -3.88007045\n",
      "SM_20 → RMSE: 8.91874979, MAE: 7.21529579, ME: -4.25677204\n",
      "Classification → Accuracy: 0.93048128, F1-score: 0.93082000\n",
      "Epoch 36/60\n"
     ]
    },
    {
     "data": {
      "application/vnd.jupyter.widget-view+json": {
       "model_id": "a6106f783e62465eb25925dd499a3e1d",
       "version_major": 2,
       "version_minor": 0
      },
      "text/plain": [
       "  0%|          | 0/65 [00:00<?, ?it/s]"
      ]
     },
     "metadata": {},
     "output_type": "display_data"
    },
    {
     "name": "stdout",
     "output_type": "stream",
     "text": [
      "Loss → Total: 0.4545, Regression: 0.0076, Classification: 0.4469\n",
      "SM_0 → RMSE: 6.61940140, MAE: 5.19714308, ME: -0.34691131\n",
      "SM_20 → RMSE: 6.90617129, MAE: 5.42929077, ME: -0.17865856\n",
      "Classification → Accuracy: 0.92805056, F1-score: 0.92812159\n",
      "Epoch 37/60\n"
     ]
    },
    {
     "data": {
      "application/vnd.jupyter.widget-view+json": {
       "model_id": "d582a2e8f409466f842a625bde37b63f",
       "version_major": 2,
       "version_minor": 0
      },
      "text/plain": [
       "  0%|          | 0/65 [00:00<?, ?it/s]"
      ]
     },
     "metadata": {},
     "output_type": "display_data"
    },
    {
     "name": "stdout",
     "output_type": "stream",
     "text": [
      "Loss → Total: 0.4837, Regression: 0.0087, Classification: 0.4750\n",
      "SM_0 → RMSE: 6.77795302, MAE: 5.28206635, ME: -1.23420537\n",
      "SM_20 → RMSE: 7.39030962, MAE: 5.85316515, ME: -1.77312875\n",
      "Classification → Accuracy: 0.91881381, F1-score: 0.91914792\n",
      "Epoch 38/60\n"
     ]
    },
    {
     "data": {
      "application/vnd.jupyter.widget-view+json": {
       "model_id": "cdb7bc6e09734381861b42d9f62259a3",
       "version_major": 2,
       "version_minor": 0
      },
      "text/plain": [
       "  0%|          | 0/65 [00:00<?, ?it/s]"
      ]
     },
     "metadata": {},
     "output_type": "display_data"
    },
    {
     "name": "stdout",
     "output_type": "stream",
     "text": [
      "Loss → Total: 0.4366, Regression: 0.0067, Classification: 0.4298\n",
      "SM_0 → RMSE: 6.10768920, MAE: 4.60994101, ME: 1.08805037\n",
      "SM_20 → RMSE: 6.58471726, MAE: 5.08262396, ME: 1.24332047\n",
      "Classification → Accuracy: 0.93631502, F1-score: 0.93630657\n",
      "Epoch 39/60\n"
     ]
    },
    {
     "data": {
      "application/vnd.jupyter.widget-view+json": {
       "model_id": "ba54321934cf4ad6b78f3b77c61878a5",
       "version_major": 2,
       "version_minor": 0
      },
      "text/plain": [
       "  0%|          | 0/65 [00:00<?, ?it/s]"
      ]
     },
     "metadata": {},
     "output_type": "display_data"
    },
    {
     "name": "stdout",
     "output_type": "stream",
     "text": [
      "Loss → Total: 0.4005, Regression: 0.0067, Classification: 0.3939\n",
      "SM_0 → RMSE: 6.18845861, MAE: 4.84470892, ME: -1.61895120\n",
      "SM_20 → RMSE: 6.68172740, MAE: 5.28460836, ME: -2.30541825\n",
      "Classification → Accuracy: 0.93242586, F1-score: 0.93354931\n",
      "Epoch 40/60\n"
     ]
    },
    {
     "data": {
      "application/vnd.jupyter.widget-view+json": {
       "model_id": "4e5c60be2bfd4a718f77b5940334f634",
       "version_major": 2,
       "version_minor": 0
      },
      "text/plain": [
       "  0%|          | 0/65 [00:00<?, ?it/s]"
      ]
     },
     "metadata": {},
     "output_type": "display_data"
    },
    {
     "name": "stdout",
     "output_type": "stream",
     "text": [
      "Loss → Total: 0.4439, Regression: 0.0067, Classification: 0.4372\n",
      "SM_0 → RMSE: 6.61323799, MAE: 5.22133732, ME: -2.33834553\n",
      "SM_20 → RMSE: 6.37513104, MAE: 4.92564726, ME: -1.32365942\n",
      "Classification → Accuracy: 0.92999514, F1-score: 0.93011646\n",
      "Epoch 41/60\n"
     ]
    },
    {
     "data": {
      "application/vnd.jupyter.widget-view+json": {
       "model_id": "1ecd04cc45ea4e2a839a782a007713d8",
       "version_major": 2,
       "version_minor": 0
      },
      "text/plain": [
       "  0%|          | 0/65 [00:00<?, ?it/s]"
      ]
     },
     "metadata": {},
     "output_type": "display_data"
    },
    {
     "name": "stdout",
     "output_type": "stream",
     "text": [
      "Loss → Total: 0.4323, Regression: 0.0070, Classification: 0.4253\n",
      "SM_0 → RMSE: 5.93232453, MAE: 4.49715662, ME: -0.28933594\n",
      "SM_20 → RMSE: 6.01699457, MAE: 4.58299828, ME: 0.16222133\n",
      "Classification → Accuracy: 0.93291201, F1-score: 0.93299466\n",
      "Epoch 42/60\n"
     ]
    },
    {
     "data": {
      "application/vnd.jupyter.widget-view+json": {
       "model_id": "2d4f61f6e23e4def9c6b0d1be210c054",
       "version_major": 2,
       "version_minor": 0
      },
      "text/plain": [
       "  0%|          | 0/65 [00:00<?, ?it/s]"
      ]
     },
     "metadata": {},
     "output_type": "display_data"
    },
    {
     "name": "stdout",
     "output_type": "stream",
     "text": [
      "Loss → Total: 0.4078, Regression: 0.0066, Classification: 0.4011\n",
      "SM_0 → RMSE: 6.78315954, MAE: 5.27955341, ME: -2.98368168\n",
      "SM_20 → RMSE: 7.37886179, MAE: 5.73090649, ME: -2.78175974\n",
      "Classification → Accuracy: 0.93339815, F1-score: 0.93373417\n",
      "Epoch 43/60\n"
     ]
    },
    {
     "data": {
      "application/vnd.jupyter.widget-view+json": {
       "model_id": "43079b8a9a28409cb3a3c1dcd571234a",
       "version_major": 2,
       "version_minor": 0
      },
      "text/plain": [
       "  0%|          | 0/65 [00:00<?, ?it/s]"
      ]
     },
     "metadata": {},
     "output_type": "display_data"
    },
    {
     "name": "stdout",
     "output_type": "stream",
     "text": [
      "Loss → Total: 0.4024, Regression: 0.0070, Classification: 0.3954\n",
      "SM_0 → RMSE: 6.14383837, MAE: 4.67789698, ME: 0.40462604\n",
      "SM_20 → RMSE: 6.46933615, MAE: 5.00960970, ME: -0.48127103\n",
      "Classification → Accuracy: 0.88186680, F1-score: 0.88132970\n",
      "Epoch 44/60\n"
     ]
    },
    {
     "data": {
      "application/vnd.jupyter.widget-view+json": {
       "model_id": "edea3dfd239244d68410f9bc9dbc5ef8",
       "version_major": 2,
       "version_minor": 0
      },
      "text/plain": [
       "  0%|          | 0/65 [00:00<?, ?it/s]"
      ]
     },
     "metadata": {},
     "output_type": "display_data"
    },
    {
     "name": "stdout",
     "output_type": "stream",
     "text": [
      "Loss → Total: 0.3881, Regression: 0.0063, Classification: 0.3818\n",
      "SM_0 → RMSE: 5.66236067, MAE: 4.25961542, ME: -0.38593104\n",
      "SM_20 → RMSE: 6.40451041, MAE: 4.96305227, ME: 0.97136402\n",
      "Classification → Accuracy: 0.93874575, F1-score: 0.93950104\n",
      "Epoch 45/60\n"
     ]
    },
    {
     "data": {
      "application/vnd.jupyter.widget-view+json": {
       "model_id": "8f696985d1274cdbae7fbc84bdb7cc40",
       "version_major": 2,
       "version_minor": 0
      },
      "text/plain": [
       "  0%|          | 0/65 [00:00<?, ?it/s]"
      ]
     },
     "metadata": {},
     "output_type": "display_data"
    },
    {
     "name": "stdout",
     "output_type": "stream",
     "text": [
      "Loss → Total: 0.4070, Regression: 0.0065, Classification: 0.4005\n",
      "SM_0 → RMSE: 6.23865945, MAE: 4.74558544, ME: -1.33785427\n",
      "SM_20 → RMSE: 6.83839576, MAE: 5.22702837, ME: -1.79076862\n",
      "Classification → Accuracy: 0.93242586, F1-score: 0.93253434\n",
      "Epoch 46/60\n"
     ]
    },
    {
     "data": {
      "application/vnd.jupyter.widget-view+json": {
       "model_id": "90624bf18ed24abda4420d9cf259a9ae",
       "version_major": 2,
       "version_minor": 0
      },
      "text/plain": [
       "  0%|          | 0/65 [00:00<?, ?it/s]"
      ]
     },
     "metadata": {},
     "output_type": "display_data"
    },
    {
     "name": "stdout",
     "output_type": "stream",
     "text": [
      "Loss → Total: 0.3809, Regression: 0.0059, Classification: 0.3750\n",
      "SM_0 → RMSE: 5.71113555, MAE: 4.35959244, ME: 0.44016621\n",
      "SM_20 → RMSE: 6.14016901, MAE: 4.72133064, ME: 0.55250955\n",
      "Classification → Accuracy: 0.92707827, F1-score: 0.92720940\n",
      "Epoch 47/60\n"
     ]
    },
    {
     "data": {
      "application/vnd.jupyter.widget-view+json": {
       "model_id": "a66d1ab237c44c93ae0abaec08b0eeee",
       "version_major": 2,
       "version_minor": 0
      },
      "text/plain": [
       "  0%|          | 0/65 [00:00<?, ?it/s]"
      ]
     },
     "metadata": {},
     "output_type": "display_data"
    },
    {
     "name": "stdout",
     "output_type": "stream",
     "text": [
      "Loss → Total: 0.3710, Regression: 0.0064, Classification: 0.3646\n",
      "SM_0 → RMSE: 6.80976659, MAE: 5.21717834, ME: -1.42055833\n",
      "SM_20 → RMSE: 6.72976987, MAE: 5.21375322, ME: -1.37927127\n",
      "Classification → Accuracy: 0.94069033, F1-score: 0.94102436\n",
      "Epoch 48/60\n"
     ]
    },
    {
     "data": {
      "application/vnd.jupyter.widget-view+json": {
       "model_id": "24665006852841298da11033c2db9cf2",
       "version_major": 2,
       "version_minor": 0
      },
      "text/plain": [
       "  0%|          | 0/65 [00:00<?, ?it/s]"
      ]
     },
     "metadata": {},
     "output_type": "display_data"
    },
    {
     "name": "stdout",
     "output_type": "stream",
     "text": [
      "Loss → Total: 0.3796, Regression: 0.0071, Classification: 0.3725\n",
      "SM_0 → RMSE: 7.12045893, MAE: 5.62097216, ME: -1.30305862\n",
      "SM_20 → RMSE: 7.47908588, MAE: 5.94540262, ME: -1.35652673\n",
      "Classification → Accuracy: 0.92756441, F1-score: 0.92837041\n",
      "Epoch 49/60\n"
     ]
    },
    {
     "data": {
      "application/vnd.jupyter.widget-view+json": {
       "model_id": "50fc84010c8646c7955407fe607d3430",
       "version_major": 2,
       "version_minor": 0
      },
      "text/plain": [
       "  0%|          | 0/65 [00:00<?, ?it/s]"
      ]
     },
     "metadata": {},
     "output_type": "display_data"
    },
    {
     "name": "stdout",
     "output_type": "stream",
     "text": [
      "Loss → Total: 0.3878, Regression: 0.0069, Classification: 0.3809\n",
      "SM_0 → RMSE: 6.62297027, MAE: 5.15961742, ME: -0.96054524\n",
      "SM_20 → RMSE: 6.82275682, MAE: 5.38072824, ME: -1.34624982\n",
      "Classification → Accuracy: 0.93777346, F1-score: 0.93781269\n",
      "Epoch 50/60\n"
     ]
    },
    {
     "data": {
      "application/vnd.jupyter.widget-view+json": {
       "model_id": "500b100bc5414d6c9716af9a8654080a",
       "version_major": 2,
       "version_minor": 0
      },
      "text/plain": [
       "  0%|          | 0/65 [00:00<?, ?it/s]"
      ]
     },
     "metadata": {},
     "output_type": "display_data"
    },
    {
     "name": "stdout",
     "output_type": "stream",
     "text": [
      "Loss → Total: 0.3680, Regression: 0.0065, Classification: 0.3615\n",
      "SM_0 → RMSE: 5.95793890, MAE: 4.59100771, ME: -1.09208643\n",
      "SM_20 → RMSE: 6.24184985, MAE: 4.81175661, ME: -1.26899660\n",
      "Classification → Accuracy: 0.94020418, F1-score: 0.94013184\n",
      "Epoch 51/60\n"
     ]
    },
    {
     "data": {
      "application/vnd.jupyter.widget-view+json": {
       "model_id": "17e158e533e64260a2ac92c385363204",
       "version_major": 2,
       "version_minor": 0
      },
      "text/plain": [
       "  0%|          | 0/65 [00:00<?, ?it/s]"
      ]
     },
     "metadata": {},
     "output_type": "display_data"
    },
    {
     "name": "stdout",
     "output_type": "stream",
     "text": [
      "Loss → Total: 0.3714, Regression: 0.0073, Classification: 0.3641\n",
      "SM_0 → RMSE: 5.68563510, MAE: 4.31702089, ME: 0.11650822\n",
      "SM_20 → RMSE: 5.97012329, MAE: 4.62321568, ME: 0.18639940\n",
      "Classification → Accuracy: 0.94409334, F1-score: 0.94442926\n",
      "Epoch 52/60\n"
     ]
    },
    {
     "data": {
      "application/vnd.jupyter.widget-view+json": {
       "model_id": "278696ba167341e6a3a7ab316507fcc2",
       "version_major": 2,
       "version_minor": 0
      },
      "text/plain": [
       "  0%|          | 0/65 [00:00<?, ?it/s]"
      ]
     },
     "metadata": {},
     "output_type": "display_data"
    },
    {
     "name": "stdout",
     "output_type": "stream",
     "text": [
      "Loss → Total: 0.3720, Regression: 0.0067, Classification: 0.3653\n",
      "SM_0 → RMSE: 6.24195711, MAE: 4.84528732, ME: -1.12370205\n",
      "SM_20 → RMSE: 6.50291788, MAE: 5.13225222, ME: -1.00873899\n",
      "Classification → Accuracy: 0.94020418, F1-score: 0.94004766\n",
      "Epoch 53/60\n"
     ]
    },
    {
     "data": {
      "application/vnd.jupyter.widget-view+json": {
       "model_id": "ac46589d848d4487ae8ac664a3025ad3",
       "version_major": 2,
       "version_minor": 0
      },
      "text/plain": [
       "  0%|          | 0/65 [00:00<?, ?it/s]"
      ]
     },
     "metadata": {},
     "output_type": "display_data"
    },
    {
     "name": "stdout",
     "output_type": "stream",
     "text": [
      "Loss → Total: 0.3525, Regression: 0.0066, Classification: 0.3459\n",
      "SM_0 → RMSE: 5.82922942, MAE: 4.49334383, ME: 0.22491114\n",
      "SM_20 → RMSE: 6.07981273, MAE: 4.71580458, ME: 0.27709451\n",
      "Classification → Accuracy: 0.95138551, F1-score: 0.95179703\n",
      "Epoch 54/60\n"
     ]
    },
    {
     "data": {
      "application/vnd.jupyter.widget-view+json": {
       "model_id": "2598edb8c1094df5aceb1e11b7f469ac",
       "version_major": 2,
       "version_minor": 0
      },
      "text/plain": [
       "  0%|          | 0/65 [00:00<?, ?it/s]"
      ]
     },
     "metadata": {},
     "output_type": "display_data"
    },
    {
     "name": "stdout",
     "output_type": "stream",
     "text": [
      "Loss → Total: 0.3641, Regression: 0.0069, Classification: 0.3572\n",
      "SM_0 → RMSE: 6.08461041, MAE: 4.67745733, ME: 0.78070498\n",
      "SM_20 → RMSE: 6.21571590, MAE: 4.79717493, ME: 0.95192134\n",
      "Classification → Accuracy: 0.93631502, F1-score: 0.93718057\n",
      "Epoch 55/60\n"
     ]
    },
    {
     "data": {
      "application/vnd.jupyter.widget-view+json": {
       "model_id": "f3390765363f429ba87282cdd6c3200c",
       "version_major": 2,
       "version_minor": 0
      },
      "text/plain": [
       "  0%|          | 0/65 [00:00<?, ?it/s]"
      ]
     },
     "metadata": {},
     "output_type": "display_data"
    },
    {
     "name": "stdout",
     "output_type": "stream",
     "text": [
      "Loss → Total: 0.3060, Regression: 0.0055, Classification: 0.3005\n",
      "SM_0 → RMSE: 5.83258720, MAE: 4.52850151, ME: 0.67120957\n",
      "SM_20 → RMSE: 6.19718622, MAE: 4.79707146, ME: 0.52001423\n",
      "Classification → Accuracy: 0.95478853, F1-score: 0.95486439\n",
      "Epoch 56/60\n"
     ]
    },
    {
     "data": {
      "application/vnd.jupyter.widget-view+json": {
       "model_id": "c9b5aafa862b436d97f17901ecc86de6",
       "version_major": 2,
       "version_minor": 0
      },
      "text/plain": [
       "  0%|          | 0/65 [00:00<?, ?it/s]"
      ]
     },
     "metadata": {},
     "output_type": "display_data"
    },
    {
     "name": "stdout",
     "output_type": "stream",
     "text": [
      "Loss → Total: 0.3217, Regression: 0.0056, Classification: 0.3161\n",
      "SM_0 → RMSE: 6.29634490, MAE: 4.85630083, ME: -1.88854516\n",
      "SM_20 → RMSE: 6.65224082, MAE: 5.21983051, ME: -1.78572357\n",
      "Classification → Accuracy: 0.94944093, F1-score: 0.94959651\n",
      "Epoch 57/60\n"
     ]
    },
    {
     "data": {
      "application/vnd.jupyter.widget-view+json": {
       "model_id": "f14da56fe5aa4435a8c62ee38b8c8ad8",
       "version_major": 2,
       "version_minor": 0
      },
      "text/plain": [
       "  0%|          | 0/65 [00:00<?, ?it/s]"
      ]
     },
     "metadata": {},
     "output_type": "display_data"
    },
    {
     "name": "stdout",
     "output_type": "stream",
     "text": [
      "Loss → Total: 0.3402, Regression: 0.0061, Classification: 0.3342\n",
      "SM_0 → RMSE: 5.56750623, MAE: 4.24119234, ME: -0.20530559\n",
      "SM_20 → RMSE: 5.93224865, MAE: 4.61611032, ME: -0.77604145\n",
      "Classification → Accuracy: 0.94798250, F1-score: 0.94819660\n",
      "Epoch 58/60\n"
     ]
    },
    {
     "data": {
      "application/vnd.jupyter.widget-view+json": {
       "model_id": "89a9bc7bd9784ab1a569293b4f47e926",
       "version_major": 2,
       "version_minor": 0
      },
      "text/plain": [
       "  0%|          | 0/65 [00:00<?, ?it/s]"
      ]
     },
     "metadata": {},
     "output_type": "display_data"
    },
    {
     "name": "stdout",
     "output_type": "stream",
     "text": [
      "Loss → Total: 0.3242, Regression: 0.0055, Classification: 0.3187\n",
      "SM_0 → RMSE: 5.64806621, MAE: 4.35376072, ME: -1.29237211\n",
      "SM_20 → RMSE: 5.93060545, MAE: 4.53674746, ME: -1.15526485\n",
      "Classification → Accuracy: 0.94020418, F1-score: 0.94087640\n",
      "Epoch 59/60\n"
     ]
    },
    {
     "data": {
      "application/vnd.jupyter.widget-view+json": {
       "model_id": "b3a7a4d9494f44f38724c01d084b9d0d",
       "version_major": 2,
       "version_minor": 0
      },
      "text/plain": [
       "  0%|          | 0/65 [00:00<?, ?it/s]"
      ]
     },
     "metadata": {},
     "output_type": "display_data"
    },
    {
     "name": "stdout",
     "output_type": "stream",
     "text": [
      "Loss → Total: 0.3102, Regression: 0.0054, Classification: 0.3048\n",
      "SM_0 → RMSE: 5.55988070, MAE: 4.20219326, ME: -1.19848573\n",
      "SM_20 → RMSE: 5.95839028, MAE: 4.52816963, ME: -1.39908314\n",
      "Classification → Accuracy: 0.94166262, F1-score: 0.94218263\n",
      "Epoch 60/60\n"
     ]
    },
    {
     "data": {
      "application/vnd.jupyter.widget-view+json": {
       "model_id": "38038b9fab3d4790a8caf34d90f84241",
       "version_major": 2,
       "version_minor": 0
      },
      "text/plain": [
       "  0%|          | 0/65 [00:00<?, ?it/s]"
      ]
     },
     "metadata": {},
     "output_type": "display_data"
    },
    {
     "name": "stdout",
     "output_type": "stream",
     "text": [
      "Loss → Total: 0.3102, Regression: 0.0054, Classification: 0.3048\n",
      "SM_0 → RMSE: 5.81019793, MAE: 4.45780945, ME: -1.58902478\n",
      "SM_20 → RMSE: 5.91791750, MAE: 4.56391239, ME: -0.83580375\n",
      "Classification → Accuracy: 0.92950899, F1-score: 0.92996115\n"
     ]
    }
   ],
   "source": [
    "import torch\n",
    "import torch.nn as nn\n",
    "import pandas as pd\n",
    "import numpy as np\n",
    "from torch.utils.data import Dataset, DataLoader\n",
    "from torchvision import transforms\n",
    "from PIL import Image\n",
    "from sklearn.metrics import mean_squared_error, mean_absolute_error, accuracy_score, f1_score\n",
    "from tqdm.notebook import tqdm\n",
    "import timm\n",
    "import os\n",
    "import random\n",
    "\n",
    "device = torch.device(\"cuda\" if torch.cuda.is_available() else \"cpu\")\n",
    "print(f\"Using device: {device}\")\n",
    "print(f\"PyTorch version: {torch.__version__}\")\n",
    "\n",
    "df = pd.read_csv(r\"F:\\Soil_Labeled_Data\\labels.csv\")\n",
    "print(f\"Total labeled images before check: {len(df)}\")\n",
    "\n",
    "required_columns = ['path', 'SM_0', 'SM_20', 'light_value', 'moisture_class']\n",
    "missing_columns = [col for col in required_columns if col not in df.columns]\n",
    "if missing_columns:\n",
    "    raise ValueError(f\"DataFrame missing columns: {missing_columns}\")\n",
    "\n",
    "fallback_dir = r\"F:\\Soil_Labeled_Data\\augmented_fallback\"\n",
    "os.makedirs(fallback_dir, exist_ok=True)\n",
    "replaced_count = 0\n",
    "augment = transforms.ColorJitter(brightness=0.2, contrast=0.2)\n",
    "\n",
    "for idx, row in tqdm(df.iterrows(), total=len(df)):\n",
    "    path = row[\"path\"]\n",
    "    try:\n",
    "        img = Image.open(path).convert(\"RGB\")\n",
    "        img.verify()\n",
    "    except:\n",
    "        print(f\"Image error: {path}\")\n",
    "        folder = os.path.dirname(path)\n",
    "        all_images = [f for f in os.listdir(folder) if f.lower().endswith((\".jpg\", \".png\"))]\n",
    "        good_images = [f for f in all_images if f != os.path.basename(path)]\n",
    "        if not good_images:\n",
    "            print(f\"No replacement images in: {folder}\")\n",
    "            continue\n",
    "        candidate = random.choice(good_images)\n",
    "        candidate_path = os.path.join(folder, candidate)\n",
    "        try:\n",
    "            img = Image.open(candidate_path).convert(\"RGB\")\n",
    "            img_aug = augment(img)\n",
    "            new_filename = f\"aug_{os.path.basename(path)}\"\n",
    "            new_path = os.path.join(fallback_dir, new_filename)\n",
    "            img_aug.save(new_path)\n",
    "            df.at[idx, \"path\"] = new_path\n",
    "            replaced_count += 1\n",
    "            print(f\"Replaced with: {new_path}\")\n",
    "        except:\n",
    "            print(f\"Replacement image error: {candidate_path}\")\n",
    "            continue\n",
    "print(f\"Replaced {replaced_count} invalid images with augmented versions.\")\n",
    "\n",
    "transform = transforms.Compose([\n",
    "    transforms.Resize((224, 224)),\n",
    "    transforms.ToTensor(),\n",
    "    transforms.Normalize(mean=[0.485, 0.456, 0.406], std=[0.229, 0.224, 0.225])\n",
    "])\n",
    "\n",
    "class SoilDualTaskDataset(Dataset):\n",
    "    def __init__(self, dataframe, transform=None):\n",
    "        self.df = dataframe\n",
    "        self.transform = transform\n",
    "\n",
    "    def __len__(self):\n",
    "        return len(self.df)\n",
    "\n",
    "    def __getitem__(self, idx):\n",
    "        row = self.df.iloc[idx]\n",
    "        img = Image.open(row[\"path\"]).convert(\"RGB\")\n",
    "        if self.transform:\n",
    "            img = self.transform(img)\n",
    "        light = torch.tensor([row[\"light_value\"] / 100.0], dtype=torch.float32)\n",
    "        regression_target = torch.tensor([row[\"SM_0\"] / 100.0, row[\"SM_20\"] / 100.0], dtype=torch.float32)\n",
    "        class_target = torch.tensor(row[\"moisture_class\"], dtype=torch.long)\n",
    "        return {\n",
    "            \"image\": img,\n",
    "            \"light\": light,\n",
    "            \"regression_target\": regression_target,\n",
    "            \"class_target\": class_target\n",
    "        }\n",
    "\n",
    "class SoilNetDualHead(nn.Module):\n",
    "    def __init__(self, num_classes=10):\n",
    "        super().__init__()\n",
    "        self.initial_conv = nn.Conv2d(3, 32, kernel_size=3, stride=1, padding=1)\n",
    "        self.mnv2_block1 = nn.Sequential(*list(\n",
    "            timm.create_model(\"mobilenetv2_100.ra_in1k\", pretrained=True).blocks.children())[0:3]\n",
    "        )\n",
    "        self.channel_adapter = nn.Conv2d(32, 16, kernel_size=1, bias=False)\n",
    "        self.mobilevit_full = timm.create_model(\"mobilevitv2_050\", pretrained=True)\n",
    "        self.mobilevit_encoder = self.mobilevit_full.stages\n",
    "        self.mvit_to_mnv2 = nn.Conv2d(256, 32, kernel_size=1, bias=False)\n",
    "        self.mnv2_block2 = nn.Sequential(*list(\n",
    "            timm.create_model(\"mobilenetv2_100.ra_in1k\", pretrained=True).blocks.children())[3:7]\n",
    "        )\n",
    "        self.final_conv = nn.Conv2d(320, 1280, kernel_size=1)\n",
    "        self.pool = nn.AdaptiveAvgPool2d((1, 1))\n",
    "        self.light_dense = nn.Sequential(nn.Linear(1, 32), nn.ReLU(inplace=True))\n",
    "        self.reg_head = nn.Sequential(\n",
    "            nn.Linear(1280 + 32, 128),\n",
    "            nn.ReLU(inplace=True),\n",
    "            nn.Linear(128, 2)\n",
    "        )\n",
    "        self.cls_head = nn.Sequential(\n",
    "            nn.Linear(1280 + 32, 128),\n",
    "            nn.ReLU(inplace=True),\n",
    "            nn.Linear(128, num_classes)\n",
    "        )\n",
    "\n",
    "    def forward(self, x_img, x_light):\n",
    "        x = self.initial_conv(x_img)\n",
    "        x = self.mnv2_block1(x)\n",
    "        x = self.channel_adapter(x)\n",
    "        x = self.mobilevit_encoder(x)\n",
    "        x = self.mvit_to_mnv2(x)\n",
    "        x = self.mnv2_block2(x)\n",
    "        x = self.final_conv(x)\n",
    "        x = self.pool(x)\n",
    "        x_img_feat = torch.flatten(x, 1)\n",
    "        x_light_feat = self.light_dense(x_light)\n",
    "        x_concat = torch.cat([x_img_feat, x_light_feat], dim=1)\n",
    "        reg_out = self.reg_head(x_concat)\n",
    "        cls_out = self.cls_head(x_concat)\n",
    "        return reg_out, cls_out\n",
    "\n",
    "dataset = SoilDualTaskDataset(df, transform)\n",
    "dataloader = DataLoader(dataset, batch_size=32, shuffle=True, pin_memory=True if device.type == \"cuda\" else False, num_workers=0)\n",
    "\n",
    "num_classes = len(df[\"moisture_class\"].unique())\n",
    "model = SoilNetDualHead(num_classes=num_classes).to(device)\n",
    "\n",
    "checkpoint_path = r\"C:\\Users\\PC\\soilNet\\checkpoints_VicReg_tinyImagenet\\vicreg_model_final_mu_27.0.pth\"\n",
    "try:\n",
    "    checkpoint = torch.load(checkpoint_path, map_location=device, weights_only=False)\n",
    "    if isinstance(checkpoint, dict) and 'model_state_dict' in checkpoint:\n",
    "        model_state_dict = checkpoint['model_state_dict']\n",
    "    else:\n",
    "        model_state_dict = checkpoint\n",
    "    model_dict = model.state_dict()\n",
    "    pretrained_dict = {k: v for k, v in model_state_dict.items() \n",
    "                       if k in model_dict and model_dict[k].shape == v.shape}\n",
    "    temp_model_dict = model_dict.copy()\n",
    "    temp_model_dict.update(pretrained_dict)\n",
    "    missing_keys, unexpected_keys = model.load_state_dict(temp_model_dict, strict=False)\n",
    "    print(f\"Loaded pretrained weights from {checkpoint_path}\")\n",
    "    if missing_keys:\n",
    "        print(f\"Some keys missing in checkpoint and not loaded: {missing_keys}\")\n",
    "    if unexpected_keys:\n",
    "        print(f\"Some keys in checkpoint not in model and ignored: {unexpected_keys}\")\n",
    "except FileNotFoundError:\n",
    "    print(f\"Checkpoint not found: {checkpoint_path}. Using random initialization.\")\n",
    "except Exception as e:\n",
    "    print(f\"Error loading checkpoint: {e}. Using random initialization.\")\n",
    "\n",
    "optimizer = torch.optim.Adam(model.parameters(), lr=1e-4)\n",
    "reg_criterion = nn.MSELoss()\n",
    "cls_criterion = nn.CrossEntropyLoss()\n",
    "\n",
    "num_epochs = 60\n",
    "loss_history = []\n",
    "\n",
    "for epoch in range(num_epochs):\n",
    "    print(f\"Epoch {epoch+1}/{num_epochs}\")\n",
    "    model.train()\n",
    "    total_loss, total_reg_loss, total_cls_loss = 0, 0, 0\n",
    "    for batch in tqdm(dataloader, leave=False):\n",
    "        x_img = batch[\"image\"].to(device)\n",
    "        x_light = batch[\"light\"].to(device)\n",
    "        y_reg = batch[\"regression_target\"].to(device)\n",
    "        y_cls = batch[\"class_target\"].to(device)\n",
    "        optimizer.zero_grad()\n",
    "        pred_reg, pred_cls = model(x_img, x_light)\n",
    "        loss_reg = reg_criterion(pred_reg, y_reg)\n",
    "        loss_cls = cls_criterion(pred_cls, y_cls)\n",
    "        loss = loss_reg + loss_cls\n",
    "        loss.backward()\n",
    "        optimizer.step()\n",
    "        total_loss += loss.item()\n",
    "        total_reg_loss += loss_reg.item()\n",
    "        total_cls_loss += loss_cls.item()\n",
    "    avg_total = total_loss / len(dataloader)\n",
    "    loss_history.append((avg_total, total_reg_loss / len(dataloader), total_cls_loss / len(dataloader)))\n",
    "    print(f\"Loss → Total: {avg_total:.4f}, Regression: {total_reg_loss / len(dataloader):.4f}, Classification: {total_cls_loss / len(dataloader):.4f}\")\n",
    "    model.eval()\n",
    "    y_true_reg, y_pred_reg = [], []\n",
    "    y_true_cls, y_pred_cls = [], []\n",
    "    with torch.no_grad():\n",
    "        for batch in dataloader:\n",
    "            x_img = batch[\"image\"].to(device)\n",
    "            x_light = batch[\"light\"].to(device)\n",
    "            y_reg = batch[\"regression_target\"].to(device)\n",
    "            y_cls = batch[\"class_target\"].to(device)\n",
    "            pred_reg, pred_cls = model(x_img, x_light)\n",
    "            y_true_reg.extend(y_reg.cpu().numpy())\n",
    "            y_pred_reg.extend(pred_reg.cpu().numpy())\n",
    "            y_true_cls.extend(y_cls.cpu().numpy())\n",
    "            y_pred_cls.extend(pred_cls.argmax(dim=1).cpu().numpy())\n",
    "    y_true_reg = np.array(y_true_reg) * 100\n",
    "    y_pred_reg = np.array(y_pred_reg) * 100\n",
    "    metrics = {}\n",
    "    for i, label in enumerate([\"SM_0\", \"SM_20\"]):\n",
    "        metrics[label] = {\n",
    "            \"RMSE\": mean_squared_error(y_true_reg[:, i], y_pred_reg[:, i]) ** 0.5,\n",
    "            \"MAE\": mean_absolute_error(y_true_reg[:, i], y_pred_reg[:, i]),\n",
    "            \"ME\": np.mean(y_pred_reg[:, i] - y_true_reg[:, i]),\n",
    "        }\n",
    "    metrics[\"Classification\"] = {\n",
    "        \"Accuracy\": accuracy_score(y_true_cls, y_pred_cls),\n",
    "        \"F1-score\": f1_score(y_true_cls, y_pred_cls, average=\"weighted\")\n",
    "    }\n",
    "    for label in [\"SM_0\", \"SM_20\"]:\n",
    "        print(f\"{label} → RMSE: {metrics[label]['RMSE']:.8f}, MAE: {metrics[label]['MAE']:.8f}, ME: {metrics[label]['ME']:.8f}\")\n",
    "    print(f\"Classification → Accuracy: {metrics['Classification']['Accuracy']:.8f}, F1-score: {metrics['Classification']['F1-score']:.8f}\")\n",
    "\n",
    "torch.save(model.state_dict(), r\"C:\\Users\\PC\\soilNet\\checkpoints_VicReg_tinyImagenet\\vicreg_model_final_tinyImageNet_mu_27.0.pth\")"
   ]
  }
 ],
 "metadata": {
  "kernelspec": {
   "display_name": "Python 3 (ipykernel)",
   "language": "python",
   "name": "python3"
  },
  "language_info": {
   "codemirror_mode": {
    "name": "ipython",
    "version": 3
   },
   "file_extension": ".py",
   "mimetype": "text/x-python",
   "name": "python",
   "nbconvert_exporter": "python",
   "pygments_lexer": "ipython3",
   "version": "3.10.16"
  }
 },
 "nbformat": 4,
 "nbformat_minor": 5
}
