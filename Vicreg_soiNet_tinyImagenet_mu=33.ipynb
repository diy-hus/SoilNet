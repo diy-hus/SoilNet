{
 "cells": [
  {
   "cell_type": "code",
   "execution_count": 1,
   "id": "0596ce92-98d1-499d-9204-7ad71a132d13",
   "metadata": {},
   "outputs": [
    {
     "name": "stdout",
     "output_type": "stream",
     "text": [
      "PyTorch version: 2.6.0+cu118\n",
      "CUDA is available: True\n"
     ]
    }
   ],
   "source": [
    "import torch\n",
    "import torch.nn as nn\n",
    "import torch.nn.functional as F\n",
    "import timm\n",
    "import pandas as pd\n",
    "import numpy as np\n",
    "from PIL import Image, UnidentifiedImageError\n",
    "import os\n",
    "import glob\n",
    "import random\n",
    "from torchvision import transforms\n",
    "from torch.utils.data import Dataset, DataLoader\n",
    "from tqdm import tqdm\n",
    "from sklearn.metrics import mean_squared_error, mean_absolute_error, accuracy_score, f1_score\n",
    "import logging\n",
    "\n",
    "device = torch.device('cuda' if torch.cuda.is_available() else 'cpu')\n",
    "print(\"PyTorch version:\", torch.__version__)\n",
    "print(\"CUDA is available:\", torch.cuda.is_available())\n"
   ]
  },
  {
   "cell_type": "code",
   "execution_count": 2,
   "id": "966ef7e8-05d4-43fa-981d-6079476f01a4",
   "metadata": {},
   "outputs": [],
   "source": [
    "def preprocess_images(df):\n",
    "    new_df = df.copy()\n",
    "    deleted_count = 0\n",
    "    valid_indices = []\n",
    "    for idx, row in tqdm(new_df.iterrows(), total=len(new_df)):\n",
    "        path = row[\"path\"]\n",
    "        try:\n",
    "            img = Image.open(path).convert(\"RGB\")\n",
    "            img.verify()\n",
    "            valid_indices.append(idx)\n",
    "        except (UnidentifiedImageError, FileNotFoundError, OSError) as e:\n",
    "            logging.info(f\"Image error: {path} ({str(e)})\")\n",
    "            try:\n",
    "                if os.path.exists(path):\n",
    "                    os.remove(path)\n",
    "                    deleted_count += 1\n",
    "                    logging.info(f\"Deleted image: {path}\")\n",
    "            except (PermissionError, OSError) as e:\n",
    "                logging.error(f\"Cannot delete image {path}: {str(e)}\")\n",
    "    new_df = new_df.loc[valid_indices].reset_index(drop=True)\n",
    "    print(f\"Deleted {deleted_count} invalid labeled images. {len(new_df)} images remain.\")\n",
    "    logging.info(f\"Deleted {deleted_count} labeled images. {len(new_df)} images remain.\")\n",
    "    return new_df"
   ]
  },
  {
   "cell_type": "code",
   "execution_count": 3,
   "id": "a58ccc4c-3d30-4b46-b0e4-e3286cad4d0b",
   "metadata": {},
   "outputs": [
    {
     "name": "stdout",
     "output_type": "stream",
     "text": [
      "Total unlabeled images before check: 11995\n"
     ]
    },
    {
     "name": "stderr",
     "output_type": "stream",
     "text": [
      "100%|████████████████████████████████████████████████████████████████████████████| 11995/11995 [02:33<00:00, 78.01it/s]\n"
     ]
    },
    {
     "name": "stdout",
     "output_type": "stream",
     "text": [
      "Deleted 0 invalid unlabeled images. 11995 images remain.\n",
      "Images after check and error removal: 11995\n",
      "Total labeled images before check: 2057\n",
      "Sample image paths:\n",
      "0    F:\\Soil_Labeled_Data\\M_0_10\\L_0_10\\alluvial\\z5...\n",
      "1    F:\\Soil_Labeled_Data\\M_0_10\\L_0_10\\alluvial\\z5...\n",
      "2    F:\\Soil_Labeled_Data\\M_0_10\\L_0_10\\alluvial\\z5...\n",
      "3    F:\\Soil_Labeled_Data\\M_0_10\\L_0_10\\alluvial\\z5...\n",
      "4    F:\\Soil_Labeled_Data\\M_0_10\\L_0_10\\alluvial\\z5...\n",
      "Name: path, dtype: object\n"
     ]
    },
    {
     "name": "stderr",
     "output_type": "stream",
     "text": [
      "100%|██████████████████████████████████████████████████████████████████████████████| 2057/2057 [01:23<00:00, 24.72it/s]\n"
     ]
    },
    {
     "name": "stdout",
     "output_type": "stream",
     "text": [
      "Deleted 0 invalid labeled images. 2052 images remain.\n",
      "Checking and replacing invalid images...\n"
     ]
    },
    {
     "name": "stderr",
     "output_type": "stream",
     "text": [
      "100%|██████████████████████████████████████████████████████████████████████████████| 2052/2052 [01:06<00:00, 30.78it/s]"
     ]
    },
    {
     "name": "stdout",
     "output_type": "stream",
     "text": [
      "Replaced 0 invalid images with augmented versions.\n"
     ]
    },
    {
     "name": "stderr",
     "output_type": "stream",
     "text": [
      "\n"
     ]
    }
   ],
   "source": [
    "def preprocess_unlabeled_images(image_paths):\n",
    "    new_image_paths = []\n",
    "    deleted_count = 0\n",
    "    for path in tqdm(image_paths):\n",
    "        try:\n",
    "            img = Image.open(path).convert(\"RGB\")\n",
    "            img.verify()\n",
    "            new_image_paths.append(path)\n",
    "        except (UnidentifiedImageError, FileNotFoundError, OSError) as e:\n",
    "            logging.info(f\"Image error: {path} ({str(e)})\")\n",
    "            try:\n",
    "                if os.path.exists(path):\n",
    "                    os.remove(path)\n",
    "                    deleted_count += 1\n",
    "                    logging.info(f\"Deleted image: {path}\")\n",
    "            except (PermissionError, OSError) as e:\n",
    "                logging.error(f\"Cannot delete image {path}: {str(e)}\")\n",
    "    print(f\"Deleted {deleted_count} invalid unlabeled images. {len(new_image_paths)} images remain.\")\n",
    "    logging.info(f\"Deleted {deleted_count} unlabeled images. {len(new_image_paths)} images remain.\")\n",
    "    return new_image_paths\n",
    "\n",
    "image_dir = r\"F:/unlabeled_images\"\n",
    "image_paths = []\n",
    "for ext in [\"*.jpg\", \"*.jpeg\", \"*.png\", \"*.bmp\"]:\n",
    "    image_paths.extend(glob.glob(os.path.join(image_dir, \"**\", ext), recursive=True))\n",
    "print(f\"Total unlabeled images before check: {len(image_paths)}\")\n",
    "image_paths = preprocess_unlabeled_images(image_paths)\n",
    "print(f\"Images after check and error removal: {len(image_paths)}\")\n",
    "\n",
    "\n",
    "label_csv_path = r\"F:\\Soil_Labeled_Data\\labels.csv\"\n",
    "fallback_dir = r\"F:\\Soil_Labeled_Data\\augmented_fallback\"\n",
    "os.makedirs(fallback_dir, exist_ok=True)\n",
    "df = pd.read_csv(label_csv_path)\n",
    "print(f\"Total labeled images before check: {len(df)}\")\n",
    "print(\"Sample image paths:\")\n",
    "print(df[\"path\"].head())\n",
    "df = preprocess_images(df)\n",
    "\n",
    "augment = transforms.ColorJitter(brightness=0.2, contrast=0.2)\n",
    "replaced_count = 0\n",
    "print(\"Checking and replacing invalid images...\")\n",
    "for idx, row in tqdm(df.iterrows(), total=len(df)):\n",
    "    path = row[\"path\"]\n",
    "    try:\n",
    "        img = Image.open(path).convert(\"RGB\")\n",
    "        img.verify()\n",
    "    except (UnidentifiedImageError, FileNotFoundError, OSError):\n",
    "        print(f\"Image error: {path}\")\n",
    "        folder = os.path.dirname(path)\n",
    "        all_images = [f for f in os.listdir(folder) if f.lower().endswith((\".jpg\", \".png\"))]\n",
    "        good_images = [f for f in all_images if f != os.path.basename(path)]\n",
    "        if not good_images:\n",
    "            print(f\"No replacement images in: {folder}\")\n",
    "            continue\n",
    "        candidate = random.choice(good_images)\n",
    "        candidate_path = os.path.join(folder, candidate)\n",
    "        try:\n",
    "            img = Image.open(candidate_path).convert(\"RGB\")\n",
    "            img_aug = augment(img)\n",
    "            new_filename = f\"aug_{os.path.basename(path)}\"\n",
    "            new_path = os.path.join(fallback_dir, new_filename)\n",
    "            img_aug.save(new_path)\n",
    "            df.at[idx, \"path\"] = new_path\n",
    "            replaced_count += 1\n",
    "            print(f\"Replaced with: {new_path}\")\n",
    "        except Exception as e:\n",
    "            print(f\"Replacement image error: {candidate_path} ({e})\")\n",
    "print(f\"Replaced {replaced_count} invalid images with augmented versions.\")\n",
    "\n",
    "image_size = 224\n",
    "transform = transforms.Compose([\n",
    "    transforms.RandomResizedCrop(image_size, scale=(0.8, 1.0)),\n",
    "    transforms.RandomHorizontalFlip(p=0.5),\n",
    "    transforms.RandomApply([transforms.ColorJitter(brightness=0.4, contrast=0.4, saturation=0.4, hue=0.1)], p=0.8),\n",
    "    transforms.RandomGrayscale(p=0.2),\n",
    "    transforms.GaussianBlur(kernel_size=3, sigma=(0.1, 2.0)),\n",
    "    transforms.ToTensor(),\n",
    "    transforms.Normalize(mean=[0.485, 0.456, 0.406], std=[0.229, 0.224, 0.225])\n",
    "])\n",
    "\n",
    "labeled_transform = transforms.Compose([\n",
    "    transforms.Resize((image_size, image_size)),\n",
    "    transforms.ToTensor(),\n",
    "    transforms.Normalize(mean=[0.485, 0.456, 0.406], std=[0.229, 0.224, 0.225])\n",
    "])\n",
    "\n",
    "class UnlabeledImageDataset(Dataset):\n",
    "    def __init__(self, image_paths, transform):\n",
    "        self.image_paths = image_paths\n",
    "        self.transform = transform\n",
    "    def __len__(self):\n",
    "        return len(self.image_paths)\n",
    "    def __getitem__(self, idx):\n",
    "        try:\n",
    "            img_path = self.image_paths[idx]\n",
    "            image = Image.open(img_path).convert(\"RGB\")\n",
    "            img1 = self.transform(image)\n",
    "            img2 = self.transform(image)\n",
    "            return img1, img2\n",
    "        except Exception as e:\n",
    "            print(f\"Error reading image {img_path}: {e}\")\n",
    "            logging.error(f\"Error reading image {img_path}: {e}\")\n",
    "            return self.__getitem__((idx + 1) % len(self.image_paths))\n",
    "\n",
    "class LabeledImageDataset(Dataset):\n",
    "    def __init__(self, df, transform):\n",
    "        self.df = df\n",
    "        self.transform = transform\n",
    "    def __len__(self):\n",
    "        return len(self.df)\n",
    "    def __getitem__(self, idx):\n",
    "        row = self.df.iloc[idx]\n",
    "        img_path = row['path']\n",
    "        try:\n",
    "            image = Image.open(img_path).convert(\"RGB\")\n",
    "            img = self.transform(image)\n",
    "        except Exception as e:\n",
    "            print(f\"Error reading image {img_path}: {e}\")\n",
    "            logging.error(f\"Error reading image {img_path}: {e}\")\n",
    "            return self.__getitem__((idx + 1) % len(self.df))\n",
    "        humidity = torch.tensor([row['SM_0'] / 100, row['SM_20'] / 100], dtype=torch.float32)\n",
    "        class_label = torch.tensor(row[\"moisture_class\"], dtype=torch.long)\n",
    "        return img, humidity, class_label\n",
    "\n",
    "\n"
   ]
  },
  {
   "cell_type": "code",
   "execution_count": 4,
   "id": "e4fc52c1-eddc-4bc9-9373-9b9c710f62b1",
   "metadata": {},
   "outputs": [],
   "source": [
    "unlabeled_dataset = UnlabeledImageDataset(image_paths, transform)\n",
    "unlabeled_dataloader = DataLoader(unlabeled_dataset, batch_size=8, shuffle=True, drop_last=True, num_workers=0)\n",
    "labeled_dataset = LabeledImageDataset(df, labeled_transform)\n",
    "labeled_dataloader = DataLoader(labeled_dataset, batch_size=8, shuffle=True, drop_last=True, num_workers=0)"
   ]
  },
  {
   "cell_type": "code",
   "execution_count": 5,
   "id": "32a77d02-f202-4d02-8e4a-2b05da817f82",
   "metadata": {},
   "outputs": [],
   "source": [
    "class SoilNetDualHead(nn.Module):\n",
    "    def __init__(self, num_classes=10, simclr_mode=False):\n",
    "        super().__init__()\n",
    "        self.simclr_mode = simclr_mode\n",
    "        self.initial_conv = nn.Conv2d(3, 32, kernel_size=3, stride=1, padding=1)\n",
    "        self.mnv2_block1 = nn.Sequential(*list(\n",
    "            timm.create_model(\"mobilenetv2_100.ra_in1k\", pretrained=True).blocks.children())[0:3]\n",
    "        )\n",
    "        self.channel_adapter = nn.Conv2d(32, 16, kernel_size=1, bias=False)\n",
    "        self.mobilevit_full = timm.create_model(\"mobilevitv2_050\", pretrained=True)\n",
    "        self.mobilevit_encoder = self.mobilevit_full.stages\n",
    "        self.mvit_to_mnv2 = nn.Conv2d(256, 32, kernel_size=1, bias=False)\n",
    "        self.mnv2_block2 = nn.Sequential(*list(\n",
    "            timm.create_model(\"mobilenetv2_100.ra_in1k\", pretrained=True).blocks.children())[3:7]\n",
    "        )\n",
    "        self.final_conv = nn.Conv2d(320, 1280, kernel_size=1)\n",
    "        self.pool = nn.AdaptiveAvgPool2d((1, 1))\n",
    "        self.light_dense = nn.Sequential(nn.Linear(1, 32), nn.ReLU(inplace=True))\n",
    "        self.reg_head = nn.Sequential(\n",
    "            nn.Linear(1280 + 32, 128),\n",
    "            nn.ReLU(inplace=True),\n",
    "            nn.Linear(128, 2)\n",
    "        )\n",
    "        self.cls_head = nn.Sequential(\n",
    "            nn.Linear(1280 + 32, 128),\n",
    "            nn.ReLU(inplace=True),\n",
    "            nn.Linear(128, num_classes)\n",
    "        )\n",
    "\n",
    "    def forward(self, x_img, x_light=None):\n",
    "        x = self.initial_conv(x_img)\n",
    "        x = self.mnv2_block1(x)\n",
    "        x = self.channel_adapter(x)\n",
    "        x = self.mobilevit_encoder(x)\n",
    "        x = self.mvit_to_mnv2(x)\n",
    "        x = self.mnv2_block2(x)\n",
    "        x = self.final_conv(x)\n",
    "        x = self.pool(x)\n",
    "        x_img_feat = torch.flatten(x, 1)\n",
    "        if self.simclr_mode:\n",
    "            return x_img_feat\n",
    "        x_light_feat = self.light_dense(x_light)\n",
    "        x_concat = torch.cat([x_img_feat, x_light_feat], dim=1)\n",
    "        reg_out = self.reg_head(x_concat)\n",
    "        cls_out = self.cls_head(x_concat)\n",
    "        return reg_out, cls_out\n"
   ]
  },
  {
   "cell_type": "code",
   "execution_count": 6,
   "id": "54a8425c-d9e1-4df7-a303-4e540da0999d",
   "metadata": {},
   "outputs": [
    {
     "name": "stdout",
     "output_type": "stream",
     "text": [
      "Loaded backbone weights from soilnet_pretrained_imageNet.pth (ignoring light_dense, reg_head, cls_head)\n"
     ]
    }
   ],
   "source": [
    "class Projector(nn.Module):\n",
    "    def __init__(self, input_dim=1280, proj_dim=128):\n",
    "        super().__init__()\n",
    "        self.net = nn.Sequential(\n",
    "            nn.Linear(input_dim, input_dim),\n",
    "            nn.ReLU(inplace=True),\n",
    "            nn.Linear(input_dim, proj_dim)\n",
    "        )\n",
    "    def forward(self, x):\n",
    "        return self.net(x)\n",
    "\n",
    "class OnlineLinearRegression(nn.Module):\n",
    "    def __init__(self, input_dim=1280, output_dim=2):\n",
    "        super().__init__()\n",
    "        self.linear = nn.Linear(input_dim, output_dim)\n",
    "    def forward(self, x):\n",
    "        return self.linear(x)\n",
    "\n",
    "class OnlineClassifier(nn.Module):\n",
    "    def __init__(self, input_dim=1280, num_classes=10):\n",
    "        super().__init__()\n",
    "        self.linear = nn.Linear(input_dim, num_classes)\n",
    "    def forward(self, x):\n",
    "        return self.linear(x)\n",
    "\n",
    "def vicreg_loss(z1, z2, lambda_=25.0, mu=25.0, nu=1.0, epsilon=1e-4):\n",
    "    invariance_loss = F.mse_loss(z1, z2)\n",
    "    def variance_term(z):\n",
    "        z_std = torch.sqrt(z.var(dim=0) + epsilon)\n",
    "        return torch.mean(F.relu(1 - z_std))\n",
    "    var_loss = variance_term(z1) + variance_term(z2)\n",
    "    def covariance_term(z):\n",
    "        z = z - z.mean(dim=0)\n",
    "        cov = (z.T @ z) / (z.shape[0] - 1)\n",
    "        off_diag = cov - torch.diag(cov.diag())\n",
    "        return off_diag.pow(2).sum() / z.shape[1]\n",
    "    cov_loss = covariance_term(z1) + covariance_term(z2)\n",
    "    return lambda_ * invariance_loss + mu * var_loss + nu * cov_loss\n",
    "\n",
    "model = SoilNetDualHead(num_classes=10, simclr_mode=True).to(device)\n",
    "checkpoint_path = r\"C:\\Users\\PC\\soilNet\\Model\\Soilnet_pretrained_ImageNet.pth\"\n",
    "try:\n",
    "    state_dict = torch.load(checkpoint_path, map_location=device)\n",
    "    filtered_state_dict = {k: v for k, v in state_dict.items() if not k.startswith(('light_dense', 'reg_head', 'cls_head'))}\n",
    "    model.load_state_dict(filtered_state_dict, strict=False)\n",
    "    print(\"Loaded backbone weights from soilnet_pretrained_imageNet.pth (ignoring light_dense, reg_head, cls_head)\")\n",
    "except FileNotFoundError:\n",
    "    print(\"Checkpoint file not found, starting with random weights\")\n",
    "\n",
    "\n",
    "projector = Projector(input_dim=1280, proj_dim=128).to(device)\n",
    "linear_reg = OnlineLinearRegression(input_dim=1280, output_dim=2).to(device)\n",
    "classifier = OnlineClassifier(input_dim=1280, num_classes=10).to(device)\n",
    "\n",
    "\n",
    "optimizer_vicreg = torch.optim.Adam(list(model.parameters()) + list(projector.parameters()), lr=1e-4)\n",
    "optimizer_linear = torch.optim.Adam(linear_reg.parameters(), lr=1e-3)\n",
    "optimizer_classifier = torch.optim.Adam(classifier.parameters(), lr=1e-3)\n",
    "\n",
    "checkpoint_dir = r\"C:\\Users\\PC\\soilNet\\checkpoints_VicReg_tinyImagenet\"\n",
    "\n",
    "os.makedirs(checkpoint_dir, exist_ok=True)"
   ]
  },
  {
   "cell_type": "code",
   "execution_count": 7,
   "id": "d8a53a6b-0c26-4e41-9a7f-1ec945db99f2",
   "metadata": {},
   "outputs": [],
   "source": [
    "def train_vicreg_with_mu(mu=25.0, num_epochs=50):\n",
    "    vicreg_losses, mse_losses, rmse_losses, mae_losses, accuracy_scores, f1_scores = [], [], [], [], [], []\n",
    "    labeled_iterator = iter(labeled_dataloader)\n",
    "    for epoch in range(1, num_epochs + 1):\n",
    "        model.train()\n",
    "        projector.train()\n",
    "        linear_reg.train()\n",
    "        classifier.train()\n",
    "        running_vicreg_loss = running_mse = running_mae = running_accuracy = running_f1 = 0.0\n",
    "        num_batches = 0\n",
    "        # Gán vòng lặp tqdm vào biến loop\n",
    "        loop = tqdm(unlabeled_dataloader, leave=False)\n",
    "        for img1, img2 in loop:\n",
    "            img1, img2 = img1.to(device), img2.to(device)\n",
    "            feat1 = model(img1, x_light=None)\n",
    "            feat2 = model(img2, x_light=None)\n",
    "            z1 = projector(feat1)\n",
    "            z2 = projector(feat2)\n",
    "            vicreg_loss_val = vicreg_loss(z1, z2, mu=mu)\n",
    "            optimizer_vicreg.zero_grad()\n",
    "            vicreg_loss_val.backward()\n",
    "            optimizer_vicreg.step()\n",
    "            try:\n",
    "                labeled_img, humidity, class_label = next(labeled_iterator)\n",
    "            except StopIteration:\n",
    "                labeled_iterator = iter(labeled_dataloader)\n",
    "                labeled_img, humidity, class_label = next(labeled_iterator)\n",
    "            labeled_img, humidity, class_label = labeled_img.to(device), humidity.to(device), class_label.to(device)\n",
    "            with torch.no_grad():\n",
    "                feat = model(labeled_img, x_light=None)\n",
    "            pred_humidity = linear_reg(feat)\n",
    "            mse_loss = F.mse_loss(pred_humidity, humidity)\n",
    "            optimizer_linear.zero_grad()\n",
    "            mse_loss.backward()\n",
    "            optimizer_linear.step()\n",
    "            pred_logits = classifier(feat)\n",
    "            cls_loss = F.cross_entropy(pred_logits, class_label)\n",
    "            optimizer_classifier.zero_grad()\n",
    "            cls_loss.backward()\n",
    "            optimizer_classifier.step()\n",
    "            pred_humidity_np = pred_humidity.detach().cpu().numpy() * 100\n",
    "            humidity_np = humidity.detach().cpu().numpy() * 100\n",
    "            mse = mean_squared_error(humidity_np, pred_humidity_np)\n",
    "            rmse = np.sqrt(mse)\n",
    "            mae = mean_absolute_error(humidity_np, pred_humidity_np)\n",
    "            pred_classes = torch.argmax(pred_logits, dim=1).detach().cpu().numpy()\n",
    "            true_classes = class_label.detach().cpu().numpy()\n",
    "            accuracy = accuracy_score(true_classes, pred_classes)\n",
    "            f1 = f1_score(true_classes, pred_classes, average='weighted')\n",
    "            running_vicreg_loss += vicreg_loss_val.item()\n",
    "            running_mse += mse\n",
    "            running_mae += mae\n",
    "            running_accuracy += accuracy\n",
    "            running_f1 += f1\n",
    "            num_batches += 1\n",
    "            # Cập nhật tiến trình với loop.set_postfix\n",
    "            loop.set_postfix(vicreg_loss=vicreg_loss_val.item(), mse=mse, rmse=rmse, mae=mae, accuracy=accuracy, f1=f1)\n",
    "        avg_vicreg_loss = running_vicreg_loss / num_batches\n",
    "        avg_mse = running_mse / num_batches\n",
    "        avg_rmse = np.sqrt(avg_mse)\n",
    "        avg_mae = running_mae / num_batches\n",
    "        avg_accuracy = running_accuracy / num_batches\n",
    "        avg_f1 = running_f1 / num_batches\n",
    "        vicreg_losses.append(avg_vicreg_loss)\n",
    "        mse_losses.append(avg_mse)\n",
    "        rmse_losses.append(avg_rmse)\n",
    "        mae_losses.append(avg_mae)\n",
    "        accuracy_scores.append(avg_accuracy)\n",
    "        f1_scores.append(avg_f1)\n",
    "        print(f\"Epoch {epoch:3d}/{num_epochs} (mu={mu}) - VICReg Loss: {avg_vicreg_loss:.4f}, MSE: {avg_mse:.4f}, RMSE: {avg_rmse:.4f}, MAE: {avg_mae:.4f}, Accuracy: {avg_accuracy:.8f}, F1-Score: {avg_f1:.8f}\")\n",
    "        checkpoint = {\n",
    "            'epoch': epoch,\n",
    "            'model_state_dict': model.state_dict(),\n",
    "            'projector_state_dict': projector.state_dict(),\n",
    "            'linear_reg_state_dict': linear_reg.state_dict(),\n",
    "            'classifier_state_dict': classifier.state_dict(),\n",
    "            'vicreg_loss': avg_vicreg_loss,\n",
    "            'mse_loss': avg_mse,\n",
    "            'rmse_loss': avg_rmse,\n",
    "            'mae_loss': avg_mae,\n",
    "            'accuracy': avg_accuracy,\n",
    "            'f1_score': avg_f1\n",
    "        }\n",
    "        checkpoint_path = os.path.join(checkpoint_dir, f'vicreg_mu_{mu}_epoch_{epoch}.pth')\n",
    "        torch.save(checkpoint, checkpoint_path)\n",
    "        print(f\"Saved checkpoint: {checkpoint_path}\")\n",
    "        logging.info(f\"Saved checkpoint: {checkpoint_path}\")\n",
    "    final_model_path = os.path.join(checkpoint_dir, f'vicreg_model_final_mu_{mu}.pth')\n",
    "    final_projector_path = os.path.join(checkpoint_dir, f'vicreg_projector_final_mu_{mu}.pth')\n",
    "    final_linear_reg_path = os.path.join(checkpoint_dir, f'vicreg_linear_reg_final_mu_{mu}.pth')\n",
    "    final_classifier_path = os.path.join(checkpoint_dir, f'vicreg_classifier_final_mu_{mu}.pth')\n",
    "    torch.save(model.state_dict(), final_model_path)\n",
    "    torch.save(projector.state_dict(), final_projector_path)\n",
    "    torch.save(linear_reg.state_dict(), final_linear_reg_path)\n",
    "    torch.save(classifier.state_dict(), final_classifier_path)\n",
    "    print(f\"Saved final models (mu={mu}):\")\n",
    "    print(f\"  - Model: {final_model_path}\")\n",
    "    print(f\"  - Projector: {final_projector_path}\")\n",
    "    print(f\"  - Linear Regression: {final_linear_reg_path}\")\n",
    "    print(f\"  - Classifier: {final_classifier_path}\")\n",
    "    logging.info(f\"Saved final models (mu={mu}): {final_model_path}, {final_projector_path}, {final_linear_reg_path}, {final_classifier_path}\")"
   ]
  },
  {
   "cell_type": "code",
   "execution_count": 8,
   "id": "1bdfddd5-50d3-4ce5-85a3-54c83e48bfa2",
   "metadata": {
    "scrolled": true
   },
   "outputs": [
    {
     "name": "stderr",
     "output_type": "stream",
     "text": [
      "                                                                                                                       "
     ]
    },
    {
     "name": "stdout",
     "output_type": "stream",
     "text": [
      "Epoch   1/60 (mu=33.0) - VICReg Loss: 36.0962, MSE: 2910.7774, RMSE: 53.9516, MAE: 39.9334, Accuracy: 0.21522682, F1-Score: 0.22378610\n",
      "Saved checkpoint: C:\\Users\\PC\\soilNet\\checkpoints_VicReg_tinyImagenet\\vicreg_mu_33.0_epoch_1.pth\n"
     ]
    },
    {
     "name": "stderr",
     "output_type": "stream",
     "text": [
      "                                                                                                                       "
     ]
    },
    {
     "name": "stdout",
     "output_type": "stream",
     "text": [
      "Epoch   2/60 (mu=33.0) - VICReg Loss: 32.1152, MSE: 1170.6714, RMSE: 34.2151, MAE: 27.2343, Accuracy: 0.21330887, F1-Score: 0.22112718\n",
      "Saved checkpoint: C:\\Users\\PC\\soilNet\\checkpoints_VicReg_tinyImagenet\\vicreg_mu_33.0_epoch_2.pth\n"
     ]
    },
    {
     "name": "stderr",
     "output_type": "stream",
     "text": [
      "                                                                                                                       "
     ]
    },
    {
     "name": "stdout",
     "output_type": "stream",
     "text": [
      "Epoch   3/60 (mu=33.0) - VICReg Loss: 30.9696, MSE: 1240.2313, RMSE: 35.2169, MAE: 27.9588, Accuracy: 0.21239159, F1-Score: 0.21933074\n",
      "Saved checkpoint: C:\\Users\\PC\\soilNet\\checkpoints_VicReg_tinyImagenet\\vicreg_mu_33.0_epoch_3.pth\n"
     ]
    },
    {
     "name": "stderr",
     "output_type": "stream",
     "text": [
      "                                                                                                                       "
     ]
    },
    {
     "name": "stdout",
     "output_type": "stream",
     "text": [
      "Epoch   4/60 (mu=33.0) - VICReg Loss: 30.5537, MSE: 1266.1240, RMSE: 35.5826, MAE: 28.4897, Accuracy: 0.21155771, F1-Score: 0.21906986\n",
      "Saved checkpoint: C:\\Users\\PC\\soilNet\\checkpoints_VicReg_tinyImagenet\\vicreg_mu_33.0_epoch_4.pth\n"
     ]
    },
    {
     "name": "stderr",
     "output_type": "stream",
     "text": [
      "                                                                                                                       "
     ]
    },
    {
     "name": "stdout",
     "output_type": "stream",
     "text": [
      "Epoch   5/60 (mu=33.0) - VICReg Loss: 30.2424, MSE: 1273.7839, RMSE: 35.6901, MAE: 28.4470, Accuracy: 0.20738826, F1-Score: 0.21535746\n",
      "Saved checkpoint: C:\\Users\\PC\\soilNet\\checkpoints_VicReg_tinyImagenet\\vicreg_mu_33.0_epoch_5.pth\n"
     ]
    },
    {
     "name": "stderr",
     "output_type": "stream",
     "text": [
      "                                                                                                                       "
     ]
    },
    {
     "name": "stdout",
     "output_type": "stream",
     "text": [
      "Epoch   6/60 (mu=33.0) - VICReg Loss: 30.1197, MSE: 1211.4271, RMSE: 34.8056, MAE: 27.8883, Accuracy: 0.20438626, F1-Score: 0.21225222\n",
      "Saved checkpoint: C:\\Users\\PC\\soilNet\\checkpoints_VicReg_tinyImagenet\\vicreg_mu_33.0_epoch_6.pth\n"
     ]
    },
    {
     "name": "stderr",
     "output_type": "stream",
     "text": [
      "                                                                                                                       "
     ]
    },
    {
     "name": "stdout",
     "output_type": "stream",
     "text": [
      "Epoch   7/60 (mu=33.0) - VICReg Loss: 29.9784, MSE: 1203.4761, RMSE: 34.6912, MAE: 27.7660, Accuracy: 0.20747165, F1-Score: 0.21494846\n",
      "Saved checkpoint: C:\\Users\\PC\\soilNet\\checkpoints_VicReg_tinyImagenet\\vicreg_mu_33.0_epoch_7.pth\n"
     ]
    },
    {
     "name": "stderr",
     "output_type": "stream",
     "text": [
      "                                                                                                                       "
     ]
    },
    {
     "name": "stdout",
     "output_type": "stream",
     "text": [
      "Epoch   8/60 (mu=33.0) - VICReg Loss: 29.7645, MSE: 1247.6528, RMSE: 35.3221, MAE: 28.2779, Accuracy: 0.20155103, F1-Score: 0.20804425\n",
      "Saved checkpoint: C:\\Users\\PC\\soilNet\\checkpoints_VicReg_tinyImagenet\\vicreg_mu_33.0_epoch_8.pth\n"
     ]
    },
    {
     "name": "stderr",
     "output_type": "stream",
     "text": [
      "                                                                                                                       "
     ]
    },
    {
     "name": "stdout",
     "output_type": "stream",
     "text": [
      "Epoch   9/60 (mu=33.0) - VICReg Loss: 29.6028, MSE: 1259.1335, RMSE: 35.4843, MAE: 28.4010, Accuracy: 0.20105070, F1-Score: 0.20674199\n",
      "Saved checkpoint: C:\\Users\\PC\\soilNet\\checkpoints_VicReg_tinyImagenet\\vicreg_mu_33.0_epoch_9.pth\n"
     ]
    },
    {
     "name": "stderr",
     "output_type": "stream",
     "text": [
      "                                                                                                                       "
     ]
    },
    {
     "name": "stdout",
     "output_type": "stream",
     "text": [
      "Epoch  10/60 (mu=33.0) - VICReg Loss: 29.5166, MSE: 1252.0801, RMSE: 35.3847, MAE: 28.3155, Accuracy: 0.19437959, F1-Score: 0.20198922\n",
      "Saved checkpoint: C:\\Users\\PC\\soilNet\\checkpoints_VicReg_tinyImagenet\\vicreg_mu_33.0_epoch_10.pth\n"
     ]
    },
    {
     "name": "stderr",
     "output_type": "stream",
     "text": [
      "                                                                                                                       "
     ]
    },
    {
     "name": "stdout",
     "output_type": "stream",
     "text": [
      "Epoch  11/60 (mu=33.0) - VICReg Loss: 29.4671, MSE: 1274.1406, RMSE: 35.6951, MAE: 28.7621, Accuracy: 0.19771514, F1-Score: 0.20506647\n",
      "Saved checkpoint: C:\\Users\\PC\\soilNet\\checkpoints_VicReg_tinyImagenet\\vicreg_mu_33.0_epoch_11.pth\n"
     ]
    },
    {
     "name": "stderr",
     "output_type": "stream",
     "text": [
      "                                                                                                                       "
     ]
    },
    {
     "name": "stdout",
     "output_type": "stream",
     "text": [
      "Epoch  12/60 (mu=33.0) - VICReg Loss: 29.3886, MSE: 1250.0008, RMSE: 35.3554, MAE: 28.4050, Accuracy: 0.19229486, F1-Score: 0.19615696\n",
      "Saved checkpoint: C:\\Users\\PC\\soilNet\\checkpoints_VicReg_tinyImagenet\\vicreg_mu_33.0_epoch_12.pth\n"
     ]
    },
    {
     "name": "stderr",
     "output_type": "stream",
     "text": [
      "                                                                                                                       "
     ]
    },
    {
     "name": "stdout",
     "output_type": "stream",
     "text": [
      "Epoch  13/60 (mu=33.0) - VICReg Loss: 29.3165, MSE: 1255.0364, RMSE: 35.4265, MAE: 28.5972, Accuracy: 0.19146097, F1-Score: 0.19659376\n",
      "Saved checkpoint: C:\\Users\\PC\\soilNet\\checkpoints_VicReg_tinyImagenet\\vicreg_mu_33.0_epoch_13.pth\n"
     ]
    },
    {
     "name": "stderr",
     "output_type": "stream",
     "text": [
      "                                                                                                                       "
     ]
    },
    {
     "name": "stdout",
     "output_type": "stream",
     "text": [
      "Epoch  14/60 (mu=33.0) - VICReg Loss: 29.3576, MSE: 1259.9583, RMSE: 35.4959, MAE: 28.5044, Accuracy: 0.19554703, F1-Score: 0.20009888\n",
      "Saved checkpoint: C:\\Users\\PC\\soilNet\\checkpoints_VicReg_tinyImagenet\\vicreg_mu_33.0_epoch_14.pth\n"
     ]
    },
    {
     "name": "stderr",
     "output_type": "stream",
     "text": [
      "                                                                                                                       "
     ]
    },
    {
     "name": "stdout",
     "output_type": "stream",
     "text": [
      "Epoch  15/60 (mu=33.0) - VICReg Loss: 29.2594, MSE: 1243.6511, RMSE: 35.2654, MAE: 28.3395, Accuracy: 0.19012675, F1-Score: 0.19694161\n",
      "Saved checkpoint: C:\\Users\\PC\\soilNet\\checkpoints_VicReg_tinyImagenet\\vicreg_mu_33.0_epoch_15.pth\n"
     ]
    },
    {
     "name": "stderr",
     "output_type": "stream",
     "text": [
      "                                                                                                                       "
     ]
    },
    {
     "name": "stdout",
     "output_type": "stream",
     "text": [
      "Epoch  16/60 (mu=33.0) - VICReg Loss: 29.1814, MSE: 1209.5994, RMSE: 34.7793, MAE: 27.9357, Accuracy: 0.19104403, F1-Score: 0.19655326\n",
      "Saved checkpoint: C:\\Users\\PC\\soilNet\\checkpoints_VicReg_tinyImagenet\\vicreg_mu_33.0_epoch_16.pth\n"
     ]
    },
    {
     "name": "stderr",
     "output_type": "stream",
     "text": [
      "                                                                                                                       "
     ]
    },
    {
     "name": "stdout",
     "output_type": "stream",
     "text": [
      "Epoch  17/60 (mu=33.0) - VICReg Loss: 29.1170, MSE: 1251.9083, RMSE: 35.3823, MAE: 28.4399, Accuracy: 0.18837558, F1-Score: 0.19430970\n",
      "Saved checkpoint: C:\\Users\\PC\\soilNet\\checkpoints_VicReg_tinyImagenet\\vicreg_mu_33.0_epoch_17.pth\n"
     ]
    },
    {
     "name": "stderr",
     "output_type": "stream",
     "text": [
      "                                                                                                                       "
     ]
    },
    {
     "name": "stdout",
     "output_type": "stream",
     "text": [
      "Epoch  18/60 (mu=33.0) - VICReg Loss: 29.0788, MSE: 1246.9022, RMSE: 35.3115, MAE: 28.2475, Accuracy: 0.19804870, F1-Score: 0.20362027\n",
      "Saved checkpoint: C:\\Users\\PC\\soilNet\\checkpoints_VicReg_tinyImagenet\\vicreg_mu_33.0_epoch_18.pth\n"
     ]
    },
    {
     "name": "stderr",
     "output_type": "stream",
     "text": [
      "                                                                                                                       "
     ]
    },
    {
     "name": "stdout",
     "output_type": "stream",
     "text": [
      "Epoch  19/60 (mu=33.0) - VICReg Loss: 29.0497, MSE: 1198.8635, RMSE: 34.6246, MAE: 27.6522, Accuracy: 0.20088392, F1-Score: 0.20752764\n",
      "Saved checkpoint: C:\\Users\\PC\\soilNet\\checkpoints_VicReg_tinyImagenet\\vicreg_mu_33.0_epoch_19.pth\n"
     ]
    },
    {
     "name": "stderr",
     "output_type": "stream",
     "text": [
      "                                                                                                                       "
     ]
    },
    {
     "name": "stdout",
     "output_type": "stream",
     "text": [
      "Epoch  20/60 (mu=33.0) - VICReg Loss: 29.1868, MSE: 1231.3902, RMSE: 35.0912, MAE: 28.1715, Accuracy: 0.19312875, F1-Score: 0.19915420\n",
      "Saved checkpoint: C:\\Users\\PC\\soilNet\\checkpoints_VicReg_tinyImagenet\\vicreg_mu_33.0_epoch_20.pth\n"
     ]
    },
    {
     "name": "stderr",
     "output_type": "stream",
     "text": [
      "                                                                                                                       "
     ]
    },
    {
     "name": "stdout",
     "output_type": "stream",
     "text": [
      "Epoch  21/60 (mu=33.0) - VICReg Loss: 28.9983, MSE: 1181.4512, RMSE: 34.3722, MAE: 27.4736, Accuracy: 0.20380254, F1-Score: 0.20749031\n",
      "Saved checkpoint: C:\\Users\\PC\\soilNet\\checkpoints_VicReg_tinyImagenet\\vicreg_mu_33.0_epoch_21.pth\n"
     ]
    },
    {
     "name": "stderr",
     "output_type": "stream",
     "text": [
      "                                                                                                                       "
     ]
    },
    {
     "name": "stdout",
     "output_type": "stream",
     "text": [
      "Epoch  22/60 (mu=33.0) - VICReg Loss: 29.0413, MSE: 1261.7283, RMSE: 35.5208, MAE: 28.5629, Accuracy: 0.18945964, F1-Score: 0.19517575\n",
      "Saved checkpoint: C:\\Users\\PC\\soilNet\\checkpoints_VicReg_tinyImagenet\\vicreg_mu_33.0_epoch_22.pth\n"
     ]
    },
    {
     "name": "stderr",
     "output_type": "stream",
     "text": [
      "                                                                                                                       "
     ]
    },
    {
     "name": "stdout",
     "output_type": "stream",
     "text": [
      "Epoch  23/60 (mu=33.0) - VICReg Loss: 29.0404, MSE: 1193.6586, RMSE: 34.5494, MAE: 27.7587, Accuracy: 0.18820881, F1-Score: 0.19458250\n",
      "Saved checkpoint: C:\\Users\\PC\\soilNet\\checkpoints_VicReg_tinyImagenet\\vicreg_mu_33.0_epoch_23.pth\n"
     ]
    },
    {
     "name": "stderr",
     "output_type": "stream",
     "text": [
      "                                                                                                                       "
     ]
    },
    {
     "name": "stdout",
     "output_type": "stream",
     "text": [
      "Epoch  24/60 (mu=33.0) - VICReg Loss: 29.0017, MSE: 1231.4450, RMSE: 35.0920, MAE: 28.2211, Accuracy: 0.18403936, F1-Score: 0.18542004\n",
      "Saved checkpoint: C:\\Users\\PC\\soilNet\\checkpoints_VicReg_tinyImagenet\\vicreg_mu_33.0_epoch_24.pth\n"
     ]
    },
    {
     "name": "stderr",
     "output_type": "stream",
     "text": [
      "                                                                                                                       "
     ]
    },
    {
     "name": "stdout",
     "output_type": "stream",
     "text": [
      "Epoch  25/60 (mu=33.0) - VICReg Loss: 28.9291, MSE: 1248.0499, RMSE: 35.3277, MAE: 28.3970, Accuracy: 0.18579053, F1-Score: 0.18924203\n",
      "Saved checkpoint: C:\\Users\\PC\\soilNet\\checkpoints_VicReg_tinyImagenet\\vicreg_mu_33.0_epoch_25.pth\n"
     ]
    },
    {
     "name": "stderr",
     "output_type": "stream",
     "text": [
      "                                                                                                                       "
     ]
    },
    {
     "name": "stdout",
     "output_type": "stream",
     "text": [
      "Epoch  26/60 (mu=33.0) - VICReg Loss: 28.8698, MSE: 1283.7332, RMSE: 35.8292, MAE: 28.8762, Accuracy: 0.19262842, F1-Score: 0.19752176\n",
      "Saved checkpoint: C:\\Users\\PC\\soilNet\\checkpoints_VicReg_tinyImagenet\\vicreg_mu_33.0_epoch_26.pth\n"
     ]
    },
    {
     "name": "stderr",
     "output_type": "stream",
     "text": [
      "                                                                                                                       "
     ]
    },
    {
     "name": "stdout",
     "output_type": "stream",
     "text": [
      "Epoch  27/60 (mu=33.0) - VICReg Loss: 28.8205, MSE: 1257.8188, RMSE: 35.4657, MAE: 28.5495, Accuracy: 0.18720814, F1-Score: 0.19247395\n",
      "Saved checkpoint: C:\\Users\\PC\\soilNet\\checkpoints_VicReg_tinyImagenet\\vicreg_mu_33.0_epoch_27.pth\n"
     ]
    },
    {
     "name": "stderr",
     "output_type": "stream",
     "text": [
      "                                                                                                                       "
     ]
    },
    {
     "name": "stdout",
     "output_type": "stream",
     "text": [
      "Epoch  28/60 (mu=33.0) - VICReg Loss: 28.7986, MSE: 1234.3203, RMSE: 35.1329, MAE: 28.3093, Accuracy: 0.18420614, F1-Score: 0.18931073\n",
      "Saved checkpoint: C:\\Users\\PC\\soilNet\\checkpoints_VicReg_tinyImagenet\\vicreg_mu_33.0_epoch_28.pth\n"
     ]
    },
    {
     "name": "stderr",
     "output_type": "stream",
     "text": [
      "                                                                                                                       "
     ]
    },
    {
     "name": "stdout",
     "output_type": "stream",
     "text": [
      "Epoch  29/60 (mu=33.0) - VICReg Loss: 28.8322, MSE: 1267.5104, RMSE: 35.6021, MAE: 28.7147, Accuracy: 0.18287191, F1-Score: 0.18999333\n",
      "Saved checkpoint: C:\\Users\\PC\\soilNet\\checkpoints_VicReg_tinyImagenet\\vicreg_mu_33.0_epoch_29.pth\n"
     ]
    },
    {
     "name": "stderr",
     "output_type": "stream",
     "text": [
      "                                                                                                                       "
     ]
    },
    {
     "name": "stdout",
     "output_type": "stream",
     "text": [
      "Epoch  30/60 (mu=33.0) - VICReg Loss: 28.7638, MSE: 1272.4761, RMSE: 35.6718, MAE: 28.7405, Accuracy: 0.17670113, F1-Score: 0.18051995\n",
      "Saved checkpoint: C:\\Users\\PC\\soilNet\\checkpoints_VicReg_tinyImagenet\\vicreg_mu_33.0_epoch_30.pth\n"
     ]
    },
    {
     "name": "stderr",
     "output_type": "stream",
     "text": [
      "                                                                                                                       "
     ]
    },
    {
     "name": "stdout",
     "output_type": "stream",
     "text": [
      "Epoch  31/60 (mu=33.0) - VICReg Loss: 28.8182, MSE: 1304.5549, RMSE: 36.1186, MAE: 29.1066, Accuracy: 0.17853569, F1-Score: 0.18164471\n",
      "Saved checkpoint: C:\\Users\\PC\\soilNet\\checkpoints_VicReg_tinyImagenet\\vicreg_mu_33.0_epoch_31.pth\n"
     ]
    },
    {
     "name": "stderr",
     "output_type": "stream",
     "text": [
      "                                                                                                                       "
     ]
    },
    {
     "name": "stdout",
     "output_type": "stream",
     "text": [
      "Epoch  32/60 (mu=33.0) - VICReg Loss: 28.7424, MSE: 1269.4628, RMSE: 35.6295, MAE: 28.6959, Accuracy: 0.18662442, F1-Score: 0.18883819\n",
      "Saved checkpoint: C:\\Users\\PC\\soilNet\\checkpoints_VicReg_tinyImagenet\\vicreg_mu_33.0_epoch_32.pth\n"
     ]
    },
    {
     "name": "stderr",
     "output_type": "stream",
     "text": [
      "                                                                                                                       "
     ]
    },
    {
     "name": "stdout",
     "output_type": "stream",
     "text": [
      "Epoch  33/60 (mu=33.0) - VICReg Loss: 28.7235, MSE: 1278.6843, RMSE: 35.7587, MAE: 28.8724, Accuracy: 0.17970314, F1-Score: 0.18543473\n",
      "Saved checkpoint: C:\\Users\\PC\\soilNet\\checkpoints_VicReg_tinyImagenet\\vicreg_mu_33.0_epoch_33.pth\n"
     ]
    },
    {
     "name": "stderr",
     "output_type": "stream",
     "text": [
      "                                                                                                                       "
     ]
    },
    {
     "name": "stdout",
     "output_type": "stream",
     "text": [
      "Epoch  34/60 (mu=33.0) - VICReg Loss: 28.7841, MSE: 1264.9195, RMSE: 35.5657, MAE: 28.5892, Accuracy: 0.18145430, F1-Score: 0.18367960\n",
      "Saved checkpoint: C:\\Users\\PC\\soilNet\\checkpoints_VicReg_tinyImagenet\\vicreg_mu_33.0_epoch_34.pth\n"
     ]
    },
    {
     "name": "stderr",
     "output_type": "stream",
     "text": [
      "                                                                                                                       "
     ]
    },
    {
     "name": "stdout",
     "output_type": "stream",
     "text": [
      "Epoch  35/60 (mu=33.0) - VICReg Loss: 28.7250, MSE: 1293.3696, RMSE: 35.9634, MAE: 28.9026, Accuracy: 0.18337225, F1-Score: 0.18801423\n",
      "Saved checkpoint: C:\\Users\\PC\\soilNet\\checkpoints_VicReg_tinyImagenet\\vicreg_mu_33.0_epoch_35.pth\n"
     ]
    },
    {
     "name": "stderr",
     "output_type": "stream",
     "text": [
      "                                                                                                                       "
     ]
    },
    {
     "name": "stdout",
     "output_type": "stream",
     "text": [
      "Epoch  36/60 (mu=33.0) - VICReg Loss: 28.7313, MSE: 1272.0560, RMSE: 35.6659, MAE: 28.7489, Accuracy: 0.18112075, F1-Score: 0.18459628\n",
      "Saved checkpoint: C:\\Users\\PC\\soilNet\\checkpoints_VicReg_tinyImagenet\\vicreg_mu_33.0_epoch_36.pth\n"
     ]
    },
    {
     "name": "stderr",
     "output_type": "stream",
     "text": [
      "                                                                                                                       "
     ]
    },
    {
     "name": "stdout",
     "output_type": "stream",
     "text": [
      "Epoch  37/60 (mu=33.0) - VICReg Loss: 28.7208, MSE: 1228.9738, RMSE: 35.0567, MAE: 28.1408, Accuracy: 0.18812542, F1-Score: 0.19191008\n",
      "Saved checkpoint: C:\\Users\\PC\\soilNet\\checkpoints_VicReg_tinyImagenet\\vicreg_mu_33.0_epoch_37.pth\n"
     ]
    },
    {
     "name": "stderr",
     "output_type": "stream",
     "text": [
      "                                                                                                                       "
     ]
    },
    {
     "name": "stdout",
     "output_type": "stream",
     "text": [
      "Epoch  38/60 (mu=33.0) - VICReg Loss: 28.6134, MSE: 1241.5334, RMSE: 35.2354, MAE: 28.3407, Accuracy: 0.18170447, F1-Score: 0.18461673\n",
      "Saved checkpoint: C:\\Users\\PC\\soilNet\\checkpoints_VicReg_tinyImagenet\\vicreg_mu_33.0_epoch_38.pth\n"
     ]
    },
    {
     "name": "stderr",
     "output_type": "stream",
     "text": [
      "                                                                                                                       "
     ]
    },
    {
     "name": "stdout",
     "output_type": "stream",
     "text": [
      "Epoch  39/60 (mu=33.0) - VICReg Loss: 28.6821, MSE: 1282.4202, RMSE: 35.8109, MAE: 28.8705, Accuracy: 0.18370580, F1-Score: 0.18815758\n",
      "Saved checkpoint: C:\\Users\\PC\\soilNet\\checkpoints_VicReg_tinyImagenet\\vicreg_mu_33.0_epoch_39.pth\n"
     ]
    },
    {
     "name": "stderr",
     "output_type": "stream",
     "text": [
      "                                                                                                                       "
     ]
    },
    {
     "name": "stdout",
     "output_type": "stream",
     "text": [
      "Epoch  40/60 (mu=33.0) - VICReg Loss: 28.6077, MSE: 1265.6711, RMSE: 35.5763, MAE: 28.5616, Accuracy: 0.18162108, F1-Score: 0.18289375\n",
      "Saved checkpoint: C:\\Users\\PC\\soilNet\\checkpoints_VicReg_tinyImagenet\\vicreg_mu_33.0_epoch_40.pth\n"
     ]
    },
    {
     "name": "stderr",
     "output_type": "stream",
     "text": [
      "                                                                                                                       "
     ]
    },
    {
     "name": "stdout",
     "output_type": "stream",
     "text": [
      "Epoch  41/60 (mu=33.0) - VICReg Loss: 28.6546, MSE: 1257.8464, RMSE: 35.4661, MAE: 28.4729, Accuracy: 0.18178786, F1-Score: 0.18632858\n",
      "Saved checkpoint: C:\\Users\\PC\\soilNet\\checkpoints_VicReg_tinyImagenet\\vicreg_mu_33.0_epoch_41.pth\n"
     ]
    },
    {
     "name": "stderr",
     "output_type": "stream",
     "text": [
      "                                                                                                                       "
     ]
    },
    {
     "name": "stdout",
     "output_type": "stream",
     "text": [
      "Epoch  42/60 (mu=33.0) - VICReg Loss: 28.5797, MSE: 1270.3815, RMSE: 35.6424, MAE: 28.6331, Accuracy: 0.18120414, F1-Score: 0.18483513\n",
      "Saved checkpoint: C:\\Users\\PC\\soilNet\\checkpoints_VicReg_tinyImagenet\\vicreg_mu_33.0_epoch_42.pth\n"
     ]
    },
    {
     "name": "stderr",
     "output_type": "stream",
     "text": [
      "                                                                                                                       "
     ]
    },
    {
     "name": "stdout",
     "output_type": "stream",
     "text": [
      "Epoch  43/60 (mu=33.0) - VICReg Loss: 28.5875, MSE: 1212.6195, RMSE: 34.8227, MAE: 27.9183, Accuracy: 0.17561708, F1-Score: 0.17963722\n",
      "Saved checkpoint: C:\\Users\\PC\\soilNet\\checkpoints_VicReg_tinyImagenet\\vicreg_mu_33.0_epoch_43.pth\n"
     ]
    },
    {
     "name": "stderr",
     "output_type": "stream",
     "text": [
      "                                                                                                                       "
     ]
    },
    {
     "name": "stdout",
     "output_type": "stream",
     "text": [
      "Epoch  44/60 (mu=33.0) - VICReg Loss: 28.5795, MSE: 1286.8123, RMSE: 35.8722, MAE: 28.8986, Accuracy: 0.18253836, F1-Score: 0.18698378\n",
      "Saved checkpoint: C:\\Users\\PC\\soilNet\\checkpoints_VicReg_tinyImagenet\\vicreg_mu_33.0_epoch_44.pth\n"
     ]
    },
    {
     "name": "stderr",
     "output_type": "stream",
     "text": [
      "                                                                                                                       "
     ]
    },
    {
     "name": "stdout",
     "output_type": "stream",
     "text": [
      "Epoch  45/60 (mu=33.0) - VICReg Loss: 28.6088, MSE: 1300.3298, RMSE: 36.0601, MAE: 29.1532, Accuracy: 0.16819546, F1-Score: 0.16946020\n",
      "Saved checkpoint: C:\\Users\\PC\\soilNet\\checkpoints_VicReg_tinyImagenet\\vicreg_mu_33.0_epoch_45.pth\n"
     ]
    },
    {
     "name": "stderr",
     "output_type": "stream",
     "text": [
      "                                                                                                                       "
     ]
    },
    {
     "name": "stdout",
     "output_type": "stream",
     "text": [
      "Epoch  46/60 (mu=33.0) - VICReg Loss: 28.6117, MSE: 1296.8635, RMSE: 36.0120, MAE: 29.0743, Accuracy: 0.17803536, F1-Score: 0.18087415\n",
      "Saved checkpoint: C:\\Users\\PC\\soilNet\\checkpoints_VicReg_tinyImagenet\\vicreg_mu_33.0_epoch_46.pth\n"
     ]
    },
    {
     "name": "stderr",
     "output_type": "stream",
     "text": [
      "                                                                                                                       "
     ]
    },
    {
     "name": "stdout",
     "output_type": "stream",
     "text": [
      "Epoch  47/60 (mu=33.0) - VICReg Loss: 28.5477, MSE: 1258.9897, RMSE: 35.4822, MAE: 28.6695, Accuracy: 0.17895264, F1-Score: 0.18244703\n",
      "Saved checkpoint: C:\\Users\\PC\\soilNet\\checkpoints_VicReg_tinyImagenet\\vicreg_mu_33.0_epoch_47.pth\n"
     ]
    },
    {
     "name": "stderr",
     "output_type": "stream",
     "text": [
      "                                                                                                                       "
     ]
    },
    {
     "name": "stdout",
     "output_type": "stream",
     "text": [
      "Epoch  48/60 (mu=33.0) - VICReg Loss: 28.5743, MSE: 1274.3808, RMSE: 35.6985, MAE: 28.8044, Accuracy: 0.17711808, F1-Score: 0.17938268\n",
      "Saved checkpoint: C:\\Users\\PC\\soilNet\\checkpoints_VicReg_tinyImagenet\\vicreg_mu_33.0_epoch_48.pth\n"
     ]
    },
    {
     "name": "stderr",
     "output_type": "stream",
     "text": [
      "                                                                                                                       "
     ]
    },
    {
     "name": "stdout",
     "output_type": "stream",
     "text": [
      "Epoch  49/60 (mu=33.0) - VICReg Loss: 28.5353, MSE: 1290.9397, RMSE: 35.9296, MAE: 29.0386, Accuracy: 0.16836224, F1-Score: 0.16922075\n",
      "Saved checkpoint: C:\\Users\\PC\\soilNet\\checkpoints_VicReg_tinyImagenet\\vicreg_mu_33.0_epoch_49.pth\n"
     ]
    },
    {
     "name": "stderr",
     "output_type": "stream",
     "text": [
      "                                                                                                                       "
     ]
    },
    {
     "name": "stdout",
     "output_type": "stream",
     "text": [
      "Epoch  50/60 (mu=33.0) - VICReg Loss: 28.5101, MSE: 1314.4927, RMSE: 36.2559, MAE: 29.2065, Accuracy: 0.17786858, F1-Score: 0.17906124\n",
      "Saved checkpoint: C:\\Users\\PC\\soilNet\\checkpoints_VicReg_tinyImagenet\\vicreg_mu_33.0_epoch_50.pth\n"
     ]
    },
    {
     "name": "stderr",
     "output_type": "stream",
     "text": [
      "                                                                                                                       "
     ]
    },
    {
     "name": "stdout",
     "output_type": "stream",
     "text": [
      "Epoch  51/60 (mu=33.0) - VICReg Loss: 28.5216, MSE: 1255.9051, RMSE: 35.4388, MAE: 28.5286, Accuracy: 0.17061374, F1-Score: 0.17097589\n",
      "Saved checkpoint: C:\\Users\\PC\\soilNet\\checkpoints_VicReg_tinyImagenet\\vicreg_mu_33.0_epoch_51.pth\n"
     ]
    },
    {
     "name": "stderr",
     "output_type": "stream",
     "text": [
      "                                                                                                                       "
     ]
    },
    {
     "name": "stdout",
     "output_type": "stream",
     "text": [
      "Epoch  52/60 (mu=33.0) - VICReg Loss: 28.5155, MSE: 1250.0972, RMSE: 35.3567, MAE: 28.3474, Accuracy: 0.17261508, F1-Score: 0.17471410\n",
      "Saved checkpoint: C:\\Users\\PC\\soilNet\\checkpoints_VicReg_tinyImagenet\\vicreg_mu_33.0_epoch_52.pth\n"
     ]
    },
    {
     "name": "stderr",
     "output_type": "stream",
     "text": [
      "                                                                                                                       "
     ]
    },
    {
     "name": "stdout",
     "output_type": "stream",
     "text": [
      "Epoch  53/60 (mu=33.0) - VICReg Loss: 28.4775, MSE: 1303.1498, RMSE: 36.0992, MAE: 29.1219, Accuracy: 0.17895264, F1-Score: 0.18122836\n",
      "Saved checkpoint: C:\\Users\\PC\\soilNet\\checkpoints_VicReg_tinyImagenet\\vicreg_mu_33.0_epoch_53.pth\n"
     ]
    },
    {
     "name": "stderr",
     "output_type": "stream",
     "text": [
      "                                                                                                                       "
     ]
    },
    {
     "name": "stdout",
     "output_type": "stream",
     "text": [
      "Epoch  54/60 (mu=33.0) - VICReg Loss: 28.4836, MSE: 1291.5370, RMSE: 35.9380, MAE: 28.9525, Accuracy: 0.16986324, F1-Score: 0.17170852\n",
      "Saved checkpoint: C:\\Users\\PC\\soilNet\\checkpoints_VicReg_tinyImagenet\\vicreg_mu_33.0_epoch_54.pth\n"
     ]
    },
    {
     "name": "stderr",
     "output_type": "stream",
     "text": [
      "                                                                                                                       "
     ]
    },
    {
     "name": "stdout",
     "output_type": "stream",
     "text": [
      "Epoch  55/60 (mu=33.0) - VICReg Loss: 28.4534, MSE: 1274.9965, RMSE: 35.7071, MAE: 28.7922, Accuracy: 0.17536691, F1-Score: 0.17559722\n",
      "Saved checkpoint: C:\\Users\\PC\\soilNet\\checkpoints_VicReg_tinyImagenet\\vicreg_mu_33.0_epoch_55.pth\n"
     ]
    },
    {
     "name": "stderr",
     "output_type": "stream",
     "text": [
      "                                                                                                                       "
     ]
    },
    {
     "name": "stdout",
     "output_type": "stream",
     "text": [
      "Epoch  56/60 (mu=33.0) - VICReg Loss: 28.4816, MSE: 1283.4525, RMSE: 35.8253, MAE: 28.9308, Accuracy: 0.17428286, F1-Score: 0.17886091\n",
      "Saved checkpoint: C:\\Users\\PC\\soilNet\\checkpoints_VicReg_tinyImagenet\\vicreg_mu_33.0_epoch_56.pth\n"
     ]
    },
    {
     "name": "stderr",
     "output_type": "stream",
     "text": [
      "                                                                                                                       "
     ]
    },
    {
     "name": "stdout",
     "output_type": "stream",
     "text": [
      "Epoch  57/60 (mu=33.0) - VICReg Loss: 28.4849, MSE: 1304.2522, RMSE: 36.1144, MAE: 29.1522, Accuracy: 0.17478319, F1-Score: 0.17648353\n",
      "Saved checkpoint: C:\\Users\\PC\\soilNet\\checkpoints_VicReg_tinyImagenet\\vicreg_mu_33.0_epoch_57.pth\n"
     ]
    },
    {
     "name": "stderr",
     "output_type": "stream",
     "text": [
      "                                                                                                                       "
     ]
    },
    {
     "name": "stdout",
     "output_type": "stream",
     "text": [
      "Epoch  58/60 (mu=33.0) - VICReg Loss: 28.4021, MSE: 1284.4382, RMSE: 35.8391, MAE: 28.9318, Accuracy: 0.18137091, F1-Score: 0.18250659\n",
      "Saved checkpoint: C:\\Users\\PC\\soilNet\\checkpoints_VicReg_tinyImagenet\\vicreg_mu_33.0_epoch_58.pth\n"
     ]
    },
    {
     "name": "stderr",
     "output_type": "stream",
     "text": [
      "                                                                                                                       "
     ]
    },
    {
     "name": "stdout",
     "output_type": "stream",
     "text": [
      "Epoch  59/60 (mu=33.0) - VICReg Loss: 28.4341, MSE: 1295.0809, RMSE: 35.9872, MAE: 29.0318, Accuracy: 0.17069713, F1-Score: 0.17242447\n",
      "Saved checkpoint: C:\\Users\\PC\\soilNet\\checkpoints_VicReg_tinyImagenet\\vicreg_mu_33.0_epoch_59.pth\n"
     ]
    },
    {
     "name": "stderr",
     "output_type": "stream",
     "text": [
      "                                                                                                                       "
     ]
    },
    {
     "name": "stdout",
     "output_type": "stream",
     "text": [
      "Epoch  60/60 (mu=33.0) - VICReg Loss: 28.3779, MSE: 1280.3366, RMSE: 35.7818, MAE: 28.9613, Accuracy: 0.17144763, F1-Score: 0.17240303\n",
      "Saved checkpoint: C:\\Users\\PC\\soilNet\\checkpoints_VicReg_tinyImagenet\\vicreg_mu_33.0_epoch_60.pth\n",
      "Saved final models (mu=33.0):\n",
      "  - Model: C:\\Users\\PC\\soilNet\\checkpoints_VicReg_tinyImagenet\\vicreg_model_final_mu_33.0.pth\n",
      "  - Projector: C:\\Users\\PC\\soilNet\\checkpoints_VicReg_tinyImagenet\\vicreg_projector_final_mu_33.0.pth\n",
      "  - Linear Regression: C:\\Users\\PC\\soilNet\\checkpoints_VicReg_tinyImagenet\\vicreg_linear_reg_final_mu_33.0.pth\n",
      "  - Classifier: C:\\Users\\PC\\soilNet\\checkpoints_VicReg_tinyImagenet\\vicreg_classifier_final_mu_33.0.pth\n"
     ]
    },
    {
     "name": "stderr",
     "output_type": "stream",
     "text": []
    }
   ],
   "source": [
    "for mu_val in [33.0]:\n",
    "    train_vicreg_with_mu(mu=mu_val, num_epochs=60)\n",
    "#for mu_val in [20.0, 23.0, 25.0, 27.0, 30.0, 33.0]:\n"
   ]
  },
  {
   "cell_type": "code",
   "execution_count": null,
   "id": "a2f324dd-4c7e-4794-a517-cfb750966851",
   "metadata": {},
   "outputs": [],
   "source": []
  }
 ],
 "metadata": {
  "kernelspec": {
   "display_name": "Python 3 (ipykernel)",
   "language": "python",
   "name": "python3"
  },
  "language_info": {
   "codemirror_mode": {
    "name": "ipython",
    "version": 3
   },
   "file_extension": ".py",
   "mimetype": "text/x-python",
   "name": "python",
   "nbconvert_exporter": "python",
   "pygments_lexer": "ipython3",
   "version": "3.10.16"
  }
 },
 "nbformat": 4,
 "nbformat_minor": 5
}
