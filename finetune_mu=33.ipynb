{
 "cells": [
  {
   "cell_type": "code",
   "execution_count": 1,
   "id": "37ffe4d9-53e0-48ad-b3ab-365e1ba12eb8",
   "metadata": {},
   "outputs": [
    {
     "name": "stdout",
     "output_type": "stream",
     "text": [
      "Using device: cuda\n",
      "PyTorch version: 2.6.0+cu118\n",
      "Total labeled images before check: 2057\n"
     ]
    },
    {
     "data": {
      "application/vnd.jupyter.widget-view+json": {
       "model_id": "245676b9d01443cbad29b561a2d4b580",
       "version_major": 2,
       "version_minor": 0
      },
      "text/plain": [
       "  0%|          | 0/2057 [00:00<?, ?it/s]"
      ]
     },
     "metadata": {},
     "output_type": "display_data"
    },
    {
     "name": "stdout",
     "output_type": "stream",
     "text": [
      "Image error: F:\\Soil_Labeled_Data\\M_10_20\\L_60_70\\alluvial\\IMG_0683.JPG\n",
      "Replaced with: F:\\Soil_Labeled_Data\\augmented_fallback\\aug_IMG_0683.JPG\n",
      "Image error: F:\\Soil_Labeled_Data\\M_10_20\\L_70_80\\alluvial\\IMG_0703.JPG\n",
      "Replaced with: F:\\Soil_Labeled_Data\\augmented_fallback\\aug_IMG_0703.JPG\n",
      "Image error: F:\\Soil_Labeled_Data\\M_10_20\\L_80_90\\alluvial\\IMG_0746.JPG\n",
      "Replaced with: F:\\Soil_Labeled_Data\\augmented_fallback\\aug_IMG_0746.JPG\n",
      "Image error: F:\\Soil_Labeled_Data\\M_10_20\\L_80_90\\alluvial\\IMG_0753.JPG\n",
      "Replaced with: F:\\Soil_Labeled_Data\\augmented_fallback\\aug_IMG_0753.JPG\n",
      "Image error: F:\\Soil_Labeled_Data\\M_10_20\\L_80_90\\alluvial\\IMG_0755.JPG\n",
      "Replaced with: F:\\Soil_Labeled_Data\\augmented_fallback\\aug_IMG_0755.JPG\n",
      "Replaced 5 invalid images with augmented versions.\n",
      "Loaded pretrained weights from C:\\Users\\PC\\soilNet\\checkpoints_VicReg\\vicreg_model_final_mu_33.0.pth\n",
      "Epoch 1/60\n"
     ]
    },
    {
     "data": {
      "application/vnd.jupyter.widget-view+json": {
       "model_id": "0a8395164edf4b66883171653b27566a",
       "version_major": 2,
       "version_minor": 0
      },
      "text/plain": [
       "  0%|          | 0/65 [00:00<?, ?it/s]"
      ]
     },
     "metadata": {},
     "output_type": "display_data"
    },
    {
     "name": "stdout",
     "output_type": "stream",
     "text": [
      "Loss → Total: 2.1964, Regression: 0.0628, Classification: 2.1336\n",
      "SM_0 → RMSE: 19.88418309, MAE: 15.64862728, ME: 0.13142854\n",
      "SM_20 → RMSE: 19.98710369, MAE: 15.80938148, ME: -0.02911328\n",
      "Classification → Accuracy: 0.27467185, F1-score: 0.25136027\n",
      "Epoch 2/60\n"
     ]
    },
    {
     "data": {
      "application/vnd.jupyter.widget-view+json": {
       "model_id": "c118260f332d4637be647ac945c6988a",
       "version_major": 2,
       "version_minor": 0
      },
      "text/plain": [
       "  0%|          | 0/65 [00:00<?, ?it/s]"
      ]
     },
     "metadata": {},
     "output_type": "display_data"
    },
    {
     "name": "stdout",
     "output_type": "stream",
     "text": [
      "Loss → Total: 1.8882, Regression: 0.0419, Classification: 1.8464\n",
      "SM_0 → RMSE: 16.93845582, MAE: 13.09577847, ME: 1.52138638\n",
      "SM_20 → RMSE: 17.02404162, MAE: 13.06004810, ME: 0.54528540\n",
      "Classification → Accuracy: 0.36801167, F1-score: 0.34687076\n",
      "Epoch 3/60\n"
     ]
    },
    {
     "data": {
      "application/vnd.jupyter.widget-view+json": {
       "model_id": "dc73c483b6dc457da81f81a361883274",
       "version_major": 2,
       "version_minor": 0
      },
      "text/plain": [
       "  0%|          | 0/65 [00:00<?, ?it/s]"
      ]
     },
     "metadata": {},
     "output_type": "display_data"
    },
    {
     "name": "stdout",
     "output_type": "stream",
     "text": [
      "Loss → Total: 1.7259, Regression: 0.0331, Classification: 1.6928\n",
      "SM_0 → RMSE: 15.25193049, MAE: 11.60319328, ME: 0.49840811\n",
      "SM_20 → RMSE: 15.13744756, MAE: 11.56893253, ME: 1.00628066\n",
      "Classification → Accuracy: 0.43801653, F1-score: 0.43816988\n",
      "Epoch 4/60\n"
     ]
    },
    {
     "data": {
      "application/vnd.jupyter.widget-view+json": {
       "model_id": "eb60ab8e221545d7be93ea62fac1454e",
       "version_major": 2,
       "version_minor": 0
      },
      "text/plain": [
       "  0%|          | 0/65 [00:00<?, ?it/s]"
      ]
     },
     "metadata": {},
     "output_type": "display_data"
    },
    {
     "name": "stdout",
     "output_type": "stream",
     "text": [
      "Loss → Total: 1.5728, Regression: 0.0268, Classification: 1.5460\n",
      "SM_0 → RMSE: 13.44766036, MAE: 10.34461975, ME: 1.64659429\n",
      "SM_20 → RMSE: 13.69608236, MAE: 10.64976215, ME: 0.71521771\n",
      "Classification → Accuracy: 0.49927078, F1-score: 0.48747921\n",
      "Epoch 5/60\n"
     ]
    },
    {
     "data": {
      "application/vnd.jupyter.widget-view+json": {
       "model_id": "0b7d4c3ba9b5431ca3f2a764887bcf56",
       "version_major": 2,
       "version_minor": 0
      },
      "text/plain": [
       "  0%|          | 0/65 [00:00<?, ?it/s]"
      ]
     },
     "metadata": {},
     "output_type": "display_data"
    },
    {
     "name": "stdout",
     "output_type": "stream",
     "text": [
      "Loss → Total: 1.4604, Regression: 0.0237, Classification: 1.4367\n",
      "SM_0 → RMSE: 13.51240027, MAE: 10.51920986, ME: 3.49339557\n",
      "SM_20 → RMSE: 13.85336349, MAE: 10.88659286, ME: 3.88041234\n",
      "Classification → Accuracy: 0.55371901, F1-score: 0.54793308\n",
      "Epoch 6/60\n"
     ]
    },
    {
     "data": {
      "application/vnd.jupyter.widget-view+json": {
       "model_id": "08d93b2fff9640c48ae497b9a4afd1b4",
       "version_major": 2,
       "version_minor": 0
      },
      "text/plain": [
       "  0%|          | 0/65 [00:00<?, ?it/s]"
      ]
     },
     "metadata": {},
     "output_type": "display_data"
    },
    {
     "name": "stdout",
     "output_type": "stream",
     "text": [
      "Loss → Total: 1.3482, Regression: 0.0235, Classification: 1.3247\n",
      "SM_0 → RMSE: 11.69955916, MAE: 9.11061954, ME: -0.05549169\n",
      "SM_20 → RMSE: 12.07129155, MAE: 9.57127380, ME: -1.22307122\n",
      "Classification → Accuracy: 0.58142927, F1-score: 0.57340071\n",
      "Epoch 7/60\n"
     ]
    },
    {
     "data": {
      "application/vnd.jupyter.widget-view+json": {
       "model_id": "08aeb790d78a4ef8816787a167bca87a",
       "version_major": 2,
       "version_minor": 0
      },
      "text/plain": [
       "  0%|          | 0/65 [00:00<?, ?it/s]"
      ]
     },
     "metadata": {},
     "output_type": "display_data"
    },
    {
     "name": "stdout",
     "output_type": "stream",
     "text": [
      "Loss → Total: 1.2554, Regression: 0.0199, Classification: 1.2355\n",
      "SM_0 → RMSE: 12.87743288, MAE: 10.24615479, ME: -0.03646320\n",
      "SM_20 → RMSE: 15.02006816, MAE: 11.93950558, ME: -1.99402881\n",
      "Classification → Accuracy: 0.62566845, F1-score: 0.61985374\n",
      "Epoch 8/60\n"
     ]
    },
    {
     "data": {
      "application/vnd.jupyter.widget-view+json": {
       "model_id": "e0351e26316b4eb7b15df1dd12bd7e60",
       "version_major": 2,
       "version_minor": 0
      },
      "text/plain": [
       "  0%|          | 0/65 [00:00<?, ?it/s]"
      ]
     },
     "metadata": {},
     "output_type": "display_data"
    },
    {
     "name": "stdout",
     "output_type": "stream",
     "text": [
      "Loss → Total: 1.1926, Regression: 0.0180, Classification: 1.1746\n",
      "SM_0 → RMSE: 11.57082616, MAE: 8.99172783, ME: 1.12680948\n",
      "SM_20 → RMSE: 11.68025905, MAE: 9.22511005, ME: 1.19263887\n",
      "Classification → Accuracy: 0.66310160, F1-score: 0.65875257\n",
      "Epoch 9/60\n"
     ]
    },
    {
     "data": {
      "application/vnd.jupyter.widget-view+json": {
       "model_id": "2269ce60eeff4125b7eb665ecd2687af",
       "version_major": 2,
       "version_minor": 0
      },
      "text/plain": [
       "  0%|          | 0/65 [00:00<?, ?it/s]"
      ]
     },
     "metadata": {},
     "output_type": "display_data"
    },
    {
     "name": "stdout",
     "output_type": "stream",
     "text": [
      "Loss → Total: 1.1075, Regression: 0.0179, Classification: 1.0896\n",
      "SM_0 → RMSE: 10.89496823, MAE: 8.46551991, ME: -0.80157799\n",
      "SM_20 → RMSE: 11.14702560, MAE: 8.75368786, ME: 0.05119256\n",
      "Classification → Accuracy: 0.69518717, F1-score: 0.69304966\n",
      "Epoch 10/60\n"
     ]
    },
    {
     "data": {
      "application/vnd.jupyter.widget-view+json": {
       "model_id": "94547e83f6754937afa07e4561da759e",
       "version_major": 2,
       "version_minor": 0
      },
      "text/plain": [
       "  0%|          | 0/65 [00:00<?, ?it/s]"
      ]
     },
     "metadata": {},
     "output_type": "display_data"
    },
    {
     "name": "stdout",
     "output_type": "stream",
     "text": [
      "Loss → Total: 1.0750, Regression: 0.0169, Classification: 1.0581\n",
      "SM_0 → RMSE: 10.18886215, MAE: 7.98673344, ME: 2.45590091\n",
      "SM_20 → RMSE: 10.31101655, MAE: 8.13291168, ME: 1.93587863\n",
      "Classification → Accuracy: 0.71366067, F1-score: 0.71157263\n",
      "Epoch 11/60\n"
     ]
    },
    {
     "data": {
      "application/vnd.jupyter.widget-view+json": {
       "model_id": "46c379c61e144d33bc4459f4e07383e3",
       "version_major": 2,
       "version_minor": 0
      },
      "text/plain": [
       "  0%|          | 0/65 [00:00<?, ?it/s]"
      ]
     },
     "metadata": {},
     "output_type": "display_data"
    },
    {
     "name": "stdout",
     "output_type": "stream",
     "text": [
      "Loss → Total: 1.0438, Regression: 0.0167, Classification: 1.0270\n",
      "SM_0 → RMSE: 9.57941770, MAE: 7.44484520, ME: 3.39399338\n",
      "SM_20 → RMSE: 9.12415885, MAE: 7.18662119, ME: 2.46984625\n",
      "Classification → Accuracy: 0.74963539, F1-score: 0.74389223\n",
      "Epoch 12/60\n"
     ]
    },
    {
     "data": {
      "application/vnd.jupyter.widget-view+json": {
       "model_id": "be83d16c5b744d9489126444a1cb0553",
       "version_major": 2,
       "version_minor": 0
      },
      "text/plain": [
       "  0%|          | 0/65 [00:00<?, ?it/s]"
      ]
     },
     "metadata": {},
     "output_type": "display_data"
    },
    {
     "name": "stdout",
     "output_type": "stream",
     "text": [
      "Loss → Total: 0.9721, Regression: 0.0147, Classification: 0.9574\n",
      "SM_0 → RMSE: 9.40295758, MAE: 7.31228256, ME: -1.88016391\n",
      "SM_20 → RMSE: 8.98171581, MAE: 7.04934168, ME: -0.65565032\n",
      "Classification → Accuracy: 0.74574623, F1-score: 0.74285600\n",
      "Epoch 13/60\n"
     ]
    },
    {
     "data": {
      "application/vnd.jupyter.widget-view+json": {
       "model_id": "ebaa29b1c50b4a299e524b15f9152a3a",
       "version_major": 2,
       "version_minor": 0
      },
      "text/plain": [
       "  0%|          | 0/65 [00:00<?, ?it/s]"
      ]
     },
     "metadata": {},
     "output_type": "display_data"
    },
    {
     "name": "stdout",
     "output_type": "stream",
     "text": [
      "Loss → Total: 0.9491, Regression: 0.0139, Classification: 0.9352\n",
      "SM_0 → RMSE: 8.46734495, MAE: 6.52776432, ME: 0.08195455\n",
      "SM_20 → RMSE: 8.26468300, MAE: 6.50715303, ME: 0.88937414\n",
      "Classification → Accuracy: 0.77053962, F1-score: 0.76881785\n",
      "Epoch 14/60\n"
     ]
    },
    {
     "data": {
      "application/vnd.jupyter.widget-view+json": {
       "model_id": "3baeac163b434e75ba8f67f671f1b751",
       "version_major": 2,
       "version_minor": 0
      },
      "text/plain": [
       "  0%|          | 0/65 [00:00<?, ?it/s]"
      ]
     },
     "metadata": {},
     "output_type": "display_data"
    },
    {
     "name": "stdout",
     "output_type": "stream",
     "text": [
      "Loss → Total: 0.8991, Regression: 0.0139, Classification: 0.8853\n",
      "SM_0 → RMSE: 9.02489673, MAE: 6.53885651, ME: 0.64858907\n",
      "SM_20 → RMSE: 9.72683664, MAE: 7.36494970, ME: 0.33619365\n",
      "Classification → Accuracy: 0.79338843, F1-score: 0.78983571\n",
      "Epoch 15/60\n"
     ]
    },
    {
     "data": {
      "application/vnd.jupyter.widget-view+json": {
       "model_id": "9aa9bde214934450824f08f09f4d0cdb",
       "version_major": 2,
       "version_minor": 0
      },
      "text/plain": [
       "  0%|          | 0/65 [00:00<?, ?it/s]"
      ]
     },
     "metadata": {},
     "output_type": "display_data"
    },
    {
     "name": "stdout",
     "output_type": "stream",
     "text": [
      "Loss → Total: 0.8402, Regression: 0.0119, Classification: 0.8283\n",
      "SM_0 → RMSE: 8.02759133, MAE: 6.11580133, ME: 0.03040622\n",
      "SM_20 → RMSE: 8.64837575, MAE: 6.69866133, ME: -0.03731963\n",
      "Classification → Accuracy: 0.80408362, F1-score: 0.79927145\n",
      "Epoch 16/60\n"
     ]
    },
    {
     "data": {
      "application/vnd.jupyter.widget-view+json": {
       "model_id": "49aaa2f481a647a9b785da32ffbbbc81",
       "version_major": 2,
       "version_minor": 0
      },
      "text/plain": [
       "  0%|          | 0/65 [00:00<?, ?it/s]"
      ]
     },
     "metadata": {},
     "output_type": "display_data"
    },
    {
     "name": "stdout",
     "output_type": "stream",
     "text": [
      "Loss → Total: 0.8166, Regression: 0.0119, Classification: 0.8046\n",
      "SM_0 → RMSE: 8.55928726, MAE: 6.59790325, ME: -1.45853603\n",
      "SM_20 → RMSE: 8.19051719, MAE: 6.50049877, ME: -0.62913311\n",
      "Classification → Accuracy: 0.80408362, F1-score: 0.80186126\n",
      "Epoch 17/60\n"
     ]
    },
    {
     "data": {
      "application/vnd.jupyter.widget-view+json": {
       "model_id": "4d1c3e7826b14abd907ff64f5d5811fb",
       "version_major": 2,
       "version_minor": 0
      },
      "text/plain": [
       "  0%|          | 0/65 [00:00<?, ?it/s]"
      ]
     },
     "metadata": {},
     "output_type": "display_data"
    },
    {
     "name": "stdout",
     "output_type": "stream",
     "text": [
      "Loss → Total: 0.7539, Regression: 0.0115, Classification: 0.7425\n",
      "SM_0 → RMSE: 9.33030729, MAE: 7.18518019, ME: 1.94680846\n",
      "SM_20 → RMSE: 9.46556597, MAE: 7.33781815, ME: 2.40663123\n",
      "Classification → Accuracy: 0.81964025, F1-score: 0.81637263\n",
      "Epoch 18/60\n"
     ]
    },
    {
     "data": {
      "application/vnd.jupyter.widget-view+json": {
       "model_id": "6c79bbadcb1e48b19bfd75b7fb892209",
       "version_major": 2,
       "version_minor": 0
      },
      "text/plain": [
       "  0%|          | 0/65 [00:00<?, ?it/s]"
      ]
     },
     "metadata": {},
     "output_type": "display_data"
    },
    {
     "name": "stdout",
     "output_type": "stream",
     "text": [
      "Loss → Total: 0.7298, Regression: 0.0115, Classification: 0.7183\n",
      "SM_0 → RMSE: 8.04278899, MAE: 6.22558832, ME: -1.15832937\n",
      "SM_20 → RMSE: 8.40987729, MAE: 6.59974670, ME: -1.47767067\n",
      "Classification → Accuracy: 0.82984930, F1-score: 0.82785435\n",
      "Epoch 19/60\n"
     ]
    },
    {
     "data": {
      "application/vnd.jupyter.widget-view+json": {
       "model_id": "8c9150cebb4c4982ae7f54708011ce46",
       "version_major": 2,
       "version_minor": 0
      },
      "text/plain": [
       "  0%|          | 0/65 [00:00<?, ?it/s]"
      ]
     },
     "metadata": {},
     "output_type": "display_data"
    },
    {
     "name": "stdout",
     "output_type": "stream",
     "text": [
      "Loss → Total: 0.6958, Regression: 0.0100, Classification: 0.6858\n",
      "SM_0 → RMSE: 7.59281106, MAE: 5.86216879, ME: -0.79813260\n",
      "SM_20 → RMSE: 8.03183183, MAE: 6.22139072, ME: -0.17076044\n",
      "Classification → Accuracy: 0.85172581, F1-score: 0.84960544\n",
      "Epoch 20/60\n"
     ]
    },
    {
     "data": {
      "application/vnd.jupyter.widget-view+json": {
       "model_id": "14a6e79eb2bc42f2afe35ab2249dbca5",
       "version_major": 2,
       "version_minor": 0
      },
      "text/plain": [
       "  0%|          | 0/65 [00:00<?, ?it/s]"
      ]
     },
     "metadata": {},
     "output_type": "display_data"
    },
    {
     "name": "stdout",
     "output_type": "stream",
     "text": [
      "Loss → Total: 0.7365, Regression: 0.0137, Classification: 0.7228\n",
      "SM_0 → RMSE: 8.20122792, MAE: 6.43106937, ME: -0.85727960\n",
      "SM_20 → RMSE: 8.60510214, MAE: 6.81268263, ME: -1.84991777\n",
      "Classification → Accuracy: 0.83325231, F1-score: 0.83699336\n",
      "Epoch 21/60\n"
     ]
    },
    {
     "data": {
      "application/vnd.jupyter.widget-view+json": {
       "model_id": "53009ec643ec4207a64e2a065de88568",
       "version_major": 2,
       "version_minor": 0
      },
      "text/plain": [
       "  0%|          | 0/65 [00:00<?, ?it/s]"
      ]
     },
     "metadata": {},
     "output_type": "display_data"
    },
    {
     "name": "stdout",
     "output_type": "stream",
     "text": [
      "Loss → Total: 0.7091, Regression: 0.0110, Classification: 0.6981\n",
      "SM_0 → RMSE: 10.33145120, MAE: 8.14735603, ME: 3.78328824\n",
      "SM_20 → RMSE: 9.89435660, MAE: 7.68473816, ME: 4.24711466\n",
      "Classification → Accuracy: 0.85172581, F1-score: 0.84749371\n",
      "Epoch 22/60\n"
     ]
    },
    {
     "data": {
      "application/vnd.jupyter.widget-view+json": {
       "model_id": "a598e7aa5c194a3ebe8c24d2d9b3e050",
       "version_major": 2,
       "version_minor": 0
      },
      "text/plain": [
       "  0%|          | 0/65 [00:00<?, ?it/s]"
      ]
     },
     "metadata": {},
     "output_type": "display_data"
    },
    {
     "name": "stdout",
     "output_type": "stream",
     "text": [
      "Loss → Total: 0.6938, Regression: 0.0110, Classification: 0.6828\n",
      "SM_0 → RMSE: 7.93386758, MAE: 5.99568415, ME: -0.19156565\n",
      "SM_20 → RMSE: 8.17678295, MAE: 6.20402336, ME: 1.55432439\n",
      "Classification → Accuracy: 0.84735051, F1-score: 0.84850790\n",
      "Epoch 23/60\n"
     ]
    },
    {
     "data": {
      "application/vnd.jupyter.widget-view+json": {
       "model_id": "17792598c3d649c493175161ea1c0737",
       "version_major": 2,
       "version_minor": 0
      },
      "text/plain": [
       "  0%|          | 0/65 [00:00<?, ?it/s]"
      ]
     },
     "metadata": {},
     "output_type": "display_data"
    },
    {
     "name": "stdout",
     "output_type": "stream",
     "text": [
      "Loss → Total: 0.7120, Regression: 0.0112, Classification: 0.7008\n",
      "SM_0 → RMSE: 7.57554573, MAE: 5.91568518, ME: -0.27683416\n",
      "SM_20 → RMSE: 7.70836877, MAE: 5.98534012, ME: -0.06630981\n",
      "Classification → Accuracy: 0.85026738, F1-score: 0.84832485\n",
      "Epoch 24/60\n"
     ]
    },
    {
     "data": {
      "application/vnd.jupyter.widget-view+json": {
       "model_id": "a1476d01399f4e27a0e93020acbbe671",
       "version_major": 2,
       "version_minor": 0
      },
      "text/plain": [
       "  0%|          | 0/65 [00:00<?, ?it/s]"
      ]
     },
     "metadata": {},
     "output_type": "display_data"
    },
    {
     "name": "stdout",
     "output_type": "stream",
     "text": [
      "Loss → Total: 0.6075, Regression: 0.0096, Classification: 0.5979\n",
      "SM_0 → RMSE: 8.01117831, MAE: 6.13886118, ME: -1.32653296\n",
      "SM_20 → RMSE: 8.02970236, MAE: 6.19299603, ME: -1.25794387\n",
      "Classification → Accuracy: 0.88186680, F1-score: 0.88269485\n",
      "Epoch 25/60\n"
     ]
    },
    {
     "data": {
      "application/vnd.jupyter.widget-view+json": {
       "model_id": "0114f34a43e545339e1562df15ebd8a3",
       "version_major": 2,
       "version_minor": 0
      },
      "text/plain": [
       "  0%|          | 0/65 [00:00<?, ?it/s]"
      ]
     },
     "metadata": {},
     "output_type": "display_data"
    },
    {
     "name": "stdout",
     "output_type": "stream",
     "text": [
      "Loss → Total: 0.6066, Regression: 0.0097, Classification: 0.5969\n",
      "SM_0 → RMSE: 7.37007830, MAE: 5.74947691, ME: -1.30115724\n",
      "SM_20 → RMSE: 7.44180917, MAE: 5.77259731, ME: 0.02096313\n",
      "Classification → Accuracy: 0.88138065, F1-score: 0.88170342\n",
      "Epoch 26/60\n"
     ]
    },
    {
     "data": {
      "application/vnd.jupyter.widget-view+json": {
       "model_id": "a3539984754f401e8135acaf5dade40b",
       "version_major": 2,
       "version_minor": 0
      },
      "text/plain": [
       "  0%|          | 0/65 [00:00<?, ?it/s]"
      ]
     },
     "metadata": {},
     "output_type": "display_data"
    },
    {
     "name": "stdout",
     "output_type": "stream",
     "text": [
      "Loss → Total: 0.6533, Regression: 0.0103, Classification: 0.6430\n",
      "SM_0 → RMSE: 8.39843296, MAE: 6.36613798, ME: 3.74819231\n",
      "SM_20 → RMSE: 8.18068266, MAE: 6.28129244, ME: 3.27669764\n",
      "Classification → Accuracy: 0.87457462, F1-score: 0.87443752\n",
      "Epoch 27/60\n"
     ]
    },
    {
     "data": {
      "application/vnd.jupyter.widget-view+json": {
       "model_id": "8db6848db1a74680b869151cce97477f",
       "version_major": 2,
       "version_minor": 0
      },
      "text/plain": [
       "  0%|          | 0/65 [00:00<?, ?it/s]"
      ]
     },
     "metadata": {},
     "output_type": "display_data"
    },
    {
     "name": "stdout",
     "output_type": "stream",
     "text": [
      "Loss → Total: 0.5610, Regression: 0.0098, Classification: 0.5512\n",
      "SM_0 → RMSE: 7.53339783, MAE: 5.73684788, ME: 0.30535978\n",
      "SM_20 → RMSE: 7.59003449, MAE: 5.89397764, ME: 0.29483438\n",
      "Classification → Accuracy: 0.88478367, F1-score: 0.88534293\n",
      "Epoch 28/60\n"
     ]
    },
    {
     "data": {
      "application/vnd.jupyter.widget-view+json": {
       "model_id": "0d6ae53df1af4e27b5e827f8151439ed",
       "version_major": 2,
       "version_minor": 0
      },
      "text/plain": [
       "  0%|          | 0/65 [00:00<?, ?it/s]"
      ]
     },
     "metadata": {},
     "output_type": "display_data"
    },
    {
     "name": "stdout",
     "output_type": "stream",
     "text": [
      "Loss → Total: 0.5564, Regression: 0.0097, Classification: 0.5466\n",
      "SM_0 → RMSE: 7.52598622, MAE: 5.88831806, ME: 0.72936815\n",
      "SM_20 → RMSE: 8.18833442, MAE: 6.30546856, ME: 1.13896668\n",
      "Classification → Accuracy: 0.92075839, F1-score: 0.92102042\n",
      "Epoch 29/60\n"
     ]
    },
    {
     "data": {
      "application/vnd.jupyter.widget-view+json": {
       "model_id": "3ab3f01f719045c59f1cf49f14f5fce7",
       "version_major": 2,
       "version_minor": 0
      },
      "text/plain": [
       "  0%|          | 0/65 [00:00<?, ?it/s]"
      ]
     },
     "metadata": {},
     "output_type": "display_data"
    },
    {
     "name": "stdout",
     "output_type": "stream",
     "text": [
      "Loss → Total: 0.5627, Regression: 0.0090, Classification: 0.5538\n",
      "SM_0 → RMSE: 7.82753972, MAE: 5.95930195, ME: 0.40813369\n",
      "SM_20 → RMSE: 7.80757828, MAE: 6.04063225, ME: 0.05903861\n",
      "Classification → Accuracy: 0.91346621, F1-score: 0.91321656\n",
      "Epoch 30/60\n"
     ]
    },
    {
     "data": {
      "application/vnd.jupyter.widget-view+json": {
       "model_id": "fff3ee9d262944f9aa251e8bc6e780eb",
       "version_major": 2,
       "version_minor": 0
      },
      "text/plain": [
       "  0%|          | 0/65 [00:00<?, ?it/s]"
      ]
     },
     "metadata": {},
     "output_type": "display_data"
    },
    {
     "name": "stdout",
     "output_type": "stream",
     "text": [
      "Loss → Total: 0.5384, Regression: 0.0087, Classification: 0.5297\n",
      "SM_0 → RMSE: 7.40213401, MAE: 5.64568758, ME: -0.85477978\n",
      "SM_20 → RMSE: 7.22391131, MAE: 5.58430338, ME: -0.73417073\n",
      "Classification → Accuracy: 0.90034030, F1-score: 0.90060095\n",
      "Epoch 31/60\n"
     ]
    },
    {
     "data": {
      "application/vnd.jupyter.widget-view+json": {
       "model_id": "378def1222ac4a60a42fed65599840c4",
       "version_major": 2,
       "version_minor": 0
      },
      "text/plain": [
       "  0%|          | 0/65 [00:00<?, ?it/s]"
      ]
     },
     "metadata": {},
     "output_type": "display_data"
    },
    {
     "name": "stdout",
     "output_type": "stream",
     "text": [
      "Loss → Total: 0.5515, Regression: 0.0091, Classification: 0.5425\n",
      "SM_0 → RMSE: 7.55525832, MAE: 5.93684101, ME: 1.16114187\n",
      "SM_20 → RMSE: 7.15126230, MAE: 5.57980871, ME: 1.21838486\n",
      "Classification → Accuracy: 0.90228488, F1-score: 0.90157795\n",
      "Epoch 32/60\n"
     ]
    },
    {
     "data": {
      "application/vnd.jupyter.widget-view+json": {
       "model_id": "10015780c93a4a1bae3f0292010015d5",
       "version_major": 2,
       "version_minor": 0
      },
      "text/plain": [
       "  0%|          | 0/65 [00:00<?, ?it/s]"
      ]
     },
     "metadata": {},
     "output_type": "display_data"
    },
    {
     "name": "stdout",
     "output_type": "stream",
     "text": [
      "Loss → Total: 0.5083, Regression: 0.0088, Classification: 0.4995\n",
      "SM_0 → RMSE: 6.72225194, MAE: 5.07107878, ME: 1.05208778\n",
      "SM_20 → RMSE: 6.78278864, MAE: 5.26153851, ME: 1.18950677\n",
      "Classification → Accuracy: 0.93048128, F1-score: 0.93065073\n",
      "Epoch 33/60\n"
     ]
    },
    {
     "data": {
      "application/vnd.jupyter.widget-view+json": {
       "model_id": "fe6c0bf93e024c69b3292e53c3ae7e55",
       "version_major": 2,
       "version_minor": 0
      },
      "text/plain": [
       "  0%|          | 0/65 [00:00<?, ?it/s]"
      ]
     },
     "metadata": {},
     "output_type": "display_data"
    },
    {
     "name": "stdout",
     "output_type": "stream",
     "text": [
      "Loss → Total: 0.5149, Regression: 0.0087, Classification: 0.5062\n",
      "SM_0 → RMSE: 7.47191728, MAE: 5.72760582, ME: -1.69450212\n",
      "SM_20 → RMSE: 8.55012453, MAE: 6.67795706, ME: -2.95012379\n",
      "Classification → Accuracy: 0.90957705, F1-score: 0.90955330\n",
      "Epoch 34/60\n"
     ]
    },
    {
     "data": {
      "application/vnd.jupyter.widget-view+json": {
       "model_id": "3787ccc44ba14c289013342431cd082c",
       "version_major": 2,
       "version_minor": 0
      },
      "text/plain": [
       "  0%|          | 0/65 [00:00<?, ?it/s]"
      ]
     },
     "metadata": {},
     "output_type": "display_data"
    },
    {
     "name": "stdout",
     "output_type": "stream",
     "text": [
      "Loss → Total: 0.5109, Regression: 0.0083, Classification: 0.5026\n",
      "SM_0 → RMSE: 7.40597778, MAE: 5.73597956, ME: 0.98908728\n",
      "SM_20 → RMSE: 7.20712705, MAE: 5.45552969, ME: 1.40021098\n",
      "Classification → Accuracy: 0.91346621, F1-score: 0.91275166\n",
      "Epoch 35/60\n"
     ]
    },
    {
     "data": {
      "application/vnd.jupyter.widget-view+json": {
       "model_id": "2a44180cd5104dc68dec8c026390a925",
       "version_major": 2,
       "version_minor": 0
      },
      "text/plain": [
       "  0%|          | 0/65 [00:00<?, ?it/s]"
      ]
     },
     "metadata": {},
     "output_type": "display_data"
    },
    {
     "name": "stdout",
     "output_type": "stream",
     "text": [
      "Loss → Total: 0.4802, Regression: 0.0081, Classification: 0.4721\n",
      "SM_0 → RMSE: 6.86896430, MAE: 5.21443748, ME: 0.35036555\n",
      "SM_20 → RMSE: 7.06922417, MAE: 5.48514938, ME: 0.57500571\n",
      "Classification → Accuracy: 0.91589694, F1-score: 0.91511423\n",
      "Epoch 36/60\n"
     ]
    },
    {
     "data": {
      "application/vnd.jupyter.widget-view+json": {
       "model_id": "6675e50070be4ee9ae143db969fcc965",
       "version_major": 2,
       "version_minor": 0
      },
      "text/plain": [
       "  0%|          | 0/65 [00:00<?, ?it/s]"
      ]
     },
     "metadata": {},
     "output_type": "display_data"
    },
    {
     "name": "stdout",
     "output_type": "stream",
     "text": [
      "Loss → Total: 0.4521, Regression: 0.0080, Classification: 0.4441\n",
      "SM_0 → RMSE: 6.41432567, MAE: 4.88338232, ME: -0.93542629\n",
      "SM_20 → RMSE: 6.64835574, MAE: 5.16076469, ME: -0.91468573\n",
      "Classification → Accuracy: 0.92950899, F1-score: 0.92966313\n",
      "Epoch 37/60\n"
     ]
    },
    {
     "data": {
      "application/vnd.jupyter.widget-view+json": {
       "model_id": "17aac06d4f2a42699fd4d75e131809b5",
       "version_major": 2,
       "version_minor": 0
      },
      "text/plain": [
       "  0%|          | 0/65 [00:00<?, ?it/s]"
      ]
     },
     "metadata": {},
     "output_type": "display_data"
    },
    {
     "name": "stdout",
     "output_type": "stream",
     "text": [
      "Loss → Total: 0.4579, Regression: 0.0083, Classification: 0.4496\n",
      "SM_0 → RMSE: 6.96947609, MAE: 5.24347353, ME: 0.03296128\n",
      "SM_20 → RMSE: 7.06817858, MAE: 5.32779789, ME: 0.24686822\n",
      "Classification → Accuracy: 0.90860476, F1-score: 0.90862117\n",
      "Epoch 38/60\n"
     ]
    },
    {
     "data": {
      "application/vnd.jupyter.widget-view+json": {
       "model_id": "ddbb05c79e834c99b8c7b3408836a656",
       "version_major": 2,
       "version_minor": 0
      },
      "text/plain": [
       "  0%|          | 0/65 [00:00<?, ?it/s]"
      ]
     },
     "metadata": {},
     "output_type": "display_data"
    },
    {
     "name": "stdout",
     "output_type": "stream",
     "text": [
      "Loss → Total: 0.4586, Regression: 0.0077, Classification: 0.4509\n",
      "SM_0 → RMSE: 6.61056818, MAE: 5.05430031, ME: -0.79304773\n",
      "SM_20 → RMSE: 6.80460593, MAE: 5.25263262, ME: -0.77495492\n",
      "Classification → Accuracy: 0.92173068, F1-score: 0.92290457\n",
      "Epoch 39/60\n"
     ]
    },
    {
     "data": {
      "application/vnd.jupyter.widget-view+json": {
       "model_id": "bc75507c46eb4fe3ac5c6e21464e144b",
       "version_major": 2,
       "version_minor": 0
      },
      "text/plain": [
       "  0%|          | 0/65 [00:00<?, ?it/s]"
      ]
     },
     "metadata": {},
     "output_type": "display_data"
    },
    {
     "name": "stdout",
     "output_type": "stream",
     "text": [
      "Loss → Total: 0.4070, Regression: 0.0068, Classification: 0.4003\n",
      "SM_0 → RMSE: 6.52574692, MAE: 5.03459787, ME: -0.76725990\n",
      "SM_20 → RMSE: 6.25438048, MAE: 4.81076193, ME: -0.00613978\n",
      "Classification → Accuracy: 0.93388430, F1-score: 0.93358822\n",
      "Epoch 40/60\n"
     ]
    },
    {
     "data": {
      "application/vnd.jupyter.widget-view+json": {
       "model_id": "bcd87f61b063424bacb3c17409b0098d",
       "version_major": 2,
       "version_minor": 0
      },
      "text/plain": [
       "  0%|          | 0/65 [00:00<?, ?it/s]"
      ]
     },
     "metadata": {},
     "output_type": "display_data"
    },
    {
     "name": "stdout",
     "output_type": "stream",
     "text": [
      "Loss → Total: 0.4682, Regression: 0.0089, Classification: 0.4593\n",
      "SM_0 → RMSE: 6.51333512, MAE: 4.91584682, ME: 0.87090415\n",
      "SM_20 → RMSE: 6.49657937, MAE: 4.98615742, ME: -0.22798419\n",
      "Classification → Accuracy: 0.92999514, F1-score: 0.92973096\n",
      "Epoch 41/60\n"
     ]
    },
    {
     "data": {
      "application/vnd.jupyter.widget-view+json": {
       "model_id": "a3371a2977b24417888176acfff5fb18",
       "version_major": 2,
       "version_minor": 0
      },
      "text/plain": [
       "  0%|          | 0/65 [00:00<?, ?it/s]"
      ]
     },
     "metadata": {},
     "output_type": "display_data"
    },
    {
     "name": "stdout",
     "output_type": "stream",
     "text": [
      "Loss → Total: 0.4512, Regression: 0.0083, Classification: 0.4429\n",
      "SM_0 → RMSE: 6.68451203, MAE: 5.09590054, ME: 0.00971954\n",
      "SM_20 → RMSE: 6.54710748, MAE: 4.98572636, ME: 0.83768290\n",
      "Classification → Accuracy: 0.93339815, F1-score: 0.93365464\n",
      "Epoch 42/60\n"
     ]
    },
    {
     "data": {
      "application/vnd.jupyter.widget-view+json": {
       "model_id": "9b9f4f54f27b426986d6bcf161c76cd1",
       "version_major": 2,
       "version_minor": 0
      },
      "text/plain": [
       "  0%|          | 0/65 [00:00<?, ?it/s]"
      ]
     },
     "metadata": {},
     "output_type": "display_data"
    },
    {
     "name": "stdout",
     "output_type": "stream",
     "text": [
      "Loss → Total: 0.4132, Regression: 0.0073, Classification: 0.4059\n",
      "SM_0 → RMSE: 6.47958248, MAE: 4.97332382, ME: -0.48736939\n",
      "SM_20 → RMSE: 6.24361674, MAE: 4.71386290, ME: 0.04144904\n",
      "Classification → Accuracy: 0.94360719, F1-score: 0.94381330\n",
      "Epoch 43/60\n"
     ]
    },
    {
     "data": {
      "application/vnd.jupyter.widget-view+json": {
       "model_id": "8cc5a81d117e4dd69fddf008854e6dcb",
       "version_major": 2,
       "version_minor": 0
      },
      "text/plain": [
       "  0%|          | 0/65 [00:00<?, ?it/s]"
      ]
     },
     "metadata": {},
     "output_type": "display_data"
    },
    {
     "name": "stdout",
     "output_type": "stream",
     "text": [
      "Loss → Total: 0.4025, Regression: 0.0073, Classification: 0.3953\n",
      "SM_0 → RMSE: 6.59636213, MAE: 4.94278097, ME: 1.05865753\n",
      "SM_20 → RMSE: 6.69882043, MAE: 5.08564663, ME: 0.80878472\n",
      "Classification → Accuracy: 0.93777346, F1-score: 0.93797616\n",
      "Epoch 44/60\n"
     ]
    },
    {
     "data": {
      "application/vnd.jupyter.widget-view+json": {
       "model_id": "a737f552e6bc413bb00ea896860b43eb",
       "version_major": 2,
       "version_minor": 0
      },
      "text/plain": [
       "  0%|          | 0/65 [00:00<?, ?it/s]"
      ]
     },
     "metadata": {},
     "output_type": "display_data"
    },
    {
     "name": "stdout",
     "output_type": "stream",
     "text": [
      "Loss → Total: 0.3915, Regression: 0.0069, Classification: 0.3846\n",
      "SM_0 → RMSE: 6.65127879, MAE: 5.06041288, ME: -0.85530782\n",
      "SM_20 → RMSE: 6.10162658, MAE: 4.68722916, ME: 0.90412253\n",
      "Classification → Accuracy: 0.94214876, F1-score: 0.94226805\n",
      "Epoch 45/60\n"
     ]
    },
    {
     "data": {
      "application/vnd.jupyter.widget-view+json": {
       "model_id": "69b103cd6fea446e84ae100786cf62e8",
       "version_major": 2,
       "version_minor": 0
      },
      "text/plain": [
       "  0%|          | 0/65 [00:00<?, ?it/s]"
      ]
     },
     "metadata": {},
     "output_type": "display_data"
    },
    {
     "name": "stdout",
     "output_type": "stream",
     "text": [
      "Loss → Total: 0.3719, Regression: 0.0069, Classification: 0.3650\n",
      "SM_0 → RMSE: 6.46347494, MAE: 4.93219233, ME: 0.28189069\n",
      "SM_20 → RMSE: 6.46678390, MAE: 4.99752140, ME: 0.80218589\n",
      "Classification → Accuracy: 0.93923189, F1-score: 0.93910654\n",
      "Epoch 46/60\n"
     ]
    },
    {
     "data": {
      "application/vnd.jupyter.widget-view+json": {
       "model_id": "f03d45acfd6a4c90899de48d2ada1216",
       "version_major": 2,
       "version_minor": 0
      },
      "text/plain": [
       "  0%|          | 0/65 [00:00<?, ?it/s]"
      ]
     },
     "metadata": {},
     "output_type": "display_data"
    },
    {
     "name": "stdout",
     "output_type": "stream",
     "text": [
      "Loss → Total: 0.3626, Regression: 0.0067, Classification: 0.3560\n",
      "SM_0 → RMSE: 6.07246697, MAE: 4.52314806, ME: -0.24972042\n",
      "SM_20 → RMSE: 6.10718952, MAE: 4.60201454, ME: -0.77872622\n",
      "Classification → Accuracy: 0.93096743, F1-score: 0.93125803\n",
      "Epoch 47/60\n"
     ]
    },
    {
     "data": {
      "application/vnd.jupyter.widget-view+json": {
       "model_id": "00c0c570e54f4ba28c04b53b3d4bcaf6",
       "version_major": 2,
       "version_minor": 0
      },
      "text/plain": [
       "  0%|          | 0/65 [00:00<?, ?it/s]"
      ]
     },
     "metadata": {},
     "output_type": "display_data"
    },
    {
     "name": "stdout",
     "output_type": "stream",
     "text": [
      "Loss → Total: 0.4542, Regression: 0.0093, Classification: 0.4448\n",
      "SM_0 → RMSE: 10.08116967, MAE: 7.62889814, ME: -4.16181087\n",
      "SM_20 → RMSE: 9.33697570, MAE: 6.98666525, ME: -4.04267406\n",
      "Classification → Accuracy: 0.94020418, F1-score: 0.94035139\n",
      "Epoch 48/60\n"
     ]
    },
    {
     "data": {
      "application/vnd.jupyter.widget-view+json": {
       "model_id": "6c482c154b5f467b84d36dcb7ce2d2f4",
       "version_major": 2,
       "version_minor": 0
      },
      "text/plain": [
       "  0%|          | 0/65 [00:00<?, ?it/s]"
      ]
     },
     "metadata": {},
     "output_type": "display_data"
    },
    {
     "name": "stdout",
     "output_type": "stream",
     "text": [
      "Loss → Total: 0.3612, Regression: 0.0091, Classification: 0.3521\n",
      "SM_0 → RMSE: 6.53737634, MAE: 4.91675949, ME: -0.85992247\n",
      "SM_20 → RMSE: 6.48448795, MAE: 4.89829111, ME: -0.83429950\n",
      "Classification → Accuracy: 0.94846864, F1-score: 0.94878661\n",
      "Epoch 49/60\n"
     ]
    },
    {
     "data": {
      "application/vnd.jupyter.widget-view+json": {
       "model_id": "cfa35674a7cf400488f5340efc6c64da",
       "version_major": 2,
       "version_minor": 0
      },
      "text/plain": [
       "  0%|          | 0/65 [00:00<?, ?it/s]"
      ]
     },
     "metadata": {},
     "output_type": "display_data"
    },
    {
     "name": "stdout",
     "output_type": "stream",
     "text": [
      "Loss → Total: 0.3550, Regression: 0.0064, Classification: 0.3486\n",
      "SM_0 → RMSE: 7.31465443, MAE: 5.40953922, ME: -0.74266690\n",
      "SM_20 → RMSE: 6.64512945, MAE: 4.93102646, ME: -0.44859114\n",
      "Classification → Accuracy: 0.94166262, F1-score: 0.94212248\n",
      "Epoch 50/60\n"
     ]
    },
    {
     "data": {
      "application/vnd.jupyter.widget-view+json": {
       "model_id": "e774888e0a1d40ac900a68b586dfdbb7",
       "version_major": 2,
       "version_minor": 0
      },
      "text/plain": [
       "  0%|          | 0/65 [00:00<?, ?it/s]"
      ]
     },
     "metadata": {},
     "output_type": "display_data"
    },
    {
     "name": "stdout",
     "output_type": "stream",
     "text": [
      "Loss → Total: 0.3606, Regression: 0.0067, Classification: 0.3539\n",
      "SM_0 → RMSE: 6.16092593, MAE: 4.64870644, ME: -0.91376919\n",
      "SM_20 → RMSE: 6.76441180, MAE: 5.22581148, ME: -1.34544635\n",
      "Classification → Accuracy: 0.94555177, F1-score: 0.94609347\n",
      "Epoch 51/60\n"
     ]
    },
    {
     "data": {
      "application/vnd.jupyter.widget-view+json": {
       "model_id": "331f8234c3d04ddc845e1ad3b119397a",
       "version_major": 2,
       "version_minor": 0
      },
      "text/plain": [
       "  0%|          | 0/65 [00:00<?, ?it/s]"
      ]
     },
     "metadata": {},
     "output_type": "display_data"
    },
    {
     "name": "stdout",
     "output_type": "stream",
     "text": [
      "Loss → Total: 0.3255, Regression: 0.0068, Classification: 0.3187\n",
      "SM_0 → RMSE: 5.84985424, MAE: 4.36093235, ME: 0.14666742\n",
      "SM_20 → RMSE: 5.79334935, MAE: 4.33095980, ME: 0.38169470\n",
      "Classification → Accuracy: 0.94652406, F1-score: 0.94660578\n",
      "Epoch 52/60\n"
     ]
    },
    {
     "data": {
      "application/vnd.jupyter.widget-view+json": {
       "model_id": "6a961cb13af64acf9a69eebf6dd23d03",
       "version_major": 2,
       "version_minor": 0
      },
      "text/plain": [
       "  0%|          | 0/65 [00:00<?, ?it/s]"
      ]
     },
     "metadata": {},
     "output_type": "display_data"
    },
    {
     "name": "stdout",
     "output_type": "stream",
     "text": [
      "Loss → Total: 0.3824, Regression: 0.0067, Classification: 0.3756\n",
      "SM_0 → RMSE: 6.28482000, MAE: 4.74704218, ME: 0.40326577\n",
      "SM_20 → RMSE: 6.54309235, MAE: 4.94133759, ME: 0.95624030\n",
      "Classification → Accuracy: 0.94214876, F1-score: 0.94243485\n",
      "Epoch 53/60\n"
     ]
    },
    {
     "data": {
      "application/vnd.jupyter.widget-view+json": {
       "model_id": "d4a940f6933943b19a051847119dd7b7",
       "version_major": 2,
       "version_minor": 0
      },
      "text/plain": [
       "  0%|          | 0/65 [00:00<?, ?it/s]"
      ]
     },
     "metadata": {},
     "output_type": "display_data"
    },
    {
     "name": "stdout",
     "output_type": "stream",
     "text": [
      "Loss → Total: 0.3541, Regression: 0.0073, Classification: 0.3469\n",
      "SM_0 → RMSE: 5.82717421, MAE: 4.42126083, ME: 0.46023977\n",
      "SM_20 → RMSE: 6.05993000, MAE: 4.66257954, ME: 0.77823097\n",
      "Classification → Accuracy: 0.94214876, F1-score: 0.94258544\n",
      "Epoch 54/60\n"
     ]
    },
    {
     "data": {
      "application/vnd.jupyter.widget-view+json": {
       "model_id": "b3327d41a74a48b6be0168c551b323a4",
       "version_major": 2,
       "version_minor": 0
      },
      "text/plain": [
       "  0%|          | 0/65 [00:00<?, ?it/s]"
      ]
     },
     "metadata": {},
     "output_type": "display_data"
    },
    {
     "name": "stdout",
     "output_type": "stream",
     "text": [
      "Loss → Total: 0.3731, Regression: 0.0077, Classification: 0.3654\n",
      "SM_0 → RMSE: 6.30812420, MAE: 4.78351736, ME: -0.76429319\n",
      "SM_20 → RMSE: 7.60819105, MAE: 5.78822803, ME: -1.74775434\n",
      "Classification → Accuracy: 0.94944093, F1-score: 0.95004250\n",
      "Epoch 55/60\n"
     ]
    },
    {
     "data": {
      "application/vnd.jupyter.widget-view+json": {
       "model_id": "946344b3ce2644808580631ab00fa020",
       "version_major": 2,
       "version_minor": 0
      },
      "text/plain": [
       "  0%|          | 0/65 [00:00<?, ?it/s]"
      ]
     },
     "metadata": {},
     "output_type": "display_data"
    },
    {
     "name": "stdout",
     "output_type": "stream",
     "text": [
      "Loss → Total: 0.3110, Regression: 0.0061, Classification: 0.3049\n",
      "SM_0 → RMSE: 6.58049320, MAE: 5.06309652, ME: -1.46767688\n",
      "SM_20 → RMSE: 6.49580160, MAE: 4.94981861, ME: -1.16456664\n",
      "Classification → Accuracy: 0.95235780, F1-score: 0.95245018\n",
      "Epoch 56/60\n"
     ]
    },
    {
     "data": {
      "application/vnd.jupyter.widget-view+json": {
       "model_id": "b37a31b94d5b4098a3d81fc6ebf4006d",
       "version_major": 2,
       "version_minor": 0
      },
      "text/plain": [
       "  0%|          | 0/65 [00:00<?, ?it/s]"
      ]
     },
     "metadata": {},
     "output_type": "display_data"
    },
    {
     "name": "stdout",
     "output_type": "stream",
     "text": [
      "Loss → Total: 0.3888, Regression: 0.0066, Classification: 0.3822\n",
      "SM_0 → RMSE: 6.30723549, MAE: 4.88262367, ME: -0.18319722\n",
      "SM_20 → RMSE: 5.98010835, MAE: 4.61271811, ME: 0.39654002\n",
      "Classification → Accuracy: 0.94944093, F1-score: 0.94950482\n",
      "Epoch 57/60\n"
     ]
    },
    {
     "data": {
      "application/vnd.jupyter.widget-view+json": {
       "model_id": "28cca2fec4ef4357acae7eef0245c88b",
       "version_major": 2,
       "version_minor": 0
      },
      "text/plain": [
       "  0%|          | 0/65 [00:00<?, ?it/s]"
      ]
     },
     "metadata": {},
     "output_type": "display_data"
    },
    {
     "name": "stdout",
     "output_type": "stream",
     "text": [
      "Loss → Total: 0.3683, Regression: 0.0068, Classification: 0.3615\n",
      "SM_0 → RMSE: 6.76157009, MAE: 5.23436117, ME: -0.66218501\n",
      "SM_20 → RMSE: 7.43708890, MAE: 5.85341024, ME: -0.97463256\n",
      "Classification → Accuracy: 0.94117647, F1-score: 0.94138499\n",
      "Epoch 58/60\n"
     ]
    },
    {
     "data": {
      "application/vnd.jupyter.widget-view+json": {
       "model_id": "db6fd99e03b846d6803cc57275bc8d3c",
       "version_major": 2,
       "version_minor": 0
      },
      "text/plain": [
       "  0%|          | 0/65 [00:00<?, ?it/s]"
      ]
     },
     "metadata": {},
     "output_type": "display_data"
    },
    {
     "name": "stdout",
     "output_type": "stream",
     "text": [
      "Loss → Total: 0.3520, Regression: 0.0068, Classification: 0.3452\n",
      "SM_0 → RMSE: 5.75215142, MAE: 4.36105728, ME: -0.40192473\n",
      "SM_20 → RMSE: 5.86786689, MAE: 4.46665001, ME: -0.95791787\n",
      "Classification → Accuracy: 0.95138551, F1-score: 0.95162753\n",
      "Epoch 59/60\n"
     ]
    },
    {
     "data": {
      "application/vnd.jupyter.widget-view+json": {
       "model_id": "5711610b1e264f5eaf939ea1af049cc8",
       "version_major": 2,
       "version_minor": 0
      },
      "text/plain": [
       "  0%|          | 0/65 [00:00<?, ?it/s]"
      ]
     },
     "metadata": {},
     "output_type": "display_data"
    },
    {
     "name": "stdout",
     "output_type": "stream",
     "text": [
      "Loss → Total: 0.3694, Regression: 0.0071, Classification: 0.3623\n",
      "SM_0 → RMSE: 6.97706033, MAE: 5.19791317, ME: -1.03159392\n",
      "SM_20 → RMSE: 6.31264896, MAE: 4.80646801, ME: -0.07550390\n",
      "Classification → Accuracy: 0.93631502, F1-score: 0.93620589\n",
      "Epoch 60/60\n"
     ]
    },
    {
     "data": {
      "application/vnd.jupyter.widget-view+json": {
       "model_id": "2292162dbc8c4c1faa319497e527bda4",
       "version_major": 2,
       "version_minor": 0
      },
      "text/plain": [
       "  0%|          | 0/65 [00:00<?, ?it/s]"
      ]
     },
     "metadata": {},
     "output_type": "display_data"
    },
    {
     "name": "stdout",
     "output_type": "stream",
     "text": [
      "Loss → Total: 0.3246, Regression: 0.0073, Classification: 0.3172\n",
      "SM_0 → RMSE: 6.03791433, MAE: 4.63818312, ME: -0.72368211\n",
      "SM_20 → RMSE: 5.84182006, MAE: 4.52874708, ME: -0.21999373\n",
      "Classification → Accuracy: 0.95333009, F1-score: 0.95341619\n"
     ]
    }
   ],
   "source": [
    "import torch\n",
    "import torch.nn as nn\n",
    "import pandas as pd\n",
    "import numpy as np\n",
    "from torch.utils.data import Dataset, DataLoader\n",
    "from torchvision import transforms\n",
    "from PIL import Image\n",
    "from sklearn.metrics import mean_squared_error, mean_absolute_error, accuracy_score, f1_score\n",
    "from tqdm.notebook import tqdm\n",
    "import timm\n",
    "import os\n",
    "import random\n",
    "\n",
    "device = torch.device(\"cuda\" if torch.cuda.is_available() else \"cpu\")\n",
    "print(f\"Using device: {device}\")\n",
    "print(f\"PyTorch version: {torch.__version__}\")\n",
    "\n",
    "df = pd.read_csv(r\"F:\\Soil_Labeled_Data\\labels.csv\")\n",
    "print(f\"Total labeled images before check: {len(df)}\")\n",
    "\n",
    "required_columns = ['path', 'SM_0', 'SM_20', 'light_value', 'moisture_class']\n",
    "missing_columns = [col for col in required_columns if col not in df.columns]\n",
    "if missing_columns:\n",
    "    raise ValueError(f\"DataFrame missing columns: {missing_columns}\")\n",
    "\n",
    "fallback_dir = r\"F:\\Soil_Labeled_Data\\augmented_fallback\"\n",
    "os.makedirs(fallback_dir, exist_ok=True)\n",
    "replaced_count = 0\n",
    "augment = transforms.ColorJitter(brightness=0.2, contrast=0.2)\n",
    "\n",
    "for idx, row in tqdm(df.iterrows(), total=len(df)):\n",
    "    path = row[\"path\"]\n",
    "    try:\n",
    "        img = Image.open(path).convert(\"RGB\")\n",
    "        img.verify()\n",
    "    except:\n",
    "        print(f\"Image error: {path}\")\n",
    "        folder = os.path.dirname(path)\n",
    "        all_images = [f for f in os.listdir(folder) if f.lower().endswith((\".jpg\", \".png\"))]\n",
    "        good_images = [f for f in all_images if f != os.path.basename(path)]\n",
    "        if not good_images:\n",
    "            print(f\"No replacement images in: {folder}\")\n",
    "            continue\n",
    "        candidate = random.choice(good_images)\n",
    "        candidate_path = os.path.join(folder, candidate)\n",
    "        try:\n",
    "            img = Image.open(candidate_path).convert(\"RGB\")\n",
    "            img_aug = augment(img)\n",
    "            new_filename = f\"aug_{os.path.basename(path)}\"\n",
    "            new_path = os.path.join(fallback_dir, new_filename)\n",
    "            img_aug.save(new_path)\n",
    "            df.at[idx, \"path\"] = new_path\n",
    "            replaced_count += 1\n",
    "            print(f\"Replaced with: {new_path}\")\n",
    "        except:\n",
    "            print(f\"Replacement image error: {candidate_path}\")\n",
    "            continue\n",
    "print(f\"Replaced {replaced_count} invalid images with augmented versions.\")\n",
    "\n",
    "transform = transforms.Compose([\n",
    "    transforms.Resize((224, 224)),\n",
    "    transforms.ToTensor(),\n",
    "    transforms.Normalize(mean=[0.485, 0.456, 0.406], std=[0.229, 0.224, 0.225])\n",
    "])\n",
    "\n",
    "class SoilDualTaskDataset(Dataset):\n",
    "    def __init__(self, dataframe, transform=None):\n",
    "        self.df = dataframe\n",
    "        self.transform = transform\n",
    "\n",
    "    def __len__(self):\n",
    "        return len(self.df)\n",
    "\n",
    "    def __getitem__(self, idx):\n",
    "        row = self.df.iloc[idx]\n",
    "        img = Image.open(row[\"path\"]).convert(\"RGB\")\n",
    "        if self.transform:\n",
    "            img = self.transform(img)\n",
    "        light = torch.tensor([row[\"light_value\"] / 100.0], dtype=torch.float32)\n",
    "        regression_target = torch.tensor([row[\"SM_0\"] / 100.0, row[\"SM_20\"] / 100.0], dtype=torch.float32)\n",
    "        class_target = torch.tensor(row[\"moisture_class\"], dtype=torch.long)\n",
    "        return {\n",
    "            \"image\": img,\n",
    "            \"light\": light,\n",
    "            \"regression_target\": regression_target,\n",
    "            \"class_target\": class_target\n",
    "        }\n",
    "\n",
    "class SoilNetDualHead(nn.Module):\n",
    "    def __init__(self, num_classes=10):\n",
    "        super().__init__()\n",
    "        self.initial_conv = nn.Conv2d(3, 32, kernel_size=3, stride=1, padding=1)\n",
    "        self.mnv2_block1 = nn.Sequential(*list(\n",
    "            timm.create_model(\"mobilenetv2_100.ra_in1k\", pretrained=True).blocks.children())[0:3]\n",
    "        )\n",
    "        self.channel_adapter = nn.Conv2d(32, 16, kernel_size=1, bias=False)\n",
    "        self.mobilevit_full = timm.create_model(\"mobilevitv2_050\", pretrained=True)\n",
    "        self.mobilevit_encoder = self.mobilevit_full.stages\n",
    "        self.mvit_to_mnv2 = nn.Conv2d(256, 32, kernel_size=1, bias=False)\n",
    "        self.mnv2_block2 = nn.Sequential(*list(\n",
    "            timm.create_model(\"mobilenetv2_100.ra_in1k\", pretrained=True).blocks.children())[3:7]\n",
    "        )\n",
    "        self.final_conv = nn.Conv2d(320, 1280, kernel_size=1)\n",
    "        self.pool = nn.AdaptiveAvgPool2d((1, 1))\n",
    "        self.light_dense = nn.Sequential(nn.Linear(1, 32), nn.ReLU(inplace=True))\n",
    "        self.reg_head = nn.Sequential(\n",
    "            nn.Linear(1280 + 32, 128),\n",
    "            nn.ReLU(inplace=True),\n",
    "            nn.Linear(128, 2)\n",
    "        )\n",
    "        self.cls_head = nn.Sequential(\n",
    "            nn.Linear(1280 + 32, 128),\n",
    "            nn.ReLU(inplace=True),\n",
    "            nn.Linear(128, num_classes)\n",
    "        )\n",
    "\n",
    "    def forward(self, x_img, x_light):\n",
    "        x = self.initial_conv(x_img)\n",
    "        x = self.mnv2_block1(x)\n",
    "        x = self.channel_adapter(x)\n",
    "        x = self.mobilevit_encoder(x)\n",
    "        x = self.mvit_to_mnv2(x)\n",
    "        x = self.mnv2_block2(x)\n",
    "        x = self.final_conv(x)\n",
    "        x = self.pool(x)\n",
    "        x_img_feat = torch.flatten(x, 1)\n",
    "        x_light_feat = self.light_dense(x_light)\n",
    "        x_concat = torch.cat([x_img_feat, x_light_feat], dim=1)\n",
    "        reg_out = self.reg_head(x_concat)\n",
    "        cls_out = self.cls_head(x_concat)\n",
    "        return reg_out, cls_out\n",
    "\n",
    "dataset = SoilDualTaskDataset(df, transform)\n",
    "dataloader = DataLoader(dataset, batch_size=32, shuffle=True, pin_memory=True if device.type == \"cuda\" else False, num_workers=0)\n",
    "\n",
    "num_classes = len(df[\"moisture_class\"].unique())\n",
    "model = SoilNetDualHead(num_classes=num_classes).to(device)\n",
    "\n",
    "checkpoint_path = r\"C:\\Users\\PC\\soilNet\\checkpoints_VicReg\\vicreg_model_final_mu_33.0.pth\"\n",
    "try:\n",
    "    checkpoint = torch.load(checkpoint_path, map_location=device, weights_only=False)\n",
    "    if isinstance(checkpoint, dict) and 'model_state_dict' in checkpoint:\n",
    "        model_state_dict = checkpoint['model_state_dict']\n",
    "    else:\n",
    "        model_state_dict = checkpoint\n",
    "    model_dict = model.state_dict()\n",
    "    pretrained_dict = {k: v for k, v in model_state_dict.items() \n",
    "                       if k in model_dict and model_dict[k].shape == v.shape}\n",
    "    temp_model_dict = model_dict.copy()\n",
    "    temp_model_dict.update(pretrained_dict)\n",
    "    missing_keys, unexpected_keys = model.load_state_dict(temp_model_dict, strict=False)\n",
    "    print(f\"Loaded pretrained weights from {checkpoint_path}\")\n",
    "    if missing_keys:\n",
    "        print(f\"Some keys missing in checkpoint and not loaded: {missing_keys}\")\n",
    "    if unexpected_keys:\n",
    "        print(f\"Some keys in checkpoint not in model and ignored: {unexpected_keys}\")\n",
    "except FileNotFoundError:\n",
    "    print(f\"Checkpoint not found: {checkpoint_path}. Using random initialization.\")\n",
    "except Exception as e:\n",
    "    print(f\"Error loading checkpoint: {e}. Using random initialization.\")\n",
    "\n",
    "optimizer = torch.optim.Adam(model.parameters(), lr=1e-4)\n",
    "reg_criterion = nn.MSELoss()\n",
    "cls_criterion = nn.CrossEntropyLoss()\n",
    "\n",
    "num_epochs = 60\n",
    "loss_history = []\n",
    "\n",
    "for epoch in range(num_epochs):\n",
    "    print(f\"Epoch {epoch+1}/{num_epochs}\")\n",
    "    model.train()\n",
    "    total_loss, total_reg_loss, total_cls_loss = 0, 0, 0\n",
    "    for batch in tqdm(dataloader, leave=False):\n",
    "        x_img = batch[\"image\"].to(device)\n",
    "        x_light = batch[\"light\"].to(device)\n",
    "        y_reg = batch[\"regression_target\"].to(device)\n",
    "        y_cls = batch[\"class_target\"].to(device)\n",
    "        optimizer.zero_grad()\n",
    "        pred_reg, pred_cls = model(x_img, x_light)\n",
    "        loss_reg = reg_criterion(pred_reg, y_reg)\n",
    "        loss_cls = cls_criterion(pred_cls, y_cls)\n",
    "        loss = loss_reg + loss_cls\n",
    "        loss.backward()\n",
    "        optimizer.step()\n",
    "        total_loss += loss.item()\n",
    "        total_reg_loss += loss_reg.item()\n",
    "        total_cls_loss += loss_cls.item()\n",
    "    avg_total = total_loss / len(dataloader)\n",
    "    loss_history.append((avg_total, total_reg_loss / len(dataloader), total_cls_loss / len(dataloader)))\n",
    "    print(f\"Loss → Total: {avg_total:.4f}, Regression: {total_reg_loss / len(dataloader):.4f}, Classification: {total_cls_loss / len(dataloader):.4f}\")\n",
    "    model.eval()\n",
    "    y_true_reg, y_pred_reg = [], []\n",
    "    y_true_cls, y_pred_cls = [], []\n",
    "    with torch.no_grad():\n",
    "        for batch in dataloader:\n",
    "            x_img = batch[\"image\"].to(device)\n",
    "            x_light = batch[\"light\"].to(device)\n",
    "            y_reg = batch[\"regression_target\"].to(device)\n",
    "            y_cls = batch[\"class_target\"].to(device)\n",
    "            pred_reg, pred_cls = model(x_img, x_light)\n",
    "            y_true_reg.extend(y_reg.cpu().numpy())\n",
    "            y_pred_reg.extend(pred_reg.cpu().numpy())\n",
    "            y_true_cls.extend(y_cls.cpu().numpy())\n",
    "            y_pred_cls.extend(pred_cls.argmax(dim=1).cpu().numpy())\n",
    "    y_true_reg = np.array(y_true_reg) * 100\n",
    "    y_pred_reg = np.array(y_pred_reg) * 100\n",
    "    metrics = {}\n",
    "    for i, label in enumerate([\"SM_0\", \"SM_20\"]):\n",
    "        metrics[label] = {\n",
    "            \"RMSE\": mean_squared_error(y_true_reg[:, i], y_pred_reg[:, i]) ** 0.5,\n",
    "            \"MAE\": mean_absolute_error(y_true_reg[:, i], y_pred_reg[:, i]),\n",
    "            \"ME\": np.mean(y_pred_reg[:, i] - y_true_reg[:, i]),\n",
    "        }\n",
    "    metrics[\"Classification\"] = {\n",
    "        \"Accuracy\": accuracy_score(y_true_cls, y_pred_cls),\n",
    "        \"F1-score\": f1_score(y_true_cls, y_pred_cls, average=\"weighted\")\n",
    "    }\n",
    "    for label in [\"SM_0\", \"SM_20\"]:\n",
    "        print(f\"{label} → RMSE: {metrics[label]['RMSE']:.8f}, MAE: {metrics[label]['MAE']:.8f}, ME: {metrics[label]['ME']:.8f}\")\n",
    "    print(f\"Classification → Accuracy: {metrics['Classification']['Accuracy']:.8f}, F1-score: {metrics['Classification']['F1-score']:.8f}\")\n",
    "\n",
    "torch.save(model.state_dict(), r\"C:\\Users\\PC\\soilNet\\checkpoints_VicReg\\finetune_mu_33.0.pth\")"
   ]
  }
 ],
 "metadata": {
  "kernelspec": {
   "display_name": "Python 3 (ipykernel)",
   "language": "python",
   "name": "python3"
  },
  "language_info": {
   "codemirror_mode": {
    "name": "ipython",
    "version": 3
   },
   "file_extension": ".py",
   "mimetype": "text/x-python",
   "name": "python",
   "nbconvert_exporter": "python",
   "pygments_lexer": "ipython3",
   "version": "3.10.16"
  }
 },
 "nbformat": 4,
 "nbformat_minor": 5
}
