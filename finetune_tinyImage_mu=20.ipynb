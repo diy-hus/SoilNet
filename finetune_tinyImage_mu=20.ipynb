{
 "cells": [
  {
   "cell_type": "code",
   "execution_count": 2,
   "id": "37ffe4d9-53e0-48ad-b3ab-365e1ba12eb8",
   "metadata": {},
   "outputs": [
    {
     "name": "stdout",
     "output_type": "stream",
     "text": [
      "Using device: cuda\n",
      "PyTorch version: 2.6.0+cu118\n",
      "Total labeled images before check: 2057\n"
     ]
    },
    {
     "data": {
      "application/vnd.jupyter.widget-view+json": {
       "model_id": "beabcfd5e32c472cb046a8741af1189d",
       "version_major": 2,
       "version_minor": 0
      },
      "text/plain": [
       "  0%|          | 0/2057 [00:00<?, ?it/s]"
      ]
     },
     "metadata": {},
     "output_type": "display_data"
    },
    {
     "name": "stdout",
     "output_type": "stream",
     "text": [
      "Image error: F:\\Soil_Labeled_Data\\M_10_20\\L_60_70\\alluvial\\IMG_0683.JPG\n",
      "Replaced with: F:\\Soil_Labeled_Data\\augmented_fallback\\aug_IMG_0683.JPG\n",
      "Image error: F:\\Soil_Labeled_Data\\M_10_20\\L_70_80\\alluvial\\IMG_0703.JPG\n",
      "Replaced with: F:\\Soil_Labeled_Data\\augmented_fallback\\aug_IMG_0703.JPG\n",
      "Image error: F:\\Soil_Labeled_Data\\M_10_20\\L_80_90\\alluvial\\IMG_0746.JPG\n",
      "Replaced with: F:\\Soil_Labeled_Data\\augmented_fallback\\aug_IMG_0746.JPG\n",
      "Image error: F:\\Soil_Labeled_Data\\M_10_20\\L_80_90\\alluvial\\IMG_0753.JPG\n",
      "Replaced with: F:\\Soil_Labeled_Data\\augmented_fallback\\aug_IMG_0753.JPG\n",
      "Image error: F:\\Soil_Labeled_Data\\M_10_20\\L_80_90\\alluvial\\IMG_0755.JPG\n",
      "Replaced with: F:\\Soil_Labeled_Data\\augmented_fallback\\aug_IMG_0755.JPG\n",
      "Replaced 5 invalid images with augmented versions.\n",
      "Loaded pretrained weights from C:\\Users\\PC\\soilNet\\checkpoints_VicReg_tinyImagenet\\vicreg_model_final_mu_20.0.pth\n",
      "Epoch 1/60\n"
     ]
    },
    {
     "data": {
      "application/vnd.jupyter.widget-view+json": {
       "model_id": "14f9a3ccadef4bb38e72ff37b445e4f0",
       "version_major": 2,
       "version_minor": 0
      },
      "text/plain": [
       "  0%|          | 0/65 [00:00<?, ?it/s]"
      ]
     },
     "metadata": {},
     "output_type": "display_data"
    },
    {
     "name": "stdout",
     "output_type": "stream",
     "text": [
      "Loss → Total: 2.3036, Regression: 0.0877, Classification: 2.2159\n",
      "SM_0 → RMSE: 24.94335379, MAE: 19.97687340, ME: -0.39307770\n",
      "SM_20 → RMSE: 25.03165720, MAE: 20.05151176, ME: -1.00571525\n",
      "Classification → Accuracy: 0.26737968, F1-score: 0.23106901\n",
      "Epoch 2/60\n"
     ]
    },
    {
     "data": {
      "application/vnd.jupyter.widget-view+json": {
       "model_id": "aa79607ffa9043aa90cafff010f1e124",
       "version_major": 2,
       "version_minor": 0
      },
      "text/plain": [
       "  0%|          | 0/65 [00:00<?, ?it/s]"
      ]
     },
     "metadata": {},
     "output_type": "display_data"
    },
    {
     "name": "stdout",
     "output_type": "stream",
     "text": [
      "Loss → Total: 2.0389, Regression: 0.0552, Classification: 1.9837\n",
      "SM_0 → RMSE: 19.60558977, MAE: 15.38279438, ME: 0.72836405\n",
      "SM_20 → RMSE: 19.72650217, MAE: 15.38902950, ME: 1.78863025\n",
      "Classification → Accuracy: 0.33738454, F1-score: 0.30241574\n",
      "Epoch 3/60\n"
     ]
    },
    {
     "data": {
      "application/vnd.jupyter.widget-view+json": {
       "model_id": "c09ab600f42d409c80f1fa87f076e6a4",
       "version_major": 2,
       "version_minor": 0
      },
      "text/plain": [
       "  0%|          | 0/65 [00:00<?, ?it/s]"
      ]
     },
     "metadata": {},
     "output_type": "display_data"
    },
    {
     "name": "stdout",
     "output_type": "stream",
     "text": [
      "Loss → Total: 1.8202, Regression: 0.0478, Classification: 1.7724\n",
      "SM_0 → RMSE: 18.11822931, MAE: 14.00929737, ME: -3.27787375\n",
      "SM_20 → RMSE: 17.75001805, MAE: 13.71847248, ME: -3.17416477\n",
      "Classification → Accuracy: 0.42294604, F1-score: 0.40522221\n",
      "Epoch 4/60\n"
     ]
    },
    {
     "data": {
      "application/vnd.jupyter.widget-view+json": {
       "model_id": "92d3df99057f426ea6f0f3ccd2f2642d",
       "version_major": 2,
       "version_minor": 0
      },
      "text/plain": [
       "  0%|          | 0/65 [00:00<?, ?it/s]"
      ]
     },
     "metadata": {},
     "output_type": "display_data"
    },
    {
     "name": "stdout",
     "output_type": "stream",
     "text": [
      "Loss → Total: 1.6513, Regression: 0.0391, Classification: 1.6123\n",
      "SM_0 → RMSE: 16.10426121, MAE: 12.03823090, ME: 2.25475860\n",
      "SM_20 → RMSE: 16.43472603, MAE: 12.19884109, ME: 3.80677581\n",
      "Classification → Accuracy: 0.47010209, F1-score: 0.46320852\n",
      "Epoch 5/60\n"
     ]
    },
    {
     "data": {
      "application/vnd.jupyter.widget-view+json": {
       "model_id": "df53eb1faf6e47e2ad29377fbc35d31c",
       "version_major": 2,
       "version_minor": 0
      },
      "text/plain": [
       "  0%|          | 0/65 [00:00<?, ?it/s]"
      ]
     },
     "metadata": {},
     "output_type": "display_data"
    },
    {
     "name": "stdout",
     "output_type": "stream",
     "text": [
      "Loss → Total: 1.4662, Regression: 0.0292, Classification: 1.4370\n",
      "SM_0 → RMSE: 15.13285989, MAE: 11.39801598, ME: 2.40067410\n",
      "SM_20 → RMSE: 14.74486232, MAE: 11.33687782, ME: 2.21659184\n",
      "Classification → Accuracy: 0.52260574, F1-score: 0.51824112\n",
      "Epoch 6/60\n"
     ]
    },
    {
     "data": {
      "application/vnd.jupyter.widget-view+json": {
       "model_id": "cbb071a101b6428f9399f358117e59d5",
       "version_major": 2,
       "version_minor": 0
      },
      "text/plain": [
       "  0%|          | 0/65 [00:00<?, ?it/s]"
      ]
     },
     "metadata": {},
     "output_type": "display_data"
    },
    {
     "name": "stdout",
     "output_type": "stream",
     "text": [
      "Loss → Total: 1.3492, Regression: 0.0269, Classification: 1.3224\n",
      "SM_0 → RMSE: 13.96050577, MAE: 10.74708939, ME: 0.18364149\n",
      "SM_20 → RMSE: 13.81152782, MAE: 10.68313789, ME: 0.59682876\n",
      "Classification → Accuracy: 0.55614973, F1-score: 0.54836321\n",
      "Epoch 7/60\n"
     ]
    },
    {
     "data": {
      "application/vnd.jupyter.widget-view+json": {
       "model_id": "02681d0aa05d4ffa993e76492a7b37f3",
       "version_major": 2,
       "version_minor": 0
      },
      "text/plain": [
       "  0%|          | 0/65 [00:00<?, ?it/s]"
      ]
     },
     "metadata": {},
     "output_type": "display_data"
    },
    {
     "name": "stdout",
     "output_type": "stream",
     "text": [
      "Loss → Total: 1.2876, Regression: 0.0237, Classification: 1.2639\n",
      "SM_0 → RMSE: 11.80084202, MAE: 9.20003033, ME: 0.59354603\n",
      "SM_20 → RMSE: 12.16858571, MAE: 9.39341736, ME: 1.16849577\n",
      "Classification → Accuracy: 0.61205639, F1-score: 0.61055678\n",
      "Epoch 8/60\n"
     ]
    },
    {
     "data": {
      "application/vnd.jupyter.widget-view+json": {
       "model_id": "61cf022662b6496bacd2c21bbe778a63",
       "version_major": 2,
       "version_minor": 0
      },
      "text/plain": [
       "  0%|          | 0/65 [00:00<?, ?it/s]"
      ]
     },
     "metadata": {},
     "output_type": "display_data"
    },
    {
     "name": "stdout",
     "output_type": "stream",
     "text": [
      "Loss → Total: 1.2053, Regression: 0.0197, Classification: 1.1857\n",
      "SM_0 → RMSE: 10.54125718, MAE: 8.11907673, ME: -0.37720653\n",
      "SM_20 → RMSE: 10.43216116, MAE: 8.18041325, ME: -0.96212733\n",
      "Classification → Accuracy: 0.62518230, F1-score: 0.62151484\n",
      "Epoch 9/60\n"
     ]
    },
    {
     "data": {
      "application/vnd.jupyter.widget-view+json": {
       "model_id": "efeb808c701b464791219ac8d4f7ae91",
       "version_major": 2,
       "version_minor": 0
      },
      "text/plain": [
       "  0%|          | 0/65 [00:00<?, ?it/s]"
      ]
     },
     "metadata": {},
     "output_type": "display_data"
    },
    {
     "name": "stdout",
     "output_type": "stream",
     "text": [
      "Loss → Total: 1.1204, Regression: 0.0204, Classification: 1.1000\n",
      "SM_0 → RMSE: 9.93272660, MAE: 7.55029821, ME: 0.24517511\n",
      "SM_20 → RMSE: 10.12977431, MAE: 7.85502625, ME: -1.16386473\n",
      "Classification → Accuracy: 0.64073894, F1-score: 0.64328271\n",
      "Epoch 10/60\n"
     ]
    },
    {
     "data": {
      "application/vnd.jupyter.widget-view+json": {
       "model_id": "63d60a1557754022b21134aa64466f2a",
       "version_major": 2,
       "version_minor": 0
      },
      "text/plain": [
       "  0%|          | 0/65 [00:00<?, ?it/s]"
      ]
     },
     "metadata": {},
     "output_type": "display_data"
    },
    {
     "name": "stdout",
     "output_type": "stream",
     "text": [
      "Loss → Total: 1.0978, Regression: 0.0172, Classification: 1.0806\n",
      "SM_0 → RMSE: 11.30150934, MAE: 8.90426922, ME: -1.80270815\n",
      "SM_20 → RMSE: 11.22660939, MAE: 8.83883953, ME: -0.88650399\n",
      "Classification → Accuracy: 0.65969859, F1-score: 0.65389431\n",
      "Epoch 11/60\n"
     ]
    },
    {
     "data": {
      "application/vnd.jupyter.widget-view+json": {
       "model_id": "a185ac715b3846dcb2060b32197f9fe1",
       "version_major": 2,
       "version_minor": 0
      },
      "text/plain": [
       "  0%|          | 0/65 [00:00<?, ?it/s]"
      ]
     },
     "metadata": {},
     "output_type": "display_data"
    },
    {
     "name": "stdout",
     "output_type": "stream",
     "text": [
      "Loss → Total: 1.0638, Regression: 0.0188, Classification: 1.0450\n",
      "SM_0 → RMSE: 10.90116453, MAE: 8.54686165, ME: 1.26241899\n",
      "SM_20 → RMSE: 10.58325468, MAE: 8.18606091, ME: 0.69099241\n",
      "Classification → Accuracy: 0.69518717, F1-score: 0.69185422\n",
      "Epoch 12/60\n"
     ]
    },
    {
     "data": {
      "application/vnd.jupyter.widget-view+json": {
       "model_id": "2492b7d73fe34b078b6a72335a5fb428",
       "version_major": 2,
       "version_minor": 0
      },
      "text/plain": [
       "  0%|          | 0/65 [00:00<?, ?it/s]"
      ]
     },
     "metadata": {},
     "output_type": "display_data"
    },
    {
     "name": "stdout",
     "output_type": "stream",
     "text": [
      "Loss → Total: 0.9978, Regression: 0.0155, Classification: 0.9823\n",
      "SM_0 → RMSE: 9.54372583, MAE: 7.45304012, ME: -0.86823624\n",
      "SM_20 → RMSE: 9.62752787, MAE: 7.59460402, ME: -2.42800331\n",
      "Classification → Accuracy: 0.74526009, F1-score: 0.74424382\n",
      "Epoch 13/60\n"
     ]
    },
    {
     "data": {
      "application/vnd.jupyter.widget-view+json": {
       "model_id": "ab746bd5e49345a5a4bd0299924254dc",
       "version_major": 2,
       "version_minor": 0
      },
      "text/plain": [
       "  0%|          | 0/65 [00:00<?, ?it/s]"
      ]
     },
     "metadata": {},
     "output_type": "display_data"
    },
    {
     "name": "stdout",
     "output_type": "stream",
     "text": [
      "Loss → Total: 0.9583, Regression: 0.0142, Classification: 0.9440\n",
      "SM_0 → RMSE: 9.04731014, MAE: 7.03677607, ME: -0.64271879\n",
      "SM_20 → RMSE: 9.00137912, MAE: 7.06694412, ME: -0.24071002\n",
      "Classification → Accuracy: 0.74574623, F1-score: 0.74642966\n",
      "Epoch 14/60\n"
     ]
    },
    {
     "data": {
      "application/vnd.jupyter.widget-view+json": {
       "model_id": "61543ef0bd744a5e84ae3b78bc6146f4",
       "version_major": 2,
       "version_minor": 0
      },
      "text/plain": [
       "  0%|          | 0/65 [00:00<?, ?it/s]"
      ]
     },
     "metadata": {},
     "output_type": "display_data"
    },
    {
     "name": "stdout",
     "output_type": "stream",
     "text": [
      "Loss → Total: 0.9163, Regression: 0.0143, Classification: 0.9020\n",
      "SM_0 → RMSE: 9.15570254, MAE: 7.21518040, ME: -1.06724441\n",
      "SM_20 → RMSE: 8.67048923, MAE: 6.76978540, ME: -1.38189411\n",
      "Classification → Accuracy: 0.77880408, F1-score: 0.77457431\n",
      "Epoch 15/60\n"
     ]
    },
    {
     "data": {
      "application/vnd.jupyter.widget-view+json": {
       "model_id": "37304e59f1a446c59d6f88e2a47dec6e",
       "version_major": 2,
       "version_minor": 0
      },
      "text/plain": [
       "  0%|          | 0/65 [00:00<?, ?it/s]"
      ]
     },
     "metadata": {},
     "output_type": "display_data"
    },
    {
     "name": "stdout",
     "output_type": "stream",
     "text": [
      "Loss → Total: 0.8458, Regression: 0.0119, Classification: 0.8339\n",
      "SM_0 → RMSE: 8.27906396, MAE: 6.30817127, ME: -0.27605474\n",
      "SM_20 → RMSE: 8.34210486, MAE: 6.39416265, ME: -0.76367867\n",
      "Classification → Accuracy: 0.77783179, F1-score: 0.77618129\n",
      "Epoch 16/60\n"
     ]
    },
    {
     "data": {
      "application/vnd.jupyter.widget-view+json": {
       "model_id": "00603c08e6ee4bedad6f2a9f8c112a8f",
       "version_major": 2,
       "version_minor": 0
      },
      "text/plain": [
       "  0%|          | 0/65 [00:00<?, ?it/s]"
      ]
     },
     "metadata": {},
     "output_type": "display_data"
    },
    {
     "name": "stdout",
     "output_type": "stream",
     "text": [
      "Loss → Total: 0.8091, Regression: 0.0116, Classification: 0.7975\n",
      "SM_0 → RMSE: 8.84999107, MAE: 6.81095743, ME: 1.54301023\n",
      "SM_20 → RMSE: 8.48348202, MAE: 6.65666389, ME: 1.11377478\n",
      "Classification → Accuracy: 0.81477880, F1-score: 0.81517774\n",
      "Epoch 17/60\n"
     ]
    },
    {
     "data": {
      "application/vnd.jupyter.widget-view+json": {
       "model_id": "49b0e9aebe9042b39468ab048b132778",
       "version_major": 2,
       "version_minor": 0
      },
      "text/plain": [
       "  0%|          | 0/65 [00:00<?, ?it/s]"
      ]
     },
     "metadata": {},
     "output_type": "display_data"
    },
    {
     "name": "stdout",
     "output_type": "stream",
     "text": [
      "Loss → Total: 0.7813, Regression: 0.0118, Classification: 0.7694\n",
      "SM_0 → RMSE: 8.20193676, MAE: 6.50677490, ME: -0.92541736\n",
      "SM_20 → RMSE: 7.69645405, MAE: 6.01813173, ME: -0.71704608\n",
      "Classification → Accuracy: 0.80505591, F1-score: 0.80142204\n",
      "Epoch 18/60\n"
     ]
    },
    {
     "data": {
      "application/vnd.jupyter.widget-view+json": {
       "model_id": "eb7916a105f74999b464aaed47daa9eb",
       "version_major": 2,
       "version_minor": 0
      },
      "text/plain": [
       "  0%|          | 0/65 [00:00<?, ?it/s]"
      ]
     },
     "metadata": {},
     "output_type": "display_data"
    },
    {
     "name": "stdout",
     "output_type": "stream",
     "text": [
      "Loss → Total: 0.7789, Regression: 0.0109, Classification: 0.7680\n",
      "SM_0 → RMSE: 8.19857900, MAE: 6.41938448, ME: 1.07546973\n",
      "SM_20 → RMSE: 7.99798869, MAE: 6.32023859, ME: 0.59347242\n",
      "Classification → Accuracy: 0.84394750, F1-score: 0.84426278\n",
      "Epoch 19/60\n"
     ]
    },
    {
     "data": {
      "application/vnd.jupyter.widget-view+json": {
       "model_id": "33886494167a4352bd28fe19f62b0e8f",
       "version_major": 2,
       "version_minor": 0
      },
      "text/plain": [
       "  0%|          | 0/65 [00:00<?, ?it/s]"
      ]
     },
     "metadata": {},
     "output_type": "display_data"
    },
    {
     "name": "stdout",
     "output_type": "stream",
     "text": [
      "Loss → Total: 0.7355, Regression: 0.0109, Classification: 0.7247\n",
      "SM_0 → RMSE: 8.24932026, MAE: 6.28814316, ME: 0.08372844\n",
      "SM_20 → RMSE: 8.04960370, MAE: 6.07596016, ME: 0.72708631\n",
      "Classification → Accuracy: 0.80359747, F1-score: 0.80133646\n",
      "Epoch 20/60\n"
     ]
    },
    {
     "data": {
      "application/vnd.jupyter.widget-view+json": {
       "model_id": "c00ec3f59a784f099597d02c1829f6c2",
       "version_major": 2,
       "version_minor": 0
      },
      "text/plain": [
       "  0%|          | 0/65 [00:00<?, ?it/s]"
      ]
     },
     "metadata": {},
     "output_type": "display_data"
    },
    {
     "name": "stdout",
     "output_type": "stream",
     "text": [
      "Loss → Total: 0.7150, Regression: 0.0108, Classification: 0.7042\n",
      "SM_0 → RMSE: 8.10132895, MAE: 6.26887560, ME: 3.11560917\n",
      "SM_20 → RMSE: 7.71269378, MAE: 5.95879459, ME: 1.36699879\n",
      "Classification → Accuracy: 0.82790472, F1-score: 0.82684610\n",
      "Epoch 21/60\n"
     ]
    },
    {
     "data": {
      "application/vnd.jupyter.widget-view+json": {
       "model_id": "71b6114bb6eb49b0822dfd00d2dae590",
       "version_major": 2,
       "version_minor": 0
      },
      "text/plain": [
       "  0%|          | 0/65 [00:00<?, ?it/s]"
      ]
     },
     "metadata": {},
     "output_type": "display_data"
    },
    {
     "name": "stdout",
     "output_type": "stream",
     "text": [
      "Loss → Total: 0.6861, Regression: 0.0108, Classification: 0.6753\n",
      "SM_0 → RMSE: 7.70435031, MAE: 6.07947922, ME: -1.58680964\n",
      "SM_20 → RMSE: 8.34227542, MAE: 6.60260677, ME: -0.15931080\n",
      "Classification → Accuracy: 0.85999028, F1-score: 0.85940009\n",
      "Epoch 22/60\n"
     ]
    },
    {
     "data": {
      "application/vnd.jupyter.widget-view+json": {
       "model_id": "08068a41b4ca4790921b0ed28dac4e3a",
       "version_major": 2,
       "version_minor": 0
      },
      "text/plain": [
       "  0%|          | 0/65 [00:00<?, ?it/s]"
      ]
     },
     "metadata": {},
     "output_type": "display_data"
    },
    {
     "name": "stdout",
     "output_type": "stream",
     "text": [
      "Loss → Total: 0.6931, Regression: 0.0098, Classification: 0.6833\n",
      "SM_0 → RMSE: 7.90509676, MAE: 6.16034651, ME: -0.84876740\n",
      "SM_20 → RMSE: 8.85371145, MAE: 7.00797367, ME: -0.48011369\n",
      "Classification → Accuracy: 0.86436558, F1-score: 0.86487199\n",
      "Epoch 23/60\n"
     ]
    },
    {
     "data": {
      "application/vnd.jupyter.widget-view+json": {
       "model_id": "2a636d886d9b4ae68ff87e12077cad4f",
       "version_major": 2,
       "version_minor": 0
      },
      "text/plain": [
       "  0%|          | 0/65 [00:00<?, ?it/s]"
      ]
     },
     "metadata": {},
     "output_type": "display_data"
    },
    {
     "name": "stdout",
     "output_type": "stream",
     "text": [
      "Loss → Total: 0.7207, Regression: 0.0113, Classification: 0.7094\n",
      "SM_0 → RMSE: 8.52121555, MAE: 6.46965361, ME: -0.02305083\n",
      "SM_20 → RMSE: 7.52209093, MAE: 5.76131773, ME: 0.93086141\n",
      "Classification → Accuracy: 0.85658726, F1-score: 0.85668161\n",
      "Epoch 24/60\n"
     ]
    },
    {
     "data": {
      "application/vnd.jupyter.widget-view+json": {
       "model_id": "2163ed27e3974f3096ca6c8878a391ec",
       "version_major": 2,
       "version_minor": 0
      },
      "text/plain": [
       "  0%|          | 0/65 [00:00<?, ?it/s]"
      ]
     },
     "metadata": {},
     "output_type": "display_data"
    },
    {
     "name": "stdout",
     "output_type": "stream",
     "text": [
      "Loss → Total: 0.6397, Regression: 0.0107, Classification: 0.6290\n",
      "SM_0 → RMSE: 6.97776916, MAE: 5.32786083, ME: 0.66127402\n",
      "SM_20 → RMSE: 7.28823635, MAE: 5.62666225, ME: -0.31126702\n",
      "Classification → Accuracy: 0.86387944, F1-score: 0.86401380\n",
      "Epoch 25/60\n"
     ]
    },
    {
     "data": {
      "application/vnd.jupyter.widget-view+json": {
       "model_id": "ed50b8631a3c4d6682c58434cf839ec2",
       "version_major": 2,
       "version_minor": 0
      },
      "text/plain": [
       "  0%|          | 0/65 [00:00<?, ?it/s]"
      ]
     },
     "metadata": {},
     "output_type": "display_data"
    },
    {
     "name": "stdout",
     "output_type": "stream",
     "text": [
      "Loss → Total: 0.6323, Regression: 0.0095, Classification: 0.6228\n",
      "SM_0 → RMSE: 7.00179867, MAE: 5.33435011, ME: 0.60974771\n",
      "SM_20 → RMSE: 7.09913787, MAE: 5.50261784, ME: 0.97149724\n",
      "Classification → Accuracy: 0.88138065, F1-score: 0.88147909\n",
      "Epoch 26/60\n"
     ]
    },
    {
     "data": {
      "application/vnd.jupyter.widget-view+json": {
       "model_id": "d34794016f294cafa87583272361cf33",
       "version_major": 2,
       "version_minor": 0
      },
      "text/plain": [
       "  0%|          | 0/65 [00:00<?, ?it/s]"
      ]
     },
     "metadata": {},
     "output_type": "display_data"
    },
    {
     "name": "stdout",
     "output_type": "stream",
     "text": [
      "Loss → Total: 0.6374, Regression: 0.0108, Classification: 0.6265\n",
      "SM_0 → RMSE: 7.40376337, MAE: 5.73914766, ME: -1.55871415\n",
      "SM_20 → RMSE: 7.11898684, MAE: 5.45325613, ME: -0.51043278\n",
      "Classification → Accuracy: 0.90568789, F1-score: 0.90705216\n",
      "Epoch 27/60\n"
     ]
    },
    {
     "data": {
      "application/vnd.jupyter.widget-view+json": {
       "model_id": "cae60d2224d4404d8ad2e45c3e659da5",
       "version_major": 2,
       "version_minor": 0
      },
      "text/plain": [
       "  0%|          | 0/65 [00:00<?, ?it/s]"
      ]
     },
     "metadata": {},
     "output_type": "display_data"
    },
    {
     "name": "stdout",
     "output_type": "stream",
     "text": [
      "Loss → Total: 0.5927, Regression: 0.0084, Classification: 0.5843\n",
      "SM_0 → RMSE: 6.91326520, MAE: 5.26849174, ME: 2.24348927\n",
      "SM_20 → RMSE: 6.92268673, MAE: 5.27594042, ME: 0.57585204\n",
      "Classification → Accuracy: 0.89888187, F1-score: 0.89966633\n",
      "Epoch 28/60\n"
     ]
    },
    {
     "data": {
      "application/vnd.jupyter.widget-view+json": {
       "model_id": "19f69d2e7add4ba0a5e54fb5eb7e339a",
       "version_major": 2,
       "version_minor": 0
      },
      "text/plain": [
       "  0%|          | 0/65 [00:00<?, ?it/s]"
      ]
     },
     "metadata": {},
     "output_type": "display_data"
    },
    {
     "name": "stdout",
     "output_type": "stream",
     "text": [
      "Loss → Total: 0.5757, Regression: 0.0080, Classification: 0.5677\n",
      "SM_0 → RMSE: 7.29336862, MAE: 5.72484875, ME: -0.84235334\n",
      "SM_20 → RMSE: 7.03177895, MAE: 5.45931482, ME: 0.00489625\n",
      "Classification → Accuracy: 0.90763247, F1-score: 0.90768564\n",
      "Epoch 29/60\n"
     ]
    },
    {
     "data": {
      "application/vnd.jupyter.widget-view+json": {
       "model_id": "cd226d729269469ca9251e45184cb966",
       "version_major": 2,
       "version_minor": 0
      },
      "text/plain": [
       "  0%|          | 0/65 [00:00<?, ?it/s]"
      ]
     },
     "metadata": {},
     "output_type": "display_data"
    },
    {
     "name": "stdout",
     "output_type": "stream",
     "text": [
      "Loss → Total: 0.5352, Regression: 0.0091, Classification: 0.5260\n",
      "SM_0 → RMSE: 8.69110121, MAE: 6.85429525, ME: -0.55952084\n",
      "SM_20 → RMSE: 9.02683580, MAE: 7.17133760, ME: 0.27000225\n",
      "Classification → Accuracy: 0.89693729, F1-score: 0.89621567\n",
      "Epoch 30/60\n"
     ]
    },
    {
     "data": {
      "application/vnd.jupyter.widget-view+json": {
       "model_id": "4491b05809e548e39320d4cb6ec9e51a",
       "version_major": 2,
       "version_minor": 0
      },
      "text/plain": [
       "  0%|          | 0/65 [00:00<?, ?it/s]"
      ]
     },
     "metadata": {},
     "output_type": "display_data"
    },
    {
     "name": "stdout",
     "output_type": "stream",
     "text": [
      "Loss → Total: 0.5444, Regression: 0.0089, Classification: 0.5356\n",
      "SM_0 → RMSE: 7.55126800, MAE: 5.74034023, ME: -0.59528464\n",
      "SM_20 → RMSE: 7.77062140, MAE: 5.98021412, ME: -1.31410551\n",
      "Classification → Accuracy: 0.88186680, F1-score: 0.88056879\n",
      "Epoch 31/60\n"
     ]
    },
    {
     "data": {
      "application/vnd.jupyter.widget-view+json": {
       "model_id": "9be7ffb014d645fd9a9e221ac154bf1b",
       "version_major": 2,
       "version_minor": 0
      },
      "text/plain": [
       "  0%|          | 0/65 [00:00<?, ?it/s]"
      ]
     },
     "metadata": {},
     "output_type": "display_data"
    },
    {
     "name": "stdout",
     "output_type": "stream",
     "text": [
      "Loss → Total: 0.5783, Regression: 0.0094, Classification: 0.5689\n",
      "SM_0 → RMSE: 7.56829083, MAE: 5.84639645, ME: 1.95772541\n",
      "SM_20 → RMSE: 7.16414796, MAE: 5.58009291, ME: 0.77250874\n",
      "Classification → Accuracy: 0.87214390, F1-score: 0.87237198\n",
      "Epoch 32/60\n"
     ]
    },
    {
     "data": {
      "application/vnd.jupyter.widget-view+json": {
       "model_id": "d425bfbf9f3344288978a21a5fc82c47",
       "version_major": 2,
       "version_minor": 0
      },
      "text/plain": [
       "  0%|          | 0/65 [00:00<?, ?it/s]"
      ]
     },
     "metadata": {},
     "output_type": "display_data"
    },
    {
     "name": "stdout",
     "output_type": "stream",
     "text": [
      "Loss → Total: 0.5187, Regression: 0.0088, Classification: 0.5099\n",
      "SM_0 → RMSE: 6.94021966, MAE: 5.38095140, ME: -1.30832052\n",
      "SM_20 → RMSE: 7.02793922, MAE: 5.46741009, ME: -1.73770714\n",
      "Classification → Accuracy: 0.89061740, F1-score: 0.89012564\n",
      "Epoch 33/60\n"
     ]
    },
    {
     "data": {
      "application/vnd.jupyter.widget-view+json": {
       "model_id": "7a314f36ad5b4ca6a2f27aee7203e258",
       "version_major": 2,
       "version_minor": 0
      },
      "text/plain": [
       "  0%|          | 0/65 [00:00<?, ?it/s]"
      ]
     },
     "metadata": {},
     "output_type": "display_data"
    },
    {
     "name": "stdout",
     "output_type": "stream",
     "text": [
      "Loss → Total: 0.4993, Regression: 0.0075, Classification: 0.4919\n",
      "SM_0 → RMSE: 6.80615415, MAE: 5.34044456, ME: -2.53155684\n",
      "SM_20 → RMSE: 6.96072267, MAE: 5.47132540, ME: -2.48333931\n",
      "Classification → Accuracy: 0.91929995, F1-score: 0.91967925\n",
      "Epoch 34/60\n"
     ]
    },
    {
     "data": {
      "application/vnd.jupyter.widget-view+json": {
       "model_id": "8b7fba163d4e4502bf53bbc7a0ec423d",
       "version_major": 2,
       "version_minor": 0
      },
      "text/plain": [
       "  0%|          | 0/65 [00:00<?, ?it/s]"
      ]
     },
     "metadata": {},
     "output_type": "display_data"
    },
    {
     "name": "stdout",
     "output_type": "stream",
     "text": [
      "Loss → Total: 0.5065, Regression: 0.0084, Classification: 0.4981\n",
      "SM_0 → RMSE: 6.74087925, MAE: 5.26284122, ME: -1.86006916\n",
      "SM_20 → RMSE: 6.61583176, MAE: 5.18753862, ME: -1.56668377\n",
      "Classification → Accuracy: 0.92610598, F1-score: 0.92639765\n",
      "Epoch 35/60\n"
     ]
    },
    {
     "data": {
      "application/vnd.jupyter.widget-view+json": {
       "model_id": "752e086e11254ff5b612d6b2bed1af89",
       "version_major": 2,
       "version_minor": 0
      },
      "text/plain": [
       "  0%|          | 0/65 [00:00<?, ?it/s]"
      ]
     },
     "metadata": {},
     "output_type": "display_data"
    },
    {
     "name": "stdout",
     "output_type": "stream",
     "text": [
      "Loss → Total: 0.4505, Regression: 0.0073, Classification: 0.4432\n",
      "SM_0 → RMSE: 6.47471690, MAE: 4.87973309, ME: 0.62056845\n",
      "SM_20 → RMSE: 6.14588575, MAE: 4.72077799, ME: -0.01835042\n",
      "Classification → Accuracy: 0.90617404, F1-score: 0.90727215\n",
      "Epoch 36/60\n"
     ]
    },
    {
     "data": {
      "application/vnd.jupyter.widget-view+json": {
       "model_id": "59ce39418a8e4387aa8993b68f555a78",
       "version_major": 2,
       "version_minor": 0
      },
      "text/plain": [
       "  0%|          | 0/65 [00:00<?, ?it/s]"
      ]
     },
     "metadata": {},
     "output_type": "display_data"
    },
    {
     "name": "stdout",
     "output_type": "stream",
     "text": [
      "Loss → Total: 0.4846, Regression: 0.0089, Classification: 0.4757\n",
      "SM_0 → RMSE: 7.75032535, MAE: 5.99260473, ME: 2.09483886\n",
      "SM_20 → RMSE: 7.95479328, MAE: 6.14437723, ME: 3.01695991\n",
      "Classification → Accuracy: 0.92416140, F1-score: 0.92462567\n",
      "Epoch 37/60\n"
     ]
    },
    {
     "data": {
      "application/vnd.jupyter.widget-view+json": {
       "model_id": "24c2d3f5c63c49fc9241baa047e47ddc",
       "version_major": 2,
       "version_minor": 0
      },
      "text/plain": [
       "  0%|          | 0/65 [00:00<?, ?it/s]"
      ]
     },
     "metadata": {},
     "output_type": "display_data"
    },
    {
     "name": "stdout",
     "output_type": "stream",
     "text": [
      "Loss → Total: 0.4765, Regression: 0.0078, Classification: 0.4687\n",
      "SM_0 → RMSE: 7.44001868, MAE: 5.80839729, ME: -1.04493546\n",
      "SM_20 → RMSE: 6.98877470, MAE: 5.44914865, ME: -0.31416678\n",
      "Classification → Accuracy: 0.91103549, F1-score: 0.91220314\n",
      "Epoch 38/60\n"
     ]
    },
    {
     "data": {
      "application/vnd.jupyter.widget-view+json": {
       "model_id": "17dc056c7fc44fdcbc6f93d662dcbb62",
       "version_major": 2,
       "version_minor": 0
      },
      "text/plain": [
       "  0%|          | 0/65 [00:00<?, ?it/s]"
      ]
     },
     "metadata": {},
     "output_type": "display_data"
    },
    {
     "name": "stdout",
     "output_type": "stream",
     "text": [
      "Loss → Total: 0.4591, Regression: 0.0079, Classification: 0.4512\n",
      "SM_0 → RMSE: 6.97263655, MAE: 5.37746143, ME: 0.66483456\n",
      "SM_20 → RMSE: 6.56037621, MAE: 5.05905056, ME: 0.42292115\n",
      "Classification → Accuracy: 0.92513369, F1-score: 0.92517962\n",
      "Epoch 39/60\n"
     ]
    },
    {
     "data": {
      "application/vnd.jupyter.widget-view+json": {
       "model_id": "a45114d4fdc3406e8d35567fdc89aba9",
       "version_major": 2,
       "version_minor": 0
      },
      "text/plain": [
       "  0%|          | 0/65 [00:00<?, ?it/s]"
      ]
     },
     "metadata": {},
     "output_type": "display_data"
    },
    {
     "name": "stdout",
     "output_type": "stream",
     "text": [
      "Loss → Total: 0.4037, Regression: 0.0068, Classification: 0.3969\n",
      "SM_0 → RMSE: 6.33050086, MAE: 4.78628635, ME: -0.28896663\n",
      "SM_20 → RMSE: 6.49259644, MAE: 4.88255262, ME: 0.30233610\n",
      "Classification → Accuracy: 0.92416140, F1-score: 0.92505151\n",
      "Epoch 40/60\n"
     ]
    },
    {
     "data": {
      "application/vnd.jupyter.widget-view+json": {
       "model_id": "0c7a29d1b63d4357b3b54163b019f721",
       "version_major": 2,
       "version_minor": 0
      },
      "text/plain": [
       "  0%|          | 0/65 [00:00<?, ?it/s]"
      ]
     },
     "metadata": {},
     "output_type": "display_data"
    },
    {
     "name": "stdout",
     "output_type": "stream",
     "text": [
      "Loss → Total: 0.3898, Regression: 0.0071, Classification: 0.3827\n",
      "SM_0 → RMSE: 7.22346059, MAE: 5.70006990, ME: -1.16046834\n",
      "SM_20 → RMSE: 7.44286685, MAE: 5.84163618, ME: -1.40667665\n",
      "Classification → Accuracy: 0.89936801, F1-score: 0.90120048\n",
      "Epoch 41/60\n"
     ]
    },
    {
     "data": {
      "application/vnd.jupyter.widget-view+json": {
       "model_id": "916e43ad1bc347e8aa38ffe8bfca3818",
       "version_major": 2,
       "version_minor": 0
      },
      "text/plain": [
       "  0%|          | 0/65 [00:00<?, ?it/s]"
      ]
     },
     "metadata": {},
     "output_type": "display_data"
    },
    {
     "name": "stdout",
     "output_type": "stream",
     "text": [
      "Loss → Total: 0.4948, Regression: 0.0080, Classification: 0.4868\n",
      "SM_0 → RMSE: 8.57171580, MAE: 6.73811293, ME: -3.80630875\n",
      "SM_20 → RMSE: 8.62258214, MAE: 6.79775906, ME: -3.62753320\n",
      "Classification → Accuracy: 0.92513369, F1-score: 0.92540202\n",
      "Epoch 42/60\n"
     ]
    },
    {
     "data": {
      "application/vnd.jupyter.widget-view+json": {
       "model_id": "e7731fcec9e7421da0d6835e1c1dd880",
       "version_major": 2,
       "version_minor": 0
      },
      "text/plain": [
       "  0%|          | 0/65 [00:00<?, ?it/s]"
      ]
     },
     "metadata": {},
     "output_type": "display_data"
    },
    {
     "name": "stdout",
     "output_type": "stream",
     "text": [
      "Loss → Total: 0.4342, Regression: 0.0082, Classification: 0.4260\n",
      "SM_0 → RMSE: 6.49164896, MAE: 4.97830868, ME: -0.42673609\n",
      "SM_20 → RMSE: 6.80447307, MAE: 5.28735352, ME: -1.26616549\n",
      "Classification → Accuracy: 0.91541079, F1-score: 0.91545870\n",
      "Epoch 43/60\n"
     ]
    },
    {
     "data": {
      "application/vnd.jupyter.widget-view+json": {
       "model_id": "2261d845f7724946bb4d9b771e483b58",
       "version_major": 2,
       "version_minor": 0
      },
      "text/plain": [
       "  0%|          | 0/65 [00:00<?, ?it/s]"
      ]
     },
     "metadata": {},
     "output_type": "display_data"
    },
    {
     "name": "stdout",
     "output_type": "stream",
     "text": [
      "Loss → Total: 0.4025, Regression: 0.0069, Classification: 0.3956\n",
      "SM_0 → RMSE: 6.34773618, MAE: 4.81122112, ME: 1.70807672\n",
      "SM_20 → RMSE: 6.35682241, MAE: 4.82590866, ME: 0.61371481\n",
      "Classification → Accuracy: 0.92318911, F1-score: 0.92337530\n",
      "Epoch 44/60\n"
     ]
    },
    {
     "data": {
      "application/vnd.jupyter.widget-view+json": {
       "model_id": "22dc878aa7b8431fb4c4b8203dbfb67d",
       "version_major": 2,
       "version_minor": 0
      },
      "text/plain": [
       "  0%|          | 0/65 [00:00<?, ?it/s]"
      ]
     },
     "metadata": {},
     "output_type": "display_data"
    },
    {
     "name": "stdout",
     "output_type": "stream",
     "text": [
      "Loss → Total: 0.4125, Regression: 0.0070, Classification: 0.4055\n",
      "SM_0 → RMSE: 6.52327493, MAE: 4.84604454, ME: 1.68601120\n",
      "SM_20 → RMSE: 6.66946775, MAE: 5.15515852, ME: 1.93685985\n",
      "Classification → Accuracy: 0.93923189, F1-score: 0.94000575\n",
      "Epoch 45/60\n"
     ]
    },
    {
     "data": {
      "application/vnd.jupyter.widget-view+json": {
       "model_id": "81c82d8c55e443e18037ec3e89cba4da",
       "version_major": 2,
       "version_minor": 0
      },
      "text/plain": [
       "  0%|          | 0/65 [00:00<?, ?it/s]"
      ]
     },
     "metadata": {},
     "output_type": "display_data"
    },
    {
     "name": "stdout",
     "output_type": "stream",
     "text": [
      "Loss → Total: 0.3815, Regression: 0.0075, Classification: 0.3741\n",
      "SM_0 → RMSE: 6.05751446, MAE: 4.59340239, ME: -1.04794943\n",
      "SM_20 → RMSE: 6.48278318, MAE: 4.98275232, ME: -0.90175456\n",
      "Classification → Accuracy: 0.94409334, F1-score: 0.94413959\n",
      "Epoch 46/60\n"
     ]
    },
    {
     "data": {
      "application/vnd.jupyter.widget-view+json": {
       "model_id": "8dd0f81496cd44e0b2e90e24387a0c15",
       "version_major": 2,
       "version_minor": 0
      },
      "text/plain": [
       "  0%|          | 0/65 [00:00<?, ?it/s]"
      ]
     },
     "metadata": {},
     "output_type": "display_data"
    },
    {
     "name": "stdout",
     "output_type": "stream",
     "text": [
      "Loss → Total: 0.3811, Regression: 0.0068, Classification: 0.3743\n",
      "SM_0 → RMSE: 6.57479404, MAE: 5.00753307, ME: -0.20538877\n",
      "SM_20 → RMSE: 6.84305795, MAE: 5.27552414, ME: 0.24880619\n",
      "Classification → Accuracy: 0.93825960, F1-score: 0.93843521\n",
      "Epoch 47/60\n"
     ]
    },
    {
     "data": {
      "application/vnd.jupyter.widget-view+json": {
       "model_id": "44c8fc55cb50421ea7eda341d4370374",
       "version_major": 2,
       "version_minor": 0
      },
      "text/plain": [
       "  0%|          | 0/65 [00:00<?, ?it/s]"
      ]
     },
     "metadata": {},
     "output_type": "display_data"
    },
    {
     "name": "stdout",
     "output_type": "stream",
     "text": [
      "Loss → Total: 0.3816, Regression: 0.0069, Classification: 0.3746\n",
      "SM_0 → RMSE: 6.54462636, MAE: 5.02000046, ME: -0.36885455\n",
      "SM_20 → RMSE: 6.55757116, MAE: 5.09935427, ME: -0.07627229\n",
      "Classification → Accuracy: 0.93242586, F1-score: 0.93319498\n",
      "Epoch 48/60\n"
     ]
    },
    {
     "data": {
      "application/vnd.jupyter.widget-view+json": {
       "model_id": "67b65d46736242ffab487bb840037167",
       "version_major": 2,
       "version_minor": 0
      },
      "text/plain": [
       "  0%|          | 0/65 [00:00<?, ?it/s]"
      ]
     },
     "metadata": {},
     "output_type": "display_data"
    },
    {
     "name": "stdout",
     "output_type": "stream",
     "text": [
      "Loss → Total: 0.3686, Regression: 0.0063, Classification: 0.3622\n",
      "SM_0 → RMSE: 7.09087028, MAE: 5.56529617, ME: 1.07398093\n",
      "SM_20 → RMSE: 6.21552197, MAE: 4.84974432, ME: 0.14040375\n",
      "Classification → Accuracy: 0.93825960, F1-score: 0.93867195\n",
      "Epoch 49/60\n"
     ]
    },
    {
     "data": {
      "application/vnd.jupyter.widget-view+json": {
       "model_id": "65f960d35c4246579b44e09590405269",
       "version_major": 2,
       "version_minor": 0
      },
      "text/plain": [
       "  0%|          | 0/65 [00:00<?, ?it/s]"
      ]
     },
     "metadata": {},
     "output_type": "display_data"
    },
    {
     "name": "stdout",
     "output_type": "stream",
     "text": [
      "Loss → Total: 0.3503, Regression: 0.0068, Classification: 0.3435\n",
      "SM_0 → RMSE: 6.68552034, MAE: 5.17172956, ME: -1.93417966\n",
      "SM_20 → RMSE: 7.04835133, MAE: 5.46023560, ME: -1.76957476\n",
      "Classification → Accuracy: 0.93777346, F1-score: 0.93787771\n",
      "Epoch 50/60\n"
     ]
    },
    {
     "data": {
      "application/vnd.jupyter.widget-view+json": {
       "model_id": "05f7b9d19dd949748a3c1bec2dafbf01",
       "version_major": 2,
       "version_minor": 0
      },
      "text/plain": [
       "  0%|          | 0/65 [00:00<?, ?it/s]"
      ]
     },
     "metadata": {},
     "output_type": "display_data"
    },
    {
     "name": "stdout",
     "output_type": "stream",
     "text": [
      "Loss → Total: 0.3934, Regression: 0.0071, Classification: 0.3863\n",
      "SM_0 → RMSE: 6.55903287, MAE: 5.12197876, ME: -0.11439527\n",
      "SM_20 → RMSE: 6.81723642, MAE: 5.38456726, ME: -0.25797629\n",
      "Classification → Accuracy: 0.94895479, F1-score: 0.94998779\n",
      "Epoch 51/60\n"
     ]
    },
    {
     "data": {
      "application/vnd.jupyter.widget-view+json": {
       "model_id": "41013d6be3564d74a9af6d25cd1bd343",
       "version_major": 2,
       "version_minor": 0
      },
      "text/plain": [
       "  0%|          | 0/65 [00:00<?, ?it/s]"
      ]
     },
     "metadata": {},
     "output_type": "display_data"
    },
    {
     "name": "stdout",
     "output_type": "stream",
     "text": [
      "Loss → Total: 0.4064, Regression: 0.0068, Classification: 0.3996\n",
      "SM_0 → RMSE: 6.70534694, MAE: 5.13395166, ME: 0.44970307\n",
      "SM_20 → RMSE: 6.59905388, MAE: 5.04933977, ME: 0.62670422\n",
      "Classification → Accuracy: 0.92075839, F1-score: 0.92094565\n",
      "Epoch 52/60\n"
     ]
    },
    {
     "data": {
      "application/vnd.jupyter.widget-view+json": {
       "model_id": "9fbf7140686146ccb76c3ec880915eea",
       "version_major": 2,
       "version_minor": 0
      },
      "text/plain": [
       "  0%|          | 0/65 [00:00<?, ?it/s]"
      ]
     },
     "metadata": {},
     "output_type": "display_data"
    },
    {
     "name": "stdout",
     "output_type": "stream",
     "text": [
      "Loss → Total: 0.3716, Regression: 0.0067, Classification: 0.3649\n",
      "SM_0 → RMSE: 6.71704903, MAE: 5.21717119, ME: 1.00171351\n",
      "SM_20 → RMSE: 6.70228297, MAE: 5.24653053, ME: 0.78505999\n",
      "Classification → Accuracy: 0.89985416, F1-score: 0.89968902\n",
      "Epoch 53/60\n"
     ]
    },
    {
     "data": {
      "application/vnd.jupyter.widget-view+json": {
       "model_id": "46ae7c8286bf40a5a4cb3ad8fad39375",
       "version_major": 2,
       "version_minor": 0
      },
      "text/plain": [
       "  0%|          | 0/65 [00:00<?, ?it/s]"
      ]
     },
     "metadata": {},
     "output_type": "display_data"
    },
    {
     "name": "stdout",
     "output_type": "stream",
     "text": [
      "Loss → Total: 0.3393, Regression: 0.0063, Classification: 0.3330\n",
      "SM_0 → RMSE: 6.59053663, MAE: 5.11111641, ME: -2.48042512\n",
      "SM_20 → RMSE: 6.84775513, MAE: 5.38378191, ME: -2.19951439\n",
      "Classification → Accuracy: 0.94166262, F1-score: 0.94183743\n",
      "Epoch 54/60\n"
     ]
    },
    {
     "data": {
      "application/vnd.jupyter.widget-view+json": {
       "model_id": "8a1a4cd8a44648838544c2d7270cea84",
       "version_major": 2,
       "version_minor": 0
      },
      "text/plain": [
       "  0%|          | 0/65 [00:00<?, ?it/s]"
      ]
     },
     "metadata": {},
     "output_type": "display_data"
    },
    {
     "name": "stdout",
     "output_type": "stream",
     "text": [
      "Loss → Total: 0.3415, Regression: 0.0063, Classification: 0.3353\n",
      "SM_0 → RMSE: 5.79339182, MAE: 4.44332790, ME: -0.70653099\n",
      "SM_20 → RMSE: 5.97325308, MAE: 4.56128407, ME: -0.81515843\n",
      "Classification → Accuracy: 0.95089937, F1-score: 0.95116028\n",
      "Epoch 55/60\n"
     ]
    },
    {
     "data": {
      "application/vnd.jupyter.widget-view+json": {
       "model_id": "65801e10edbf42dcbd48dcf25b44acdd",
       "version_major": 2,
       "version_minor": 0
      },
      "text/plain": [
       "  0%|          | 0/65 [00:00<?, ?it/s]"
      ]
     },
     "metadata": {},
     "output_type": "display_data"
    },
    {
     "name": "stdout",
     "output_type": "stream",
     "text": [
      "Loss → Total: 0.3737, Regression: 0.0063, Classification: 0.3674\n",
      "SM_0 → RMSE: 5.96627676, MAE: 4.44597912, ME: 1.67798233\n",
      "SM_20 → RMSE: 6.09658137, MAE: 4.52723598, ME: 1.44454646\n",
      "Classification → Accuracy: 0.93874575, F1-score: 0.93909074\n",
      "Epoch 56/60\n"
     ]
    },
    {
     "data": {
      "application/vnd.jupyter.widget-view+json": {
       "model_id": "7f09b535dbea4b5fb053fedc0ad07961",
       "version_major": 2,
       "version_minor": 0
      },
      "text/plain": [
       "  0%|          | 0/65 [00:00<?, ?it/s]"
      ]
     },
     "metadata": {},
     "output_type": "display_data"
    },
    {
     "name": "stdout",
     "output_type": "stream",
     "text": [
      "Loss → Total: 0.3545, Regression: 0.0068, Classification: 0.3477\n",
      "SM_0 → RMSE: 7.29998465, MAE: 5.65582657, ME: -1.13379598\n",
      "SM_20 → RMSE: 6.82913222, MAE: 5.17065096, ME: -0.96324503\n",
      "Classification → Accuracy: 0.94555177, F1-score: 0.94580985\n",
      "Epoch 57/60\n"
     ]
    },
    {
     "data": {
      "application/vnd.jupyter.widget-view+json": {
       "model_id": "8f5f6102d1c748b09f20a68271171bec",
       "version_major": 2,
       "version_minor": 0
      },
      "text/plain": [
       "  0%|          | 0/65 [00:00<?, ?it/s]"
      ]
     },
     "metadata": {},
     "output_type": "display_data"
    },
    {
     "name": "stdout",
     "output_type": "stream",
     "text": [
      "Loss → Total: 0.3111, Regression: 0.0054, Classification: 0.3058\n",
      "SM_0 → RMSE: 6.09789679, MAE: 4.61377192, ME: -0.35973632\n",
      "SM_20 → RMSE: 6.60047895, MAE: 5.11270666, ME: -0.68974656\n",
      "Classification → Accuracy: 0.94214876, F1-score: 0.94292003\n",
      "Epoch 58/60\n"
     ]
    },
    {
     "data": {
      "application/vnd.jupyter.widget-view+json": {
       "model_id": "a769ec04b7b6461d839494f2569f7cd2",
       "version_major": 2,
       "version_minor": 0
      },
      "text/plain": [
       "  0%|          | 0/65 [00:00<?, ?it/s]"
      ]
     },
     "metadata": {},
     "output_type": "display_data"
    },
    {
     "name": "stdout",
     "output_type": "stream",
     "text": [
      "Loss → Total: 0.3164, Regression: 0.0060, Classification: 0.3104\n",
      "SM_0 → RMSE: 6.11325629, MAE: 4.65576553, ME: 0.16353019\n",
      "SM_20 → RMSE: 6.27677310, MAE: 4.87711716, ME: 1.08671105\n",
      "Classification → Accuracy: 0.94992708, F1-score: 0.95030463\n",
      "Epoch 59/60\n"
     ]
    },
    {
     "data": {
      "application/vnd.jupyter.widget-view+json": {
       "model_id": "dca9d7237665482aa856785c141a4302",
       "version_major": 2,
       "version_minor": 0
      },
      "text/plain": [
       "  0%|          | 0/65 [00:00<?, ?it/s]"
      ]
     },
     "metadata": {},
     "output_type": "display_data"
    },
    {
     "name": "stdout",
     "output_type": "stream",
     "text": [
      "Loss → Total: 0.3470, Regression: 0.0069, Classification: 0.3402\n",
      "SM_0 → RMSE: 6.13526710, MAE: 4.68594027, ME: -0.59045547\n",
      "SM_20 → RMSE: 5.81228211, MAE: 4.47365999, ME: -0.57802147\n",
      "Classification → Accuracy: 0.95138551, F1-score: 0.95158524\n",
      "Epoch 60/60\n"
     ]
    },
    {
     "data": {
      "application/vnd.jupyter.widget-view+json": {
       "model_id": "1e73e80039694fd79f2379ad3ff2ef69",
       "version_major": 2,
       "version_minor": 0
      },
      "text/plain": [
       "  0%|          | 0/65 [00:00<?, ?it/s]"
      ]
     },
     "metadata": {},
     "output_type": "display_data"
    },
    {
     "name": "stdout",
     "output_type": "stream",
     "text": [
      "Loss → Total: 0.3352, Regression: 0.0058, Classification: 0.3294\n",
      "SM_0 → RMSE: 7.09310386, MAE: 5.48619413, ME: 0.47364974\n",
      "SM_20 → RMSE: 7.23590322, MAE: 5.69947958, ME: -0.05133718\n",
      "Classification → Accuracy: 0.93582888, F1-score: 0.93616598\n"
     ]
    }
   ],
   "source": [
    "import torch\n",
    "import torch.nn as nn\n",
    "import pandas as pd\n",
    "import numpy as np\n",
    "from torch.utils.data import Dataset, DataLoader\n",
    "from torchvision import transforms\n",
    "from PIL import Image\n",
    "from sklearn.metrics import mean_squared_error, mean_absolute_error, accuracy_score, f1_score\n",
    "from tqdm.notebook import tqdm\n",
    "import timm\n",
    "import os\n",
    "import random\n",
    "\n",
    "device = torch.device(\"cuda\" if torch.cuda.is_available() else \"cpu\")\n",
    "print(f\"Using device: {device}\")\n",
    "print(f\"PyTorch version: {torch.__version__}\")\n",
    "\n",
    "df = pd.read_csv(r\"F:\\Soil_Labeled_Data\\labels.csv\")\n",
    "print(f\"Total labeled images before check: {len(df)}\")\n",
    "\n",
    "required_columns = ['path', 'SM_0', 'SM_20', 'light_value', 'moisture_class']\n",
    "missing_columns = [col for col in required_columns if col not in df.columns]\n",
    "if missing_columns:\n",
    "    raise ValueError(f\"DataFrame missing columns: {missing_columns}\")\n",
    "\n",
    "fallback_dir = r\"F:\\Soil_Labeled_Data\\augmented_fallback\"\n",
    "os.makedirs(fallback_dir, exist_ok=True)\n",
    "replaced_count = 0\n",
    "augment = transforms.ColorJitter(brightness=0.2, contrast=0.2)\n",
    "\n",
    "for idx, row in tqdm(df.iterrows(), total=len(df)):\n",
    "    path = row[\"path\"]\n",
    "    try:\n",
    "        img = Image.open(path).convert(\"RGB\")\n",
    "        img.verify()\n",
    "    except:\n",
    "        print(f\"Image error: {path}\")\n",
    "        folder = os.path.dirname(path)\n",
    "        all_images = [f for f in os.listdir(folder) if f.lower().endswith((\".jpg\", \".png\"))]\n",
    "        good_images = [f for f in all_images if f != os.path.basename(path)]\n",
    "        if not good_images:\n",
    "            print(f\"No replacement images in: {folder}\")\n",
    "            continue\n",
    "        candidate = random.choice(good_images)\n",
    "        candidate_path = os.path.join(folder, candidate)\n",
    "        try:\n",
    "            img = Image.open(candidate_path).convert(\"RGB\")\n",
    "            img_aug = augment(img)\n",
    "            new_filename = f\"aug_{os.path.basename(path)}\"\n",
    "            new_path = os.path.join(fallback_dir, new_filename)\n",
    "            img_aug.save(new_path)\n",
    "            df.at[idx, \"path\"] = new_path\n",
    "            replaced_count += 1\n",
    "            print(f\"Replaced with: {new_path}\")\n",
    "        except:\n",
    "            print(f\"Replacement image error: {candidate_path}\")\n",
    "            continue\n",
    "print(f\"Replaced {replaced_count} invalid images with augmented versions.\")\n",
    "\n",
    "transform = transforms.Compose([\n",
    "    transforms.Resize((224, 224)),\n",
    "    transforms.ToTensor(),\n",
    "    transforms.Normalize(mean=[0.485, 0.456, 0.406], std=[0.229, 0.224, 0.225])\n",
    "])\n",
    "\n",
    "class SoilDualTaskDataset(Dataset):\n",
    "    def __init__(self, dataframe, transform=None):\n",
    "        self.df = dataframe\n",
    "        self.transform = transform\n",
    "\n",
    "    def __len__(self):\n",
    "        return len(self.df)\n",
    "\n",
    "    def __getitem__(self, idx):\n",
    "        row = self.df.iloc[idx]\n",
    "        img = Image.open(row[\"path\"]).convert(\"RGB\")\n",
    "        if self.transform:\n",
    "            img = self.transform(img)\n",
    "        light = torch.tensor([row[\"light_value\"] / 100.0], dtype=torch.float32)\n",
    "        regression_target = torch.tensor([row[\"SM_0\"] / 100.0, row[\"SM_20\"] / 100.0], dtype=torch.float32)\n",
    "        class_target = torch.tensor(row[\"moisture_class\"], dtype=torch.long)\n",
    "        return {\n",
    "            \"image\": img,\n",
    "            \"light\": light,\n",
    "            \"regression_target\": regression_target,\n",
    "            \"class_target\": class_target\n",
    "        }\n",
    "\n",
    "class SoilNetDualHead(nn.Module):\n",
    "    def __init__(self, num_classes=10):\n",
    "        super().__init__()\n",
    "        self.initial_conv = nn.Conv2d(3, 32, kernel_size=3, stride=1, padding=1)\n",
    "        self.mnv2_block1 = nn.Sequential(*list(\n",
    "            timm.create_model(\"mobilenetv2_100.ra_in1k\", pretrained=True).blocks.children())[0:3]\n",
    "        )\n",
    "        self.channel_adapter = nn.Conv2d(32, 16, kernel_size=1, bias=False)\n",
    "        self.mobilevit_full = timm.create_model(\"mobilevitv2_050\", pretrained=True)\n",
    "        self.mobilevit_encoder = self.mobilevit_full.stages\n",
    "        self.mvit_to_mnv2 = nn.Conv2d(256, 32, kernel_size=1, bias=False)\n",
    "        self.mnv2_block2 = nn.Sequential(*list(\n",
    "            timm.create_model(\"mobilenetv2_100.ra_in1k\", pretrained=True).blocks.children())[3:7]\n",
    "        )\n",
    "        self.final_conv = nn.Conv2d(320, 1280, kernel_size=1)\n",
    "        self.pool = nn.AdaptiveAvgPool2d((1, 1))\n",
    "        self.light_dense = nn.Sequential(nn.Linear(1, 32), nn.ReLU(inplace=True))\n",
    "        self.reg_head = nn.Sequential(\n",
    "            nn.Linear(1280 + 32, 128),\n",
    "            nn.ReLU(inplace=True),\n",
    "            nn.Linear(128, 2)\n",
    "        )\n",
    "        self.cls_head = nn.Sequential(\n",
    "            nn.Linear(1280 + 32, 128),\n",
    "            nn.ReLU(inplace=True),\n",
    "            nn.Linear(128, num_classes)\n",
    "        )\n",
    "\n",
    "    def forward(self, x_img, x_light):\n",
    "        x = self.initial_conv(x_img)\n",
    "        x = self.mnv2_block1(x)\n",
    "        x = self.channel_adapter(x)\n",
    "        x = self.mobilevit_encoder(x)\n",
    "        x = self.mvit_to_mnv2(x)\n",
    "        x = self.mnv2_block2(x)\n",
    "        x = self.final_conv(x)\n",
    "        x = self.pool(x)\n",
    "        x_img_feat = torch.flatten(x, 1)\n",
    "        x_light_feat = self.light_dense(x_light)\n",
    "        x_concat = torch.cat([x_img_feat, x_light_feat], dim=1)\n",
    "        reg_out = self.reg_head(x_concat)\n",
    "        cls_out = self.cls_head(x_concat)\n",
    "        return reg_out, cls_out\n",
    "\n",
    "dataset = SoilDualTaskDataset(df, transform)\n",
    "dataloader = DataLoader(dataset, batch_size=32, shuffle=True, pin_memory=True if device.type == \"cuda\" else False, num_workers=0)\n",
    "\n",
    "num_classes = len(df[\"moisture_class\"].unique())\n",
    "model = SoilNetDualHead(num_classes=num_classes).to(device)\n",
    "\n",
    "checkpoint_path = r\"C:\\Users\\PC\\soilNet\\checkpoints_VicReg_tinyImagenet\\vicreg_model_final_mu_20.0.pth\"\n",
    "try:\n",
    "    checkpoint = torch.load(checkpoint_path, map_location=device, weights_only=False)\n",
    "    if isinstance(checkpoint, dict) and 'model_state_dict' in checkpoint:\n",
    "        model_state_dict = checkpoint['model_state_dict']\n",
    "    else:\n",
    "        model_state_dict = checkpoint\n",
    "    model_dict = model.state_dict()\n",
    "    pretrained_dict = {k: v for k, v in model_state_dict.items() \n",
    "                       if k in model_dict and model_dict[k].shape == v.shape}\n",
    "    temp_model_dict = model_dict.copy()\n",
    "    temp_model_dict.update(pretrained_dict)\n",
    "    missing_keys, unexpected_keys = model.load_state_dict(temp_model_dict, strict=False)\n",
    "    print(f\"Loaded pretrained weights from {checkpoint_path}\")\n",
    "    if missing_keys:\n",
    "        print(f\"Some keys missing in checkpoint and not loaded: {missing_keys}\")\n",
    "    if unexpected_keys:\n",
    "        print(f\"Some keys in checkpoint not in model and ignored: {unexpected_keys}\")\n",
    "except FileNotFoundError:\n",
    "    print(f\"Checkpoint not found: {checkpoint_path}. Using random initialization.\")\n",
    "except Exception as e:\n",
    "    print(f\"Error loading checkpoint: {e}. Using random initialization.\")\n",
    "\n",
    "optimizer = torch.optim.Adam(model.parameters(), lr=1e-4)\n",
    "reg_criterion = nn.MSELoss()\n",
    "cls_criterion = nn.CrossEntropyLoss()\n",
    "\n",
    "num_epochs = 60\n",
    "loss_history = []\n",
    "\n",
    "for epoch in range(num_epochs):\n",
    "    print(f\"Epoch {epoch+1}/{num_epochs}\")\n",
    "    model.train()\n",
    "    total_loss, total_reg_loss, total_cls_loss = 0, 0, 0\n",
    "    for batch in tqdm(dataloader, leave=False):\n",
    "        x_img = batch[\"image\"].to(device)\n",
    "        x_light = batch[\"light\"].to(device)\n",
    "        y_reg = batch[\"regression_target\"].to(device)\n",
    "        y_cls = batch[\"class_target\"].to(device)\n",
    "        optimizer.zero_grad()\n",
    "        pred_reg, pred_cls = model(x_img, x_light)\n",
    "        loss_reg = reg_criterion(pred_reg, y_reg)\n",
    "        loss_cls = cls_criterion(pred_cls, y_cls)\n",
    "        loss = loss_reg + loss_cls\n",
    "        loss.backward()\n",
    "        optimizer.step()\n",
    "        total_loss += loss.item()\n",
    "        total_reg_loss += loss_reg.item()\n",
    "        total_cls_loss += loss_cls.item()\n",
    "    avg_total = total_loss / len(dataloader)\n",
    "    loss_history.append((avg_total, total_reg_loss / len(dataloader), total_cls_loss / len(dataloader)))\n",
    "    print(f\"Loss → Total: {avg_total:.4f}, Regression: {total_reg_loss / len(dataloader):.4f}, Classification: {total_cls_loss / len(dataloader):.4f}\")\n",
    "    model.eval()\n",
    "    y_true_reg, y_pred_reg = [], []\n",
    "    y_true_cls, y_pred_cls = [], []\n",
    "    with torch.no_grad():\n",
    "        for batch in dataloader:\n",
    "            x_img = batch[\"image\"].to(device)\n",
    "            x_light = batch[\"light\"].to(device)\n",
    "            y_reg = batch[\"regression_target\"].to(device)\n",
    "            y_cls = batch[\"class_target\"].to(device)\n",
    "            pred_reg, pred_cls = model(x_img, x_light)\n",
    "            y_true_reg.extend(y_reg.cpu().numpy())\n",
    "            y_pred_reg.extend(pred_reg.cpu().numpy())\n",
    "            y_true_cls.extend(y_cls.cpu().numpy())\n",
    "            y_pred_cls.extend(pred_cls.argmax(dim=1).cpu().numpy())\n",
    "    y_true_reg = np.array(y_true_reg) * 100\n",
    "    y_pred_reg = np.array(y_pred_reg) * 100\n",
    "    metrics = {}\n",
    "    for i, label in enumerate([\"SM_0\", \"SM_20\"]):\n",
    "        metrics[label] = {\n",
    "            \"RMSE\": mean_squared_error(y_true_reg[:, i], y_pred_reg[:, i]) ** 0.5,\n",
    "            \"MAE\": mean_absolute_error(y_true_reg[:, i], y_pred_reg[:, i]),\n",
    "            \"ME\": np.mean(y_pred_reg[:, i] - y_true_reg[:, i]),\n",
    "        }\n",
    "    metrics[\"Classification\"] = {\n",
    "        \"Accuracy\": accuracy_score(y_true_cls, y_pred_cls),\n",
    "        \"F1-score\": f1_score(y_true_cls, y_pred_cls, average=\"weighted\")\n",
    "    }\n",
    "    for label in [\"SM_0\", \"SM_20\"]:\n",
    "        print(f\"{label} → RMSE: {metrics[label]['RMSE']:.8f}, MAE: {metrics[label]['MAE']:.8f}, ME: {metrics[label]['ME']:.8f}\")\n",
    "    print(f\"Classification → Accuracy: {metrics['Classification']['Accuracy']:.8f}, F1-score: {metrics['Classification']['F1-score']:.8f}\")\n",
    "\n",
    "torch.save(model.state_dict(), r\"C:\\Users\\PC\\soilNet\\checkpoints_VicReg_tinyImagenet\\vicreg_model_final_tinyImageNet_mu_20.0.pth\")"
   ]
  }
 ],
 "metadata": {
  "kernelspec": {
   "display_name": "Python 3 (ipykernel)",
   "language": "python",
   "name": "python3"
  },
  "language_info": {
   "codemirror_mode": {
    "name": "ipython",
    "version": 3
   },
   "file_extension": ".py",
   "mimetype": "text/x-python",
   "name": "python",
   "nbconvert_exporter": "python",
   "pygments_lexer": "ipython3",
   "version": "3.10.16"
  }
 },
 "nbformat": 4,
 "nbformat_minor": 5
}
