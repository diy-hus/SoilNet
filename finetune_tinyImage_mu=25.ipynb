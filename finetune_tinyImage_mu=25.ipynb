{
 "cells": [
  {
   "cell_type": "code",
   "execution_count": 1,
   "id": "37ffe4d9-53e0-48ad-b3ab-365e1ba12eb8",
   "metadata": {},
   "outputs": [
    {
     "name": "stdout",
     "output_type": "stream",
     "text": [
      "Using device: cuda\n",
      "PyTorch version: 2.6.0+cu118\n",
      "Total labeled images before check: 2057\n"
     ]
    },
    {
     "data": {
      "application/vnd.jupyter.widget-view+json": {
       "model_id": "e11754faefa848c6b778b821ac62043d",
       "version_major": 2,
       "version_minor": 0
      },
      "text/plain": [
       "  0%|          | 0/2057 [00:00<?, ?it/s]"
      ]
     },
     "metadata": {},
     "output_type": "display_data"
    },
    {
     "name": "stdout",
     "output_type": "stream",
     "text": [
      "Image error: F:\\Soil_Labeled_Data\\M_10_20\\L_60_70\\alluvial\\IMG_0683.JPG\n",
      "Replaced with: F:\\Soil_Labeled_Data\\augmented_fallback\\aug_IMG_0683.JPG\n",
      "Image error: F:\\Soil_Labeled_Data\\M_10_20\\L_70_80\\alluvial\\IMG_0703.JPG\n",
      "Replaced with: F:\\Soil_Labeled_Data\\augmented_fallback\\aug_IMG_0703.JPG\n",
      "Image error: F:\\Soil_Labeled_Data\\M_10_20\\L_80_90\\alluvial\\IMG_0746.JPG\n",
      "Replaced with: F:\\Soil_Labeled_Data\\augmented_fallback\\aug_IMG_0746.JPG\n",
      "Image error: F:\\Soil_Labeled_Data\\M_10_20\\L_80_90\\alluvial\\IMG_0753.JPG\n",
      "Replaced with: F:\\Soil_Labeled_Data\\augmented_fallback\\aug_IMG_0753.JPG\n",
      "Image error: F:\\Soil_Labeled_Data\\M_10_20\\L_80_90\\alluvial\\IMG_0755.JPG\n",
      "Replaced with: F:\\Soil_Labeled_Data\\augmented_fallback\\aug_IMG_0755.JPG\n",
      "Replaced 5 invalid images with augmented versions.\n",
      "Loaded pretrained weights from C:\\Users\\PC\\soilNet\\checkpoints_VicReg_tinyImagenet\\vicreg_model_final_mu_25.0.pth\n",
      "Epoch 1/60\n"
     ]
    },
    {
     "data": {
      "application/vnd.jupyter.widget-view+json": {
       "model_id": "7079d6aa943d4cab91f075da4ec7845d",
       "version_major": 2,
       "version_minor": 0
      },
      "text/plain": [
       "  0%|          | 0/65 [00:00<?, ?it/s]"
      ]
     },
     "metadata": {},
     "output_type": "display_data"
    },
    {
     "name": "stdout",
     "output_type": "stream",
     "text": [
      "Loss → Total: 2.2850, Regression: 0.0870, Classification: 2.1979\n",
      "SM_0 → RMSE: 23.03604221, MAE: 18.65555954, ME: -2.10466456\n",
      "SM_20 → RMSE: 22.81233412, MAE: 18.25352478, ME: -1.84562302\n",
      "Classification → Accuracy: 0.26786582, F1-score: 0.23460525\n",
      "Epoch 2/60\n"
     ]
    },
    {
     "data": {
      "application/vnd.jupyter.widget-view+json": {
       "model_id": "61d45aa925fa4c05b3dc2785ee2bf0c6",
       "version_major": 2,
       "version_minor": 0
      },
      "text/plain": [
       "  0%|          | 0/65 [00:00<?, ?it/s]"
      ]
     },
     "metadata": {},
     "output_type": "display_data"
    },
    {
     "name": "stdout",
     "output_type": "stream",
     "text": [
      "Loss → Total: 1.9873, Regression: 0.0530, Classification: 1.9343\n",
      "SM_0 → RMSE: 19.28978077, MAE: 15.51397133, ME: -1.04991901\n",
      "SM_20 → RMSE: 18.78731557, MAE: 15.13266182, ME: -1.97710860\n",
      "Classification → Accuracy: 0.36071949, F1-score: 0.34647106\n",
      "Epoch 3/60\n"
     ]
    },
    {
     "data": {
      "application/vnd.jupyter.widget-view+json": {
       "model_id": "c92a340f01184169a0bfc9db653ce719",
       "version_major": 2,
       "version_minor": 0
      },
      "text/plain": [
       "  0%|          | 0/65 [00:00<?, ?it/s]"
      ]
     },
     "metadata": {},
     "output_type": "display_data"
    },
    {
     "name": "stdout",
     "output_type": "stream",
     "text": [
      "Loss → Total: 1.7350, Regression: 0.0391, Classification: 1.6959\n",
      "SM_0 → RMSE: 17.36675698, MAE: 13.94888496, ME: -2.40132332\n",
      "SM_20 → RMSE: 15.99806869, MAE: 12.55532742, ME: -1.76523161\n",
      "Classification → Accuracy: 0.41516772, F1-score: 0.40271335\n",
      "Epoch 4/60\n"
     ]
    },
    {
     "data": {
      "application/vnd.jupyter.widget-view+json": {
       "model_id": "962bcb19272544df9e1df9f2da7de132",
       "version_major": 2,
       "version_minor": 0
      },
      "text/plain": [
       "  0%|          | 0/65 [00:00<?, ?it/s]"
      ]
     },
     "metadata": {},
     "output_type": "display_data"
    },
    {
     "name": "stdout",
     "output_type": "stream",
     "text": [
      "Loss → Total: 1.5813, Regression: 0.0291, Classification: 1.5522\n",
      "SM_0 → RMSE: 14.97066987, MAE: 11.29740810, ME: 2.99462509\n",
      "SM_20 → RMSE: 15.56056440, MAE: 12.25291824, ME: 2.39184332\n",
      "Classification → Accuracy: 0.48857560, F1-score: 0.47846464\n",
      "Epoch 5/60\n"
     ]
    },
    {
     "data": {
      "application/vnd.jupyter.widget-view+json": {
       "model_id": "2c8185454cb647c883095c3e0c9dfa7a",
       "version_major": 2,
       "version_minor": 0
      },
      "text/plain": [
       "  0%|          | 0/65 [00:00<?, ?it/s]"
      ]
     },
     "metadata": {},
     "output_type": "display_data"
    },
    {
     "name": "stdout",
     "output_type": "stream",
     "text": [
      "Loss → Total: 1.4344, Regression: 0.0264, Classification: 1.4080\n",
      "SM_0 → RMSE: 16.09371018, MAE: 13.30086231, ME: -1.16991210\n",
      "SM_20 → RMSE: 14.91382258, MAE: 11.97777176, ME: 1.10216510\n",
      "Classification → Accuracy: 0.54982985, F1-score: 0.52508810\n",
      "Epoch 6/60\n"
     ]
    },
    {
     "data": {
      "application/vnd.jupyter.widget-view+json": {
       "model_id": "c4d1b328ee2040df9416d23bfed3c683",
       "version_major": 2,
       "version_minor": 0
      },
      "text/plain": [
       "  0%|          | 0/65 [00:00<?, ?it/s]"
      ]
     },
     "metadata": {},
     "output_type": "display_data"
    },
    {
     "name": "stdout",
     "output_type": "stream",
     "text": [
      "Loss → Total: 1.3333, Regression: 0.0248, Classification: 1.3085\n",
      "SM_0 → RMSE: 11.49533716, MAE: 9.00162125, ME: -1.64283824\n",
      "SM_20 → RMSE: 11.84896728, MAE: 9.41012573, ME: -2.86707830\n",
      "Classification → Accuracy: 0.57365095, F1-score: 0.57306531\n",
      "Epoch 7/60\n"
     ]
    },
    {
     "data": {
      "application/vnd.jupyter.widget-view+json": {
       "model_id": "e21c224e11f04ffbbb519612fd9fc021",
       "version_major": 2,
       "version_minor": 0
      },
      "text/plain": [
       "  0%|          | 0/65 [00:00<?, ?it/s]"
      ]
     },
     "metadata": {},
     "output_type": "display_data"
    },
    {
     "name": "stdout",
     "output_type": "stream",
     "text": [
      "Loss → Total: 1.2763, Regression: 0.0214, Classification: 1.2548\n",
      "SM_0 → RMSE: 12.56594968, MAE: 9.88282204, ME: 2.47392607\n",
      "SM_20 → RMSE: 12.23075881, MAE: 9.53027534, ME: 4.81658268\n",
      "Classification → Accuracy: 0.64754497, F1-score: 0.63465082\n",
      "Epoch 8/60\n"
     ]
    },
    {
     "data": {
      "application/vnd.jupyter.widget-view+json": {
       "model_id": "8ab837f7585a40ca8e3e5d54d2a58a88",
       "version_major": 2,
       "version_minor": 0
      },
      "text/plain": [
       "  0%|          | 0/65 [00:00<?, ?it/s]"
      ]
     },
     "metadata": {},
     "output_type": "display_data"
    },
    {
     "name": "stdout",
     "output_type": "stream",
     "text": [
      "Loss → Total: 1.2080, Regression: 0.0219, Classification: 1.1861\n",
      "SM_0 → RMSE: 11.95756530, MAE: 9.41390514, ME: 1.50923908\n",
      "SM_20 → RMSE: 12.30419270, MAE: 9.49700260, ME: 3.13467741\n",
      "Classification → Accuracy: 0.61837628, F1-score: 0.59903607\n",
      "Epoch 9/60\n"
     ]
    },
    {
     "data": {
      "application/vnd.jupyter.widget-view+json": {
       "model_id": "d173677f7b9d487a88093da999752e63",
       "version_major": 2,
       "version_minor": 0
      },
      "text/plain": [
       "  0%|          | 0/65 [00:00<?, ?it/s]"
      ]
     },
     "metadata": {},
     "output_type": "display_data"
    },
    {
     "name": "stdout",
     "output_type": "stream",
     "text": [
      "Loss → Total: 1.1429, Regression: 0.0184, Classification: 1.1244\n",
      "SM_0 → RMSE: 11.07168215, MAE: 8.47844601, ME: 3.84576011\n",
      "SM_20 → RMSE: 11.39161960, MAE: 8.43233490, ME: 2.40361190\n",
      "Classification → Accuracy: 0.68060282, F1-score: 0.67958006\n",
      "Epoch 10/60\n"
     ]
    },
    {
     "data": {
      "application/vnd.jupyter.widget-view+json": {
       "model_id": "909e4640c989496ba0bd1cff31a9d3a1",
       "version_major": 2,
       "version_minor": 0
      },
      "text/plain": [
       "  0%|          | 0/65 [00:00<?, ?it/s]"
      ]
     },
     "metadata": {},
     "output_type": "display_data"
    },
    {
     "name": "stdout",
     "output_type": "stream",
     "text": [
      "Loss → Total: 1.0946, Regression: 0.0195, Classification: 1.0751\n",
      "SM_0 → RMSE: 11.29626007, MAE: 8.54024601, ME: 5.33594084\n",
      "SM_20 → RMSE: 10.35936579, MAE: 7.82735395, ME: 2.92093039\n",
      "Classification → Accuracy: 0.68740885, F1-score: 0.68452605\n",
      "Epoch 11/60\n"
     ]
    },
    {
     "data": {
      "application/vnd.jupyter.widget-view+json": {
       "model_id": "ee306c93dfc847fab72d95bf5ca2d3a0",
       "version_major": 2,
       "version_minor": 0
      },
      "text/plain": [
       "  0%|          | 0/65 [00:00<?, ?it/s]"
      ]
     },
     "metadata": {},
     "output_type": "display_data"
    },
    {
     "name": "stdout",
     "output_type": "stream",
     "text": [
      "Loss → Total: 0.9800, Regression: 0.0150, Classification: 0.9649\n",
      "SM_0 → RMSE: 9.88314136, MAE: 7.62342215, ME: 0.56595981\n",
      "SM_20 → RMSE: 9.97584745, MAE: 7.63250065, ME: -0.69477832\n",
      "Classification → Accuracy: 0.71317453, F1-score: 0.70672019\n",
      "Epoch 12/60\n"
     ]
    },
    {
     "data": {
      "application/vnd.jupyter.widget-view+json": {
       "model_id": "91ad016c376d45e8b7b1daaeef397f77",
       "version_major": 2,
       "version_minor": 0
      },
      "text/plain": [
       "  0%|          | 0/65 [00:00<?, ?it/s]"
      ]
     },
     "metadata": {},
     "output_type": "display_data"
    },
    {
     "name": "stdout",
     "output_type": "stream",
     "text": [
      "Loss → Total: 0.9890, Regression: 0.0145, Classification: 0.9745\n",
      "SM_0 → RMSE: 9.66921157, MAE: 7.54794073, ME: 1.87035763\n",
      "SM_20 → RMSE: 9.34914893, MAE: 7.21252012, ME: 0.57586139\n",
      "Classification → Accuracy: 0.75498298, F1-score: 0.75327956\n",
      "Epoch 13/60\n"
     ]
    },
    {
     "data": {
      "application/vnd.jupyter.widget-view+json": {
       "model_id": "a33cb0b5cd774877acd09e1a4d6ebf13",
       "version_major": 2,
       "version_minor": 0
      },
      "text/plain": [
       "  0%|          | 0/65 [00:00<?, ?it/s]"
      ]
     },
     "metadata": {},
     "output_type": "display_data"
    },
    {
     "name": "stdout",
     "output_type": "stream",
     "text": [
      "Loss → Total: 0.9380, Regression: 0.0146, Classification: 0.9234\n",
      "SM_0 → RMSE: 9.64539861, MAE: 7.62393808, ME: -2.30957985\n",
      "SM_20 → RMSE: 8.52187137, MAE: 6.59413958, ME: -0.66746515\n",
      "Classification → Accuracy: 0.77540107, F1-score: 0.77465877\n",
      "Epoch 14/60\n"
     ]
    },
    {
     "data": {
      "application/vnd.jupyter.widget-view+json": {
       "model_id": "6e4d7b118da44c31bc82a158227988f2",
       "version_major": 2,
       "version_minor": 0
      },
      "text/plain": [
       "  0%|          | 0/65 [00:00<?, ?it/s]"
      ]
     },
     "metadata": {},
     "output_type": "display_data"
    },
    {
     "name": "stdout",
     "output_type": "stream",
     "text": [
      "Loss → Total: 0.9171, Regression: 0.0136, Classification: 0.9035\n",
      "SM_0 → RMSE: 9.31693894, MAE: 6.94118929, ME: 0.41093829\n",
      "SM_20 → RMSE: 10.40466187, MAE: 7.80458784, ME: -0.39092362\n",
      "Classification → Accuracy: 0.77831794, F1-score: 0.77304759\n",
      "Epoch 15/60\n"
     ]
    },
    {
     "data": {
      "application/vnd.jupyter.widget-view+json": {
       "model_id": "62d2b2ca50a2458abde4292401ea62a6",
       "version_major": 2,
       "version_minor": 0
      },
      "text/plain": [
       "  0%|          | 0/65 [00:00<?, ?it/s]"
      ]
     },
     "metadata": {},
     "output_type": "display_data"
    },
    {
     "name": "stdout",
     "output_type": "stream",
     "text": [
      "Loss → Total: 0.8272, Regression: 0.0120, Classification: 0.8151\n",
      "SM_0 → RMSE: 9.38481379, MAE: 7.38423204, ME: -2.53180027\n",
      "SM_20 → RMSE: 10.00404734, MAE: 7.90064096, ME: -3.22814250\n",
      "Classification → Accuracy: 0.79873602, F1-score: 0.79840685\n",
      "Epoch 16/60\n"
     ]
    },
    {
     "data": {
      "application/vnd.jupyter.widget-view+json": {
       "model_id": "6c753f44381f4504bf1f376fc2687f7d",
       "version_major": 2,
       "version_minor": 0
      },
      "text/plain": [
       "  0%|          | 0/65 [00:00<?, ?it/s]"
      ]
     },
     "metadata": {},
     "output_type": "display_data"
    },
    {
     "name": "stdout",
     "output_type": "stream",
     "text": [
      "Loss → Total: 0.8263, Regression: 0.0143, Classification: 0.8119\n",
      "SM_0 → RMSE: 9.02669085, MAE: 6.73505449, ME: 0.84669334\n",
      "SM_20 → RMSE: 9.12187120, MAE: 6.99089336, ME: 0.37541431\n",
      "Classification → Accuracy: 0.80213904, F1-score: 0.80357160\n",
      "Epoch 17/60\n"
     ]
    },
    {
     "data": {
      "application/vnd.jupyter.widget-view+json": {
       "model_id": "34d486e6716240b59bead3f063160fd0",
       "version_major": 2,
       "version_minor": 0
      },
      "text/plain": [
       "  0%|          | 0/65 [00:00<?, ?it/s]"
      ]
     },
     "metadata": {},
     "output_type": "display_data"
    },
    {
     "name": "stdout",
     "output_type": "stream",
     "text": [
      "Loss → Total: 0.8372, Regression: 0.0139, Classification: 0.8232\n",
      "SM_0 → RMSE: 8.74318888, MAE: 6.85499287, ME: -0.17704807\n",
      "SM_20 → RMSE: 8.49861044, MAE: 6.61060953, ME: -1.61238968\n",
      "Classification → Accuracy: 0.81866796, F1-score: 0.81794842\n",
      "Epoch 18/60\n"
     ]
    },
    {
     "data": {
      "application/vnd.jupyter.widget-view+json": {
       "model_id": "9a1543f850734c2486b3300e1af19162",
       "version_major": 2,
       "version_minor": 0
      },
      "text/plain": [
       "  0%|          | 0/65 [00:00<?, ?it/s]"
      ]
     },
     "metadata": {},
     "output_type": "display_data"
    },
    {
     "name": "stdout",
     "output_type": "stream",
     "text": [
      "Loss → Total: 0.7752, Regression: 0.0110, Classification: 0.7642\n",
      "SM_0 → RMSE: 8.84715912, MAE: 6.88190269, ME: 0.45488870\n",
      "SM_20 → RMSE: 8.21690806, MAE: 6.41675329, ME: -0.92663854\n",
      "Classification → Accuracy: 0.81964025, F1-score: 0.81881880\n",
      "Epoch 19/60\n"
     ]
    },
    {
     "data": {
      "application/vnd.jupyter.widget-view+json": {
       "model_id": "4b8d943156da43ea91eea78d19266ea2",
       "version_major": 2,
       "version_minor": 0
      },
      "text/plain": [
       "  0%|          | 0/65 [00:00<?, ?it/s]"
      ]
     },
     "metadata": {},
     "output_type": "display_data"
    },
    {
     "name": "stdout",
     "output_type": "stream",
     "text": [
      "Loss → Total: 0.6975, Regression: 0.0111, Classification: 0.6864\n",
      "SM_0 → RMSE: 8.82064119, MAE: 6.85840082, ME: 0.80718857\n",
      "SM_20 → RMSE: 8.63828129, MAE: 6.73032188, ME: -1.01691008\n",
      "Classification → Accuracy: 0.79436072, F1-score: 0.79250119\n",
      "Epoch 20/60\n"
     ]
    },
    {
     "data": {
      "application/vnd.jupyter.widget-view+json": {
       "model_id": "d20c48317142447dbaccab2e8d87049f",
       "version_major": 2,
       "version_minor": 0
      },
      "text/plain": [
       "  0%|          | 0/65 [00:00<?, ?it/s]"
      ]
     },
     "metadata": {},
     "output_type": "display_data"
    },
    {
     "name": "stdout",
     "output_type": "stream",
     "text": [
      "Loss → Total: 0.7488, Regression: 0.0118, Classification: 0.7370\n",
      "SM_0 → RMSE: 9.12792295, MAE: 7.09059763, ME: 4.05378199\n",
      "SM_20 → RMSE: 8.44777207, MAE: 6.52778625, ME: 2.83131385\n",
      "Classification → Accuracy: 0.84735051, F1-score: 0.84670923\n",
      "Epoch 21/60\n"
     ]
    },
    {
     "data": {
      "application/vnd.jupyter.widget-view+json": {
       "model_id": "456f8df75441409f964c6f205d7768c6",
       "version_major": 2,
       "version_minor": 0
      },
      "text/plain": [
       "  0%|          | 0/65 [00:00<?, ?it/s]"
      ]
     },
     "metadata": {},
     "output_type": "display_data"
    },
    {
     "name": "stdout",
     "output_type": "stream",
     "text": [
      "Loss → Total: 0.6769, Regression: 0.0118, Classification: 0.6650\n",
      "SM_0 → RMSE: 7.92579376, MAE: 6.15943003, ME: 0.77424252\n",
      "SM_20 → RMSE: 7.66010072, MAE: 5.87440443, ME: 1.85890996\n",
      "Classification → Accuracy: 0.84394750, F1-score: 0.84402476\n",
      "Epoch 22/60\n"
     ]
    },
    {
     "data": {
      "application/vnd.jupyter.widget-view+json": {
       "model_id": "f38af356c5a843e6967eed3fb3000d83",
       "version_major": 2,
       "version_minor": 0
      },
      "text/plain": [
       "  0%|          | 0/65 [00:00<?, ?it/s]"
      ]
     },
     "metadata": {},
     "output_type": "display_data"
    },
    {
     "name": "stdout",
     "output_type": "stream",
     "text": [
      "Loss → Total: 0.6947, Regression: 0.0115, Classification: 0.6832\n",
      "SM_0 → RMSE: 9.27205770, MAE: 7.22039557, ME: -3.97238207\n",
      "SM_20 → RMSE: 9.29297450, MAE: 7.26272631, ME: -4.20865059\n",
      "Classification → Accuracy: 0.87263004, F1-score: 0.87169872\n",
      "Epoch 23/60\n"
     ]
    },
    {
     "data": {
      "application/vnd.jupyter.widget-view+json": {
       "model_id": "c928aebe798847e3b59a75bfa26bacd4",
       "version_major": 2,
       "version_minor": 0
      },
      "text/plain": [
       "  0%|          | 0/65 [00:00<?, ?it/s]"
      ]
     },
     "metadata": {},
     "output_type": "display_data"
    },
    {
     "name": "stdout",
     "output_type": "stream",
     "text": [
      "Loss → Total: 0.6208, Regression: 0.0097, Classification: 0.6111\n",
      "SM_0 → RMSE: 8.73446672, MAE: 6.89420176, ME: -0.67374235\n",
      "SM_20 → RMSE: 7.80909594, MAE: 6.15082026, ME: 2.34081364\n",
      "Classification → Accuracy: 0.85950413, F1-score: 0.85678589\n",
      "Epoch 24/60\n"
     ]
    },
    {
     "data": {
      "application/vnd.jupyter.widget-view+json": {
       "model_id": "9da670aa82634a61b5405eceb4a7ed28",
       "version_major": 2,
       "version_minor": 0
      },
      "text/plain": [
       "  0%|          | 0/65 [00:00<?, ?it/s]"
      ]
     },
     "metadata": {},
     "output_type": "display_data"
    },
    {
     "name": "stdout",
     "output_type": "stream",
     "text": [
      "Loss → Total: 0.6199, Regression: 0.0093, Classification: 0.6106\n",
      "SM_0 → RMSE: 7.46068134, MAE: 5.90499783, ME: -2.07231736\n",
      "SM_20 → RMSE: 7.26438503, MAE: 5.68045950, ME: -1.36132836\n",
      "Classification → Accuracy: 0.88526981, F1-score: 0.88578307\n",
      "Epoch 25/60\n"
     ]
    },
    {
     "data": {
      "application/vnd.jupyter.widget-view+json": {
       "model_id": "59996170cd2440ec93299234947596ad",
       "version_major": 2,
       "version_minor": 0
      },
      "text/plain": [
       "  0%|          | 0/65 [00:00<?, ?it/s]"
      ]
     },
     "metadata": {},
     "output_type": "display_data"
    },
    {
     "name": "stdout",
     "output_type": "stream",
     "text": [
      "Loss → Total: 0.6444, Regression: 0.0098, Classification: 0.6346\n",
      "SM_0 → RMSE: 8.17868056, MAE: 6.31976175, ME: -2.33210015\n",
      "SM_20 → RMSE: 8.55600687, MAE: 6.72377396, ME: -3.25085139\n",
      "Classification → Accuracy: 0.89353427, F1-score: 0.89275552\n",
      "Epoch 26/60\n"
     ]
    },
    {
     "data": {
      "application/vnd.jupyter.widget-view+json": {
       "model_id": "2536cd6f24ec4023a18b90b073dcd757",
       "version_major": 2,
       "version_minor": 0
      },
      "text/plain": [
       "  0%|          | 0/65 [00:00<?, ?it/s]"
      ]
     },
     "metadata": {},
     "output_type": "display_data"
    },
    {
     "name": "stdout",
     "output_type": "stream",
     "text": [
      "Loss → Total: 0.5910, Regression: 0.0087, Classification: 0.5824\n",
      "SM_0 → RMSE: 7.75887971, MAE: 6.02334738, ME: 0.53109306\n",
      "SM_20 → RMSE: 7.70272510, MAE: 6.02104092, ME: 1.40075195\n",
      "Classification → Accuracy: 0.87797764, F1-score: 0.87743749\n",
      "Epoch 27/60\n"
     ]
    },
    {
     "data": {
      "application/vnd.jupyter.widget-view+json": {
       "model_id": "581cc22fa44044cb819c8a34860e6182",
       "version_major": 2,
       "version_minor": 0
      },
      "text/plain": [
       "  0%|          | 0/65 [00:00<?, ?it/s]"
      ]
     },
     "metadata": {},
     "output_type": "display_data"
    },
    {
     "name": "stdout",
     "output_type": "stream",
     "text": [
      "Loss → Total: 0.5833, Regression: 0.0087, Classification: 0.5746\n",
      "SM_0 → RMSE: 8.08055801, MAE: 6.49951506, ME: -3.09516144\n",
      "SM_20 → RMSE: 6.97571985, MAE: 5.38428020, ME: -1.70443630\n",
      "Classification → Accuracy: 0.90471561, F1-score: 0.90467513\n",
      "Epoch 28/60\n"
     ]
    },
    {
     "data": {
      "application/vnd.jupyter.widget-view+json": {
       "model_id": "846f66bc46f0491bbe55a5c270a3b0d9",
       "version_major": 2,
       "version_minor": 0
      },
      "text/plain": [
       "  0%|          | 0/65 [00:00<?, ?it/s]"
      ]
     },
     "metadata": {},
     "output_type": "display_data"
    },
    {
     "name": "stdout",
     "output_type": "stream",
     "text": [
      "Loss → Total: 0.6093, Regression: 0.0099, Classification: 0.5994\n",
      "SM_0 → RMSE: 9.17305944, MAE: 7.08482361, ME: -0.04159710\n",
      "SM_20 → RMSE: 6.85620155, MAE: 5.29903316, ME: 0.40542877\n",
      "Classification → Accuracy: 0.90860476, F1-score: 0.90883109\n",
      "Epoch 29/60\n"
     ]
    },
    {
     "data": {
      "application/vnd.jupyter.widget-view+json": {
       "model_id": "b59b7a5fac9743f583b1ed6e9ced238b",
       "version_major": 2,
       "version_minor": 0
      },
      "text/plain": [
       "  0%|          | 0/65 [00:00<?, ?it/s]"
      ]
     },
     "metadata": {},
     "output_type": "display_data"
    },
    {
     "name": "stdout",
     "output_type": "stream",
     "text": [
      "Loss → Total: 0.5693, Regression: 0.0092, Classification: 0.5601\n",
      "SM_0 → RMSE: 7.49506750, MAE: 5.82172632, ME: -0.82845712\n",
      "SM_20 → RMSE: 7.10535896, MAE: 5.52960634, ME: -0.96314424\n",
      "Classification → Accuracy: 0.91006320, F1-score: 0.91008445\n",
      "Epoch 30/60\n"
     ]
    },
    {
     "data": {
      "application/vnd.jupyter.widget-view+json": {
       "model_id": "ca16cb0f72084536a747bcb946986c6f",
       "version_major": 2,
       "version_minor": 0
      },
      "text/plain": [
       "  0%|          | 0/65 [00:00<?, ?it/s]"
      ]
     },
     "metadata": {},
     "output_type": "display_data"
    },
    {
     "name": "stdout",
     "output_type": "stream",
     "text": [
      "Loss → Total: 0.4863, Regression: 0.0082, Classification: 0.4781\n",
      "SM_0 → RMSE: 7.04073037, MAE: 5.40477848, ME: 0.17489545\n",
      "SM_20 → RMSE: 6.67825820, MAE: 5.06428719, ME: 0.03184899\n",
      "Classification → Accuracy: 0.90811862, F1-score: 0.90878519\n",
      "Epoch 31/60\n"
     ]
    },
    {
     "data": {
      "application/vnd.jupyter.widget-view+json": {
       "model_id": "927fc95c910a4fcea21a27111a1c6893",
       "version_major": 2,
       "version_minor": 0
      },
      "text/plain": [
       "  0%|          | 0/65 [00:00<?, ?it/s]"
      ]
     },
     "metadata": {},
     "output_type": "display_data"
    },
    {
     "name": "stdout",
     "output_type": "stream",
     "text": [
      "Loss → Total: 0.5186, Regression: 0.0079, Classification: 0.5108\n",
      "SM_0 → RMSE: 6.94002205, MAE: 5.32228088, ME: -1.94137478\n",
      "SM_20 → RMSE: 6.87730591, MAE: 5.35224247, ME: -0.82910299\n",
      "Classification → Accuracy: 0.91103549, F1-score: 0.91151074\n",
      "Epoch 32/60\n"
     ]
    },
    {
     "data": {
      "application/vnd.jupyter.widget-view+json": {
       "model_id": "15f8267f76f14af7b4b00b5c405a9220",
       "version_major": 2,
       "version_minor": 0
      },
      "text/plain": [
       "  0%|          | 0/65 [00:00<?, ?it/s]"
      ]
     },
     "metadata": {},
     "output_type": "display_data"
    },
    {
     "name": "stdout",
     "output_type": "stream",
     "text": [
      "Loss → Total: 0.5365, Regression: 0.0081, Classification: 0.5284\n",
      "SM_0 → RMSE: 6.74995253, MAE: 5.32106256, ME: -1.17549908\n",
      "SM_20 → RMSE: 6.76711308, MAE: 5.29779863, ME: -1.68656731\n",
      "Classification → Accuracy: 0.88624210, F1-score: 0.88605766\n",
      "Epoch 33/60\n"
     ]
    },
    {
     "data": {
      "application/vnd.jupyter.widget-view+json": {
       "model_id": "8b948ff279394f6aa0bd7c75ccc63d68",
       "version_major": 2,
       "version_minor": 0
      },
      "text/plain": [
       "  0%|          | 0/65 [00:00<?, ?it/s]"
      ]
     },
     "metadata": {},
     "output_type": "display_data"
    },
    {
     "name": "stdout",
     "output_type": "stream",
     "text": [
      "Loss → Total: 0.5816, Regression: 0.0095, Classification: 0.5721\n",
      "SM_0 → RMSE: 9.63194520, MAE: 7.56401062, ME: -3.23725963\n",
      "SM_20 → RMSE: 7.88256400, MAE: 6.14085245, ME: -1.70235002\n",
      "Classification → Accuracy: 0.90374332, F1-score: 0.90413353\n",
      "Epoch 34/60\n"
     ]
    },
    {
     "data": {
      "application/vnd.jupyter.widget-view+json": {
       "model_id": "2b1f52ca29a54b06bb45a93a628262b2",
       "version_major": 2,
       "version_minor": 0
      },
      "text/plain": [
       "  0%|          | 0/65 [00:00<?, ?it/s]"
      ]
     },
     "metadata": {},
     "output_type": "display_data"
    },
    {
     "name": "stdout",
     "output_type": "stream",
     "text": [
      "Loss → Total: 0.5209, Regression: 0.0118, Classification: 0.5092\n",
      "SM_0 → RMSE: 8.01469312, MAE: 6.39214993, ME: 3.12158418\n",
      "SM_20 → RMSE: 7.75599635, MAE: 6.19724274, ME: 2.52235270\n",
      "Classification → Accuracy: 0.90714633, F1-score: 0.90761382\n",
      "Epoch 35/60\n"
     ]
    },
    {
     "data": {
      "application/vnd.jupyter.widget-view+json": {
       "model_id": "2819f493ca3945bbbe4d95026e277cda",
       "version_major": 2,
       "version_minor": 0
      },
      "text/plain": [
       "  0%|          | 0/65 [00:00<?, ?it/s]"
      ]
     },
     "metadata": {},
     "output_type": "display_data"
    },
    {
     "name": "stdout",
     "output_type": "stream",
     "text": [
      "Loss → Total: 0.4693, Regression: 0.0087, Classification: 0.4606\n",
      "SM_0 → RMSE: 6.94578676, MAE: 5.37373352, ME: -0.06512175\n",
      "SM_20 → RMSE: 6.99144358, MAE: 5.37780571, ME: 0.05731289\n",
      "Classification → Accuracy: 0.92367526, F1-score: 0.92392552\n",
      "Epoch 36/60\n"
     ]
    },
    {
     "data": {
      "application/vnd.jupyter.widget-view+json": {
       "model_id": "f2bee4949e8447069e7fb1030085409d",
       "version_major": 2,
       "version_minor": 0
      },
      "text/plain": [
       "  0%|          | 0/65 [00:00<?, ?it/s]"
      ]
     },
     "metadata": {},
     "output_type": "display_data"
    },
    {
     "name": "stdout",
     "output_type": "stream",
     "text": [
      "Loss → Total: 0.4901, Regression: 0.0073, Classification: 0.4828\n",
      "SM_0 → RMSE: 7.34542061, MAE: 5.65478945, ME: -0.07938396\n",
      "SM_20 → RMSE: 6.89731431, MAE: 5.32367373, ME: -0.43659732\n",
      "Classification → Accuracy: 0.93388430, F1-score: 0.93475857\n",
      "Epoch 37/60\n"
     ]
    },
    {
     "data": {
      "application/vnd.jupyter.widget-view+json": {
       "model_id": "eaabc4ed6fc7443e921fc53cc01f4cab",
       "version_major": 2,
       "version_minor": 0
      },
      "text/plain": [
       "  0%|          | 0/65 [00:00<?, ?it/s]"
      ]
     },
     "metadata": {},
     "output_type": "display_data"
    },
    {
     "name": "stdout",
     "output_type": "stream",
     "text": [
      "Loss → Total: 0.4908, Regression: 0.0079, Classification: 0.4829\n",
      "SM_0 → RMSE: 6.93465633, MAE: 5.33453274, ME: -0.40354344\n",
      "SM_20 → RMSE: 6.87548882, MAE: 5.29808187, ME: -1.15089250\n",
      "Classification → Accuracy: 0.92367526, F1-score: 0.92462076\n",
      "Epoch 38/60\n"
     ]
    },
    {
     "data": {
      "application/vnd.jupyter.widget-view+json": {
       "model_id": "a95e1141d21b4d87825cae6ee0f3dfa8",
       "version_major": 2,
       "version_minor": 0
      },
      "text/plain": [
       "  0%|          | 0/65 [00:00<?, ?it/s]"
      ]
     },
     "metadata": {},
     "output_type": "display_data"
    },
    {
     "name": "stdout",
     "output_type": "stream",
     "text": [
      "Loss → Total: 0.4471, Regression: 0.0073, Classification: 0.4398\n",
      "SM_0 → RMSE: 7.24422172, MAE: 5.74910593, ME: -2.24638391\n",
      "SM_20 → RMSE: 6.83454143, MAE: 5.27263403, ME: -1.98364866\n",
      "Classification → Accuracy: 0.93728731, F1-score: 0.93747835\n",
      "Epoch 39/60\n"
     ]
    },
    {
     "data": {
      "application/vnd.jupyter.widget-view+json": {
       "model_id": "c8e182453c8946d285b25ed992718eb0",
       "version_major": 2,
       "version_minor": 0
      },
      "text/plain": [
       "  0%|          | 0/65 [00:00<?, ?it/s]"
      ]
     },
     "metadata": {},
     "output_type": "display_data"
    },
    {
     "name": "stdout",
     "output_type": "stream",
     "text": [
      "Loss → Total: 0.4829, Regression: 0.0075, Classification: 0.4754\n",
      "SM_0 → RMSE: 6.23282705, MAE: 4.70887709, ME: 0.40776509\n",
      "SM_20 → RMSE: 6.24830879, MAE: 4.75930452, ME: -0.58053118\n",
      "Classification → Accuracy: 0.91832766, F1-score: 0.91844943\n",
      "Epoch 40/60\n"
     ]
    },
    {
     "data": {
      "application/vnd.jupyter.widget-view+json": {
       "model_id": "9bfe4dd497d9435fa36a705c7f1a13e7",
       "version_major": 2,
       "version_minor": 0
      },
      "text/plain": [
       "  0%|          | 0/65 [00:00<?, ?it/s]"
      ]
     },
     "metadata": {},
     "output_type": "display_data"
    },
    {
     "name": "stdout",
     "output_type": "stream",
     "text": [
      "Loss → Total: 0.4383, Regression: 0.0071, Classification: 0.4312\n",
      "SM_0 → RMSE: 6.38866232, MAE: 4.91831255, ME: -1.79659283\n",
      "SM_20 → RMSE: 6.48193667, MAE: 4.98352528, ME: -0.97702450\n",
      "Classification → Accuracy: 0.91443850, F1-score: 0.91472812\n",
      "Epoch 41/60\n"
     ]
    },
    {
     "data": {
      "application/vnd.jupyter.widget-view+json": {
       "model_id": "a2eb50443f134700ae31bf4d1ea3136a",
       "version_major": 2,
       "version_minor": 0
      },
      "text/plain": [
       "  0%|          | 0/65 [00:00<?, ?it/s]"
      ]
     },
     "metadata": {},
     "output_type": "display_data"
    },
    {
     "name": "stdout",
     "output_type": "stream",
     "text": [
      "Loss → Total: 0.4066, Regression: 0.0066, Classification: 0.4000\n",
      "SM_0 → RMSE: 6.51085139, MAE: 4.95745754, ME: 0.57912743\n",
      "SM_20 → RMSE: 6.61566108, MAE: 5.05119705, ME: 0.28127766\n",
      "Classification → Accuracy: 0.93825960, F1-score: 0.93856194\n",
      "Epoch 42/60\n"
     ]
    },
    {
     "data": {
      "application/vnd.jupyter.widget-view+json": {
       "model_id": "7b4ccc67301b4841a99cec53fb4e7205",
       "version_major": 2,
       "version_minor": 0
      },
      "text/plain": [
       "  0%|          | 0/65 [00:00<?, ?it/s]"
      ]
     },
     "metadata": {},
     "output_type": "display_data"
    },
    {
     "name": "stdout",
     "output_type": "stream",
     "text": [
      "Loss → Total: 0.3563, Regression: 0.0068, Classification: 0.3495\n",
      "SM_0 → RMSE: 6.17573214, MAE: 4.73838043, ME: 0.72178715\n",
      "SM_20 → RMSE: 6.12556050, MAE: 4.73322535, ME: 0.76829213\n",
      "Classification → Accuracy: 0.92610598, F1-score: 0.92620290\n",
      "Epoch 43/60\n"
     ]
    },
    {
     "data": {
      "application/vnd.jupyter.widget-view+json": {
       "model_id": "f2f05d09c5da475980b875c09df6b728",
       "version_major": 2,
       "version_minor": 0
      },
      "text/plain": [
       "  0%|          | 0/65 [00:00<?, ?it/s]"
      ]
     },
     "metadata": {},
     "output_type": "display_data"
    },
    {
     "name": "stdout",
     "output_type": "stream",
     "text": [
      "Loss → Total: 0.4059, Regression: 0.0067, Classification: 0.3991\n",
      "SM_0 → RMSE: 6.44564955, MAE: 4.87210226, ME: -0.31511635\n",
      "SM_20 → RMSE: 7.00026839, MAE: 5.27672577, ME: -0.50932449\n",
      "Classification → Accuracy: 0.92707827, F1-score: 0.92748679\n",
      "Epoch 44/60\n"
     ]
    },
    {
     "data": {
      "application/vnd.jupyter.widget-view+json": {
       "model_id": "602439e048e048e38fb4610bda197e90",
       "version_major": 2,
       "version_minor": 0
      },
      "text/plain": [
       "  0%|          | 0/65 [00:00<?, ?it/s]"
      ]
     },
     "metadata": {},
     "output_type": "display_data"
    },
    {
     "name": "stdout",
     "output_type": "stream",
     "text": [
      "Loss → Total: 0.4019, Regression: 0.0065, Classification: 0.3954\n",
      "SM_0 → RMSE: 6.33415933, MAE: 4.80947876, ME: 0.20287946\n",
      "SM_20 → RMSE: 6.53454419, MAE: 4.95965481, ME: 0.64540976\n",
      "Classification → Accuracy: 0.92075839, F1-score: 0.92043170\n",
      "Epoch 45/60\n"
     ]
    },
    {
     "data": {
      "application/vnd.jupyter.widget-view+json": {
       "model_id": "91d229de98234e3eb1b7734053dba186",
       "version_major": 2,
       "version_minor": 0
      },
      "text/plain": [
       "  0%|          | 0/65 [00:00<?, ?it/s]"
      ]
     },
     "metadata": {},
     "output_type": "display_data"
    },
    {
     "name": "stdout",
     "output_type": "stream",
     "text": [
      "Loss → Total: 0.3840, Regression: 0.0064, Classification: 0.3776\n",
      "SM_0 → RMSE: 6.63108834, MAE: 5.11340570, ME: -1.26261318\n",
      "SM_20 → RMSE: 6.56359825, MAE: 5.04499102, ME: -1.25697005\n",
      "Classification → Accuracy: 0.93534273, F1-score: 0.93563306\n",
      "Epoch 46/60\n"
     ]
    },
    {
     "data": {
      "application/vnd.jupyter.widget-view+json": {
       "model_id": "42bcc05f2b6044d28e6593a1dee7fa6b",
       "version_major": 2,
       "version_minor": 0
      },
      "text/plain": [
       "  0%|          | 0/65 [00:00<?, ?it/s]"
      ]
     },
     "metadata": {},
     "output_type": "display_data"
    },
    {
     "name": "stdout",
     "output_type": "stream",
     "text": [
      "Loss → Total: 0.3566, Regression: 0.0061, Classification: 0.3505\n",
      "SM_0 → RMSE: 7.22989946, MAE: 5.52473879, ME: -0.32159171\n",
      "SM_20 → RMSE: 6.78425946, MAE: 5.14746475, ME: -0.65385276\n",
      "Classification → Accuracy: 0.92221682, F1-score: 0.92270288\n",
      "Epoch 47/60\n"
     ]
    },
    {
     "data": {
      "application/vnd.jupyter.widget-view+json": {
       "model_id": "c978add53c6b43b7a4686fdfcb88c266",
       "version_major": 2,
       "version_minor": 0
      },
      "text/plain": [
       "  0%|          | 0/65 [00:00<?, ?it/s]"
      ]
     },
     "metadata": {},
     "output_type": "display_data"
    },
    {
     "name": "stdout",
     "output_type": "stream",
     "text": [
      "Loss → Total: 0.3946, Regression: 0.0066, Classification: 0.3880\n",
      "SM_0 → RMSE: 6.55268926, MAE: 4.95007610, ME: -1.44095647\n",
      "SM_20 → RMSE: 6.37743167, MAE: 4.90445089, ME: -0.91806304\n",
      "Classification → Accuracy: 0.93582888, F1-score: 0.93640058\n",
      "Epoch 48/60\n"
     ]
    },
    {
     "data": {
      "application/vnd.jupyter.widget-view+json": {
       "model_id": "ce369bda5abc40999a1d9cefa355c2c1",
       "version_major": 2,
       "version_minor": 0
      },
      "text/plain": [
       "  0%|          | 0/65 [00:00<?, ?it/s]"
      ]
     },
     "metadata": {},
     "output_type": "display_data"
    },
    {
     "name": "stdout",
     "output_type": "stream",
     "text": [
      "Loss → Total: 0.3171, Regression: 0.0060, Classification: 0.3111\n",
      "SM_0 → RMSE: 6.76935346, MAE: 5.20434141, ME: -1.04799640\n",
      "SM_20 → RMSE: 6.98010752, MAE: 5.38850355, ME: -2.50033593\n",
      "Classification → Accuracy: 0.94069033, F1-score: 0.94205952\n",
      "Epoch 49/60\n"
     ]
    },
    {
     "data": {
      "application/vnd.jupyter.widget-view+json": {
       "model_id": "716c7a602d07434f9fbe50e5fb65f10e",
       "version_major": 2,
       "version_minor": 0
      },
      "text/plain": [
       "  0%|          | 0/65 [00:00<?, ?it/s]"
      ]
     },
     "metadata": {},
     "output_type": "display_data"
    },
    {
     "name": "stdout",
     "output_type": "stream",
     "text": [
      "Loss → Total: 0.4040, Regression: 0.0068, Classification: 0.3972\n",
      "SM_0 → RMSE: 5.87030231, MAE: 4.46444321, ME: 0.13276039\n",
      "SM_20 → RMSE: 6.10732069, MAE: 4.71206093, ME: 0.20973460\n",
      "Classification → Accuracy: 0.92853670, F1-score: 0.92932404\n",
      "Epoch 50/60\n"
     ]
    },
    {
     "data": {
      "application/vnd.jupyter.widget-view+json": {
       "model_id": "cb6e00f2e8944e509ffc1d6164562f8c",
       "version_major": 2,
       "version_minor": 0
      },
      "text/plain": [
       "  0%|          | 0/65 [00:00<?, ?it/s]"
      ]
     },
     "metadata": {},
     "output_type": "display_data"
    },
    {
     "name": "stdout",
     "output_type": "stream",
     "text": [
      "Loss → Total: 0.4137, Regression: 0.0063, Classification: 0.4074\n",
      "SM_0 → RMSE: 6.81177230, MAE: 5.31875896, ME: -1.01580191\n",
      "SM_20 → RMSE: 6.45459086, MAE: 5.05115938, ME: -1.74010253\n",
      "Classification → Accuracy: 0.95235780, F1-score: 0.95253475\n",
      "Epoch 51/60\n"
     ]
    },
    {
     "data": {
      "application/vnd.jupyter.widget-view+json": {
       "model_id": "018739588771492c8a31634385627a58",
       "version_major": 2,
       "version_minor": 0
      },
      "text/plain": [
       "  0%|          | 0/65 [00:00<?, ?it/s]"
      ]
     },
     "metadata": {},
     "output_type": "display_data"
    },
    {
     "name": "stdout",
     "output_type": "stream",
     "text": [
      "Loss → Total: 0.3589, Regression: 0.0064, Classification: 0.3525\n",
      "SM_0 → RMSE: 6.60637941, MAE: 5.07630157, ME: -1.80875039\n",
      "SM_20 → RMSE: 6.50118890, MAE: 4.99734163, ME: -1.87385559\n",
      "Classification → Accuracy: 0.94749635, F1-score: 0.94757221\n",
      "Epoch 52/60\n"
     ]
    },
    {
     "data": {
      "application/vnd.jupyter.widget-view+json": {
       "model_id": "f8ed785b6d9942a9a131cf32b1b09eb0",
       "version_major": 2,
       "version_minor": 0
      },
      "text/plain": [
       "  0%|          | 0/65 [00:00<?, ?it/s]"
      ]
     },
     "metadata": {},
     "output_type": "display_data"
    },
    {
     "name": "stdout",
     "output_type": "stream",
     "text": [
      "Loss → Total: 0.3721, Regression: 0.0070, Classification: 0.3652\n",
      "SM_0 → RMSE: 6.49534939, MAE: 5.06876135, ME: 2.19304061\n",
      "SM_20 → RMSE: 6.21070595, MAE: 4.80058765, ME: 0.87132043\n",
      "Classification → Accuracy: 0.93193972, F1-score: 0.93249068\n",
      "Epoch 53/60\n"
     ]
    },
    {
     "data": {
      "application/vnd.jupyter.widget-view+json": {
       "model_id": "a56e57e124aa4eda89065e8564061a88",
       "version_major": 2,
       "version_minor": 0
      },
      "text/plain": [
       "  0%|          | 0/65 [00:00<?, ?it/s]"
      ]
     },
     "metadata": {},
     "output_type": "display_data"
    },
    {
     "name": "stdout",
     "output_type": "stream",
     "text": [
      "Loss → Total: 0.3415, Regression: 0.0059, Classification: 0.3357\n",
      "SM_0 → RMSE: 5.96479003, MAE: 4.58584595, ME: -0.62862325\n",
      "SM_20 → RMSE: 5.72482861, MAE: 4.39872789, ME: -0.43021089\n",
      "Classification → Accuracy: 0.94506563, F1-score: 0.94588247\n",
      "Epoch 54/60\n"
     ]
    },
    {
     "data": {
      "application/vnd.jupyter.widget-view+json": {
       "model_id": "46aab2440aaa46abb2033ba1fe50ebb3",
       "version_major": 2,
       "version_minor": 0
      },
      "text/plain": [
       "  0%|          | 0/65 [00:00<?, ?it/s]"
      ]
     },
     "metadata": {},
     "output_type": "display_data"
    },
    {
     "name": "stdout",
     "output_type": "stream",
     "text": [
      "Loss → Total: 0.3368, Regression: 0.0054, Classification: 0.3314\n",
      "SM_0 → RMSE: 6.51770777, MAE: 5.01562977, ME: -1.56062365\n",
      "SM_20 → RMSE: 6.16341885, MAE: 4.78371525, ME: -0.60214180\n",
      "Classification → Accuracy: 0.94603792, F1-score: 0.94602853\n",
      "Epoch 55/60\n"
     ]
    },
    {
     "data": {
      "application/vnd.jupyter.widget-view+json": {
       "model_id": "05753eb0f1174bce98455ca5fa1c0aed",
       "version_major": 2,
       "version_minor": 0
      },
      "text/plain": [
       "  0%|          | 0/65 [00:00<?, ?it/s]"
      ]
     },
     "metadata": {},
     "output_type": "display_data"
    },
    {
     "name": "stdout",
     "output_type": "stream",
     "text": [
      "Loss → Total: 0.3412, Regression: 0.0063, Classification: 0.3350\n",
      "SM_0 → RMSE: 5.97793208, MAE: 4.62487602, ME: -0.94658756\n",
      "SM_20 → RMSE: 5.84439524, MAE: 4.46906328, ME: -1.11927295\n",
      "Classification → Accuracy: 0.94846864, F1-score: 0.94880587\n",
      "Epoch 56/60\n"
     ]
    },
    {
     "data": {
      "application/vnd.jupyter.widget-view+json": {
       "model_id": "d0ad0b852d9a4e08b77284188a9da3bb",
       "version_major": 2,
       "version_minor": 0
      },
      "text/plain": [
       "  0%|          | 0/65 [00:00<?, ?it/s]"
      ]
     },
     "metadata": {},
     "output_type": "display_data"
    },
    {
     "name": "stdout",
     "output_type": "stream",
     "text": [
      "Loss → Total: 0.3268, Regression: 0.0055, Classification: 0.3213\n",
      "SM_0 → RMSE: 6.40878618, MAE: 4.97539473, ME: -1.70005786\n",
      "SM_20 → RMSE: 6.60480083, MAE: 5.14547586, ME: -1.51452720\n",
      "Classification → Accuracy: 0.90422946, F1-score: 0.90522197\n",
      "Epoch 57/60\n"
     ]
    },
    {
     "data": {
      "application/vnd.jupyter.widget-view+json": {
       "model_id": "6af5a48a79d749788ad0be5f7a752c6b",
       "version_major": 2,
       "version_minor": 0
      },
      "text/plain": [
       "  0%|          | 0/65 [00:00<?, ?it/s]"
      ]
     },
     "metadata": {},
     "output_type": "display_data"
    },
    {
     "name": "stdout",
     "output_type": "stream",
     "text": [
      "Loss → Total: 0.3315, Regression: 0.0058, Classification: 0.3257\n",
      "SM_0 → RMSE: 6.02834460, MAE: 4.47894287, ME: 0.18215284\n",
      "SM_20 → RMSE: 5.94033617, MAE: 4.47154665, ME: -0.05253181\n",
      "Classification → Accuracy: 0.93291201, F1-score: 0.93372710\n",
      "Epoch 58/60\n"
     ]
    },
    {
     "data": {
      "application/vnd.jupyter.widget-view+json": {
       "model_id": "ed83f1a9c7544ea0abd2f7bbaf681db4",
       "version_major": 2,
       "version_minor": 0
      },
      "text/plain": [
       "  0%|          | 0/65 [00:00<?, ?it/s]"
      ]
     },
     "metadata": {},
     "output_type": "display_data"
    },
    {
     "name": "stdout",
     "output_type": "stream",
     "text": [
      "Loss → Total: 0.3245, Regression: 0.0065, Classification: 0.3180\n",
      "SM_0 → RMSE: 6.09311677, MAE: 4.67583275, ME: -1.08447862\n",
      "SM_20 → RMSE: 6.08172485, MAE: 4.67824793, ME: -1.09989214\n",
      "Classification → Accuracy: 0.94506563, F1-score: 0.94528208\n",
      "Epoch 59/60\n"
     ]
    },
    {
     "data": {
      "application/vnd.jupyter.widget-view+json": {
       "model_id": "a947d0e50a504478bd3ad3b0b6a13573",
       "version_major": 2,
       "version_minor": 0
      },
      "text/plain": [
       "  0%|          | 0/65 [00:00<?, ?it/s]"
      ]
     },
     "metadata": {},
     "output_type": "display_data"
    },
    {
     "name": "stdout",
     "output_type": "stream",
     "text": [
      "Loss → Total: 0.3229, Regression: 0.0077, Classification: 0.3152\n",
      "SM_0 → RMSE: 5.81527020, MAE: 4.37561560, ME: 0.25690520\n",
      "SM_20 → RMSE: 5.67212082, MAE: 4.27709579, ME: -0.32535306\n",
      "Classification → Accuracy: 0.94652406, F1-score: 0.94725026\n",
      "Epoch 60/60\n"
     ]
    },
    {
     "data": {
      "application/vnd.jupyter.widget-view+json": {
       "model_id": "26fcc307341d400fa11181d42c02cb61",
       "version_major": 2,
       "version_minor": 0
      },
      "text/plain": [
       "  0%|          | 0/65 [00:00<?, ?it/s]"
      ]
     },
     "metadata": {},
     "output_type": "display_data"
    },
    {
     "name": "stdout",
     "output_type": "stream",
     "text": [
      "Loss → Total: 0.3059, Regression: 0.0060, Classification: 0.2999\n",
      "SM_0 → RMSE: 5.58262816, MAE: 4.16646671, ME: -0.70536095\n",
      "SM_20 → RMSE: 5.87974324, MAE: 4.48810577, ME: -1.54808068\n",
      "Classification → Accuracy: 0.94214876, F1-score: 0.94288871\n"
     ]
    }
   ],
   "source": [
    "import torch\n",
    "import torch.nn as nn\n",
    "import pandas as pd\n",
    "import numpy as np\n",
    "from torch.utils.data import Dataset, DataLoader\n",
    "from torchvision import transforms\n",
    "from PIL import Image\n",
    "from sklearn.metrics import mean_squared_error, mean_absolute_error, accuracy_score, f1_score\n",
    "from tqdm.notebook import tqdm\n",
    "import timm\n",
    "import os\n",
    "import random\n",
    "\n",
    "device = torch.device(\"cuda\" if torch.cuda.is_available() else \"cpu\")\n",
    "print(f\"Using device: {device}\")\n",
    "print(f\"PyTorch version: {torch.__version__}\")\n",
    "\n",
    "df = pd.read_csv(r\"F:\\Soil_Labeled_Data\\labels.csv\")\n",
    "print(f\"Total labeled images before check: {len(df)}\")\n",
    "\n",
    "required_columns = ['path', 'SM_0', 'SM_20', 'light_value', 'moisture_class']\n",
    "missing_columns = [col for col in required_columns if col not in df.columns]\n",
    "if missing_columns:\n",
    "    raise ValueError(f\"DataFrame missing columns: {missing_columns}\")\n",
    "\n",
    "fallback_dir = r\"F:\\Soil_Labeled_Data\\augmented_fallback\"\n",
    "os.makedirs(fallback_dir, exist_ok=True)\n",
    "replaced_count = 0\n",
    "augment = transforms.ColorJitter(brightness=0.2, contrast=0.2)\n",
    "\n",
    "for idx, row in tqdm(df.iterrows(), total=len(df)):\n",
    "    path = row[\"path\"]\n",
    "    try:\n",
    "        img = Image.open(path).convert(\"RGB\")\n",
    "        img.verify()\n",
    "    except:\n",
    "        print(f\"Image error: {path}\")\n",
    "        folder = os.path.dirname(path)\n",
    "        all_images = [f for f in os.listdir(folder) if f.lower().endswith((\".jpg\", \".png\"))]\n",
    "        good_images = [f for f in all_images if f != os.path.basename(path)]\n",
    "        if not good_images:\n",
    "            print(f\"No replacement images in: {folder}\")\n",
    "            continue\n",
    "        candidate = random.choice(good_images)\n",
    "        candidate_path = os.path.join(folder, candidate)\n",
    "        try:\n",
    "            img = Image.open(candidate_path).convert(\"RGB\")\n",
    "            img_aug = augment(img)\n",
    "            new_filename = f\"aug_{os.path.basename(path)}\"\n",
    "            new_path = os.path.join(fallback_dir, new_filename)\n",
    "            img_aug.save(new_path)\n",
    "            df.at[idx, \"path\"] = new_path\n",
    "            replaced_count += 1\n",
    "            print(f\"Replaced with: {new_path}\")\n",
    "        except:\n",
    "            print(f\"Replacement image error: {candidate_path}\")\n",
    "            continue\n",
    "print(f\"Replaced {replaced_count} invalid images with augmented versions.\")\n",
    "\n",
    "transform = transforms.Compose([\n",
    "    transforms.Resize((224, 224)),\n",
    "    transforms.ToTensor(),\n",
    "    transforms.Normalize(mean=[0.485, 0.456, 0.406], std=[0.229, 0.224, 0.225])\n",
    "])\n",
    "\n",
    "class SoilDualTaskDataset(Dataset):\n",
    "    def __init__(self, dataframe, transform=None):\n",
    "        self.df = dataframe\n",
    "        self.transform = transform\n",
    "\n",
    "    def __len__(self):\n",
    "        return len(self.df)\n",
    "\n",
    "    def __getitem__(self, idx):\n",
    "        row = self.df.iloc[idx]\n",
    "        img = Image.open(row[\"path\"]).convert(\"RGB\")\n",
    "        if self.transform:\n",
    "            img = self.transform(img)\n",
    "        light = torch.tensor([row[\"light_value\"] / 100.0], dtype=torch.float32)\n",
    "        regression_target = torch.tensor([row[\"SM_0\"] / 100.0, row[\"SM_20\"] / 100.0], dtype=torch.float32)\n",
    "        class_target = torch.tensor(row[\"moisture_class\"], dtype=torch.long)\n",
    "        return {\n",
    "            \"image\": img,\n",
    "            \"light\": light,\n",
    "            \"regression_target\": regression_target,\n",
    "            \"class_target\": class_target\n",
    "        }\n",
    "\n",
    "class SoilNetDualHead(nn.Module):\n",
    "    def __init__(self, num_classes=10):\n",
    "        super().__init__()\n",
    "        self.initial_conv = nn.Conv2d(3, 32, kernel_size=3, stride=1, padding=1)\n",
    "        self.mnv2_block1 = nn.Sequential(*list(\n",
    "            timm.create_model(\"mobilenetv2_100.ra_in1k\", pretrained=True).blocks.children())[0:3]\n",
    "        )\n",
    "        self.channel_adapter = nn.Conv2d(32, 16, kernel_size=1, bias=False)\n",
    "        self.mobilevit_full = timm.create_model(\"mobilevitv2_050\", pretrained=True)\n",
    "        self.mobilevit_encoder = self.mobilevit_full.stages\n",
    "        self.mvit_to_mnv2 = nn.Conv2d(256, 32, kernel_size=1, bias=False)\n",
    "        self.mnv2_block2 = nn.Sequential(*list(\n",
    "            timm.create_model(\"mobilenetv2_100.ra_in1k\", pretrained=True).blocks.children())[3:7]\n",
    "        )\n",
    "        self.final_conv = nn.Conv2d(320, 1280, kernel_size=1)\n",
    "        self.pool = nn.AdaptiveAvgPool2d((1, 1))\n",
    "        self.light_dense = nn.Sequential(nn.Linear(1, 32), nn.ReLU(inplace=True))\n",
    "        self.reg_head = nn.Sequential(\n",
    "            nn.Linear(1280 + 32, 128),\n",
    "            nn.ReLU(inplace=True),\n",
    "            nn.Linear(128, 2)\n",
    "        )\n",
    "        self.cls_head = nn.Sequential(\n",
    "            nn.Linear(1280 + 32, 128),\n",
    "            nn.ReLU(inplace=True),\n",
    "            nn.Linear(128, num_classes)\n",
    "        )\n",
    "\n",
    "    def forward(self, x_img, x_light):\n",
    "        x = self.initial_conv(x_img)\n",
    "        x = self.mnv2_block1(x)\n",
    "        x = self.channel_adapter(x)\n",
    "        x = self.mobilevit_encoder(x)\n",
    "        x = self.mvit_to_mnv2(x)\n",
    "        x = self.mnv2_block2(x)\n",
    "        x = self.final_conv(x)\n",
    "        x = self.pool(x)\n",
    "        x_img_feat = torch.flatten(x, 1)\n",
    "        x_light_feat = self.light_dense(x_light)\n",
    "        x_concat = torch.cat([x_img_feat, x_light_feat], dim=1)\n",
    "        reg_out = self.reg_head(x_concat)\n",
    "        cls_out = self.cls_head(x_concat)\n",
    "        return reg_out, cls_out\n",
    "\n",
    "dataset = SoilDualTaskDataset(df, transform)\n",
    "dataloader = DataLoader(dataset, batch_size=32, shuffle=True, pin_memory=True if device.type == \"cuda\" else False, num_workers=0)\n",
    "\n",
    "num_classes = len(df[\"moisture_class\"].unique())\n",
    "model = SoilNetDualHead(num_classes=num_classes).to(device)\n",
    "\n",
    "checkpoint_path = r\"C:\\Users\\PC\\soilNet\\checkpoints_VicReg_tinyImagenet\\vicreg_model_final_mu_25.0.pth\"\n",
    "try:\n",
    "    checkpoint = torch.load(checkpoint_path, map_location=device, weights_only=False)\n",
    "    if isinstance(checkpoint, dict) and 'model_state_dict' in checkpoint:\n",
    "        model_state_dict = checkpoint['model_state_dict']\n",
    "    else:\n",
    "        model_state_dict = checkpoint\n",
    "    model_dict = model.state_dict()\n",
    "    pretrained_dict = {k: v for k, v in model_state_dict.items() \n",
    "                       if k in model_dict and model_dict[k].shape == v.shape}\n",
    "    temp_model_dict = model_dict.copy()\n",
    "    temp_model_dict.update(pretrained_dict)\n",
    "    missing_keys, unexpected_keys = model.load_state_dict(temp_model_dict, strict=False)\n",
    "    print(f\"Loaded pretrained weights from {checkpoint_path}\")\n",
    "    if missing_keys:\n",
    "        print(f\"Some keys missing in checkpoint and not loaded: {missing_keys}\")\n",
    "    if unexpected_keys:\n",
    "        print(f\"Some keys in checkpoint not in model and ignored: {unexpected_keys}\")\n",
    "except FileNotFoundError:\n",
    "    print(f\"Checkpoint not found: {checkpoint_path}. Using random initialization.\")\n",
    "except Exception as e:\n",
    "    print(f\"Error loading checkpoint: {e}. Using random initialization.\")\n",
    "\n",
    "optimizer = torch.optim.Adam(model.parameters(), lr=1e-4)\n",
    "reg_criterion = nn.MSELoss()\n",
    "cls_criterion = nn.CrossEntropyLoss()\n",
    "\n",
    "num_epochs = 60\n",
    "loss_history = []\n",
    "\n",
    "for epoch in range(num_epochs):\n",
    "    print(f\"Epoch {epoch+1}/{num_epochs}\")\n",
    "    model.train()\n",
    "    total_loss, total_reg_loss, total_cls_loss = 0, 0, 0\n",
    "    for batch in tqdm(dataloader, leave=False):\n",
    "        x_img = batch[\"image\"].to(device)\n",
    "        x_light = batch[\"light\"].to(device)\n",
    "        y_reg = batch[\"regression_target\"].to(device)\n",
    "        y_cls = batch[\"class_target\"].to(device)\n",
    "        optimizer.zero_grad()\n",
    "        pred_reg, pred_cls = model(x_img, x_light)\n",
    "        loss_reg = reg_criterion(pred_reg, y_reg)\n",
    "        loss_cls = cls_criterion(pred_cls, y_cls)\n",
    "        loss = loss_reg + loss_cls\n",
    "        loss.backward()\n",
    "        optimizer.step()\n",
    "        total_loss += loss.item()\n",
    "        total_reg_loss += loss_reg.item()\n",
    "        total_cls_loss += loss_cls.item()\n",
    "    avg_total = total_loss / len(dataloader)\n",
    "    loss_history.append((avg_total, total_reg_loss / len(dataloader), total_cls_loss / len(dataloader)))\n",
    "    print(f\"Loss → Total: {avg_total:.4f}, Regression: {total_reg_loss / len(dataloader):.4f}, Classification: {total_cls_loss / len(dataloader):.4f}\")\n",
    "    model.eval()\n",
    "    y_true_reg, y_pred_reg = [], []\n",
    "    y_true_cls, y_pred_cls = [], []\n",
    "    with torch.no_grad():\n",
    "        for batch in dataloader:\n",
    "            x_img = batch[\"image\"].to(device)\n",
    "            x_light = batch[\"light\"].to(device)\n",
    "            y_reg = batch[\"regression_target\"].to(device)\n",
    "            y_cls = batch[\"class_target\"].to(device)\n",
    "            pred_reg, pred_cls = model(x_img, x_light)\n",
    "            y_true_reg.extend(y_reg.cpu().numpy())\n",
    "            y_pred_reg.extend(pred_reg.cpu().numpy())\n",
    "            y_true_cls.extend(y_cls.cpu().numpy())\n",
    "            y_pred_cls.extend(pred_cls.argmax(dim=1).cpu().numpy())\n",
    "    y_true_reg = np.array(y_true_reg) * 100\n",
    "    y_pred_reg = np.array(y_pred_reg) * 100\n",
    "    metrics = {}\n",
    "    for i, label in enumerate([\"SM_0\", \"SM_20\"]):\n",
    "        metrics[label] = {\n",
    "            \"RMSE\": mean_squared_error(y_true_reg[:, i], y_pred_reg[:, i]) ** 0.5,\n",
    "            \"MAE\": mean_absolute_error(y_true_reg[:, i], y_pred_reg[:, i]),\n",
    "            \"ME\": np.mean(y_pred_reg[:, i] - y_true_reg[:, i]),\n",
    "        }\n",
    "    metrics[\"Classification\"] = {\n",
    "        \"Accuracy\": accuracy_score(y_true_cls, y_pred_cls),\n",
    "        \"F1-score\": f1_score(y_true_cls, y_pred_cls, average=\"weighted\")\n",
    "    }\n",
    "    for label in [\"SM_0\", \"SM_20\"]:\n",
    "        print(f\"{label} → RMSE: {metrics[label]['RMSE']:.8f}, MAE: {metrics[label]['MAE']:.8f}, ME: {metrics[label]['ME']:.8f}\")\n",
    "    print(f\"Classification → Accuracy: {metrics['Classification']['Accuracy']:.8f}, F1-score: {metrics['Classification']['F1-score']:.8f}\")\n",
    "\n",
    "torch.save(model.state_dict(), r\"C:\\Users\\PC\\soilNet\\checkpoints_VicReg_tinyImagenet\\vicreg_model_final_tinyImageNet_mu_25.0.pth\")"
   ]
  }
 ],
 "metadata": {
  "kernelspec": {
   "display_name": "Python 3 (ipykernel)",
   "language": "python",
   "name": "python3"
  },
  "language_info": {
   "codemirror_mode": {
    "name": "ipython",
    "version": 3
   },
   "file_extension": ".py",
   "mimetype": "text/x-python",
   "name": "python",
   "nbconvert_exporter": "python",
   "pygments_lexer": "ipython3",
   "version": "3.10.16"
  }
 },
 "nbformat": 4,
 "nbformat_minor": 5
}
