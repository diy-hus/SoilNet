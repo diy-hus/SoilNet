{
 "cells": [
  {
   "cell_type": "code",
   "execution_count": null,
   "id": "37ffe4d9-53e0-48ad-b3ab-365e1ba12eb8",
   "metadata": {},
   "outputs": [
    {
     "name": "stdout",
     "output_type": "stream",
     "text": [
      "Using device: cuda\n",
      "PyTorch version: 2.6.0+cu118\n",
      "Total labeled images before check: 2057\n"
     ]
    },
    {
     "data": {
      "application/vnd.jupyter.widget-view+json": {
       "model_id": "e8fcf44d39d0418d91b70dd9c447c480",
       "version_major": 2,
       "version_minor": 0
      },
      "text/plain": [
       "  0%|          | 0/2057 [00:00<?, ?it/s]"
      ]
     },
     "metadata": {},
     "output_type": "display_data"
    },
    {
     "name": "stdout",
     "output_type": "stream",
     "text": [
      "Image error: F:\\Soil_Labeled_Data\\M_10_20\\L_60_70\\alluvial\\IMG_0683.JPG\n",
      "Replaced with: F:\\Soil_Labeled_Data\\augmented_fallback\\aug_IMG_0683.JPG\n",
      "Image error: F:\\Soil_Labeled_Data\\M_10_20\\L_70_80\\alluvial\\IMG_0703.JPG\n",
      "Replaced with: F:\\Soil_Labeled_Data\\augmented_fallback\\aug_IMG_0703.JPG\n",
      "Image error: F:\\Soil_Labeled_Data\\M_10_20\\L_80_90\\alluvial\\IMG_0746.JPG\n",
      "Replaced with: F:\\Soil_Labeled_Data\\augmented_fallback\\aug_IMG_0746.JPG\n",
      "Image error: F:\\Soil_Labeled_Data\\M_10_20\\L_80_90\\alluvial\\IMG_0753.JPG\n",
      "Replaced with: F:\\Soil_Labeled_Data\\augmented_fallback\\aug_IMG_0753.JPG\n",
      "Image error: F:\\Soil_Labeled_Data\\M_10_20\\L_80_90\\alluvial\\IMG_0755.JPG\n",
      "Replaced with: F:\\Soil_Labeled_Data\\augmented_fallback\\aug_IMG_0755.JPG\n",
      "Replaced 5 invalid images with augmented versions.\n",
      "Loaded pretrained weights from C:\\Users\\PC\\soilNet\\checkpoints_VicReg\\vicreg_model_final_mu_20.0.pth\n",
      "Epoch 1/100\n"
     ]
    },
    {
     "data": {
      "application/vnd.jupyter.widget-view+json": {
       "model_id": "fc0ae28515564f0e99b49b40514e059e",
       "version_major": 2,
       "version_minor": 0
      },
      "text/plain": [
       "  0%|          | 0/33 [00:00<?, ?it/s]"
      ]
     },
     "metadata": {},
     "output_type": "display_data"
    },
    {
     "name": "stdout",
     "output_type": "stream",
     "text": [
      "Loss → Total: 2.2399, Regression: 0.0658, Classification: 2.1741\n",
      "SM_0 → RMSE: 20.27287827, MAE: 16.19683838, ME: -1.72827423\n",
      "SM_20 → RMSE: 20.10722751, MAE: 16.01922607, ME: -1.40610075\n",
      "Classification → Accuracy: 0.29606223, F1-score: 0.26257520\n",
      "Epoch 2/100\n"
     ]
    },
    {
     "data": {
      "application/vnd.jupyter.widget-view+json": {
       "model_id": "9259df6e33564e649f1916147f4da6e8",
       "version_major": 2,
       "version_minor": 0
      },
      "text/plain": [
       "  0%|          | 0/33 [00:00<?, ?it/s]"
      ]
     },
     "metadata": {},
     "output_type": "display_data"
    },
    {
     "name": "stdout",
     "output_type": "stream",
     "text": [
      "Loss → Total: 1.9240, Regression: 0.0408, Classification: 1.8832\n",
      "SM_0 → RMSE: 16.94884198, MAE: 13.23304653, ME: -2.90661502\n",
      "SM_20 → RMSE: 16.70338718, MAE: 13.09748554, ME: -2.11982846\n",
      "Classification → Accuracy: 0.35634419, F1-score: 0.33496300\n",
      "Epoch 3/100\n"
     ]
    },
    {
     "data": {
      "application/vnd.jupyter.widget-view+json": {
       "model_id": "3d24d64790f74c87bf13f143527ed84a",
       "version_major": 2,
       "version_minor": 0
      },
      "text/plain": [
       "  0%|          | 0/33 [00:00<?, ?it/s]"
      ]
     },
     "metadata": {},
     "output_type": "display_data"
    },
    {
     "name": "stdout",
     "output_type": "stream",
     "text": [
      "Loss → Total: 1.7391, Regression: 0.0329, Classification: 1.7062\n",
      "SM_0 → RMSE: 15.11560826, MAE: 11.79511738, ME: 0.96338522\n",
      "SM_20 → RMSE: 15.12509786, MAE: 11.87661171, ME: 1.91955233\n",
      "Classification → Accuracy: 0.40252795, F1-score: 0.37987791\n",
      "Epoch 4/100\n"
     ]
    },
    {
     "data": {
      "application/vnd.jupyter.widget-view+json": {
       "model_id": "32b88ef5f266404ca9463ebe0e0da3e9",
       "version_major": 2,
       "version_minor": 0
      },
      "text/plain": [
       "  0%|          | 0/33 [00:00<?, ?it/s]"
      ]
     },
     "metadata": {},
     "output_type": "display_data"
    },
    {
     "name": "stdout",
     "output_type": "stream",
     "text": [
      "Loss → Total: 1.6077, Regression: 0.0278, Classification: 1.5799\n",
      "SM_0 → RMSE: 13.59370229, MAE: 10.68201733, ME: 0.76685852\n",
      "SM_20 → RMSE: 13.34157428, MAE: 10.39816380, ME: -1.27245975\n",
      "Classification → Accuracy: 0.46037919, F1-score: 0.44689560\n",
      "Epoch 5/100\n"
     ]
    },
    {
     "data": {
      "application/vnd.jupyter.widget-view+json": {
       "model_id": "5537c9cfa76b408d80bf57f24d069f35",
       "version_major": 2,
       "version_minor": 0
      },
      "text/plain": [
       "  0%|          | 0/33 [00:00<?, ?it/s]"
      ]
     },
     "metadata": {},
     "output_type": "display_data"
    },
    {
     "name": "stdout",
     "output_type": "stream",
     "text": [
      "Loss → Total: 1.5041, Regression: 0.0260, Classification: 1.4781\n",
      "SM_0 → RMSE: 12.31773985, MAE: 9.72572899, ME: 0.39589721\n",
      "SM_20 → RMSE: 12.16968412, MAE: 9.52279568, ME: 0.03903851\n",
      "Classification → Accuracy: 0.49538162, F1-score: 0.48708214\n",
      "Epoch 6/100\n"
     ]
    },
    {
     "data": {
      "application/vnd.jupyter.widget-view+json": {
       "model_id": "a55dfa00fad5436db29d1ddec4e2088f",
       "version_major": 2,
       "version_minor": 0
      },
      "text/plain": [
       "  0%|          | 0/33 [00:00<?, ?it/s]"
      ]
     },
     "metadata": {},
     "output_type": "display_data"
    },
    {
     "name": "stdout",
     "output_type": "stream",
     "text": [
      "Loss → Total: 1.4147, Regression: 0.0221, Classification: 1.3927\n",
      "SM_0 → RMSE: 11.69493413, MAE: 9.16103935, ME: -0.12385064\n",
      "SM_20 → RMSE: 12.28231908, MAE: 9.59141636, ME: -1.01248407\n",
      "Classification → Accuracy: 0.54594069, F1-score: 0.53637793\n",
      "Epoch 7/100\n"
     ]
    },
    {
     "data": {
      "application/vnd.jupyter.widget-view+json": {
       "model_id": "f7392f4899ef4c879bbc9ea9b79a12a2",
       "version_major": 2,
       "version_minor": 0
      },
      "text/plain": [
       "  0%|          | 0/33 [00:00<?, ?it/s]"
      ]
     },
     "metadata": {},
     "output_type": "display_data"
    },
    {
     "name": "stdout",
     "output_type": "stream",
     "text": [
      "Loss → Total: 1.3236, Regression: 0.0183, Classification: 1.3054\n",
      "SM_0 → RMSE: 11.12778567, MAE: 8.58342361, ME: 2.06271219\n",
      "SM_20 → RMSE: 11.77355997, MAE: 9.25255013, ME: 1.71919656\n",
      "Classification → Accuracy: 0.58677686, F1-score: 0.57869267\n",
      "Epoch 8/100\n"
     ]
    },
    {
     "data": {
      "application/vnd.jupyter.widget-view+json": {
       "model_id": "7203eff024884be1a93fbe3980959770",
       "version_major": 2,
       "version_minor": 0
      },
      "text/plain": [
       "  0%|          | 0/33 [00:00<?, ?it/s]"
      ]
     },
     "metadata": {},
     "output_type": "display_data"
    },
    {
     "name": "stdout",
     "output_type": "stream",
     "text": [
      "Loss → Total: 1.2334, Regression: 0.0177, Classification: 1.2157\n",
      "SM_0 → RMSE: 11.23892447, MAE: 8.85608292, ME: -1.02706516\n",
      "SM_20 → RMSE: 10.81256456, MAE: 8.40896606, ME: -0.45233774\n",
      "Classification → Accuracy: 0.60913952, F1-score: 0.60294851\n",
      "Epoch 9/100\n"
     ]
    },
    {
     "data": {
      "application/vnd.jupyter.widget-view+json": {
       "model_id": "58ab8a3845d948c190ba9cfa9bb9de90",
       "version_major": 2,
       "version_minor": 0
      },
      "text/plain": [
       "  0%|          | 0/33 [00:00<?, ?it/s]"
      ]
     },
     "metadata": {},
     "output_type": "display_data"
    },
    {
     "name": "stdout",
     "output_type": "stream",
     "text": [
      "Loss → Total: 1.1631, Regression: 0.0165, Classification: 1.1465\n",
      "SM_0 → RMSE: 10.00808503, MAE: 7.87339926, ME: -0.08954941\n",
      "SM_20 → RMSE: 10.35842122, MAE: 8.16670799, ME: 0.98706335\n",
      "Classification → Accuracy: 0.66699076, F1-score: 0.65913794\n",
      "Epoch 10/100\n"
     ]
    },
    {
     "data": {
      "application/vnd.jupyter.widget-view+json": {
       "model_id": "9251277201c74bf1929e6cc0e2fd9b41",
       "version_major": 2,
       "version_minor": 0
      },
      "text/plain": [
       "  0%|          | 0/33 [00:00<?, ?it/s]"
      ]
     },
     "metadata": {},
     "output_type": "display_data"
    },
    {
     "name": "stdout",
     "output_type": "stream",
     "text": [
      "Loss → Total: 1.0890, Regression: 0.0152, Classification: 1.0738\n",
      "SM_0 → RMSE: 10.63275761, MAE: 8.26819611, ME: -0.89723575\n",
      "SM_20 → RMSE: 11.27078159, MAE: 8.78280735, ME: -0.44470462\n",
      "Classification → Accuracy: 0.66699076, F1-score: 0.66324929\n",
      "Epoch 11/100\n"
     ]
    },
    {
     "data": {
      "application/vnd.jupyter.widget-view+json": {
       "model_id": "fa379c1787c14ee2bf62526b88731ee3",
       "version_major": 2,
       "version_minor": 0
      },
      "text/plain": [
       "  0%|          | 0/33 [00:00<?, ?it/s]"
      ]
     },
     "metadata": {},
     "output_type": "display_data"
    },
    {
     "name": "stdout",
     "output_type": "stream",
     "text": [
      "Loss → Total: 1.0562, Regression: 0.0150, Classification: 1.0412\n",
      "SM_0 → RMSE: 9.31181712, MAE: 7.33094978, ME: 1.09731102\n",
      "SM_20 → RMSE: 9.20424823, MAE: 7.28559351, ME: 0.33849573\n",
      "Classification → Accuracy: 0.67622752, F1-score: 0.67350286\n",
      "Epoch 12/100\n"
     ]
    },
    {
     "data": {
      "application/vnd.jupyter.widget-view+json": {
       "model_id": "4613aab4312645f09ba37c12c6da521d",
       "version_major": 2,
       "version_minor": 0
      },
      "text/plain": [
       "  0%|          | 0/33 [00:00<?, ?it/s]"
      ]
     },
     "metadata": {},
     "output_type": "display_data"
    },
    {
     "name": "stdout",
     "output_type": "stream",
     "text": [
      "Loss → Total: 0.9725, Regression: 0.0132, Classification: 0.9594\n",
      "SM_0 → RMSE: 9.39239962, MAE: 7.35135746, ME: -0.13598511\n",
      "SM_20 → RMSE: 9.27959800, MAE: 7.31853771, ME: 0.39822245\n",
      "Classification → Accuracy: 0.72435586, F1-score: 0.72039635\n",
      "Epoch 13/100\n"
     ]
    },
    {
     "data": {
      "application/vnd.jupyter.widget-view+json": {
       "model_id": "5f2e55f13bad484d8e0a85435106a1fa",
       "version_major": 2,
       "version_minor": 0
      },
      "text/plain": [
       "  0%|          | 0/33 [00:00<?, ?it/s]"
      ]
     },
     "metadata": {},
     "output_type": "display_data"
    },
    {
     "name": "stdout",
     "output_type": "stream",
     "text": [
      "Loss → Total: 0.8841, Regression: 0.0126, Classification: 0.8715\n",
      "SM_0 → RMSE: 9.99770596, MAE: 7.99890804, ME: -0.73039466\n",
      "SM_20 → RMSE: 9.78439173, MAE: 7.71396732, ME: 1.43578565\n",
      "Classification → Accuracy: 0.74817696, F1-score: 0.74088436\n",
      "Epoch 14/100\n"
     ]
    },
    {
     "data": {
      "application/vnd.jupyter.widget-view+json": {
       "model_id": "e9362bb00725499ea0918e7af45f6e61",
       "version_major": 2,
       "version_minor": 0
      },
      "text/plain": [
       "  0%|          | 0/33 [00:00<?, ?it/s]"
      ]
     },
     "metadata": {},
     "output_type": "display_data"
    },
    {
     "name": "stdout",
     "output_type": "stream",
     "text": [
      "Loss → Total: 0.9320, Regression: 0.0132, Classification: 0.9188\n",
      "SM_0 → RMSE: 8.81951538, MAE: 6.89506245, ME: 1.08815396\n",
      "SM_20 → RMSE: 8.60982738, MAE: 6.70706320, ME: 0.45771512\n",
      "Classification → Accuracy: 0.74428780, F1-score: 0.73936781\n",
      "Epoch 15/100\n"
     ]
    },
    {
     "data": {
      "application/vnd.jupyter.widget-view+json": {
       "model_id": "b6a3ea5f4f424e5dafe12e91eafeb1cb",
       "version_major": 2,
       "version_minor": 0
      },
      "text/plain": [
       "  0%|          | 0/33 [00:00<?, ?it/s]"
      ]
     },
     "metadata": {},
     "output_type": "display_data"
    },
    {
     "name": "stdout",
     "output_type": "stream",
     "text": [
      "Loss → Total: 0.8189, Regression: 0.0110, Classification: 0.8079\n",
      "SM_0 → RMSE: 8.32156085, MAE: 6.57790661, ME: -0.22356978\n",
      "SM_20 → RMSE: 8.20547585, MAE: 6.40610838, ME: 0.27164212\n",
      "Classification → Accuracy: 0.78415168, F1-score: 0.78047277\n",
      "Epoch 16/100\n"
     ]
    },
    {
     "data": {
      "application/vnd.jupyter.widget-view+json": {
       "model_id": "f9ee82d10359404c8f1fe2a2430abdfb",
       "version_major": 2,
       "version_minor": 0
      },
      "text/plain": [
       "  0%|          | 0/33 [00:00<?, ?it/s]"
      ]
     },
     "metadata": {},
     "output_type": "display_data"
    },
    {
     "name": "stdout",
     "output_type": "stream",
     "text": [
      "Loss → Total: 0.8113, Regression: 0.0110, Classification: 0.8003\n",
      "SM_0 → RMSE: 9.16817679, MAE: 7.19468784, ME: -1.67509460\n",
      "SM_20 → RMSE: 8.91816765, MAE: 6.98570490, ME: -0.66482198\n",
      "Classification → Accuracy: 0.81186193, F1-score: 0.81006923\n",
      "Epoch 17/100\n"
     ]
    },
    {
     "data": {
      "application/vnd.jupyter.widget-view+json": {
       "model_id": "3489746d6adb495d96e52b552ef42664",
       "version_major": 2,
       "version_minor": 0
      },
      "text/plain": [
       "  0%|          | 0/33 [00:00<?, ?it/s]"
      ]
     },
     "metadata": {},
     "output_type": "display_data"
    },
    {
     "name": "stdout",
     "output_type": "stream",
     "text": [
      "Loss → Total: 0.7748, Regression: 0.0117, Classification: 0.7631\n",
      "SM_0 → RMSE: 8.70203265, MAE: 6.82575703, ME: 1.28433824\n",
      "SM_20 → RMSE: 8.44236062, MAE: 6.53156805, ME: 1.29837668\n",
      "Classification → Accuracy: 0.83471074, F1-score: 0.83404349\n",
      "Epoch 18/100\n"
     ]
    },
    {
     "data": {
      "application/vnd.jupyter.widget-view+json": {
       "model_id": "9c2ee6c2fbe04c96b60e27532823aec8",
       "version_major": 2,
       "version_minor": 0
      },
      "text/plain": [
       "  0%|          | 0/33 [00:00<?, ?it/s]"
      ]
     },
     "metadata": {},
     "output_type": "display_data"
    },
    {
     "name": "stdout",
     "output_type": "stream",
     "text": [
      "Loss → Total: 0.7326, Regression: 0.0109, Classification: 0.7217\n",
      "SM_0 → RMSE: 8.45436547, MAE: 6.58475447, ME: 1.31694555\n",
      "SM_20 → RMSE: 8.09300246, MAE: 6.29607487, ME: 1.01564038\n",
      "Classification → Accuracy: 0.76470588, F1-score: 0.76238952\n",
      "Epoch 19/100\n"
     ]
    },
    {
     "data": {
      "application/vnd.jupyter.widget-view+json": {
       "model_id": "87819157d5014dda9a80f0121e57a6d0",
       "version_major": 2,
       "version_minor": 0
      },
      "text/plain": [
       "  0%|          | 0/33 [00:00<?, ?it/s]"
      ]
     },
     "metadata": {},
     "output_type": "display_data"
    },
    {
     "name": "stdout",
     "output_type": "stream",
     "text": [
      "Loss → Total: 0.7495, Regression: 0.0116, Classification: 0.7379\n",
      "SM_0 → RMSE: 8.13929360, MAE: 6.30576420, ME: -1.24107134\n",
      "SM_20 → RMSE: 8.18979572, MAE: 6.43269110, ME: 0.23617889\n",
      "Classification → Accuracy: 0.83665532, F1-score: 0.83526720\n",
      "Epoch 20/100\n"
     ]
    },
    {
     "data": {
      "application/vnd.jupyter.widget-view+json": {
       "model_id": "d3beea05d1364cc584e8e5b84b11e21a",
       "version_major": 2,
       "version_minor": 0
      },
      "text/plain": [
       "  0%|          | 0/33 [00:00<?, ?it/s]"
      ]
     },
     "metadata": {},
     "output_type": "display_data"
    },
    {
     "name": "stdout",
     "output_type": "stream",
     "text": [
      "Loss → Total: 0.7030, Regression: 0.0111, Classification: 0.6919\n",
      "SM_0 → RMSE: 7.84444008, MAE: 6.10031176, ME: -1.99316621\n",
      "SM_20 → RMSE: 7.61803631, MAE: 5.90526199, ME: 0.32731006\n",
      "Classification → Accuracy: 0.86242100, F1-score: 0.86128801\n",
      "Epoch 21/100\n"
     ]
    },
    {
     "data": {
      "application/vnd.jupyter.widget-view+json": {
       "model_id": "a47d11677e4345c98ebbecf9096b0c15",
       "version_major": 2,
       "version_minor": 0
      },
      "text/plain": [
       "  0%|          | 0/33 [00:00<?, ?it/s]"
      ]
     },
     "metadata": {},
     "output_type": "display_data"
    },
    {
     "name": "stdout",
     "output_type": "stream",
     "text": [
      "Loss → Total: 0.7361, Regression: 0.0116, Classification: 0.7246\n",
      "SM_0 → RMSE: 8.14924315, MAE: 6.34086084, ME: -0.61806285\n",
      "SM_20 → RMSE: 9.06980107, MAE: 7.23932695, ME: -1.11887586\n",
      "Classification → Accuracy: 0.86387944, F1-score: 0.86411348\n",
      "Epoch 22/100\n"
     ]
    },
    {
     "data": {
      "application/vnd.jupyter.widget-view+json": {
       "model_id": "c83bba6981ce47d7a199d05650ce5ce4",
       "version_major": 2,
       "version_minor": 0
      },
      "text/plain": [
       "  0%|          | 0/33 [00:00<?, ?it/s]"
      ]
     },
     "metadata": {},
     "output_type": "display_data"
    },
    {
     "name": "stdout",
     "output_type": "stream",
     "text": [
      "Loss → Total: 0.6416, Regression: 0.0105, Classification: 0.6312\n",
      "SM_0 → RMSE: 7.55282201, MAE: 5.87265444, ME: -0.24386258\n",
      "SM_20 → RMSE: 7.59182501, MAE: 5.95057201, ME: 0.72533882\n",
      "Classification → Accuracy: 0.87019932, F1-score: 0.86949579\n",
      "Epoch 23/100\n"
     ]
    },
    {
     "data": {
      "application/vnd.jupyter.widget-view+json": {
       "model_id": "deb396d518404f2a906ca112a2a628b7",
       "version_major": 2,
       "version_minor": 0
      },
      "text/plain": [
       "  0%|          | 0/33 [00:00<?, ?it/s]"
      ]
     },
     "metadata": {},
     "output_type": "display_data"
    },
    {
     "name": "stdout",
     "output_type": "stream",
     "text": [
      "Loss → Total: 0.5465, Regression: 0.0097, Classification: 0.5367\n",
      "SM_0 → RMSE: 7.82760698, MAE: 6.07476950, ME: -0.49409130\n",
      "SM_20 → RMSE: 7.75236032, MAE: 6.13006449, ME: -0.39677390\n",
      "Classification → Accuracy: 0.86290715, F1-score: 0.86118528\n",
      "Epoch 24/100\n"
     ]
    },
    {
     "data": {
      "application/vnd.jupyter.widget-view+json": {
       "model_id": "08561361db274d2796b16c4478043c64",
       "version_major": 2,
       "version_minor": 0
      },
      "text/plain": [
       "  0%|          | 0/33 [00:00<?, ?it/s]"
      ]
     },
     "metadata": {},
     "output_type": "display_data"
    },
    {
     "name": "stdout",
     "output_type": "stream",
     "text": [
      "Loss → Total: 0.5676, Regression: 0.0095, Classification: 0.5581\n",
      "SM_0 → RMSE: 7.04374135, MAE: 5.46703815, ME: 0.13998662\n",
      "SM_20 → RMSE: 7.29085683, MAE: 5.62250280, ME: -0.58742338\n",
      "Classification → Accuracy: 0.87749149, F1-score: 0.87784617\n",
      "Epoch 25/100\n"
     ]
    },
    {
     "data": {
      "application/vnd.jupyter.widget-view+json": {
       "model_id": "55f27b40ddb84538b56a3b0709b129a2",
       "version_major": 2,
       "version_minor": 0
      },
      "text/plain": [
       "  0%|          | 0/33 [00:00<?, ?it/s]"
      ]
     },
     "metadata": {},
     "output_type": "display_data"
    },
    {
     "name": "stdout",
     "output_type": "stream",
     "text": [
      "Loss → Total: 0.5268, Regression: 0.0086, Classification: 0.5181\n",
      "SM_0 → RMSE: 6.89562281, MAE: 5.35845137, ME: -0.04341128\n",
      "SM_20 → RMSE: 7.05035842, MAE: 5.52148628, ME: -0.44549581\n",
      "Classification → Accuracy: 0.89013126, F1-score: 0.88823641\n",
      "Epoch 26/100\n"
     ]
    },
    {
     "data": {
      "application/vnd.jupyter.widget-view+json": {
       "model_id": "21ce68b7977043baa301bef57eb21e23",
       "version_major": 2,
       "version_minor": 0
      },
      "text/plain": [
       "  0%|          | 0/33 [00:00<?, ?it/s]"
      ]
     },
     "metadata": {},
     "output_type": "display_data"
    },
    {
     "name": "stdout",
     "output_type": "stream",
     "text": [
      "Loss → Total: 0.5689, Regression: 0.0088, Classification: 0.5600\n",
      "SM_0 → RMSE: 7.16095323, MAE: 5.59016371, ME: -0.21434656\n",
      "SM_20 → RMSE: 6.92376201, MAE: 5.41844702, ME: 0.50299656\n",
      "Classification → Accuracy: 0.89207584, F1-score: 0.89104801\n",
      "Epoch 27/100\n"
     ]
    },
    {
     "data": {
      "application/vnd.jupyter.widget-view+json": {
       "model_id": "fe1d24b7d6d04e5c88de592206bfb7e8",
       "version_major": 2,
       "version_minor": 0
      },
      "text/plain": [
       "  0%|          | 0/33 [00:00<?, ?it/s]"
      ]
     },
     "metadata": {},
     "output_type": "display_data"
    },
    {
     "name": "stdout",
     "output_type": "stream",
     "text": [
      "Loss → Total: 0.5431, Regression: 0.0089, Classification: 0.5342\n",
      "SM_0 → RMSE: 7.68408673, MAE: 6.02398920, ME: -0.44310543\n",
      "SM_20 → RMSE: 7.30690401, MAE: 5.67691946, ME: -0.75017327\n",
      "Classification → Accuracy: 0.89353427, F1-score: 0.89259989\n",
      "Epoch 28/100\n"
     ]
    },
    {
     "data": {
      "application/vnd.jupyter.widget-view+json": {
       "model_id": "d29f89314516469e84f2a33ff064a24c",
       "version_major": 2,
       "version_minor": 0
      },
      "text/plain": [
       "  0%|          | 0/33 [00:00<?, ?it/s]"
      ]
     },
     "metadata": {},
     "output_type": "display_data"
    },
    {
     "name": "stdout",
     "output_type": "stream",
     "text": [
      "Loss → Total: 0.5841, Regression: 0.0099, Classification: 0.5743\n",
      "SM_0 → RMSE: 7.40672333, MAE: 5.80516243, ME: 0.52389097\n",
      "SM_20 → RMSE: 7.91870680, MAE: 6.29988003, ME: 0.24943665\n",
      "Classification → Accuracy: 0.89207584, F1-score: 0.89151588\n",
      "Epoch 29/100\n"
     ]
    },
    {
     "data": {
      "application/vnd.jupyter.widget-view+json": {
       "model_id": "29705151111a4da9ae2c97c2b0823313",
       "version_major": 2,
       "version_minor": 0
      },
      "text/plain": [
       "  0%|          | 0/33 [00:00<?, ?it/s]"
      ]
     },
     "metadata": {},
     "output_type": "display_data"
    },
    {
     "name": "stdout",
     "output_type": "stream",
     "text": [
      "Loss → Total: 0.5117, Regression: 0.0099, Classification: 0.5018\n",
      "SM_0 → RMSE: 8.35203889, MAE: 6.35764647, ME: 0.95455933\n",
      "SM_20 → RMSE: 9.29353439, MAE: 7.16864824, ME: 1.80335724\n",
      "Classification → Accuracy: 0.88332523, F1-score: 0.88313452\n",
      "Epoch 30/100\n"
     ]
    },
    {
     "data": {
      "application/vnd.jupyter.widget-view+json": {
       "model_id": "8889ee8d15134edbb54b31522a287e88",
       "version_major": 2,
       "version_minor": 0
      },
      "text/plain": [
       "  0%|          | 0/33 [00:00<?, ?it/s]"
      ]
     },
     "metadata": {},
     "output_type": "display_data"
    },
    {
     "name": "stdout",
     "output_type": "stream",
     "text": [
      "Loss → Total: 0.5072, Regression: 0.0087, Classification: 0.4986\n",
      "SM_0 → RMSE: 7.35729614, MAE: 5.70233917, ME: 1.51374090\n",
      "SM_20 → RMSE: 7.22827893, MAE: 5.65572214, ME: 1.69693208\n",
      "Classification → Accuracy: 0.90617404, F1-score: 0.90546066\n",
      "Epoch 31/100\n"
     ]
    },
    {
     "data": {
      "application/vnd.jupyter.widget-view+json": {
       "model_id": "f2e81c4ba1eb4600a5aafb19af17167b",
       "version_major": 2,
       "version_minor": 0
      },
      "text/plain": [
       "  0%|          | 0/33 [00:00<?, ?it/s]"
      ]
     },
     "metadata": {},
     "output_type": "display_data"
    },
    {
     "name": "stdout",
     "output_type": "stream",
     "text": [
      "Loss → Total: 0.5241, Regression: 0.0088, Classification: 0.5152\n",
      "SM_0 → RMSE: 8.10108221, MAE: 6.41173983, ME: 2.19554758\n",
      "SM_20 → RMSE: 7.07907536, MAE: 5.45223618, ME: 0.73742718\n",
      "Classification → Accuracy: 0.90909091, F1-score: 0.90911667\n",
      "Epoch 32/100\n"
     ]
    },
    {
     "data": {
      "application/vnd.jupyter.widget-view+json": {
       "model_id": "fbba1155e12e4c4ba7701f7a5919e823",
       "version_major": 2,
       "version_minor": 0
      },
      "text/plain": [
       "  0%|          | 0/33 [00:00<?, ?it/s]"
      ]
     },
     "metadata": {},
     "output_type": "display_data"
    },
    {
     "name": "stdout",
     "output_type": "stream",
     "text": [
      "Loss → Total: 0.4919, Regression: 0.0085, Classification: 0.4834\n",
      "SM_0 → RMSE: 7.35769433, MAE: 5.74889755, ME: -0.37161341\n",
      "SM_20 → RMSE: 7.45686602, MAE: 5.80983591, ME: -0.40766251\n",
      "Classification → Accuracy: 0.91492465, F1-score: 0.91491093\n",
      "Epoch 33/100\n"
     ]
    },
    {
     "data": {
      "application/vnd.jupyter.widget-view+json": {
       "model_id": "1f1a3ca8cc494d06badb819e637a6e58",
       "version_major": 2,
       "version_minor": 0
      },
      "text/plain": [
       "  0%|          | 0/33 [00:00<?, ?it/s]"
      ]
     },
     "metadata": {},
     "output_type": "display_data"
    },
    {
     "name": "stdout",
     "output_type": "stream",
     "text": [
      "Loss → Total: 0.4867, Regression: 0.0080, Classification: 0.4787\n",
      "SM_0 → RMSE: 6.84513555, MAE: 5.42952251, ME: 0.57424122\n",
      "SM_20 → RMSE: 7.11002261, MAE: 5.62693596, ME: 0.90138644\n",
      "Classification → Accuracy: 0.92075839, F1-score: 0.92088392\n",
      "Epoch 34/100\n"
     ]
    },
    {
     "data": {
      "application/vnd.jupyter.widget-view+json": {
       "model_id": "310ebed9bb494eaeb1ab0fb413377813",
       "version_major": 2,
       "version_minor": 0
      },
      "text/plain": [
       "  0%|          | 0/33 [00:00<?, ?it/s]"
      ]
     },
     "metadata": {},
     "output_type": "display_data"
    },
    {
     "name": "stdout",
     "output_type": "stream",
     "text": [
      "Loss → Total: 0.4933, Regression: 0.0083, Classification: 0.4849\n",
      "SM_0 → RMSE: 7.89812670, MAE: 6.30133200, ME: 1.57822442\n",
      "SM_20 → RMSE: 7.60197299, MAE: 6.06503153, ME: 1.95171559\n",
      "Classification → Accuracy: 0.92075839, F1-score: 0.92065089\n",
      "Epoch 35/100\n"
     ]
    },
    {
     "data": {
      "application/vnd.jupyter.widget-view+json": {
       "model_id": "c1352504b03a4fa78e9967008e13ac98",
       "version_major": 2,
       "version_minor": 0
      },
      "text/plain": [
       "  0%|          | 0/33 [00:00<?, ?it/s]"
      ]
     },
     "metadata": {},
     "output_type": "display_data"
    },
    {
     "name": "stdout",
     "output_type": "stream",
     "text": [
      "Loss → Total: 0.5192, Regression: 0.0085, Classification: 0.5107\n",
      "SM_0 → RMSE: 7.29977902, MAE: 5.76231575, ME: -1.39232302\n",
      "SM_20 → RMSE: 7.60128448, MAE: 5.98734903, ME: -1.98344660\n",
      "Classification → Accuracy: 0.92367526, F1-score: 0.92381291\n",
      "Epoch 36/100\n"
     ]
    },
    {
     "data": {
      "application/vnd.jupyter.widget-view+json": {
       "model_id": "899ef6cc5ba4466886def7621d084152",
       "version_major": 2,
       "version_minor": 0
      },
      "text/plain": [
       "  0%|          | 0/33 [00:00<?, ?it/s]"
      ]
     },
     "metadata": {},
     "output_type": "display_data"
    },
    {
     "name": "stdout",
     "output_type": "stream",
     "text": [
      "Loss → Total: 0.5274, Regression: 0.0114, Classification: 0.5161\n",
      "SM_0 → RMSE: 7.14347452, MAE: 5.58093548, ME: 1.51850295\n",
      "SM_20 → RMSE: 7.00793824, MAE: 5.43171978, ME: 0.48704374\n",
      "Classification → Accuracy: 0.91200778, F1-score: 0.91156964\n",
      "Epoch 37/100\n"
     ]
    },
    {
     "data": {
      "application/vnd.jupyter.widget-view+json": {
       "model_id": "46761ba5af6a492d813ba9be11993d05",
       "version_major": 2,
       "version_minor": 0
      },
      "text/plain": [
       "  0%|          | 0/33 [00:00<?, ?it/s]"
      ]
     },
     "metadata": {},
     "output_type": "display_data"
    },
    {
     "name": "stdout",
     "output_type": "stream",
     "text": [
      "Loss → Total: 0.4773, Regression: 0.0101, Classification: 0.4671\n",
      "SM_0 → RMSE: 7.00788272, MAE: 5.42035484, ME: 0.62619585\n",
      "SM_20 → RMSE: 7.39447063, MAE: 5.74664259, ME: 0.90080780\n",
      "Classification → Accuracy: 0.92416140, F1-score: 0.92393604\n",
      "Epoch 38/100\n"
     ]
    },
    {
     "data": {
      "application/vnd.jupyter.widget-view+json": {
       "model_id": "5b7515d4f0b940c7affbc37c5d2c9725",
       "version_major": 2,
       "version_minor": 0
      },
      "text/plain": [
       "  0%|          | 0/33 [00:00<?, ?it/s]"
      ]
     },
     "metadata": {},
     "output_type": "display_data"
    },
    {
     "name": "stdout",
     "output_type": "stream",
     "text": [
      "Loss → Total: 0.4675, Regression: 0.0085, Classification: 0.4590\n",
      "SM_0 → RMSE: 6.66982408, MAE: 5.12682676, ME: 1.08549619\n",
      "SM_20 → RMSE: 6.98268165, MAE: 5.36054659, ME: 1.22610497\n",
      "Classification → Accuracy: 0.93485659, F1-score: 0.93490907\n",
      "Epoch 39/100\n"
     ]
    },
    {
     "data": {
      "application/vnd.jupyter.widget-view+json": {
       "model_id": "41ad98f910604dd4bd204379a0a0023d",
       "version_major": 2,
       "version_minor": 0
      },
      "text/plain": [
       "  0%|          | 0/33 [00:00<?, ?it/s]"
      ]
     },
     "metadata": {},
     "output_type": "display_data"
    },
    {
     "name": "stdout",
     "output_type": "stream",
     "text": [
      "Loss → Total: 0.4574, Regression: 0.0077, Classification: 0.4497\n",
      "SM_0 → RMSE: 6.90993101, MAE: 5.41532040, ME: -0.24581872\n",
      "SM_20 → RMSE: 6.95299964, MAE: 5.39939976, ME: 0.95998830\n",
      "Classification → Accuracy: 0.92756441, F1-score: 0.92736965\n",
      "Epoch 40/100\n"
     ]
    },
    {
     "data": {
      "application/vnd.jupyter.widget-view+json": {
       "model_id": "bbf6afdad30446b89744983bd289637e",
       "version_major": 2,
       "version_minor": 0
      },
      "text/plain": [
       "  0%|          | 0/33 [00:00<?, ?it/s]"
      ]
     },
     "metadata": {},
     "output_type": "display_data"
    },
    {
     "name": "stdout",
     "output_type": "stream",
     "text": [
      "Loss → Total: 0.4159, Regression: 0.0072, Classification: 0.4086\n",
      "SM_0 → RMSE: 6.54105003, MAE: 5.00166893, ME: -0.94704545\n",
      "SM_20 → RMSE: 6.77988065, MAE: 5.26987696, ME: -1.35032654\n",
      "Classification → Accuracy: 0.92173068, F1-score: 0.92182545\n",
      "Epoch 41/100\n"
     ]
    },
    {
     "data": {
      "application/vnd.jupyter.widget-view+json": {
       "model_id": "7aade305bd994f3d9ae48a4e762f03e4",
       "version_major": 2,
       "version_minor": 0
      },
      "text/plain": [
       "  0%|          | 0/33 [00:00<?, ?it/s]"
      ]
     },
     "metadata": {},
     "output_type": "display_data"
    },
    {
     "name": "stdout",
     "output_type": "stream",
     "text": [
      "Loss → Total: 0.3966, Regression: 0.0073, Classification: 0.3893\n",
      "SM_0 → RMSE: 7.85156760, MAE: 5.95684385, ME: 0.31041449\n",
      "SM_20 → RMSE: 7.58145918, MAE: 5.75346899, ME: 0.59364665\n",
      "Classification → Accuracy: 0.90666018, F1-score: 0.90629001\n",
      "Epoch 42/100\n"
     ]
    },
    {
     "data": {
      "application/vnd.jupyter.widget-view+json": {
       "model_id": "5efb0d91c41e48ad8860f7b2e3a98771",
       "version_major": 2,
       "version_minor": 0
      },
      "text/plain": [
       "  0%|          | 0/33 [00:00<?, ?it/s]"
      ]
     },
     "metadata": {},
     "output_type": "display_data"
    },
    {
     "name": "stdout",
     "output_type": "stream",
     "text": [
      "Loss → Total: 0.4307, Regression: 0.0082, Classification: 0.4225\n",
      "SM_0 → RMSE: 6.51022327, MAE: 5.04981947, ME: -0.76778817\n",
      "SM_20 → RMSE: 7.24171738, MAE: 5.62829971, ME: 0.03887791\n",
      "Classification → Accuracy: 0.93923189, F1-score: 0.93897755\n",
      "Epoch 43/100\n"
     ]
    },
    {
     "data": {
      "application/vnd.jupyter.widget-view+json": {
       "model_id": "7de334bdc8be4936b5182101cbae7d85",
       "version_major": 2,
       "version_minor": 0
      },
      "text/plain": [
       "  0%|          | 0/33 [00:00<?, ?it/s]"
      ]
     },
     "metadata": {},
     "output_type": "display_data"
    },
    {
     "name": "stdout",
     "output_type": "stream",
     "text": [
      "Loss → Total: 0.3967, Regression: 0.0079, Classification: 0.3888\n",
      "SM_0 → RMSE: 6.52451923, MAE: 5.03714752, ME: 0.86536348\n",
      "SM_20 → RMSE: 6.40040642, MAE: 4.90263987, ME: 0.90562224\n",
      "Classification → Accuracy: 0.93874575, F1-score: 0.93848066\n",
      "Epoch 44/100\n"
     ]
    },
    {
     "data": {
      "application/vnd.jupyter.widget-view+json": {
       "model_id": "379335970884448da31501acbf751fa8",
       "version_major": 2,
       "version_minor": 0
      },
      "text/plain": [
       "  0%|          | 0/33 [00:00<?, ?it/s]"
      ]
     },
     "metadata": {},
     "output_type": "display_data"
    },
    {
     "name": "stdout",
     "output_type": "stream",
     "text": [
      "Loss → Total: 0.3714, Regression: 0.0085, Classification: 0.3629\n",
      "SM_0 → RMSE: 6.74631202, MAE: 5.20558023, ME: 1.49172556\n",
      "SM_20 → RMSE: 6.65193918, MAE: 5.12556887, ME: 1.31927776\n",
      "Classification → Accuracy: 0.94506563, F1-score: 0.94507993\n",
      "Epoch 45/100\n"
     ]
    },
    {
     "data": {
      "application/vnd.jupyter.widget-view+json": {
       "model_id": "f9e84dbf6f3e431999f4eb103565f06b",
       "version_major": 2,
       "version_minor": 0
      },
      "text/plain": [
       "  0%|          | 0/33 [00:00<?, ?it/s]"
      ]
     },
     "metadata": {},
     "output_type": "display_data"
    },
    {
     "name": "stdout",
     "output_type": "stream",
     "text": [
      "Loss → Total: 0.4176, Regression: 0.0086, Classification: 0.4090\n",
      "SM_0 → RMSE: 7.24147901, MAE: 5.67964077, ME: 1.76966166\n",
      "SM_20 → RMSE: 6.82495071, MAE: 5.29855347, ME: 1.29325223\n",
      "Classification → Accuracy: 0.93145357, F1-score: 0.93114738\n",
      "Epoch 46/100\n"
     ]
    },
    {
     "data": {
      "application/vnd.jupyter.widget-view+json": {
       "model_id": "d0a43c67e9d8423f9dafbc2fcb63e8e5",
       "version_major": 2,
       "version_minor": 0
      },
      "text/plain": [
       "  0%|          | 0/33 [00:00<?, ?it/s]"
      ]
     },
     "metadata": {},
     "output_type": "display_data"
    },
    {
     "name": "stdout",
     "output_type": "stream",
     "text": [
      "Loss → Total: 0.3547, Regression: 0.0073, Classification: 0.3473\n",
      "SM_0 → RMSE: 7.61224775, MAE: 5.87298822, ME: -1.76165366\n",
      "SM_20 → RMSE: 7.23807703, MAE: 5.61945200, ME: -1.55703354\n",
      "Classification → Accuracy: 0.94457948, F1-score: 0.94459915\n",
      "Epoch 47/100\n"
     ]
    },
    {
     "data": {
      "application/vnd.jupyter.widget-view+json": {
       "model_id": "af373c8db56e4196907594d892c46db3",
       "version_major": 2,
       "version_minor": 0
      },
      "text/plain": [
       "  0%|          | 0/33 [00:00<?, ?it/s]"
      ]
     },
     "metadata": {},
     "output_type": "display_data"
    },
    {
     "name": "stdout",
     "output_type": "stream",
     "text": [
      "Loss → Total: 0.3630, Regression: 0.0082, Classification: 0.3548\n",
      "SM_0 → RMSE: 6.58322098, MAE: 5.01707983, ME: -1.15183377\n",
      "SM_20 → RMSE: 6.14316807, MAE: 4.77424955, ME: -0.51583469\n",
      "Classification → Accuracy: 0.94652406, F1-score: 0.94616415\n",
      "Epoch 48/100\n"
     ]
    },
    {
     "data": {
      "application/vnd.jupyter.widget-view+json": {
       "model_id": "8306b4ecfcb24906925e70e8476d513f",
       "version_major": 2,
       "version_minor": 0
      },
      "text/plain": [
       "  0%|          | 0/33 [00:00<?, ?it/s]"
      ]
     },
     "metadata": {},
     "output_type": "display_data"
    },
    {
     "name": "stdout",
     "output_type": "stream",
     "text": [
      "Loss → Total: 0.4465, Regression: 0.0076, Classification: 0.4388\n",
      "SM_0 → RMSE: 6.75146666, MAE: 5.18997240, ME: 1.12353432\n",
      "SM_20 → RMSE: 6.44703161, MAE: 5.00424433, ME: 1.18367577\n",
      "Classification → Accuracy: 0.93534273, F1-score: 0.93518855\n",
      "Epoch 49/100\n"
     ]
    },
    {
     "data": {
      "application/vnd.jupyter.widget-view+json": {
       "model_id": "e3e02fa79415413bb967be12b838751f",
       "version_major": 2,
       "version_minor": 0
      },
      "text/plain": [
       "  0%|          | 0/33 [00:00<?, ?it/s]"
      ]
     },
     "metadata": {},
     "output_type": "display_data"
    },
    {
     "name": "stdout",
     "output_type": "stream",
     "text": [
      "Loss → Total: 0.4233, Regression: 0.0067, Classification: 0.4166\n",
      "SM_0 → RMSE: 6.74447179, MAE: 5.27553415, ME: 0.05837786\n",
      "SM_20 → RMSE: 6.72254957, MAE: 5.23399782, ME: -0.21294257\n",
      "Classification → Accuracy: 0.92707827, F1-score: 0.92704747\n",
      "Epoch 50/100\n"
     ]
    },
    {
     "data": {
      "application/vnd.jupyter.widget-view+json": {
       "model_id": "fde84d6976684cc68e27a6e620399b98",
       "version_major": 2,
       "version_minor": 0
      },
      "text/plain": [
       "  0%|          | 0/33 [00:00<?, ?it/s]"
      ]
     },
     "metadata": {},
     "output_type": "display_data"
    },
    {
     "name": "stdout",
     "output_type": "stream",
     "text": [
      "Loss → Total: 0.3691, Regression: 0.0074, Classification: 0.3617\n",
      "SM_0 → RMSE: 6.13633427, MAE: 4.74065208, ME: 0.28551820\n",
      "SM_20 → RMSE: 6.13610549, MAE: 4.75635862, ME: 0.37995604\n",
      "Classification → Accuracy: 0.94263491, F1-score: 0.94288261\n",
      "Epoch 51/100\n"
     ]
    },
    {
     "data": {
      "application/vnd.jupyter.widget-view+json": {
       "model_id": "fa83a03b677c4428ace95e41e437a0f0",
       "version_major": 2,
       "version_minor": 0
      },
      "text/plain": [
       "  0%|          | 0/33 [00:00<?, ?it/s]"
      ]
     },
     "metadata": {},
     "output_type": "display_data"
    },
    {
     "name": "stdout",
     "output_type": "stream",
     "text": [
      "Loss → Total: 0.3701, Regression: 0.0078, Classification: 0.3624\n",
      "SM_0 → RMSE: 7.20961061, MAE: 5.56817055, ME: -1.41833639\n",
      "SM_20 → RMSE: 6.68235824, MAE: 5.22593498, ME: -1.13746154\n",
      "Classification → Accuracy: 0.94603792, F1-score: 0.94628211\n",
      "Epoch 52/100\n"
     ]
    },
    {
     "data": {
      "application/vnd.jupyter.widget-view+json": {
       "model_id": "87ae1d7435124b9598dd6b1dd8a6fbb4",
       "version_major": 2,
       "version_minor": 0
      },
      "text/plain": [
       "  0%|          | 0/33 [00:00<?, ?it/s]"
      ]
     },
     "metadata": {},
     "output_type": "display_data"
    },
    {
     "name": "stdout",
     "output_type": "stream",
     "text": [
      "Loss → Total: 0.4703, Regression: 0.0088, Classification: 0.4614\n",
      "SM_0 → RMSE: 7.24788503, MAE: 5.65030289, ME: -0.09097981\n",
      "SM_20 → RMSE: 7.25149468, MAE: 5.67081928, ME: -0.18244499\n",
      "Classification → Accuracy: 0.94166262, F1-score: 0.94164305\n",
      "Epoch 53/100\n"
     ]
    },
    {
     "data": {
      "application/vnd.jupyter.widget-view+json": {
       "model_id": "54b17f70575e4930a71dd9f1a1f4ab0c",
       "version_major": 2,
       "version_minor": 0
      },
      "text/plain": [
       "  0%|          | 0/33 [00:00<?, ?it/s]"
      ]
     },
     "metadata": {},
     "output_type": "display_data"
    },
    {
     "name": "stdout",
     "output_type": "stream",
     "text": [
      "Loss → Total: 0.3659, Regression: 0.0081, Classification: 0.3579\n",
      "SM_0 → RMSE: 6.34119894, MAE: 4.89953423, ME: 1.04422164\n",
      "SM_20 → RMSE: 6.32774461, MAE: 4.89786291, ME: -0.85718066\n",
      "Classification → Accuracy: 0.94312105, F1-score: 0.94275750\n",
      "Epoch 54/100\n"
     ]
    },
    {
     "data": {
      "application/vnd.jupyter.widget-view+json": {
       "model_id": "1cfba5ea12ca41d49a7cb167aa6ec06e",
       "version_major": 2,
       "version_minor": 0
      },
      "text/plain": [
       "  0%|          | 0/33 [00:00<?, ?it/s]"
      ]
     },
     "metadata": {},
     "output_type": "display_data"
    },
    {
     "name": "stdout",
     "output_type": "stream",
     "text": [
      "Loss → Total: 0.3360, Regression: 0.0063, Classification: 0.3297\n",
      "SM_0 → RMSE: 6.16150267, MAE: 4.71582174, ME: -0.07814178\n",
      "SM_20 → RMSE: 7.17866623, MAE: 5.56584311, ME: 0.93917018\n",
      "Classification → Accuracy: 0.94020418, F1-score: 0.94035431\n",
      "Epoch 55/100\n"
     ]
    },
    {
     "data": {
      "application/vnd.jupyter.widget-view+json": {
       "model_id": "4916d2f55d1b4aaf914b6fe9df570392",
       "version_major": 2,
       "version_minor": 0
      },
      "text/plain": [
       "  0%|          | 0/33 [00:00<?, ?it/s]"
      ]
     },
     "metadata": {},
     "output_type": "display_data"
    },
    {
     "name": "stdout",
     "output_type": "stream",
     "text": [
      "Loss → Total: 0.3228, Regression: 0.0067, Classification: 0.3161\n",
      "SM_0 → RMSE: 5.97286957, MAE: 4.61724186, ME: 1.26706898\n",
      "SM_20 → RMSE: 6.41023986, MAE: 4.89717293, ME: 1.39203036\n",
      "Classification → Accuracy: 0.94603792, F1-score: 0.94615017\n",
      "Epoch 56/100\n"
     ]
    },
    {
     "data": {
      "application/vnd.jupyter.widget-view+json": {
       "model_id": "5f82e93572ff49bc8b302e945612e3f7",
       "version_major": 2,
       "version_minor": 0
      },
      "text/plain": [
       "  0%|          | 0/33 [00:00<?, ?it/s]"
      ]
     },
     "metadata": {},
     "output_type": "display_data"
    },
    {
     "name": "stdout",
     "output_type": "stream",
     "text": [
      "Loss → Total: 0.3398, Regression: 0.0072, Classification: 0.3326\n",
      "SM_0 → RMSE: 6.44344966, MAE: 4.91086340, ME: 1.63022816\n",
      "SM_20 → RMSE: 6.59191927, MAE: 5.04808950, ME: 1.45652759\n",
      "Classification → Accuracy: 0.94992708, F1-score: 0.95003184\n",
      "Epoch 57/100\n"
     ]
    },
    {
     "data": {
      "application/vnd.jupyter.widget-view+json": {
       "model_id": "dcb8bbf3de9e430e914cb696133a848e",
       "version_major": 2,
       "version_minor": 0
      },
      "text/plain": [
       "  0%|          | 0/33 [00:00<?, ?it/s]"
      ]
     },
     "metadata": {},
     "output_type": "display_data"
    },
    {
     "name": "stdout",
     "output_type": "stream",
     "text": [
      "Loss → Total: 0.2892, Regression: 0.0061, Classification: 0.2831\n",
      "SM_0 → RMSE: 5.88244255, MAE: 4.51273155, ME: 0.01113531\n",
      "SM_20 → RMSE: 6.04767929, MAE: 4.66214561, ME: -0.04089582\n",
      "Classification → Accuracy: 0.95673311, F1-score: 0.95688569\n",
      "Epoch 58/100\n"
     ]
    },
    {
     "data": {
      "application/vnd.jupyter.widget-view+json": {
       "model_id": "b597a7ae4bf04e3cac0f26a4835d048a",
       "version_major": 2,
       "version_minor": 0
      },
      "text/plain": [
       "  0%|          | 0/33 [00:00<?, ?it/s]"
      ]
     },
     "metadata": {},
     "output_type": "display_data"
    },
    {
     "name": "stdout",
     "output_type": "stream",
     "text": [
      "Loss → Total: 0.3165, Regression: 0.0068, Classification: 0.3097\n",
      "SM_0 → RMSE: 5.83473694, MAE: 4.44593525, ME: 0.18246479\n",
      "SM_20 → RMSE: 5.93842573, MAE: 4.56461287, ME: -0.18176112\n",
      "Classification → Accuracy: 0.95333009, F1-score: 0.95335874\n",
      "Epoch 59/100\n"
     ]
    },
    {
     "data": {
      "application/vnd.jupyter.widget-view+json": {
       "model_id": "2d662150c3d54a27882e7fc1c99b116c",
       "version_major": 2,
       "version_minor": 0
      },
      "text/plain": [
       "  0%|          | 0/33 [00:00<?, ?it/s]"
      ]
     },
     "metadata": {},
     "output_type": "display_data"
    },
    {
     "name": "stdout",
     "output_type": "stream",
     "text": [
      "Loss → Total: 0.3138, Regression: 0.0059, Classification: 0.3079\n",
      "SM_0 → RMSE: 5.61834102, MAE: 4.29510164, ME: 0.54708463\n",
      "SM_20 → RMSE: 5.81200776, MAE: 4.46937084, ME: -0.81270486\n",
      "Classification → Accuracy: 0.95527467, F1-score: 0.95541266\n",
      "Epoch 60/100\n"
     ]
    },
    {
     "data": {
      "application/vnd.jupyter.widget-view+json": {
       "model_id": "666dddc9dbba4cf999f45e08c5dd261e",
       "version_major": 2,
       "version_minor": 0
      },
      "text/plain": [
       "  0%|          | 0/33 [00:00<?, ?it/s]"
      ]
     },
     "metadata": {},
     "output_type": "display_data"
    },
    {
     "name": "stdout",
     "output_type": "stream",
     "text": [
      "Loss → Total: 0.3141, Regression: 0.0061, Classification: 0.3081\n",
      "SM_0 → RMSE: 5.98133139, MAE: 4.59186792, ME: -0.26641256\n",
      "SM_20 → RMSE: 6.23333900, MAE: 4.75778198, ME: -1.44331384\n",
      "Classification → Accuracy: 0.94701021, F1-score: 0.94689586\n",
      "Epoch 61/100\n"
     ]
    },
    {
     "data": {
      "application/vnd.jupyter.widget-view+json": {
       "model_id": "bbdf1477bf884cb8903cdaed15644f1c",
       "version_major": 2,
       "version_minor": 0
      },
      "text/plain": [
       "  0%|          | 0/33 [00:00<?, ?it/s]"
      ]
     },
     "metadata": {},
     "output_type": "display_data"
    },
    {
     "name": "stdout",
     "output_type": "stream",
     "text": [
      "Loss → Total: 0.2633, Regression: 0.0058, Classification: 0.2575\n",
      "SM_0 → RMSE: 5.93748683, MAE: 4.55515480, ME: 1.05528867\n",
      "SM_20 → RMSE: 5.96673806, MAE: 4.65343523, ME: 0.39284855\n",
      "Classification → Accuracy: 0.95089937, F1-score: 0.95113411\n",
      "Epoch 62/100\n"
     ]
    },
    {
     "data": {
      "application/vnd.jupyter.widget-view+json": {
       "model_id": "6a7ae6e672b544a3a71057caedbb782e",
       "version_major": 2,
       "version_minor": 0
      },
      "text/plain": [
       "  0%|          | 0/33 [00:00<?, ?it/s]"
      ]
     },
     "metadata": {},
     "output_type": "display_data"
    },
    {
     "name": "stdout",
     "output_type": "stream",
     "text": [
      "Loss → Total: 0.2941, Regression: 0.0067, Classification: 0.2874\n",
      "SM_0 → RMSE: 5.77742100, MAE: 4.50201559, ME: 0.37986115\n",
      "SM_20 → RMSE: 5.94868909, MAE: 4.63197517, ME: 0.22192134\n",
      "Classification → Accuracy: 0.95624696, F1-score: 0.95650629\n",
      "Epoch 63/100\n"
     ]
    },
    {
     "data": {
      "application/vnd.jupyter.widget-view+json": {
       "model_id": "e47737a4794a4cee8d6cf13aedb58391",
       "version_major": 2,
       "version_minor": 0
      },
      "text/plain": [
       "  0%|          | 0/33 [00:00<?, ?it/s]"
      ]
     },
     "metadata": {},
     "output_type": "display_data"
    },
    {
     "name": "stdout",
     "output_type": "stream",
     "text": [
      "Loss → Total: 0.2962, Regression: 0.0060, Classification: 0.2902\n",
      "SM_0 → RMSE: 6.18205407, MAE: 4.81900692, ME: -0.63864857\n",
      "SM_20 → RMSE: 6.12771391, MAE: 4.74368191, ME: -1.08418190\n",
      "Classification → Accuracy: 0.95624696, F1-score: 0.95611858\n",
      "Epoch 64/100\n"
     ]
    },
    {
     "data": {
      "application/vnd.jupyter.widget-view+json": {
       "model_id": "29a05130f5fa450791c5ff252383feb7",
       "version_major": 2,
       "version_minor": 0
      },
      "text/plain": [
       "  0%|          | 0/33 [00:00<?, ?it/s]"
      ]
     },
     "metadata": {},
     "output_type": "display_data"
    },
    {
     "name": "stdout",
     "output_type": "stream",
     "text": [
      "Loss → Total: 0.2684, Regression: 0.0060, Classification: 0.2624\n",
      "SM_0 → RMSE: 5.98599102, MAE: 4.61918879, ME: -0.53840220\n",
      "SM_20 → RMSE: 5.88004298, MAE: 4.45979261, ME: 0.02935337\n",
      "Classification → Accuracy: 0.94360719, F1-score: 0.94392189\n",
      "Epoch 65/100\n"
     ]
    },
    {
     "data": {
      "application/vnd.jupyter.widget-view+json": {
       "model_id": "01f89ce304d24f2b8eb440ad2d017b09",
       "version_major": 2,
       "version_minor": 0
      },
      "text/plain": [
       "  0%|          | 0/33 [00:00<?, ?it/s]"
      ]
     },
     "metadata": {},
     "output_type": "display_data"
    },
    {
     "name": "stdout",
     "output_type": "stream",
     "text": [
      "Loss → Total: 0.3551, Regression: 0.0067, Classification: 0.3484\n",
      "SM_0 → RMSE: 6.41573915, MAE: 4.81182480, ME: 0.10373299\n",
      "SM_20 → RMSE: 6.15996954, MAE: 4.73248625, ME: 0.21814987\n",
      "Classification → Accuracy: 0.92513369, F1-score: 0.92528491\n",
      "Epoch 66/100\n"
     ]
    },
    {
     "data": {
      "application/vnd.jupyter.widget-view+json": {
       "model_id": "4a25b51c4b384e6c815bb8a23b05769a",
       "version_major": 2,
       "version_minor": 0
      },
      "text/plain": [
       "  0%|          | 0/33 [00:00<?, ?it/s]"
      ]
     },
     "metadata": {},
     "output_type": "display_data"
    },
    {
     "name": "stdout",
     "output_type": "stream",
     "text": [
      "Loss → Total: 0.4199, Regression: 0.0075, Classification: 0.4124\n",
      "SM_0 → RMSE: 6.62362685, MAE: 5.02921581, ME: 0.10318015\n",
      "SM_20 → RMSE: 6.27189281, MAE: 4.79844856, ME: -0.59379333\n",
      "Classification → Accuracy: 0.94603792, F1-score: 0.94600725\n",
      "Epoch 67/100\n"
     ]
    },
    {
     "data": {
      "application/vnd.jupyter.widget-view+json": {
       "model_id": "2e1d2096fc804160a1f1fdc8e06342c6",
       "version_major": 2,
       "version_minor": 0
      },
      "text/plain": [
       "  0%|          | 0/33 [00:00<?, ?it/s]"
      ]
     },
     "metadata": {},
     "output_type": "display_data"
    },
    {
     "name": "stdout",
     "output_type": "stream",
     "text": [
      "Loss → Total: 0.3746, Regression: 0.0061, Classification: 0.3685\n",
      "SM_0 → RMSE: 6.36470217, MAE: 4.85986328, ME: 0.92198825\n",
      "SM_20 → RMSE: 6.67979743, MAE: 5.17369604, ME: 1.48926950\n",
      "Classification → Accuracy: 0.94992708, F1-score: 0.95009069\n",
      "Epoch 68/100\n"
     ]
    },
    {
     "data": {
      "application/vnd.jupyter.widget-view+json": {
       "model_id": "c330bf7d49994f49887c6b11f51923b8",
       "version_major": 2,
       "version_minor": 0
      },
      "text/plain": [
       "  0%|          | 0/33 [00:00<?, ?it/s]"
      ]
     },
     "metadata": {},
     "output_type": "display_data"
    },
    {
     "name": "stdout",
     "output_type": "stream",
     "text": [
      "Loss → Total: 0.3053, Regression: 0.0062, Classification: 0.2991\n",
      "SM_0 → RMSE: 6.40502442, MAE: 5.00455379, ME: -0.83402258\n",
      "SM_20 → RMSE: 6.60484473, MAE: 5.20969439, ME: -0.83110183\n",
      "Classification → Accuracy: 0.94603792, F1-score: 0.94603709\n",
      "Epoch 69/100\n"
     ]
    },
    {
     "data": {
      "application/vnd.jupyter.widget-view+json": {
       "model_id": "1b37d1ef46d24fcca42a068dcddba583",
       "version_major": 2,
       "version_minor": 0
      },
      "text/plain": [
       "  0%|          | 0/33 [00:00<?, ?it/s]"
      ]
     },
     "metadata": {},
     "output_type": "display_data"
    },
    {
     "name": "stdout",
     "output_type": "stream",
     "text": [
      "Loss → Total: 0.2762, Regression: 0.0058, Classification: 0.2704\n",
      "SM_0 → RMSE: 5.59939444, MAE: 4.30564260, ME: -0.10741094\n",
      "SM_20 → RMSE: 5.70781258, MAE: 4.40752363, ME: -0.62873852\n",
      "Classification → Accuracy: 0.95819154, F1-score: 0.95823521\n",
      "Epoch 70/100\n"
     ]
    },
    {
     "data": {
      "application/vnd.jupyter.widget-view+json": {
       "model_id": "7207d95bee564fd9a2ad428e83ae38df",
       "version_major": 2,
       "version_minor": 0
      },
      "text/plain": [
       "  0%|          | 0/33 [00:00<?, ?it/s]"
      ]
     },
     "metadata": {},
     "output_type": "display_data"
    },
    {
     "name": "stdout",
     "output_type": "stream",
     "text": [
      "Loss → Total: 0.2705, Regression: 0.0059, Classification: 0.2646\n",
      "SM_0 → RMSE: 6.41374906, MAE: 4.99624109, ME: 1.09718633\n",
      "SM_20 → RMSE: 6.58528237, MAE: 5.13101244, ME: 1.66878104\n",
      "Classification → Accuracy: 0.95916383, F1-score: 0.95929932\n",
      "Epoch 71/100\n"
     ]
    },
    {
     "data": {
      "application/vnd.jupyter.widget-view+json": {
       "model_id": "e559f15dabeb4bdcb93d4ea6747db9ec",
       "version_major": 2,
       "version_minor": 0
      },
      "text/plain": [
       "  0%|          | 0/33 [00:00<?, ?it/s]"
      ]
     },
     "metadata": {},
     "output_type": "display_data"
    },
    {
     "name": "stdout",
     "output_type": "stream",
     "text": [
      "Loss → Total: 0.2825, Regression: 0.0060, Classification: 0.2765\n",
      "SM_0 → RMSE: 5.88472770, MAE: 4.51936054, ME: -0.13551635\n",
      "SM_20 → RMSE: 5.90504564, MAE: 4.51910448, ME: 0.79381454\n",
      "Classification → Accuracy: 0.96013612, F1-score: 0.96053554\n",
      "Epoch 72/100\n"
     ]
    },
    {
     "data": {
      "application/vnd.jupyter.widget-view+json": {
       "model_id": "c402269badb54279814fd16b6f73363f",
       "version_major": 2,
       "version_minor": 0
      },
      "text/plain": [
       "  0%|          | 0/33 [00:00<?, ?it/s]"
      ]
     },
     "metadata": {},
     "output_type": "display_data"
    },
    {
     "name": "stdout",
     "output_type": "stream",
     "text": [
      "Loss → Total: 0.2572, Regression: 0.0053, Classification: 0.2518\n",
      "SM_0 → RMSE: 5.79913927, MAE: 4.37782001, ME: 0.24612351\n",
      "SM_20 → RMSE: 5.88204501, MAE: 4.49996758, ME: 0.34737185\n",
      "Classification → Accuracy: 0.95430238, F1-score: 0.95427857\n",
      "Epoch 73/100\n"
     ]
    },
    {
     "data": {
      "application/vnd.jupyter.widget-view+json": {
       "model_id": "88374b69846e471bbc2bb6bf31bdc14d",
       "version_major": 2,
       "version_minor": 0
      },
      "text/plain": [
       "  0%|          | 0/33 [00:00<?, ?it/s]"
      ]
     },
     "metadata": {},
     "output_type": "display_data"
    },
    {
     "name": "stdout",
     "output_type": "stream",
     "text": [
      "Loss → Total: 0.3677, Regression: 0.0062, Classification: 0.3615\n",
      "SM_0 → RMSE: 5.85055391, MAE: 4.37840796, ME: -0.57687485\n",
      "SM_20 → RMSE: 6.14888575, MAE: 4.68922710, ME: -0.93491012\n",
      "Classification → Accuracy: 0.95478853, F1-score: 0.95485645\n",
      "Epoch 74/100\n"
     ]
    },
    {
     "data": {
      "application/vnd.jupyter.widget-view+json": {
       "model_id": "3f2661b36a8c4bc4bdd8a84b376d8457",
       "version_major": 2,
       "version_minor": 0
      },
      "text/plain": [
       "  0%|          | 0/33 [00:00<?, ?it/s]"
      ]
     },
     "metadata": {},
     "output_type": "display_data"
    },
    {
     "name": "stdout",
     "output_type": "stream",
     "text": [
      "Loss → Total: 0.2557, Regression: 0.0068, Classification: 0.2488\n",
      "SM_0 → RMSE: 5.73306434, MAE: 4.37414789, ME: 0.98389119\n",
      "SM_20 → RMSE: 6.00268272, MAE: 4.59228182, ME: 1.16073096\n",
      "Classification → Accuracy: 0.95089937, F1-score: 0.95104952\n",
      "Epoch 75/100\n"
     ]
    },
    {
     "data": {
      "application/vnd.jupyter.widget-view+json": {
       "model_id": "867fa45a2942465c9aae2883e00cb901",
       "version_major": 2,
       "version_minor": 0
      },
      "text/plain": [
       "  0%|          | 0/33 [00:00<?, ?it/s]"
      ]
     },
     "metadata": {},
     "output_type": "display_data"
    },
    {
     "name": "stdout",
     "output_type": "stream",
     "text": [
      "Loss → Total: 0.2979, Regression: 0.0075, Classification: 0.2904\n",
      "SM_0 → RMSE: 5.73143192, MAE: 4.42309427, ME: 0.66172123\n",
      "SM_20 → RMSE: 5.96512801, MAE: 4.56956244, ME: 0.34981394\n",
      "Classification → Accuracy: 0.95819154, F1-score: 0.95813422\n",
      "Epoch 76/100\n"
     ]
    },
    {
     "data": {
      "application/vnd.jupyter.widget-view+json": {
       "model_id": "958be918afd44918868b08cc196dab89",
       "version_major": 2,
       "version_minor": 0
      },
      "text/plain": [
       "  0%|          | 0/33 [00:00<?, ?it/s]"
      ]
     },
     "metadata": {},
     "output_type": "display_data"
    },
    {
     "name": "stdout",
     "output_type": "stream",
     "text": [
      "Loss → Total: 0.2595, Regression: 0.0071, Classification: 0.2523\n",
      "SM_0 → RMSE: 6.04301641, MAE: 4.62906885, ME: -0.99895197\n",
      "SM_20 → RMSE: 6.05948588, MAE: 4.68604803, ME: -0.61971885\n",
      "Classification → Accuracy: 0.95721925, F1-score: 0.95723503\n",
      "Epoch 77/100\n"
     ]
    },
    {
     "data": {
      "application/vnd.jupyter.widget-view+json": {
       "model_id": "c6303b8c8ad3447f9da87892d90d302b",
       "version_major": 2,
       "version_minor": 0
      },
      "text/plain": [
       "  0%|          | 0/33 [00:00<?, ?it/s]"
      ]
     },
     "metadata": {},
     "output_type": "display_data"
    },
    {
     "name": "stdout",
     "output_type": "stream",
     "text": [
      "Loss → Total: 0.2497, Regression: 0.0058, Classification: 0.2439\n",
      "SM_0 → RMSE: 5.87327031, MAE: 4.47677755, ME: -0.39517567\n",
      "SM_20 → RMSE: 5.67399251, MAE: 4.27036095, ME: -0.26204249\n",
      "Classification → Accuracy: 0.96013612, F1-score: 0.95998165\n",
      "Epoch 78/100\n"
     ]
    },
    {
     "data": {
      "application/vnd.jupyter.widget-view+json": {
       "model_id": "d03d73e5648b4c31be45c5171c2c4040",
       "version_major": 2,
       "version_minor": 0
      },
      "text/plain": [
       "  0%|          | 0/33 [00:00<?, ?it/s]"
      ]
     },
     "metadata": {},
     "output_type": "display_data"
    },
    {
     "name": "stdout",
     "output_type": "stream",
     "text": [
      "Loss → Total: 0.2418, Regression: 0.0054, Classification: 0.2364\n",
      "SM_0 → RMSE: 5.82639514, MAE: 4.45404959, ME: -0.93764734\n",
      "SM_20 → RMSE: 5.88897893, MAE: 4.54386187, ME: -0.84645063\n",
      "Classification → Accuracy: 0.94020418, F1-score: 0.94038922\n",
      "Epoch 79/100\n"
     ]
    },
    {
     "data": {
      "application/vnd.jupyter.widget-view+json": {
       "model_id": "7e0434547609472c8d9cc4442a425510",
       "version_major": 2,
       "version_minor": 0
      },
      "text/plain": [
       "  0%|          | 0/33 [00:00<?, ?it/s]"
      ]
     },
     "metadata": {},
     "output_type": "display_data"
    },
    {
     "name": "stdout",
     "output_type": "stream",
     "text": [
      "Loss → Total: 0.2596, Regression: 0.0050, Classification: 0.2545\n",
      "SM_0 → RMSE: 5.70290928, MAE: 4.41472340, ME: 0.52718931\n",
      "SM_20 → RMSE: 5.70087110, MAE: 4.34647894, ME: -0.38706684\n",
      "Classification → Accuracy: 0.95916383, F1-score: 0.95937325\n",
      "Epoch 80/100\n"
     ]
    },
    {
     "data": {
      "application/vnd.jupyter.widget-view+json": {
       "model_id": "8b0714ea5faf4912bf0e72bb0dfa8e21",
       "version_major": 2,
       "version_minor": 0
      },
      "text/plain": [
       "  0%|          | 0/33 [00:00<?, ?it/s]"
      ]
     },
     "metadata": {},
     "output_type": "display_data"
    },
    {
     "name": "stdout",
     "output_type": "stream",
     "text": [
      "Loss → Total: 0.2181, Regression: 0.0049, Classification: 0.2132\n",
      "SM_0 → RMSE: 5.51868991, MAE: 4.18150187, ME: 0.37435973\n",
      "SM_20 → RMSE: 5.81377143, MAE: 4.46877003, ME: 0.19344486\n",
      "Classification → Accuracy: 0.96062227, F1-score: 0.96083676\n",
      "Epoch 81/100\n"
     ]
    },
    {
     "data": {
      "application/vnd.jupyter.widget-view+json": {
       "model_id": "1ecb9e597d0d41e9a94ddc3fca9b2ba4",
       "version_major": 2,
       "version_minor": 0
      },
      "text/plain": [
       "  0%|          | 0/33 [00:00<?, ?it/s]"
      ]
     },
     "metadata": {},
     "output_type": "display_data"
    },
    {
     "name": "stdout",
     "output_type": "stream",
     "text": [
      "Loss → Total: 0.2362, Regression: 0.0063, Classification: 0.2299\n",
      "SM_0 → RMSE: 6.29775609, MAE: 4.83997869, ME: 1.50797665\n",
      "SM_20 → RMSE: 6.33383019, MAE: 4.89357281, ME: 1.56590998\n",
      "Classification → Accuracy: 0.95527467, F1-score: 0.95565532\n",
      "Epoch 82/100\n"
     ]
    },
    {
     "data": {
      "application/vnd.jupyter.widget-view+json": {
       "model_id": "2606b58a1bae4c158270f49c6c82cdab",
       "version_major": 2,
       "version_minor": 0
      },
      "text/plain": [
       "  0%|          | 0/33 [00:00<?, ?it/s]"
      ]
     },
     "metadata": {},
     "output_type": "display_data"
    },
    {
     "name": "stdout",
     "output_type": "stream",
     "text": [
      "Loss → Total: 0.2515, Regression: 0.0061, Classification: 0.2453\n",
      "SM_0 → RMSE: 5.91953523, MAE: 4.49278498, ME: -0.88413191\n",
      "SM_20 → RMSE: 5.78059540, MAE: 4.36719418, ME: -0.48275971\n",
      "Classification → Accuracy: 0.96110841, F1-score: 0.96155270\n",
      "Epoch 83/100\n"
     ]
    },
    {
     "data": {
      "application/vnd.jupyter.widget-view+json": {
       "model_id": "96c67e08f03849a3a41e34eb60c1f54a",
       "version_major": 2,
       "version_minor": 0
      },
      "text/plain": [
       "  0%|          | 0/33 [00:00<?, ?it/s]"
      ]
     },
     "metadata": {},
     "output_type": "display_data"
    },
    {
     "name": "stdout",
     "output_type": "stream",
     "text": [
      "Loss → Total: 0.2302, Regression: 0.0058, Classification: 0.2244\n",
      "SM_0 → RMSE: 5.93306044, MAE: 4.49791288, ME: 1.09716225\n",
      "SM_20 → RMSE: 5.67264638, MAE: 4.25570726, ME: 0.86823756\n",
      "Classification → Accuracy: 0.95721925, F1-score: 0.95731231\n",
      "Epoch 84/100\n"
     ]
    },
    {
     "data": {
      "application/vnd.jupyter.widget-view+json": {
       "model_id": "33f6a3e14937424f8d2705ed5dbe0eea",
       "version_major": 2,
       "version_minor": 0
      },
      "text/plain": [
       "  0%|          | 0/33 [00:00<?, ?it/s]"
      ]
     },
     "metadata": {},
     "output_type": "display_data"
    },
    {
     "name": "stdout",
     "output_type": "stream",
     "text": [
      "Loss → Total: 0.2269, Regression: 0.0060, Classification: 0.2210\n",
      "SM_0 → RMSE: 5.64235536, MAE: 4.32481766, ME: -0.64337659\n",
      "SM_20 → RMSE: 5.47192256, MAE: 4.18412447, ME: -0.55612844\n",
      "Classification → Accuracy: 0.95624696, F1-score: 0.95622707\n",
      "Epoch 85/100\n"
     ]
    },
    {
     "data": {
      "application/vnd.jupyter.widget-view+json": {
       "model_id": "25a87319952c4de2956f77f7974e90b5",
       "version_major": 2,
       "version_minor": 0
      },
      "text/plain": [
       "  0%|          | 0/33 [00:00<?, ?it/s]"
      ]
     },
     "metadata": {},
     "output_type": "display_data"
    },
    {
     "name": "stdout",
     "output_type": "stream",
     "text": [
      "Loss → Total: 0.2251, Regression: 0.0050, Classification: 0.2201\n",
      "SM_0 → RMSE: 5.64910876, MAE: 4.25402689, ME: 1.22814775\n",
      "SM_20 → RMSE: 5.98518896, MAE: 4.59311390, ME: 0.85338044\n",
      "Classification → Accuracy: 0.95235780, F1-score: 0.95248535\n",
      "Epoch 86/100\n"
     ]
    },
    {
     "data": {
      "application/vnd.jupyter.widget-view+json": {
       "model_id": "702fdc47a04247aca8795722a8b3416a",
       "version_major": 2,
       "version_minor": 0
      },
      "text/plain": [
       "  0%|          | 0/33 [00:00<?, ?it/s]"
      ]
     },
     "metadata": {},
     "output_type": "display_data"
    },
    {
     "name": "stdout",
     "output_type": "stream",
     "text": [
      "Loss → Total: 0.2206, Regression: 0.0047, Classification: 0.2159\n",
      "SM_0 → RMSE: 5.47526398, MAE: 4.14263487, ME: -0.66675991\n",
      "SM_20 → RMSE: 5.46726071, MAE: 4.12898064, ME: -0.99792939\n",
      "Classification → Accuracy: 0.95964998, F1-score: 0.95970811\n",
      "Epoch 87/100\n"
     ]
    },
    {
     "data": {
      "application/vnd.jupyter.widget-view+json": {
       "model_id": "ec97e67e20f449299be1d4af733f8b3e",
       "version_major": 2,
       "version_minor": 0
      },
      "text/plain": [
       "  0%|          | 0/33 [00:00<?, ?it/s]"
      ]
     },
     "metadata": {},
     "output_type": "display_data"
    },
    {
     "name": "stdout",
     "output_type": "stream",
     "text": [
      "Loss → Total: 0.2314, Regression: 0.0054, Classification: 0.2260\n",
      "SM_0 → RMSE: 5.52691032, MAE: 4.16574764, ME: -0.01066225\n",
      "SM_20 → RMSE: 5.53303111, MAE: 4.18214655, ME: 0.18400960\n",
      "Classification → Accuracy: 0.95721925, F1-score: 0.95709081\n",
      "Epoch 88/100\n"
     ]
    },
    {
     "data": {
      "application/vnd.jupyter.widget-view+json": {
       "model_id": "99ba8d810f254272b7d80b896bbd6f4a",
       "version_major": 2,
       "version_minor": 0
      },
      "text/plain": [
       "  0%|          | 0/33 [00:00<?, ?it/s]"
      ]
     },
     "metadata": {},
     "output_type": "display_data"
    },
    {
     "name": "stdout",
     "output_type": "stream",
     "text": [
      "Loss → Total: 0.2861, Regression: 0.0052, Classification: 0.2809\n",
      "SM_0 → RMSE: 5.85165149, MAE: 4.42069864, ME: -1.28987408\n",
      "SM_20 → RMSE: 5.59064726, MAE: 4.13058758, ME: -0.43833113\n",
      "Classification → Accuracy: 0.95624696, F1-score: 0.95634127\n",
      "Epoch 89/100\n"
     ]
    },
    {
     "data": {
      "application/vnd.jupyter.widget-view+json": {
       "model_id": "77f3fccc84f44470a0c01fffa3781e57",
       "version_major": 2,
       "version_minor": 0
      },
      "text/plain": [
       "  0%|          | 0/33 [00:00<?, ?it/s]"
      ]
     },
     "metadata": {},
     "output_type": "display_data"
    },
    {
     "name": "stdout",
     "output_type": "stream",
     "text": [
      "Loss → Total: 0.2607, Regression: 0.0057, Classification: 0.2550\n",
      "SM_0 → RMSE: 5.36174968, MAE: 3.96491432, ME: -0.72324497\n",
      "SM_20 → RMSE: 5.53499153, MAE: 4.19135046, ME: -1.37571287\n",
      "Classification → Accuracy: 0.95624696, F1-score: 0.95648237\n",
      "Epoch 90/100\n"
     ]
    },
    {
     "data": {
      "application/vnd.jupyter.widget-view+json": {
       "model_id": "41c1efc0746c4f23a882fd4571becc27",
       "version_major": 2,
       "version_minor": 0
      },
      "text/plain": [
       "  0%|          | 0/33 [00:00<?, ?it/s]"
      ]
     },
     "metadata": {},
     "output_type": "display_data"
    },
    {
     "name": "stdout",
     "output_type": "stream",
     "text": [
      "Loss → Total: 0.2437, Regression: 0.0052, Classification: 0.2386\n",
      "SM_0 → RMSE: 6.20334546, MAE: 4.82247162, ME: 0.94796503\n",
      "SM_20 → RMSE: 5.71060551, MAE: 4.40253639, ME: 0.54174125\n",
      "Classification → Accuracy: 0.95576082, F1-score: 0.95551211\n",
      "Epoch 91/100\n"
     ]
    },
    {
     "data": {
      "application/vnd.jupyter.widget-view+json": {
       "model_id": "96fdd1e8e641453a87f3ec5f3cf23a42",
       "version_major": 2,
       "version_minor": 0
      },
      "text/plain": [
       "  0%|          | 0/33 [00:00<?, ?it/s]"
      ]
     },
     "metadata": {},
     "output_type": "display_data"
    },
    {
     "name": "stdout",
     "output_type": "stream",
     "text": [
      "Loss → Total: 0.2438, Regression: 0.0057, Classification: 0.2381\n",
      "SM_0 → RMSE: 5.78439361, MAE: 4.40009832, ME: 0.83838409\n",
      "SM_20 → RMSE: 5.71847483, MAE: 4.31888199, ME: 1.06014216\n",
      "Classification → Accuracy: 0.96013612, F1-score: 0.96034131\n",
      "Epoch 92/100\n"
     ]
    },
    {
     "data": {
      "application/vnd.jupyter.widget-view+json": {
       "model_id": "9e95e2970a9f4cbb987c092eaa44c23d",
       "version_major": 2,
       "version_minor": 0
      },
      "text/plain": [
       "  0%|          | 0/33 [00:00<?, ?it/s]"
      ]
     },
     "metadata": {},
     "output_type": "display_data"
    },
    {
     "name": "stdout",
     "output_type": "stream",
     "text": [
      "Loss → Total: 0.2784, Regression: 0.0054, Classification: 0.2730\n",
      "SM_0 → RMSE: 5.48856813, MAE: 4.11271524, ME: -0.19024964\n",
      "SM_20 → RMSE: 5.47374284, MAE: 4.16031885, ME: 0.08031029\n",
      "Classification → Accuracy: 0.95770540, F1-score: 0.95756160\n",
      "Epoch 93/100\n"
     ]
    },
    {
     "data": {
      "application/vnd.jupyter.widget-view+json": {
       "model_id": "ba20f81988d642b09b2d69aefd2c913a",
       "version_major": 2,
       "version_minor": 0
      },
      "text/plain": [
       "  0%|          | 0/33 [00:00<?, ?it/s]"
      ]
     },
     "metadata": {},
     "output_type": "display_data"
    },
    {
     "name": "stdout",
     "output_type": "stream",
     "text": [
      "Loss → Total: 0.2508, Regression: 0.0053, Classification: 0.2455\n",
      "SM_0 → RMSE: 5.58913517, MAE: 4.20773602, ME: -0.19660367\n",
      "SM_20 → RMSE: 5.56949852, MAE: 4.23601532, ME: -0.38516513\n",
      "Classification → Accuracy: 0.95770540, F1-score: 0.95746898\n",
      "Epoch 94/100\n"
     ]
    },
    {
     "data": {
      "application/vnd.jupyter.widget-view+json": {
       "model_id": "4469edde757647f09e58502efbec56a9",
       "version_major": 2,
       "version_minor": 0
      },
      "text/plain": [
       "  0%|          | 0/33 [00:00<?, ?it/s]"
      ]
     },
     "metadata": {},
     "output_type": "display_data"
    },
    {
     "name": "stdout",
     "output_type": "stream",
     "text": [
      "Loss → Total: 0.2412, Regression: 0.0049, Classification: 0.2362\n",
      "SM_0 → RMSE: 5.34847635, MAE: 4.01153660, ME: -0.44484204\n",
      "SM_20 → RMSE: 5.45158351, MAE: 4.13817787, ME: -0.72443610\n",
      "Classification → Accuracy: 0.95964998, F1-score: 0.95979535\n",
      "Epoch 95/100\n"
     ]
    },
    {
     "data": {
      "application/vnd.jupyter.widget-view+json": {
       "model_id": "161a54ce7bee486cbc8e6475b0e4f860",
       "version_major": 2,
       "version_minor": 0
      },
      "text/plain": [
       "  0%|          | 0/33 [00:00<?, ?it/s]"
      ]
     },
     "metadata": {},
     "output_type": "display_data"
    }
   ],
   "source": [
    "import torch\n",
    "import torch.nn as nn\n",
    "import pandas as pd\n",
    "import numpy as np\n",
    "from torch.utils.data import Dataset, DataLoader\n",
    "from torchvision import transforms\n",
    "from PIL import Image\n",
    "from sklearn.metrics import mean_squared_error, mean_absolute_error, accuracy_score, f1_score\n",
    "from tqdm.notebook import tqdm\n",
    "import timm\n",
    "import os\n",
    "import random\n",
    "\n",
    "device = torch.device(\"cuda\" if torch.cuda.is_available() else \"cpu\")\n",
    "print(f\"Using device: {device}\")\n",
    "print(f\"PyTorch version: {torch.__version__}\")\n",
    "\n",
    "df = pd.read_csv(r\"F:\\Soil_Labeled_Data\\labels.csv\")\n",
    "print(f\"Total labeled images before check: {len(df)}\")\n",
    "\n",
    "required_columns = ['path', 'SM_0', 'SM_20', 'light_value', 'moisture_class']\n",
    "missing_columns = [col for col in required_columns if col not in df.columns]\n",
    "if missing_columns:\n",
    "    raise ValueError(f\"DataFrame missing columns: {missing_columns}\")\n",
    "\n",
    "fallback_dir = r\"F:\\Soil_Labeled_Data\\augmented_fallback\"\n",
    "os.makedirs(fallback_dir, exist_ok=True)\n",
    "replaced_count = 0\n",
    "augment = transforms.ColorJitter(brightness=0.2, contrast=0.2)\n",
    "\n",
    "for idx, row in tqdm(df.iterrows(), total=len(df)):\n",
    "    path = row[\"path\"]\n",
    "    try:\n",
    "        img = Image.open(path).convert(\"RGB\")\n",
    "        img.verify()\n",
    "    except:\n",
    "        print(f\"Image error: {path}\")\n",
    "        folder = os.path.dirname(path)\n",
    "        all_images = [f for f in os.listdir(folder) if f.lower().endswith((\".jpg\", \".png\"))]\n",
    "        good_images = [f for f in all_images if f != os.path.basename(path)]\n",
    "        if not good_images:\n",
    "            print(f\"No replacement images in: {folder}\")\n",
    "            continue\n",
    "        candidate = random.choice(good_images)\n",
    "        candidate_path = os.path.join(folder, candidate)\n",
    "        try:\n",
    "            img = Image.open(candidate_path).convert(\"RGB\")\n",
    "            img_aug = augment(img)\n",
    "            new_filename = f\"aug_{os.path.basename(path)}\"\n",
    "            new_path = os.path.join(fallback_dir, new_filename)\n",
    "            img_aug.save(new_path)\n",
    "            df.at[idx, \"path\"] = new_path\n",
    "            replaced_count += 1\n",
    "            print(f\"Replaced with: {new_path}\")\n",
    "        except:\n",
    "            print(f\"Replacement image error: {candidate_path}\")\n",
    "            continue\n",
    "print(f\"Replaced {replaced_count} invalid images with augmented versions.\")\n",
    "\n",
    "transform = transforms.Compose([\n",
    "    transforms.Resize((224, 224)),\n",
    "    transforms.ToTensor(),\n",
    "    transforms.Normalize(mean=[0.485, 0.456, 0.406], std=[0.229, 0.224, 0.225])\n",
    "])\n",
    "\n",
    "class SoilDualTaskDataset(Dataset):\n",
    "    def __init__(self, dataframe, transform=None):\n",
    "        self.df = dataframe\n",
    "        self.transform = transform\n",
    "\n",
    "    def __len__(self):\n",
    "        return len(self.df)\n",
    "\n",
    "    def __getitem__(self, idx):\n",
    "        row = self.df.iloc[idx]\n",
    "        img = Image.open(row[\"path\"]).convert(\"RGB\")\n",
    "        if self.transform:\n",
    "            img = self.transform(img)\n",
    "        light = torch.tensor([row[\"light_value\"] / 100.0], dtype=torch.float32)\n",
    "        regression_target = torch.tensor([row[\"SM_0\"] / 100.0, row[\"SM_20\"] / 100.0], dtype=torch.float32)\n",
    "        class_target = torch.tensor(row[\"moisture_class\"], dtype=torch.long)\n",
    "        return {\n",
    "            \"image\": img,\n",
    "            \"light\": light,\n",
    "            \"regression_target\": regression_target,\n",
    "            \"class_target\": class_target\n",
    "        }\n",
    "\n",
    "class SoilNetDualHead(nn.Module):\n",
    "    def __init__(self, num_classes=10):\n",
    "        super().__init__()\n",
    "        self.initial_conv = nn.Conv2d(3, 32, kernel_size=3, stride=1, padding=1)\n",
    "        self.mnv2_block1 = nn.Sequential(*list(\n",
    "            timm.create_model(\"mobilenetv2_100.ra_in1k\", pretrained=True).blocks.children())[0:3]\n",
    "        )\n",
    "        self.channel_adapter = nn.Conv2d(32, 16, kernel_size=1, bias=False)\n",
    "        self.mobilevit_full = timm.create_model(\"mobilevitv2_050\", pretrained=True)\n",
    "        self.mobilevit_encoder = self.mobilevit_full.stages\n",
    "        self.mvit_to_mnv2 = nn.Conv2d(256, 32, kernel_size=1, bias=False)\n",
    "        self.mnv2_block2 = nn.Sequential(*list(\n",
    "            timm.create_model(\"mobilenetv2_100.ra_in1k\", pretrained=True).blocks.children())[3:7]\n",
    "        )\n",
    "        self.final_conv = nn.Conv2d(320, 1280, kernel_size=1)\n",
    "        self.pool = nn.AdaptiveAvgPool2d((1, 1))\n",
    "        self.light_dense = nn.Sequential(nn.Linear(1, 32), nn.ReLU(inplace=True))\n",
    "        self.reg_head = nn.Sequential(\n",
    "            nn.Linear(1280 + 32, 128),\n",
    "            nn.ReLU(inplace=True),\n",
    "            nn.Linear(128, 2)\n",
    "        )\n",
    "        self.cls_head = nn.Sequential(\n",
    "            nn.Linear(1280 + 32, 128),\n",
    "            nn.ReLU(inplace=True),\n",
    "            nn.Linear(128, num_classes)\n",
    "        )\n",
    "\n",
    "    def forward(self, x_img, x_light):\n",
    "        x = self.initial_conv(x_img)\n",
    "        x = self.mnv2_block1(x)\n",
    "        x = self.channel_adapter(x)\n",
    "        x = self.mobilevit_encoder(x)\n",
    "        x = self.mvit_to_mnv2(x)\n",
    "        x = self.mnv2_block2(x)\n",
    "        x = self.final_conv(x)\n",
    "        x = self.pool(x)\n",
    "        x_img_feat = torch.flatten(x, 1)\n",
    "        x_light_feat = self.light_dense(x_light)\n",
    "        x_concat = torch.cat([x_img_feat, x_light_feat], dim=1)\n",
    "        reg_out = self.reg_head(x_concat)\n",
    "        cls_out = self.cls_head(x_concat)\n",
    "        return reg_out, cls_out\n",
    "\n",
    "dataset = SoilDualTaskDataset(df, transform)\n",
    "dataloader = DataLoader(dataset, batch_size=64, shuffle=True, pin_memory=True if device.type == \"cuda\" else False, num_workers=0)\n",
    "\n",
    "num_classes = len(df[\"moisture_class\"].unique())\n",
    "model = SoilNetDualHead(num_classes=num_classes).to(device)\n",
    "\n",
    "checkpoint_path = r\"C:\\Users\\PC\\soilNet\\checkpoints_VicReg\\vicreg_model_final_mu_20.0.pth\"\n",
    "try:\n",
    "    checkpoint = torch.load(checkpoint_path, map_location=device, weights_only=False)\n",
    "    if isinstance(checkpoint, dict) and 'model_state_dict' in checkpoint:\n",
    "        model_state_dict = checkpoint['model_state_dict']\n",
    "    else:\n",
    "        model_state_dict = checkpoint\n",
    "    model_dict = model.state_dict()\n",
    "    pretrained_dict = {k: v for k, v in model_state_dict.items() \n",
    "                       if k in model_dict and model_dict[k].shape == v.shape}\n",
    "    temp_model_dict = model_dict.copy()\n",
    "    temp_model_dict.update(pretrained_dict)\n",
    "    missing_keys, unexpected_keys = model.load_state_dict(temp_model_dict, strict=False)\n",
    "    print(f\"Loaded pretrained weights from {checkpoint_path}\")\n",
    "    if missing_keys:\n",
    "        print(f\"Some keys missing in checkpoint and not loaded: {missing_keys}\")\n",
    "    if unexpected_keys:\n",
    "        print(f\"Some keys in checkpoint not in model and ignored: {unexpected_keys}\")\n",
    "except FileNotFoundError:\n",
    "    print(f\"Checkpoint not found: {checkpoint_path}. Using random initialization.\")\n",
    "except Exception as e:\n",
    "    print(f\"Error loading checkpoint: {e}. Using random initialization.\")\n",
    "\n",
    "optimizer = torch.optim.Adam(model.parameters(), lr=1e-4)\n",
    "reg_criterion = nn.MSELoss()\n",
    "cls_criterion = nn.CrossEntropyLoss()\n",
    "\n",
    "num_epochs = 100\n",
    "loss_history = []\n",
    "\n",
    "for epoch in range(num_epochs):\n",
    "    print(f\"Epoch {epoch+1}/{num_epochs}\")\n",
    "    model.train()\n",
    "    total_loss, total_reg_loss, total_cls_loss = 0, 0, 0\n",
    "    for batch in tqdm(dataloader, leave=False):\n",
    "        x_img = batch[\"image\"].to(device)\n",
    "        x_light = batch[\"light\"].to(device)\n",
    "        y_reg = batch[\"regression_target\"].to(device)\n",
    "        y_cls = batch[\"class_target\"].to(device)\n",
    "        optimizer.zero_grad()\n",
    "        pred_reg, pred_cls = model(x_img, x_light)\n",
    "        loss_reg = reg_criterion(pred_reg, y_reg)\n",
    "        loss_cls = cls_criterion(pred_cls, y_cls)\n",
    "        loss = loss_reg + loss_cls\n",
    "        loss.backward()\n",
    "        optimizer.step()\n",
    "        total_loss += loss.item()\n",
    "        total_reg_loss += loss_reg.item()\n",
    "        total_cls_loss += loss_cls.item()\n",
    "    avg_total = total_loss / len(dataloader)\n",
    "    loss_history.append((avg_total, total_reg_loss / len(dataloader), total_cls_loss / len(dataloader)))\n",
    "    print(f\"Loss → Total: {avg_total:.4f}, Regression: {total_reg_loss / len(dataloader):.4f}, Classification: {total_cls_loss / len(dataloader):.4f}\")\n",
    "    model.eval()\n",
    "    y_true_reg, y_pred_reg = [], []\n",
    "    y_true_cls, y_pred_cls = [], []\n",
    "    with torch.no_grad():\n",
    "        for batch in dataloader:\n",
    "            x_img = batch[\"image\"].to(device)\n",
    "            x_light = batch[\"light\"].to(device)\n",
    "            y_reg = batch[\"regression_target\"].to(device)\n",
    "            y_cls = batch[\"class_target\"].to(device)\n",
    "            pred_reg, pred_cls = model(x_img, x_light)\n",
    "            y_true_reg.extend(y_reg.cpu().numpy())\n",
    "            y_pred_reg.extend(pred_reg.cpu().numpy())\n",
    "            y_true_cls.extend(y_cls.cpu().numpy())\n",
    "            y_pred_cls.extend(pred_cls.argmax(dim=1).cpu().numpy())\n",
    "    y_true_reg = np.array(y_true_reg) * 100\n",
    "    y_pred_reg = np.array(y_pred_reg) * 100\n",
    "    metrics = {}\n",
    "    for i, label in enumerate([\"SM_0\", \"SM_20\"]):\n",
    "        metrics[label] = {\n",
    "            \"RMSE\": mean_squared_error(y_true_reg[:, i], y_pred_reg[:, i]) ** 0.5,\n",
    "            \"MAE\": mean_absolute_error(y_true_reg[:, i], y_pred_reg[:, i]),\n",
    "            \"ME\": np.mean(y_pred_reg[:, i] - y_true_reg[:, i]),\n",
    "        }\n",
    "    metrics[\"Classification\"] = {\n",
    "        \"Accuracy\": accuracy_score(y_true_cls, y_pred_cls),\n",
    "        \"F1-score\": f1_score(y_true_cls, y_pred_cls, average=\"weighted\")\n",
    "    }\n",
    "    for label in [\"SM_0\", \"SM_20\"]:\n",
    "        print(f\"{label} → RMSE: {metrics[label]['RMSE']:.8f}, MAE: {metrics[label]['MAE']:.8f}, ME: {metrics[label]['ME']:.8f}\")\n",
    "    print(f\"Classification → Accuracy: {metrics['Classification']['Accuracy']:.8f}, F1-score: {metrics['Classification']['F1-score']:.8f}\")\n",
    "\n",
    "torch.save(model.state_dict(), r\"C:\\Users\\PC\\soilNet\\checkpoints_VicReg\\finetune_mu_20.0.pth\")"
   ]
  },
  {
   "cell_type": "code",
   "execution_count": null,
   "id": "42bf7fea-5ac2-4865-971c-98a8b17ab742",
   "metadata": {},
   "outputs": [],
   "source": [
    "Thầy đang tranin"
   ]
  }
 ],
 "metadata": {
  "kernelspec": {
   "display_name": "Python 3 (ipykernel)",
   "language": "python",
   "name": "python3"
  },
  "language_info": {
   "codemirror_mode": {
    "name": "ipython",
    "version": 3
   },
   "file_extension": ".py",
   "mimetype": "text/x-python",
   "name": "python",
   "nbconvert_exporter": "python",
   "pygments_lexer": "ipython3",
   "version": "3.10.16"
  }
 },
 "nbformat": 4,
 "nbformat_minor": 5
}
