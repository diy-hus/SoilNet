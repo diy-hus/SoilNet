{
 "cells": [
  {
   "cell_type": "code",
   "execution_count": 1,
   "id": "37ffe4d9-53e0-48ad-b3ab-365e1ba12eb8",
   "metadata": {},
   "outputs": [
    {
     "name": "stdout",
     "output_type": "stream",
     "text": [
      "Using device: cuda\n",
      "PyTorch version: 2.6.0+cu118\n",
      "Total labeled images before check: 2057\n"
     ]
    },
    {
     "data": {
      "application/vnd.jupyter.widget-view+json": {
       "model_id": "18ef8d7f690b4493ac848625d90ea23e",
       "version_major": 2,
       "version_minor": 0
      },
      "text/plain": [
       "  0%|          | 0/2057 [00:00<?, ?it/s]"
      ]
     },
     "metadata": {},
     "output_type": "display_data"
    },
    {
     "name": "stdout",
     "output_type": "stream",
     "text": [
      "Image error: F:\\Soil_Labeled_Data\\M_10_20\\L_60_70\\alluvial\\IMG_0683.JPG\n",
      "Replaced with: F:\\Soil_Labeled_Data\\augmented_fallback\\aug_IMG_0683.JPG\n",
      "Image error: F:\\Soil_Labeled_Data\\M_10_20\\L_70_80\\alluvial\\IMG_0703.JPG\n",
      "Replaced with: F:\\Soil_Labeled_Data\\augmented_fallback\\aug_IMG_0703.JPG\n",
      "Image error: F:\\Soil_Labeled_Data\\M_10_20\\L_80_90\\alluvial\\IMG_0746.JPG\n",
      "Replaced with: F:\\Soil_Labeled_Data\\augmented_fallback\\aug_IMG_0746.JPG\n",
      "Image error: F:\\Soil_Labeled_Data\\M_10_20\\L_80_90\\alluvial\\IMG_0753.JPG\n",
      "Replaced with: F:\\Soil_Labeled_Data\\augmented_fallback\\aug_IMG_0753.JPG\n",
      "Image error: F:\\Soil_Labeled_Data\\M_10_20\\L_80_90\\alluvial\\IMG_0755.JPG\n",
      "Replaced with: F:\\Soil_Labeled_Data\\augmented_fallback\\aug_IMG_0755.JPG\n",
      "Replaced 5 invalid images with augmented versions.\n",
      "Loaded pretrained weights from C:\\Users\\PC\\soilNet\\checkpoints_VicReg_tinyImagenet\\vicreg_model_final_mu_33.0.pth\n",
      "Epoch 1/60\n"
     ]
    },
    {
     "data": {
      "application/vnd.jupyter.widget-view+json": {
       "model_id": "e5b4d01e73c94a13931e165c8f07e369",
       "version_major": 2,
       "version_minor": 0
      },
      "text/plain": [
       "  0%|          | 0/65 [00:00<?, ?it/s]"
      ]
     },
     "metadata": {},
     "output_type": "display_data"
    },
    {
     "name": "stdout",
     "output_type": "stream",
     "text": [
      "Loss → Total: 2.2686, Regression: 0.0923, Classification: 2.1763\n",
      "SM_0 → RMSE: 21.94368263, MAE: 17.73353767, ME: 3.98893070\n",
      "SM_20 → RMSE: 21.95397713, MAE: 17.87633514, ME: 1.06579304\n",
      "Classification → Accuracy: 0.30335440, F1-score: 0.26773211\n",
      "Epoch 2/60\n"
     ]
    },
    {
     "data": {
      "application/vnd.jupyter.widget-view+json": {
       "model_id": "bd837e00a8d045229b583a962166211c",
       "version_major": 2,
       "version_minor": 0
      },
      "text/plain": [
       "  0%|          | 0/65 [00:00<?, ?it/s]"
      ]
     },
     "metadata": {},
     "output_type": "display_data"
    },
    {
     "name": "stdout",
     "output_type": "stream",
     "text": [
      "Loss → Total: 1.9673, Regression: 0.0494, Classification: 1.9178\n",
      "SM_0 → RMSE: 18.67228360, MAE: 14.87876892, ME: 0.28199050\n",
      "SM_20 → RMSE: 19.04860774, MAE: 15.00170135, ME: -0.40327609\n",
      "Classification → Accuracy: 0.35585805, F1-score: 0.33823414\n",
      "Epoch 3/60\n"
     ]
    },
    {
     "data": {
      "application/vnd.jupyter.widget-view+json": {
       "model_id": "88e330c42b3d46cd8795e9b2bcefd76e",
       "version_major": 2,
       "version_minor": 0
      },
      "text/plain": [
       "  0%|          | 0/65 [00:00<?, ?it/s]"
      ]
     },
     "metadata": {},
     "output_type": "display_data"
    },
    {
     "name": "stdout",
     "output_type": "stream",
     "text": [
      "Loss → Total: 1.7671, Regression: 0.0376, Classification: 1.7295\n",
      "SM_0 → RMSE: 15.96303915, MAE: 12.24296856, ME: 1.33381748\n",
      "SM_20 → RMSE: 16.24784766, MAE: 12.60807610, ME: 0.61782449\n",
      "Classification → Accuracy: 0.40690326, F1-score: 0.38302055\n",
      "Epoch 4/60\n"
     ]
    },
    {
     "data": {
      "application/vnd.jupyter.widget-view+json": {
       "model_id": "86349a7ce33c42539c1c82b676a88261",
       "version_major": 2,
       "version_minor": 0
      },
      "text/plain": [
       "  0%|          | 0/65 [00:00<?, ?it/s]"
      ]
     },
     "metadata": {},
     "output_type": "display_data"
    },
    {
     "name": "stdout",
     "output_type": "stream",
     "text": [
      "Loss → Total: 1.6210, Regression: 0.0353, Classification: 1.5857\n",
      "SM_0 → RMSE: 14.56890859, MAE: 11.20082951, ME: 1.46304154\n",
      "SM_20 → RMSE: 15.08470752, MAE: 11.93608665, ME: -2.40051079\n",
      "Classification → Accuracy: 0.45794847, F1-score: 0.43397167\n",
      "Epoch 5/60\n"
     ]
    },
    {
     "data": {
      "application/vnd.jupyter.widget-view+json": {
       "model_id": "5742dce05a43418aa1851d11b0de747b",
       "version_major": 2,
       "version_minor": 0
      },
      "text/plain": [
       "  0%|          | 0/65 [00:00<?, ?it/s]"
      ]
     },
     "metadata": {},
     "output_type": "display_data"
    },
    {
     "name": "stdout",
     "output_type": "stream",
     "text": [
      "Loss → Total: 1.5028, Regression: 0.0292, Classification: 1.4736\n",
      "SM_0 → RMSE: 14.91056253, MAE: 11.61494637, ME: 1.96341908\n",
      "SM_20 → RMSE: 15.17554396, MAE: 11.73051071, ME: 2.27938533\n",
      "Classification → Accuracy: 0.50753525, F1-score: 0.50248000\n",
      "Epoch 6/60\n"
     ]
    },
    {
     "data": {
      "application/vnd.jupyter.widget-view+json": {
       "model_id": "487815b1bd9e44dd9bdab3fefde30f4c",
       "version_major": 2,
       "version_minor": 0
      },
      "text/plain": [
       "  0%|          | 0/65 [00:00<?, ?it/s]"
      ]
     },
     "metadata": {},
     "output_type": "display_data"
    },
    {
     "name": "stdout",
     "output_type": "stream",
     "text": [
      "Loss → Total: 1.3975, Regression: 0.0254, Classification: 1.3721\n",
      "SM_0 → RMSE: 12.06970948, MAE: 9.39884377, ME: -0.92416346\n",
      "SM_20 → RMSE: 12.30931337, MAE: 9.58198929, ME: -1.71503818\n",
      "Classification → Accuracy: 0.53524550, F1-score: 0.52010258\n",
      "Epoch 7/60\n"
     ]
    },
    {
     "data": {
      "application/vnd.jupyter.widget-view+json": {
       "model_id": "b1994c3895774072a2d705f821b2b555",
       "version_major": 2,
       "version_minor": 0
      },
      "text/plain": [
       "  0%|          | 0/65 [00:00<?, ?it/s]"
      ]
     },
     "metadata": {},
     "output_type": "display_data"
    },
    {
     "name": "stdout",
     "output_type": "stream",
     "text": [
      "Loss → Total: 1.2885, Regression: 0.0224, Classification: 1.2660\n",
      "SM_0 → RMSE: 11.57788185, MAE: 8.86059952, ME: 2.23946977\n",
      "SM_20 → RMSE: 12.85704967, MAE: 9.99180794, ME: 3.66564202\n",
      "Classification → Accuracy: 0.57705396, F1-score: 0.56103319\n",
      "Epoch 8/60\n"
     ]
    },
    {
     "data": {
      "application/vnd.jupyter.widget-view+json": {
       "model_id": "51fbf87698ad4badbda49cbbc0feaf0e",
       "version_major": 2,
       "version_minor": 0
      },
      "text/plain": [
       "  0%|          | 0/65 [00:00<?, ?it/s]"
      ]
     },
     "metadata": {},
     "output_type": "display_data"
    },
    {
     "name": "stdout",
     "output_type": "stream",
     "text": [
      "Loss → Total: 1.2395, Regression: 0.0206, Classification: 1.2189\n",
      "SM_0 → RMSE: 11.29935767, MAE: 8.87370491, ME: 2.63502073\n",
      "SM_20 → RMSE: 11.68427285, MAE: 8.99423885, ME: 2.02231145\n",
      "Classification → Accuracy: 0.61983471, F1-score: 0.61754573\n",
      "Epoch 9/60\n"
     ]
    },
    {
     "data": {
      "application/vnd.jupyter.widget-view+json": {
       "model_id": "fb1d681fbd5a406194af26fa05e8c061",
       "version_major": 2,
       "version_minor": 0
      },
      "text/plain": [
       "  0%|          | 0/65 [00:00<?, ?it/s]"
      ]
     },
     "metadata": {},
     "output_type": "display_data"
    },
    {
     "name": "stdout",
     "output_type": "stream",
     "text": [
      "Loss → Total: 1.1747, Regression: 0.0181, Classification: 1.1566\n",
      "SM_0 → RMSE: 10.63114626, MAE: 8.24259949, ME: -0.71855998\n",
      "SM_20 → RMSE: 10.96908664, MAE: 8.48735046, ME: -0.61118186\n",
      "Classification → Accuracy: 0.65824016, F1-score: 0.65742422\n",
      "Epoch 10/60\n"
     ]
    },
    {
     "data": {
      "application/vnd.jupyter.widget-view+json": {
       "model_id": "e7916331e4a54a6fb5ff2f9f9b181cde",
       "version_major": 2,
       "version_minor": 0
      },
      "text/plain": [
       "  0%|          | 0/65 [00:00<?, ?it/s]"
      ]
     },
     "metadata": {},
     "output_type": "display_data"
    },
    {
     "name": "stdout",
     "output_type": "stream",
     "text": [
      "Loss → Total: 1.1558, Regression: 0.0186, Classification: 1.1373\n",
      "SM_0 → RMSE: 10.02103386, MAE: 7.84157181, ME: 1.67822194\n",
      "SM_20 → RMSE: 10.47744290, MAE: 8.26680851, ME: 0.95406294\n",
      "Classification → Accuracy: 0.64997569, F1-score: 0.64758489\n",
      "Epoch 11/60\n"
     ]
    },
    {
     "data": {
      "application/vnd.jupyter.widget-view+json": {
       "model_id": "b2928439fb1b45ec998b006b1cef375e",
       "version_major": 2,
       "version_minor": 0
      },
      "text/plain": [
       "  0%|          | 0/65 [00:00<?, ?it/s]"
      ]
     },
     "metadata": {},
     "output_type": "display_data"
    },
    {
     "name": "stdout",
     "output_type": "stream",
     "text": [
      "Loss → Total: 1.1071, Regression: 0.0172, Classification: 1.0898\n",
      "SM_0 → RMSE: 9.12859201, MAE: 6.93578148, ME: -0.37320206\n",
      "SM_20 → RMSE: 9.53712877, MAE: 7.21963310, ME: -0.36269838\n",
      "Classification → Accuracy: 0.72095284, F1-score: 0.72077658\n",
      "Epoch 12/60\n"
     ]
    },
    {
     "data": {
      "application/vnd.jupyter.widget-view+json": {
       "model_id": "fbaf0770c4dd4f42b83f41ab97920996",
       "version_major": 2,
       "version_minor": 0
      },
      "text/plain": [
       "  0%|          | 0/65 [00:00<?, ?it/s]"
      ]
     },
     "metadata": {},
     "output_type": "display_data"
    },
    {
     "name": "stdout",
     "output_type": "stream",
     "text": [
      "Loss → Total: 1.0035, Regression: 0.0156, Classification: 0.9879\n",
      "SM_0 → RMSE: 10.88981689, MAE: 8.70546818, ME: -1.56026173\n",
      "SM_20 → RMSE: 11.70741314, MAE: 9.31916523, ME: -0.11791182\n",
      "Classification → Accuracy: 0.72775887, F1-score: 0.72452754\n",
      "Epoch 13/60\n"
     ]
    },
    {
     "data": {
      "application/vnd.jupyter.widget-view+json": {
       "model_id": "bca24e4e8a944f23bd38b91e92f8c3b3",
       "version_major": 2,
       "version_minor": 0
      },
      "text/plain": [
       "  0%|          | 0/65 [00:00<?, ?it/s]"
      ]
     },
     "metadata": {},
     "output_type": "display_data"
    },
    {
     "name": "stdout",
     "output_type": "stream",
     "text": [
      "Loss → Total: 0.9448, Regression: 0.0154, Classification: 0.9295\n",
      "SM_0 → RMSE: 9.38619774, MAE: 7.34140062, ME: -1.87298417\n",
      "SM_20 → RMSE: 9.37870329, MAE: 7.25683737, ME: -1.17233348\n",
      "Classification → Accuracy: 0.75984443, F1-score: 0.75818635\n",
      "Epoch 14/60\n"
     ]
    },
    {
     "data": {
      "application/vnd.jupyter.widget-view+json": {
       "model_id": "cea16eb764a8401498522009bf6d87f6",
       "version_major": 2,
       "version_minor": 0
      },
      "text/plain": [
       "  0%|          | 0/65 [00:00<?, ?it/s]"
      ]
     },
     "metadata": {},
     "output_type": "display_data"
    },
    {
     "name": "stdout",
     "output_type": "stream",
     "text": [
      "Loss → Total: 0.8883, Regression: 0.0134, Classification: 0.8749\n",
      "SM_0 → RMSE: 8.92925688, MAE: 6.83315849, ME: 0.22596726\n",
      "SM_20 → RMSE: 9.37689800, MAE: 7.15803146, ME: 0.13858883\n",
      "Classification → Accuracy: 0.75109383, F1-score: 0.74364277\n",
      "Epoch 15/60\n"
     ]
    },
    {
     "data": {
      "application/vnd.jupyter.widget-view+json": {
       "model_id": "ee8756aa4f584038b254a46d27497b52",
       "version_major": 2,
       "version_minor": 0
      },
      "text/plain": [
       "  0%|          | 0/65 [00:00<?, ?it/s]"
      ]
     },
     "metadata": {},
     "output_type": "display_data"
    },
    {
     "name": "stdout",
     "output_type": "stream",
     "text": [
      "Loss → Total: 0.9105, Regression: 0.0134, Classification: 0.8971\n",
      "SM_0 → RMSE: 8.29773979, MAE: 6.35622454, ME: -0.12796284\n",
      "SM_20 → RMSE: 8.93393706, MAE: 6.79990864, ME: -0.13845532\n",
      "Classification → Accuracy: 0.79581915, F1-score: 0.79453859\n",
      "Epoch 16/60\n"
     ]
    },
    {
     "data": {
      "application/vnd.jupyter.widget-view+json": {
       "model_id": "317a02e28c8f4a8bb840b935c22ee2ac",
       "version_major": 2,
       "version_minor": 0
      },
      "text/plain": [
       "  0%|          | 0/65 [00:00<?, ?it/s]"
      ]
     },
     "metadata": {},
     "output_type": "display_data"
    },
    {
     "name": "stdout",
     "output_type": "stream",
     "text": [
      "Loss → Total: 0.8429, Regression: 0.0123, Classification: 0.8306\n",
      "SM_0 → RMSE: 8.41550455, MAE: 6.50992060, ME: -2.68556452\n",
      "SM_20 → RMSE: 8.51402427, MAE: 6.47983646, ME: -1.99125040\n",
      "Classification → Accuracy: 0.79436072, F1-score: 0.79511361\n",
      "Epoch 17/60\n"
     ]
    },
    {
     "data": {
      "application/vnd.jupyter.widget-view+json": {
       "model_id": "30c9cc06f4d14579a8f4b5a3bb77ead6",
       "version_major": 2,
       "version_minor": 0
      },
      "text/plain": [
       "  0%|          | 0/65 [00:00<?, ?it/s]"
      ]
     },
     "metadata": {},
     "output_type": "display_data"
    },
    {
     "name": "stdout",
     "output_type": "stream",
     "text": [
      "Loss → Total: 0.8357, Regression: 0.0131, Classification: 0.8226\n",
      "SM_0 → RMSE: 7.95192315, MAE: 6.13377142, ME: 0.04883928\n",
      "SM_20 → RMSE: 8.48329181, MAE: 6.49186516, ME: 0.03669047\n",
      "Classification → Accuracy: 0.81332037, F1-score: 0.81368124\n",
      "Epoch 18/60\n"
     ]
    },
    {
     "data": {
      "application/vnd.jupyter.widget-view+json": {
       "model_id": "1a9dd6ffdb86431d850f3066369bf9d4",
       "version_major": 2,
       "version_minor": 0
      },
      "text/plain": [
       "  0%|          | 0/65 [00:00<?, ?it/s]"
      ]
     },
     "metadata": {},
     "output_type": "display_data"
    },
    {
     "name": "stdout",
     "output_type": "stream",
     "text": [
      "Loss → Total: 0.7840, Regression: 0.0133, Classification: 0.7707\n",
      "SM_0 → RMSE: 9.22530512, MAE: 7.17985010, ME: -0.30250108\n",
      "SM_20 → RMSE: 9.19144609, MAE: 7.07000494, ME: -0.00108687\n",
      "Classification → Accuracy: 0.80748663, F1-score: 0.80999350\n",
      "Epoch 19/60\n"
     ]
    },
    {
     "data": {
      "application/vnd.jupyter.widget-view+json": {
       "model_id": "4241c25492bf489c9e8226754bbf3aaf",
       "version_major": 2,
       "version_minor": 0
      },
      "text/plain": [
       "  0%|          | 0/65 [00:00<?, ?it/s]"
      ]
     },
     "metadata": {},
     "output_type": "display_data"
    },
    {
     "name": "stdout",
     "output_type": "stream",
     "text": [
      "Loss → Total: 0.7456, Regression: 0.0103, Classification: 0.7353\n",
      "SM_0 → RMSE: 7.86464749, MAE: 5.95007801, ME: -0.59176093\n",
      "SM_20 → RMSE: 8.10888859, MAE: 6.20093536, ME: -1.76550186\n",
      "Classification → Accuracy: 0.84297521, F1-score: 0.84277419\n",
      "Epoch 20/60\n"
     ]
    },
    {
     "data": {
      "application/vnd.jupyter.widget-view+json": {
       "model_id": "5e152ccf444c43be836fadb40a2e7ce2",
       "version_major": 2,
       "version_minor": 0
      },
      "text/plain": [
       "  0%|          | 0/65 [00:00<?, ?it/s]"
      ]
     },
     "metadata": {},
     "output_type": "display_data"
    },
    {
     "name": "stdout",
     "output_type": "stream",
     "text": [
      "Loss → Total: 0.7301, Regression: 0.0099, Classification: 0.7202\n",
      "SM_0 → RMSE: 8.04249587, MAE: 6.16927290, ME: -1.59900606\n",
      "SM_20 → RMSE: 7.98308014, MAE: 6.16816950, ME: -1.75362492\n",
      "Classification → Accuracy: 0.84589208, F1-score: 0.84662629\n",
      "Epoch 21/60\n"
     ]
    },
    {
     "data": {
      "application/vnd.jupyter.widget-view+json": {
       "model_id": "9e2f973a5d554853848cfbe2f002282b",
       "version_major": 2,
       "version_minor": 0
      },
      "text/plain": [
       "  0%|          | 0/65 [00:00<?, ?it/s]"
      ]
     },
     "metadata": {},
     "output_type": "display_data"
    },
    {
     "name": "stdout",
     "output_type": "stream",
     "text": [
      "Loss → Total: 0.7701, Regression: 0.0116, Classification: 0.7585\n",
      "SM_0 → RMSE: 7.70400866, MAE: 5.98072529, ME: 1.91907251\n",
      "SM_20 → RMSE: 8.01638880, MAE: 6.23963070, ME: 1.12833917\n",
      "Classification → Accuracy: 0.85367039, F1-score: 0.85310310\n",
      "Epoch 22/60\n"
     ]
    },
    {
     "data": {
      "application/vnd.jupyter.widget-view+json": {
       "model_id": "cc8d2cac5bc64af6a86a6c71b5351edd",
       "version_major": 2,
       "version_minor": 0
      },
      "text/plain": [
       "  0%|          | 0/65 [00:00<?, ?it/s]"
      ]
     },
     "metadata": {},
     "output_type": "display_data"
    },
    {
     "name": "stdout",
     "output_type": "stream",
     "text": [
      "Loss → Total: 0.7289, Regression: 0.0113, Classification: 0.7176\n",
      "SM_0 → RMSE: 8.04872267, MAE: 6.03672981, ME: 1.34868336\n",
      "SM_20 → RMSE: 8.20364210, MAE: 6.18901920, ME: 1.32897532\n",
      "Classification → Accuracy: 0.85658726, F1-score: 0.85619675\n",
      "Epoch 23/60\n"
     ]
    },
    {
     "data": {
      "application/vnd.jupyter.widget-view+json": {
       "model_id": "8d5cf2b4a5264787b7ee76ea925a46a2",
       "version_major": 2,
       "version_minor": 0
      },
      "text/plain": [
       "  0%|          | 0/65 [00:00<?, ?it/s]"
      ]
     },
     "metadata": {},
     "output_type": "display_data"
    },
    {
     "name": "stdout",
     "output_type": "stream",
     "text": [
      "Loss → Total: 0.7115, Regression: 0.0097, Classification: 0.7018\n",
      "SM_0 → RMSE: 7.60493656, MAE: 5.83738565, ME: -0.46334177\n",
      "SM_20 → RMSE: 7.71982904, MAE: 5.95954609, ME: 0.23069023\n",
      "Classification → Accuracy: 0.84054448, F1-score: 0.83741774\n",
      "Epoch 24/60\n"
     ]
    },
    {
     "data": {
      "application/vnd.jupyter.widget-view+json": {
       "model_id": "faf2928b284d4a63ad0ba49e46944d3a",
       "version_major": 2,
       "version_minor": 0
      },
      "text/plain": [
       "  0%|          | 0/65 [00:00<?, ?it/s]"
      ]
     },
     "metadata": {},
     "output_type": "display_data"
    },
    {
     "name": "stdout",
     "output_type": "stream",
     "text": [
      "Loss → Total: 0.6899, Regression: 0.0095, Classification: 0.6804\n",
      "SM_0 → RMSE: 7.93709365, MAE: 6.07791233, ME: 0.86201936\n",
      "SM_20 → RMSE: 8.53351672, MAE: 6.53970098, ME: -0.19810623\n",
      "Classification → Accuracy: 0.85269810, F1-score: 0.85394635\n",
      "Epoch 25/60\n"
     ]
    },
    {
     "data": {
      "application/vnd.jupyter.widget-view+json": {
       "model_id": "8b41c924437145eea50ead8c6e0565e7",
       "version_major": 2,
       "version_minor": 0
      },
      "text/plain": [
       "  0%|          | 0/65 [00:00<?, ?it/s]"
      ]
     },
     "metadata": {},
     "output_type": "display_data"
    },
    {
     "name": "stdout",
     "output_type": "stream",
     "text": [
      "Loss → Total: 0.6524, Regression: 0.0103, Classification: 0.6421\n",
      "SM_0 → RMSE: 7.15449123, MAE: 5.58165073, ME: -1.98081565\n",
      "SM_20 → RMSE: 7.70782983, MAE: 5.98927641, ME: -2.69722605\n",
      "Classification → Accuracy: 0.86582402, F1-score: 0.86550042\n",
      "Epoch 26/60\n"
     ]
    },
    {
     "data": {
      "application/vnd.jupyter.widget-view+json": {
       "model_id": "8c7f893d18ae4f2aa76706b96e72ec26",
       "version_major": 2,
       "version_minor": 0
      },
      "text/plain": [
       "  0%|          | 0/65 [00:00<?, ?it/s]"
      ]
     },
     "metadata": {},
     "output_type": "display_data"
    },
    {
     "name": "stdout",
     "output_type": "stream",
     "text": [
      "Loss → Total: 0.6298, Regression: 0.0095, Classification: 0.6203\n",
      "SM_0 → RMSE: 6.91435463, MAE: 5.24875736, ME: -0.45548609\n",
      "SM_20 → RMSE: 7.24562888, MAE: 5.57271004, ME: -0.83710027\n",
      "Classification → Accuracy: 0.87943607, F1-score: 0.87874683\n",
      "Epoch 27/60\n"
     ]
    },
    {
     "data": {
      "application/vnd.jupyter.widget-view+json": {
       "model_id": "45d82c57898c42adb6ff5a85932eee28",
       "version_major": 2,
       "version_minor": 0
      },
      "text/plain": [
       "  0%|          | 0/65 [00:00<?, ?it/s]"
      ]
     },
     "metadata": {},
     "output_type": "display_data"
    },
    {
     "name": "stdout",
     "output_type": "stream",
     "text": [
      "Loss → Total: 0.6181, Regression: 0.0095, Classification: 0.6086\n",
      "SM_0 → RMSE: 7.75671858, MAE: 6.03521013, ME: -2.21017981\n",
      "SM_20 → RMSE: 7.80537810, MAE: 6.02888966, ME: -2.20883536\n",
      "Classification → Accuracy: 0.86728245, F1-score: 0.86815200\n",
      "Epoch 28/60\n"
     ]
    },
    {
     "data": {
      "application/vnd.jupyter.widget-view+json": {
       "model_id": "21de8a23b962443cb76cd9dea1264734",
       "version_major": 2,
       "version_minor": 0
      },
      "text/plain": [
       "  0%|          | 0/65 [00:00<?, ?it/s]"
      ]
     },
     "metadata": {},
     "output_type": "display_data"
    },
    {
     "name": "stdout",
     "output_type": "stream",
     "text": [
      "Loss → Total: 0.6185, Regression: 0.0096, Classification: 0.6089\n",
      "SM_0 → RMSE: 6.79282499, MAE: 5.24563646, ME: -1.28241289\n",
      "SM_20 → RMSE: 7.24702024, MAE: 5.63969278, ME: -0.75159538\n",
      "Classification → Accuracy: 0.88186680, F1-score: 0.88276963\n",
      "Epoch 29/60\n"
     ]
    },
    {
     "data": {
      "application/vnd.jupyter.widget-view+json": {
       "model_id": "9d8afec636454622be42bdbb71131e06",
       "version_major": 2,
       "version_minor": 0
      },
      "text/plain": [
       "  0%|          | 0/65 [00:00<?, ?it/s]"
      ]
     },
     "metadata": {},
     "output_type": "display_data"
    },
    {
     "name": "stdout",
     "output_type": "stream",
     "text": [
      "Loss → Total: 0.6010, Regression: 0.0091, Classification: 0.5919\n",
      "SM_0 → RMSE: 7.21902214, MAE: 5.56002855, ME: -0.55894685\n",
      "SM_20 → RMSE: 7.35887011, MAE: 5.65314102, ME: -0.35260731\n",
      "Classification → Accuracy: 0.88138065, F1-score: 0.88134123\n",
      "Epoch 30/60\n"
     ]
    },
    {
     "data": {
      "application/vnd.jupyter.widget-view+json": {
       "model_id": "69aa199d49d846ff890809f81f8a8c86",
       "version_major": 2,
       "version_minor": 0
      },
      "text/plain": [
       "  0%|          | 0/65 [00:00<?, ?it/s]"
      ]
     },
     "metadata": {},
     "output_type": "display_data"
    },
    {
     "name": "stdout",
     "output_type": "stream",
     "text": [
      "Loss → Total: 0.5685, Regression: 0.0078, Classification: 0.5607\n",
      "SM_0 → RMSE: 7.18227641, MAE: 5.57471991, ME: 1.36636615\n",
      "SM_20 → RMSE: 7.29183989, MAE: 5.68032455, ME: 0.89450198\n",
      "Classification → Accuracy: 0.89353427, F1-score: 0.89283019\n",
      "Epoch 31/60\n"
     ]
    },
    {
     "data": {
      "application/vnd.jupyter.widget-view+json": {
       "model_id": "d4a4dbddeb834bfb801f2a82727e23cb",
       "version_major": 2,
       "version_minor": 0
      },
      "text/plain": [
       "  0%|          | 0/65 [00:00<?, ?it/s]"
      ]
     },
     "metadata": {},
     "output_type": "display_data"
    },
    {
     "name": "stdout",
     "output_type": "stream",
     "text": [
      "Loss → Total: 0.5268, Regression: 0.0079, Classification: 0.5189\n",
      "SM_0 → RMSE: 6.49783289, MAE: 4.98979473, ME: 0.44947338\n",
      "SM_20 → RMSE: 6.95518179, MAE: 5.39880276, ME: 0.99126446\n",
      "Classification → Accuracy: 0.91006320, F1-score: 0.91091255\n",
      "Epoch 32/60\n"
     ]
    },
    {
     "data": {
      "application/vnd.jupyter.widget-view+json": {
       "model_id": "b2afcc6e58ed479f9457516856320d49",
       "version_major": 2,
       "version_minor": 0
      },
      "text/plain": [
       "  0%|          | 0/65 [00:00<?, ?it/s]"
      ]
     },
     "metadata": {},
     "output_type": "display_data"
    },
    {
     "name": "stdout",
     "output_type": "stream",
     "text": [
      "Loss → Total: 0.5531, Regression: 0.0080, Classification: 0.5451\n",
      "SM_0 → RMSE: 7.02159086, MAE: 5.37087679, ME: 1.12997985\n",
      "SM_20 → RMSE: 7.08265255, MAE: 5.44697523, ME: 1.92851436\n",
      "Classification → Accuracy: 0.89402042, F1-score: 0.89458227\n",
      "Epoch 33/60\n"
     ]
    },
    {
     "data": {
      "application/vnd.jupyter.widget-view+json": {
       "model_id": "b94981c1dba14bb4b3367b22e5ca33e5",
       "version_major": 2,
       "version_minor": 0
      },
      "text/plain": [
       "  0%|          | 0/65 [00:00<?, ?it/s]"
      ]
     },
     "metadata": {},
     "output_type": "display_data"
    },
    {
     "name": "stdout",
     "output_type": "stream",
     "text": [
      "Loss → Total: 0.5567, Regression: 0.0082, Classification: 0.5485\n",
      "SM_0 → RMSE: 6.90375788, MAE: 5.21974039, ME: -1.32352614\n",
      "SM_20 → RMSE: 7.07568506, MAE: 5.48254728, ME: -0.29365742\n",
      "Classification → Accuracy: 0.89158969, F1-score: 0.89052900\n",
      "Epoch 34/60\n"
     ]
    },
    {
     "data": {
      "application/vnd.jupyter.widget-view+json": {
       "model_id": "aeeac6b72c2c4614b00eebdf70394940",
       "version_major": 2,
       "version_minor": 0
      },
      "text/plain": [
       "  0%|          | 0/65 [00:00<?, ?it/s]"
      ]
     },
     "metadata": {},
     "output_type": "display_data"
    },
    {
     "name": "stdout",
     "output_type": "stream",
     "text": [
      "Loss → Total: 0.5187, Regression: 0.0083, Classification: 0.5104\n",
      "SM_0 → RMSE: 6.52579632, MAE: 4.98110676, ME: 1.40691602\n",
      "SM_20 → RMSE: 6.76012876, MAE: 5.24643469, ME: 1.56419039\n",
      "Classification → Accuracy: 0.90131259, F1-score: 0.90237240\n",
      "Epoch 35/60\n"
     ]
    },
    {
     "data": {
      "application/vnd.jupyter.widget-view+json": {
       "model_id": "12e0ba29302643f587d9d7556866e8cc",
       "version_major": 2,
       "version_minor": 0
      },
      "text/plain": [
       "  0%|          | 0/65 [00:00<?, ?it/s]"
      ]
     },
     "metadata": {},
     "output_type": "display_data"
    },
    {
     "name": "stdout",
     "output_type": "stream",
     "text": [
      "Loss → Total: 0.4862, Regression: 0.0078, Classification: 0.4784\n",
      "SM_0 → RMSE: 6.42497294, MAE: 4.93397141, ME: 0.15691510\n",
      "SM_20 → RMSE: 6.67382898, MAE: 5.14742613, ME: 0.32333577\n",
      "Classification → Accuracy: 0.91929995, F1-score: 0.91964316\n",
      "Epoch 36/60\n"
     ]
    },
    {
     "data": {
      "application/vnd.jupyter.widget-view+json": {
       "model_id": "e4d305d28193439aaff0f180eb12cbc2",
       "version_major": 2,
       "version_minor": 0
      },
      "text/plain": [
       "  0%|          | 0/65 [00:00<?, ?it/s]"
      ]
     },
     "metadata": {},
     "output_type": "display_data"
    },
    {
     "name": "stdout",
     "output_type": "stream",
     "text": [
      "Loss → Total: 0.5122, Regression: 0.0076, Classification: 0.5046\n",
      "SM_0 → RMSE: 6.95597620, MAE: 5.35672951, ME: -0.37705034\n",
      "SM_20 → RMSE: 6.65397354, MAE: 5.11762238, ME: 0.09774203\n",
      "Classification → Accuracy: 0.91929995, F1-score: 0.91990500\n",
      "Epoch 37/60\n"
     ]
    },
    {
     "data": {
      "application/vnd.jupyter.widget-view+json": {
       "model_id": "a077d7ac271048bba74fc249c7f6dbe1",
       "version_major": 2,
       "version_minor": 0
      },
      "text/plain": [
       "  0%|          | 0/65 [00:00<?, ?it/s]"
      ]
     },
     "metadata": {},
     "output_type": "display_data"
    },
    {
     "name": "stdout",
     "output_type": "stream",
     "text": [
      "Loss → Total: 0.4481, Regression: 0.0075, Classification: 0.4406\n",
      "SM_0 → RMSE: 7.88308882, MAE: 5.95450783, ME: -0.57786912\n",
      "SM_20 → RMSE: 8.25464985, MAE: 6.31233454, ME: -0.81398833\n",
      "Classification → Accuracy: 0.91686923, F1-score: 0.91818576\n",
      "Epoch 38/60\n"
     ]
    },
    {
     "data": {
      "application/vnd.jupyter.widget-view+json": {
       "model_id": "7ea2a1ad243c45919d27d8a7529a0a70",
       "version_major": 2,
       "version_minor": 0
      },
      "text/plain": [
       "  0%|          | 0/65 [00:00<?, ?it/s]"
      ]
     },
     "metadata": {},
     "output_type": "display_data"
    },
    {
     "name": "stdout",
     "output_type": "stream",
     "text": [
      "Loss → Total: 0.4847, Regression: 0.0079, Classification: 0.4768\n",
      "SM_0 → RMSE: 6.49516410, MAE: 4.99582243, ME: -1.67112637\n",
      "SM_20 → RMSE: 6.47646531, MAE: 5.01230621, ME: -1.14093351\n",
      "Classification → Accuracy: 0.91200778, F1-score: 0.91274703\n",
      "Epoch 39/60\n"
     ]
    },
    {
     "data": {
      "application/vnd.jupyter.widget-view+json": {
       "model_id": "3236cb15f48441319ed0863f28e0cdf8",
       "version_major": 2,
       "version_minor": 0
      },
      "text/plain": [
       "  0%|          | 0/65 [00:00<?, ?it/s]"
      ]
     },
     "metadata": {},
     "output_type": "display_data"
    },
    {
     "name": "stdout",
     "output_type": "stream",
     "text": [
      "Loss → Total: 0.4505, Regression: 0.0076, Classification: 0.4429\n",
      "SM_0 → RMSE: 6.76647775, MAE: 5.10822773, ME: 0.01091867\n",
      "SM_20 → RMSE: 6.86527772, MAE: 5.27832365, ME: 0.17238054\n",
      "Classification → Accuracy: 0.92561983, F1-score: 0.92599565\n",
      "Epoch 40/60\n"
     ]
    },
    {
     "data": {
      "application/vnd.jupyter.widget-view+json": {
       "model_id": "24c2cfa621014b548e2338108abb9840",
       "version_major": 2,
       "version_minor": 0
      },
      "text/plain": [
       "  0%|          | 0/65 [00:00<?, ?it/s]"
      ]
     },
     "metadata": {},
     "output_type": "display_data"
    },
    {
     "name": "stdout",
     "output_type": "stream",
     "text": [
      "Loss → Total: 0.4902, Regression: 0.0084, Classification: 0.4818\n",
      "SM_0 → RMSE: 7.24409955, MAE: 5.54233456, ME: -1.98531926\n",
      "SM_20 → RMSE: 7.55668429, MAE: 5.90367413, ME: -2.66276383\n",
      "Classification → Accuracy: 0.92173068, F1-score: 0.92206498\n",
      "Epoch 41/60\n"
     ]
    },
    {
     "data": {
      "application/vnd.jupyter.widget-view+json": {
       "model_id": "205106dd12c24a538d249de6d9af3f80",
       "version_major": 2,
       "version_minor": 0
      },
      "text/plain": [
       "  0%|          | 0/65 [00:00<?, ?it/s]"
      ]
     },
     "metadata": {},
     "output_type": "display_data"
    },
    {
     "name": "stdout",
     "output_type": "stream",
     "text": [
      "Loss → Total: 0.4635, Regression: 0.0086, Classification: 0.4549\n",
      "SM_0 → RMSE: 7.08651109, MAE: 5.47863483, ME: -1.65086532\n",
      "SM_20 → RMSE: 6.87984310, MAE: 5.32124090, ME: -1.76485169\n",
      "Classification → Accuracy: 0.93485659, F1-score: 0.93505917\n",
      "Epoch 42/60\n"
     ]
    },
    {
     "data": {
      "application/vnd.jupyter.widget-view+json": {
       "model_id": "26cc85c110db40aa8527a0b0ed5e5984",
       "version_major": 2,
       "version_minor": 0
      },
      "text/plain": [
       "  0%|          | 0/65 [00:00<?, ?it/s]"
      ]
     },
     "metadata": {},
     "output_type": "display_data"
    },
    {
     "name": "stdout",
     "output_type": "stream",
     "text": [
      "Loss → Total: 0.4498, Regression: 0.0073, Classification: 0.4424\n",
      "SM_0 → RMSE: 6.78598771, MAE: 5.28513622, ME: -1.83124638\n",
      "SM_20 → RMSE: 6.82372654, MAE: 5.35570431, ME: -1.85458112\n",
      "Classification → Accuracy: 0.91249392, F1-score: 0.91191450\n",
      "Epoch 43/60\n"
     ]
    },
    {
     "data": {
      "application/vnd.jupyter.widget-view+json": {
       "model_id": "2ce359d58aca4de3bc862cbc11aacdc5",
       "version_major": 2,
       "version_minor": 0
      },
      "text/plain": [
       "  0%|          | 0/65 [00:00<?, ?it/s]"
      ]
     },
     "metadata": {},
     "output_type": "display_data"
    },
    {
     "name": "stdout",
     "output_type": "stream",
     "text": [
      "Loss → Total: 0.4367, Regression: 0.0071, Classification: 0.4296\n",
      "SM_0 → RMSE: 6.22950375, MAE: 4.77626705, ME: 0.22235692\n",
      "SM_20 → RMSE: 6.63804178, MAE: 5.11938763, ME: 0.59752899\n",
      "Classification → Accuracy: 0.92999514, F1-score: 0.93070292\n",
      "Epoch 44/60\n"
     ]
    },
    {
     "data": {
      "application/vnd.jupyter.widget-view+json": {
       "model_id": "1a19b2c053be4281ba0d6bd6de37d3d6",
       "version_major": 2,
       "version_minor": 0
      },
      "text/plain": [
       "  0%|          | 0/65 [00:00<?, ?it/s]"
      ]
     },
     "metadata": {},
     "output_type": "display_data"
    },
    {
     "name": "stdout",
     "output_type": "stream",
     "text": [
      "Loss → Total: 0.3958, Regression: 0.0070, Classification: 0.3888\n",
      "SM_0 → RMSE: 6.42631225, MAE: 4.94616127, ME: -0.58746785\n",
      "SM_20 → RMSE: 6.66625711, MAE: 5.20996046, ME: -0.70375651\n",
      "Classification → Accuracy: 0.93777346, F1-score: 0.93843533\n",
      "Epoch 45/60\n"
     ]
    },
    {
     "data": {
      "application/vnd.jupyter.widget-view+json": {
       "model_id": "4acdfc18fb8a40a788ebc55e9ab32886",
       "version_major": 2,
       "version_minor": 0
      },
      "text/plain": [
       "  0%|          | 0/65 [00:00<?, ?it/s]"
      ]
     },
     "metadata": {},
     "output_type": "display_data"
    },
    {
     "name": "stdout",
     "output_type": "stream",
     "text": [
      "Loss → Total: 0.4134, Regression: 0.0063, Classification: 0.4072\n",
      "SM_0 → RMSE: 6.32638473, MAE: 4.82155180, ME: 0.30366868\n",
      "SM_20 → RMSE: 6.45717392, MAE: 5.02179956, ME: 0.13013659\n",
      "Classification → Accuracy: 0.91541079, F1-score: 0.91570106\n",
      "Epoch 46/60\n"
     ]
    },
    {
     "data": {
      "application/vnd.jupyter.widget-view+json": {
       "model_id": "09ed450e8ac6436ba68a066e65744748",
       "version_major": 2,
       "version_minor": 0
      },
      "text/plain": [
       "  0%|          | 0/65 [00:00<?, ?it/s]"
      ]
     },
     "metadata": {},
     "output_type": "display_data"
    },
    {
     "name": "stdout",
     "output_type": "stream",
     "text": [
      "Loss → Total: 0.4664, Regression: 0.0084, Classification: 0.4580\n",
      "SM_0 → RMSE: 6.59414397, MAE: 5.07797766, ME: 0.00174528\n",
      "SM_20 → RMSE: 6.70549770, MAE: 5.28418207, ME: 0.44869983\n",
      "Classification → Accuracy: 0.93048128, F1-score: 0.93105498\n",
      "Epoch 47/60\n"
     ]
    },
    {
     "data": {
      "application/vnd.jupyter.widget-view+json": {
       "model_id": "c6fad1963db9455c88b97b578e68c16a",
       "version_major": 2,
       "version_minor": 0
      },
      "text/plain": [
       "  0%|          | 0/65 [00:00<?, ?it/s]"
      ]
     },
     "metadata": {},
     "output_type": "display_data"
    },
    {
     "name": "stdout",
     "output_type": "stream",
     "text": [
      "Loss → Total: 0.3915, Regression: 0.0075, Classification: 0.3840\n",
      "SM_0 → RMSE: 7.09694166, MAE: 5.46359253, ME: -1.19097424\n",
      "SM_20 → RMSE: 7.26800380, MAE: 5.57813454, ME: -1.03533304\n",
      "Classification → Accuracy: 0.92610598, F1-score: 0.92607869\n",
      "Epoch 48/60\n"
     ]
    },
    {
     "data": {
      "application/vnd.jupyter.widget-view+json": {
       "model_id": "7dc85845e1d7414da8a66d36b1b33348",
       "version_major": 2,
       "version_minor": 0
      },
      "text/plain": [
       "  0%|          | 0/65 [00:00<?, ?it/s]"
      ]
     },
     "metadata": {},
     "output_type": "display_data"
    },
    {
     "name": "stdout",
     "output_type": "stream",
     "text": [
      "Loss → Total: 0.3705, Regression: 0.0067, Classification: 0.3637\n",
      "SM_0 → RMSE: 6.36104208, MAE: 4.81882668, ME: -1.15174520\n",
      "SM_20 → RMSE: 6.38243746, MAE: 4.89816427, ME: -0.90265924\n",
      "Classification → Accuracy: 0.91298007, F1-score: 0.91353593\n",
      "Epoch 49/60\n"
     ]
    },
    {
     "data": {
      "application/vnd.jupyter.widget-view+json": {
       "model_id": "d31c604cfc854c09a7a7fe4dda8d550f",
       "version_major": 2,
       "version_minor": 0
      },
      "text/plain": [
       "  0%|          | 0/65 [00:00<?, ?it/s]"
      ]
     },
     "metadata": {},
     "output_type": "display_data"
    },
    {
     "name": "stdout",
     "output_type": "stream",
     "text": [
      "Loss → Total: 0.4137, Regression: 0.0071, Classification: 0.4066\n",
      "SM_0 → RMSE: 6.27837887, MAE: 4.75246239, ME: -0.65965039\n",
      "SM_20 → RMSE: 6.76802369, MAE: 5.08704853, ME: -0.58637553\n",
      "Classification → Accuracy: 0.92853670, F1-score: 0.92851196\n",
      "Epoch 50/60\n"
     ]
    },
    {
     "data": {
      "application/vnd.jupyter.widget-view+json": {
       "model_id": "665be4745f58412fbc5ce055a67589d6",
       "version_major": 2,
       "version_minor": 0
      },
      "text/plain": [
       "  0%|          | 0/65 [00:00<?, ?it/s]"
      ]
     },
     "metadata": {},
     "output_type": "display_data"
    },
    {
     "name": "stdout",
     "output_type": "stream",
     "text": [
      "Loss → Total: 0.3713, Regression: 0.0068, Classification: 0.3645\n",
      "SM_0 → RMSE: 5.84207374, MAE: 4.42217445, ME: -0.72897875\n",
      "SM_20 → RMSE: 6.29278568, MAE: 4.86697340, ME: -1.67043972\n",
      "Classification → Accuracy: 0.93631502, F1-score: 0.93652854\n",
      "Epoch 51/60\n"
     ]
    },
    {
     "data": {
      "application/vnd.jupyter.widget-view+json": {
       "model_id": "57fb2fc654854323a920ec9af0d88d47",
       "version_major": 2,
       "version_minor": 0
      },
      "text/plain": [
       "  0%|          | 0/65 [00:00<?, ?it/s]"
      ]
     },
     "metadata": {},
     "output_type": "display_data"
    },
    {
     "name": "stdout",
     "output_type": "stream",
     "text": [
      "Loss → Total: 0.3919, Regression: 0.0079, Classification: 0.3840\n",
      "SM_0 → RMSE: 6.93702572, MAE: 5.41299009, ME: -2.10308743\n",
      "SM_20 → RMSE: 7.34196548, MAE: 5.77909517, ME: -1.45770609\n",
      "Classification → Accuracy: 0.93728731, F1-score: 0.93766052\n",
      "Epoch 52/60\n"
     ]
    },
    {
     "data": {
      "application/vnd.jupyter.widget-view+json": {
       "model_id": "bd885bb4454844f4aa2d31dde66ceb07",
       "version_major": 2,
       "version_minor": 0
      },
      "text/plain": [
       "  0%|          | 0/65 [00:00<?, ?it/s]"
      ]
     },
     "metadata": {},
     "output_type": "display_data"
    },
    {
     "name": "stdout",
     "output_type": "stream",
     "text": [
      "Loss → Total: 0.3953, Regression: 0.0082, Classification: 0.3871\n",
      "SM_0 → RMSE: 7.83024304, MAE: 5.99191856, ME: -1.22373009\n",
      "SM_20 → RMSE: 7.32559805, MAE: 5.60291433, ME: -0.82564729\n",
      "Classification → Accuracy: 0.94506563, F1-score: 0.94527108\n",
      "Epoch 53/60\n"
     ]
    },
    {
     "data": {
      "application/vnd.jupyter.widget-view+json": {
       "model_id": "dfc3068f29e04f8cb173c23cbb6cd778",
       "version_major": 2,
       "version_minor": 0
      },
      "text/plain": [
       "  0%|          | 0/65 [00:00<?, ?it/s]"
      ]
     },
     "metadata": {},
     "output_type": "display_data"
    },
    {
     "name": "stdout",
     "output_type": "stream",
     "text": [
      "Loss → Total: 0.4025, Regression: 0.0088, Classification: 0.3937\n",
      "SM_0 → RMSE: 6.70798244, MAE: 5.22710228, ME: -1.39000142\n",
      "SM_20 → RMSE: 6.96104464, MAE: 5.44180584, ME: -1.58101547\n",
      "Classification → Accuracy: 0.93971804, F1-score: 0.93949128\n",
      "Epoch 54/60\n"
     ]
    },
    {
     "data": {
      "application/vnd.jupyter.widget-view+json": {
       "model_id": "815bbf106d1c4b4780f6de11fed6e8ad",
       "version_major": 2,
       "version_minor": 0
      },
      "text/plain": [
       "  0%|          | 0/65 [00:00<?, ?it/s]"
      ]
     },
     "metadata": {},
     "output_type": "display_data"
    },
    {
     "name": "stdout",
     "output_type": "stream",
     "text": [
      "Loss → Total: 0.4110, Regression: 0.0072, Classification: 0.4038\n",
      "SM_0 → RMSE: 5.94573692, MAE: 4.55883455, ME: 0.88257790\n",
      "SM_20 → RMSE: 6.24559812, MAE: 4.82946396, ME: 1.42065656\n",
      "Classification → Accuracy: 0.93485659, F1-score: 0.93514089\n",
      "Epoch 55/60\n"
     ]
    },
    {
     "data": {
      "application/vnd.jupyter.widget-view+json": {
       "model_id": "0cc7eb0f870f4f37889d5f400d356813",
       "version_major": 2,
       "version_minor": 0
      },
      "text/plain": [
       "  0%|          | 0/65 [00:00<?, ?it/s]"
      ]
     },
     "metadata": {},
     "output_type": "display_data"
    },
    {
     "name": "stdout",
     "output_type": "stream",
     "text": [
      "Loss → Total: 0.3664, Regression: 0.0061, Classification: 0.3603\n",
      "SM_0 → RMSE: 6.03384928, MAE: 4.69214773, ME: -1.51688337\n",
      "SM_20 → RMSE: 6.33802123, MAE: 4.93625021, ME: -1.93513942\n",
      "Classification → Accuracy: 0.94214876, F1-score: 0.94267420\n",
      "Epoch 56/60\n"
     ]
    },
    {
     "data": {
      "application/vnd.jupyter.widget-view+json": {
       "model_id": "b601711475c04ffa8c9b51db3f0c48ae",
       "version_major": 2,
       "version_minor": 0
      },
      "text/plain": [
       "  0%|          | 0/65 [00:00<?, ?it/s]"
      ]
     },
     "metadata": {},
     "output_type": "display_data"
    },
    {
     "name": "stdout",
     "output_type": "stream",
     "text": [
      "Loss → Total: 0.3600, Regression: 0.0064, Classification: 0.3536\n",
      "SM_0 → RMSE: 6.07035398, MAE: 4.65617752, ME: -0.69569623\n",
      "SM_20 → RMSE: 6.08174994, MAE: 4.63676023, ME: -1.10376823\n",
      "Classification → Accuracy: 0.93971804, F1-score: 0.94002664\n",
      "Epoch 57/60\n"
     ]
    },
    {
     "data": {
      "application/vnd.jupyter.widget-view+json": {
       "model_id": "0f325a1c64c14a81a4a474276af0aae1",
       "version_major": 2,
       "version_minor": 0
      },
      "text/plain": [
       "  0%|          | 0/65 [00:00<?, ?it/s]"
      ]
     },
     "metadata": {},
     "output_type": "display_data"
    },
    {
     "name": "stdout",
     "output_type": "stream",
     "text": [
      "Loss → Total: 0.3256, Regression: 0.0065, Classification: 0.3191\n",
      "SM_0 → RMSE: 5.63923877, MAE: 4.27780628, ME: -0.47499207\n",
      "SM_20 → RMSE: 5.83332425, MAE: 4.46306229, ME: -0.45161861\n",
      "Classification → Accuracy: 0.94214876, F1-score: 0.94237107\n",
      "Epoch 58/60\n"
     ]
    },
    {
     "data": {
      "application/vnd.jupyter.widget-view+json": {
       "model_id": "231fca1568bd4c0183be1f30bcfa777a",
       "version_major": 2,
       "version_minor": 0
      },
      "text/plain": [
       "  0%|          | 0/65 [00:00<?, ?it/s]"
      ]
     },
     "metadata": {},
     "output_type": "display_data"
    },
    {
     "name": "stdout",
     "output_type": "stream",
     "text": [
      "Loss → Total: 0.3364, Regression: 0.0062, Classification: 0.3302\n",
      "SM_0 → RMSE: 6.70179945, MAE: 5.01555777, ME: 1.01689446\n",
      "SM_20 → RMSE: 6.75138841, MAE: 5.10651779, ME: 0.67030299\n",
      "Classification → Accuracy: 0.94166262, F1-score: 0.94226584\n",
      "Epoch 59/60\n"
     ]
    },
    {
     "data": {
      "application/vnd.jupyter.widget-view+json": {
       "model_id": "c8ecce4b8f014eaeb8f6a652ebc20aff",
       "version_major": 2,
       "version_minor": 0
      },
      "text/plain": [
       "  0%|          | 0/65 [00:00<?, ?it/s]"
      ]
     },
     "metadata": {},
     "output_type": "display_data"
    },
    {
     "name": "stdout",
     "output_type": "stream",
     "text": [
      "Loss → Total: 0.3355, Regression: 0.0056, Classification: 0.3299\n",
      "SM_0 → RMSE: 6.47410472, MAE: 4.91598129, ME: 0.08516978\n",
      "SM_20 → RMSE: 6.47578851, MAE: 4.99399090, ME: 0.73222744\n",
      "Classification → Accuracy: 0.94117647, F1-score: 0.94109891\n",
      "Epoch 60/60\n"
     ]
    },
    {
     "data": {
      "application/vnd.jupyter.widget-view+json": {
       "model_id": "ce1b2f7b7cde4d97911499e81a161d66",
       "version_major": 2,
       "version_minor": 0
      },
      "text/plain": [
       "  0%|          | 0/65 [00:00<?, ?it/s]"
      ]
     },
     "metadata": {},
     "output_type": "display_data"
    },
    {
     "name": "stdout",
     "output_type": "stream",
     "text": [
      "Loss → Total: 0.3180, Regression: 0.0062, Classification: 0.3118\n",
      "SM_0 → RMSE: 5.96840008, MAE: 4.59715509, ME: 0.04542673\n",
      "SM_20 → RMSE: 6.27264422, MAE: 4.80769014, ME: 0.78844094\n",
      "Classification → Accuracy: 0.93534273, F1-score: 0.93566545\n"
     ]
    }
   ],
   "source": [
    "import torch\n",
    "import torch.nn as nn\n",
    "import pandas as pd\n",
    "import numpy as np\n",
    "from torch.utils.data import Dataset, DataLoader\n",
    "from torchvision import transforms\n",
    "from PIL import Image\n",
    "from sklearn.metrics import mean_squared_error, mean_absolute_error, accuracy_score, f1_score\n",
    "from tqdm.notebook import tqdm\n",
    "import timm\n",
    "import os\n",
    "import random\n",
    "\n",
    "device = torch.device(\"cuda\" if torch.cuda.is_available() else \"cpu\")\n",
    "print(f\"Using device: {device}\")\n",
    "print(f\"PyTorch version: {torch.__version__}\")\n",
    "\n",
    "df = pd.read_csv(r\"F:\\Soil_Labeled_Data\\labels.csv\")\n",
    "print(f\"Total labeled images before check: {len(df)}\")\n",
    "\n",
    "required_columns = ['path', 'SM_0', 'SM_20', 'light_value', 'moisture_class']\n",
    "missing_columns = [col for col in required_columns if col not in df.columns]\n",
    "if missing_columns:\n",
    "    raise ValueError(f\"DataFrame missing columns: {missing_columns}\")\n",
    "\n",
    "fallback_dir = r\"F:\\Soil_Labeled_Data\\augmented_fallback\"\n",
    "os.makedirs(fallback_dir, exist_ok=True)\n",
    "replaced_count = 0\n",
    "augment = transforms.ColorJitter(brightness=0.2, contrast=0.2)\n",
    "\n",
    "for idx, row in tqdm(df.iterrows(), total=len(df)):\n",
    "    path = row[\"path\"]\n",
    "    try:\n",
    "        img = Image.open(path).convert(\"RGB\")\n",
    "        img.verify()\n",
    "    except:\n",
    "        print(f\"Image error: {path}\")\n",
    "        folder = os.path.dirname(path)\n",
    "        all_images = [f for f in os.listdir(folder) if f.lower().endswith((\".jpg\", \".png\"))]\n",
    "        good_images = [f for f in all_images if f != os.path.basename(path)]\n",
    "        if not good_images:\n",
    "            print(f\"No replacement images in: {folder}\")\n",
    "            continue\n",
    "        candidate = random.choice(good_images)\n",
    "        candidate_path = os.path.join(folder, candidate)\n",
    "        try:\n",
    "            img = Image.open(candidate_path).convert(\"RGB\")\n",
    "            img_aug = augment(img)\n",
    "            new_filename = f\"aug_{os.path.basename(path)}\"\n",
    "            new_path = os.path.join(fallback_dir, new_filename)\n",
    "            img_aug.save(new_path)\n",
    "            df.at[idx, \"path\"] = new_path\n",
    "            replaced_count += 1\n",
    "            print(f\"Replaced with: {new_path}\")\n",
    "        except:\n",
    "            print(f\"Replacement image error: {candidate_path}\")\n",
    "            continue\n",
    "print(f\"Replaced {replaced_count} invalid images with augmented versions.\")\n",
    "\n",
    "transform = transforms.Compose([\n",
    "    transforms.Resize((224, 224)),\n",
    "    transforms.ToTensor(),\n",
    "    transforms.Normalize(mean=[0.485, 0.456, 0.406], std=[0.229, 0.224, 0.225])\n",
    "])\n",
    "\n",
    "class SoilDualTaskDataset(Dataset):\n",
    "    def __init__(self, dataframe, transform=None):\n",
    "        self.df = dataframe\n",
    "        self.transform = transform\n",
    "\n",
    "    def __len__(self):\n",
    "        return len(self.df)\n",
    "\n",
    "    def __getitem__(self, idx):\n",
    "        row = self.df.iloc[idx]\n",
    "        img = Image.open(row[\"path\"]).convert(\"RGB\")\n",
    "        if self.transform:\n",
    "            img = self.transform(img)\n",
    "        light = torch.tensor([row[\"light_value\"] / 100.0], dtype=torch.float32)\n",
    "        regression_target = torch.tensor([row[\"SM_0\"] / 100.0, row[\"SM_20\"] / 100.0], dtype=torch.float32)\n",
    "        class_target = torch.tensor(row[\"moisture_class\"], dtype=torch.long)\n",
    "        return {\n",
    "            \"image\": img,\n",
    "            \"light\": light,\n",
    "            \"regression_target\": regression_target,\n",
    "            \"class_target\": class_target\n",
    "        }\n",
    "\n",
    "class SoilNetDualHead(nn.Module):\n",
    "    def __init__(self, num_classes=10):\n",
    "        super().__init__()\n",
    "        self.initial_conv = nn.Conv2d(3, 32, kernel_size=3, stride=1, padding=1)\n",
    "        self.mnv2_block1 = nn.Sequential(*list(\n",
    "            timm.create_model(\"mobilenetv2_100.ra_in1k\", pretrained=True).blocks.children())[0:3]\n",
    "        )\n",
    "        self.channel_adapter = nn.Conv2d(32, 16, kernel_size=1, bias=False)\n",
    "        self.mobilevit_full = timm.create_model(\"mobilevitv2_050\", pretrained=True)\n",
    "        self.mobilevit_encoder = self.mobilevit_full.stages\n",
    "        self.mvit_to_mnv2 = nn.Conv2d(256, 32, kernel_size=1, bias=False)\n",
    "        self.mnv2_block2 = nn.Sequential(*list(\n",
    "            timm.create_model(\"mobilenetv2_100.ra_in1k\", pretrained=True).blocks.children())[3:7]\n",
    "        )\n",
    "        self.final_conv = nn.Conv2d(320, 1280, kernel_size=1)\n",
    "        self.pool = nn.AdaptiveAvgPool2d((1, 1))\n",
    "        self.light_dense = nn.Sequential(nn.Linear(1, 32), nn.ReLU(inplace=True))\n",
    "        self.reg_head = nn.Sequential(\n",
    "            nn.Linear(1280 + 32, 128),\n",
    "            nn.ReLU(inplace=True),\n",
    "            nn.Linear(128, 2)\n",
    "        )\n",
    "        self.cls_head = nn.Sequential(\n",
    "            nn.Linear(1280 + 32, 128),\n",
    "            nn.ReLU(inplace=True),\n",
    "            nn.Linear(128, num_classes)\n",
    "        )\n",
    "\n",
    "    def forward(self, x_img, x_light):\n",
    "        x = self.initial_conv(x_img)\n",
    "        x = self.mnv2_block1(x)\n",
    "        x = self.channel_adapter(x)\n",
    "        x = self.mobilevit_encoder(x)\n",
    "        x = self.mvit_to_mnv2(x)\n",
    "        x = self.mnv2_block2(x)\n",
    "        x = self.final_conv(x)\n",
    "        x = self.pool(x)\n",
    "        x_img_feat = torch.flatten(x, 1)\n",
    "        x_light_feat = self.light_dense(x_light)\n",
    "        x_concat = torch.cat([x_img_feat, x_light_feat], dim=1)\n",
    "        reg_out = self.reg_head(x_concat)\n",
    "        cls_out = self.cls_head(x_concat)\n",
    "        return reg_out, cls_out\n",
    "\n",
    "dataset = SoilDualTaskDataset(df, transform)\n",
    "dataloader = DataLoader(dataset, batch_size=32, shuffle=True, pin_memory=True if device.type == \"cuda\" else False, num_workers=0)\n",
    "\n",
    "num_classes = len(df[\"moisture_class\"].unique())\n",
    "model = SoilNetDualHead(num_classes=num_classes).to(device)\n",
    "\n",
    "checkpoint_path = r\"C:\\Users\\PC\\soilNet\\checkpoints_VicReg_tinyImagenet\\vicreg_model_final_mu_33.0.pth\"\n",
    "try:\n",
    "    checkpoint = torch.load(checkpoint_path, map_location=device, weights_only=False)\n",
    "    if isinstance(checkpoint, dict) and 'model_state_dict' in checkpoint:\n",
    "        model_state_dict = checkpoint['model_state_dict']\n",
    "    else:\n",
    "        model_state_dict = checkpoint\n",
    "    model_dict = model.state_dict()\n",
    "    pretrained_dict = {k: v for k, v in model_state_dict.items() \n",
    "                       if k in model_dict and model_dict[k].shape == v.shape}\n",
    "    temp_model_dict = model_dict.copy()\n",
    "    temp_model_dict.update(pretrained_dict)\n",
    "    missing_keys, unexpected_keys = model.load_state_dict(temp_model_dict, strict=False)\n",
    "    print(f\"Loaded pretrained weights from {checkpoint_path}\")\n",
    "    if missing_keys:\n",
    "        print(f\"Some keys missing in checkpoint and not loaded: {missing_keys}\")\n",
    "    if unexpected_keys:\n",
    "        print(f\"Some keys in checkpoint not in model and ignored: {unexpected_keys}\")\n",
    "except FileNotFoundError:\n",
    "    print(f\"Checkpoint not found: {checkpoint_path}. Using random initialization.\")\n",
    "except Exception as e:\n",
    "    print(f\"Error loading checkpoint: {e}. Using random initialization.\")\n",
    "\n",
    "optimizer = torch.optim.Adam(model.parameters(), lr=1e-4)\n",
    "reg_criterion = nn.MSELoss()\n",
    "cls_criterion = nn.CrossEntropyLoss()\n",
    "\n",
    "num_epochs = 60\n",
    "loss_history = []\n",
    "\n",
    "for epoch in range(num_epochs):\n",
    "    print(f\"Epoch {epoch+1}/{num_epochs}\")\n",
    "    model.train()\n",
    "    total_loss, total_reg_loss, total_cls_loss = 0, 0, 0\n",
    "    for batch in tqdm(dataloader, leave=False):\n",
    "        x_img = batch[\"image\"].to(device)\n",
    "        x_light = batch[\"light\"].to(device)\n",
    "        y_reg = batch[\"regression_target\"].to(device)\n",
    "        y_cls = batch[\"class_target\"].to(device)\n",
    "        optimizer.zero_grad()\n",
    "        pred_reg, pred_cls = model(x_img, x_light)\n",
    "        loss_reg = reg_criterion(pred_reg, y_reg)\n",
    "        loss_cls = cls_criterion(pred_cls, y_cls)\n",
    "        loss = loss_reg + loss_cls\n",
    "        loss.backward()\n",
    "        optimizer.step()\n",
    "        total_loss += loss.item()\n",
    "        total_reg_loss += loss_reg.item()\n",
    "        total_cls_loss += loss_cls.item()\n",
    "    avg_total = total_loss / len(dataloader)\n",
    "    loss_history.append((avg_total, total_reg_loss / len(dataloader), total_cls_loss / len(dataloader)))\n",
    "    print(f\"Loss → Total: {avg_total:.4f}, Regression: {total_reg_loss / len(dataloader):.4f}, Classification: {total_cls_loss / len(dataloader):.4f}\")\n",
    "    model.eval()\n",
    "    y_true_reg, y_pred_reg = [], []\n",
    "    y_true_cls, y_pred_cls = [], []\n",
    "    with torch.no_grad():\n",
    "        for batch in dataloader:\n",
    "            x_img = batch[\"image\"].to(device)\n",
    "            x_light = batch[\"light\"].to(device)\n",
    "            y_reg = batch[\"regression_target\"].to(device)\n",
    "            y_cls = batch[\"class_target\"].to(device)\n",
    "            pred_reg, pred_cls = model(x_img, x_light)\n",
    "            y_true_reg.extend(y_reg.cpu().numpy())\n",
    "            y_pred_reg.extend(pred_reg.cpu().numpy())\n",
    "            y_true_cls.extend(y_cls.cpu().numpy())\n",
    "            y_pred_cls.extend(pred_cls.argmax(dim=1).cpu().numpy())\n",
    "    y_true_reg = np.array(y_true_reg) * 100\n",
    "    y_pred_reg = np.array(y_pred_reg) * 100\n",
    "    metrics = {}\n",
    "    for i, label in enumerate([\"SM_0\", \"SM_20\"]):\n",
    "        metrics[label] = {\n",
    "            \"RMSE\": mean_squared_error(y_true_reg[:, i], y_pred_reg[:, i]) ** 0.5,\n",
    "            \"MAE\": mean_absolute_error(y_true_reg[:, i], y_pred_reg[:, i]),\n",
    "            \"ME\": np.mean(y_pred_reg[:, i] - y_true_reg[:, i]),\n",
    "        }\n",
    "    metrics[\"Classification\"] = {\n",
    "        \"Accuracy\": accuracy_score(y_true_cls, y_pred_cls),\n",
    "        \"F1-score\": f1_score(y_true_cls, y_pred_cls, average=\"weighted\")\n",
    "    }\n",
    "    for label in [\"SM_0\", \"SM_20\"]:\n",
    "        print(f\"{label} → RMSE: {metrics[label]['RMSE']:.8f}, MAE: {metrics[label]['MAE']:.8f}, ME: {metrics[label]['ME']:.8f}\")\n",
    "    print(f\"Classification → Accuracy: {metrics['Classification']['Accuracy']:.8f}, F1-score: {metrics['Classification']['F1-score']:.8f}\")\n",
    "\n",
    "torch.save(model.state_dict(), r\"C:\\Users\\PC\\soilNet\\checkpoints_VicReg_tinyImagenet\\vicreg_model_final_tinyImageNet_mu_33.0.pth\")"
   ]
  }
 ],
 "metadata": {
  "kernelspec": {
   "display_name": "Python 3 (ipykernel)",
   "language": "python",
   "name": "python3"
  },
  "language_info": {
   "codemirror_mode": {
    "name": "ipython",
    "version": 3
   },
   "file_extension": ".py",
   "mimetype": "text/x-python",
   "name": "python",
   "nbconvert_exporter": "python",
   "pygments_lexer": "ipython3",
   "version": "3.10.16"
  }
 },
 "nbformat": 4,
 "nbformat_minor": 5
}
