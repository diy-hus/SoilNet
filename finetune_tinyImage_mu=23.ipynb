{
 "cells": [
  {
   "cell_type": "code",
   "execution_count": null,
   "id": "37ffe4d9-53e0-48ad-b3ab-365e1ba12eb8",
   "metadata": {},
   "outputs": [
    {
     "name": "stdout",
     "output_type": "stream",
     "text": [
      "Using device: cuda\n",
      "PyTorch version: 2.6.0+cu118\n",
      "Total labeled images before check: 2057\n"
     ]
    },
    {
     "data": {
      "application/vnd.jupyter.widget-view+json": {
       "model_id": "46eaef6222d7428682288d86f1ed6a20",
       "version_major": 2,
       "version_minor": 0
      },
      "text/plain": [
       "  0%|          | 0/2057 [00:00<?, ?it/s]"
      ]
     },
     "metadata": {},
     "output_type": "display_data"
    },
    {
     "name": "stdout",
     "output_type": "stream",
     "text": [
      "Image error: F:\\Soil_Labeled_Data\\M_10_20\\L_60_70\\alluvial\\IMG_0683.JPG\n",
      "Replaced with: F:\\Soil_Labeled_Data\\augmented_fallback\\aug_IMG_0683.JPG\n",
      "Image error: F:\\Soil_Labeled_Data\\M_10_20\\L_70_80\\alluvial\\IMG_0703.JPG\n",
      "Replaced with: F:\\Soil_Labeled_Data\\augmented_fallback\\aug_IMG_0703.JPG\n",
      "Image error: F:\\Soil_Labeled_Data\\M_10_20\\L_80_90\\alluvial\\IMG_0746.JPG\n",
      "Replaced with: F:\\Soil_Labeled_Data\\augmented_fallback\\aug_IMG_0746.JPG\n",
      "Image error: F:\\Soil_Labeled_Data\\M_10_20\\L_80_90\\alluvial\\IMG_0753.JPG\n",
      "Replaced with: F:\\Soil_Labeled_Data\\augmented_fallback\\aug_IMG_0753.JPG\n",
      "Image error: F:\\Soil_Labeled_Data\\M_10_20\\L_80_90\\alluvial\\IMG_0755.JPG\n",
      "Replaced with: F:\\Soil_Labeled_Data\\augmented_fallback\\aug_IMG_0755.JPG\n",
      "Replaced 5 invalid images with augmented versions.\n",
      "Loaded pretrained weights from C:\\Users\\PC\\soilNet\\checkpoints_VicReg_tinyImagenet\\vicreg_model_final_mu_23.0.pth\n",
      "Epoch 1/60\n"
     ]
    },
    {
     "data": {
      "application/vnd.jupyter.widget-view+json": {
       "model_id": "5375c5b371904a43ade7af35e09111d7",
       "version_major": 2,
       "version_minor": 0
      },
      "text/plain": [
       "  0%|          | 0/65 [00:00<?, ?it/s]"
      ]
     },
     "metadata": {},
     "output_type": "display_data"
    },
    {
     "name": "stdout",
     "output_type": "stream",
     "text": [
      "Loss → Total: 2.2485, Regression: 0.0896, Classification: 2.1589\n",
      "SM_0 → RMSE: 22.62135108, MAE: 17.98539734, ME: 1.35891128\n",
      "SM_20 → RMSE: 22.10769580, MAE: 17.72647095, ME: 2.64011669\n",
      "Classification → Accuracy: 0.30189596, F1-score: 0.27376987\n",
      "Epoch 2/60\n"
     ]
    },
    {
     "data": {
      "application/vnd.jupyter.widget-view+json": {
       "model_id": "72a453da966e45d295227e677423afea",
       "version_major": 2,
       "version_minor": 0
      },
      "text/plain": [
       "  0%|          | 0/65 [00:00<?, ?it/s]"
      ]
     },
     "metadata": {},
     "output_type": "display_data"
    },
    {
     "name": "stdout",
     "output_type": "stream",
     "text": [
      "Loss → Total: 1.9196, Regression: 0.0489, Classification: 1.8707\n",
      "SM_0 → RMSE: 19.30184890, MAE: 14.62321281, ME: -2.05224323\n",
      "SM_20 → RMSE: 19.19795703, MAE: 14.51720905, ME: -0.53659785\n",
      "Classification → Accuracy: 0.36023335, F1-score: 0.33301497\n",
      "Epoch 3/60\n"
     ]
    },
    {
     "data": {
      "application/vnd.jupyter.widget-view+json": {
       "model_id": "c1e141bfc06d4a908ae39b053b68dac3",
       "version_major": 2,
       "version_minor": 0
      },
      "text/plain": [
       "  0%|          | 0/65 [00:00<?, ?it/s]"
      ]
     },
     "metadata": {},
     "output_type": "display_data"
    },
    {
     "name": "stdout",
     "output_type": "stream",
     "text": [
      "Loss → Total: 1.7424, Regression: 0.0401, Classification: 1.7023\n",
      "SM_0 → RMSE: 16.79068563, MAE: 13.22597599, ME: -3.35307908\n",
      "SM_20 → RMSE: 16.76484319, MAE: 13.16818714, ME: 0.22192356\n",
      "Classification → Accuracy: 0.43364123, F1-score: 0.41404062\n",
      "Epoch 4/60\n"
     ]
    },
    {
     "data": {
      "application/vnd.jupyter.widget-view+json": {
       "model_id": "0abcb8b0ff9e44e4936feef3fe05af76",
       "version_major": 2,
       "version_minor": 0
      },
      "text/plain": [
       "  0%|          | 0/65 [00:00<?, ?it/s]"
      ]
     },
     "metadata": {},
     "output_type": "display_data"
    },
    {
     "name": "stdout",
     "output_type": "stream",
     "text": [
      "Loss → Total: 1.5695, Regression: 0.0345, Classification: 1.5351\n",
      "SM_0 → RMSE: 15.07449610, MAE: 11.53558159, ME: 2.46040750\n",
      "SM_20 → RMSE: 16.33518836, MAE: 12.75712395, ME: 7.24918175\n",
      "Classification → Accuracy: 0.48225571, F1-score: 0.46084052\n",
      "Epoch 5/60\n"
     ]
    },
    {
     "data": {
      "application/vnd.jupyter.widget-view+json": {
       "model_id": "53e08ee2a2e743b98ff0ae64e226e281",
       "version_major": 2,
       "version_minor": 0
      },
      "text/plain": [
       "  0%|          | 0/65 [00:00<?, ?it/s]"
      ]
     },
     "metadata": {},
     "output_type": "display_data"
    },
    {
     "name": "stdout",
     "output_type": "stream",
     "text": [
      "Loss → Total: 1.4663, Regression: 0.0287, Classification: 1.4376\n",
      "SM_0 → RMSE: 13.43040329, MAE: 10.32465363, ME: 1.53824949\n",
      "SM_20 → RMSE: 13.76485570, MAE: 10.60200310, ME: 3.07382989\n",
      "Classification → Accuracy: 0.52698104, F1-score: 0.51352290\n",
      "Epoch 6/60\n"
     ]
    },
    {
     "data": {
      "application/vnd.jupyter.widget-view+json": {
       "model_id": "bab1fadc8ab74c7bbd1d000c44bde7a2",
       "version_major": 2,
       "version_minor": 0
      },
      "text/plain": [
       "  0%|          | 0/65 [00:00<?, ?it/s]"
      ]
     },
     "metadata": {},
     "output_type": "display_data"
    },
    {
     "name": "stdout",
     "output_type": "stream",
     "text": [
      "Loss → Total: 1.3743, Regression: 0.0270, Classification: 1.3472\n",
      "SM_0 → RMSE: 12.81880859, MAE: 9.86459923, ME: 2.60400987\n",
      "SM_20 → RMSE: 13.70102751, MAE: 10.65271187, ME: 3.23582482\n",
      "Classification → Accuracy: 0.55323286, F1-score: 0.53472492\n",
      "Epoch 7/60\n"
     ]
    },
    {
     "data": {
      "application/vnd.jupyter.widget-view+json": {
       "model_id": "5251082a91954e9892538440ce1eb826",
       "version_major": 2,
       "version_minor": 0
      },
      "text/plain": [
       "  0%|          | 0/65 [00:00<?, ?it/s]"
      ]
     },
     "metadata": {},
     "output_type": "display_data"
    },
    {
     "name": "stdout",
     "output_type": "stream",
     "text": [
      "Loss → Total: 1.3192, Regression: 0.0248, Classification: 1.2944\n",
      "SM_0 → RMSE: 12.52137394, MAE: 9.63713264, ME: 3.13330579\n",
      "SM_20 → RMSE: 12.95041708, MAE: 9.95938110, ME: 2.68193984\n",
      "Classification → Accuracy: 0.58531842, F1-score: 0.56546498\n",
      "Epoch 8/60\n"
     ]
    },
    {
     "data": {
      "application/vnd.jupyter.widget-view+json": {
       "model_id": "080c804f7f324a23b519ca8c5aada0b8",
       "version_major": 2,
       "version_minor": 0
      },
      "text/plain": [
       "  0%|          | 0/65 [00:00<?, ?it/s]"
      ]
     },
     "metadata": {},
     "output_type": "display_data"
    },
    {
     "name": "stdout",
     "output_type": "stream",
     "text": [
      "Loss → Total: 1.1840, Regression: 0.0200, Classification: 1.1640\n",
      "SM_0 → RMSE: 10.76607429, MAE: 8.12018013, ME: -0.40609139\n",
      "SM_20 → RMSE: 11.41409191, MAE: 8.74241924, ME: -0.62424439\n",
      "Classification → Accuracy: 0.64122509, F1-score: 0.63323702\n",
      "Epoch 9/60\n"
     ]
    },
    {
     "data": {
      "application/vnd.jupyter.widget-view+json": {
       "model_id": "4e139e44218f478e89c67d566c9e06d2",
       "version_major": 2,
       "version_minor": 0
      },
      "text/plain": [
       "  0%|          | 0/65 [00:00<?, ?it/s]"
      ]
     },
     "metadata": {},
     "output_type": "display_data"
    },
    {
     "name": "stdout",
     "output_type": "stream",
     "text": [
      "Loss → Total: 1.2042, Regression: 0.0212, Classification: 1.1830\n",
      "SM_0 → RMSE: 11.38113339, MAE: 8.98514366, ME: 1.91133308\n",
      "SM_20 → RMSE: 11.34926503, MAE: 8.87529278, ME: 1.84747767\n",
      "Classification → Accuracy: 0.67671366, F1-score: 0.67363180\n",
      "Epoch 10/60\n"
     ]
    },
    {
     "data": {
      "application/vnd.jupyter.widget-view+json": {
       "model_id": "4fd03b4203614f06bdd795e40ddb873c",
       "version_major": 2,
       "version_minor": 0
      },
      "text/plain": [
       "  0%|          | 0/65 [00:00<?, ?it/s]"
      ]
     },
     "metadata": {},
     "output_type": "display_data"
    },
    {
     "name": "stdout",
     "output_type": "stream",
     "text": [
      "Loss → Total: 1.0902, Regression: 0.0181, Classification: 1.0721\n",
      "SM_0 → RMSE: 10.17361496, MAE: 7.71942043, ME: -1.41002691\n",
      "SM_20 → RMSE: 10.08724492, MAE: 7.71132040, ME: -0.60229349\n",
      "Classification → Accuracy: 0.69227030, F1-score: 0.68340324\n",
      "Epoch 11/60\n"
     ]
    },
    {
     "data": {
      "application/vnd.jupyter.widget-view+json": {
       "model_id": "ab26296299f9473580eda46bccb008cd",
       "version_major": 2,
       "version_minor": 0
      },
      "text/plain": [
       "  0%|          | 0/65 [00:00<?, ?it/s]"
      ]
     },
     "metadata": {},
     "output_type": "display_data"
    },
    {
     "name": "stdout",
     "output_type": "stream",
     "text": [
      "Loss → Total: 1.0295, Regression: 0.0176, Classification: 1.0119\n",
      "SM_0 → RMSE: 10.13759931, MAE: 7.95173740, ME: -1.72076797\n",
      "SM_20 → RMSE: 10.03112222, MAE: 7.81315470, ME: 0.08580921\n",
      "Classification → Accuracy: 0.72338357, F1-score: 0.71898950\n",
      "Epoch 12/60\n"
     ]
    },
    {
     "data": {
      "application/vnd.jupyter.widget-view+json": {
       "model_id": "9fb09d77d3b0470b81a51bc6327305b5",
       "version_major": 2,
       "version_minor": 0
      },
      "text/plain": [
       "  0%|          | 0/65 [00:00<?, ?it/s]"
      ]
     },
     "metadata": {},
     "output_type": "display_data"
    },
    {
     "name": "stdout",
     "output_type": "stream",
     "text": [
      "Loss → Total: 0.9685, Regression: 0.0158, Classification: 0.9527\n",
      "SM_0 → RMSE: 9.90662776, MAE: 7.62107372, ME: 1.02156699\n",
      "SM_20 → RMSE: 9.98607352, MAE: 7.85213709, ME: 1.61458766\n",
      "Classification → Accuracy: 0.72824502, F1-score: 0.72258830\n",
      "Epoch 13/60\n"
     ]
    },
    {
     "data": {
      "application/vnd.jupyter.widget-view+json": {
       "model_id": "e0e5d9352c6542ff8e2200f04788b4cc",
       "version_major": 2,
       "version_minor": 0
      },
      "text/plain": [
       "  0%|          | 0/65 [00:00<?, ?it/s]"
      ]
     },
     "metadata": {},
     "output_type": "display_data"
    },
    {
     "name": "stdout",
     "output_type": "stream",
     "text": [
      "Loss → Total: 0.9481, Regression: 0.0152, Classification: 0.9329\n",
      "SM_0 → RMSE: 9.96413513, MAE: 7.58089352, ME: 0.75204104\n",
      "SM_20 → RMSE: 9.60491314, MAE: 7.42651939, ME: 0.84630871\n",
      "Classification → Accuracy: 0.73894020, F1-score: 0.73679179\n",
      "Epoch 14/60\n"
     ]
    },
    {
     "data": {
      "application/vnd.jupyter.widget-view+json": {
       "model_id": "83cea5fba1644c56b27669a313ede281",
       "version_major": 2,
       "version_minor": 0
      },
      "text/plain": [
       "  0%|          | 0/65 [00:00<?, ?it/s]"
      ]
     },
     "metadata": {},
     "output_type": "display_data"
    },
    {
     "name": "stdout",
     "output_type": "stream",
     "text": [
      "Loss → Total: 0.9737, Regression: 0.0155, Classification: 0.9582\n",
      "SM_0 → RMSE: 9.35097508, MAE: 7.27972126, ME: 1.63253272\n",
      "SM_20 → RMSE: 9.77436445, MAE: 7.64054060, ME: 2.72806168\n",
      "Classification → Accuracy: 0.76178901, F1-score: 0.75792419\n",
      "Epoch 15/60\n"
     ]
    },
    {
     "data": {
      "application/vnd.jupyter.widget-view+json": {
       "model_id": "95516ed102a54610a1613b5140657f6f",
       "version_major": 2,
       "version_minor": 0
      },
      "text/plain": [
       "  0%|          | 0/65 [00:00<?, ?it/s]"
      ]
     },
     "metadata": {},
     "output_type": "display_data"
    },
    {
     "name": "stdout",
     "output_type": "stream",
     "text": [
      "Loss → Total: 0.9010, Regression: 0.0144, Classification: 0.8866\n",
      "SM_0 → RMSE: 9.15320315, MAE: 7.15268087, ME: 1.45172989\n",
      "SM_20 → RMSE: 9.05089800, MAE: 7.08980322, ME: 0.62858319\n",
      "Classification → Accuracy: 0.78949927, F1-score: 0.78691910\n",
      "Epoch 16/60\n"
     ]
    },
    {
     "data": {
      "application/vnd.jupyter.widget-view+json": {
       "model_id": "29db8503fff947d59edf672195939902",
       "version_major": 2,
       "version_minor": 0
      },
      "text/plain": [
       "  0%|          | 0/65 [00:00<?, ?it/s]"
      ]
     },
     "metadata": {},
     "output_type": "display_data"
    },
    {
     "name": "stdout",
     "output_type": "stream",
     "text": [
      "Loss → Total: 0.8611, Regression: 0.0137, Classification: 0.8473\n",
      "SM_0 → RMSE: 8.31145912, MAE: 6.26038837, ME: -1.03572524\n",
      "SM_20 → RMSE: 8.63306746, MAE: 6.64273834, ME: -1.43501997\n",
      "Classification → Accuracy: 0.79241614, F1-score: 0.78862800\n",
      "Epoch 17/60\n"
     ]
    },
    {
     "data": {
      "application/vnd.jupyter.widget-view+json": {
       "model_id": "a9f8c90c6150420aaaf28f582dff4e31",
       "version_major": 2,
       "version_minor": 0
      },
      "text/plain": [
       "  0%|          | 0/65 [00:00<?, ?it/s]"
      ]
     },
     "metadata": {},
     "output_type": "display_data"
    },
    {
     "name": "stdout",
     "output_type": "stream",
     "text": [
      "Loss → Total: 0.8139, Regression: 0.0122, Classification: 0.8017\n",
      "SM_0 → RMSE: 9.06526216, MAE: 6.89406633, ME: -1.31868875\n",
      "SM_20 → RMSE: 8.80315883, MAE: 6.91754341, ME: -2.63658166\n",
      "Classification → Accuracy: 0.75303841, F1-score: 0.75121275\n",
      "Epoch 18/60\n"
     ]
    },
    {
     "data": {
      "application/vnd.jupyter.widget-view+json": {
       "model_id": "aba833c64ce2482b80307bb5dabab291",
       "version_major": 2,
       "version_minor": 0
      },
      "text/plain": [
       "  0%|          | 0/65 [00:00<?, ?it/s]"
      ]
     },
     "metadata": {},
     "output_type": "display_data"
    },
    {
     "name": "stdout",
     "output_type": "stream",
     "text": [
      "Loss → Total: 0.7922, Regression: 0.0122, Classification: 0.7800\n",
      "SM_0 → RMSE: 8.74349123, MAE: 6.78532696, ME: 3.50735378\n",
      "SM_20 → RMSE: 8.86546092, MAE: 6.97043228, ME: 3.64296317\n",
      "Classification → Accuracy: 0.82109869, F1-score: 0.81763110\n",
      "Epoch 19/60\n"
     ]
    },
    {
     "data": {
      "application/vnd.jupyter.widget-view+json": {
       "model_id": "d58a5586edc64a90b6d805b35203573c",
       "version_major": 2,
       "version_minor": 0
      },
      "text/plain": [
       "  0%|          | 0/65 [00:00<?, ?it/s]"
      ]
     },
     "metadata": {},
     "output_type": "display_data"
    },
    {
     "name": "stdout",
     "output_type": "stream",
     "text": [
      "Loss → Total: 0.7762, Regression: 0.0118, Classification: 0.7644\n",
      "SM_0 → RMSE: 8.87739681, MAE: 7.02942801, ME: -0.54561692\n",
      "SM_20 → RMSE: 8.78355557, MAE: 6.82414389, ME: 1.49144161\n",
      "Classification → Accuracy: 0.83130773, F1-score: 0.82988305\n",
      "Epoch 20/60\n"
     ]
    },
    {
     "data": {
      "application/vnd.jupyter.widget-view+json": {
       "model_id": "f3b1bec343b847ccb18396b74f08e2c5",
       "version_major": 2,
       "version_minor": 0
      },
      "text/plain": [
       "  0%|          | 0/65 [00:00<?, ?it/s]"
      ]
     },
     "metadata": {},
     "output_type": "display_data"
    },
    {
     "name": "stdout",
     "output_type": "stream",
     "text": [
      "Loss → Total: 0.7308, Regression: 0.0109, Classification: 0.7199\n",
      "SM_0 → RMSE: 7.57391605, MAE: 5.82364750, ME: 0.17250760\n",
      "SM_20 → RMSE: 8.05537893, MAE: 6.20787144, ME: 1.28715801\n",
      "Classification → Accuracy: 0.84735051, F1-score: 0.84742686\n",
      "Epoch 21/60\n"
     ]
    },
    {
     "data": {
      "application/vnd.jupyter.widget-view+json": {
       "model_id": "e98b6c77894249df8849abdb434f7d59",
       "version_major": 2,
       "version_minor": 0
      },
      "text/plain": [
       "  0%|          | 0/65 [00:00<?, ?it/s]"
      ]
     },
     "metadata": {},
     "output_type": "display_data"
    },
    {
     "name": "stdout",
     "output_type": "stream",
     "text": [
      "Loss → Total: 0.6979, Regression: 0.0097, Classification: 0.6882\n",
      "SM_0 → RMSE: 7.73278496, MAE: 5.98003769, ME: 2.05460048\n",
      "SM_20 → RMSE: 8.02249987, MAE: 6.32097721, ME: 2.47328568\n",
      "Classification → Accuracy: 0.86728245, F1-score: 0.86781500\n",
      "Epoch 22/60\n"
     ]
    },
    {
     "data": {
      "application/vnd.jupyter.widget-view+json": {
       "model_id": "d5cda0a26d8b48ec8dbe0b0941e09490",
       "version_major": 2,
       "version_minor": 0
      },
      "text/plain": [
       "  0%|          | 0/65 [00:00<?, ?it/s]"
      ]
     },
     "metadata": {},
     "output_type": "display_data"
    },
    {
     "name": "stdout",
     "output_type": "stream",
     "text": [
      "Loss → Total: 0.6521, Regression: 0.0094, Classification: 0.6427\n",
      "SM_0 → RMSE: 7.19907489, MAE: 5.49264574, ME: 0.87834287\n",
      "SM_20 → RMSE: 7.29516451, MAE: 5.69815826, ME: 0.18076847\n",
      "Classification → Accuracy: 0.86193486, F1-score: 0.86076600\n",
      "Epoch 23/60\n"
     ]
    },
    {
     "data": {
      "application/vnd.jupyter.widget-view+json": {
       "model_id": "3bc37ab5bdca4524b2962165877fc589",
       "version_major": 2,
       "version_minor": 0
      },
      "text/plain": [
       "  0%|          | 0/65 [00:00<?, ?it/s]"
      ]
     },
     "metadata": {},
     "output_type": "display_data"
    },
    {
     "name": "stdout",
     "output_type": "stream",
     "text": [
      "Loss → Total: 0.7102, Regression: 0.0101, Classification: 0.7002\n",
      "SM_0 → RMSE: 7.23445251, MAE: 5.56384945, ME: 1.56327593\n",
      "SM_20 → RMSE: 7.99990272, MAE: 6.20651293, ME: 1.69828486\n",
      "Classification → Accuracy: 0.85658726, F1-score: 0.85559288\n",
      "Epoch 24/60\n"
     ]
    },
    {
     "data": {
      "application/vnd.jupyter.widget-view+json": {
       "model_id": "1bacceb7f3924db4bf2828eafbb4ee54",
       "version_major": 2,
       "version_minor": 0
      },
      "text/plain": [
       "  0%|          | 0/65 [00:00<?, ?it/s]"
      ]
     },
     "metadata": {},
     "output_type": "display_data"
    },
    {
     "name": "stdout",
     "output_type": "stream",
     "text": [
      "Loss → Total: 0.6277, Regression: 0.0113, Classification: 0.6164\n",
      "SM_0 → RMSE: 7.77029174, MAE: 5.87750769, ME: 0.66053760\n",
      "SM_20 → RMSE: 7.96456644, MAE: 6.10793543, ME: -0.53398645\n",
      "Classification → Accuracy: 0.87165775, F1-score: 0.87166751\n",
      "Epoch 25/60\n"
     ]
    },
    {
     "data": {
      "application/vnd.jupyter.widget-view+json": {
       "model_id": "5c2e58cb12ae45e3828e2faf0baec9e2",
       "version_major": 2,
       "version_minor": 0
      },
      "text/plain": [
       "  0%|          | 0/65 [00:00<?, ?it/s]"
      ]
     },
     "metadata": {},
     "output_type": "display_data"
    },
    {
     "name": "stdout",
     "output_type": "stream",
     "text": [
      "Loss → Total: 0.5831, Regression: 0.0093, Classification: 0.5738\n",
      "SM_0 → RMSE: 6.69897987, MAE: 5.12838793, ME: 0.22902019\n",
      "SM_20 → RMSE: 7.20463470, MAE: 5.67646790, ME: -0.80025029\n",
      "Classification → Accuracy: 0.87749149, F1-score: 0.87642001\n",
      "Epoch 26/60\n"
     ]
    },
    {
     "data": {
      "application/vnd.jupyter.widget-view+json": {
       "model_id": "9dbe4104b2ff4bacb7056250b0a14bcc",
       "version_major": 2,
       "version_minor": 0
      },
      "text/plain": [
       "  0%|          | 0/65 [00:00<?, ?it/s]"
      ]
     },
     "metadata": {},
     "output_type": "display_data"
    },
    {
     "name": "stdout",
     "output_type": "stream",
     "text": [
      "Loss → Total: 0.5995, Regression: 0.0093, Classification: 0.5902\n",
      "SM_0 → RMSE: 7.46587415, MAE: 5.68045568, ME: 1.07655752\n",
      "SM_20 → RMSE: 7.43087499, MAE: 5.74307013, ME: 0.66546339\n",
      "Classification → Accuracy: 0.87651920, F1-score: 0.87498663\n",
      "Epoch 27/60\n"
     ]
    },
    {
     "data": {
      "application/vnd.jupyter.widget-view+json": {
       "model_id": "cb7697f301f14f359dd5c301ac3d1ec7",
       "version_major": 2,
       "version_minor": 0
      },
      "text/plain": [
       "  0%|          | 0/65 [00:00<?, ?it/s]"
      ]
     },
     "metadata": {},
     "output_type": "display_data"
    },
    {
     "name": "stdout",
     "output_type": "stream",
     "text": [
      "Loss → Total: 0.6335, Regression: 0.0104, Classification: 0.6230\n",
      "SM_0 → RMSE: 7.98127104, MAE: 6.26921749, ME: -0.63310909\n",
      "SM_20 → RMSE: 7.40198017, MAE: 5.77774811, ME: -1.68648899\n",
      "Classification → Accuracy: 0.88575596, F1-score: 0.88554238\n",
      "Epoch 28/60\n"
     ]
    },
    {
     "data": {
      "application/vnd.jupyter.widget-view+json": {
       "model_id": "9648c43eaacb4200ba83d542d505458f",
       "version_major": 2,
       "version_minor": 0
      },
      "text/plain": [
       "  0%|          | 0/65 [00:00<?, ?it/s]"
      ]
     },
     "metadata": {},
     "output_type": "display_data"
    },
    {
     "name": "stdout",
     "output_type": "stream",
     "text": [
      "Loss → Total: 0.5688, Regression: 0.0094, Classification: 0.5593\n",
      "SM_0 → RMSE: 7.45614441, MAE: 5.82584810, ME: -0.85078996\n",
      "SM_20 → RMSE: 7.52115699, MAE: 5.88436031, ME: -0.52749944\n",
      "Classification → Accuracy: 0.88818668, F1-score: 0.88845942\n",
      "Epoch 29/60\n"
     ]
    },
    {
     "data": {
      "application/vnd.jupyter.widget-view+json": {
       "model_id": "c56abeb4d26e420695dab96c3df38a2c",
       "version_major": 2,
       "version_minor": 0
      },
      "text/plain": [
       "  0%|          | 0/65 [00:00<?, ?it/s]"
      ]
     },
     "metadata": {},
     "output_type": "display_data"
    },
    {
     "name": "stdout",
     "output_type": "stream",
     "text": [
      "Loss → Total: 0.5508, Regression: 0.0089, Classification: 0.5419\n",
      "SM_0 → RMSE: 7.12100108, MAE: 5.50855541, ME: 0.33407885\n",
      "SM_20 → RMSE: 7.20484914, MAE: 5.46978045, ME: 1.08105969\n",
      "Classification → Accuracy: 0.89547885, F1-score: 0.89676398\n",
      "Epoch 30/60\n"
     ]
    },
    {
     "data": {
      "application/vnd.jupyter.widget-view+json": {
       "model_id": "01e8bb197d0345e883357da31aa81f2d",
       "version_major": 2,
       "version_minor": 0
      },
      "text/plain": [
       "  0%|          | 0/65 [00:00<?, ?it/s]"
      ]
     },
     "metadata": {},
     "output_type": "display_data"
    },
    {
     "name": "stdout",
     "output_type": "stream",
     "text": [
      "Loss → Total: 0.5672, Regression: 0.0094, Classification: 0.5578\n",
      "SM_0 → RMSE: 7.37000041, MAE: 5.53000307, ME: -0.34229299\n",
      "SM_20 → RMSE: 8.96759090, MAE: 7.02042913, ME: 1.07584751\n",
      "Classification → Accuracy: 0.90034030, F1-score: 0.90011780\n",
      "Epoch 31/60\n"
     ]
    },
    {
     "data": {
      "application/vnd.jupyter.widget-view+json": {
       "model_id": "22f326d744934ed49e31e0506fce3605",
       "version_major": 2,
       "version_minor": 0
      },
      "text/plain": [
       "  0%|          | 0/65 [00:00<?, ?it/s]"
      ]
     },
     "metadata": {},
     "output_type": "display_data"
    },
    {
     "name": "stdout",
     "output_type": "stream",
     "text": [
      "Loss → Total: 0.5405, Regression: 0.0093, Classification: 0.5312\n",
      "SM_0 → RMSE: 7.38274430, MAE: 5.70536089, ME: -2.38228893\n",
      "SM_20 → RMSE: 7.63553454, MAE: 5.84548807, ME: -1.17815053\n",
      "Classification → Accuracy: 0.89936801, F1-score: 0.89917782\n",
      "Epoch 32/60\n"
     ]
    },
    {
     "data": {
      "application/vnd.jupyter.widget-view+json": {
       "model_id": "44cd6fac50a24a0b8f345218ef011ec2",
       "version_major": 2,
       "version_minor": 0
      },
      "text/plain": [
       "  0%|          | 0/65 [00:00<?, ?it/s]"
      ]
     },
     "metadata": {},
     "output_type": "display_data"
    },
    {
     "name": "stdout",
     "output_type": "stream",
     "text": [
      "Loss → Total: 0.5146, Regression: 0.0083, Classification: 0.5063\n",
      "SM_0 → RMSE: 7.84536325, MAE: 6.09125328, ME: -3.30279517\n",
      "SM_20 → RMSE: 8.40266836, MAE: 6.61374474, ME: -3.27490783\n",
      "Classification → Accuracy: 0.89256198, F1-score: 0.89244758\n",
      "Epoch 33/60\n"
     ]
    },
    {
     "data": {
      "application/vnd.jupyter.widget-view+json": {
       "model_id": "3d11d588be53491e84526eb8406604e9",
       "version_major": 2,
       "version_minor": 0
      },
      "text/plain": [
       "  0%|          | 0/65 [00:00<?, ?it/s]"
      ]
     },
     "metadata": {},
     "output_type": "display_data"
    },
    {
     "name": "stdout",
     "output_type": "stream",
     "text": [
      "Loss → Total: 0.5145, Regression: 0.0085, Classification: 0.5060\n",
      "SM_0 → RMSE: 7.03287606, MAE: 5.41899729, ME: -1.04438686\n",
      "SM_20 → RMSE: 7.23485826, MAE: 5.54456663, ME: 0.33844247\n",
      "Classification → Accuracy: 0.89742343, F1-score: 0.89767667\n",
      "Epoch 34/60\n"
     ]
    },
    {
     "data": {
      "application/vnd.jupyter.widget-view+json": {
       "model_id": "98e3a7ef0d154771885242a09950f24d",
       "version_major": 2,
       "version_minor": 0
      },
      "text/plain": [
       "  0%|          | 0/65 [00:00<?, ?it/s]"
      ]
     },
     "metadata": {},
     "output_type": "display_data"
    },
    {
     "name": "stdout",
     "output_type": "stream",
     "text": [
      "Loss → Total: 0.5423, Regression: 0.0088, Classification: 0.5335\n",
      "SM_0 → RMSE: 7.39862518, MAE: 5.74957371, ME: -1.14992797\n",
      "SM_20 → RMSE: 7.81145867, MAE: 6.06534290, ME: -0.89233363\n",
      "Classification → Accuracy: 0.90714633, F1-score: 0.90691765\n",
      "Epoch 35/60\n"
     ]
    },
    {
     "data": {
      "application/vnd.jupyter.widget-view+json": {
       "model_id": "da16ad68155c41979bd74762d7bdd5d5",
       "version_major": 2,
       "version_minor": 0
      },
      "text/plain": [
       "  0%|          | 0/65 [00:00<?, ?it/s]"
      ]
     },
     "metadata": {},
     "output_type": "display_data"
    },
    {
     "name": "stdout",
     "output_type": "stream",
     "text": [
      "Loss → Total: 0.4898, Regression: 0.0086, Classification: 0.4812\n",
      "SM_0 → RMSE: 6.57359437, MAE: 5.09816694, ME: 0.12807451\n",
      "SM_20 → RMSE: 6.73678369, MAE: 5.19438696, ME: 0.13040932\n",
      "Classification → Accuracy: 0.89693729, F1-score: 0.89668247\n",
      "Epoch 36/60\n"
     ]
    },
    {
     "data": {
      "application/vnd.jupyter.widget-view+json": {
       "model_id": "14e04a78fa1249a4af505ed8fd79b610",
       "version_major": 2,
       "version_minor": 0
      },
      "text/plain": [
       "  0%|          | 0/65 [00:00<?, ?it/s]"
      ]
     },
     "metadata": {},
     "output_type": "display_data"
    },
    {
     "name": "stdout",
     "output_type": "stream",
     "text": [
      "Loss → Total: 0.4650, Regression: 0.0080, Classification: 0.4569\n",
      "SM_0 → RMSE: 6.53271526, MAE: 4.96404457, ME: -1.16671371\n",
      "SM_20 → RMSE: 6.82854483, MAE: 5.28059483, ME: -1.72564495\n",
      "Classification → Accuracy: 0.91832766, F1-score: 0.91835980\n",
      "Epoch 37/60\n"
     ]
    },
    {
     "data": {
      "application/vnd.jupyter.widget-view+json": {
       "model_id": "3bb1b4b6ba7d486398ccd3231e06b8f8",
       "version_major": 2,
       "version_minor": 0
      },
      "text/plain": [
       "  0%|          | 0/65 [00:00<?, ?it/s]"
      ]
     },
     "metadata": {},
     "output_type": "display_data"
    },
    {
     "name": "stdout",
     "output_type": "stream",
     "text": [
      "Loss → Total: 0.4343, Regression: 0.0073, Classification: 0.4270\n",
      "SM_0 → RMSE: 6.71745054, MAE: 5.31840897, ME: -1.81551552\n",
      "SM_20 → RMSE: 6.52847655, MAE: 5.08861876, ME: -1.37359428\n",
      "Classification → Accuracy: 0.92270297, F1-score: 0.92320561\n",
      "Epoch 38/60\n"
     ]
    },
    {
     "data": {
      "application/vnd.jupyter.widget-view+json": {
       "model_id": "2af62800b6634e1b938f7a0787d91826",
       "version_major": 2,
       "version_minor": 0
      },
      "text/plain": [
       "  0%|          | 0/65 [00:00<?, ?it/s]"
      ]
     },
     "metadata": {},
     "output_type": "display_data"
    },
    {
     "name": "stdout",
     "output_type": "stream",
     "text": [
      "Loss → Total: 0.4063, Regression: 0.0076, Classification: 0.3987\n",
      "SM_0 → RMSE: 7.03951148, MAE: 5.45792055, ME: -1.37328160\n",
      "SM_20 → RMSE: 7.12357115, MAE: 5.52809954, ME: -0.51497674\n",
      "Classification → Accuracy: 0.91881381, F1-score: 0.91883863\n",
      "Epoch 39/60\n"
     ]
    },
    {
     "data": {
      "application/vnd.jupyter.widget-view+json": {
       "model_id": "f83e58501a524f3c944ae3ca6e97e272",
       "version_major": 2,
       "version_minor": 0
      },
      "text/plain": [
       "  0%|          | 0/65 [00:00<?, ?it/s]"
      ]
     },
     "metadata": {},
     "output_type": "display_data"
    },
    {
     "name": "stdout",
     "output_type": "stream",
     "text": [
      "Loss → Total: 0.4576, Regression: 0.0076, Classification: 0.4500\n",
      "SM_0 → RMSE: 6.34282809, MAE: 4.82984638, ME: -0.85516536\n",
      "SM_20 → RMSE: 6.76935346, MAE: 5.27577496, ME: -0.67734975\n",
      "Classification → Accuracy: 0.91541079, F1-score: 0.91521442\n",
      "Epoch 40/60\n"
     ]
    },
    {
     "data": {
      "application/vnd.jupyter.widget-view+json": {
       "model_id": "da72a1b87d754595a2acd8fbc60b55d3",
       "version_major": 2,
       "version_minor": 0
      },
      "text/plain": [
       "  0%|          | 0/65 [00:00<?, ?it/s]"
      ]
     },
     "metadata": {},
     "output_type": "display_data"
    },
    {
     "name": "stdout",
     "output_type": "stream",
     "text": [
      "Loss → Total: 0.4518, Regression: 0.0076, Classification: 0.4442\n",
      "SM_0 → RMSE: 6.72829565, MAE: 5.15930653, ME: -1.18608081\n",
      "SM_20 → RMSE: 7.02682098, MAE: 5.40931129, ME: -1.28043985\n",
      "Classification → Accuracy: 0.92659212, F1-score: 0.92696876\n",
      "Epoch 41/60\n"
     ]
    },
    {
     "data": {
      "application/vnd.jupyter.widget-view+json": {
       "model_id": "f2aa3c0e2f5e4ea38c3938373463429e",
       "version_major": 2,
       "version_minor": 0
      },
      "text/plain": [
       "  0%|          | 0/65 [00:00<?, ?it/s]"
      ]
     },
     "metadata": {},
     "output_type": "display_data"
    },
    {
     "name": "stdout",
     "output_type": "stream",
     "text": [
      "Loss → Total: 0.4448, Regression: 0.0087, Classification: 0.4361\n",
      "SM_0 → RMSE: 6.73014313, MAE: 5.14383221, ME: -0.59793317\n",
      "SM_20 → RMSE: 7.35192753, MAE: 5.73839617, ME: -1.04135036\n",
      "Classification → Accuracy: 0.92561983, F1-score: 0.92554707\n",
      "Epoch 42/60\n"
     ]
    },
    {
     "data": {
      "application/vnd.jupyter.widget-view+json": {
       "model_id": "decd61bb1c294b88b845c4062b5764e5",
       "version_major": 2,
       "version_minor": 0
      },
      "text/plain": [
       "  0%|          | 0/65 [00:00<?, ?it/s]"
      ]
     },
     "metadata": {},
     "output_type": "display_data"
    },
    {
     "name": "stdout",
     "output_type": "stream",
     "text": [
      "Loss → Total: 0.3910, Regression: 0.0065, Classification: 0.3845\n",
      "SM_0 → RMSE: 6.87832145, MAE: 5.37001753, ME: -0.55131584\n",
      "SM_20 → RMSE: 7.36405598, MAE: 5.77208138, ME: -0.25423896\n",
      "Classification → Accuracy: 0.94020418, F1-score: 0.94060579\n",
      "Epoch 43/60\n"
     ]
    },
    {
     "data": {
      "application/vnd.jupyter.widget-view+json": {
       "model_id": "dab8bb0925424295bee960efc0dde907",
       "version_major": 2,
       "version_minor": 0
      },
      "text/plain": [
       "  0%|          | 0/65 [00:00<?, ?it/s]"
      ]
     },
     "metadata": {},
     "output_type": "display_data"
    },
    {
     "name": "stdout",
     "output_type": "stream",
     "text": [
      "Loss → Total: 0.3945, Regression: 0.0069, Classification: 0.3876\n",
      "SM_0 → RMSE: 6.47528277, MAE: 4.94473076, ME: -0.21097773\n",
      "SM_20 → RMSE: 6.64096708, MAE: 5.15466833, ME: -0.41075099\n",
      "Classification → Accuracy: 0.92853670, F1-score: 0.92883236\n",
      "Epoch 44/60\n"
     ]
    },
    {
     "data": {
      "application/vnd.jupyter.widget-view+json": {
       "model_id": "fdc33423f8f84037b059c3b240daf668",
       "version_major": 2,
       "version_minor": 0
      },
      "text/plain": [
       "  0%|          | 0/65 [00:00<?, ?it/s]"
      ]
     },
     "metadata": {},
     "output_type": "display_data"
    },
    {
     "name": "stdout",
     "output_type": "stream",
     "text": [
      "Loss → Total: 0.3673, Regression: 0.0065, Classification: 0.3608\n",
      "SM_0 → RMSE: 7.04401456, MAE: 5.56050777, ME: -2.52389789\n",
      "SM_20 → RMSE: 7.38361825, MAE: 5.79588413, ME: -2.46841049\n",
      "Classification → Accuracy: 0.93437044, F1-score: 0.93462130\n",
      "Epoch 45/60\n"
     ]
    },
    {
     "data": {
      "application/vnd.jupyter.widget-view+json": {
       "model_id": "16ce1294ff92459397f1a3ffc350b9ee",
       "version_major": 2,
       "version_minor": 0
      },
      "text/plain": [
       "  0%|          | 0/65 [00:00<?, ?it/s]"
      ]
     },
     "metadata": {},
     "output_type": "display_data"
    },
    {
     "name": "stdout",
     "output_type": "stream",
     "text": [
      "Loss → Total: 0.4140, Regression: 0.0085, Classification: 0.4055\n",
      "SM_0 → RMSE: 6.56809280, MAE: 5.15451002, ME: -0.43708873\n",
      "SM_20 → RMSE: 7.39503370, MAE: 5.93500137, ME: -1.34898913\n",
      "Classification → Accuracy: 0.92270297, F1-score: 0.92313632\n",
      "Epoch 46/60\n"
     ]
    },
    {
     "data": {
      "application/vnd.jupyter.widget-view+json": {
       "model_id": "36449d20731d4584b94b87ca063c8839",
       "version_major": 2,
       "version_minor": 0
      },
      "text/plain": [
       "  0%|          | 0/65 [00:00<?, ?it/s]"
      ]
     },
     "metadata": {},
     "output_type": "display_data"
    },
    {
     "name": "stdout",
     "output_type": "stream",
     "text": [
      "Loss → Total: 0.3831, Regression: 0.0068, Classification: 0.3763\n",
      "SM_0 → RMSE: 5.98490023, MAE: 4.48195887, ME: -0.67966509\n",
      "SM_20 → RMSE: 6.32454688, MAE: 4.87390041, ME: -0.98390120\n",
      "Classification → Accuracy: 0.92367526, F1-score: 0.92443363\n",
      "Epoch 47/60\n"
     ]
    },
    {
     "data": {
      "application/vnd.jupyter.widget-view+json": {
       "model_id": "bed65911346443e6bdcf23dac90b5f33",
       "version_major": 2,
       "version_minor": 0
      },
      "text/plain": [
       "  0%|          | 0/65 [00:00<?, ?it/s]"
      ]
     },
     "metadata": {},
     "output_type": "display_data"
    },
    {
     "name": "stdout",
     "output_type": "stream",
     "text": [
      "Loss → Total: 0.4395, Regression: 0.0077, Classification: 0.4318\n",
      "SM_0 → RMSE: 6.85370042, MAE: 5.21584702, ME: -1.62680447\n",
      "SM_20 → RMSE: 8.11659299, MAE: 6.08592510, ME: -2.64933276\n",
      "Classification → Accuracy: 0.92464754, F1-score: 0.92462337\n",
      "Epoch 48/60\n"
     ]
    },
    {
     "data": {
      "application/vnd.jupyter.widget-view+json": {
       "model_id": "b1317c326f1e4cef9568c9b6025499bb",
       "version_major": 2,
       "version_minor": 0
      },
      "text/plain": [
       "  0%|          | 0/65 [00:00<?, ?it/s]"
      ]
     },
     "metadata": {},
     "output_type": "display_data"
    },
    {
     "name": "stdout",
     "output_type": "stream",
     "text": [
      "Loss → Total: 0.3966, Regression: 0.0076, Classification: 0.3890\n",
      "SM_0 → RMSE: 7.04902809, MAE: 5.49654245, ME: -2.64167118\n",
      "SM_20 → RMSE: 7.55941255, MAE: 5.95250702, ME: -3.47200203\n",
      "Classification → Accuracy: 0.93534273, F1-score: 0.93585391\n",
      "Epoch 49/60\n"
     ]
    },
    {
     "data": {
      "application/vnd.jupyter.widget-view+json": {
       "model_id": "716ebd7f1c7e4306a47d90401d48f83f",
       "version_major": 2,
       "version_minor": 0
      },
      "text/plain": [
       "  0%|          | 0/65 [00:00<?, ?it/s]"
      ]
     },
     "metadata": {},
     "output_type": "display_data"
    },
    {
     "name": "stdout",
     "output_type": "stream",
     "text": [
      "Loss → Total: 0.3397, Regression: 0.0063, Classification: 0.3335\n",
      "SM_0 → RMSE: 5.87829725, MAE: 4.43592310, ME: -0.84991592\n",
      "SM_20 → RMSE: 6.07643555, MAE: 4.68132257, ME: -0.95108807\n",
      "Classification → Accuracy: 0.94992708, F1-score: 0.95031644\n",
      "Epoch 50/60\n"
     ]
    },
    {
     "data": {
      "application/vnd.jupyter.widget-view+json": {
       "model_id": "e59ffbe239f74fbba64c02e62b5cb792",
       "version_major": 2,
       "version_minor": 0
      },
      "text/plain": [
       "  0%|          | 0/65 [00:00<?, ?it/s]"
      ]
     },
     "metadata": {},
     "output_type": "display_data"
    },
    {
     "name": "stdout",
     "output_type": "stream",
     "text": [
      "Loss → Total: 0.3192, Regression: 0.0063, Classification: 0.3129\n",
      "SM_0 → RMSE: 5.79690922, MAE: 4.42058277, ME: -0.22074182\n",
      "SM_20 → RMSE: 6.49868937, MAE: 5.10077047, ME: 0.68573701\n",
      "Classification → Accuracy: 0.94409334, F1-score: 0.94450712\n",
      "Epoch 51/60\n"
     ]
    },
    {
     "data": {
      "application/vnd.jupyter.widget-view+json": {
       "model_id": "60f8e6edf50b4bafa24b74440464c0aa",
       "version_major": 2,
       "version_minor": 0
      },
      "text/plain": [
       "  0%|          | 0/65 [00:00<?, ?it/s]"
      ]
     },
     "metadata": {},
     "output_type": "display_data"
    },
    {
     "name": "stdout",
     "output_type": "stream",
     "text": [
      "Loss → Total: 0.3111, Regression: 0.0059, Classification: 0.3051\n",
      "SM_0 → RMSE: 6.14717169, MAE: 4.68327904, ME: -0.17995930\n",
      "SM_20 → RMSE: 6.50307040, MAE: 5.01756096, ME: -0.42075300\n",
      "Classification → Accuracy: 0.93971804, F1-score: 0.93975497\n",
      "Epoch 52/60\n"
     ]
    },
    {
     "data": {
      "application/vnd.jupyter.widget-view+json": {
       "model_id": "7ecbd4481ed74974a9511a712b801746",
       "version_major": 2,
       "version_minor": 0
      },
      "text/plain": [
       "  0%|          | 0/65 [00:00<?, ?it/s]"
      ]
     },
     "metadata": {},
     "output_type": "display_data"
    },
    {
     "name": "stdout",
     "output_type": "stream",
     "text": [
      "Loss → Total: 0.3532, Regression: 0.0066, Classification: 0.3466\n",
      "SM_0 → RMSE: 5.89480952, MAE: 4.47598314, ME: -0.64101839\n",
      "SM_20 → RMSE: 6.23670430, MAE: 4.84852600, ME: -0.15990137\n",
      "Classification → Accuracy: 0.94263491, F1-score: 0.94323778\n",
      "Epoch 53/60\n"
     ]
    },
    {
     "data": {
      "application/vnd.jupyter.widget-view+json": {
       "model_id": "6421716b59b442c7ac32a714563f7ff3",
       "version_major": 2,
       "version_minor": 0
      },
      "text/plain": [
       "  0%|          | 0/65 [00:00<?, ?it/s]"
      ]
     },
     "metadata": {},
     "output_type": "display_data"
    },
    {
     "name": "stdout",
     "output_type": "stream",
     "text": [
      "Loss → Total: 0.3535, Regression: 0.0062, Classification: 0.3473\n",
      "SM_0 → RMSE: 6.31965096, MAE: 4.84159851, ME: -0.89385921\n",
      "SM_20 → RMSE: 6.34370039, MAE: 4.91402102, ME: -0.27755317\n",
      "Classification → Accuracy: 0.94360719, F1-score: 0.94334167\n",
      "Epoch 54/60\n"
     ]
    },
    {
     "data": {
      "application/vnd.jupyter.widget-view+json": {
       "model_id": "9df7772578c347738ef4bea8cf715241",
       "version_major": 2,
       "version_minor": 0
      },
      "text/plain": [
       "  0%|          | 0/65 [00:00<?, ?it/s]"
      ]
     },
     "metadata": {},
     "output_type": "display_data"
    },
    {
     "name": "stdout",
     "output_type": "stream",
     "text": [
      "Loss → Total: 0.3345, Regression: 0.0061, Classification: 0.3284\n",
      "SM_0 → RMSE: 6.32530952, MAE: 4.81741810, ME: -0.62218040\n",
      "SM_20 → RMSE: 6.38856559, MAE: 4.92736769, ME: -0.49281722\n",
      "Classification → Accuracy: 0.93728731, F1-score: 0.93811174\n",
      "Epoch 55/60\n"
     ]
    },
    {
     "data": {
      "application/vnd.jupyter.widget-view+json": {
       "model_id": "fb90de23a3aa493d9f91d263e0077ae3",
       "version_major": 2,
       "version_minor": 0
      },
      "text/plain": [
       "  0%|          | 0/65 [00:00<?, ?it/s]"
      ]
     },
     "metadata": {},
     "output_type": "display_data"
    },
    {
     "name": "stdout",
     "output_type": "stream",
     "text": [
      "Loss → Total: 0.3458, Regression: 0.0062, Classification: 0.3396\n",
      "SM_0 → RMSE: 6.51910732, MAE: 4.97882032, ME: -1.46624255\n",
      "SM_20 → RMSE: 8.29417384, MAE: 6.30537176, ME: -3.27344108\n",
      "Classification → Accuracy: 0.94360719, F1-score: 0.94348136\n",
      "Epoch 56/60\n"
     ]
    },
    {
     "data": {
      "application/vnd.jupyter.widget-view+json": {
       "model_id": "bb9972f1b21c4675b32237e53d0d54d1",
       "version_major": 2,
       "version_minor": 0
      },
      "text/plain": [
       "  0%|          | 0/65 [00:00<?, ?it/s]"
      ]
     },
     "metadata": {},
     "output_type": "display_data"
    },
    {
     "name": "stdout",
     "output_type": "stream",
     "text": [
      "Loss → Total: 0.3325, Regression: 0.0059, Classification: 0.3266\n",
      "SM_0 → RMSE: 6.13831859, MAE: 4.73490763, ME: -1.26777816\n",
      "SM_20 → RMSE: 6.22578929, MAE: 4.87149525, ME: -2.06023550\n",
      "Classification → Accuracy: 0.94555177, F1-score: 0.94563673\n",
      "Epoch 57/60\n"
     ]
    },
    {
     "data": {
      "application/vnd.jupyter.widget-view+json": {
       "model_id": "ab0f6d7f254b4fb8b54bd06d41e599f2",
       "version_major": 2,
       "version_minor": 0
      },
      "text/plain": [
       "  0%|          | 0/65 [00:00<?, ?it/s]"
      ]
     },
     "metadata": {},
     "output_type": "display_data"
    },
    {
     "name": "stdout",
     "output_type": "stream",
     "text": [
      "Loss → Total: 0.3204, Regression: 0.0062, Classification: 0.3143\n",
      "SM_0 → RMSE: 6.03879088, MAE: 4.61263895, ME: -0.65789700\n",
      "SM_20 → RMSE: 6.17863430, MAE: 4.73169613, ME: 0.03737134\n",
      "Classification → Accuracy: 0.95478853, F1-score: 0.95503902\n",
      "Epoch 58/60\n"
     ]
    },
    {
     "data": {
      "application/vnd.jupyter.widget-view+json": {
       "model_id": "80958f3da99645a7ac0fa1203612cb24",
       "version_major": 2,
       "version_minor": 0
      },
      "text/plain": [
       "  0%|          | 0/65 [00:00<?, ?it/s]"
      ]
     },
     "metadata": {},
     "output_type": "display_data"
    },
    {
     "name": "stdout",
     "output_type": "stream",
     "text": [
      "Loss → Total: 0.3333, Regression: 0.0060, Classification: 0.3272\n",
      "SM_0 → RMSE: 6.68449548, MAE: 5.18356276, ME: -0.80859935\n",
      "SM_20 → RMSE: 7.01680265, MAE: 5.55827665, ME: -0.17143033\n",
      "Classification → Accuracy: 0.94992708, F1-score: 0.95063279\n",
      "Epoch 59/60\n"
     ]
    },
    {
     "data": {
      "application/vnd.jupyter.widget-view+json": {
       "model_id": "f23b92cdbe42453ebd8721905343493d",
       "version_major": 2,
       "version_minor": 0
      },
      "text/plain": [
       "  0%|          | 0/65 [00:00<?, ?it/s]"
      ]
     },
     "metadata": {},
     "output_type": "display_data"
    },
    {
     "name": "stdout",
     "output_type": "stream",
     "text": [
      "Loss → Total: 0.2731, Regression: 0.0059, Classification: 0.2672\n",
      "SM_0 → RMSE: 6.02137414, MAE: 4.61812019, ME: -2.14524293\n",
      "SM_20 → RMSE: 6.45252231, MAE: 5.02160645, ME: -2.29754567\n",
      "Classification → Accuracy: 0.95138551, F1-score: 0.95163004\n",
      "Epoch 60/60\n"
     ]
    },
    {
     "data": {
      "application/vnd.jupyter.widget-view+json": {
       "model_id": "b82bca6423cd4cd2b8a57bb14cd671a5",
       "version_major": 2,
       "version_minor": 0
      },
      "text/plain": [
       "  0%|          | 0/65 [00:00<?, ?it/s]"
      ]
     },
     "metadata": {},
     "output_type": "display_data"
    },
    {
     "name": "stdout",
     "output_type": "stream",
     "text": [
      "Loss → Total: 0.2734, Regression: 0.0058, Classification: 0.2676\n"
     ]
    }
   ],
   "source": [
    "import torch\n",
    "import torch.nn as nn\n",
    "import pandas as pd\n",
    "import numpy as np\n",
    "from torch.utils.data import Dataset, DataLoader\n",
    "from torchvision import transforms\n",
    "from PIL import Image\n",
    "from sklearn.metrics import mean_squared_error, mean_absolute_error, accuracy_score, f1_score\n",
    "from tqdm.notebook import tqdm\n",
    "import timm\n",
    "import os\n",
    "import random\n",
    "\n",
    "device = torch.device(\"cuda\" if torch.cuda.is_available() else \"cpu\")\n",
    "print(f\"Using device: {device}\")\n",
    "print(f\"PyTorch version: {torch.__version__}\")\n",
    "\n",
    "df = pd.read_csv(r\"F:\\Soil_Labeled_Data\\labels.csv\")\n",
    "print(f\"Total labeled images before check: {len(df)}\")\n",
    "\n",
    "required_columns = ['path', 'SM_0', 'SM_20', 'light_value', 'moisture_class']\n",
    "missing_columns = [col for col in required_columns if col not in df.columns]\n",
    "if missing_columns:\n",
    "    raise ValueError(f\"DataFrame missing columns: {missing_columns}\")\n",
    "\n",
    "fallback_dir = r\"F:\\Soil_Labeled_Data\\augmented_fallback\"\n",
    "os.makedirs(fallback_dir, exist_ok=True)\n",
    "replaced_count = 0\n",
    "augment = transforms.ColorJitter(brightness=0.2, contrast=0.2)\n",
    "\n",
    "for idx, row in tqdm(df.iterrows(), total=len(df)):\n",
    "    path = row[\"path\"]\n",
    "    try:\n",
    "        img = Image.open(path).convert(\"RGB\")\n",
    "        img.verify()\n",
    "    except:\n",
    "        print(f\"Image error: {path}\")\n",
    "        folder = os.path.dirname(path)\n",
    "        all_images = [f for f in os.listdir(folder) if f.lower().endswith((\".jpg\", \".png\"))]\n",
    "        good_images = [f for f in all_images if f != os.path.basename(path)]\n",
    "        if not good_images:\n",
    "            print(f\"No replacement images in: {folder}\")\n",
    "            continue\n",
    "        candidate = random.choice(good_images)\n",
    "        candidate_path = os.path.join(folder, candidate)\n",
    "        try:\n",
    "            img = Image.open(candidate_path).convert(\"RGB\")\n",
    "            img_aug = augment(img)\n",
    "            new_filename = f\"aug_{os.path.basename(path)}\"\n",
    "            new_path = os.path.join(fallback_dir, new_filename)\n",
    "            img_aug.save(new_path)\n",
    "            df.at[idx, \"path\"] = new_path\n",
    "            replaced_count += 1\n",
    "            print(f\"Replaced with: {new_path}\")\n",
    "        except:\n",
    "            print(f\"Replacement image error: {candidate_path}\")\n",
    "            continue\n",
    "print(f\"Replaced {replaced_count} invalid images with augmented versions.\")\n",
    "\n",
    "transform = transforms.Compose([\n",
    "    transforms.Resize((224, 224)),\n",
    "    transforms.ToTensor(),\n",
    "    transforms.Normalize(mean=[0.485, 0.456, 0.406], std=[0.229, 0.224, 0.225])\n",
    "])\n",
    "\n",
    "class SoilDualTaskDataset(Dataset):\n",
    "    def __init__(self, dataframe, transform=None):\n",
    "        self.df = dataframe\n",
    "        self.transform = transform\n",
    "\n",
    "    def __len__(self):\n",
    "        return len(self.df)\n",
    "\n",
    "    def __getitem__(self, idx):\n",
    "        row = self.df.iloc[idx]\n",
    "        img = Image.open(row[\"path\"]).convert(\"RGB\")\n",
    "        if self.transform:\n",
    "            img = self.transform(img)\n",
    "        light = torch.tensor([row[\"light_value\"] / 100.0], dtype=torch.float32)\n",
    "        regression_target = torch.tensor([row[\"SM_0\"] / 100.0, row[\"SM_20\"] / 100.0], dtype=torch.float32)\n",
    "        class_target = torch.tensor(row[\"moisture_class\"], dtype=torch.long)\n",
    "        return {\n",
    "            \"image\": img,\n",
    "            \"light\": light,\n",
    "            \"regression_target\": regression_target,\n",
    "            \"class_target\": class_target\n",
    "        }\n",
    "\n",
    "class SoilNetDualHead(nn.Module):\n",
    "    def __init__(self, num_classes=10):\n",
    "        super().__init__()\n",
    "        self.initial_conv = nn.Conv2d(3, 32, kernel_size=3, stride=1, padding=1)\n",
    "        self.mnv2_block1 = nn.Sequential(*list(\n",
    "            timm.create_model(\"mobilenetv2_100.ra_in1k\", pretrained=True).blocks.children())[0:3]\n",
    "        )\n",
    "        self.channel_adapter = nn.Conv2d(32, 16, kernel_size=1, bias=False)\n",
    "        self.mobilevit_full = timm.create_model(\"mobilevitv2_050\", pretrained=True)\n",
    "        self.mobilevit_encoder = self.mobilevit_full.stages\n",
    "        self.mvit_to_mnv2 = nn.Conv2d(256, 32, kernel_size=1, bias=False)\n",
    "        self.mnv2_block2 = nn.Sequential(*list(\n",
    "            timm.create_model(\"mobilenetv2_100.ra_in1k\", pretrained=True).blocks.children())[3:7]\n",
    "        )\n",
    "        self.final_conv = nn.Conv2d(320, 1280, kernel_size=1)\n",
    "        self.pool = nn.AdaptiveAvgPool2d((1, 1))\n",
    "        self.light_dense = nn.Sequential(nn.Linear(1, 32), nn.ReLU(inplace=True))\n",
    "        self.reg_head = nn.Sequential(\n",
    "            nn.Linear(1280 + 32, 128),\n",
    "            nn.ReLU(inplace=True),\n",
    "            nn.Linear(128, 2)\n",
    "        )\n",
    "        self.cls_head = nn.Sequential(\n",
    "            nn.Linear(1280 + 32, 128),\n",
    "            nn.ReLU(inplace=True),\n",
    "            nn.Linear(128, num_classes)\n",
    "        )\n",
    "\n",
    "    def forward(self, x_img, x_light):\n",
    "        x = self.initial_conv(x_img)\n",
    "        x = self.mnv2_block1(x)\n",
    "        x = self.channel_adapter(x)\n",
    "        x = self.mobilevit_encoder(x)\n",
    "        x = self.mvit_to_mnv2(x)\n",
    "        x = self.mnv2_block2(x)\n",
    "        x = self.final_conv(x)\n",
    "        x = self.pool(x)\n",
    "        x_img_feat = torch.flatten(x, 1)\n",
    "        x_light_feat = self.light_dense(x_light)\n",
    "        x_concat = torch.cat([x_img_feat, x_light_feat], dim=1)\n",
    "        reg_out = self.reg_head(x_concat)\n",
    "        cls_out = self.cls_head(x_concat)\n",
    "        return reg_out, cls_out\n",
    "\n",
    "dataset = SoilDualTaskDataset(df, transform)\n",
    "dataloader = DataLoader(dataset, batch_size=32, shuffle=True, pin_memory=True if device.type == \"cuda\" else False, num_workers=0)\n",
    "\n",
    "num_classes = len(df[\"moisture_class\"].unique())\n",
    "model = SoilNetDualHead(num_classes=num_classes).to(device)\n",
    "\n",
    "checkpoint_path = r\"C:\\Users\\PC\\soilNet\\checkpoints_VicReg_tinyImagenet\\vicreg_model_final_mu_23.0.pth\"\n",
    "try:\n",
    "    checkpoint = torch.load(checkpoint_path, map_location=device, weights_only=False)\n",
    "    if isinstance(checkpoint, dict) and 'model_state_dict' in checkpoint:\n",
    "        model_state_dict = checkpoint['model_state_dict']\n",
    "    else:\n",
    "        model_state_dict = checkpoint\n",
    "    model_dict = model.state_dict()\n",
    "    pretrained_dict = {k: v for k, v in model_state_dict.items() \n",
    "                       if k in model_dict and model_dict[k].shape == v.shape}\n",
    "    temp_model_dict = model_dict.copy()\n",
    "    temp_model_dict.update(pretrained_dict)\n",
    "    missing_keys, unexpected_keys = model.load_state_dict(temp_model_dict, strict=False)\n",
    "    print(f\"Loaded pretrained weights from {checkpoint_path}\")\n",
    "    if missing_keys:\n",
    "        print(f\"Some keys missing in checkpoint and not loaded: {missing_keys}\")\n",
    "    if unexpected_keys:\n",
    "        print(f\"Some keys in checkpoint not in model and ignored: {unexpected_keys}\")\n",
    "except FileNotFoundError:\n",
    "    print(f\"Checkpoint not found: {checkpoint_path}. Using random initialization.\")\n",
    "except Exception as e:\n",
    "    print(f\"Error loading checkpoint: {e}. Using random initialization.\")\n",
    "\n",
    "optimizer = torch.optim.Adam(model.parameters(), lr=1e-4)\n",
    "reg_criterion = nn.MSELoss()\n",
    "cls_criterion = nn.CrossEntropyLoss()\n",
    "\n",
    "num_epochs = 60\n",
    "loss_history = []\n",
    "\n",
    "for epoch in range(num_epochs):\n",
    "    print(f\"Epoch {epoch+1}/{num_epochs}\")\n",
    "    model.train()\n",
    "    total_loss, total_reg_loss, total_cls_loss = 0, 0, 0\n",
    "    for batch in tqdm(dataloader, leave=False):\n",
    "        x_img = batch[\"image\"].to(device)\n",
    "        x_light = batch[\"light\"].to(device)\n",
    "        y_reg = batch[\"regression_target\"].to(device)\n",
    "        y_cls = batch[\"class_target\"].to(device)\n",
    "        optimizer.zero_grad()\n",
    "        pred_reg, pred_cls = model(x_img, x_light)\n",
    "        loss_reg = reg_criterion(pred_reg, y_reg)\n",
    "        loss_cls = cls_criterion(pred_cls, y_cls)\n",
    "        loss = loss_reg + loss_cls\n",
    "        loss.backward()\n",
    "        optimizer.step()\n",
    "        total_loss += loss.item()\n",
    "        total_reg_loss += loss_reg.item()\n",
    "        total_cls_loss += loss_cls.item()\n",
    "    avg_total = total_loss / len(dataloader)\n",
    "    loss_history.append((avg_total, total_reg_loss / len(dataloader), total_cls_loss / len(dataloader)))\n",
    "    print(f\"Loss → Total: {avg_total:.4f}, Regression: {total_reg_loss / len(dataloader):.4f}, Classification: {total_cls_loss / len(dataloader):.4f}\")\n",
    "    model.eval()\n",
    "    y_true_reg, y_pred_reg = [], []\n",
    "    y_true_cls, y_pred_cls = [], []\n",
    "    with torch.no_grad():\n",
    "        for batch in dataloader:\n",
    "            x_img = batch[\"image\"].to(device)\n",
    "            x_light = batch[\"light\"].to(device)\n",
    "            y_reg = batch[\"regression_target\"].to(device)\n",
    "            y_cls = batch[\"class_target\"].to(device)\n",
    "            pred_reg, pred_cls = model(x_img, x_light)\n",
    "            y_true_reg.extend(y_reg.cpu().numpy())\n",
    "            y_pred_reg.extend(pred_reg.cpu().numpy())\n",
    "            y_true_cls.extend(y_cls.cpu().numpy())\n",
    "            y_pred_cls.extend(pred_cls.argmax(dim=1).cpu().numpy())\n",
    "    y_true_reg = np.array(y_true_reg) * 100\n",
    "    y_pred_reg = np.array(y_pred_reg) * 100\n",
    "    metrics = {}\n",
    "    for i, label in enumerate([\"SM_0\", \"SM_20\"]):\n",
    "        metrics[label] = {\n",
    "            \"RMSE\": mean_squared_error(y_true_reg[:, i], y_pred_reg[:, i]) ** 0.5,\n",
    "            \"MAE\": mean_absolute_error(y_true_reg[:, i], y_pred_reg[:, i]),\n",
    "            \"ME\": np.mean(y_pred_reg[:, i] - y_true_reg[:, i]),\n",
    "        }\n",
    "    metrics[\"Classification\"] = {\n",
    "        \"Accuracy\": accuracy_score(y_true_cls, y_pred_cls),\n",
    "        \"F1-score\": f1_score(y_true_cls, y_pred_cls, average=\"weighted\")\n",
    "    }\n",
    "    for label in [\"SM_0\", \"SM_20\"]:\n",
    "        print(f\"{label} → RMSE: {metrics[label]['RMSE']:.8f}, MAE: {metrics[label]['MAE']:.8f}, ME: {metrics[label]['ME']:.8f}\")\n",
    "    print(f\"Classification → Accuracy: {metrics['Classification']['Accuracy']:.8f}, F1-score: {metrics['Classification']['F1-score']:.8f}\")\n",
    "\n",
    "torch.save(model.state_dict(), r\"C:\\Users\\PC\\soilNet\\checkpoints_VicReg_tinyImagenet\\vicreg_model_final_tinyImageNet_mu_23.0.pth\")"
   ]
  }
 ],
 "metadata": {
  "kernelspec": {
   "display_name": "Python 3 (ipykernel)",
   "language": "python",
   "name": "python3"
  },
  "language_info": {
   "codemirror_mode": {
    "name": "ipython",
    "version": 3
   },
   "file_extension": ".py",
   "mimetype": "text/x-python",
   "name": "python",
   "nbconvert_exporter": "python",
   "pygments_lexer": "ipython3",
   "version": "3.10.16"
  }
 },
 "nbformat": 4,
 "nbformat_minor": 5
}
