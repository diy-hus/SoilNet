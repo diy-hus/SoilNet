{
 "cells": [
  {
   "cell_type": "code",
   "execution_count": 1,
   "id": "0596ce92-98d1-499d-9204-7ad71a132d13",
   "metadata": {},
   "outputs": [
    {
     "name": "stdout",
     "output_type": "stream",
     "text": [
      "PyTorch version: 2.6.0+cu118\n",
      "CUDA is available: True\n"
     ]
    }
   ],
   "source": [
    "import torch\n",
    "import torch.nn as nn\n",
    "import torch.nn.functional as F\n",
    "import timm\n",
    "import pandas as pd\n",
    "import numpy as np\n",
    "from PIL import Image, UnidentifiedImageError\n",
    "import os\n",
    "import glob\n",
    "import random\n",
    "from torchvision import transforms\n",
    "from torch.utils.data import Dataset, DataLoader\n",
    "from tqdm import tqdm\n",
    "from sklearn.metrics import mean_squared_error, mean_absolute_error, accuracy_score, f1_score\n",
    "import logging\n",
    "\n",
    "device = torch.device('cuda' if torch.cuda.is_available() else 'cpu')\n",
    "print(\"PyTorch version:\", torch.__version__)\n",
    "print(\"CUDA is available:\", torch.cuda.is_available())\n"
   ]
  },
  {
   "cell_type": "code",
   "execution_count": 2,
   "id": "966ef7e8-05d4-43fa-981d-6079476f01a4",
   "metadata": {},
   "outputs": [],
   "source": [
    "def preprocess_images(df):\n",
    "    new_df = df.copy()\n",
    "    deleted_count = 0\n",
    "    valid_indices = []\n",
    "    for idx, row in tqdm(new_df.iterrows(), total=len(new_df)):\n",
    "        path = row[\"path\"]\n",
    "        try:\n",
    "            img = Image.open(path).convert(\"RGB\")\n",
    "            img.verify()\n",
    "            valid_indices.append(idx)\n",
    "        except (UnidentifiedImageError, FileNotFoundError, OSError) as e:\n",
    "            logging.info(f\"Image error: {path} ({str(e)})\")\n",
    "            try:\n",
    "                if os.path.exists(path):\n",
    "                    os.remove(path)\n",
    "                    deleted_count += 1\n",
    "                    logging.info(f\"Deleted image: {path}\")\n",
    "            except (PermissionError, OSError) as e:\n",
    "                logging.error(f\"Cannot delete image {path}: {str(e)}\")\n",
    "    new_df = new_df.loc[valid_indices].reset_index(drop=True)\n",
    "    print(f\"Deleted {deleted_count} invalid labeled images. {len(new_df)} images remain.\")\n",
    "    logging.info(f\"Deleted {deleted_count} labeled images. {len(new_df)} images remain.\")\n",
    "    return new_df"
   ]
  },
  {
   "cell_type": "code",
   "execution_count": 3,
   "id": "a58ccc4c-3d30-4b46-b0e4-e3286cad4d0b",
   "metadata": {},
   "outputs": [
    {
     "name": "stdout",
     "output_type": "stream",
     "text": [
      "Total unlabeled images before check: 11995\n"
     ]
    },
    {
     "name": "stderr",
     "output_type": "stream",
     "text": [
      "100%|███████████████████████████████████████████████████████████████████████████| 11995/11995 [01:25<00:00, 140.20it/s]\n"
     ]
    },
    {
     "name": "stdout",
     "output_type": "stream",
     "text": [
      "Deleted 0 invalid unlabeled images. 11995 images remain.\n",
      "Images after check and error removal: 11995\n",
      "Total labeled images before check: 2057\n",
      "Sample image paths:\n",
      "0    F:\\Soil_Labeled_Data\\M_0_10\\L_0_10\\alluvial\\z5...\n",
      "1    F:\\Soil_Labeled_Data\\M_0_10\\L_0_10\\alluvial\\z5...\n",
      "2    F:\\Soil_Labeled_Data\\M_0_10\\L_0_10\\alluvial\\z5...\n",
      "3    F:\\Soil_Labeled_Data\\M_0_10\\L_0_10\\alluvial\\z5...\n",
      "4    F:\\Soil_Labeled_Data\\M_0_10\\L_0_10\\alluvial\\z5...\n",
      "Name: path, dtype: object\n"
     ]
    },
    {
     "name": "stderr",
     "output_type": "stream",
     "text": [
      "100%|██████████████████████████████████████████████████████████████████████████████| 2057/2057 [01:07<00:00, 30.47it/s]\n"
     ]
    },
    {
     "name": "stdout",
     "output_type": "stream",
     "text": [
      "Deleted 0 invalid labeled images. 2052 images remain.\n",
      "Checking and replacing invalid images...\n"
     ]
    },
    {
     "name": "stderr",
     "output_type": "stream",
     "text": [
      "100%|██████████████████████████████████████████████████████████████████████████████| 2052/2052 [01:08<00:00, 30.17it/s]"
     ]
    },
    {
     "name": "stdout",
     "output_type": "stream",
     "text": [
      "Replaced 0 invalid images with augmented versions.\n"
     ]
    },
    {
     "name": "stderr",
     "output_type": "stream",
     "text": [
      "\n"
     ]
    }
   ],
   "source": [
    "def preprocess_unlabeled_images(image_paths):\n",
    "    new_image_paths = []\n",
    "    deleted_count = 0\n",
    "    for path in tqdm(image_paths):\n",
    "        try:\n",
    "            img = Image.open(path).convert(\"RGB\")\n",
    "            img.verify()\n",
    "            new_image_paths.append(path)\n",
    "        except (UnidentifiedImageError, FileNotFoundError, OSError) as e:\n",
    "            logging.info(f\"Image error: {path} ({str(e)})\")\n",
    "            try:\n",
    "                if os.path.exists(path):\n",
    "                    os.remove(path)\n",
    "                    deleted_count += 1\n",
    "                    logging.info(f\"Deleted image: {path}\")\n",
    "            except (PermissionError, OSError) as e:\n",
    "                logging.error(f\"Cannot delete image {path}: {str(e)}\")\n",
    "    print(f\"Deleted {deleted_count} invalid unlabeled images. {len(new_image_paths)} images remain.\")\n",
    "    logging.info(f\"Deleted {deleted_count} unlabeled images. {len(new_image_paths)} images remain.\")\n",
    "    return new_image_paths\n",
    "\n",
    "image_dir = r\"F:/unlabeled_images\"\n",
    "image_paths = []\n",
    "for ext in [\"*.jpg\", \"*.jpeg\", \"*.png\", \"*.bmp\"]:\n",
    "    image_paths.extend(glob.glob(os.path.join(image_dir, \"**\", ext), recursive=True))\n",
    "print(f\"Total unlabeled images before check: {len(image_paths)}\")\n",
    "image_paths = preprocess_unlabeled_images(image_paths)\n",
    "print(f\"Images after check and error removal: {len(image_paths)}\")\n",
    "\n",
    "\n",
    "label_csv_path = r\"F:\\Soil_Labeled_Data\\labels.csv\"\n",
    "fallback_dir = r\"F:\\Soil_Labeled_Data\\augmented_fallback\"\n",
    "os.makedirs(fallback_dir, exist_ok=True)\n",
    "df = pd.read_csv(label_csv_path)\n",
    "print(f\"Total labeled images before check: {len(df)}\")\n",
    "print(\"Sample image paths:\")\n",
    "print(df[\"path\"].head())\n",
    "df = preprocess_images(df)\n",
    "\n",
    "augment = transforms.ColorJitter(brightness=0.2, contrast=0.2)\n",
    "replaced_count = 0\n",
    "print(\"Checking and replacing invalid images...\")\n",
    "for idx, row in tqdm(df.iterrows(), total=len(df)):\n",
    "    path = row[\"path\"]\n",
    "    try:\n",
    "        img = Image.open(path).convert(\"RGB\")\n",
    "        img.verify()\n",
    "    except (UnidentifiedImageError, FileNotFoundError, OSError):\n",
    "        print(f\"Image error: {path}\")\n",
    "        folder = os.path.dirname(path)\n",
    "        all_images = [f for f in os.listdir(folder) if f.lower().endswith((\".jpg\", \".png\"))]\n",
    "        good_images = [f for f in all_images if f != os.path.basename(path)]\n",
    "        if not good_images:\n",
    "            print(f\"No replacement images in: {folder}\")\n",
    "            continue\n",
    "        candidate = random.choice(good_images)\n",
    "        candidate_path = os.path.join(folder, candidate)\n",
    "        try:\n",
    "            img = Image.open(candidate_path).convert(\"RGB\")\n",
    "            img_aug = augment(img)\n",
    "            new_filename = f\"aug_{os.path.basename(path)}\"\n",
    "            new_path = os.path.join(fallback_dir, new_filename)\n",
    "            img_aug.save(new_path)\n",
    "            df.at[idx, \"path\"] = new_path\n",
    "            replaced_count += 1\n",
    "            print(f\"Replaced with: {new_path}\")\n",
    "        except Exception as e:\n",
    "            print(f\"Replacement image error: {candidate_path} ({e})\")\n",
    "print(f\"Replaced {replaced_count} invalid images with augmented versions.\")\n",
    "\n",
    "image_size = 224\n",
    "transform = transforms.Compose([\n",
    "    transforms.RandomResizedCrop(image_size, scale=(0.8, 1.0)),\n",
    "    transforms.RandomHorizontalFlip(p=0.5),\n",
    "    transforms.RandomApply([transforms.ColorJitter(brightness=0.4, contrast=0.4, saturation=0.4, hue=0.1)], p=0.8),\n",
    "    transforms.RandomGrayscale(p=0.2),\n",
    "    transforms.GaussianBlur(kernel_size=3, sigma=(0.1, 2.0)),\n",
    "    transforms.ToTensor(),\n",
    "    transforms.Normalize(mean=[0.485, 0.456, 0.406], std=[0.229, 0.224, 0.225])\n",
    "])\n",
    "\n",
    "labeled_transform = transforms.Compose([\n",
    "    transforms.Resize((image_size, image_size)),\n",
    "    transforms.ToTensor(),\n",
    "    transforms.Normalize(mean=[0.485, 0.456, 0.406], std=[0.229, 0.224, 0.225])\n",
    "])\n",
    "\n",
    "class UnlabeledImageDataset(Dataset):\n",
    "    def __init__(self, image_paths, transform):\n",
    "        self.image_paths = image_paths\n",
    "        self.transform = transform\n",
    "    def __len__(self):\n",
    "        return len(self.image_paths)\n",
    "    def __getitem__(self, idx):\n",
    "        try:\n",
    "            img_path = self.image_paths[idx]\n",
    "            image = Image.open(img_path).convert(\"RGB\")\n",
    "            img1 = self.transform(image)\n",
    "            img2 = self.transform(image)\n",
    "            return img1, img2\n",
    "        except Exception as e:\n",
    "            print(f\"Error reading image {img_path}: {e}\")\n",
    "            logging.error(f\"Error reading image {img_path}: {e}\")\n",
    "            return self.__getitem__((idx + 1) % len(self.image_paths))\n",
    "\n",
    "class LabeledImageDataset(Dataset):\n",
    "    def __init__(self, df, transform):\n",
    "        self.df = df\n",
    "        self.transform = transform\n",
    "    def __len__(self):\n",
    "        return len(self.df)\n",
    "    def __getitem__(self, idx):\n",
    "        row = self.df.iloc[idx]\n",
    "        img_path = row['path']\n",
    "        try:\n",
    "            image = Image.open(img_path).convert(\"RGB\")\n",
    "            img = self.transform(image)\n",
    "        except Exception as e:\n",
    "            print(f\"Error reading image {img_path}: {e}\")\n",
    "            logging.error(f\"Error reading image {img_path}: {e}\")\n",
    "            return self.__getitem__((idx + 1) % len(self.df))\n",
    "        humidity = torch.tensor([row['SM_0'] / 100, row['SM_20'] / 100], dtype=torch.float32)\n",
    "        class_label = torch.tensor(row[\"moisture_class\"], dtype=torch.long)\n",
    "        return img, humidity, class_label\n",
    "\n",
    "\n"
   ]
  },
  {
   "cell_type": "code",
   "execution_count": 4,
   "id": "e4fc52c1-eddc-4bc9-9373-9b9c710f62b1",
   "metadata": {},
   "outputs": [],
   "source": [
    "unlabeled_dataset = UnlabeledImageDataset(image_paths, transform)\n",
    "unlabeled_dataloader = DataLoader(unlabeled_dataset, batch_size=8, shuffle=True, drop_last=True, num_workers=0)\n",
    "labeled_dataset = LabeledImageDataset(df, labeled_transform)\n",
    "labeled_dataloader = DataLoader(labeled_dataset, batch_size=8, shuffle=True, drop_last=True, num_workers=0)"
   ]
  },
  {
   "cell_type": "code",
   "execution_count": 5,
   "id": "32a77d02-f202-4d02-8e4a-2b05da817f82",
   "metadata": {},
   "outputs": [],
   "source": [
    "class SoilNetDualHead(nn.Module):\n",
    "    def __init__(self, num_classes=10, simclr_mode=False):\n",
    "        super().__init__()\n",
    "        self.simclr_mode = simclr_mode\n",
    "        self.initial_conv = nn.Conv2d(3, 32, kernel_size=3, stride=1, padding=1)\n",
    "        self.mnv2_block1 = nn.Sequential(*list(\n",
    "            timm.create_model(\"mobilenetv2_100.ra_in1k\", pretrained=True).blocks.children())[0:3]\n",
    "        )\n",
    "        self.channel_adapter = nn.Conv2d(32, 16, kernel_size=1, bias=False)\n",
    "        self.mobilevit_full = timm.create_model(\"mobilevitv2_050\", pretrained=True)\n",
    "        self.mobilevit_encoder = self.mobilevit_full.stages\n",
    "        self.mvit_to_mnv2 = nn.Conv2d(256, 32, kernel_size=1, bias=False)\n",
    "        self.mnv2_block2 = nn.Sequential(*list(\n",
    "            timm.create_model(\"mobilenetv2_100.ra_in1k\", pretrained=True).blocks.children())[3:7]\n",
    "        )\n",
    "        self.final_conv = nn.Conv2d(320, 1280, kernel_size=1)\n",
    "        self.pool = nn.AdaptiveAvgPool2d((1, 1))\n",
    "        self.light_dense = nn.Sequential(nn.Linear(1, 32), nn.ReLU(inplace=True))\n",
    "        self.reg_head = nn.Sequential(\n",
    "            nn.Linear(1280 + 32, 128),\n",
    "            nn.ReLU(inplace=True),\n",
    "            nn.Linear(128, 2)\n",
    "        )\n",
    "        self.cls_head = nn.Sequential(\n",
    "            nn.Linear(1280 + 32, 128),\n",
    "            nn.ReLU(inplace=True),\n",
    "            nn.Linear(128, num_classes)\n",
    "        )\n",
    "\n",
    "    def forward(self, x_img, x_light=None):\n",
    "        x = self.initial_conv(x_img)\n",
    "        x = self.mnv2_block1(x)\n",
    "        x = self.channel_adapter(x)\n",
    "        x = self.mobilevit_encoder(x)\n",
    "        x = self.mvit_to_mnv2(x)\n",
    "        x = self.mnv2_block2(x)\n",
    "        x = self.final_conv(x)\n",
    "        x = self.pool(x)\n",
    "        x_img_feat = torch.flatten(x, 1)\n",
    "        if self.simclr_mode:\n",
    "            return x_img_feat\n",
    "        x_light_feat = self.light_dense(x_light)\n",
    "        x_concat = torch.cat([x_img_feat, x_light_feat], dim=1)\n",
    "        reg_out = self.reg_head(x_concat)\n",
    "        cls_out = self.cls_head(x_concat)\n",
    "        return reg_out, cls_out\n"
   ]
  },
  {
   "cell_type": "code",
   "execution_count": 6,
   "id": "54a8425c-d9e1-4df7-a303-4e540da0999d",
   "metadata": {},
   "outputs": [
    {
     "name": "stdout",
     "output_type": "stream",
     "text": [
      "Loaded backbone weights from soilnet_pretrained_imageNet.pth (ignoring light_dense, reg_head, cls_head)\n"
     ]
    }
   ],
   "source": [
    "class Projector(nn.Module):\n",
    "    def __init__(self, input_dim=1280, proj_dim=128):\n",
    "        super().__init__()\n",
    "        self.net = nn.Sequential(\n",
    "            nn.Linear(input_dim, input_dim),\n",
    "            nn.ReLU(inplace=True),\n",
    "            nn.Linear(input_dim, proj_dim)\n",
    "        )\n",
    "    def forward(self, x):\n",
    "        return self.net(x)\n",
    "\n",
    "class OnlineLinearRegression(nn.Module):\n",
    "    def __init__(self, input_dim=1280, output_dim=2):\n",
    "        super().__init__()\n",
    "        self.linear = nn.Linear(input_dim, output_dim)\n",
    "    def forward(self, x):\n",
    "        return self.linear(x)\n",
    "\n",
    "class OnlineClassifier(nn.Module):\n",
    "    def __init__(self, input_dim=1280, num_classes=10):\n",
    "        super().__init__()\n",
    "        self.linear = nn.Linear(input_dim, num_classes)\n",
    "    def forward(self, x):\n",
    "        return self.linear(x)\n",
    "\n",
    "def vicreg_loss(z1, z2, lambda_=25.0, mu=25.0, nu=1.0, epsilon=1e-4):\n",
    "    invariance_loss = F.mse_loss(z1, z2)\n",
    "    def variance_term(z):\n",
    "        z_std = torch.sqrt(z.var(dim=0) + epsilon)\n",
    "        return torch.mean(F.relu(1 - z_std))\n",
    "    var_loss = variance_term(z1) + variance_term(z2)\n",
    "    def covariance_term(z):\n",
    "        z = z - z.mean(dim=0)\n",
    "        cov = (z.T @ z) / (z.shape[0] - 1)\n",
    "        off_diag = cov - torch.diag(cov.diag())\n",
    "        return off_diag.pow(2).sum() / z.shape[1]\n",
    "    cov_loss = covariance_term(z1) + covariance_term(z2)\n",
    "    return lambda_ * invariance_loss + mu * var_loss + nu * cov_loss\n",
    "\n",
    "model = SoilNetDualHead(num_classes=10, simclr_mode=True).to(device)\n",
    "checkpoint_path = r\"C:\\Users\\PC\\soilNet\\Model\\Soilnet_pretrained_ImageNet.pth\"\n",
    "try:\n",
    "    state_dict = torch.load(checkpoint_path, map_location=device)\n",
    "    filtered_state_dict = {k: v for k, v in state_dict.items() if not k.startswith(('light_dense', 'reg_head', 'cls_head'))}\n",
    "    model.load_state_dict(filtered_state_dict, strict=False)\n",
    "    print(\"Loaded backbone weights from soilnet_pretrained_imageNet.pth (ignoring light_dense, reg_head, cls_head)\")\n",
    "except FileNotFoundError:\n",
    "    print(\"Checkpoint file not found, starting with random weights\")\n",
    "\n",
    "\n",
    "projector = Projector(input_dim=1280, proj_dim=128).to(device)\n",
    "linear_reg = OnlineLinearRegression(input_dim=1280, output_dim=2).to(device)\n",
    "classifier = OnlineClassifier(input_dim=1280, num_classes=10).to(device)\n",
    "\n",
    "\n",
    "optimizer_vicreg = torch.optim.Adam(list(model.parameters()) + list(projector.parameters()), lr=1e-4)\n",
    "optimizer_linear = torch.optim.Adam(linear_reg.parameters(), lr=1e-3)\n",
    "optimizer_classifier = torch.optim.Adam(classifier.parameters(), lr=1e-3)\n",
    "\n",
    "checkpoint_dir = r\"C:\\Users\\PC\\soilNet\\checkpoints_VicReg_tinyImagenet\"\n",
    "\n",
    "os.makedirs(checkpoint_dir, exist_ok=True)"
   ]
  },
  {
   "cell_type": "code",
   "execution_count": 7,
   "id": "d8a53a6b-0c26-4e41-9a7f-1ec945db99f2",
   "metadata": {},
   "outputs": [],
   "source": [
    "def train_vicreg_with_mu(mu=25.0, num_epochs=50):\n",
    "    vicreg_losses, mse_losses, rmse_losses, mae_losses, accuracy_scores, f1_scores = [], [], [], [], [], []\n",
    "    labeled_iterator = iter(labeled_dataloader)\n",
    "    for epoch in range(1, num_epochs + 1):\n",
    "        model.train()\n",
    "        projector.train()\n",
    "        linear_reg.train()\n",
    "        classifier.train()\n",
    "        running_vicreg_loss = running_mse = running_mae = running_accuracy = running_f1 = 0.0\n",
    "        num_batches = 0\n",
    "        # Gán vòng lặp tqdm vào biến loop\n",
    "        loop = tqdm(unlabeled_dataloader, leave=False)\n",
    "        for img1, img2 in loop:\n",
    "            img1, img2 = img1.to(device), img2.to(device)\n",
    "            feat1 = model(img1, x_light=None)\n",
    "            feat2 = model(img2, x_light=None)\n",
    "            z1 = projector(feat1)\n",
    "            z2 = projector(feat2)\n",
    "            vicreg_loss_val = vicreg_loss(z1, z2, mu=mu)\n",
    "            optimizer_vicreg.zero_grad()\n",
    "            vicreg_loss_val.backward()\n",
    "            optimizer_vicreg.step()\n",
    "            try:\n",
    "                labeled_img, humidity, class_label = next(labeled_iterator)\n",
    "            except StopIteration:\n",
    "                labeled_iterator = iter(labeled_dataloader)\n",
    "                labeled_img, humidity, class_label = next(labeled_iterator)\n",
    "            labeled_img, humidity, class_label = labeled_img.to(device), humidity.to(device), class_label.to(device)\n",
    "            with torch.no_grad():\n",
    "                feat = model(labeled_img, x_light=None)\n",
    "            pred_humidity = linear_reg(feat)\n",
    "            mse_loss = F.mse_loss(pred_humidity, humidity)\n",
    "            optimizer_linear.zero_grad()\n",
    "            mse_loss.backward()\n",
    "            optimizer_linear.step()\n",
    "            pred_logits = classifier(feat)\n",
    "            cls_loss = F.cross_entropy(pred_logits, class_label)\n",
    "            optimizer_classifier.zero_grad()\n",
    "            cls_loss.backward()\n",
    "            optimizer_classifier.step()\n",
    "            pred_humidity_np = pred_humidity.detach().cpu().numpy() * 100\n",
    "            humidity_np = humidity.detach().cpu().numpy() * 100\n",
    "            mse = mean_squared_error(humidity_np, pred_humidity_np)\n",
    "            rmse = np.sqrt(mse)\n",
    "            mae = mean_absolute_error(humidity_np, pred_humidity_np)\n",
    "            pred_classes = torch.argmax(pred_logits, dim=1).detach().cpu().numpy()\n",
    "            true_classes = class_label.detach().cpu().numpy()\n",
    "            accuracy = accuracy_score(true_classes, pred_classes)\n",
    "            f1 = f1_score(true_classes, pred_classes, average='weighted')\n",
    "            running_vicreg_loss += vicreg_loss_val.item()\n",
    "            running_mse += mse\n",
    "            running_mae += mae\n",
    "            running_accuracy += accuracy\n",
    "            running_f1 += f1\n",
    "            num_batches += 1\n",
    "            # Cập nhật tiến trình với loop.set_postfix\n",
    "            loop.set_postfix(vicreg_loss=vicreg_loss_val.item(), mse=mse, rmse=rmse, mae=mae, accuracy=accuracy, f1=f1)\n",
    "        avg_vicreg_loss = running_vicreg_loss / num_batches\n",
    "        avg_mse = running_mse / num_batches\n",
    "        avg_rmse = np.sqrt(avg_mse)\n",
    "        avg_mae = running_mae / num_batches\n",
    "        avg_accuracy = running_accuracy / num_batches\n",
    "        avg_f1 = running_f1 / num_batches\n",
    "        vicreg_losses.append(avg_vicreg_loss)\n",
    "        mse_losses.append(avg_mse)\n",
    "        rmse_losses.append(avg_rmse)\n",
    "        mae_losses.append(avg_mae)\n",
    "        accuracy_scores.append(avg_accuracy)\n",
    "        f1_scores.append(avg_f1)\n",
    "        print(f\"Epoch {epoch:3d}/{num_epochs} (mu={mu}) - VICReg Loss: {avg_vicreg_loss:.4f}, MSE: {avg_mse:.4f}, RMSE: {avg_rmse:.4f}, MAE: {avg_mae:.4f}, Accuracy: {avg_accuracy:.8f}, F1-Score: {avg_f1:.8f}\")\n",
    "        checkpoint = {\n",
    "            'epoch': epoch,\n",
    "            'model_state_dict': model.state_dict(),\n",
    "            'projector_state_dict': projector.state_dict(),\n",
    "            'linear_reg_state_dict': linear_reg.state_dict(),\n",
    "            'classifier_state_dict': classifier.state_dict(),\n",
    "            'vicreg_loss': avg_vicreg_loss,\n",
    "            'mse_loss': avg_mse,\n",
    "            'rmse_loss': avg_rmse,\n",
    "            'mae_loss': avg_mae,\n",
    "            'accuracy': avg_accuracy,\n",
    "            'f1_score': avg_f1\n",
    "        }\n",
    "        checkpoint_path = os.path.join(checkpoint_dir, f'vicreg_mu_{mu}_epoch_{epoch}.pth')\n",
    "        torch.save(checkpoint, checkpoint_path)\n",
    "        print(f\"Saved checkpoint: {checkpoint_path}\")\n",
    "        logging.info(f\"Saved checkpoint: {checkpoint_path}\")\n",
    "    final_model_path = os.path.join(checkpoint_dir, f'vicreg_model_final_mu_{mu}.pth')\n",
    "    final_projector_path = os.path.join(checkpoint_dir, f'vicreg_projector_final_mu_{mu}.pth')\n",
    "    final_linear_reg_path = os.path.join(checkpoint_dir, f'vicreg_linear_reg_final_mu_{mu}.pth')\n",
    "    final_classifier_path = os.path.join(checkpoint_dir, f'vicreg_classifier_final_mu_{mu}.pth')\n",
    "    torch.save(model.state_dict(), final_model_path)\n",
    "    torch.save(projector.state_dict(), final_projector_path)\n",
    "    torch.save(linear_reg.state_dict(), final_linear_reg_path)\n",
    "    torch.save(classifier.state_dict(), final_classifier_path)\n",
    "    print(f\"Saved final models (mu={mu}):\")\n",
    "    print(f\"  - Model: {final_model_path}\")\n",
    "    print(f\"  - Projector: {final_projector_path}\")\n",
    "    print(f\"  - Linear Regression: {final_linear_reg_path}\")\n",
    "    print(f\"  - Classifier: {final_classifier_path}\")\n",
    "    logging.info(f\"Saved final models (mu={mu}): {final_model_path}, {final_projector_path}, {final_linear_reg_path}, {final_classifier_path}\")"
   ]
  },
  {
   "cell_type": "code",
   "execution_count": 8,
   "id": "1bdfddd5-50d3-4ce5-85a3-54c83e48bfa2",
   "metadata": {
    "scrolled": true
   },
   "outputs": [
    {
     "name": "stderr",
     "output_type": "stream",
     "text": [
      "                                                                                                                       "
     ]
    },
    {
     "name": "stdout",
     "output_type": "stream",
     "text": [
      "Epoch   1/60 (mu=23.0) - VICReg Loss: 28.5835, MSE: 2871.5276, RMSE: 53.5866, MAE: 39.7510, Accuracy: 0.21205804, F1-Score: 0.22086073\n",
      "Saved checkpoint: C:\\Users\\PC\\soilNet\\checkpoints_VicReg_tinyImagenet\\vicreg_mu_23.0_epoch_1.pth\n"
     ]
    },
    {
     "name": "stderr",
     "output_type": "stream",
     "text": [
      "                                                                                                                       "
     ]
    },
    {
     "name": "stdout",
     "output_type": "stream",
     "text": [
      "Epoch   2/60 (mu=23.0) - VICReg Loss: 25.6181, MSE: 1247.9046, RMSE: 35.3257, MAE: 28.0879, Accuracy: 0.21956304, F1-Score: 0.23091625\n",
      "Saved checkpoint: C:\\Users\\PC\\soilNet\\checkpoints_VicReg_tinyImagenet\\vicreg_mu_23.0_epoch_2.pth\n"
     ]
    },
    {
     "name": "stderr",
     "output_type": "stream",
     "text": [
      "                                                                                                                       "
     ]
    },
    {
     "name": "stdout",
     "output_type": "stream",
     "text": [
      "Epoch   3/60 (mu=23.0) - VICReg Loss: 24.7948, MSE: 1150.3058, RMSE: 33.9162, MAE: 27.0348, Accuracy: 0.21756171, F1-Score: 0.22692986\n",
      "Saved checkpoint: C:\\Users\\PC\\soilNet\\checkpoints_VicReg_tinyImagenet\\vicreg_mu_23.0_epoch_3.pth\n"
     ]
    },
    {
     "name": "stderr",
     "output_type": "stream",
     "text": [
      "                                                                                                                       "
     ]
    },
    {
     "name": "stdout",
     "output_type": "stream",
     "text": [
      "Epoch   4/60 (mu=23.0) - VICReg Loss: 24.4781, MSE: 1187.3090, RMSE: 34.4574, MAE: 27.5708, Accuracy: 0.21506004, F1-Score: 0.22299668\n",
      "Saved checkpoint: C:\\Users\\PC\\soilNet\\checkpoints_VicReg_tinyImagenet\\vicreg_mu_23.0_epoch_4.pth\n"
     ]
    },
    {
     "name": "stderr",
     "output_type": "stream",
     "text": [
      "                                                                                                                       "
     ]
    },
    {
     "name": "stdout",
     "output_type": "stream",
     "text": [
      "Epoch   5/60 (mu=23.0) - VICReg Loss: 24.1707, MSE: 1250.8195, RMSE: 35.3669, MAE: 28.2571, Accuracy: 0.21264176, F1-Score: 0.22138847\n",
      "Saved checkpoint: C:\\Users\\PC\\soilNet\\checkpoints_VicReg_tinyImagenet\\vicreg_mu_23.0_epoch_5.pth\n"
     ]
    },
    {
     "name": "stderr",
     "output_type": "stream",
     "text": [
      "                                                                                                                       "
     ]
    },
    {
     "name": "stdout",
     "output_type": "stream",
     "text": [
      "Epoch   6/60 (mu=23.0) - VICReg Loss: 24.0013, MSE: 1168.4533, RMSE: 34.1826, MAE: 27.2422, Accuracy: 0.20947298, F1-Score: 0.21544244\n",
      "Saved checkpoint: C:\\Users\\PC\\soilNet\\checkpoints_VicReg_tinyImagenet\\vicreg_mu_23.0_epoch_6.pth\n"
     ]
    },
    {
     "name": "stderr",
     "output_type": "stream",
     "text": [
      "                                                                                                                       "
     ]
    },
    {
     "name": "stdout",
     "output_type": "stream",
     "text": [
      "Epoch   7/60 (mu=23.0) - VICReg Loss: 23.9422, MSE: 1192.8908, RMSE: 34.5383, MAE: 27.5897, Accuracy: 0.20421948, F1-Score: 0.20969218\n",
      "Saved checkpoint: C:\\Users\\PC\\soilNet\\checkpoints_VicReg_tinyImagenet\\vicreg_mu_23.0_epoch_7.pth\n"
     ]
    },
    {
     "name": "stderr",
     "output_type": "stream",
     "text": [
      "                                                                                                                       "
     ]
    },
    {
     "name": "stdout",
     "output_type": "stream",
     "text": [
      "Epoch   8/60 (mu=23.0) - VICReg Loss: 23.8291, MSE: 1222.6732, RMSE: 34.9667, MAE: 27.9964, Accuracy: 0.19954970, F1-Score: 0.20328552\n",
      "Saved checkpoint: C:\\Users\\PC\\soilNet\\checkpoints_VicReg_tinyImagenet\\vicreg_mu_23.0_epoch_8.pth\n"
     ]
    },
    {
     "name": "stderr",
     "output_type": "stream",
     "text": [
      "                                                                                                                       "
     ]
    },
    {
     "name": "stdout",
     "output_type": "stream",
     "text": [
      "Epoch   9/60 (mu=23.0) - VICReg Loss: 23.7593, MSE: 1223.6841, RMSE: 34.9812, MAE: 27.9316, Accuracy: 0.20330220, F1-Score: 0.20984029\n",
      "Saved checkpoint: C:\\Users\\PC\\soilNet\\checkpoints_VicReg_tinyImagenet\\vicreg_mu_23.0_epoch_9.pth\n"
     ]
    },
    {
     "name": "stderr",
     "output_type": "stream",
     "text": [
      "                                                                                                                       "
     ]
    },
    {
     "name": "stdout",
     "output_type": "stream",
     "text": [
      "Epoch  10/60 (mu=23.0) - VICReg Loss: 23.7093, MSE: 1258.4846, RMSE: 35.4751, MAE: 28.5881, Accuracy: 0.20463642, F1-Score: 0.21201118\n",
      "Saved checkpoint: C:\\Users\\PC\\soilNet\\checkpoints_VicReg_tinyImagenet\\vicreg_mu_23.0_epoch_10.pth\n"
     ]
    },
    {
     "name": "stderr",
     "output_type": "stream",
     "text": [
      "                                                                                                                       "
     ]
    },
    {
     "name": "stdout",
     "output_type": "stream",
     "text": [
      "Epoch  11/60 (mu=23.0) - VICReg Loss: 23.5933, MSE: 1258.3992, RMSE: 35.4739, MAE: 28.3597, Accuracy: 0.19904937, F1-Score: 0.20426157\n",
      "Saved checkpoint: C:\\Users\\PC\\soilNet\\checkpoints_VicReg_tinyImagenet\\vicreg_mu_23.0_epoch_11.pth\n"
     ]
    },
    {
     "name": "stderr",
     "output_type": "stream",
     "text": [
      "                                                                                                                       "
     ]
    },
    {
     "name": "stdout",
     "output_type": "stream",
     "text": [
      "Epoch  12/60 (mu=23.0) - VICReg Loss: 23.5583, MSE: 1249.8616, RMSE: 35.3534, MAE: 28.3144, Accuracy: 0.19888259, F1-Score: 0.20353966\n",
      "Saved checkpoint: C:\\Users\\PC\\soilNet\\checkpoints_VicReg_tinyImagenet\\vicreg_mu_23.0_epoch_12.pth\n"
     ]
    },
    {
     "name": "stderr",
     "output_type": "stream",
     "text": [
      "                                                                                                                       "
     ]
    },
    {
     "name": "stdout",
     "output_type": "stream",
     "text": [
      "Epoch  13/60 (mu=23.0) - VICReg Loss: 23.5400, MSE: 1229.9783, RMSE: 35.0710, MAE: 28.1091, Accuracy: 0.19446298, F1-Score: 0.19752375\n",
      "Saved checkpoint: C:\\Users\\PC\\soilNet\\checkpoints_VicReg_tinyImagenet\\vicreg_mu_23.0_epoch_13.pth\n"
     ]
    },
    {
     "name": "stderr",
     "output_type": "stream",
     "text": [
      "                                                                                                                       "
     ]
    },
    {
     "name": "stdout",
     "output_type": "stream",
     "text": [
      "Epoch  14/60 (mu=23.0) - VICReg Loss: 23.4881, MSE: 1226.3709, RMSE: 35.0196, MAE: 28.1177, Accuracy: 0.20405270, F1-Score: 0.21182237\n",
      "Saved checkpoint: C:\\Users\\PC\\soilNet\\checkpoints_VicReg_tinyImagenet\\vicreg_mu_23.0_epoch_14.pth\n"
     ]
    },
    {
     "name": "stderr",
     "output_type": "stream",
     "text": [
      "                                                                                                                       "
     ]
    },
    {
     "name": "stdout",
     "output_type": "stream",
     "text": [
      "Epoch  15/60 (mu=23.0) - VICReg Loss: 23.4862, MSE: 1259.2079, RMSE: 35.4853, MAE: 28.5165, Accuracy: 0.19646431, F1-Score: 0.20120557\n",
      "Saved checkpoint: C:\\Users\\PC\\soilNet\\checkpoints_VicReg_tinyImagenet\\vicreg_mu_23.0_epoch_15.pth\n"
     ]
    },
    {
     "name": "stderr",
     "output_type": "stream",
     "text": [
      "                                                                                                                       "
     ]
    },
    {
     "name": "stdout",
     "output_type": "stream",
     "text": [
      "Epoch  16/60 (mu=23.0) - VICReg Loss: 23.3422, MSE: 1255.4162, RMSE: 35.4319, MAE: 28.5142, Accuracy: 0.18945964, F1-Score: 0.19223927\n",
      "Saved checkpoint: C:\\Users\\PC\\soilNet\\checkpoints_VicReg_tinyImagenet\\vicreg_mu_23.0_epoch_16.pth\n"
     ]
    },
    {
     "name": "stderr",
     "output_type": "stream",
     "text": [
      "                                                                                                                       "
     ]
    },
    {
     "name": "stdout",
     "output_type": "stream",
     "text": [
      "Epoch  17/60 (mu=23.0) - VICReg Loss: 23.3900, MSE: 1254.2698, RMSE: 35.4157, MAE: 28.5101, Accuracy: 0.19471314, F1-Score: 0.19777709\n",
      "Saved checkpoint: C:\\Users\\PC\\soilNet\\checkpoints_VicReg_tinyImagenet\\vicreg_mu_23.0_epoch_17.pth\n"
     ]
    },
    {
     "name": "stderr",
     "output_type": "stream",
     "text": [
      "                                                                                                                       "
     ]
    },
    {
     "name": "stdout",
     "output_type": "stream",
     "text": [
      "Epoch  18/60 (mu=23.0) - VICReg Loss: 23.3558, MSE: 1240.9288, RMSE: 35.2268, MAE: 28.2076, Accuracy: 0.18504003, F1-Score: 0.19000643\n",
      "Saved checkpoint: C:\\Users\\PC\\soilNet\\checkpoints_VicReg_tinyImagenet\\vicreg_mu_23.0_epoch_18.pth\n"
     ]
    },
    {
     "name": "stderr",
     "output_type": "stream",
     "text": [
      "                                                                                                                       "
     ]
    },
    {
     "name": "stdout",
     "output_type": "stream",
     "text": [
      "Epoch  19/60 (mu=23.0) - VICReg Loss: 23.3214, MSE: 1270.3940, RMSE: 35.6426, MAE: 28.5569, Accuracy: 0.19404603, F1-Score: 0.19956280\n",
      "Saved checkpoint: C:\\Users\\PC\\soilNet\\checkpoints_VicReg_tinyImagenet\\vicreg_mu_23.0_epoch_19.pth\n"
     ]
    },
    {
     "name": "stderr",
     "output_type": "stream",
     "text": [
      "                                                                                                                       "
     ]
    },
    {
     "name": "stdout",
     "output_type": "stream",
     "text": [
      "Epoch  20/60 (mu=23.0) - VICReg Loss: 23.3872, MSE: 1297.0385, RMSE: 36.0144, MAE: 28.9040, Accuracy: 0.19487992, F1-Score: 0.19922329\n",
      "Saved checkpoint: C:\\Users\\PC\\soilNet\\checkpoints_VicReg_tinyImagenet\\vicreg_mu_23.0_epoch_20.pth\n"
     ]
    },
    {
     "name": "stderr",
     "output_type": "stream",
     "text": [
      "                                                                                                                       "
     ]
    },
    {
     "name": "stdout",
     "output_type": "stream",
     "text": [
      "Epoch  21/60 (mu=23.0) - VICReg Loss: 23.2656, MSE: 1252.4668, RMSE: 35.3902, MAE: 28.3352, Accuracy: 0.19087725, F1-Score: 0.19447568\n",
      "Saved checkpoint: C:\\Users\\PC\\soilNet\\checkpoints_VicReg_tinyImagenet\\vicreg_mu_23.0_epoch_21.pth\n"
     ]
    },
    {
     "name": "stderr",
     "output_type": "stream",
     "text": [
      "                                                                                                                       "
     ]
    },
    {
     "name": "stdout",
     "output_type": "stream",
     "text": [
      "Epoch  22/60 (mu=23.0) - VICReg Loss: 23.2190, MSE: 1248.3753, RMSE: 35.3324, MAE: 28.3649, Accuracy: 0.19104403, F1-Score: 0.19412545\n",
      "Saved checkpoint: C:\\Users\\PC\\soilNet\\checkpoints_VicReg_tinyImagenet\\vicreg_mu_23.0_epoch_22.pth\n"
     ]
    },
    {
     "name": "stderr",
     "output_type": "stream",
     "text": [
      "                                                                                                                       "
     ]
    },
    {
     "name": "stdout",
     "output_type": "stream",
     "text": [
      "Epoch  23/60 (mu=23.0) - VICReg Loss: 23.2443, MSE: 1325.0997, RMSE: 36.4019, MAE: 29.2109, Accuracy: 0.18262175, F1-Score: 0.18605817\n",
      "Saved checkpoint: C:\\Users\\PC\\soilNet\\checkpoints_VicReg_tinyImagenet\\vicreg_mu_23.0_epoch_23.pth\n"
     ]
    },
    {
     "name": "stderr",
     "output_type": "stream",
     "text": [
      "                                                                                                                       "
     ]
    },
    {
     "name": "stdout",
     "output_type": "stream",
     "text": [
      "Epoch  24/60 (mu=23.0) - VICReg Loss: 23.2625, MSE: 1269.2660, RMSE: 35.6268, MAE: 28.5712, Accuracy: 0.18845897, F1-Score: 0.19216859\n",
      "Saved checkpoint: C:\\Users\\PC\\soilNet\\checkpoints_VicReg_tinyImagenet\\vicreg_mu_23.0_epoch_24.pth\n"
     ]
    },
    {
     "name": "stderr",
     "output_type": "stream",
     "text": [
      "                                                                                                                       "
     ]
    },
    {
     "name": "stdout",
     "output_type": "stream",
     "text": [
      "Epoch  25/60 (mu=23.0) - VICReg Loss: 23.2086, MSE: 1276.8174, RMSE: 35.7326, MAE: 28.6757, Accuracy: 0.18745831, F1-Score: 0.19035825\n",
      "Saved checkpoint: C:\\Users\\PC\\soilNet\\checkpoints_VicReg_tinyImagenet\\vicreg_mu_23.0_epoch_25.pth\n"
     ]
    },
    {
     "name": "stderr",
     "output_type": "stream",
     "text": [
      "                                                                                                                       "
     ]
    },
    {
     "name": "stdout",
     "output_type": "stream",
     "text": [
      "Epoch  26/60 (mu=23.0) - VICReg Loss: 23.2272, MSE: 1297.5657, RMSE: 36.0217, MAE: 29.0412, Accuracy: 0.18862575, F1-Score: 0.19341545\n",
      "Saved checkpoint: C:\\Users\\PC\\soilNet\\checkpoints_VicReg_tinyImagenet\\vicreg_mu_23.0_epoch_26.pth\n"
     ]
    },
    {
     "name": "stderr",
     "output_type": "stream",
     "text": [
      "                                                                                                                       "
     ]
    },
    {
     "name": "stdout",
     "output_type": "stream",
     "text": [
      "Epoch  27/60 (mu=23.0) - VICReg Loss: 23.1570, MSE: 1269.4434, RMSE: 35.6292, MAE: 28.6931, Accuracy: 0.18245497, F1-Score: 0.18695202\n",
      "Saved checkpoint: C:\\Users\\PC\\soilNet\\checkpoints_VicReg_tinyImagenet\\vicreg_mu_23.0_epoch_27.pth\n"
     ]
    },
    {
     "name": "stderr",
     "output_type": "stream",
     "text": [
      "                                                                                                                       "
     ]
    },
    {
     "name": "stdout",
     "output_type": "stream",
     "text": [
      "Epoch  28/60 (mu=23.0) - VICReg Loss: 23.1683, MSE: 1324.5183, RMSE: 36.3939, MAE: 29.2149, Accuracy: 0.18237158, F1-Score: 0.18642349\n",
      "Saved checkpoint: C:\\Users\\PC\\soilNet\\checkpoints_VicReg_tinyImagenet\\vicreg_mu_23.0_epoch_28.pth\n"
     ]
    },
    {
     "name": "stderr",
     "output_type": "stream",
     "text": [
      "                                                                                                                       "
     ]
    },
    {
     "name": "stdout",
     "output_type": "stream",
     "text": [
      "Epoch  29/60 (mu=23.0) - VICReg Loss: 23.1364, MSE: 1287.9117, RMSE: 35.8875, MAE: 28.9501, Accuracy: 0.18470647, F1-Score: 0.18706439\n",
      "Saved checkpoint: C:\\Users\\PC\\soilNet\\checkpoints_VicReg_tinyImagenet\\vicreg_mu_23.0_epoch_29.pth\n"
     ]
    },
    {
     "name": "stderr",
     "output_type": "stream",
     "text": [
      "                                                                                                                       "
     ]
    },
    {
     "name": "stdout",
     "output_type": "stream",
     "text": [
      "Epoch  30/60 (mu=23.0) - VICReg Loss: 23.1859, MSE: 1283.2417, RMSE: 35.8224, MAE: 28.8259, Accuracy: 0.18087058, F1-Score: 0.18291063\n",
      "Saved checkpoint: C:\\Users\\PC\\soilNet\\checkpoints_VicReg_tinyImagenet\\vicreg_mu_23.0_epoch_30.pth\n"
     ]
    },
    {
     "name": "stderr",
     "output_type": "stream",
     "text": [
      "                                                                                                                       "
     ]
    },
    {
     "name": "stdout",
     "output_type": "stream",
     "text": [
      "Epoch  31/60 (mu=23.0) - VICReg Loss: 23.1059, MSE: 1326.8168, RMSE: 36.4255, MAE: 29.3007, Accuracy: 0.18203803, F1-Score: 0.18466001\n",
      "Saved checkpoint: C:\\Users\\PC\\soilNet\\checkpoints_VicReg_tinyImagenet\\vicreg_mu_23.0_epoch_31.pth\n"
     ]
    },
    {
     "name": "stderr",
     "output_type": "stream",
     "text": [
      "                                                                                                                       "
     ]
    },
    {
     "name": "stdout",
     "output_type": "stream",
     "text": [
      "Epoch  32/60 (mu=23.0) - VICReg Loss: 23.0955, MSE: 1302.8085, RMSE: 36.0944, MAE: 29.1520, Accuracy: 0.18437292, F1-Score: 0.18651045\n",
      "Saved checkpoint: C:\\Users\\PC\\soilNet\\checkpoints_VicReg_tinyImagenet\\vicreg_mu_23.0_epoch_32.pth\n"
     ]
    },
    {
     "name": "stderr",
     "output_type": "stream",
     "text": [
      "                                                                                                                       "
     ]
    },
    {
     "name": "stdout",
     "output_type": "stream",
     "text": [
      "Epoch  33/60 (mu=23.0) - VICReg Loss: 23.0692, MSE: 1232.9403, RMSE: 35.1132, MAE: 28.3778, Accuracy: 0.18912608, F1-Score: 0.19344206\n",
      "Saved checkpoint: C:\\Users\\PC\\soilNet\\checkpoints_VicReg_tinyImagenet\\vicreg_mu_23.0_epoch_33.pth\n"
     ]
    },
    {
     "name": "stderr",
     "output_type": "stream",
     "text": [
      "                                                                                                                       "
     ]
    },
    {
     "name": "stdout",
     "output_type": "stream",
     "text": [
      "Epoch  34/60 (mu=23.0) - VICReg Loss: 23.0593, MSE: 1304.6014, RMSE: 36.1193, MAE: 29.1024, Accuracy: 0.17936958, F1-Score: 0.18219150\n",
      "Saved checkpoint: C:\\Users\\PC\\soilNet\\checkpoints_VicReg_tinyImagenet\\vicreg_mu_23.0_epoch_34.pth\n"
     ]
    },
    {
     "name": "stderr",
     "output_type": "stream",
     "text": [
      "                                                                                                                       "
     ]
    },
    {
     "name": "stdout",
     "output_type": "stream",
     "text": [
      "Epoch  35/60 (mu=23.0) - VICReg Loss: 23.0568, MSE: 1310.2852, RMSE: 36.1979, MAE: 29.2834, Accuracy: 0.18078719, F1-Score: 0.18338496\n",
      "Saved checkpoint: C:\\Users\\PC\\soilNet\\checkpoints_VicReg_tinyImagenet\\vicreg_mu_23.0_epoch_35.pth\n"
     ]
    },
    {
     "name": "stderr",
     "output_type": "stream",
     "text": [
      "                                                                                                                       "
     ]
    },
    {
     "name": "stdout",
     "output_type": "stream",
     "text": [
      "Epoch  36/60 (mu=23.0) - VICReg Loss: 23.0495, MSE: 1209.5974, RMSE: 34.7793, MAE: 28.0190, Accuracy: 0.18487325, F1-Score: 0.18752263\n",
      "Saved checkpoint: C:\\Users\\PC\\soilNet\\checkpoints_VicReg_tinyImagenet\\vicreg_mu_23.0_epoch_36.pth\n"
     ]
    },
    {
     "name": "stderr",
     "output_type": "stream",
     "text": [
      "                                                                                                                       "
     ]
    },
    {
     "name": "stdout",
     "output_type": "stream",
     "text": [
      "Epoch  37/60 (mu=23.0) - VICReg Loss: 23.0572, MSE: 1252.8119, RMSE: 35.3951, MAE: 28.4056, Accuracy: 0.18145430, F1-Score: 0.18523976\n",
      "Saved checkpoint: C:\\Users\\PC\\soilNet\\checkpoints_VicReg_tinyImagenet\\vicreg_mu_23.0_epoch_37.pth\n"
     ]
    },
    {
     "name": "stderr",
     "output_type": "stream",
     "text": [
      "                                                                                                                       "
     ]
    },
    {
     "name": "stdout",
     "output_type": "stream",
     "text": [
      "Epoch  38/60 (mu=23.0) - VICReg Loss: 23.0293, MSE: 1266.6981, RMSE: 35.5907, MAE: 28.5994, Accuracy: 0.18003669, F1-Score: 0.18308714\n",
      "Saved checkpoint: C:\\Users\\PC\\soilNet\\checkpoints_VicReg_tinyImagenet\\vicreg_mu_23.0_epoch_38.pth\n"
     ]
    },
    {
     "name": "stderr",
     "output_type": "stream",
     "text": [
      "                                                                                                                       "
     ]
    },
    {
     "name": "stdout",
     "output_type": "stream",
     "text": [
      "Epoch  39/60 (mu=23.0) - VICReg Loss: 22.9770, MSE: 1284.7112, RMSE: 35.8429, MAE: 28.8796, Accuracy: 0.18704136, F1-Score: 0.18889260\n",
      "Saved checkpoint: C:\\Users\\PC\\soilNet\\checkpoints_VicReg_tinyImagenet\\vicreg_mu_23.0_epoch_39.pth\n"
     ]
    },
    {
     "name": "stderr",
     "output_type": "stream",
     "text": [
      "                                                                                                                       "
     ]
    },
    {
     "name": "stdout",
     "output_type": "stream",
     "text": [
      "Epoch  40/60 (mu=23.0) - VICReg Loss: 23.0231, MSE: 1319.9794, RMSE: 36.3315, MAE: 29.3131, Accuracy: 0.17720147, F1-Score: 0.17780227\n",
      "Saved checkpoint: C:\\Users\\PC\\soilNet\\checkpoints_VicReg_tinyImagenet\\vicreg_mu_23.0_epoch_40.pth\n"
     ]
    },
    {
     "name": "stderr",
     "output_type": "stream",
     "text": [
      "                                                                                                                       "
     ]
    },
    {
     "name": "stdout",
     "output_type": "stream",
     "text": [
      "Epoch  41/60 (mu=23.0) - VICReg Loss: 23.0115, MSE: 1329.6268, RMSE: 36.4640, MAE: 29.2306, Accuracy: 0.17128085, F1-Score: 0.17120382\n",
      "Saved checkpoint: C:\\Users\\PC\\soilNet\\checkpoints_VicReg_tinyImagenet\\vicreg_mu_23.0_epoch_41.pth\n"
     ]
    },
    {
     "name": "stderr",
     "output_type": "stream",
     "text": [
      "                                                                                                                       "
     ]
    },
    {
     "name": "stdout",
     "output_type": "stream",
     "text": [
      "Epoch  42/60 (mu=23.0) - VICReg Loss: 23.0214, MSE: 1306.3688, RMSE: 36.1437, MAE: 29.0716, Accuracy: 0.17528352, F1-Score: 0.17806712\n",
      "Saved checkpoint: C:\\Users\\PC\\soilNet\\checkpoints_VicReg_tinyImagenet\\vicreg_mu_23.0_epoch_42.pth\n"
     ]
    },
    {
     "name": "stderr",
     "output_type": "stream",
     "text": [
      "                                                                                                                       "
     ]
    },
    {
     "name": "stdout",
     "output_type": "stream",
     "text": [
      "Epoch  43/60 (mu=23.0) - VICReg Loss: 22.9677, MSE: 1270.1132, RMSE: 35.6386, MAE: 28.8800, Accuracy: 0.17945297, F1-Score: 0.18241764\n",
      "Saved checkpoint: C:\\Users\\PC\\soilNet\\checkpoints_VicReg_tinyImagenet\\vicreg_mu_23.0_epoch_43.pth\n"
     ]
    },
    {
     "name": "stderr",
     "output_type": "stream",
     "text": [
      "                                                                                                                       "
     ]
    },
    {
     "name": "stdout",
     "output_type": "stream",
     "text": [
      "Epoch  44/60 (mu=23.0) - VICReg Loss: 22.9594, MSE: 1360.1433, RMSE: 36.8801, MAE: 29.7490, Accuracy: 0.17011341, F1-Score: 0.17226901\n",
      "Saved checkpoint: C:\\Users\\PC\\soilNet\\checkpoints_VicReg_tinyImagenet\\vicreg_mu_23.0_epoch_44.pth\n"
     ]
    },
    {
     "name": "stderr",
     "output_type": "stream",
     "text": [
      "                                                                                                                       "
     ]
    },
    {
     "name": "stdout",
     "output_type": "stream",
     "text": [
      "Epoch  45/60 (mu=23.0) - VICReg Loss: 22.9109, MSE: 1284.8119, RMSE: 35.8443, MAE: 28.8866, Accuracy: 0.17895264, F1-Score: 0.18063193\n",
      "Saved checkpoint: C:\\Users\\PC\\soilNet\\checkpoints_VicReg_tinyImagenet\\vicreg_mu_23.0_epoch_45.pth\n"
     ]
    },
    {
     "name": "stderr",
     "output_type": "stream",
     "text": [
      "                                                                                                                       "
     ]
    },
    {
     "name": "stdout",
     "output_type": "stream",
     "text": [
      "Epoch  46/60 (mu=23.0) - VICReg Loss: 22.9361, MSE: 1328.5203, RMSE: 36.4489, MAE: 29.3217, Accuracy: 0.17570047, F1-Score: 0.17799882\n",
      "Saved checkpoint: C:\\Users\\PC\\soilNet\\checkpoints_VicReg_tinyImagenet\\vicreg_mu_23.0_epoch_46.pth\n"
     ]
    },
    {
     "name": "stderr",
     "output_type": "stream",
     "text": [
      "                                                                                                                       "
     ]
    },
    {
     "name": "stdout",
     "output_type": "stream",
     "text": [
      "Epoch  47/60 (mu=23.0) - VICReg Loss: 22.9284, MSE: 1303.6873, RMSE: 36.1066, MAE: 29.1550, Accuracy: 0.17511674, F1-Score: 0.17583905\n",
      "Saved checkpoint: C:\\Users\\PC\\soilNet\\checkpoints_VicReg_tinyImagenet\\vicreg_mu_23.0_epoch_47.pth\n"
     ]
    },
    {
     "name": "stderr",
     "output_type": "stream",
     "text": [
      "                                                                                                                       "
     ]
    },
    {
     "name": "stdout",
     "output_type": "stream",
     "text": [
      "Epoch  48/60 (mu=23.0) - VICReg Loss: 22.9293, MSE: 1315.0850, RMSE: 36.2641, MAE: 29.2923, Accuracy: 0.17403269, F1-Score: 0.17609756\n",
      "Saved checkpoint: C:\\Users\\PC\\soilNet\\checkpoints_VicReg_tinyImagenet\\vicreg_mu_23.0_epoch_48.pth\n"
     ]
    },
    {
     "name": "stderr",
     "output_type": "stream",
     "text": [
      "                                                                                                                       "
     ]
    },
    {
     "name": "stdout",
     "output_type": "stream",
     "text": [
      "Epoch  49/60 (mu=23.0) - VICReg Loss: 22.9272, MSE: 1326.5866, RMSE: 36.4223, MAE: 29.3581, Accuracy: 0.17036358, F1-Score: 0.17071718\n",
      "Saved checkpoint: C:\\Users\\PC\\soilNet\\checkpoints_VicReg_tinyImagenet\\vicreg_mu_23.0_epoch_49.pth\n"
     ]
    },
    {
     "name": "stderr",
     "output_type": "stream",
     "text": [
      "                                                                                                                       "
     ]
    },
    {
     "name": "stdout",
     "output_type": "stream",
     "text": [
      "Epoch  50/60 (mu=23.0) - VICReg Loss: 22.9061, MSE: 1308.9530, RMSE: 36.1795, MAE: 29.2344, Accuracy: 0.16552702, F1-Score: 0.16376989\n",
      "Saved checkpoint: C:\\Users\\PC\\soilNet\\checkpoints_VicReg_tinyImagenet\\vicreg_mu_23.0_epoch_50.pth\n"
     ]
    },
    {
     "name": "stderr",
     "output_type": "stream",
     "text": [
      "                                                                                                                       "
     ]
    },
    {
     "name": "stdout",
     "output_type": "stream",
     "text": [
      "Epoch  51/60 (mu=23.0) - VICReg Loss: 22.9234, MSE: 1298.7138, RMSE: 36.0377, MAE: 29.0488, Accuracy: 0.17611741, F1-Score: 0.17789320\n",
      "Saved checkpoint: C:\\Users\\PC\\soilNet\\checkpoints_VicReg_tinyImagenet\\vicreg_mu_23.0_epoch_51.pth\n"
     ]
    },
    {
     "name": "stderr",
     "output_type": "stream",
     "text": [
      "                                                                                                                       "
     ]
    },
    {
     "name": "stdout",
     "output_type": "stream",
     "text": [
      "Epoch  52/60 (mu=23.0) - VICReg Loss: 22.9167, MSE: 1324.7656, RMSE: 36.3973, MAE: 29.3393, Accuracy: 0.16661107, F1-Score: 0.16634542\n",
      "Saved checkpoint: C:\\Users\\PC\\soilNet\\checkpoints_VicReg_tinyImagenet\\vicreg_mu_23.0_epoch_52.pth\n"
     ]
    },
    {
     "name": "stderr",
     "output_type": "stream",
     "text": [
      "                                                                                                                       "
     ]
    },
    {
     "name": "stdout",
     "output_type": "stream",
     "text": [
      "Epoch  53/60 (mu=23.0) - VICReg Loss: 22.9500, MSE: 1356.3349, RMSE: 36.8285, MAE: 29.7412, Accuracy: 0.16927952, F1-Score: 0.17167397\n",
      "Saved checkpoint: C:\\Users\\PC\\soilNet\\checkpoints_VicReg_tinyImagenet\\vicreg_mu_23.0_epoch_53.pth\n"
     ]
    },
    {
     "name": "stderr",
     "output_type": "stream",
     "text": [
      "                                                                                                                       "
     ]
    },
    {
     "name": "stdout",
     "output_type": "stream",
     "text": [
      "Epoch  54/60 (mu=23.0) - VICReg Loss: 22.8599, MSE: 1331.9271, RMSE: 36.4956, MAE: 29.5531, Accuracy: 0.16811207, F1-Score: 0.16806978\n",
      "Saved checkpoint: C:\\Users\\PC\\soilNet\\checkpoints_VicReg_tinyImagenet\\vicreg_mu_23.0_epoch_54.pth\n"
     ]
    },
    {
     "name": "stderr",
     "output_type": "stream",
     "text": [
      "                                                                                                                       "
     ]
    },
    {
     "name": "stdout",
     "output_type": "stream",
     "text": [
      "Epoch  55/60 (mu=23.0) - VICReg Loss: 22.9146, MSE: 1370.2165, RMSE: 37.0164, MAE: 29.9556, Accuracy: 0.16752835, F1-Score: 0.16951003\n",
      "Saved checkpoint: C:\\Users\\PC\\soilNet\\checkpoints_VicReg_tinyImagenet\\vicreg_mu_23.0_epoch_55.pth\n"
     ]
    },
    {
     "name": "stderr",
     "output_type": "stream",
     "text": [
      "                                                                                                                       "
     ]
    },
    {
     "name": "stdout",
     "output_type": "stream",
     "text": [
      "Epoch  56/60 (mu=23.0) - VICReg Loss: 22.8917, MSE: 1305.2872, RMSE: 36.1288, MAE: 29.1823, Accuracy: 0.17436624, F1-Score: 0.17620557\n",
      "Saved checkpoint: C:\\Users\\PC\\soilNet\\checkpoints_VicReg_tinyImagenet\\vicreg_mu_23.0_epoch_56.pth\n"
     ]
    },
    {
     "name": "stderr",
     "output_type": "stream",
     "text": [
      "                                                                                                                       "
     ]
    },
    {
     "name": "stdout",
     "output_type": "stream",
     "text": [
      "Epoch  57/60 (mu=23.0) - VICReg Loss: 22.8698, MSE: 1303.1526, RMSE: 36.0992, MAE: 29.1943, Accuracy: 0.17611741, F1-Score: 0.17742344\n",
      "Saved checkpoint: C:\\Users\\PC\\soilNet\\checkpoints_VicReg_tinyImagenet\\vicreg_mu_23.0_epoch_57.pth\n"
     ]
    },
    {
     "name": "stderr",
     "output_type": "stream",
     "text": [
      "                                                                                                                       "
     ]
    },
    {
     "name": "stdout",
     "output_type": "stream",
     "text": [
      "Epoch  58/60 (mu=23.0) - VICReg Loss: 22.8627, MSE: 1326.0662, RMSE: 36.4152, MAE: 29.4694, Accuracy: 0.16494330, F1-Score: 0.16796495\n",
      "Saved checkpoint: C:\\Users\\PC\\soilNet\\checkpoints_VicReg_tinyImagenet\\vicreg_mu_23.0_epoch_58.pth\n"
     ]
    },
    {
     "name": "stderr",
     "output_type": "stream",
     "text": [
      "                                                                                                                       "
     ]
    },
    {
     "name": "stdout",
     "output_type": "stream",
     "text": [
      "Epoch  59/60 (mu=23.0) - VICReg Loss: 22.8595, MSE: 1312.1270, RMSE: 36.2233, MAE: 29.1887, Accuracy: 0.16802869, F1-Score: 0.17104875\n",
      "Saved checkpoint: C:\\Users\\PC\\soilNet\\checkpoints_VicReg_tinyImagenet\\vicreg_mu_23.0_epoch_59.pth\n"
     ]
    },
    {
     "name": "stderr",
     "output_type": "stream",
     "text": [
      "                                                                                                                       "
     ]
    },
    {
     "name": "stdout",
     "output_type": "stream",
     "text": [
      "Epoch  60/60 (mu=23.0) - VICReg Loss: 22.8772, MSE: 1280.2643, RMSE: 35.7808, MAE: 28.8433, Accuracy: 0.17828552, F1-Score: 0.17917699\n",
      "Saved checkpoint: C:\\Users\\PC\\soilNet\\checkpoints_VicReg_tinyImagenet\\vicreg_mu_23.0_epoch_60.pth\n",
      "Saved final models (mu=23.0):\n",
      "  - Model: C:\\Users\\PC\\soilNet\\checkpoints_VicReg_tinyImagenet\\vicreg_model_final_mu_23.0.pth\n",
      "  - Projector: C:\\Users\\PC\\soilNet\\checkpoints_VicReg_tinyImagenet\\vicreg_projector_final_mu_23.0.pth\n",
      "  - Linear Regression: C:\\Users\\PC\\soilNet\\checkpoints_VicReg_tinyImagenet\\vicreg_linear_reg_final_mu_23.0.pth\n",
      "  - Classifier: C:\\Users\\PC\\soilNet\\checkpoints_VicReg_tinyImagenet\\vicreg_classifier_final_mu_23.0.pth\n"
     ]
    },
    {
     "name": "stderr",
     "output_type": "stream",
     "text": []
    }
   ],
   "source": [
    "for mu_val in [23.0]:\n",
    "    train_vicreg_with_mu(mu=mu_val, num_epochs=60)\n",
    "#for mu_val in [20.0, 23.0, 25.0, 27.0, 30.0, 33.0]:\n"
   ]
  },
  {
   "cell_type": "code",
   "execution_count": null,
   "id": "18c83d7d-ccc5-4b02-b3a3-4022f3f12b6f",
   "metadata": {},
   "outputs": [],
   "source": []
  }
 ],
 "metadata": {
  "kernelspec": {
   "display_name": "Python 3 (ipykernel)",
   "language": "python",
   "name": "python3"
  },
  "language_info": {
   "codemirror_mode": {
    "name": "ipython",
    "version": 3
   },
   "file_extension": ".py",
   "mimetype": "text/x-python",
   "name": "python",
   "nbconvert_exporter": "python",
   "pygments_lexer": "ipython3",
   "version": "3.10.16"
  }
 },
 "nbformat": 4,
 "nbformat_minor": 5
}
