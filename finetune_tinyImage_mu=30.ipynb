{
 "cells": [
  {
   "cell_type": "code",
   "execution_count": 1,
   "id": "37ffe4d9-53e0-48ad-b3ab-365e1ba12eb8",
   "metadata": {},
   "outputs": [
    {
     "name": "stdout",
     "output_type": "stream",
     "text": [
      "Using device: cuda\n",
      "PyTorch version: 2.6.0+cu118\n",
      "Total labeled images before check: 2057\n"
     ]
    },
    {
     "data": {
      "application/vnd.jupyter.widget-view+json": {
       "model_id": "f12b55bb52544b768aa86b7d62fe610c",
       "version_major": 2,
       "version_minor": 0
      },
      "text/plain": [
       "  0%|          | 0/2057 [00:00<?, ?it/s]"
      ]
     },
     "metadata": {},
     "output_type": "display_data"
    },
    {
     "name": "stdout",
     "output_type": "stream",
     "text": [
      "Image error: F:\\Soil_Labeled_Data\\M_10_20\\L_60_70\\alluvial\\IMG_0683.JPG\n",
      "Replaced with: F:\\Soil_Labeled_Data\\augmented_fallback\\aug_IMG_0683.JPG\n",
      "Image error: F:\\Soil_Labeled_Data\\M_10_20\\L_70_80\\alluvial\\IMG_0703.JPG\n",
      "Replaced with: F:\\Soil_Labeled_Data\\augmented_fallback\\aug_IMG_0703.JPG\n",
      "Image error: F:\\Soil_Labeled_Data\\M_10_20\\L_80_90\\alluvial\\IMG_0746.JPG\n",
      "Replaced with: F:\\Soil_Labeled_Data\\augmented_fallback\\aug_IMG_0746.JPG\n",
      "Image error: F:\\Soil_Labeled_Data\\M_10_20\\L_80_90\\alluvial\\IMG_0753.JPG\n",
      "Replaced with: F:\\Soil_Labeled_Data\\augmented_fallback\\aug_IMG_0753.JPG\n",
      "Image error: F:\\Soil_Labeled_Data\\M_10_20\\L_80_90\\alluvial\\IMG_0755.JPG\n",
      "Replaced with: F:\\Soil_Labeled_Data\\augmented_fallback\\aug_IMG_0755.JPG\n",
      "Replaced 5 invalid images with augmented versions.\n",
      "Loaded pretrained weights from C:\\Users\\PC\\soilNet\\checkpoints_VicReg_tinyImagenet\\vicreg_model_final_mu_30.0.pth\n",
      "Epoch 1/60\n"
     ]
    },
    {
     "data": {
      "application/vnd.jupyter.widget-view+json": {
       "model_id": "4f64209470f74b428e4a208793984f03",
       "version_major": 2,
       "version_minor": 0
      },
      "text/plain": [
       "  0%|          | 0/65 [00:00<?, ?it/s]"
      ]
     },
     "metadata": {},
     "output_type": "display_data"
    },
    {
     "name": "stdout",
     "output_type": "stream",
     "text": [
      "Loss → Total: 2.2389, Regression: 0.0868, Classification: 2.1521\n",
      "SM_0 → RMSE: 21.19985035, MAE: 16.73944855, ME: 2.35437822\n",
      "SM_20 → RMSE: 21.59158690, MAE: 17.24613380, ME: 3.33459997\n",
      "Classification → Accuracy: 0.28828391, F1-score: 0.26367862\n",
      "Epoch 2/60\n"
     ]
    },
    {
     "data": {
      "application/vnd.jupyter.widget-view+json": {
       "model_id": "798b66f9cff64b64a073f5314a84eb0c",
       "version_major": 2,
       "version_minor": 0
      },
      "text/plain": [
       "  0%|          | 0/65 [00:00<?, ?it/s]"
      ]
     },
     "metadata": {},
     "output_type": "display_data"
    },
    {
     "name": "stdout",
     "output_type": "stream",
     "text": [
      "Loss → Total: 1.9243, Regression: 0.0469, Classification: 1.8774\n",
      "SM_0 → RMSE: 18.20052540, MAE: 13.99469185, ME: -2.13134480\n",
      "SM_20 → RMSE: 18.29141010, MAE: 14.34937477, ME: -0.45724049\n",
      "Classification → Accuracy: 0.33057851, F1-score: 0.31005390\n",
      "Epoch 3/60\n"
     ]
    },
    {
     "data": {
      "application/vnd.jupyter.widget-view+json": {
       "model_id": "4cab59710cd9455897b4faea025a76aa",
       "version_major": 2,
       "version_minor": 0
      },
      "text/plain": [
       "  0%|          | 0/65 [00:00<?, ?it/s]"
      ]
     },
     "metadata": {},
     "output_type": "display_data"
    },
    {
     "name": "stdout",
     "output_type": "stream",
     "text": [
      "Loss → Total: 1.7353, Regression: 0.0392, Classification: 1.6961\n",
      "SM_0 → RMSE: 16.72790436, MAE: 13.21138000, ME: -2.63218999\n",
      "SM_20 → RMSE: 16.24130627, MAE: 12.81071472, ME: -0.81099528\n",
      "Classification → Accuracy: 0.38745746, F1-score: 0.35700082\n",
      "Epoch 4/60\n"
     ]
    },
    {
     "data": {
      "application/vnd.jupyter.widget-view+json": {
       "model_id": "ed375c48dbba4db681e71acb1cf196e0",
       "version_major": 2,
       "version_minor": 0
      },
      "text/plain": [
       "  0%|          | 0/65 [00:00<?, ?it/s]"
      ]
     },
     "metadata": {},
     "output_type": "display_data"
    },
    {
     "name": "stdout",
     "output_type": "stream",
     "text": [
      "Loss → Total: 1.5930, Regression: 0.0339, Classification: 1.5591\n",
      "SM_0 → RMSE: 15.09057786, MAE: 11.60503769, ME: 2.92742682\n",
      "SM_20 → RMSE: 14.57759327, MAE: 11.27061749, ME: 2.39514518\n",
      "Classification → Accuracy: 0.45892076, F1-score: 0.45022443\n",
      "Epoch 5/60\n"
     ]
    },
    {
     "data": {
      "application/vnd.jupyter.widget-view+json": {
       "model_id": "a12431a4369b4241b0f818ae51420c02",
       "version_major": 2,
       "version_minor": 0
      },
      "text/plain": [
       "  0%|          | 0/65 [00:00<?, ?it/s]"
      ]
     },
     "metadata": {},
     "output_type": "display_data"
    },
    {
     "name": "stdout",
     "output_type": "stream",
     "text": [
      "Loss → Total: 1.4687, Regression: 0.0285, Classification: 1.4402\n",
      "SM_0 → RMSE: 14.98779920, MAE: 11.67842102, ME: -1.98523140\n",
      "SM_20 → RMSE: 14.81774089, MAE: 11.24280262, ME: -0.15271334\n",
      "Classification → Accuracy: 0.51385513, F1-score: 0.50007066\n",
      "Epoch 6/60\n"
     ]
    },
    {
     "data": {
      "application/vnd.jupyter.widget-view+json": {
       "model_id": "a96618062e224a0796c467276a4557f1",
       "version_major": 2,
       "version_minor": 0
      },
      "text/plain": [
       "  0%|          | 0/65 [00:00<?, ?it/s]"
      ]
     },
     "metadata": {},
     "output_type": "display_data"
    },
    {
     "name": "stdout",
     "output_type": "stream",
     "text": [
      "Loss → Total: 1.3898, Regression: 0.0285, Classification: 1.3613\n",
      "SM_0 → RMSE: 12.74761222, MAE: 9.94172955, ME: 1.71412826\n",
      "SM_20 → RMSE: 13.31533081, MAE: 10.61620331, ME: -0.03911922\n",
      "Classification → Accuracy: 0.54982985, F1-score: 0.54302558\n",
      "Epoch 7/60\n"
     ]
    },
    {
     "data": {
      "application/vnd.jupyter.widget-view+json": {
       "model_id": "8fa63d1aaf14451d8aabb7d8803962e5",
       "version_major": 2,
       "version_minor": 0
      },
      "text/plain": [
       "  0%|          | 0/65 [00:00<?, ?it/s]"
      ]
     },
     "metadata": {},
     "output_type": "display_data"
    },
    {
     "name": "stdout",
     "output_type": "stream",
     "text": [
      "Loss → Total: 1.2962, Regression: 0.0229, Classification: 1.2734\n",
      "SM_0 → RMSE: 11.92343062, MAE: 9.12718010, ME: 2.85320807\n",
      "SM_20 → RMSE: 13.06708647, MAE: 10.13752365, ME: 1.50419486\n",
      "Classification → Accuracy: 0.60330579, F1-score: 0.57797587\n",
      "Epoch 8/60\n"
     ]
    },
    {
     "data": {
      "application/vnd.jupyter.widget-view+json": {
       "model_id": "4e689e2fdedc46f4b5d563ae375df95b",
       "version_major": 2,
       "version_minor": 0
      },
      "text/plain": [
       "  0%|          | 0/65 [00:00<?, ?it/s]"
      ]
     },
     "metadata": {},
     "output_type": "display_data"
    },
    {
     "name": "stdout",
     "output_type": "stream",
     "text": [
      "Loss → Total: 1.1710, Regression: 0.0191, Classification: 1.1518\n",
      "SM_0 → RMSE: 11.38969462, MAE: 8.83826923, ME: 1.81266975\n",
      "SM_20 → RMSE: 11.88484314, MAE: 9.22056484, ME: 3.49363065\n",
      "Classification → Accuracy: 0.64900340, F1-score: 0.64425861\n",
      "Epoch 9/60\n"
     ]
    },
    {
     "data": {
      "application/vnd.jupyter.widget-view+json": {
       "model_id": "87988f3a370149c78938149dc976b294",
       "version_major": 2,
       "version_minor": 0
      },
      "text/plain": [
       "  0%|          | 0/65 [00:00<?, ?it/s]"
      ]
     },
     "metadata": {},
     "output_type": "display_data"
    },
    {
     "name": "stdout",
     "output_type": "stream",
     "text": [
      "Loss → Total: 1.1578, Regression: 0.0188, Classification: 1.1390\n",
      "SM_0 → RMSE: 11.00575210, MAE: 8.53239727, ME: -0.88684988\n",
      "SM_20 → RMSE: 11.02331223, MAE: 8.28332138, ME: -1.73594725\n",
      "Classification → Accuracy: 0.68497812, F1-score: 0.68109259\n",
      "Epoch 10/60\n"
     ]
    },
    {
     "data": {
      "application/vnd.jupyter.widget-view+json": {
       "model_id": "9f31d5eacc0446ebb8e1560282de06d8",
       "version_major": 2,
       "version_minor": 0
      },
      "text/plain": [
       "  0%|          | 0/65 [00:00<?, ?it/s]"
      ]
     },
     "metadata": {},
     "output_type": "display_data"
    },
    {
     "name": "stdout",
     "output_type": "stream",
     "text": [
      "Loss → Total: 1.1108, Regression: 0.0202, Classification: 1.0905\n",
      "SM_0 → RMSE: 10.25694003, MAE: 8.04313374, ME: -2.26539040\n",
      "SM_20 → RMSE: 10.33618477, MAE: 8.07738209, ME: -1.78289223\n",
      "Classification → Accuracy: 0.70442392, F1-score: 0.70013391\n",
      "Epoch 11/60\n"
     ]
    },
    {
     "data": {
      "application/vnd.jupyter.widget-view+json": {
       "model_id": "fad6a1b86a6243dfb929f178b6cbaaf1",
       "version_major": 2,
       "version_minor": 0
      },
      "text/plain": [
       "  0%|          | 0/65 [00:00<?, ?it/s]"
      ]
     },
     "metadata": {},
     "output_type": "display_data"
    },
    {
     "name": "stdout",
     "output_type": "stream",
     "text": [
      "Loss → Total: 0.9855, Regression: 0.0161, Classification: 0.9695\n",
      "SM_0 → RMSE: 10.09784212, MAE: 7.79296637, ME: 0.82769996\n",
      "SM_20 → RMSE: 9.86149079, MAE: 7.55036163, ME: 0.98835850\n",
      "Classification → Accuracy: 0.71949441, F1-score: 0.71816190\n",
      "Epoch 12/60\n"
     ]
    },
    {
     "data": {
      "application/vnd.jupyter.widget-view+json": {
       "model_id": "f9543d5e10e74670b8c6de73dfc60dc7",
       "version_major": 2,
       "version_minor": 0
      },
      "text/plain": [
       "  0%|          | 0/65 [00:00<?, ?it/s]"
      ]
     },
     "metadata": {},
     "output_type": "display_data"
    },
    {
     "name": "stdout",
     "output_type": "stream",
     "text": [
      "Loss → Total: 0.9579, Regression: 0.0151, Classification: 0.9428\n",
      "SM_0 → RMSE: 8.78668588, MAE: 6.64319944, ME: 0.41065162\n",
      "SM_20 → RMSE: 9.14738123, MAE: 7.11714935, ME: -0.34696844\n",
      "Classification → Accuracy: 0.75401070, F1-score: 0.75114754\n",
      "Epoch 13/60\n"
     ]
    },
    {
     "data": {
      "application/vnd.jupyter.widget-view+json": {
       "model_id": "7c7a17795e0b483c88a6d59e1d263c21",
       "version_major": 2,
       "version_minor": 0
      },
      "text/plain": [
       "  0%|          | 0/65 [00:00<?, ?it/s]"
      ]
     },
     "metadata": {},
     "output_type": "display_data"
    },
    {
     "name": "stdout",
     "output_type": "stream",
     "text": [
      "Loss → Total: 0.9732, Regression: 0.0166, Classification: 0.9566\n",
      "SM_0 → RMSE: 9.12234626, MAE: 6.95141506, ME: 1.55988955\n",
      "SM_20 → RMSE: 9.29969470, MAE: 7.17750549, ME: 1.70013762\n",
      "Classification → Accuracy: 0.73310647, F1-score: 0.73512478\n",
      "Epoch 14/60\n"
     ]
    },
    {
     "data": {
      "application/vnd.jupyter.widget-view+json": {
       "model_id": "b612466e73714c9abf1f2d6a908d1e41",
       "version_major": 2,
       "version_minor": 0
      },
      "text/plain": [
       "  0%|          | 0/65 [00:00<?, ?it/s]"
      ]
     },
     "metadata": {},
     "output_type": "display_data"
    },
    {
     "name": "stdout",
     "output_type": "stream",
     "text": [
      "Loss → Total: 0.9004, Regression: 0.0141, Classification: 0.8863\n",
      "SM_0 → RMSE: 8.66178370, MAE: 6.54154587, ME: -0.22391506\n",
      "SM_20 → RMSE: 9.03031267, MAE: 6.98077822, ME: 0.91246307\n",
      "Classification → Accuracy: 0.77005348, F1-score: 0.76836663\n",
      "Epoch 15/60\n"
     ]
    },
    {
     "data": {
      "application/vnd.jupyter.widget-view+json": {
       "model_id": "5742d6bc6fb74d269b649443c58737bc",
       "version_major": 2,
       "version_minor": 0
      },
      "text/plain": [
       "  0%|          | 0/65 [00:00<?, ?it/s]"
      ]
     },
     "metadata": {},
     "output_type": "display_data"
    },
    {
     "name": "stdout",
     "output_type": "stream",
     "text": [
      "Loss → Total: 0.8460, Regression: 0.0127, Classification: 0.8334\n",
      "SM_0 → RMSE: 8.68652646, MAE: 6.71223593, ME: -1.69894397\n",
      "SM_20 → RMSE: 9.27449751, MAE: 7.38134480, ME: -2.79161024\n",
      "Classification → Accuracy: 0.78658240, F1-score: 0.78517608\n",
      "Epoch 16/60\n"
     ]
    },
    {
     "data": {
      "application/vnd.jupyter.widget-view+json": {
       "model_id": "61393ac4105c41d4ba88f4800606dce9",
       "version_major": 2,
       "version_minor": 0
      },
      "text/plain": [
       "  0%|          | 0/65 [00:00<?, ?it/s]"
      ]
     },
     "metadata": {},
     "output_type": "display_data"
    },
    {
     "name": "stdout",
     "output_type": "stream",
     "text": [
      "Loss → Total: 0.8585, Regression: 0.0136, Classification: 0.8449\n",
      "SM_0 → RMSE: 8.68395001, MAE: 6.65052605, ME: 3.03400660\n",
      "SM_20 → RMSE: 8.95821940, MAE: 6.94602346, ME: 3.00306511\n",
      "Classification → Accuracy: 0.79581915, F1-score: 0.79508400\n",
      "Epoch 17/60\n"
     ]
    },
    {
     "data": {
      "application/vnd.jupyter.widget-view+json": {
       "model_id": "9374e4637b6d468caaa362585b76087d",
       "version_major": 2,
       "version_minor": 0
      },
      "text/plain": [
       "  0%|          | 0/65 [00:00<?, ?it/s]"
      ]
     },
     "metadata": {},
     "output_type": "display_data"
    },
    {
     "name": "stdout",
     "output_type": "stream",
     "text": [
      "Loss → Total: 0.8084, Regression: 0.0116, Classification: 0.7968\n",
      "SM_0 → RMSE: 8.42429522, MAE: 6.43886709, ME: -0.97926879\n",
      "SM_20 → RMSE: 8.66951069, MAE: 6.67545843, ME: -1.77831936\n",
      "Classification → Accuracy: 0.77053962, F1-score: 0.77208138\n",
      "Epoch 18/60\n"
     ]
    },
    {
     "data": {
      "application/vnd.jupyter.widget-view+json": {
       "model_id": "5705af0a7cce486f93749942f83f5bbe",
       "version_major": 2,
       "version_minor": 0
      },
      "text/plain": [
       "  0%|          | 0/65 [00:00<?, ?it/s]"
      ]
     },
     "metadata": {},
     "output_type": "display_data"
    },
    {
     "name": "stdout",
     "output_type": "stream",
     "text": [
      "Loss → Total: 0.8059, Regression: 0.0119, Classification: 0.7941\n",
      "SM_0 → RMSE: 7.73273588, MAE: 5.96358871, ME: -0.59675509\n",
      "SM_20 → RMSE: 8.70104802, MAE: 6.69128561, ME: 1.13741314\n",
      "Classification → Accuracy: 0.81526495, F1-score: 0.81503247\n",
      "Epoch 19/60\n"
     ]
    },
    {
     "data": {
      "application/vnd.jupyter.widget-view+json": {
       "model_id": "f558c0b833054e53b100f976e7d3d705",
       "version_major": 2,
       "version_minor": 0
      },
      "text/plain": [
       "  0%|          | 0/65 [00:00<?, ?it/s]"
      ]
     },
     "metadata": {},
     "output_type": "display_data"
    },
    {
     "name": "stdout",
     "output_type": "stream",
     "text": [
      "Loss → Total: 0.7350, Regression: 0.0121, Classification: 0.7229\n",
      "SM_0 → RMSE: 8.10189068, MAE: 6.21225262, ME: 0.04349398\n",
      "SM_20 → RMSE: 8.54736461, MAE: 6.65311193, ME: -1.83429718\n",
      "Classification → Accuracy: 0.81040350, F1-score: 0.81253804\n",
      "Epoch 20/60\n"
     ]
    },
    {
     "data": {
      "application/vnd.jupyter.widget-view+json": {
       "model_id": "6091ccaa14094bf1a927c0729e108cee",
       "version_major": 2,
       "version_minor": 0
      },
      "text/plain": [
       "  0%|          | 0/65 [00:00<?, ?it/s]"
      ]
     },
     "metadata": {},
     "output_type": "display_data"
    },
    {
     "name": "stdout",
     "output_type": "stream",
     "text": [
      "Loss → Total: 0.7621, Regression: 0.0111, Classification: 0.7510\n",
      "SM_0 → RMSE: 8.39952028, MAE: 6.53139877, ME: -1.49076891\n",
      "SM_20 → RMSE: 9.20784826, MAE: 7.25757933, ME: -1.27713490\n",
      "Classification → Accuracy: 0.83859990, F1-score: 0.83730388\n",
      "Epoch 21/60\n"
     ]
    },
    {
     "data": {
      "application/vnd.jupyter.widget-view+json": {
       "model_id": "35c25b1c58af4409babeb731a6d47848",
       "version_major": 2,
       "version_minor": 0
      },
      "text/plain": [
       "  0%|          | 0/65 [00:00<?, ?it/s]"
      ]
     },
     "metadata": {},
     "output_type": "display_data"
    },
    {
     "name": "stdout",
     "output_type": "stream",
     "text": [
      "Loss → Total: 0.7408, Regression: 0.0114, Classification: 0.7295\n",
      "SM_0 → RMSE: 9.61986335, MAE: 7.50570250, ME: -1.90557456\n",
      "SM_20 → RMSE: 9.83487788, MAE: 7.77868080, ME: -3.47089767\n",
      "Classification → Accuracy: 0.82936315, F1-score: 0.82810940\n",
      "Epoch 22/60\n"
     ]
    },
    {
     "data": {
      "application/vnd.jupyter.widget-view+json": {
       "model_id": "21f4e9b83781497d97a9b8d737745085",
       "version_major": 2,
       "version_minor": 0
      },
      "text/plain": [
       "  0%|          | 0/65 [00:00<?, ?it/s]"
      ]
     },
     "metadata": {},
     "output_type": "display_data"
    },
    {
     "name": "stdout",
     "output_type": "stream",
     "text": [
      "Loss → Total: 0.7050, Regression: 0.0116, Classification: 0.6934\n",
      "SM_0 → RMSE: 8.30053262, MAE: 6.41146898, ME: -0.91349137\n",
      "SM_20 → RMSE: 8.42739874, MAE: 6.54234123, ME: -0.62439752\n",
      "Classification → Accuracy: 0.83859990, F1-score: 0.83980700\n",
      "Epoch 23/60\n"
     ]
    },
    {
     "data": {
      "application/vnd.jupyter.widget-view+json": {
       "model_id": "c37a17ef84c844a78eadb2ad89413390",
       "version_major": 2,
       "version_minor": 0
      },
      "text/plain": [
       "  0%|          | 0/65 [00:00<?, ?it/s]"
      ]
     },
     "metadata": {},
     "output_type": "display_data"
    },
    {
     "name": "stdout",
     "output_type": "stream",
     "text": [
      "Loss → Total: 0.6447, Regression: 0.0099, Classification: 0.6347\n",
      "SM_0 → RMSE: 7.82430675, MAE: 6.05133200, ME: -0.34984016\n",
      "SM_20 → RMSE: 8.19465988, MAE: 6.44751978, ME: -0.86459661\n",
      "Classification → Accuracy: 0.85464268, F1-score: 0.85420294\n",
      "Epoch 24/60\n"
     ]
    },
    {
     "data": {
      "application/vnd.jupyter.widget-view+json": {
       "model_id": "d698e71248f54312b3346f5197836d42",
       "version_major": 2,
       "version_minor": 0
      },
      "text/plain": [
       "  0%|          | 0/65 [00:00<?, ?it/s]"
      ]
     },
     "metadata": {},
     "output_type": "display_data"
    },
    {
     "name": "stdout",
     "output_type": "stream",
     "text": [
      "Loss → Total: 0.6611, Regression: 0.0100, Classification: 0.6510\n",
      "SM_0 → RMSE: 7.32200982, MAE: 5.66655207, ME: -2.24498606\n",
      "SM_20 → RMSE: 7.51917917, MAE: 5.72266722, ME: -1.66771638\n",
      "Classification → Accuracy: 0.86922703, F1-score: 0.86973307\n",
      "Epoch 25/60\n"
     ]
    },
    {
     "data": {
      "application/vnd.jupyter.widget-view+json": {
       "model_id": "ef6df35bb69845c79e0f036dfe6e39fb",
       "version_major": 2,
       "version_minor": 0
      },
      "text/plain": [
       "  0%|          | 0/65 [00:00<?, ?it/s]"
      ]
     },
     "metadata": {},
     "output_type": "display_data"
    },
    {
     "name": "stdout",
     "output_type": "stream",
     "text": [
      "Loss → Total: 0.6158, Regression: 0.0096, Classification: 0.6062\n",
      "SM_0 → RMSE: 7.27354842, MAE: 5.64463758, ME: -1.42764652\n",
      "SM_20 → RMSE: 7.88558346, MAE: 6.02575922, ME: -1.23528135\n",
      "Classification → Accuracy: 0.88575596, F1-score: 0.88483963\n",
      "Epoch 26/60\n"
     ]
    },
    {
     "data": {
      "application/vnd.jupyter.widget-view+json": {
       "model_id": "dcb75970df154b60b115db97279302e0",
       "version_major": 2,
       "version_minor": 0
      },
      "text/plain": [
       "  0%|          | 0/65 [00:00<?, ?it/s]"
      ]
     },
     "metadata": {},
     "output_type": "display_data"
    },
    {
     "name": "stdout",
     "output_type": "stream",
     "text": [
      "Loss → Total: 0.6450, Regression: 0.0104, Classification: 0.6346\n",
      "SM_0 → RMSE: 7.00219501, MAE: 5.22386408, ME: 0.31870097\n",
      "SM_20 → RMSE: 7.20514960, MAE: 5.44591618, ME: 0.03183072\n",
      "Classification → Accuracy: 0.86971317, F1-score: 0.87165428\n",
      "Epoch 27/60\n"
     ]
    },
    {
     "data": {
      "application/vnd.jupyter.widget-view+json": {
       "model_id": "a1eb14474c074f758560b039eb2e1f69",
       "version_major": 2,
       "version_minor": 0
      },
      "text/plain": [
       "  0%|          | 0/65 [00:00<?, ?it/s]"
      ]
     },
     "metadata": {},
     "output_type": "display_data"
    },
    {
     "name": "stdout",
     "output_type": "stream",
     "text": [
      "Loss → Total: 0.6546, Regression: 0.0094, Classification: 0.6452\n",
      "SM_0 → RMSE: 6.88781543, MAE: 5.30863380, ME: 0.56840390\n",
      "SM_20 → RMSE: 7.36232664, MAE: 5.67522287, ME: 1.08925867\n",
      "Classification → Accuracy: 0.88721439, F1-score: 0.88611877\n",
      "Epoch 28/60\n"
     ]
    },
    {
     "data": {
      "application/vnd.jupyter.widget-view+json": {
       "model_id": "24ff051c1bf445c397ad71f9baac6c12",
       "version_major": 2,
       "version_minor": 0
      },
      "text/plain": [
       "  0%|          | 0/65 [00:00<?, ?it/s]"
      ]
     },
     "metadata": {},
     "output_type": "display_data"
    },
    {
     "name": "stdout",
     "output_type": "stream",
     "text": [
      "Loss → Total: 0.5869, Regression: 0.0094, Classification: 0.5775\n",
      "SM_0 → RMSE: 6.82932213, MAE: 5.29319954, ME: -0.54005903\n",
      "SM_20 → RMSE: 6.85187038, MAE: 5.30965614, ME: 0.24147484\n",
      "Classification → Accuracy: 0.87263004, F1-score: 0.87347271\n",
      "Epoch 29/60\n"
     ]
    },
    {
     "data": {
      "application/vnd.jupyter.widget-view+json": {
       "model_id": "cdb32bbaf93e4d16ab2b733f5dc1cd65",
       "version_major": 2,
       "version_minor": 0
      },
      "text/plain": [
       "  0%|          | 0/65 [00:00<?, ?it/s]"
      ]
     },
     "metadata": {},
     "output_type": "display_data"
    },
    {
     "name": "stdout",
     "output_type": "stream",
     "text": [
      "Loss → Total: 0.6434, Regression: 0.0117, Classification: 0.6317\n",
      "SM_0 → RMSE: 8.91843841, MAE: 7.11434746, ME: -0.76476496\n",
      "SM_20 → RMSE: 9.43803071, MAE: 7.63102198, ME: 1.55242038\n",
      "Classification → Accuracy: 0.87214390, F1-score: 0.87366009\n",
      "Epoch 30/60\n"
     ]
    },
    {
     "data": {
      "application/vnd.jupyter.widget-view+json": {
       "model_id": "fd958b1d47774961bff9282a73e27f4d",
       "version_major": 2,
       "version_minor": 0
      },
      "text/plain": [
       "  0%|          | 0/65 [00:00<?, ?it/s]"
      ]
     },
     "metadata": {},
     "output_type": "display_data"
    },
    {
     "name": "stdout",
     "output_type": "stream",
     "text": [
      "Loss → Total: 0.5569, Regression: 0.0102, Classification: 0.5467\n",
      "SM_0 → RMSE: 6.96384083, MAE: 5.49723959, ME: -1.43841553\n",
      "SM_20 → RMSE: 7.19811599, MAE: 5.63439512, ME: -1.50930083\n",
      "Classification → Accuracy: 0.89742343, F1-score: 0.89756562\n",
      "Epoch 31/60\n"
     ]
    },
    {
     "data": {
      "application/vnd.jupyter.widget-view+json": {
       "model_id": "7e090858eedf4987bc804aa7bee96da4",
       "version_major": 2,
       "version_minor": 0
      },
      "text/plain": [
       "  0%|          | 0/65 [00:00<?, ?it/s]"
      ]
     },
     "metadata": {},
     "output_type": "display_data"
    },
    {
     "name": "stdout",
     "output_type": "stream",
     "text": [
      "Loss → Total: 0.5357, Regression: 0.0082, Classification: 0.5276\n",
      "SM_0 → RMSE: 6.81389023, MAE: 5.24961758, ME: 0.43660957\n",
      "SM_20 → RMSE: 6.88079312, MAE: 5.32790947, ME: 0.34006506\n",
      "Classification → Accuracy: 0.90082645, F1-score: 0.90226120\n",
      "Epoch 32/60\n"
     ]
    },
    {
     "data": {
      "application/vnd.jupyter.widget-view+json": {
       "model_id": "d2d264b8c72e4c63b7ec17acb386a654",
       "version_major": 2,
       "version_minor": 0
      },
      "text/plain": [
       "  0%|          | 0/65 [00:00<?, ?it/s]"
      ]
     },
     "metadata": {},
     "output_type": "display_data"
    },
    {
     "name": "stdout",
     "output_type": "stream",
     "text": [
      "Loss → Total: 0.5743, Regression: 0.0089, Classification: 0.5653\n",
      "SM_0 → RMSE: 6.63221377, MAE: 5.13557816, ME: -2.39065075\n",
      "SM_20 → RMSE: 7.11988138, MAE: 5.53128672, ME: -2.69837928\n",
      "Classification → Accuracy: 0.91200778, F1-score: 0.91156871\n",
      "Epoch 33/60\n"
     ]
    },
    {
     "data": {
      "application/vnd.jupyter.widget-view+json": {
       "model_id": "a0923468b324447e9a4c12dfddce3e90",
       "version_major": 2,
       "version_minor": 0
      },
      "text/plain": [
       "  0%|          | 0/65 [00:00<?, ?it/s]"
      ]
     },
     "metadata": {},
     "output_type": "display_data"
    },
    {
     "name": "stdout",
     "output_type": "stream",
     "text": [
      "Loss → Total: 0.5715, Regression: 0.0086, Classification: 0.5629\n",
      "SM_0 → RMSE: 6.39395256, MAE: 4.90977669, ME: 0.15692951\n",
      "SM_20 → RMSE: 6.76086484, MAE: 5.30190659, ME: -1.01260090\n",
      "Classification → Accuracy: 0.89645114, F1-score: 0.89592936\n",
      "Epoch 34/60\n"
     ]
    },
    {
     "data": {
      "application/vnd.jupyter.widget-view+json": {
       "model_id": "81bc4108c67a469a931ee03b7b103217",
       "version_major": 2,
       "version_minor": 0
      },
      "text/plain": [
       "  0%|          | 0/65 [00:00<?, ?it/s]"
      ]
     },
     "metadata": {},
     "output_type": "display_data"
    },
    {
     "name": "stdout",
     "output_type": "stream",
     "text": [
      "Loss → Total: 0.5219, Regression: 0.0080, Classification: 0.5139\n",
      "SM_0 → RMSE: 6.29484067, MAE: 4.72971725, ME: 0.79274511\n",
      "SM_20 → RMSE: 6.89563000, MAE: 5.40337801, ME: 1.67576659\n",
      "Classification → Accuracy: 0.91395236, F1-score: 0.91437844\n",
      "Epoch 35/60\n"
     ]
    },
    {
     "data": {
      "application/vnd.jupyter.widget-view+json": {
       "model_id": "909dd8980b2e411f80d9f5fb00137fb1",
       "version_major": 2,
       "version_minor": 0
      },
      "text/plain": [
       "  0%|          | 0/65 [00:00<?, ?it/s]"
      ]
     },
     "metadata": {},
     "output_type": "display_data"
    },
    {
     "name": "stdout",
     "output_type": "stream",
     "text": [
      "Loss → Total: 0.4773, Regression: 0.0071, Classification: 0.4702\n",
      "SM_0 → RMSE: 6.66256142, MAE: 5.09820747, ME: -0.28249910\n",
      "SM_20 → RMSE: 6.72419610, MAE: 5.13622999, ME: 0.02677304\n",
      "Classification → Accuracy: 0.91395236, F1-score: 0.91435704\n",
      "Epoch 36/60\n"
     ]
    },
    {
     "data": {
      "application/vnd.jupyter.widget-view+json": {
       "model_id": "c134a1dfe21e4249b37d47125ef14e65",
       "version_major": 2,
       "version_minor": 0
      },
      "text/plain": [
       "  0%|          | 0/65 [00:00<?, ?it/s]"
      ]
     },
     "metadata": {},
     "output_type": "display_data"
    },
    {
     "name": "stdout",
     "output_type": "stream",
     "text": [
      "Loss → Total: 0.5078, Regression: 0.0074, Classification: 0.5004\n",
      "SM_0 → RMSE: 6.82356917, MAE: 5.31482458, ME: -1.89102256\n",
      "SM_20 → RMSE: 7.04747152, MAE: 5.43430567, ME: -1.44817781\n",
      "Classification → Accuracy: 0.93242586, F1-score: 0.93319328\n",
      "Epoch 37/60\n"
     ]
    },
    {
     "data": {
      "application/vnd.jupyter.widget-view+json": {
       "model_id": "3241da5b038c4b74889f0fe3e74fa206",
       "version_major": 2,
       "version_minor": 0
      },
      "text/plain": [
       "  0%|          | 0/65 [00:00<?, ?it/s]"
      ]
     },
     "metadata": {},
     "output_type": "display_data"
    },
    {
     "name": "stdout",
     "output_type": "stream",
     "text": [
      "Loss → Total: 0.4703, Regression: 0.0081, Classification: 0.4622\n",
      "SM_0 → RMSE: 6.29150434, MAE: 4.82827902, ME: 0.78922606\n",
      "SM_20 → RMSE: 6.31489956, MAE: 4.85736132, ME: 0.47722211\n",
      "Classification → Accuracy: 0.92027224, F1-score: 0.92020234\n",
      "Epoch 38/60\n"
     ]
    },
    {
     "data": {
      "application/vnd.jupyter.widget-view+json": {
       "model_id": "bb127436ebb24412b5ab169a1e5ccb09",
       "version_major": 2,
       "version_minor": 0
      },
      "text/plain": [
       "  0%|          | 0/65 [00:00<?, ?it/s]"
      ]
     },
     "metadata": {},
     "output_type": "display_data"
    },
    {
     "name": "stdout",
     "output_type": "stream",
     "text": [
      "Loss → Total: 0.4473, Regression: 0.0070, Classification: 0.4403\n",
      "SM_0 → RMSE: 6.34290567, MAE: 4.81585646, ME: -1.18642092\n",
      "SM_20 → RMSE: 6.97241771, MAE: 5.55027056, ME: -3.11099339\n",
      "Classification → Accuracy: 0.91784152, F1-score: 0.91849191\n",
      "Epoch 39/60\n"
     ]
    },
    {
     "data": {
      "application/vnd.jupyter.widget-view+json": {
       "model_id": "493e952d2c464549ac58b0300c9f67ce",
       "version_major": 2,
       "version_minor": 0
      },
      "text/plain": [
       "  0%|          | 0/65 [00:00<?, ?it/s]"
      ]
     },
     "metadata": {},
     "output_type": "display_data"
    },
    {
     "name": "stdout",
     "output_type": "stream",
     "text": [
      "Loss → Total: 0.4644, Regression: 0.0093, Classification: 0.4551\n",
      "SM_0 → RMSE: 7.26645451, MAE: 5.60176897, ME: -2.52056599\n",
      "SM_20 → RMSE: 8.15713672, MAE: 6.40484047, ME: -3.18720222\n",
      "Classification → Accuracy: 0.92416140, F1-score: 0.92370045\n",
      "Epoch 40/60\n"
     ]
    },
    {
     "data": {
      "application/vnd.jupyter.widget-view+json": {
       "model_id": "29419bab83c447f0ae5ca35d9481d5ae",
       "version_major": 2,
       "version_minor": 0
      },
      "text/plain": [
       "  0%|          | 0/65 [00:00<?, ?it/s]"
      ]
     },
     "metadata": {},
     "output_type": "display_data"
    },
    {
     "name": "stdout",
     "output_type": "stream",
     "text": [
      "Loss → Total: 0.4519, Regression: 0.0076, Classification: 0.4443\n",
      "SM_0 → RMSE: 6.05842186, MAE: 4.62306118, ME: -0.71510857\n",
      "SM_20 → RMSE: 6.15321484, MAE: 4.70157433, ME: -0.36235282\n",
      "Classification → Accuracy: 0.93485659, F1-score: 0.93556986\n",
      "Epoch 41/60\n"
     ]
    },
    {
     "data": {
      "application/vnd.jupyter.widget-view+json": {
       "model_id": "572fd8a8574d426c8e5eac29056b1313",
       "version_major": 2,
       "version_minor": 0
      },
      "text/plain": [
       "  0%|          | 0/65 [00:00<?, ?it/s]"
      ]
     },
     "metadata": {},
     "output_type": "display_data"
    },
    {
     "name": "stdout",
     "output_type": "stream",
     "text": [
      "Loss → Total: 0.4393, Regression: 0.0076, Classification: 0.4318\n",
      "SM_0 → RMSE: 6.80445597, MAE: 5.26604080, ME: -1.10608351\n",
      "SM_20 → RMSE: 6.97194089, MAE: 5.54093218, ME: -0.97036356\n",
      "Classification → Accuracy: 0.91006320, F1-score: 0.90970724\n",
      "Epoch 42/60\n"
     ]
    },
    {
     "data": {
      "application/vnd.jupyter.widget-view+json": {
       "model_id": "d494a9eb5611405e894b2dc368534690",
       "version_major": 2,
       "version_minor": 0
      },
      "text/plain": [
       "  0%|          | 0/65 [00:00<?, ?it/s]"
      ]
     },
     "metadata": {},
     "output_type": "display_data"
    },
    {
     "name": "stdout",
     "output_type": "stream",
     "text": [
      "Loss → Total: 0.3843, Regression: 0.0069, Classification: 0.3774\n",
      "SM_0 → RMSE: 6.28703414, MAE: 4.77492714, ME: -0.17180963\n",
      "SM_20 → RMSE: 6.27688918, MAE: 4.86191797, ME: -0.41441190\n",
      "Classification → Accuracy: 0.92027224, F1-score: 0.92130370\n",
      "Epoch 43/60\n"
     ]
    },
    {
     "data": {
      "application/vnd.jupyter.widget-view+json": {
       "model_id": "94d12d219e674758910feb06451f2965",
       "version_major": 2,
       "version_minor": 0
      },
      "text/plain": [
       "  0%|          | 0/65 [00:00<?, ?it/s]"
      ]
     },
     "metadata": {},
     "output_type": "display_data"
    },
    {
     "name": "stdout",
     "output_type": "stream",
     "text": [
      "Loss → Total: 0.4258, Regression: 0.0067, Classification: 0.4191\n",
      "SM_0 → RMSE: 6.75184069, MAE: 5.28545141, ME: -1.69405723\n",
      "SM_20 → RMSE: 6.60643687, MAE: 5.16848135, ME: -1.06900430\n",
      "Classification → Accuracy: 0.93971804, F1-score: 0.94004455\n",
      "Epoch 44/60\n"
     ]
    },
    {
     "data": {
      "application/vnd.jupyter.widget-view+json": {
       "model_id": "0e6166ec682447f2bc1c39acc7231958",
       "version_major": 2,
       "version_minor": 0
      },
      "text/plain": [
       "  0%|          | 0/65 [00:00<?, ?it/s]"
      ]
     },
     "metadata": {},
     "output_type": "display_data"
    },
    {
     "name": "stdout",
     "output_type": "stream",
     "text": [
      "Loss → Total: 0.4691, Regression: 0.0082, Classification: 0.4610\n",
      "SM_0 → RMSE: 6.38628959, MAE: 4.81754446, ME: -0.60259706\n",
      "SM_20 → RMSE: 6.91630768, MAE: 5.37727499, ME: -1.53197944\n",
      "Classification → Accuracy: 0.92853670, F1-score: 0.92929129\n",
      "Epoch 45/60\n"
     ]
    },
    {
     "data": {
      "application/vnd.jupyter.widget-view+json": {
       "model_id": "88ce753785934fad94ad0bef13c62774",
       "version_major": 2,
       "version_minor": 0
      },
      "text/plain": [
       "  0%|          | 0/65 [00:00<?, ?it/s]"
      ]
     },
     "metadata": {},
     "output_type": "display_data"
    },
    {
     "name": "stdout",
     "output_type": "stream",
     "text": [
      "Loss → Total: 0.4086, Regression: 0.0071, Classification: 0.4015\n",
      "SM_0 → RMSE: 6.17880594, MAE: 4.54709482, ME: -0.49068728\n",
      "SM_20 → RMSE: 6.58140095, MAE: 4.97355127, ME: -1.23677039\n",
      "Classification → Accuracy: 0.93388430, F1-score: 0.93455386\n",
      "Epoch 46/60\n"
     ]
    },
    {
     "data": {
      "application/vnd.jupyter.widget-view+json": {
       "model_id": "87fcfb29fb8e4f258a61cfbf3b25c77a",
       "version_major": 2,
       "version_minor": 0
      },
      "text/plain": [
       "  0%|          | 0/65 [00:00<?, ?it/s]"
      ]
     },
     "metadata": {},
     "output_type": "display_data"
    },
    {
     "name": "stdout",
     "output_type": "stream",
     "text": [
      "Loss → Total: 0.4061, Regression: 0.0070, Classification: 0.3991\n",
      "SM_0 → RMSE: 6.17364894, MAE: 4.71598148, ME: -1.07979846\n",
      "SM_20 → RMSE: 6.65479331, MAE: 5.23361063, ME: -2.51919746\n",
      "Classification → Accuracy: 0.92902285, F1-score: 0.92915440\n",
      "Epoch 47/60\n"
     ]
    },
    {
     "data": {
      "application/vnd.jupyter.widget-view+json": {
       "model_id": "a05cb943f1cb4012bd565af84ff6df36",
       "version_major": 2,
       "version_minor": 0
      },
      "text/plain": [
       "  0%|          | 0/65 [00:00<?, ?it/s]"
      ]
     },
     "metadata": {},
     "output_type": "display_data"
    },
    {
     "name": "stdout",
     "output_type": "stream",
     "text": [
      "Loss → Total: 0.3841, Regression: 0.0079, Classification: 0.3762\n",
      "SM_0 → RMSE: 6.67043459, MAE: 5.09278107, ME: -2.15138102\n",
      "SM_20 → RMSE: 6.77477381, MAE: 5.28557014, ME: -0.97174472\n",
      "Classification → Accuracy: 0.93534273, F1-score: 0.93636418\n",
      "Epoch 48/60\n"
     ]
    },
    {
     "data": {
      "application/vnd.jupyter.widget-view+json": {
       "model_id": "235f915e81414e46926aabae023e1056",
       "version_major": 2,
       "version_minor": 0
      },
      "text/plain": [
       "  0%|          | 0/65 [00:00<?, ?it/s]"
      ]
     },
     "metadata": {},
     "output_type": "display_data"
    },
    {
     "name": "stdout",
     "output_type": "stream",
     "text": [
      "Loss → Total: 0.4277, Regression: 0.0074, Classification: 0.4202\n",
      "SM_0 → RMSE: 5.92695211, MAE: 4.53323841, ME: -1.61537659\n",
      "SM_20 → RMSE: 6.35726376, MAE: 4.84596252, ME: -1.56065822\n",
      "Classification → Accuracy: 0.93193972, F1-score: 0.93279860\n",
      "Epoch 49/60\n"
     ]
    },
    {
     "data": {
      "application/vnd.jupyter.widget-view+json": {
       "model_id": "d3538058a56545298f55883212976e22",
       "version_major": 2,
       "version_minor": 0
      },
      "text/plain": [
       "  0%|          | 0/65 [00:00<?, ?it/s]"
      ]
     },
     "metadata": {},
     "output_type": "display_data"
    },
    {
     "name": "stdout",
     "output_type": "stream",
     "text": [
      "Loss → Total: 0.3919, Regression: 0.0064, Classification: 0.3854\n",
      "SM_0 → RMSE: 5.65908995, MAE: 4.26593542, ME: 0.08266874\n",
      "SM_20 → RMSE: 6.01439783, MAE: 4.67534113, ME: 0.34517446\n",
      "Classification → Accuracy: 0.93874575, F1-score: 0.93884935\n",
      "Epoch 50/60\n"
     ]
    },
    {
     "data": {
      "application/vnd.jupyter.widget-view+json": {
       "model_id": "5951d3d55e5349ccbcbf4e95df55c11c",
       "version_major": 2,
       "version_minor": 0
      },
      "text/plain": [
       "  0%|          | 0/65 [00:00<?, ?it/s]"
      ]
     },
     "metadata": {},
     "output_type": "display_data"
    },
    {
     "name": "stdout",
     "output_type": "stream",
     "text": [
      "Loss → Total: 0.3730, Regression: 0.0070, Classification: 0.3660\n",
      "SM_0 → RMSE: 5.87511330, MAE: 4.42150831, ME: 1.33957899\n",
      "SM_20 → RMSE: 6.06809723, MAE: 4.51770592, ME: 1.65915072\n",
      "Classification → Accuracy: 0.94409334, F1-score: 0.94390367\n",
      "Epoch 51/60\n"
     ]
    },
    {
     "data": {
      "application/vnd.jupyter.widget-view+json": {
       "model_id": "6cf8d9a4e9a243ce839a64b65944e13a",
       "version_major": 2,
       "version_minor": 0
      },
      "text/plain": [
       "  0%|          | 0/65 [00:00<?, ?it/s]"
      ]
     },
     "metadata": {},
     "output_type": "display_data"
    },
    {
     "name": "stdout",
     "output_type": "stream",
     "text": [
      "Loss → Total: 0.3478, Regression: 0.0072, Classification: 0.3406\n",
      "SM_0 → RMSE: 5.93944606, MAE: 4.66823530, ME: -1.11903858\n",
      "SM_20 → RMSE: 6.20998912, MAE: 4.86814499, ME: -1.65927887\n",
      "Classification → Accuracy: 0.94506563, F1-score: 0.94593041\n",
      "Epoch 52/60\n"
     ]
    },
    {
     "data": {
      "application/vnd.jupyter.widget-view+json": {
       "model_id": "588029046fc04ac49859db51e4c9f6d6",
       "version_major": 2,
       "version_minor": 0
      },
      "text/plain": [
       "  0%|          | 0/65 [00:00<?, ?it/s]"
      ]
     },
     "metadata": {},
     "output_type": "display_data"
    },
    {
     "name": "stdout",
     "output_type": "stream",
     "text": [
      "Loss → Total: 0.3305, Regression: 0.0063, Classification: 0.3242\n",
      "SM_0 → RMSE: 6.13313096, MAE: 4.62789965, ME: -0.64636892\n",
      "SM_20 → RMSE: 5.85894692, MAE: 4.47756577, ME: -0.49433044\n",
      "Classification → Accuracy: 0.94214876, F1-score: 0.94223254\n",
      "Epoch 53/60\n"
     ]
    },
    {
     "data": {
      "application/vnd.jupyter.widget-view+json": {
       "model_id": "ae5bc86fd1e645529224cc2f90ecc904",
       "version_major": 2,
       "version_minor": 0
      },
      "text/plain": [
       "  0%|          | 0/65 [00:00<?, ?it/s]"
      ]
     },
     "metadata": {},
     "output_type": "display_data"
    },
    {
     "name": "stdout",
     "output_type": "stream",
     "text": [
      "Loss → Total: 0.3148, Regression: 0.0055, Classification: 0.3094\n",
      "SM_0 → RMSE: 5.93489323, MAE: 4.38514185, ME: -0.51526588\n",
      "SM_20 → RMSE: 6.16632402, MAE: 4.63860416, ME: -1.31275403\n",
      "Classification → Accuracy: 0.93339815, F1-score: 0.93443149\n",
      "Epoch 54/60\n"
     ]
    },
    {
     "data": {
      "application/vnd.jupyter.widget-view+json": {
       "model_id": "1bd4d3d0eec7411daa67839413c157fb",
       "version_major": 2,
       "version_minor": 0
      },
      "text/plain": [
       "  0%|          | 0/65 [00:00<?, ?it/s]"
      ]
     },
     "metadata": {},
     "output_type": "display_data"
    },
    {
     "name": "stdout",
     "output_type": "stream",
     "text": [
      "Loss → Total: 0.3122, Regression: 0.0058, Classification: 0.3065\n",
      "SM_0 → RMSE: 6.31020774, MAE: 4.79795647, ME: -1.22132957\n",
      "SM_20 → RMSE: 6.80196048, MAE: 5.15400648, ME: -1.05865550\n",
      "Classification → Accuracy: 0.94457948, F1-score: 0.94481991\n",
      "Epoch 55/60\n"
     ]
    },
    {
     "data": {
      "application/vnd.jupyter.widget-view+json": {
       "model_id": "2fdddb3f708e4062a9c5c4300620adc6",
       "version_major": 2,
       "version_minor": 0
      },
      "text/plain": [
       "  0%|          | 0/65 [00:00<?, ?it/s]"
      ]
     },
     "metadata": {},
     "output_type": "display_data"
    },
    {
     "name": "stdout",
     "output_type": "stream",
     "text": [
      "Loss → Total: 0.3238, Regression: 0.0057, Classification: 0.3181\n",
      "SM_0 → RMSE: 6.89353331, MAE: 5.38188505, ME: -3.45709372\n",
      "SM_20 → RMSE: 7.19439552, MAE: 5.53631926, ME: -3.23052359\n",
      "Classification → Accuracy: 0.93193972, F1-score: 0.93254890\n",
      "Epoch 56/60\n"
     ]
    },
    {
     "data": {
      "application/vnd.jupyter.widget-view+json": {
       "model_id": "7815db6a521a461dab72759c856f2268",
       "version_major": 2,
       "version_minor": 0
      },
      "text/plain": [
       "  0%|          | 0/65 [00:00<?, ?it/s]"
      ]
     },
     "metadata": {},
     "output_type": "display_data"
    },
    {
     "name": "stdout",
     "output_type": "stream",
     "text": [
      "Loss → Total: 0.3510, Regression: 0.0060, Classification: 0.3449\n",
      "SM_0 → RMSE: 5.71693367, MAE: 4.34676552, ME: -1.18625212\n",
      "SM_20 → RMSE: 6.02191198, MAE: 4.63554049, ME: -1.52303684\n",
      "Classification → Accuracy: 0.94214876, F1-score: 0.94303720\n",
      "Epoch 57/60\n"
     ]
    },
    {
     "data": {
      "application/vnd.jupyter.widget-view+json": {
       "model_id": "6b78c521561c4c7c8a0f1aad4f1c716b",
       "version_major": 2,
       "version_minor": 0
      },
      "text/plain": [
       "  0%|          | 0/65 [00:00<?, ?it/s]"
      ]
     },
     "metadata": {},
     "output_type": "display_data"
    },
    {
     "name": "stdout",
     "output_type": "stream",
     "text": [
      "Loss → Total: 0.3270, Regression: 0.0060, Classification: 0.3210\n",
      "SM_0 → RMSE: 6.20131028, MAE: 4.73642349, ME: -1.62881088\n",
      "SM_20 → RMSE: 6.57724348, MAE: 5.15702105, ME: -2.78338170\n",
      "Classification → Accuracy: 0.93728731, F1-score: 0.93768718\n",
      "Epoch 58/60\n"
     ]
    },
    {
     "data": {
      "application/vnd.jupyter.widget-view+json": {
       "model_id": "2b24b3ea839d4af6ba0409ea232627cc",
       "version_major": 2,
       "version_minor": 0
      },
      "text/plain": [
       "  0%|          | 0/65 [00:00<?, ?it/s]"
      ]
     },
     "metadata": {},
     "output_type": "display_data"
    },
    {
     "name": "stdout",
     "output_type": "stream",
     "text": [
      "Loss → Total: 0.3095, Regression: 0.0055, Classification: 0.3041\n",
      "SM_0 → RMSE: 6.23916664, MAE: 4.74284172, ME: -0.53124028\n",
      "SM_20 → RMSE: 6.65023317, MAE: 5.08012152, ME: -1.78650141\n",
      "Classification → Accuracy: 0.94117647, F1-score: 0.94202029\n",
      "Epoch 59/60\n"
     ]
    },
    {
     "data": {
      "application/vnd.jupyter.widget-view+json": {
       "model_id": "0b086bfb8e994bcca80a126d0de9c986",
       "version_major": 2,
       "version_minor": 0
      },
      "text/plain": [
       "  0%|          | 0/65 [00:00<?, ?it/s]"
      ]
     },
     "metadata": {},
     "output_type": "display_data"
    },
    {
     "name": "stdout",
     "output_type": "stream",
     "text": [
      "Loss → Total: 0.3164, Regression: 0.0056, Classification: 0.3108\n",
      "SM_0 → RMSE: 6.33140227, MAE: 4.78018188, ME: -1.28697169\n",
      "SM_20 → RMSE: 6.15886373, MAE: 4.71941185, ME: -0.72310454\n",
      "Classification → Accuracy: 0.94214876, F1-score: 0.94294767\n",
      "Epoch 60/60\n"
     ]
    },
    {
     "data": {
      "application/vnd.jupyter.widget-view+json": {
       "model_id": "2a20c4ccb23e428d8746c16476fa165f",
       "version_major": 2,
       "version_minor": 0
      },
      "text/plain": [
       "  0%|          | 0/65 [00:00<?, ?it/s]"
      ]
     },
     "metadata": {},
     "output_type": "display_data"
    },
    {
     "name": "stdout",
     "output_type": "stream",
     "text": [
      "Loss → Total: 0.2935, Regression: 0.0061, Classification: 0.2874\n",
      "SM_0 → RMSE: 6.75181838, MAE: 5.17968798, ME: -2.16824317\n",
      "SM_20 → RMSE: 7.13918512, MAE: 5.57892084, ME: -2.97602320\n",
      "Classification → Accuracy: 0.93631502, F1-score: 0.93700913\n"
     ]
    }
   ],
   "source": [
    "import torch\n",
    "import torch.nn as nn\n",
    "import pandas as pd\n",
    "import numpy as np\n",
    "from torch.utils.data import Dataset, DataLoader\n",
    "from torchvision import transforms\n",
    "from PIL import Image\n",
    "from sklearn.metrics import mean_squared_error, mean_absolute_error, accuracy_score, f1_score\n",
    "from tqdm.notebook import tqdm\n",
    "import timm\n",
    "import os\n",
    "import random\n",
    "\n",
    "device = torch.device(\"cuda\" if torch.cuda.is_available() else \"cpu\")\n",
    "print(f\"Using device: {device}\")\n",
    "print(f\"PyTorch version: {torch.__version__}\")\n",
    "\n",
    "df = pd.read_csv(r\"F:\\Soil_Labeled_Data\\labels.csv\")\n",
    "print(f\"Total labeled images before check: {len(df)}\")\n",
    "\n",
    "required_columns = ['path', 'SM_0', 'SM_20', 'light_value', 'moisture_class']\n",
    "missing_columns = [col for col in required_columns if col not in df.columns]\n",
    "if missing_columns:\n",
    "    raise ValueError(f\"DataFrame missing columns: {missing_columns}\")\n",
    "\n",
    "fallback_dir = r\"F:\\Soil_Labeled_Data\\augmented_fallback\"\n",
    "os.makedirs(fallback_dir, exist_ok=True)\n",
    "replaced_count = 0\n",
    "augment = transforms.ColorJitter(brightness=0.2, contrast=0.2)\n",
    "\n",
    "for idx, row in tqdm(df.iterrows(), total=len(df)):\n",
    "    path = row[\"path\"]\n",
    "    try:\n",
    "        img = Image.open(path).convert(\"RGB\")\n",
    "        img.verify()\n",
    "    except:\n",
    "        print(f\"Image error: {path}\")\n",
    "        folder = os.path.dirname(path)\n",
    "        all_images = [f for f in os.listdir(folder) if f.lower().endswith((\".jpg\", \".png\"))]\n",
    "        good_images = [f for f in all_images if f != os.path.basename(path)]\n",
    "        if not good_images:\n",
    "            print(f\"No replacement images in: {folder}\")\n",
    "            continue\n",
    "        candidate = random.choice(good_images)\n",
    "        candidate_path = os.path.join(folder, candidate)\n",
    "        try:\n",
    "            img = Image.open(candidate_path).convert(\"RGB\")\n",
    "            img_aug = augment(img)\n",
    "            new_filename = f\"aug_{os.path.basename(path)}\"\n",
    "            new_path = os.path.join(fallback_dir, new_filename)\n",
    "            img_aug.save(new_path)\n",
    "            df.at[idx, \"path\"] = new_path\n",
    "            replaced_count += 1\n",
    "            print(f\"Replaced with: {new_path}\")\n",
    "        except:\n",
    "            print(f\"Replacement image error: {candidate_path}\")\n",
    "            continue\n",
    "print(f\"Replaced {replaced_count} invalid images with augmented versions.\")\n",
    "\n",
    "transform = transforms.Compose([\n",
    "    transforms.Resize((224, 224)),\n",
    "    transforms.ToTensor(),\n",
    "    transforms.Normalize(mean=[0.485, 0.456, 0.406], std=[0.229, 0.224, 0.225])\n",
    "])\n",
    "\n",
    "class SoilDualTaskDataset(Dataset):\n",
    "    def __init__(self, dataframe, transform=None):\n",
    "        self.df = dataframe\n",
    "        self.transform = transform\n",
    "\n",
    "    def __len__(self):\n",
    "        return len(self.df)\n",
    "\n",
    "    def __getitem__(self, idx):\n",
    "        row = self.df.iloc[idx]\n",
    "        img = Image.open(row[\"path\"]).convert(\"RGB\")\n",
    "        if self.transform:\n",
    "            img = self.transform(img)\n",
    "        light = torch.tensor([row[\"light_value\"] / 100.0], dtype=torch.float32)\n",
    "        regression_target = torch.tensor([row[\"SM_0\"] / 100.0, row[\"SM_20\"] / 100.0], dtype=torch.float32)\n",
    "        class_target = torch.tensor(row[\"moisture_class\"], dtype=torch.long)\n",
    "        return {\n",
    "            \"image\": img,\n",
    "            \"light\": light,\n",
    "            \"regression_target\": regression_target,\n",
    "            \"class_target\": class_target\n",
    "        }\n",
    "\n",
    "class SoilNetDualHead(nn.Module):\n",
    "    def __init__(self, num_classes=10):\n",
    "        super().__init__()\n",
    "        self.initial_conv = nn.Conv2d(3, 32, kernel_size=3, stride=1, padding=1)\n",
    "        self.mnv2_block1 = nn.Sequential(*list(\n",
    "            timm.create_model(\"mobilenetv2_100.ra_in1k\", pretrained=True).blocks.children())[0:3]\n",
    "        )\n",
    "        self.channel_adapter = nn.Conv2d(32, 16, kernel_size=1, bias=False)\n",
    "        self.mobilevit_full = timm.create_model(\"mobilevitv2_050\", pretrained=True)\n",
    "        self.mobilevit_encoder = self.mobilevit_full.stages\n",
    "        self.mvit_to_mnv2 = nn.Conv2d(256, 32, kernel_size=1, bias=False)\n",
    "        self.mnv2_block2 = nn.Sequential(*list(\n",
    "            timm.create_model(\"mobilenetv2_100.ra_in1k\", pretrained=True).blocks.children())[3:7]\n",
    "        )\n",
    "        self.final_conv = nn.Conv2d(320, 1280, kernel_size=1)\n",
    "        self.pool = nn.AdaptiveAvgPool2d((1, 1))\n",
    "        self.light_dense = nn.Sequential(nn.Linear(1, 32), nn.ReLU(inplace=True))\n",
    "        self.reg_head = nn.Sequential(\n",
    "            nn.Linear(1280 + 32, 128),\n",
    "            nn.ReLU(inplace=True),\n",
    "            nn.Linear(128, 2)\n",
    "        )\n",
    "        self.cls_head = nn.Sequential(\n",
    "            nn.Linear(1280 + 32, 128),\n",
    "            nn.ReLU(inplace=True),\n",
    "            nn.Linear(128, num_classes)\n",
    "        )\n",
    "\n",
    "    def forward(self, x_img, x_light):\n",
    "        x = self.initial_conv(x_img)\n",
    "        x = self.mnv2_block1(x)\n",
    "        x = self.channel_adapter(x)\n",
    "        x = self.mobilevit_encoder(x)\n",
    "        x = self.mvit_to_mnv2(x)\n",
    "        x = self.mnv2_block2(x)\n",
    "        x = self.final_conv(x)\n",
    "        x = self.pool(x)\n",
    "        x_img_feat = torch.flatten(x, 1)\n",
    "        x_light_feat = self.light_dense(x_light)\n",
    "        x_concat = torch.cat([x_img_feat, x_light_feat], dim=1)\n",
    "        reg_out = self.reg_head(x_concat)\n",
    "        cls_out = self.cls_head(x_concat)\n",
    "        return reg_out, cls_out\n",
    "\n",
    "dataset = SoilDualTaskDataset(df, transform)\n",
    "dataloader = DataLoader(dataset, batch_size=32, shuffle=True, pin_memory=True if device.type == \"cuda\" else False, num_workers=0)\n",
    "\n",
    "num_classes = len(df[\"moisture_class\"].unique())\n",
    "model = SoilNetDualHead(num_classes=num_classes).to(device)\n",
    "\n",
    "checkpoint_path = r\"C:\\Users\\PC\\soilNet\\checkpoints_VicReg_tinyImagenet\\vicreg_model_final_mu_30.0.pth\"\n",
    "try:\n",
    "    checkpoint = torch.load(checkpoint_path, map_location=device, weights_only=False)\n",
    "    if isinstance(checkpoint, dict) and 'model_state_dict' in checkpoint:\n",
    "        model_state_dict = checkpoint['model_state_dict']\n",
    "    else:\n",
    "        model_state_dict = checkpoint\n",
    "    model_dict = model.state_dict()\n",
    "    pretrained_dict = {k: v for k, v in model_state_dict.items() \n",
    "                       if k in model_dict and model_dict[k].shape == v.shape}\n",
    "    temp_model_dict = model_dict.copy()\n",
    "    temp_model_dict.update(pretrained_dict)\n",
    "    missing_keys, unexpected_keys = model.load_state_dict(temp_model_dict, strict=False)\n",
    "    print(f\"Loaded pretrained weights from {checkpoint_path}\")\n",
    "    if missing_keys:\n",
    "        print(f\"Some keys missing in checkpoint and not loaded: {missing_keys}\")\n",
    "    if unexpected_keys:\n",
    "        print(f\"Some keys in checkpoint not in model and ignored: {unexpected_keys}\")\n",
    "except FileNotFoundError:\n",
    "    print(f\"Checkpoint not found: {checkpoint_path}. Using random initialization.\")\n",
    "except Exception as e:\n",
    "    print(f\"Error loading checkpoint: {e}. Using random initialization.\")\n",
    "\n",
    "optimizer = torch.optim.Adam(model.parameters(), lr=1e-4)\n",
    "reg_criterion = nn.MSELoss()\n",
    "cls_criterion = nn.CrossEntropyLoss()\n",
    "\n",
    "num_epochs = 60\n",
    "loss_history = []\n",
    "\n",
    "for epoch in range(num_epochs):\n",
    "    print(f\"Epoch {epoch+1}/{num_epochs}\")\n",
    "    model.train()\n",
    "    total_loss, total_reg_loss, total_cls_loss = 0, 0, 0\n",
    "    for batch in tqdm(dataloader, leave=False):\n",
    "        x_img = batch[\"image\"].to(device)\n",
    "        x_light = batch[\"light\"].to(device)\n",
    "        y_reg = batch[\"regression_target\"].to(device)\n",
    "        y_cls = batch[\"class_target\"].to(device)\n",
    "        optimizer.zero_grad()\n",
    "        pred_reg, pred_cls = model(x_img, x_light)\n",
    "        loss_reg = reg_criterion(pred_reg, y_reg)\n",
    "        loss_cls = cls_criterion(pred_cls, y_cls)\n",
    "        loss = loss_reg + loss_cls\n",
    "        loss.backward()\n",
    "        optimizer.step()\n",
    "        total_loss += loss.item()\n",
    "        total_reg_loss += loss_reg.item()\n",
    "        total_cls_loss += loss_cls.item()\n",
    "    avg_total = total_loss / len(dataloader)\n",
    "    loss_history.append((avg_total, total_reg_loss / len(dataloader), total_cls_loss / len(dataloader)))\n",
    "    print(f\"Loss → Total: {avg_total:.4f}, Regression: {total_reg_loss / len(dataloader):.4f}, Classification: {total_cls_loss / len(dataloader):.4f}\")\n",
    "    model.eval()\n",
    "    y_true_reg, y_pred_reg = [], []\n",
    "    y_true_cls, y_pred_cls = [], []\n",
    "    with torch.no_grad():\n",
    "        for batch in dataloader:\n",
    "            x_img = batch[\"image\"].to(device)\n",
    "            x_light = batch[\"light\"].to(device)\n",
    "            y_reg = batch[\"regression_target\"].to(device)\n",
    "            y_cls = batch[\"class_target\"].to(device)\n",
    "            pred_reg, pred_cls = model(x_img, x_light)\n",
    "            y_true_reg.extend(y_reg.cpu().numpy())\n",
    "            y_pred_reg.extend(pred_reg.cpu().numpy())\n",
    "            y_true_cls.extend(y_cls.cpu().numpy())\n",
    "            y_pred_cls.extend(pred_cls.argmax(dim=1).cpu().numpy())\n",
    "    y_true_reg = np.array(y_true_reg) * 100\n",
    "    y_pred_reg = np.array(y_pred_reg) * 100\n",
    "    metrics = {}\n",
    "    for i, label in enumerate([\"SM_0\", \"SM_20\"]):\n",
    "        metrics[label] = {\n",
    "            \"RMSE\": mean_squared_error(y_true_reg[:, i], y_pred_reg[:, i]) ** 0.5,\n",
    "            \"MAE\": mean_absolute_error(y_true_reg[:, i], y_pred_reg[:, i]),\n",
    "            \"ME\": np.mean(y_pred_reg[:, i] - y_true_reg[:, i]),\n",
    "        }\n",
    "    metrics[\"Classification\"] = {\n",
    "        \"Accuracy\": accuracy_score(y_true_cls, y_pred_cls),\n",
    "        \"F1-score\": f1_score(y_true_cls, y_pred_cls, average=\"weighted\")\n",
    "    }\n",
    "    for label in [\"SM_0\", \"SM_20\"]:\n",
    "        print(f\"{label} → RMSE: {metrics[label]['RMSE']:.8f}, MAE: {metrics[label]['MAE']:.8f}, ME: {metrics[label]['ME']:.8f}\")\n",
    "    print(f\"Classification → Accuracy: {metrics['Classification']['Accuracy']:.8f}, F1-score: {metrics['Classification']['F1-score']:.8f}\")\n",
    "\n",
    "torch.save(model.state_dict(), r\"C:\\Users\\PC\\soilNet\\checkpoints_VicReg_tinyImagenet\\vicreg_model_final_tinyImageNet_mu_30.0.pth\")"
   ]
  }
 ],
 "metadata": {
  "kernelspec": {
   "display_name": "Python 3 (ipykernel)",
   "language": "python",
   "name": "python3"
  },
  "language_info": {
   "codemirror_mode": {
    "name": "ipython",
    "version": 3
   },
   "file_extension": ".py",
   "mimetype": "text/x-python",
   "name": "python",
   "nbconvert_exporter": "python",
   "pygments_lexer": "ipython3",
   "version": "3.10.16"
  }
 },
 "nbformat": 4,
 "nbformat_minor": 5
}
