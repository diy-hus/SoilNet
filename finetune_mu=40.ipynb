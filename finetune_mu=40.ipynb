{
 "cells": [
  {
   "cell_type": "code",
   "execution_count": 1,
   "id": "37ffe4d9-53e0-48ad-b3ab-365e1ba12eb8",
   "metadata": {},
   "outputs": [
    {
     "name": "stdout",
     "output_type": "stream",
     "text": [
      "Using device: cuda\n",
      "PyTorch version: 2.6.0+cu118\n",
      "Total labeled images before check: 2057\n"
     ]
    },
    {
     "data": {
      "application/vnd.jupyter.widget-view+json": {
       "model_id": "c75a6d04be7f48fd95448d9db2ecbb3f",
       "version_major": 2,
       "version_minor": 0
      },
      "text/plain": [
       "  0%|          | 0/2057 [00:00<?, ?it/s]"
      ]
     },
     "metadata": {},
     "output_type": "display_data"
    },
    {
     "name": "stdout",
     "output_type": "stream",
     "text": [
      "Image error: F:\\Soil_Labeled_Data\\M_10_20\\L_60_70\\alluvial\\IMG_0683.JPG\n",
      "Replaced with: F:\\Soil_Labeled_Data\\augmented_fallback\\aug_IMG_0683.JPG\n",
      "Image error: F:\\Soil_Labeled_Data\\M_10_20\\L_70_80\\alluvial\\IMG_0703.JPG\n",
      "Replaced with: F:\\Soil_Labeled_Data\\augmented_fallback\\aug_IMG_0703.JPG\n",
      "Image error: F:\\Soil_Labeled_Data\\M_10_20\\L_80_90\\alluvial\\IMG_0746.JPG\n",
      "Replaced with: F:\\Soil_Labeled_Data\\augmented_fallback\\aug_IMG_0746.JPG\n",
      "Image error: F:\\Soil_Labeled_Data\\M_10_20\\L_80_90\\alluvial\\IMG_0753.JPG\n",
      "Replaced with: F:\\Soil_Labeled_Data\\augmented_fallback\\aug_IMG_0753.JPG\n",
      "Image error: F:\\Soil_Labeled_Data\\M_10_20\\L_80_90\\alluvial\\IMG_0755.JPG\n",
      "Replaced with: F:\\Soil_Labeled_Data\\augmented_fallback\\aug_IMG_0755.JPG\n",
      "Replaced 5 invalid images with augmented versions.\n",
      "Loaded pretrained weights from C:\\Users\\PC\\soilNet\\checkpoints_VicReg\\vicreg_model_final_mu_40.0.pth\n",
      "Epoch 1/60\n"
     ]
    },
    {
     "data": {
      "application/vnd.jupyter.widget-view+json": {
       "model_id": "c710df798aeb4447b37bafeed680bcdd",
       "version_major": 2,
       "version_minor": 0
      },
      "text/plain": [
       "  0%|          | 0/65 [00:00<?, ?it/s]"
      ]
     },
     "metadata": {},
     "output_type": "display_data"
    },
    {
     "name": "stdout",
     "output_type": "stream",
     "text": [
      "Loss → Total: 2.1979, Regression: 0.0626, Classification: 2.1353\n",
      "SM_0 → RMSE: 20.32350513, MAE: 16.15602303, ME: -0.71600342\n",
      "SM_20 → RMSE: 20.77947596, MAE: 16.72231293, ME: -1.05604827\n",
      "Classification → Accuracy: 0.31502188, F1-score: 0.29210170\n",
      "Epoch 2/60\n"
     ]
    },
    {
     "data": {
      "application/vnd.jupyter.widget-view+json": {
       "model_id": "cf116b18399f413092b0c7633e1e7058",
       "version_major": 2,
       "version_minor": 0
      },
      "text/plain": [
       "  0%|          | 0/65 [00:00<?, ?it/s]"
      ]
     },
     "metadata": {},
     "output_type": "display_data"
    },
    {
     "name": "stdout",
     "output_type": "stream",
     "text": [
      "Loss → Total: 1.9021, Regression: 0.0420, Classification: 1.8601\n",
      "SM_0 → RMSE: 18.01745437, MAE: 14.08371830, ME: -3.10991597\n",
      "SM_20 → RMSE: 18.29838857, MAE: 14.48533344, ME: -2.91519666\n",
      "Classification → Accuracy: 0.38065143, F1-score: 0.37070405\n",
      "Epoch 3/60\n"
     ]
    },
    {
     "data": {
      "application/vnd.jupyter.widget-view+json": {
       "model_id": "510e0a6fcfc140e7adf6f8784c3c33d0",
       "version_major": 2,
       "version_minor": 0
      },
      "text/plain": [
       "  0%|          | 0/65 [00:00<?, ?it/s]"
      ]
     },
     "metadata": {},
     "output_type": "display_data"
    },
    {
     "name": "stdout",
     "output_type": "stream",
     "text": [
      "Loss → Total: 1.7282, Regression: 0.0327, Classification: 1.6955\n",
      "SM_0 → RMSE: 15.48528206, MAE: 11.93894482, ME: 0.80770642\n",
      "SM_20 → RMSE: 15.61944774, MAE: 12.04687786, ME: 0.41873726\n",
      "Classification → Accuracy: 0.43169665, F1-score: 0.41773352\n",
      "Epoch 4/60\n"
     ]
    },
    {
     "data": {
      "application/vnd.jupyter.widget-view+json": {
       "model_id": "c8d59e3bd60d42aa917a733f89d1590b",
       "version_major": 2,
       "version_minor": 0
      },
      "text/plain": [
       "  0%|          | 0/65 [00:00<?, ?it/s]"
      ]
     },
     "metadata": {},
     "output_type": "display_data"
    },
    {
     "name": "stdout",
     "output_type": "stream",
     "text": [
      "Loss → Total: 1.6068, Regression: 0.0285, Classification: 1.5783\n",
      "SM_0 → RMSE: 14.25969808, MAE: 10.70574951, ME: 2.35165739\n",
      "SM_20 → RMSE: 14.66785796, MAE: 11.20960045, ME: 4.24544239\n",
      "Classification → Accuracy: 0.46621293, F1-score: 0.45544900\n",
      "Epoch 5/60\n"
     ]
    },
    {
     "data": {
      "application/vnd.jupyter.widget-view+json": {
       "model_id": "f5e7846c04cb4a479af12c69162390ad",
       "version_major": 2,
       "version_minor": 0
      },
      "text/plain": [
       "  0%|          | 0/65 [00:00<?, ?it/s]"
      ]
     },
     "metadata": {},
     "output_type": "display_data"
    },
    {
     "name": "stdout",
     "output_type": "stream",
     "text": [
      "Loss → Total: 1.5188, Regression: 0.0265, Classification: 1.4924\n",
      "SM_0 → RMSE: 14.24749252, MAE: 11.27571297, ME: -0.89624375\n",
      "SM_20 → RMSE: 15.13828117, MAE: 11.88247299, ME: -2.23077035\n",
      "Classification → Accuracy: 0.52309188, F1-score: 0.49651635\n",
      "Epoch 6/60\n"
     ]
    },
    {
     "data": {
      "application/vnd.jupyter.widget-view+json": {
       "model_id": "3f5f3fdf81b9445b94194774563b144e",
       "version_major": 2,
       "version_minor": 0
      },
      "text/plain": [
       "  0%|          | 0/65 [00:00<?, ?it/s]"
      ]
     },
     "metadata": {},
     "output_type": "display_data"
    },
    {
     "name": "stdout",
     "output_type": "stream",
     "text": [
      "Loss → Total: 1.4631, Regression: 0.0253, Classification: 1.4378\n",
      "SM_0 → RMSE: 12.28614302, MAE: 9.46582222, ME: -0.86489207\n",
      "SM_20 → RMSE: 12.64417948, MAE: 9.82335663, ME: -2.11413312\n",
      "Classification → Accuracy: 0.56052504, F1-score: 0.55914621\n",
      "Epoch 7/60\n"
     ]
    },
    {
     "data": {
      "application/vnd.jupyter.widget-view+json": {
       "model_id": "16500bc0da0641648181244673d4ee30",
       "version_major": 2,
       "version_minor": 0
      },
      "text/plain": [
       "  0%|          | 0/65 [00:00<?, ?it/s]"
      ]
     },
     "metadata": {},
     "output_type": "display_data"
    },
    {
     "name": "stdout",
     "output_type": "stream",
     "text": [
      "Loss → Total: 1.3819, Regression: 0.0238, Classification: 1.3581\n",
      "SM_0 → RMSE: 13.38944783, MAE: 10.14961433, ME: -0.08827166\n",
      "SM_20 → RMSE: 12.64013369, MAE: 9.39433956, ME: 0.03624008\n",
      "Classification → Accuracy: 0.58580457, F1-score: 0.56972230\n",
      "Epoch 8/60\n"
     ]
    },
    {
     "data": {
      "application/vnd.jupyter.widget-view+json": {
       "model_id": "685c791aa31f4768901b1092eda890c5",
       "version_major": 2,
       "version_minor": 0
      },
      "text/plain": [
       "  0%|          | 0/65 [00:00<?, ?it/s]"
      ]
     },
     "metadata": {},
     "output_type": "display_data"
    },
    {
     "name": "stdout",
     "output_type": "stream",
     "text": [
      "Loss → Total: 1.2980, Regression: 0.0203, Classification: 1.2778\n",
      "SM_0 → RMSE: 11.92199467, MAE: 9.19743729, ME: -0.19297038\n",
      "SM_20 → RMSE: 11.59309455, MAE: 9.02857780, ME: -1.00796413\n",
      "Classification → Accuracy: 0.60281964, F1-score: 0.59601676\n",
      "Epoch 9/60\n"
     ]
    },
    {
     "data": {
      "application/vnd.jupyter.widget-view+json": {
       "model_id": "753ffd29f0784f789a7d2aa0980da6e0",
       "version_major": 2,
       "version_minor": 0
      },
      "text/plain": [
       "  0%|          | 0/65 [00:00<?, ?it/s]"
      ]
     },
     "metadata": {},
     "output_type": "display_data"
    },
    {
     "name": "stdout",
     "output_type": "stream",
     "text": [
      "Loss → Total: 1.1666, Regression: 0.0172, Classification: 1.1494\n",
      "SM_0 → RMSE: 10.64568443, MAE: 7.98645735, ME: 1.84295869\n",
      "SM_20 → RMSE: 10.65684530, MAE: 8.22682858, ME: 1.90811932\n",
      "Classification → Accuracy: 0.64268352, F1-score: 0.63057739\n",
      "Epoch 10/60\n"
     ]
    },
    {
     "data": {
      "application/vnd.jupyter.widget-view+json": {
       "model_id": "b776f00b72e2450bad1caad647351a0f",
       "version_major": 2,
       "version_minor": 0
      },
      "text/plain": [
       "  0%|          | 0/65 [00:00<?, ?it/s]"
      ]
     },
     "metadata": {},
     "output_type": "display_data"
    },
    {
     "name": "stdout",
     "output_type": "stream",
     "text": [
      "Loss → Total: 1.1429, Regression: 0.0166, Classification: 1.1263\n",
      "SM_0 → RMSE: 9.83055485, MAE: 7.60182810, ME: 0.58025521\n",
      "SM_20 → RMSE: 9.79624847, MAE: 7.64097643, ME: 1.31752110\n",
      "Classification → Accuracy: 0.68546427, F1-score: 0.67735568\n",
      "Epoch 11/60\n"
     ]
    },
    {
     "data": {
      "application/vnd.jupyter.widget-view+json": {
       "model_id": "91f584cdb86b4e3295d086cfd55d4546",
       "version_major": 2,
       "version_minor": 0
      },
      "text/plain": [
       "  0%|          | 0/65 [00:00<?, ?it/s]"
      ]
     },
     "metadata": {},
     "output_type": "display_data"
    },
    {
     "name": "stdout",
     "output_type": "stream",
     "text": [
      "Loss → Total: 1.1185, Regression: 0.0176, Classification: 1.1008\n",
      "SM_0 → RMSE: 10.71665859, MAE: 8.39559460, ME: 2.69853997\n",
      "SM_20 → RMSE: 10.81559542, MAE: 8.51529312, ME: 1.10171044\n",
      "Classification → Accuracy: 0.69470102, F1-score: 0.69365823\n",
      "Epoch 12/60\n"
     ]
    },
    {
     "data": {
      "application/vnd.jupyter.widget-view+json": {
       "model_id": "0c88a0399fc241269aba5b910d2cb624",
       "version_major": 2,
       "version_minor": 0
      },
      "text/plain": [
       "  0%|          | 0/65 [00:00<?, ?it/s]"
      ]
     },
     "metadata": {},
     "output_type": "display_data"
    },
    {
     "name": "stdout",
     "output_type": "stream",
     "text": [
      "Loss → Total: 1.0536, Regression: 0.0169, Classification: 1.0367\n",
      "SM_0 → RMSE: 9.93359605, MAE: 7.70846796, ME: -1.74777782\n",
      "SM_20 → RMSE: 9.93594291, MAE: 7.72922277, ME: -0.29082224\n",
      "Classification → Accuracy: 0.74428780, F1-score: 0.74207909\n",
      "Epoch 13/60\n"
     ]
    },
    {
     "data": {
      "application/vnd.jupyter.widget-view+json": {
       "model_id": "608bad1ccfb642cb92cd964238d6b515",
       "version_major": 2,
       "version_minor": 0
      },
      "text/plain": [
       "  0%|          | 0/65 [00:00<?, ?it/s]"
      ]
     },
     "metadata": {},
     "output_type": "display_data"
    },
    {
     "name": "stdout",
     "output_type": "stream",
     "text": [
      "Loss → Total: 1.0750, Regression: 0.0165, Classification: 1.0585\n",
      "SM_0 → RMSE: 9.82797479, MAE: 7.67185307, ME: 2.75372291\n",
      "SM_20 → RMSE: 9.51645400, MAE: 7.21768093, ME: 1.30155766\n",
      "Classification → Accuracy: 0.75789985, F1-score: 0.75556690\n",
      "Epoch 14/60\n"
     ]
    },
    {
     "data": {
      "application/vnd.jupyter.widget-view+json": {
       "model_id": "0089e1c2ad784b00ae63dbb98fd5a55b",
       "version_major": 2,
       "version_minor": 0
      },
      "text/plain": [
       "  0%|          | 0/65 [00:00<?, ?it/s]"
      ]
     },
     "metadata": {},
     "output_type": "display_data"
    },
    {
     "name": "stdout",
     "output_type": "stream",
     "text": [
      "Loss → Total: 0.9466, Regression: 0.0136, Classification: 0.9331\n",
      "SM_0 → RMSE: 8.58710725, MAE: 6.60174084, ME: 1.05578768\n",
      "SM_20 → RMSE: 8.74462682, MAE: 6.80705452, ME: 0.62022126\n",
      "Classification → Accuracy: 0.76081672, F1-score: 0.76149696\n",
      "Epoch 15/60\n"
     ]
    },
    {
     "data": {
      "application/vnd.jupyter.widget-view+json": {
       "model_id": "ad35721bcdbc47268cf156d2633caaaa",
       "version_major": 2,
       "version_minor": 0
      },
      "text/plain": [
       "  0%|          | 0/65 [00:00<?, ?it/s]"
      ]
     },
     "metadata": {},
     "output_type": "display_data"
    },
    {
     "name": "stdout",
     "output_type": "stream",
     "text": [
      "Loss → Total: 0.9394, Regression: 0.0143, Classification: 0.9252\n",
      "SM_0 → RMSE: 9.38518612, MAE: 7.23837042, ME: -1.08696246\n",
      "SM_20 → RMSE: 9.58955654, MAE: 7.48036146, ME: -0.41638082\n",
      "Classification → Accuracy: 0.77297035, F1-score: 0.76665895\n",
      "Epoch 16/60\n"
     ]
    },
    {
     "data": {
      "application/vnd.jupyter.widget-view+json": {
       "model_id": "9633c89739b4458db96036791eb38fee",
       "version_major": 2,
       "version_minor": 0
      },
      "text/plain": [
       "  0%|          | 0/65 [00:00<?, ?it/s]"
      ]
     },
     "metadata": {},
     "output_type": "display_data"
    },
    {
     "name": "stdout",
     "output_type": "stream",
     "text": [
      "Loss → Total: 0.8882, Regression: 0.0134, Classification: 0.8749\n",
      "SM_0 → RMSE: 9.08205855, MAE: 7.04597855, ME: 3.08696198\n",
      "SM_20 → RMSE: 9.04314719, MAE: 6.98590469, ME: 1.98765230\n",
      "Classification → Accuracy: 0.78123481, F1-score: 0.77745520\n",
      "Epoch 17/60\n"
     ]
    },
    {
     "data": {
      "application/vnd.jupyter.widget-view+json": {
       "model_id": "a6d157634b904949b567c7a6609d89fd",
       "version_major": 2,
       "version_minor": 0
      },
      "text/plain": [
       "  0%|          | 0/65 [00:00<?, ?it/s]"
      ]
     },
     "metadata": {},
     "output_type": "display_data"
    },
    {
     "name": "stdout",
     "output_type": "stream",
     "text": [
      "Loss → Total: 0.7905, Regression: 0.0119, Classification: 0.7786\n",
      "SM_0 → RMSE: 8.14348202, MAE: 6.25573778, ME: -1.67669725\n",
      "SM_20 → RMSE: 8.48909868, MAE: 6.61298418, ME: -1.06901038\n",
      "Classification → Accuracy: 0.82498785, F1-score: 0.82408939\n",
      "Epoch 18/60\n"
     ]
    },
    {
     "data": {
      "application/vnd.jupyter.widget-view+json": {
       "model_id": "e43c35901bd6408091392add02739bd5",
       "version_major": 2,
       "version_minor": 0
      },
      "text/plain": [
       "  0%|          | 0/65 [00:00<?, ?it/s]"
      ]
     },
     "metadata": {},
     "output_type": "display_data"
    },
    {
     "name": "stdout",
     "output_type": "stream",
     "text": [
      "Loss → Total: 0.8553, Regression: 0.0127, Classification: 0.8426\n",
      "SM_0 → RMSE: 8.84228158, MAE: 6.89220381, ME: 2.37034750\n",
      "SM_20 → RMSE: 8.63888096, MAE: 6.72418022, ME: 2.62573028\n",
      "Classification → Accuracy: 0.80116675, F1-score: 0.79906291\n",
      "Epoch 19/60\n"
     ]
    },
    {
     "data": {
      "application/vnd.jupyter.widget-view+json": {
       "model_id": "299224e6e55c49e9ade6b29c99fe5f4c",
       "version_major": 2,
       "version_minor": 0
      },
      "text/plain": [
       "  0%|          | 0/65 [00:00<?, ?it/s]"
      ]
     },
     "metadata": {},
     "output_type": "display_data"
    },
    {
     "name": "stdout",
     "output_type": "stream",
     "text": [
      "Loss → Total: 0.8106, Regression: 0.0113, Classification: 0.7994\n",
      "SM_0 → RMSE: 8.81445291, MAE: 6.78930378, ME: -0.61735606\n",
      "SM_20 → RMSE: 9.08756510, MAE: 7.07937002, ME: -0.35731861\n",
      "Classification → Accuracy: 0.81137579, F1-score: 0.81056741\n",
      "Epoch 20/60\n"
     ]
    },
    {
     "data": {
      "application/vnd.jupyter.widget-view+json": {
       "model_id": "9eb577c5f40d4394a351d4297804ffe9",
       "version_major": 2,
       "version_minor": 0
      },
      "text/plain": [
       "  0%|          | 0/65 [00:00<?, ?it/s]"
      ]
     },
     "metadata": {},
     "output_type": "display_data"
    },
    {
     "name": "stdout",
     "output_type": "stream",
     "text": [
      "Loss → Total: 0.7744, Regression: 0.0117, Classification: 0.7627\n",
      "SM_0 → RMSE: 7.75056111, MAE: 6.10084581, ME: -1.43197560\n",
      "SM_20 → RMSE: 7.66428499, MAE: 5.91411209, ME: 0.55283600\n",
      "Classification → Accuracy: 0.83714147, F1-score: 0.83778527\n",
      "Epoch 21/60\n"
     ]
    },
    {
     "data": {
      "application/vnd.jupyter.widget-view+json": {
       "model_id": "ebf5f2851a514e2582e97aee07163f02",
       "version_major": 2,
       "version_minor": 0
      },
      "text/plain": [
       "  0%|          | 0/65 [00:00<?, ?it/s]"
      ]
     },
     "metadata": {},
     "output_type": "display_data"
    },
    {
     "name": "stdout",
     "output_type": "stream",
     "text": [
      "Loss → Total: 0.7530, Regression: 0.0113, Classification: 0.7417\n",
      "SM_0 → RMSE: 7.95558833, MAE: 6.12977123, ME: 0.24185424\n",
      "SM_20 → RMSE: 8.02190975, MAE: 6.17940474, ME: -0.69775927\n",
      "Classification → Accuracy: 0.82984930, F1-score: 0.82688986\n",
      "Epoch 22/60\n"
     ]
    },
    {
     "data": {
      "application/vnd.jupyter.widget-view+json": {
       "model_id": "b97a747d76cd413e86ba5a4fee5de11e",
       "version_major": 2,
       "version_minor": 0
      },
      "text/plain": [
       "  0%|          | 0/65 [00:00<?, ?it/s]"
      ]
     },
     "metadata": {},
     "output_type": "display_data"
    },
    {
     "name": "stdout",
     "output_type": "stream",
     "text": [
      "Loss → Total: 0.7696, Regression: 0.0116, Classification: 0.7580\n",
      "SM_0 → RMSE: 8.37481052, MAE: 6.54488516, ME: 0.88984489\n",
      "SM_20 → RMSE: 8.08005523, MAE: 6.30881071, ME: 0.23219153\n",
      "Classification → Accuracy: 0.85707341, F1-score: 0.85697334\n",
      "Epoch 23/60\n"
     ]
    },
    {
     "data": {
      "application/vnd.jupyter.widget-view+json": {
       "model_id": "e0072dd824d040319f90a9c5071e29b1",
       "version_major": 2,
       "version_minor": 0
      },
      "text/plain": [
       "  0%|          | 0/65 [00:00<?, ?it/s]"
      ]
     },
     "metadata": {},
     "output_type": "display_data"
    },
    {
     "name": "stdout",
     "output_type": "stream",
     "text": [
      "Loss → Total: 0.6873, Regression: 0.0103, Classification: 0.6770\n",
      "SM_0 → RMSE: 9.04866181, MAE: 6.98394775, ME: 0.86000347\n",
      "SM_20 → RMSE: 8.73417628, MAE: 6.83238935, ME: 0.81432879\n",
      "Classification → Accuracy: 0.85804570, F1-score: 0.85676165\n",
      "Epoch 24/60\n"
     ]
    },
    {
     "data": {
      "application/vnd.jupyter.widget-view+json": {
       "model_id": "70c51b287b0d4957aa6a43e05f27d220",
       "version_major": 2,
       "version_minor": 0
      },
      "text/plain": [
       "  0%|          | 0/65 [00:00<?, ?it/s]"
      ]
     },
     "metadata": {},
     "output_type": "display_data"
    },
    {
     "name": "stdout",
     "output_type": "stream",
     "text": [
      "Loss → Total: 0.6350, Regression: 0.0091, Classification: 0.6259\n",
      "SM_0 → RMSE: 7.28815758, MAE: 5.68415022, ME: 0.27573127\n",
      "SM_20 → RMSE: 8.02042357, MAE: 6.33304119, ME: -0.64084840\n",
      "Classification → Accuracy: 0.86436558, F1-score: 0.86358775\n",
      "Epoch 25/60\n"
     ]
    },
    {
     "data": {
      "application/vnd.jupyter.widget-view+json": {
       "model_id": "380590c456f744bb973db40a6f8921f3",
       "version_major": 2,
       "version_minor": 0
      },
      "text/plain": [
       "  0%|          | 0/65 [00:00<?, ?it/s]"
      ]
     },
     "metadata": {},
     "output_type": "display_data"
    },
    {
     "name": "stdout",
     "output_type": "stream",
     "text": [
      "Loss → Total: 0.6170, Regression: 0.0094, Classification: 0.6076\n",
      "SM_0 → RMSE: 8.38424446, MAE: 6.53695583, ME: 0.85212028\n",
      "SM_20 → RMSE: 8.56164146, MAE: 6.72604132, ME: 1.22476971\n",
      "Classification → Accuracy: 0.87700535, F1-score: 0.87663919\n",
      "Epoch 26/60\n"
     ]
    },
    {
     "data": {
      "application/vnd.jupyter.widget-view+json": {
       "model_id": "70a3de5b96d641ef89fb585a0429a6ff",
       "version_major": 2,
       "version_minor": 0
      },
      "text/plain": [
       "  0%|          | 0/65 [00:00<?, ?it/s]"
      ]
     },
     "metadata": {},
     "output_type": "display_data"
    },
    {
     "name": "stdout",
     "output_type": "stream",
     "text": [
      "Loss → Total: 0.6601, Regression: 0.0101, Classification: 0.6500\n",
      "SM_0 → RMSE: 8.14644902, MAE: 6.27129650, ME: -0.04948169\n",
      "SM_20 → RMSE: 8.45252659, MAE: 6.65284967, ME: 0.11316455\n",
      "Classification → Accuracy: 0.88381138, F1-score: 0.88292035\n",
      "Epoch 27/60\n"
     ]
    },
    {
     "data": {
      "application/vnd.jupyter.widget-view+json": {
       "model_id": "811a950a486141c7a32734edb532a2ce",
       "version_major": 2,
       "version_minor": 0
      },
      "text/plain": [
       "  0%|          | 0/65 [00:00<?, ?it/s]"
      ]
     },
     "metadata": {},
     "output_type": "display_data"
    },
    {
     "name": "stdout",
     "output_type": "stream",
     "text": [
      "Loss → Total: 0.6181, Regression: 0.0094, Classification: 0.6088\n",
      "SM_0 → RMSE: 6.94286380, MAE: 5.34314013, ME: 0.26467198\n",
      "SM_20 → RMSE: 7.22254190, MAE: 5.52924728, ME: 0.51756525\n",
      "Classification → Accuracy: 0.89645114, F1-score: 0.89546555\n",
      "Epoch 28/60\n"
     ]
    },
    {
     "data": {
      "application/vnd.jupyter.widget-view+json": {
       "model_id": "7865d7da30fb4f90895b93aab8015f2d",
       "version_major": 2,
       "version_minor": 0
      },
      "text/plain": [
       "  0%|          | 0/65 [00:00<?, ?it/s]"
      ]
     },
     "metadata": {},
     "output_type": "display_data"
    },
    {
     "name": "stdout",
     "output_type": "stream",
     "text": [
      "Loss → Total: 0.5982, Regression: 0.0105, Classification: 0.5877\n",
      "SM_0 → RMSE: 7.02058490, MAE: 5.31142998, ME: 0.09783756\n",
      "SM_20 → RMSE: 7.64520987, MAE: 5.82905245, ME: 0.15611635\n",
      "Classification → Accuracy: 0.89353427, F1-score: 0.89319646\n",
      "Epoch 29/60\n"
     ]
    },
    {
     "data": {
      "application/vnd.jupyter.widget-view+json": {
       "model_id": "8c695188bad14a8d9b254f6d7d7dd7c4",
       "version_major": 2,
       "version_minor": 0
      },
      "text/plain": [
       "  0%|          | 0/65 [00:00<?, ?it/s]"
      ]
     },
     "metadata": {},
     "output_type": "display_data"
    },
    {
     "name": "stdout",
     "output_type": "stream",
     "text": [
      "Loss → Total: 0.6534, Regression: 0.0121, Classification: 0.6413\n",
      "SM_0 → RMSE: 8.34525905, MAE: 6.53231239, ME: 0.04315355\n",
      "SM_20 → RMSE: 8.60889734, MAE: 6.76340818, ME: 1.16809595\n",
      "Classification → Accuracy: 0.88235294, F1-score: 0.88305472\n",
      "Epoch 30/60\n"
     ]
    },
    {
     "data": {
      "application/vnd.jupyter.widget-view+json": {
       "model_id": "2470ce095e0c4fbea574c8771ae53048",
       "version_major": 2,
       "version_minor": 0
      },
      "text/plain": [
       "  0%|          | 0/65 [00:00<?, ?it/s]"
      ]
     },
     "metadata": {},
     "output_type": "display_data"
    },
    {
     "name": "stdout",
     "output_type": "stream",
     "text": [
      "Loss → Total: 0.5552, Regression: 0.0085, Classification: 0.5467\n",
      "SM_0 → RMSE: 7.25320627, MAE: 5.40209150, ME: 0.55965793\n",
      "SM_20 → RMSE: 7.38415864, MAE: 5.63237619, ME: 0.78951001\n",
      "Classification → Accuracy: 0.88526981, F1-score: 0.88430794\n",
      "Epoch 31/60\n"
     ]
    },
    {
     "data": {
      "application/vnd.jupyter.widget-view+json": {
       "model_id": "164a2a7b02df44b88a029a03dc1d150b",
       "version_major": 2,
       "version_minor": 0
      },
      "text/plain": [
       "  0%|          | 0/65 [00:00<?, ?it/s]"
      ]
     },
     "metadata": {},
     "output_type": "display_data"
    },
    {
     "name": "stdout",
     "output_type": "stream",
     "text": [
      "Loss → Total: 0.5944, Regression: 0.0092, Classification: 0.5852\n",
      "SM_0 → RMSE: 7.28444958, MAE: 5.69099331, ME: -1.07206500\n",
      "SM_20 → RMSE: 7.53693805, MAE: 5.84058809, ME: 0.27179191\n",
      "Classification → Accuracy: 0.90325717, F1-score: 0.90367183\n",
      "Epoch 32/60\n"
     ]
    },
    {
     "data": {
      "application/vnd.jupyter.widget-view+json": {
       "model_id": "3b888838d33b43e8a28c38369ac1a0bb",
       "version_major": 2,
       "version_minor": 0
      },
      "text/plain": [
       "  0%|          | 0/65 [00:00<?, ?it/s]"
      ]
     },
     "metadata": {},
     "output_type": "display_data"
    },
    {
     "name": "stdout",
     "output_type": "stream",
     "text": [
      "Loss → Total: 0.5565, Regression: 0.0087, Classification: 0.5478\n",
      "SM_0 → RMSE: 6.95139221, MAE: 5.28846979, ME: -0.53722417\n",
      "SM_20 → RMSE: 7.11768541, MAE: 5.45883179, ME: -0.19736341\n",
      "Classification → Accuracy: 0.91152163, F1-score: 0.91199897\n",
      "Epoch 33/60\n"
     ]
    },
    {
     "data": {
      "application/vnd.jupyter.widget-view+json": {
       "model_id": "f2b537632ce9427885713080cb267a9f",
       "version_major": 2,
       "version_minor": 0
      },
      "text/plain": [
       "  0%|          | 0/65 [00:00<?, ?it/s]"
      ]
     },
     "metadata": {},
     "output_type": "display_data"
    },
    {
     "name": "stdout",
     "output_type": "stream",
     "text": [
      "Loss → Total: 0.5589, Regression: 0.0091, Classification: 0.5498\n",
      "SM_0 → RMSE: 6.98559150, MAE: 5.39018536, ME: 0.33018827\n",
      "SM_20 → RMSE: 6.79065976, MAE: 5.26346970, ME: 0.33501667\n",
      "Classification → Accuracy: 0.91492465, F1-score: 0.91509814\n",
      "Epoch 34/60\n"
     ]
    },
    {
     "data": {
      "application/vnd.jupyter.widget-view+json": {
       "model_id": "2b87d6a7d19547d48c1867268bf6ca88",
       "version_major": 2,
       "version_minor": 0
      },
      "text/plain": [
       "  0%|          | 0/65 [00:00<?, ?it/s]"
      ]
     },
     "metadata": {},
     "output_type": "display_data"
    },
    {
     "name": "stdout",
     "output_type": "stream",
     "text": [
      "Loss → Total: 0.5120, Regression: 0.0084, Classification: 0.5036\n",
      "SM_0 → RMSE: 6.99401709, MAE: 5.44126225, ME: -1.40340555\n",
      "SM_20 → RMSE: 7.01623777, MAE: 5.47118616, ME: -1.78322840\n",
      "Classification → Accuracy: 0.91249392, F1-score: 0.91258327\n",
      "Epoch 35/60\n"
     ]
    },
    {
     "data": {
      "application/vnd.jupyter.widget-view+json": {
       "model_id": "44f5bb34ce124d3fa7225a2eded69745",
       "version_major": 2,
       "version_minor": 0
      },
      "text/plain": [
       "  0%|          | 0/65 [00:00<?, ?it/s]"
      ]
     },
     "metadata": {},
     "output_type": "display_data"
    },
    {
     "name": "stdout",
     "output_type": "stream",
     "text": [
      "Loss → Total: 0.4891, Regression: 0.0075, Classification: 0.4817\n",
      "SM_0 → RMSE: 6.77249325, MAE: 5.14349556, ME: 0.32185054\n",
      "SM_20 → RMSE: 7.29215795, MAE: 5.64937592, ME: -0.69264656\n",
      "Classification → Accuracy: 0.90811862, F1-score: 0.90821000\n",
      "Epoch 36/60\n"
     ]
    },
    {
     "data": {
      "application/vnd.jupyter.widget-view+json": {
       "model_id": "b89c6afafc2e45cb94b577ececfd1e8d",
       "version_major": 2,
       "version_minor": 0
      },
      "text/plain": [
       "  0%|          | 0/65 [00:00<?, ?it/s]"
      ]
     },
     "metadata": {},
     "output_type": "display_data"
    },
    {
     "name": "stdout",
     "output_type": "stream",
     "text": [
      "Loss → Total: 0.4911, Regression: 0.0070, Classification: 0.4840\n",
      "SM_0 → RMSE: 6.80980552, MAE: 5.27918959, ME: -2.19893003\n",
      "SM_20 → RMSE: 6.93998138, MAE: 5.34985542, ME: -1.43137431\n",
      "Classification → Accuracy: 0.91978610, F1-score: 0.91995675\n",
      "Epoch 37/60\n"
     ]
    },
    {
     "data": {
      "application/vnd.jupyter.widget-view+json": {
       "model_id": "c29309c0b0cf4bb6b16513e6c93aa2df",
       "version_major": 2,
       "version_minor": 0
      },
      "text/plain": [
       "  0%|          | 0/65 [00:00<?, ?it/s]"
      ]
     },
     "metadata": {},
     "output_type": "display_data"
    },
    {
     "name": "stdout",
     "output_type": "stream",
     "text": [
      "Loss → Total: 0.4748, Regression: 0.0071, Classification: 0.4677\n",
      "SM_0 → RMSE: 6.94367912, MAE: 5.43103409, ME: 0.13141260\n",
      "SM_20 → RMSE: 7.38160229, MAE: 5.83934546, ME: -0.44646308\n",
      "Classification → Accuracy: 0.91298007, F1-score: 0.91358144\n",
      "Epoch 38/60\n"
     ]
    },
    {
     "data": {
      "application/vnd.jupyter.widget-view+json": {
       "model_id": "ab8dfcf47cbc4221be6ba9baa1c3665c",
       "version_major": 2,
       "version_minor": 0
      },
      "text/plain": [
       "  0%|          | 0/65 [00:00<?, ?it/s]"
      ]
     },
     "metadata": {},
     "output_type": "display_data"
    },
    {
     "name": "stdout",
     "output_type": "stream",
     "text": [
      "Loss → Total: 0.4954, Regression: 0.0074, Classification: 0.4879\n",
      "SM_0 → RMSE: 6.78363473, MAE: 5.16776562, ME: -0.17585976\n",
      "SM_20 → RMSE: 7.31563586, MAE: 5.64898205, ME: -0.91124094\n",
      "Classification → Accuracy: 0.91686923, F1-score: 0.91662890\n",
      "Epoch 39/60\n"
     ]
    },
    {
     "data": {
      "application/vnd.jupyter.widget-view+json": {
       "model_id": "99d295e2af92411aade4935b0478ac7d",
       "version_major": 2,
       "version_minor": 0
      },
      "text/plain": [
       "  0%|          | 0/65 [00:00<?, ?it/s]"
      ]
     },
     "metadata": {},
     "output_type": "display_data"
    },
    {
     "name": "stdout",
     "output_type": "stream",
     "text": [
      "Loss → Total: 0.4976, Regression: 0.0082, Classification: 0.4894\n",
      "SM_0 → RMSE: 6.86069346, MAE: 5.27863026, ME: 0.57019985\n",
      "SM_20 → RMSE: 7.62149017, MAE: 5.93609428, ME: 2.18893385\n",
      "Classification → Accuracy: 0.91541079, F1-score: 0.91581673\n",
      "Epoch 40/60\n"
     ]
    },
    {
     "data": {
      "application/vnd.jupyter.widget-view+json": {
       "model_id": "e0300722f9514a78a2cf04dd5ef3efe5",
       "version_major": 2,
       "version_minor": 0
      },
      "text/plain": [
       "  0%|          | 0/65 [00:00<?, ?it/s]"
      ]
     },
     "metadata": {},
     "output_type": "display_data"
    },
    {
     "name": "stdout",
     "output_type": "stream",
     "text": [
      "Loss → Total: 0.4897, Regression: 0.0079, Classification: 0.4818\n",
      "SM_0 → RMSE: 7.16964521, MAE: 5.54265451, ME: -1.28935409\n",
      "SM_20 → RMSE: 7.70529423, MAE: 6.09112549, ME: -1.05243409\n",
      "Classification → Accuracy: 0.91249392, F1-score: 0.91168782\n",
      "Epoch 41/60\n"
     ]
    },
    {
     "data": {
      "application/vnd.jupyter.widget-view+json": {
       "model_id": "f054309ed1ad4864aa87a336da2bd133",
       "version_major": 2,
       "version_minor": 0
      },
      "text/plain": [
       "  0%|          | 0/65 [00:00<?, ?it/s]"
      ]
     },
     "metadata": {},
     "output_type": "display_data"
    },
    {
     "name": "stdout",
     "output_type": "stream",
     "text": [
      "Loss → Total: 0.4972, Regression: 0.0086, Classification: 0.4886\n",
      "SM_0 → RMSE: 7.00926059, MAE: 5.39337873, ME: -0.10657479\n",
      "SM_20 → RMSE: 6.91352620, MAE: 5.27086067, ME: 0.99669880\n",
      "Classification → Accuracy: 0.91541079, F1-score: 0.91542698\n",
      "Epoch 42/60\n"
     ]
    },
    {
     "data": {
      "application/vnd.jupyter.widget-view+json": {
       "model_id": "b39437a860b646769242f226fcfc35ac",
       "version_major": 2,
       "version_minor": 0
      },
      "text/plain": [
       "  0%|          | 0/65 [00:00<?, ?it/s]"
      ]
     },
     "metadata": {},
     "output_type": "display_data"
    },
    {
     "name": "stdout",
     "output_type": "stream",
     "text": [
      "Loss → Total: 0.4694, Regression: 0.0087, Classification: 0.4607\n",
      "SM_0 → RMSE: 6.95667428, MAE: 5.41921377, ME: 0.02039206\n",
      "SM_20 → RMSE: 7.70419632, MAE: 6.04166412, ME: -0.75575840\n",
      "Classification → Accuracy: 0.92367526, F1-score: 0.92419423\n",
      "Epoch 43/60\n"
     ]
    },
    {
     "data": {
      "application/vnd.jupyter.widget-view+json": {
       "model_id": "191ee8539adc4b23957f49c74c421008",
       "version_major": 2,
       "version_minor": 0
      },
      "text/plain": [
       "  0%|          | 0/65 [00:00<?, ?it/s]"
      ]
     },
     "metadata": {},
     "output_type": "display_data"
    },
    {
     "name": "stdout",
     "output_type": "stream",
     "text": [
      "Loss → Total: 0.4365, Regression: 0.0074, Classification: 0.4292\n",
      "SM_0 → RMSE: 6.73090232, MAE: 5.19915724, ME: 0.61198139\n",
      "SM_20 → RMSE: 6.60414497, MAE: 5.12820101, ME: -0.39795551\n",
      "Classification → Accuracy: 0.93145357, F1-score: 0.93163428\n",
      "Epoch 44/60\n"
     ]
    },
    {
     "data": {
      "application/vnd.jupyter.widget-view+json": {
       "model_id": "a57abd3841e64e8c859f6e3f939c35d3",
       "version_major": 2,
       "version_minor": 0
      },
      "text/plain": [
       "  0%|          | 0/65 [00:00<?, ?it/s]"
      ]
     },
     "metadata": {},
     "output_type": "display_data"
    },
    {
     "name": "stdout",
     "output_type": "stream",
     "text": [
      "Loss → Total: 0.4436, Regression: 0.0072, Classification: 0.4364\n",
      "SM_0 → RMSE: 6.12535281, MAE: 4.68128443, ME: -0.68734026\n",
      "SM_20 → RMSE: 6.48294029, MAE: 4.93792486, ME: -0.27461481\n",
      "Classification → Accuracy: 0.93291201, F1-score: 0.93330754\n",
      "Epoch 45/60\n"
     ]
    },
    {
     "data": {
      "application/vnd.jupyter.widget-view+json": {
       "model_id": "486193220109400cacfc43f7b41f8ca6",
       "version_major": 2,
       "version_minor": 0
      },
      "text/plain": [
       "  0%|          | 0/65 [00:00<?, ?it/s]"
      ]
     },
     "metadata": {},
     "output_type": "display_data"
    },
    {
     "name": "stdout",
     "output_type": "stream",
     "text": [
      "Loss → Total: 0.4134, Regression: 0.0074, Classification: 0.4059\n",
      "SM_0 → RMSE: 6.86125084, MAE: 5.32015753, ME: -1.34516549\n",
      "SM_20 → RMSE: 6.89437799, MAE: 5.38471079, ME: -1.91917396\n",
      "Classification → Accuracy: 0.93048128, F1-score: 0.93044313\n",
      "Epoch 46/60\n"
     ]
    },
    {
     "data": {
      "application/vnd.jupyter.widget-view+json": {
       "model_id": "c3357c9e3e354c54b38560129bf22e25",
       "version_major": 2,
       "version_minor": 0
      },
      "text/plain": [
       "  0%|          | 0/65 [00:00<?, ?it/s]"
      ]
     },
     "metadata": {},
     "output_type": "display_data"
    },
    {
     "name": "stdout",
     "output_type": "stream",
     "text": [
      "Loss → Total: 0.4319, Regression: 0.0077, Classification: 0.4243\n",
      "SM_0 → RMSE: 7.07688155, MAE: 5.26021719, ME: -1.23002076\n",
      "SM_20 → RMSE: 7.59730478, MAE: 5.79625511, ME: -0.79240531\n",
      "Classification → Accuracy: 0.92659212, F1-score: 0.92659042\n",
      "Epoch 47/60\n"
     ]
    },
    {
     "data": {
      "application/vnd.jupyter.widget-view+json": {
       "model_id": "94b95ff0c3224600a1123dbdc31a60fb",
       "version_major": 2,
       "version_minor": 0
      },
      "text/plain": [
       "  0%|          | 0/65 [00:00<?, ?it/s]"
      ]
     },
     "metadata": {},
     "output_type": "display_data"
    },
    {
     "name": "stdout",
     "output_type": "stream",
     "text": [
      "Loss → Total: 0.4381, Regression: 0.0068, Classification: 0.4314\n",
      "SM_0 → RMSE: 6.50461796, MAE: 5.00894737, ME: 0.24595343\n",
      "SM_20 → RMSE: 7.06008222, MAE: 5.54416704, ME: -0.08945937\n",
      "Classification → Accuracy: 0.92027224, F1-score: 0.92020367\n",
      "Epoch 48/60\n"
     ]
    },
    {
     "data": {
      "application/vnd.jupyter.widget-view+json": {
       "model_id": "4ac2c00249494fa091f7412f76e1d84c",
       "version_major": 2,
       "version_minor": 0
      },
      "text/plain": [
       "  0%|          | 0/65 [00:00<?, ?it/s]"
      ]
     },
     "metadata": {},
     "output_type": "display_data"
    },
    {
     "name": "stdout",
     "output_type": "stream",
     "text": [
      "Loss → Total: 0.4134, Regression: 0.0071, Classification: 0.4063\n",
      "SM_0 → RMSE: 6.33607056, MAE: 4.91682768, ME: 0.27746883\n",
      "SM_20 → RMSE: 6.29984942, MAE: 4.84161472, ME: -0.51249325\n",
      "Classification → Accuracy: 0.94166262, F1-score: 0.94240594\n",
      "Epoch 49/60\n"
     ]
    },
    {
     "data": {
      "application/vnd.jupyter.widget-view+json": {
       "model_id": "3e40161ac41241dd9047d48881c3079f",
       "version_major": 2,
       "version_minor": 0
      },
      "text/plain": [
       "  0%|          | 0/65 [00:00<?, ?it/s]"
      ]
     },
     "metadata": {},
     "output_type": "display_data"
    },
    {
     "name": "stdout",
     "output_type": "stream",
     "text": [
      "Loss → Total: 0.4224, Regression: 0.0077, Classification: 0.4146\n",
      "SM_0 → RMSE: 7.02318249, MAE: 5.40798759, ME: -1.36739242\n",
      "SM_20 → RMSE: 7.49412892, MAE: 5.89854050, ME: -0.45375606\n",
      "Classification → Accuracy: 0.92999514, F1-score: 0.93007745\n",
      "Epoch 50/60\n"
     ]
    },
    {
     "data": {
      "application/vnd.jupyter.widget-view+json": {
       "model_id": "36abfdf2b2554b548b3b15916ee4cdb6",
       "version_major": 2,
       "version_minor": 0
      },
      "text/plain": [
       "  0%|          | 0/65 [00:00<?, ?it/s]"
      ]
     },
     "metadata": {},
     "output_type": "display_data"
    },
    {
     "name": "stdout",
     "output_type": "stream",
     "text": [
      "Loss → Total: 0.4130, Regression: 0.0072, Classification: 0.4057\n",
      "SM_0 → RMSE: 6.53845927, MAE: 5.07717943, ME: -0.61611551\n",
      "SM_20 → RMSE: 6.65806734, MAE: 5.16726446, ME: -0.88289982\n",
      "Classification → Accuracy: 0.92707827, F1-score: 0.92756302\n",
      "Epoch 51/60\n"
     ]
    },
    {
     "data": {
      "application/vnd.jupyter.widget-view+json": {
       "model_id": "b1f24ecd51aa4a2195bc6c649f6f511c",
       "version_major": 2,
       "version_minor": 0
      },
      "text/plain": [
       "  0%|          | 0/65 [00:00<?, ?it/s]"
      ]
     },
     "metadata": {},
     "output_type": "display_data"
    },
    {
     "name": "stdout",
     "output_type": "stream",
     "text": [
      "Loss → Total: 0.4202, Regression: 0.0067, Classification: 0.4136\n",
      "SM_0 → RMSE: 6.27424497, MAE: 4.85450077, ME: -0.38159788\n",
      "SM_20 → RMSE: 6.37723338, MAE: 4.97826672, ME: -0.39331231\n",
      "Classification → Accuracy: 0.91686923, F1-score: 0.91744966\n",
      "Epoch 52/60\n"
     ]
    },
    {
     "data": {
      "application/vnd.jupyter.widget-view+json": {
       "model_id": "bca09a093de3418ba6fc088a92a61286",
       "version_major": 2,
       "version_minor": 0
      },
      "text/plain": [
       "  0%|          | 0/65 [00:00<?, ?it/s]"
      ]
     },
     "metadata": {},
     "output_type": "display_data"
    },
    {
     "name": "stdout",
     "output_type": "stream",
     "text": [
      "Loss → Total: 0.3875, Regression: 0.0069, Classification: 0.3807\n",
      "SM_0 → RMSE: 6.34797445, MAE: 4.79113817, ME: -0.43607131\n",
      "SM_20 → RMSE: 6.72035830, MAE: 5.16434336, ME: -1.83831811\n",
      "Classification → Accuracy: 0.93825960, F1-score: 0.93884944\n",
      "Epoch 53/60\n"
     ]
    },
    {
     "data": {
      "application/vnd.jupyter.widget-view+json": {
       "model_id": "59d43d8f59374fc68e8f9c31327b51b9",
       "version_major": 2,
       "version_minor": 0
      },
      "text/plain": [
       "  0%|          | 0/65 [00:00<?, ?it/s]"
      ]
     },
     "metadata": {},
     "output_type": "display_data"
    },
    {
     "name": "stdout",
     "output_type": "stream",
     "text": [
      "Loss → Total: 0.3914, Regression: 0.0079, Classification: 0.3835\n",
      "SM_0 → RMSE: 6.44386022, MAE: 4.97635317, ME: 0.84514421\n",
      "SM_20 → RMSE: 6.28709421, MAE: 4.83697891, ME: -0.32810250\n",
      "Classification → Accuracy: 0.93971804, F1-score: 0.94062936\n",
      "Epoch 54/60\n"
     ]
    },
    {
     "data": {
      "application/vnd.jupyter.widget-view+json": {
       "model_id": "c8d2a126950f4c5cbd5a9ef121cdb0d3",
       "version_major": 2,
       "version_minor": 0
      },
      "text/plain": [
       "  0%|          | 0/65 [00:00<?, ?it/s]"
      ]
     },
     "metadata": {},
     "output_type": "display_data"
    },
    {
     "name": "stdout",
     "output_type": "stream",
     "text": [
      "Loss → Total: 0.3446, Regression: 0.0065, Classification: 0.3381\n",
      "SM_0 → RMSE: 7.44302676, MAE: 5.84642315, ME: -1.57157552\n",
      "SM_20 → RMSE: 6.96552205, MAE: 5.46492052, ME: -1.71063995\n",
      "Classification → Accuracy: 0.92853670, F1-score: 0.92884828\n",
      "Epoch 55/60\n"
     ]
    },
    {
     "data": {
      "application/vnd.jupyter.widget-view+json": {
       "model_id": "42f049c597bf421babf0c37789262e20",
       "version_major": 2,
       "version_minor": 0
      },
      "text/plain": [
       "  0%|          | 0/65 [00:00<?, ?it/s]"
      ]
     },
     "metadata": {},
     "output_type": "display_data"
    },
    {
     "name": "stdout",
     "output_type": "stream",
     "text": [
      "Loss → Total: 0.3555, Regression: 0.0061, Classification: 0.3493\n",
      "SM_0 → RMSE: 5.72432116, MAE: 4.37751627, ME: -0.12828942\n",
      "SM_20 → RMSE: 5.74174006, MAE: 4.39587927, ME: 0.11415339\n",
      "Classification → Accuracy: 0.94652406, F1-score: 0.94683925\n",
      "Epoch 56/60\n"
     ]
    },
    {
     "data": {
      "application/vnd.jupyter.widget-view+json": {
       "model_id": "a7e1a081d6614c52a27724b3c5c04481",
       "version_major": 2,
       "version_minor": 0
      },
      "text/plain": [
       "  0%|          | 0/65 [00:00<?, ?it/s]"
      ]
     },
     "metadata": {},
     "output_type": "display_data"
    },
    {
     "name": "stdout",
     "output_type": "stream",
     "text": [
      "Loss → Total: 0.3393, Regression: 0.0068, Classification: 0.3325\n",
      "SM_0 → RMSE: 7.11689136, MAE: 5.50118208, ME: -1.96227682\n",
      "SM_20 → RMSE: 6.51706744, MAE: 4.99788475, ME: -0.82513040\n",
      "Classification → Accuracy: 0.94457948, F1-score: 0.94446109\n",
      "Epoch 57/60\n"
     ]
    },
    {
     "data": {
      "application/vnd.jupyter.widget-view+json": {
       "model_id": "60d983716967446b93bbe50a8a218c2e",
       "version_major": 2,
       "version_minor": 0
      },
      "text/plain": [
       "  0%|          | 0/65 [00:00<?, ?it/s]"
      ]
     },
     "metadata": {},
     "output_type": "display_data"
    },
    {
     "name": "stdout",
     "output_type": "stream",
     "text": [
      "Loss → Total: 0.3583, Regression: 0.0064, Classification: 0.3519\n",
      "SM_0 → RMSE: 6.29170594, MAE: 4.77832270, ME: -0.39279786\n",
      "SM_20 → RMSE: 6.36875759, MAE: 4.93516779, ME: -0.74711758\n",
      "Classification → Accuracy: 0.93534273, F1-score: 0.93571493\n",
      "Epoch 58/60\n"
     ]
    },
    {
     "data": {
      "application/vnd.jupyter.widget-view+json": {
       "model_id": "0848d2963f0b45c4b29b6f3ac3ecadc2",
       "version_major": 2,
       "version_minor": 0
      },
      "text/plain": [
       "  0%|          | 0/65 [00:00<?, ?it/s]"
      ]
     },
     "metadata": {},
     "output_type": "display_data"
    },
    {
     "name": "stdout",
     "output_type": "stream",
     "text": [
      "Loss → Total: 0.3485, Regression: 0.0067, Classification: 0.3418\n",
      "SM_0 → RMSE: 6.39153554, MAE: 4.98798990, ME: -1.41335821\n",
      "SM_20 → RMSE: 6.40619939, MAE: 4.96366549, ME: -1.17914462\n",
      "Classification → Accuracy: 0.94263491, F1-score: 0.94305825\n",
      "Epoch 59/60\n"
     ]
    },
    {
     "data": {
      "application/vnd.jupyter.widget-view+json": {
       "model_id": "80e22b22b5a7413eac1e3c2992352472",
       "version_major": 2,
       "version_minor": 0
      },
      "text/plain": [
       "  0%|          | 0/65 [00:00<?, ?it/s]"
      ]
     },
     "metadata": {},
     "output_type": "display_data"
    },
    {
     "name": "stdout",
     "output_type": "stream",
     "text": [
      "Loss → Total: 0.3067, Regression: 0.0061, Classification: 0.3006\n",
      "SM_0 → RMSE: 6.24105958, MAE: 4.76981783, ME: -1.06737566\n",
      "SM_20 → RMSE: 6.56067770, MAE: 5.10591936, ME: -0.08831984\n",
      "Classification → Accuracy: 0.94312105, F1-score: 0.94346471\n",
      "Epoch 60/60\n"
     ]
    },
    {
     "data": {
      "application/vnd.jupyter.widget-view+json": {
       "model_id": "c6ec540627604ad69a73aa1424c869cf",
       "version_major": 2,
       "version_minor": 0
      },
      "text/plain": [
       "  0%|          | 0/65 [00:00<?, ?it/s]"
      ]
     },
     "metadata": {},
     "output_type": "display_data"
    },
    {
     "name": "stdout",
     "output_type": "stream",
     "text": [
      "Loss → Total: 0.3272, Regression: 0.0064, Classification: 0.3208\n",
      "SM_0 → RMSE: 6.13007689, MAE: 4.65510988, ME: 1.07443559\n",
      "SM_20 → RMSE: 6.12888913, MAE: 4.71011782, ME: 0.77644229\n",
      "Classification → Accuracy: 0.94652406, F1-score: 0.94669939\n"
     ]
    }
   ],
   "source": [
    "import torch\n",
    "import torch.nn as nn\n",
    "import pandas as pd\n",
    "import numpy as np\n",
    "from torch.utils.data import Dataset, DataLoader\n",
    "from torchvision import transforms\n",
    "from PIL import Image\n",
    "from sklearn.metrics import mean_squared_error, mean_absolute_error, accuracy_score, f1_score\n",
    "from tqdm.notebook import tqdm\n",
    "import timm\n",
    "import os\n",
    "import random\n",
    "\n",
    "device = torch.device(\"cuda\" if torch.cuda.is_available() else \"cpu\")\n",
    "print(f\"Using device: {device}\")\n",
    "print(f\"PyTorch version: {torch.__version__}\")\n",
    "\n",
    "df = pd.read_csv(r\"F:\\Soil_Labeled_Data\\labels.csv\")\n",
    "print(f\"Total labeled images before check: {len(df)}\")\n",
    "\n",
    "required_columns = ['path', 'SM_0', 'SM_20', 'light_value', 'moisture_class']\n",
    "missing_columns = [col for col in required_columns if col not in df.columns]\n",
    "if missing_columns:\n",
    "    raise ValueError(f\"DataFrame missing columns: {missing_columns}\")\n",
    "\n",
    "fallback_dir = r\"F:\\Soil_Labeled_Data\\augmented_fallback\"\n",
    "os.makedirs(fallback_dir, exist_ok=True)\n",
    "replaced_count = 0\n",
    "augment = transforms.ColorJitter(brightness=0.2, contrast=0.2)\n",
    "\n",
    "for idx, row in tqdm(df.iterrows(), total=len(df)):\n",
    "    path = row[\"path\"]\n",
    "    try:\n",
    "        img = Image.open(path).convert(\"RGB\")\n",
    "        img.verify()\n",
    "    except:\n",
    "        print(f\"Image error: {path}\")\n",
    "        folder = os.path.dirname(path)\n",
    "        all_images = [f for f in os.listdir(folder) if f.lower().endswith((\".jpg\", \".png\"))]\n",
    "        good_images = [f for f in all_images if f != os.path.basename(path)]\n",
    "        if not good_images:\n",
    "            print(f\"No replacement images in: {folder}\")\n",
    "            continue\n",
    "        candidate = random.choice(good_images)\n",
    "        candidate_path = os.path.join(folder, candidate)\n",
    "        try:\n",
    "            img = Image.open(candidate_path).convert(\"RGB\")\n",
    "            img_aug = augment(img)\n",
    "            new_filename = f\"aug_{os.path.basename(path)}\"\n",
    "            new_path = os.path.join(fallback_dir, new_filename)\n",
    "            img_aug.save(new_path)\n",
    "            df.at[idx, \"path\"] = new_path\n",
    "            replaced_count += 1\n",
    "            print(f\"Replaced with: {new_path}\")\n",
    "        except:\n",
    "            print(f\"Replacement image error: {candidate_path}\")\n",
    "            continue\n",
    "print(f\"Replaced {replaced_count} invalid images with augmented versions.\")\n",
    "\n",
    "transform = transforms.Compose([\n",
    "    transforms.Resize((224, 224)),\n",
    "    transforms.ToTensor(),\n",
    "    transforms.Normalize(mean=[0.485, 0.456, 0.406], std=[0.229, 0.224, 0.225])\n",
    "])\n",
    "\n",
    "class SoilDualTaskDataset(Dataset):\n",
    "    def __init__(self, dataframe, transform=None):\n",
    "        self.df = dataframe\n",
    "        self.transform = transform\n",
    "\n",
    "    def __len__(self):\n",
    "        return len(self.df)\n",
    "\n",
    "    def __getitem__(self, idx):\n",
    "        row = self.df.iloc[idx]\n",
    "        img = Image.open(row[\"path\"]).convert(\"RGB\")\n",
    "        if self.transform:\n",
    "            img = self.transform(img)\n",
    "        light = torch.tensor([row[\"light_value\"] / 100.0], dtype=torch.float32)\n",
    "        regression_target = torch.tensor([row[\"SM_0\"] / 100.0, row[\"SM_20\"] / 100.0], dtype=torch.float32)\n",
    "        class_target = torch.tensor(row[\"moisture_class\"], dtype=torch.long)\n",
    "        return {\n",
    "            \"image\": img,\n",
    "            \"light\": light,\n",
    "            \"regression_target\": regression_target,\n",
    "            \"class_target\": class_target\n",
    "        }\n",
    "\n",
    "class SoilNetDualHead(nn.Module):\n",
    "    def __init__(self, num_classes=10):\n",
    "        super().__init__()\n",
    "        self.initial_conv = nn.Conv2d(3, 32, kernel_size=3, stride=1, padding=1)\n",
    "        self.mnv2_block1 = nn.Sequential(*list(\n",
    "            timm.create_model(\"mobilenetv2_100.ra_in1k\", pretrained=True).blocks.children())[0:3]\n",
    "        )\n",
    "        self.channel_adapter = nn.Conv2d(32, 16, kernel_size=1, bias=False)\n",
    "        self.mobilevit_full = timm.create_model(\"mobilevitv2_050\", pretrained=True)\n",
    "        self.mobilevit_encoder = self.mobilevit_full.stages\n",
    "        self.mvit_to_mnv2 = nn.Conv2d(256, 32, kernel_size=1, bias=False)\n",
    "        self.mnv2_block2 = nn.Sequential(*list(\n",
    "            timm.create_model(\"mobilenetv2_100.ra_in1k\", pretrained=True).blocks.children())[3:7]\n",
    "        )\n",
    "        self.final_conv = nn.Conv2d(320, 1280, kernel_size=1)\n",
    "        self.pool = nn.AdaptiveAvgPool2d((1, 1))\n",
    "        self.light_dense = nn.Sequential(nn.Linear(1, 32), nn.ReLU(inplace=True))\n",
    "        self.reg_head = nn.Sequential(\n",
    "            nn.Linear(1280 + 32, 128),\n",
    "            nn.ReLU(inplace=True),\n",
    "            nn.Linear(128, 2)\n",
    "        )\n",
    "        self.cls_head = nn.Sequential(\n",
    "            nn.Linear(1280 + 32, 128),\n",
    "            nn.ReLU(inplace=True),\n",
    "            nn.Linear(128, num_classes)\n",
    "        )\n",
    "\n",
    "    def forward(self, x_img, x_light):\n",
    "        x = self.initial_conv(x_img)\n",
    "        x = self.mnv2_block1(x)\n",
    "        x = self.channel_adapter(x)\n",
    "        x = self.mobilevit_encoder(x)\n",
    "        x = self.mvit_to_mnv2(x)\n",
    "        x = self.mnv2_block2(x)\n",
    "        x = self.final_conv(x)\n",
    "        x = self.pool(x)\n",
    "        x_img_feat = torch.flatten(x, 1)\n",
    "        x_light_feat = self.light_dense(x_light)\n",
    "        x_concat = torch.cat([x_img_feat, x_light_feat], dim=1)\n",
    "        reg_out = self.reg_head(x_concat)\n",
    "        cls_out = self.cls_head(x_concat)\n",
    "        return reg_out, cls_out\n",
    "\n",
    "dataset = SoilDualTaskDataset(df, transform)\n",
    "dataloader = DataLoader(dataset, batch_size=32, shuffle=True, pin_memory=True if device.type == \"cuda\" else False, num_workers=0)\n",
    "\n",
    "num_classes = len(df[\"moisture_class\"].unique())\n",
    "model = SoilNetDualHead(num_classes=num_classes).to(device)\n",
    "\n",
    "checkpoint_path = r\"C:\\Users\\PC\\soilNet\\checkpoints_VicReg\\vicreg_model_final_mu_40.0.pth\"\n",
    "try:\n",
    "    checkpoint = torch.load(checkpoint_path, map_location=device, weights_only=False)\n",
    "    if isinstance(checkpoint, dict) and 'model_state_dict' in checkpoint:\n",
    "        model_state_dict = checkpoint['model_state_dict']\n",
    "    else:\n",
    "        model_state_dict = checkpoint\n",
    "    model_dict = model.state_dict()\n",
    "    pretrained_dict = {k: v for k, v in model_state_dict.items() \n",
    "                       if k in model_dict and model_dict[k].shape == v.shape}\n",
    "    temp_model_dict = model_dict.copy()\n",
    "    temp_model_dict.update(pretrained_dict)\n",
    "    missing_keys, unexpected_keys = model.load_state_dict(temp_model_dict, strict=False)\n",
    "    print(f\"Loaded pretrained weights from {checkpoint_path}\")\n",
    "    if missing_keys:\n",
    "        print(f\"Some keys missing in checkpoint and not loaded: {missing_keys}\")\n",
    "    if unexpected_keys:\n",
    "        print(f\"Some keys in checkpoint not in model and ignored: {unexpected_keys}\")\n",
    "except FileNotFoundError:\n",
    "    print(f\"Checkpoint not found: {checkpoint_path}. Using random initialization.\")\n",
    "except Exception as e:\n",
    "    print(f\"Error loading checkpoint: {e}. Using random initialization.\")\n",
    "\n",
    "optimizer = torch.optim.Adam(model.parameters(), lr=1e-4)\n",
    "reg_criterion = nn.MSELoss()\n",
    "cls_criterion = nn.CrossEntropyLoss()\n",
    "\n",
    "num_epochs = 60\n",
    "loss_history = []\n",
    "\n",
    "for epoch in range(num_epochs):\n",
    "    print(f\"Epoch {epoch+1}/{num_epochs}\")\n",
    "    model.train()\n",
    "    total_loss, total_reg_loss, total_cls_loss = 0, 0, 0\n",
    "    for batch in tqdm(dataloader, leave=False):\n",
    "        x_img = batch[\"image\"].to(device)\n",
    "        x_light = batch[\"light\"].to(device)\n",
    "        y_reg = batch[\"regression_target\"].to(device)\n",
    "        y_cls = batch[\"class_target\"].to(device)\n",
    "        optimizer.zero_grad()\n",
    "        pred_reg, pred_cls = model(x_img, x_light)\n",
    "        loss_reg = reg_criterion(pred_reg, y_reg)\n",
    "        loss_cls = cls_criterion(pred_cls, y_cls)\n",
    "        loss = loss_reg + loss_cls\n",
    "        loss.backward()\n",
    "        optimizer.step()\n",
    "        total_loss += loss.item()\n",
    "        total_reg_loss += loss_reg.item()\n",
    "        total_cls_loss += loss_cls.item()\n",
    "    avg_total = total_loss / len(dataloader)\n",
    "    loss_history.append((avg_total, total_reg_loss / len(dataloader), total_cls_loss / len(dataloader)))\n",
    "    print(f\"Loss → Total: {avg_total:.4f}, Regression: {total_reg_loss / len(dataloader):.4f}, Classification: {total_cls_loss / len(dataloader):.4f}\")\n",
    "    model.eval()\n",
    "    y_true_reg, y_pred_reg = [], []\n",
    "    y_true_cls, y_pred_cls = [], []\n",
    "    with torch.no_grad():\n",
    "        for batch in dataloader:\n",
    "            x_img = batch[\"image\"].to(device)\n",
    "            x_light = batch[\"light\"].to(device)\n",
    "            y_reg = batch[\"regression_target\"].to(device)\n",
    "            y_cls = batch[\"class_target\"].to(device)\n",
    "            pred_reg, pred_cls = model(x_img, x_light)\n",
    "            y_true_reg.extend(y_reg.cpu().numpy())\n",
    "            y_pred_reg.extend(pred_reg.cpu().numpy())\n",
    "            y_true_cls.extend(y_cls.cpu().numpy())\n",
    "            y_pred_cls.extend(pred_cls.argmax(dim=1).cpu().numpy())\n",
    "    y_true_reg = np.array(y_true_reg) * 100\n",
    "    y_pred_reg = np.array(y_pred_reg) * 100\n",
    "    metrics = {}\n",
    "    for i, label in enumerate([\"SM_0\", \"SM_20\"]):\n",
    "        metrics[label] = {\n",
    "            \"RMSE\": mean_squared_error(y_true_reg[:, i], y_pred_reg[:, i]) ** 0.5,\n",
    "            \"MAE\": mean_absolute_error(y_true_reg[:, i], y_pred_reg[:, i]),\n",
    "            \"ME\": np.mean(y_pred_reg[:, i] - y_true_reg[:, i]),\n",
    "        }\n",
    "    metrics[\"Classification\"] = {\n",
    "        \"Accuracy\": accuracy_score(y_true_cls, y_pred_cls),\n",
    "        \"F1-score\": f1_score(y_true_cls, y_pred_cls, average=\"weighted\")\n",
    "    }\n",
    "    for label in [\"SM_0\", \"SM_20\"]:\n",
    "        print(f\"{label} → RMSE: {metrics[label]['RMSE']:.8f}, MAE: {metrics[label]['MAE']:.8f}, ME: {metrics[label]['ME']:.8f}\")\n",
    "    print(f\"Classification → Accuracy: {metrics['Classification']['Accuracy']:.8f}, F1-score: {metrics['Classification']['F1-score']:.8f}\")\n",
    "\n",
    "torch.save(model.state_dict(), r\"C:\\Users\\PC\\soilNet\\checkpoints_VicReg\\finetune_mu_40.0.pth\")"
   ]
  }
 ],
 "metadata": {
  "kernelspec": {
   "display_name": "Python 3 (ipykernel)",
   "language": "python",
   "name": "python3"
  },
  "language_info": {
   "codemirror_mode": {
    "name": "ipython",
    "version": 3
   },
   "file_extension": ".py",
   "mimetype": "text/x-python",
   "name": "python",
   "nbconvert_exporter": "python",
   "pygments_lexer": "ipython3",
   "version": "3.10.16"
  }
 },
 "nbformat": 4,
 "nbformat_minor": 5
}
