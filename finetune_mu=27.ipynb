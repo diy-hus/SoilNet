{
 "cells": [
  {
   "cell_type": "code",
   "execution_count": 1,
   "id": "37ffe4d9-53e0-48ad-b3ab-365e1ba12eb8",
   "metadata": {},
   "outputs": [
    {
     "name": "stdout",
     "output_type": "stream",
     "text": [
      "Using device: cuda\n",
      "PyTorch version: 2.6.0+cu118\n",
      "Total labeled images before check: 2057\n"
     ]
    },
    {
     "data": {
      "application/vnd.jupyter.widget-view+json": {
       "model_id": "863ee77b18c5423499a465dfa4f4d69c",
       "version_major": 2,
       "version_minor": 0
      },
      "text/plain": [
       "  0%|          | 0/2057 [00:00<?, ?it/s]"
      ]
     },
     "metadata": {},
     "output_type": "display_data"
    },
    {
     "name": "stdout",
     "output_type": "stream",
     "text": [
      "Image error: F:\\Soil_Labeled_Data\\M_10_20\\L_60_70\\alluvial\\IMG_0683.JPG\n",
      "Replaced with: F:\\Soil_Labeled_Data\\augmented_fallback\\aug_IMG_0683.JPG\n",
      "Image error: F:\\Soil_Labeled_Data\\M_10_20\\L_70_80\\alluvial\\IMG_0703.JPG\n",
      "Replaced with: F:\\Soil_Labeled_Data\\augmented_fallback\\aug_IMG_0703.JPG\n",
      "Image error: F:\\Soil_Labeled_Data\\M_10_20\\L_80_90\\alluvial\\IMG_0746.JPG\n",
      "Replaced with: F:\\Soil_Labeled_Data\\augmented_fallback\\aug_IMG_0746.JPG\n",
      "Image error: F:\\Soil_Labeled_Data\\M_10_20\\L_80_90\\alluvial\\IMG_0753.JPG\n",
      "Replaced with: F:\\Soil_Labeled_Data\\augmented_fallback\\aug_IMG_0753.JPG\n",
      "Image error: F:\\Soil_Labeled_Data\\M_10_20\\L_80_90\\alluvial\\IMG_0755.JPG\n",
      "Replaced with: F:\\Soil_Labeled_Data\\augmented_fallback\\aug_IMG_0755.JPG\n",
      "Replaced 5 invalid images with augmented versions.\n",
      "Loaded pretrained weights from C:\\Users\\PC\\soilNet\\checkpoints_VicReg\\vicreg_model_final_mu_27.0.pth\n",
      "Epoch 1/60\n"
     ]
    },
    {
     "data": {
      "application/vnd.jupyter.widget-view+json": {
       "model_id": "e1397da9a05241ca8792eb8d13905e99",
       "version_major": 2,
       "version_minor": 0
      },
      "text/plain": [
       "  0%|          | 0/65 [00:00<?, ?it/s]"
      ]
     },
     "metadata": {},
     "output_type": "display_data"
    },
    {
     "name": "stdout",
     "output_type": "stream",
     "text": [
      "Loss → Total: 2.1109, Regression: 0.0567, Classification: 2.0542\n",
      "SM_0 → RMSE: 18.49743882, MAE: 14.58615589, ME: -1.46803582\n",
      "SM_20 → RMSE: 18.94044638, MAE: 14.89789104, ME: 0.49328128\n",
      "Classification → Accuracy: 0.31939718, F1-score: 0.28475823\n",
      "Epoch 2/60\n"
     ]
    },
    {
     "data": {
      "application/vnd.jupyter.widget-view+json": {
       "model_id": "037b9ac298b04fe79823628901947ae5",
       "version_major": 2,
       "version_minor": 0
      },
      "text/plain": [
       "  0%|          | 0/65 [00:00<?, ?it/s]"
      ]
     },
     "metadata": {},
     "output_type": "display_data"
    },
    {
     "name": "stdout",
     "output_type": "stream",
     "text": [
      "Loss → Total: 1.8116, Regression: 0.0367, Classification: 1.7749\n",
      "SM_0 → RMSE: 16.90055483, MAE: 13.24118137, ME: -2.14202309\n",
      "SM_20 → RMSE: 16.38512777, MAE: 12.81614876, ME: -3.39293599\n",
      "Classification → Accuracy: 0.37724842, F1-score: 0.34640628\n",
      "Epoch 3/60\n"
     ]
    },
    {
     "data": {
      "application/vnd.jupyter.widget-view+json": {
       "model_id": "635b31fad7fc46bbb468fa4d09d88e0a",
       "version_major": 2,
       "version_minor": 0
      },
      "text/plain": [
       "  0%|          | 0/65 [00:00<?, ?it/s]"
      ]
     },
     "metadata": {},
     "output_type": "display_data"
    },
    {
     "name": "stdout",
     "output_type": "stream",
     "text": [
      "Loss → Total: 1.6845, Regression: 0.0312, Classification: 1.6533\n",
      "SM_0 → RMSE: 15.34746635, MAE: 12.23389053, ME: 0.13333069\n",
      "SM_20 → RMSE: 15.37121933, MAE: 12.29983234, ME: -0.36321503\n",
      "Classification → Accuracy: 0.45503160, F1-score: 0.44234049\n",
      "Epoch 4/60\n"
     ]
    },
    {
     "data": {
      "application/vnd.jupyter.widget-view+json": {
       "model_id": "e8ff2abbcb3b4f3f92f3f56e51415558",
       "version_major": 2,
       "version_minor": 0
      },
      "text/plain": [
       "  0%|          | 0/65 [00:00<?, ?it/s]"
      ]
     },
     "metadata": {},
     "output_type": "display_data"
    },
    {
     "name": "stdout",
     "output_type": "stream",
     "text": [
      "Loss → Total: 1.5552, Regression: 0.0249, Classification: 1.5303\n",
      "SM_0 → RMSE: 13.60328105, MAE: 10.67171955, ME: -0.33344039\n",
      "SM_20 → RMSE: 13.88973409, MAE: 10.90199947, ME: -0.80129045\n",
      "Classification → Accuracy: 0.49538162, F1-score: 0.49115427\n",
      "Epoch 5/60\n"
     ]
    },
    {
     "data": {
      "application/vnd.jupyter.widget-view+json": {
       "model_id": "00a0bc6b59a644c29e812da63b206dae",
       "version_major": 2,
       "version_minor": 0
      },
      "text/plain": [
       "  0%|          | 0/65 [00:00<?, ?it/s]"
      ]
     },
     "metadata": {},
     "output_type": "display_data"
    },
    {
     "name": "stdout",
     "output_type": "stream",
     "text": [
      "Loss → Total: 1.4807, Regression: 0.0229, Classification: 1.4579\n",
      "SM_0 → RMSE: 14.55989228, MAE: 11.63376904, ME: -0.58812642\n",
      "SM_20 → RMSE: 16.08632831, MAE: 12.90768242, ME: -0.48105681\n",
      "Classification → Accuracy: 0.53864852, F1-score: 0.52402742\n",
      "Epoch 6/60\n"
     ]
    },
    {
     "data": {
      "application/vnd.jupyter.widget-view+json": {
       "model_id": "9924fd57f1924475bbd10faac557e6ee",
       "version_major": 2,
       "version_minor": 0
      },
      "text/plain": [
       "  0%|          | 0/65 [00:00<?, ?it/s]"
      ]
     },
     "metadata": {},
     "output_type": "display_data"
    },
    {
     "name": "stdout",
     "output_type": "stream",
     "text": [
      "Loss → Total: 1.3834, Regression: 0.0214, Classification: 1.3620\n",
      "SM_0 → RMSE: 11.43013405, MAE: 8.77185726, ME: 1.61757898\n",
      "SM_20 → RMSE: 11.21844703, MAE: 8.58789539, ME: 1.58171856\n",
      "Classification → Accuracy: 0.56733106, F1-score: 0.57174319\n",
      "Epoch 7/60\n"
     ]
    },
    {
     "data": {
      "application/vnd.jupyter.widget-view+json": {
       "model_id": "22bc63a85933489d93a77a6534f0000d",
       "version_major": 2,
       "version_minor": 0
      },
      "text/plain": [
       "  0%|          | 0/65 [00:00<?, ?it/s]"
      ]
     },
     "metadata": {},
     "output_type": "display_data"
    },
    {
     "name": "stdout",
     "output_type": "stream",
     "text": [
      "Loss → Total: 1.2930, Regression: 0.0184, Classification: 1.2746\n",
      "SM_0 → RMSE: 11.29325925, MAE: 8.78006077, ME: -0.92141509\n",
      "SM_20 → RMSE: 10.51171839, MAE: 8.23474216, ME: -0.30791029\n",
      "Classification → Accuracy: 0.60622265, F1-score: 0.60708537\n",
      "Epoch 8/60\n"
     ]
    },
    {
     "data": {
      "application/vnd.jupyter.widget-view+json": {
       "model_id": "dfa1dab47b23427a9a3babe5e67c2fab",
       "version_major": 2,
       "version_minor": 0
      },
      "text/plain": [
       "  0%|          | 0/65 [00:00<?, ?it/s]"
      ]
     },
     "metadata": {},
     "output_type": "display_data"
    },
    {
     "name": "stdout",
     "output_type": "stream",
     "text": [
      "Loss → Total: 1.2071, Regression: 0.0185, Classification: 1.1886\n",
      "SM_0 → RMSE: 10.72113349, MAE: 8.38181019, ME: -1.60020792\n",
      "SM_20 → RMSE: 11.00663696, MAE: 8.60142612, ME: -1.69017029\n",
      "Classification → Accuracy: 0.62469616, F1-score: 0.61472459\n",
      "Epoch 9/60\n"
     ]
    },
    {
     "data": {
      "application/vnd.jupyter.widget-view+json": {
       "model_id": "b09246775b00406497f65c32b8ed2d34",
       "version_major": 2,
       "version_minor": 0
      },
      "text/plain": [
       "  0%|          | 0/65 [00:00<?, ?it/s]"
      ]
     },
     "metadata": {},
     "output_type": "display_data"
    },
    {
     "name": "stdout",
     "output_type": "stream",
     "text": [
      "Loss → Total: 1.1949, Regression: 0.0176, Classification: 1.1773\n",
      "SM_0 → RMSE: 10.46292982, MAE: 8.15005589, ME: 0.36380121\n",
      "SM_20 → RMSE: 10.21079105, MAE: 7.95118284, ME: 0.35885516\n",
      "Classification → Accuracy: 0.68400583, F1-score: 0.68364607\n",
      "Epoch 10/60\n"
     ]
    },
    {
     "data": {
      "application/vnd.jupyter.widget-view+json": {
       "model_id": "ff741b78214e407a9441eabaf388481c",
       "version_major": 2,
       "version_minor": 0
      },
      "text/plain": [
       "  0%|          | 0/65 [00:00<?, ?it/s]"
      ]
     },
     "metadata": {},
     "output_type": "display_data"
    },
    {
     "name": "stdout",
     "output_type": "stream",
     "text": [
      "Loss → Total: 1.0727, Regression: 0.0145, Classification: 1.0582\n",
      "SM_0 → RMSE: 10.49746565, MAE: 8.15542984, ME: -1.16368103\n",
      "SM_20 → RMSE: 11.12716174, MAE: 8.70282269, ME: -2.27566409\n",
      "Classification → Accuracy: 0.70685464, F1-score: 0.70826950\n",
      "Epoch 11/60\n"
     ]
    },
    {
     "data": {
      "application/vnd.jupyter.widget-view+json": {
       "model_id": "350124b221d54909acc4023e8fc1f6c0",
       "version_major": 2,
       "version_minor": 0
      },
      "text/plain": [
       "  0%|          | 0/65 [00:00<?, ?it/s]"
      ]
     },
     "metadata": {},
     "output_type": "display_data"
    },
    {
     "name": "stdout",
     "output_type": "stream",
     "text": [
      "Loss → Total: 1.0489, Regression: 0.0147, Classification: 1.0341\n",
      "SM_0 → RMSE: 9.68363511, MAE: 7.69377851, ME: -1.75315297\n",
      "SM_20 → RMSE: 9.27508525, MAE: 7.29289579, ME: -1.78268743\n",
      "Classification → Accuracy: 0.74671852, F1-score: 0.74606532\n",
      "Epoch 12/60\n"
     ]
    },
    {
     "data": {
      "application/vnd.jupyter.widget-view+json": {
       "model_id": "b03c4c11862d45a4a540decf9e6e7b3e",
       "version_major": 2,
       "version_minor": 0
      },
      "text/plain": [
       "  0%|          | 0/65 [00:00<?, ?it/s]"
      ]
     },
     "metadata": {},
     "output_type": "display_data"
    },
    {
     "name": "stdout",
     "output_type": "stream",
     "text": [
      "Loss → Total: 1.0385, Regression: 0.0150, Classification: 1.0235\n",
      "SM_0 → RMSE: 10.10930444, MAE: 7.83910704, ME: 1.00468886\n",
      "SM_20 → RMSE: 11.43556806, MAE: 8.99189663, ME: 2.30840063\n",
      "Classification → Accuracy: 0.73650948, F1-score: 0.73302562\n",
      "Epoch 13/60\n"
     ]
    },
    {
     "data": {
      "application/vnd.jupyter.widget-view+json": {
       "model_id": "3cafbb11c2d24d948707dcd604594d9e",
       "version_major": 2,
       "version_minor": 0
      },
      "text/plain": [
       "  0%|          | 0/65 [00:00<?, ?it/s]"
      ]
     },
     "metadata": {},
     "output_type": "display_data"
    },
    {
     "name": "stdout",
     "output_type": "stream",
     "text": [
      "Loss → Total: 0.9522, Regression: 0.0143, Classification: 0.9379\n",
      "SM_0 → RMSE: 9.22562599, MAE: 7.04126024, ME: 0.33482063\n",
      "SM_20 → RMSE: 9.67513387, MAE: 7.44349480, ME: -0.75580430\n",
      "Classification → Accuracy: 0.76033058, F1-score: 0.75505586\n",
      "Epoch 14/60\n"
     ]
    },
    {
     "data": {
      "application/vnd.jupyter.widget-view+json": {
       "model_id": "79bec78ce4284518b6ff385c74202174",
       "version_major": 2,
       "version_minor": 0
      },
      "text/plain": [
       "  0%|          | 0/65 [00:00<?, ?it/s]"
      ]
     },
     "metadata": {},
     "output_type": "display_data"
    },
    {
     "name": "stdout",
     "output_type": "stream",
     "text": [
      "Loss → Total: 0.9312, Regression: 0.0137, Classification: 0.9176\n",
      "SM_0 → RMSE: 8.46846802, MAE: 6.60602093, ME: -0.38512304\n",
      "SM_20 → RMSE: 8.36363748, MAE: 6.41571522, ME: 0.25873998\n",
      "Classification → Accuracy: 0.79824988, F1-score: 0.79911395\n",
      "Epoch 15/60\n"
     ]
    },
    {
     "data": {
      "application/vnd.jupyter.widget-view+json": {
       "model_id": "2faa66f6fec940c0afd99f14bba52a8c",
       "version_major": 2,
       "version_minor": 0
      },
      "text/plain": [
       "  0%|          | 0/65 [00:00<?, ?it/s]"
      ]
     },
     "metadata": {},
     "output_type": "display_data"
    },
    {
     "name": "stdout",
     "output_type": "stream",
     "text": [
      "Loss → Total: 0.8847, Regression: 0.0136, Classification: 0.8710\n",
      "SM_0 → RMSE: 8.85043417, MAE: 6.91384029, ME: -0.58106953\n",
      "SM_20 → RMSE: 8.42909285, MAE: 6.55178833, ME: 0.97289270\n",
      "Classification → Accuracy: 0.80311133, F1-score: 0.79800887\n",
      "Epoch 16/60\n"
     ]
    },
    {
     "data": {
      "application/vnd.jupyter.widget-view+json": {
       "model_id": "7f0da380c1b34404bd29893fc065701d",
       "version_major": 2,
       "version_minor": 0
      },
      "text/plain": [
       "  0%|          | 0/65 [00:00<?, ?it/s]"
      ]
     },
     "metadata": {},
     "output_type": "display_data"
    },
    {
     "name": "stdout",
     "output_type": "stream",
     "text": [
      "Loss → Total: 0.8395, Regression: 0.0117, Classification: 0.8279\n",
      "SM_0 → RMSE: 8.13305546, MAE: 6.34339046, ME: -0.39906636\n",
      "SM_20 → RMSE: 8.04205664, MAE: 6.26786184, ME: 0.34746471\n",
      "Classification → Accuracy: 0.77783179, F1-score: 0.77630638\n",
      "Epoch 17/60\n"
     ]
    },
    {
     "data": {
      "application/vnd.jupyter.widget-view+json": {
       "model_id": "178d543c965546e2875445ae01fd3ea3",
       "version_major": 2,
       "version_minor": 0
      },
      "text/plain": [
       "  0%|          | 0/65 [00:00<?, ?it/s]"
      ]
     },
     "metadata": {},
     "output_type": "display_data"
    },
    {
     "name": "stdout",
     "output_type": "stream",
     "text": [
      "Loss → Total: 0.8706, Regression: 0.0129, Classification: 0.8577\n",
      "SM_0 → RMSE: 9.04149851, MAE: 7.11405373, ME: 2.44273424\n",
      "SM_20 → RMSE: 9.43077727, MAE: 7.37774420, ME: 2.76802397\n",
      "Classification → Accuracy: 0.78658240, F1-score: 0.78838306\n",
      "Epoch 18/60\n"
     ]
    },
    {
     "data": {
      "application/vnd.jupyter.widget-view+json": {
       "model_id": "4a548ebfa9474d23a04b7f3d501bb453",
       "version_major": 2,
       "version_minor": 0
      },
      "text/plain": [
       "  0%|          | 0/65 [00:00<?, ?it/s]"
      ]
     },
     "metadata": {},
     "output_type": "display_data"
    },
    {
     "name": "stdout",
     "output_type": "stream",
     "text": [
      "Loss → Total: 0.7801, Regression: 0.0109, Classification: 0.7692\n",
      "SM_0 → RMSE: 8.35925498, MAE: 6.32806826, ME: 0.46151713\n",
      "SM_20 → RMSE: 8.32474299, MAE: 6.32514477, ME: 0.33426058\n",
      "Classification → Accuracy: 0.83130773, F1-score: 0.83227471\n",
      "Epoch 19/60\n"
     ]
    },
    {
     "data": {
      "application/vnd.jupyter.widget-view+json": {
       "model_id": "eb81bcc3208649e2967555866e168bb7",
       "version_major": 2,
       "version_minor": 0
      },
      "text/plain": [
       "  0%|          | 0/65 [00:00<?, ?it/s]"
      ]
     },
     "metadata": {},
     "output_type": "display_data"
    },
    {
     "name": "stdout",
     "output_type": "stream",
     "text": [
      "Loss → Total: 0.7760, Regression: 0.0120, Classification: 0.7640\n",
      "SM_0 → RMSE: 8.33417547, MAE: 6.38904619, ME: -0.41347519\n",
      "SM_20 → RMSE: 8.26386368, MAE: 6.26567078, ME: 0.97965014\n",
      "Classification → Accuracy: 0.84491979, F1-score: 0.84490249\n",
      "Epoch 20/60\n"
     ]
    },
    {
     "data": {
      "application/vnd.jupyter.widget-view+json": {
       "model_id": "7795bde07336487b9959e510e69a4088",
       "version_major": 2,
       "version_minor": 0
      },
      "text/plain": [
       "  0%|          | 0/65 [00:00<?, ?it/s]"
      ]
     },
     "metadata": {},
     "output_type": "display_data"
    },
    {
     "name": "stdout",
     "output_type": "stream",
     "text": [
      "Loss → Total: 0.7829, Regression: 0.0111, Classification: 0.7717\n",
      "SM_0 → RMSE: 8.27224599, MAE: 6.28123903, ME: 2.10669374\n",
      "SM_20 → RMSE: 7.85524051, MAE: 6.10565615, ME: 0.28827611\n",
      "Classification → Accuracy: 0.85123967, F1-score: 0.85083742\n",
      "Epoch 21/60\n"
     ]
    },
    {
     "data": {
      "application/vnd.jupyter.widget-view+json": {
       "model_id": "1fb0a492b89b4bf998e7795f85eb248a",
       "version_major": 2,
       "version_minor": 0
      },
      "text/plain": [
       "  0%|          | 0/65 [00:00<?, ?it/s]"
      ]
     },
     "metadata": {},
     "output_type": "display_data"
    },
    {
     "name": "stdout",
     "output_type": "stream",
     "text": [
      "Loss → Total: 0.7201, Regression: 0.0101, Classification: 0.7100\n",
      "SM_0 → RMSE: 7.37535327, MAE: 5.66082287, ME: -0.85844976\n",
      "SM_20 → RMSE: 7.61683818, MAE: 5.91809845, ME: 0.62813872\n",
      "Classification → Accuracy: 0.85561497, F1-score: 0.85492970\n",
      "Epoch 22/60\n"
     ]
    },
    {
     "data": {
      "application/vnd.jupyter.widget-view+json": {
       "model_id": "d62ef5e722984cd99789dec132b56502",
       "version_major": 2,
       "version_minor": 0
      },
      "text/plain": [
       "  0%|          | 0/65 [00:00<?, ?it/s]"
      ]
     },
     "metadata": {},
     "output_type": "display_data"
    },
    {
     "name": "stdout",
     "output_type": "stream",
     "text": [
      "Loss → Total: 0.6654, Regression: 0.0099, Classification: 0.6555\n",
      "SM_0 → RMSE: 8.52537340, MAE: 6.68889761, ME: 1.55602527\n",
      "SM_20 → RMSE: 7.92647237, MAE: 6.19622087, ME: 0.43090150\n",
      "Classification → Accuracy: 0.86436558, F1-score: 0.86410496\n",
      "Epoch 23/60\n"
     ]
    },
    {
     "data": {
      "application/vnd.jupyter.widget-view+json": {
       "model_id": "c9bf5288243e459b8540bd9d773a3dd7",
       "version_major": 2,
       "version_minor": 0
      },
      "text/plain": [
       "  0%|          | 0/65 [00:00<?, ?it/s]"
      ]
     },
     "metadata": {},
     "output_type": "display_data"
    },
    {
     "name": "stdout",
     "output_type": "stream",
     "text": [
      "Loss → Total: 0.6261, Regression: 0.0092, Classification: 0.6169\n",
      "SM_0 → RMSE: 7.87517947, MAE: 6.11721516, ME: -0.05346537\n",
      "SM_20 → RMSE: 8.06411230, MAE: 6.26720381, ME: 0.96727675\n",
      "Classification → Accuracy: 0.86096257, F1-score: 0.85893669\n",
      "Epoch 24/60\n"
     ]
    },
    {
     "data": {
      "application/vnd.jupyter.widget-view+json": {
       "model_id": "b663bd87e80e4ccdbc082e333482e453",
       "version_major": 2,
       "version_minor": 0
      },
      "text/plain": [
       "  0%|          | 0/65 [00:00<?, ?it/s]"
      ]
     },
     "metadata": {},
     "output_type": "display_data"
    },
    {
     "name": "stdout",
     "output_type": "stream",
     "text": [
      "Loss → Total: 0.6580, Regression: 0.0095, Classification: 0.6484\n",
      "SM_0 → RMSE: 7.99603960, MAE: 6.12975264, ME: 2.34263921\n",
      "SM_20 → RMSE: 7.84752646, MAE: 6.10242939, ME: 2.04047179\n",
      "Classification → Accuracy: 0.86825474, F1-score: 0.86614952\n",
      "Epoch 25/60\n"
     ]
    },
    {
     "data": {
      "application/vnd.jupyter.widget-view+json": {
       "model_id": "d2b1f28a475a42bdbc01b9c745618e97",
       "version_major": 2,
       "version_minor": 0
      },
      "text/plain": [
       "  0%|          | 0/65 [00:00<?, ?it/s]"
      ]
     },
     "metadata": {},
     "output_type": "display_data"
    },
    {
     "name": "stdout",
     "output_type": "stream",
     "text": [
      "Loss → Total: 0.5906, Regression: 0.0086, Classification: 0.5820\n",
      "SM_0 → RMSE: 7.34746389, MAE: 5.60918617, ME: 1.05432618\n",
      "SM_20 → RMSE: 7.35250631, MAE: 5.66655970, ME: 0.81249148\n",
      "Classification → Accuracy: 0.85755955, F1-score: 0.85774060\n",
      "Epoch 26/60\n"
     ]
    },
    {
     "data": {
      "application/vnd.jupyter.widget-view+json": {
       "model_id": "392b521359f64435845acada5dffa9fd",
       "version_major": 2,
       "version_minor": 0
      },
      "text/plain": [
       "  0%|          | 0/65 [00:00<?, ?it/s]"
      ]
     },
     "metadata": {},
     "output_type": "display_data"
    },
    {
     "name": "stdout",
     "output_type": "stream",
     "text": [
      "Loss → Total: 0.5706, Regression: 0.0081, Classification: 0.5625\n",
      "SM_0 → RMSE: 6.88086159, MAE: 5.25954771, ME: -0.50208986\n",
      "SM_20 → RMSE: 6.93186846, MAE: 5.32414818, ME: -0.19712609\n",
      "Classification → Accuracy: 0.88867282, F1-score: 0.88863260\n",
      "Epoch 27/60\n"
     ]
    },
    {
     "data": {
      "application/vnd.jupyter.widget-view+json": {
       "model_id": "266cc05e183c4fd8b61690064a991128",
       "version_major": 2,
       "version_minor": 0
      },
      "text/plain": [
       "  0%|          | 0/65 [00:00<?, ?it/s]"
      ]
     },
     "metadata": {},
     "output_type": "display_data"
    },
    {
     "name": "stdout",
     "output_type": "stream",
     "text": [
      "Loss → Total: 0.5990, Regression: 0.0089, Classification: 0.5900\n",
      "SM_0 → RMSE: 7.20128736, MAE: 5.62099218, ME: 0.28931651\n",
      "SM_20 → RMSE: 8.09413882, MAE: 6.39627743, ME: 0.47916359\n",
      "Classification → Accuracy: 0.89013126, F1-score: 0.89015994\n",
      "Epoch 28/60\n"
     ]
    },
    {
     "data": {
      "application/vnd.jupyter.widget-view+json": {
       "model_id": "d0aece182de84a11bdae2d1c0e1d5fec",
       "version_major": 2,
       "version_minor": 0
      },
      "text/plain": [
       "  0%|          | 0/65 [00:00<?, ?it/s]"
      ]
     },
     "metadata": {},
     "output_type": "display_data"
    },
    {
     "name": "stdout",
     "output_type": "stream",
     "text": [
      "Loss → Total: 0.5821, Regression: 0.0083, Classification: 0.5737\n",
      "SM_0 → RMSE: 7.68945858, MAE: 5.97276402, ME: -0.55761236\n",
      "SM_20 → RMSE: 7.66232644, MAE: 5.97531462, ME: -0.35735679\n",
      "Classification → Accuracy: 0.88964511, F1-score: 0.88893454\n",
      "Epoch 29/60\n"
     ]
    },
    {
     "data": {
      "application/vnd.jupyter.widget-view+json": {
       "model_id": "24f921e95ece4094a1fbac946f072c6c",
       "version_major": 2,
       "version_minor": 0
      },
      "text/plain": [
       "  0%|          | 0/65 [00:00<?, ?it/s]"
      ]
     },
     "metadata": {},
     "output_type": "display_data"
    },
    {
     "name": "stdout",
     "output_type": "stream",
     "text": [
      "Loss → Total: 0.6009, Regression: 0.0101, Classification: 0.5908\n",
      "SM_0 → RMSE: 7.31122780, MAE: 5.63834095, ME: 1.82241237\n",
      "SM_20 → RMSE: 7.24798924, MAE: 5.69140434, ME: 1.20352447\n",
      "Classification → Accuracy: 0.90034030, F1-score: 0.89980931\n",
      "Epoch 30/60\n"
     ]
    },
    {
     "data": {
      "application/vnd.jupyter.widget-view+json": {
       "model_id": "0e27e59c78c84299b792cc94ea5d4887",
       "version_major": 2,
       "version_minor": 0
      },
      "text/plain": [
       "  0%|          | 0/65 [00:00<?, ?it/s]"
      ]
     },
     "metadata": {},
     "output_type": "display_data"
    },
    {
     "name": "stdout",
     "output_type": "stream",
     "text": [
      "Loss → Total: 0.6012, Regression: 0.0092, Classification: 0.5920\n",
      "SM_0 → RMSE: 7.67352339, MAE: 5.91814899, ME: -1.41988862\n",
      "SM_20 → RMSE: 7.32102587, MAE: 5.62860632, ME: -0.17882039\n",
      "Classification → Accuracy: 0.87603306, F1-score: 0.87618191\n",
      "Epoch 31/60\n"
     ]
    },
    {
     "data": {
      "application/vnd.jupyter.widget-view+json": {
       "model_id": "b361c18113034f3abc0bbededcf6c815",
       "version_major": 2,
       "version_minor": 0
      },
      "text/plain": [
       "  0%|          | 0/65 [00:00<?, ?it/s]"
      ]
     },
     "metadata": {},
     "output_type": "display_data"
    },
    {
     "name": "stdout",
     "output_type": "stream",
     "text": [
      "Loss → Total: 0.5190, Regression: 0.0088, Classification: 0.5102\n",
      "SM_0 → RMSE: 6.71336028, MAE: 5.07944584, ME: -0.70489740\n",
      "SM_20 → RMSE: 6.75868317, MAE: 5.15002680, ME: -0.87355036\n",
      "Classification → Accuracy: 0.91249392, F1-score: 0.91354732\n",
      "Epoch 32/60\n"
     ]
    },
    {
     "data": {
      "application/vnd.jupyter.widget-view+json": {
       "model_id": "16a668e8f1624b39b711f50843a2b352",
       "version_major": 2,
       "version_minor": 0
      },
      "text/plain": [
       "  0%|          | 0/65 [00:00<?, ?it/s]"
      ]
     },
     "metadata": {},
     "output_type": "display_data"
    },
    {
     "name": "stdout",
     "output_type": "stream",
     "text": [
      "Loss → Total: 0.5219, Regression: 0.0078, Classification: 0.5141\n",
      "SM_0 → RMSE: 7.74752620, MAE: 5.90989399, ME: 0.81643021\n",
      "SM_20 → RMSE: 7.31978381, MAE: 5.51943922, ME: 0.53796613\n",
      "Classification → Accuracy: 0.90909091, F1-score: 0.90958491\n",
      "Epoch 33/60\n"
     ]
    },
    {
     "data": {
      "application/vnd.jupyter.widget-view+json": {
       "model_id": "3d8de30dc18a4315b309f6a83b7beef7",
       "version_major": 2,
       "version_minor": 0
      },
      "text/plain": [
       "  0%|          | 0/65 [00:00<?, ?it/s]"
      ]
     },
     "metadata": {},
     "output_type": "display_data"
    },
    {
     "name": "stdout",
     "output_type": "stream",
     "text": [
      "Loss → Total: 0.4871, Regression: 0.0080, Classification: 0.4791\n",
      "SM_0 → RMSE: 7.14532677, MAE: 5.51142454, ME: 1.79939163\n",
      "SM_20 → RMSE: 7.50716846, MAE: 5.72724676, ME: 1.24883521\n",
      "Classification → Accuracy: 0.92270297, F1-score: 0.92321544\n",
      "Epoch 34/60\n"
     ]
    },
    {
     "data": {
      "application/vnd.jupyter.widget-view+json": {
       "model_id": "9ea3ffa9a65448f9ae5e1bff642a98f6",
       "version_major": 2,
       "version_minor": 0
      },
      "text/plain": [
       "  0%|          | 0/65 [00:00<?, ?it/s]"
      ]
     },
     "metadata": {},
     "output_type": "display_data"
    },
    {
     "name": "stdout",
     "output_type": "stream",
     "text": [
      "Loss → Total: 0.5225, Regression: 0.0079, Classification: 0.5146\n",
      "SM_0 → RMSE: 7.25175876, MAE: 5.58487701, ME: 0.35347506\n",
      "SM_20 → RMSE: 6.88275902, MAE: 5.26792955, ME: 1.19727921\n",
      "Classification → Accuracy: 0.90617404, F1-score: 0.90696536\n",
      "Epoch 35/60\n"
     ]
    },
    {
     "data": {
      "application/vnd.jupyter.widget-view+json": {
       "model_id": "cc5e40e16a364a1e96473f996d6f8675",
       "version_major": 2,
       "version_minor": 0
      },
      "text/plain": [
       "  0%|          | 0/65 [00:00<?, ?it/s]"
      ]
     },
     "metadata": {},
     "output_type": "display_data"
    },
    {
     "name": "stdout",
     "output_type": "stream",
     "text": [
      "Loss → Total: 0.5335, Regression: 0.0095, Classification: 0.5240\n",
      "SM_0 → RMSE: 7.65307850, MAE: 5.79356337, ME: 3.07499218\n",
      "SM_20 → RMSE: 7.21100442, MAE: 5.61527634, ME: 2.73224711\n",
      "Classification → Accuracy: 0.90811862, F1-score: 0.90879034\n",
      "Epoch 36/60\n"
     ]
    },
    {
     "data": {
      "application/vnd.jupyter.widget-view+json": {
       "model_id": "e2e61d9343004b739683c6c8b3e21129",
       "version_major": 2,
       "version_minor": 0
      },
      "text/plain": [
       "  0%|          | 0/65 [00:00<?, ?it/s]"
      ]
     },
     "metadata": {},
     "output_type": "display_data"
    },
    {
     "name": "stdout",
     "output_type": "stream",
     "text": [
      "Loss → Total: 0.4766, Regression: 0.0078, Classification: 0.4688\n",
      "SM_0 → RMSE: 6.83778686, MAE: 5.23468542, ME: 0.02747931\n",
      "SM_20 → RMSE: 6.88657445, MAE: 5.28070498, ME: 0.81179857\n",
      "Classification → Accuracy: 0.92221682, F1-score: 0.92262908\n",
      "Epoch 37/60\n"
     ]
    },
    {
     "data": {
      "application/vnd.jupyter.widget-view+json": {
       "model_id": "2eba4466839c49d29e6d33f5d7e2c773",
       "version_major": 2,
       "version_minor": 0
      },
      "text/plain": [
       "  0%|          | 0/65 [00:00<?, ?it/s]"
      ]
     },
     "metadata": {},
     "output_type": "display_data"
    },
    {
     "name": "stdout",
     "output_type": "stream",
     "text": [
      "Loss → Total: 0.4586, Regression: 0.0075, Classification: 0.4511\n",
      "SM_0 → RMSE: 6.86532661, MAE: 5.22040749, ME: -0.98320645\n",
      "SM_20 → RMSE: 7.23697914, MAE: 5.55496931, ME: -1.24342418\n",
      "Classification → Accuracy: 0.91589694, F1-score: 0.91572005\n",
      "Epoch 38/60\n"
     ]
    },
    {
     "data": {
      "application/vnd.jupyter.widget-view+json": {
       "model_id": "e4bee27dbb1f4eef91d866e177bc1fa1",
       "version_major": 2,
       "version_minor": 0
      },
      "text/plain": [
       "  0%|          | 0/65 [00:00<?, ?it/s]"
      ]
     },
     "metadata": {},
     "output_type": "display_data"
    },
    {
     "name": "stdout",
     "output_type": "stream",
     "text": [
      "Loss → Total: 0.4916, Regression: 0.0079, Classification: 0.4837\n",
      "SM_0 → RMSE: 6.50499739, MAE: 5.06315994, ME: -0.23050357\n",
      "SM_20 → RMSE: 6.41289819, MAE: 4.95263767, ME: 0.53586578\n",
      "Classification → Accuracy: 0.91735537, F1-score: 0.91796953\n",
      "Epoch 39/60\n"
     ]
    },
    {
     "data": {
      "application/vnd.jupyter.widget-view+json": {
       "model_id": "7887c44583244df9aa56426bc2b4ff82",
       "version_major": 2,
       "version_minor": 0
      },
      "text/plain": [
       "  0%|          | 0/65 [00:00<?, ?it/s]"
      ]
     },
     "metadata": {},
     "output_type": "display_data"
    },
    {
     "name": "stdout",
     "output_type": "stream",
     "text": [
      "Loss → Total: 0.4218, Regression: 0.0073, Classification: 0.4146\n",
      "SM_0 → RMSE: 7.04159585, MAE: 5.40664577, ME: -0.47608235\n",
      "SM_20 → RMSE: 6.43566009, MAE: 4.94366026, ME: 1.45844197\n",
      "Classification → Accuracy: 0.92853670, F1-score: 0.92904034\n",
      "Epoch 40/60\n"
     ]
    },
    {
     "data": {
      "application/vnd.jupyter.widget-view+json": {
       "model_id": "49d5d636f32b408fa5aac30d2bc7c1aa",
       "version_major": 2,
       "version_minor": 0
      },
      "text/plain": [
       "  0%|          | 0/65 [00:00<?, ?it/s]"
      ]
     },
     "metadata": {},
     "output_type": "display_data"
    },
    {
     "name": "stdout",
     "output_type": "stream",
     "text": [
      "Loss → Total: 0.4815, Regression: 0.0083, Classification: 0.4732\n",
      "SM_0 → RMSE: 8.43096128, MAE: 6.26065588, ME: 1.71492660\n",
      "SM_20 → RMSE: 7.50634192, MAE: 5.68591547, ME: 0.95821673\n",
      "Classification → Accuracy: 0.91832766, F1-score: 0.91943789\n",
      "Epoch 41/60\n"
     ]
    },
    {
     "data": {
      "application/vnd.jupyter.widget-view+json": {
       "model_id": "591fd82e07334b508acf735b99f81cfc",
       "version_major": 2,
       "version_minor": 0
      },
      "text/plain": [
       "  0%|          | 0/65 [00:00<?, ?it/s]"
      ]
     },
     "metadata": {},
     "output_type": "display_data"
    },
    {
     "name": "stdout",
     "output_type": "stream",
     "text": [
      "Loss → Total: 0.4561, Regression: 0.0074, Classification: 0.4487\n",
      "SM_0 → RMSE: 6.29987727, MAE: 4.74712801, ME: 1.38727283\n",
      "SM_20 → RMSE: 6.60570321, MAE: 4.97939301, ME: 2.12714791\n",
      "Classification → Accuracy: 0.93388430, F1-score: 0.93427246\n",
      "Epoch 42/60\n"
     ]
    },
    {
     "data": {
      "application/vnd.jupyter.widget-view+json": {
       "model_id": "f719de1e948b49858e32e5ffd5d090c9",
       "version_major": 2,
       "version_minor": 0
      },
      "text/plain": [
       "  0%|          | 0/65 [00:00<?, ?it/s]"
      ]
     },
     "metadata": {},
     "output_type": "display_data"
    },
    {
     "name": "stdout",
     "output_type": "stream",
     "text": [
      "Loss → Total: 0.4457, Regression: 0.0074, Classification: 0.4383\n",
      "SM_0 → RMSE: 6.40332649, MAE: 4.91874552, ME: -0.65820998\n",
      "SM_20 → RMSE: 6.63764582, MAE: 5.16765261, ME: -0.62013710\n",
      "Classification → Accuracy: 0.92853670, F1-score: 0.92909372\n",
      "Epoch 43/60\n"
     ]
    },
    {
     "data": {
      "application/vnd.jupyter.widget-view+json": {
       "model_id": "95eff2cd5aa2427ba33c5e90ef119488",
       "version_major": 2,
       "version_minor": 0
      },
      "text/plain": [
       "  0%|          | 0/65 [00:00<?, ?it/s]"
      ]
     },
     "metadata": {},
     "output_type": "display_data"
    },
    {
     "name": "stdout",
     "output_type": "stream",
     "text": [
      "Loss → Total: 0.3954, Regression: 0.0066, Classification: 0.3888\n",
      "SM_0 → RMSE: 6.52187920, MAE: 4.98897743, ME: 1.74879503\n",
      "SM_20 → RMSE: 6.61087921, MAE: 5.11427355, ME: 1.70235097\n",
      "Classification → Accuracy: 0.92756441, F1-score: 0.92781424\n",
      "Epoch 44/60\n"
     ]
    },
    {
     "data": {
      "application/vnd.jupyter.widget-view+json": {
       "model_id": "812e544e54bb4fdd8d9df55b8dc33a48",
       "version_major": 2,
       "version_minor": 0
      },
      "text/plain": [
       "  0%|          | 0/65 [00:00<?, ?it/s]"
      ]
     },
     "metadata": {},
     "output_type": "display_data"
    },
    {
     "name": "stdout",
     "output_type": "stream",
     "text": [
      "Loss → Total: 0.4465, Regression: 0.0073, Classification: 0.4392\n",
      "SM_0 → RMSE: 6.83167613, MAE: 5.29503870, ME: 0.42409378\n",
      "SM_20 → RMSE: 6.93120392, MAE: 5.38516045, ME: -0.09764996\n",
      "Classification → Accuracy: 0.93145357, F1-score: 0.93161034\n",
      "Epoch 45/60\n"
     ]
    },
    {
     "data": {
      "application/vnd.jupyter.widget-view+json": {
       "model_id": "18d0d130e53d433f929763ef1654e9a2",
       "version_major": 2,
       "version_minor": 0
      },
      "text/plain": [
       "  0%|          | 0/65 [00:00<?, ?it/s]"
      ]
     },
     "metadata": {},
     "output_type": "display_data"
    },
    {
     "name": "stdout",
     "output_type": "stream",
     "text": [
      "Loss → Total: 0.3797, Regression: 0.0063, Classification: 0.3733\n",
      "SM_0 → RMSE: 6.30454924, MAE: 4.76599646, ME: 0.69991297\n",
      "SM_20 → RMSE: 6.46629014, MAE: 4.90707350, ME: 1.31602693\n",
      "Classification → Accuracy: 0.93680117, F1-score: 0.93701621\n",
      "Epoch 46/60\n"
     ]
    },
    {
     "data": {
      "application/vnd.jupyter.widget-view+json": {
       "model_id": "2a13388bb1774bd59a14ceed2bccbf74",
       "version_major": 2,
       "version_minor": 0
      },
      "text/plain": [
       "  0%|          | 0/65 [00:00<?, ?it/s]"
      ]
     },
     "metadata": {},
     "output_type": "display_data"
    },
    {
     "name": "stdout",
     "output_type": "stream",
     "text": [
      "Loss → Total: 0.3798, Regression: 0.0062, Classification: 0.3736\n",
      "SM_0 → RMSE: 6.20309948, MAE: 4.83750820, ME: 1.26182652\n",
      "SM_20 → RMSE: 6.22477821, MAE: 4.78802013, ME: 1.48793495\n",
      "Classification → Accuracy: 0.94117647, F1-score: 0.94105056\n",
      "Epoch 47/60\n"
     ]
    },
    {
     "data": {
      "application/vnd.jupyter.widget-view+json": {
       "model_id": "23773433e8df427bb33ff380c58cfc74",
       "version_major": 2,
       "version_minor": 0
      },
      "text/plain": [
       "  0%|          | 0/65 [00:00<?, ?it/s]"
      ]
     },
     "metadata": {},
     "output_type": "display_data"
    },
    {
     "name": "stdout",
     "output_type": "stream",
     "text": [
      "Loss → Total: 0.4380, Regression: 0.0076, Classification: 0.4304\n",
      "SM_0 → RMSE: 7.20751872, MAE: 5.41782045, ME: -1.44766974\n",
      "SM_20 → RMSE: 8.03230059, MAE: 6.09902430, ME: -1.31482875\n",
      "Classification → Accuracy: 0.93145357, F1-score: 0.93189695\n",
      "Epoch 48/60\n"
     ]
    },
    {
     "data": {
      "application/vnd.jupyter.widget-view+json": {
       "model_id": "f1a7d150f59b41dbbdac666740f8d0ab",
       "version_major": 2,
       "version_minor": 0
      },
      "text/plain": [
       "  0%|          | 0/65 [00:00<?, ?it/s]"
      ]
     },
     "metadata": {},
     "output_type": "display_data"
    },
    {
     "name": "stdout",
     "output_type": "stream",
     "text": [
      "Loss → Total: 0.3699, Regression: 0.0066, Classification: 0.3633\n",
      "SM_0 → RMSE: 6.14802862, MAE: 4.73979187, ME: -0.94134146\n",
      "SM_20 → RMSE: 6.11843458, MAE: 4.72778320, ME: 0.00440677\n",
      "Classification → Accuracy: 0.93874575, F1-score: 0.93925287\n",
      "Epoch 49/60\n"
     ]
    },
    {
     "data": {
      "application/vnd.jupyter.widget-view+json": {
       "model_id": "cb23a06bedb144649c52298caaaa5938",
       "version_major": 2,
       "version_minor": 0
      },
      "text/plain": [
       "  0%|          | 0/65 [00:00<?, ?it/s]"
      ]
     },
     "metadata": {},
     "output_type": "display_data"
    },
    {
     "name": "stdout",
     "output_type": "stream",
     "text": [
      "Loss → Total: 0.3694, Regression: 0.0065, Classification: 0.3629\n",
      "SM_0 → RMSE: 7.16114154, MAE: 5.43332815, ME: -1.62565470\n",
      "SM_20 → RMSE: 6.63106734, MAE: 5.14627743, ME: -1.18840468\n",
      "Classification → Accuracy: 0.93242586, F1-score: 0.93272476\n",
      "Epoch 50/60\n"
     ]
    },
    {
     "data": {
      "application/vnd.jupyter.widget-view+json": {
       "model_id": "feed064095974fecae8330052caf07fc",
       "version_major": 2,
       "version_minor": 0
      },
      "text/plain": [
       "  0%|          | 0/65 [00:00<?, ?it/s]"
      ]
     },
     "metadata": {},
     "output_type": "display_data"
    },
    {
     "name": "stdout",
     "output_type": "stream",
     "text": [
      "Loss → Total: 0.3513, Regression: 0.0061, Classification: 0.3452\n",
      "SM_0 → RMSE: 6.17426341, MAE: 4.74417305, ME: 1.19376445\n",
      "SM_20 → RMSE: 6.11452632, MAE: 4.75140429, ME: 0.81608498\n",
      "Classification → Accuracy: 0.94992708, F1-score: 0.95019971\n",
      "Epoch 51/60\n"
     ]
    },
    {
     "data": {
      "application/vnd.jupyter.widget-view+json": {
       "model_id": "6915727bc38144faa261aee1971f8141",
       "version_major": 2,
       "version_minor": 0
      },
      "text/plain": [
       "  0%|          | 0/65 [00:00<?, ?it/s]"
      ]
     },
     "metadata": {},
     "output_type": "display_data"
    },
    {
     "name": "stdout",
     "output_type": "stream",
     "text": [
      "Loss → Total: 0.3469, Regression: 0.0061, Classification: 0.3408\n",
      "SM_0 → RMSE: 6.22560486, MAE: 4.68634081, ME: 0.81067824\n",
      "SM_20 → RMSE: 6.19356571, MAE: 4.69469929, ME: 0.76978403\n",
      "Classification → Accuracy: 0.93825960, F1-score: 0.93869274\n",
      "Epoch 52/60\n"
     ]
    },
    {
     "data": {
      "application/vnd.jupyter.widget-view+json": {
       "model_id": "455a5f8089c44f7cb8fc7be1c5b58f9b",
       "version_major": 2,
       "version_minor": 0
      },
      "text/plain": [
       "  0%|          | 0/65 [00:00<?, ?it/s]"
      ]
     },
     "metadata": {},
     "output_type": "display_data"
    },
    {
     "name": "stdout",
     "output_type": "stream",
     "text": [
      "Loss → Total: 0.3501, Regression: 0.0062, Classification: 0.3439\n",
      "SM_0 → RMSE: 6.53172892, MAE: 5.02396631, ME: -0.71710151\n",
      "SM_20 → RMSE: 6.67863661, MAE: 5.21136999, ME: -0.87601906\n",
      "Classification → Accuracy: 0.94555177, F1-score: 0.94566026\n",
      "Epoch 53/60\n"
     ]
    },
    {
     "data": {
      "application/vnd.jupyter.widget-view+json": {
       "model_id": "f0bb98aa4b2c4c04a4f96e0e8edf8545",
       "version_major": 2,
       "version_minor": 0
      },
      "text/plain": [
       "  0%|          | 0/65 [00:00<?, ?it/s]"
      ]
     },
     "metadata": {},
     "output_type": "display_data"
    },
    {
     "name": "stdout",
     "output_type": "stream",
     "text": [
      "Loss → Total: 0.3619, Regression: 0.0069, Classification: 0.3550\n",
      "SM_0 → RMSE: 6.48804813, MAE: 4.98519135, ME: 1.08763075\n",
      "SM_20 → RMSE: 6.41811348, MAE: 5.01542997, ME: 0.86270237\n",
      "Classification → Accuracy: 0.94603792, F1-score: 0.94613250\n",
      "Epoch 54/60\n"
     ]
    },
    {
     "data": {
      "application/vnd.jupyter.widget-view+json": {
       "model_id": "72f68586d6504de194d74ca8b890ff20",
       "version_major": 2,
       "version_minor": 0
      },
      "text/plain": [
       "  0%|          | 0/65 [00:00<?, ?it/s]"
      ]
     },
     "metadata": {},
     "output_type": "display_data"
    },
    {
     "name": "stdout",
     "output_type": "stream",
     "text": [
      "Loss → Total: 0.3267, Regression: 0.0064, Classification: 0.3203\n",
      "SM_0 → RMSE: 5.88288966, MAE: 4.46908283, ME: -0.95710886\n",
      "SM_20 → RMSE: 6.05610083, MAE: 4.69020700, ME: -0.84713531\n",
      "Classification → Accuracy: 0.93096743, F1-score: 0.93176438\n",
      "Epoch 55/60\n"
     ]
    },
    {
     "data": {
      "application/vnd.jupyter.widget-view+json": {
       "model_id": "9be6b04b9d154542a6035d404f73f16d",
       "version_major": 2,
       "version_minor": 0
      },
      "text/plain": [
       "  0%|          | 0/65 [00:00<?, ?it/s]"
      ]
     },
     "metadata": {},
     "output_type": "display_data"
    },
    {
     "name": "stdout",
     "output_type": "stream",
     "text": [
      "Loss → Total: 0.3271, Regression: 0.0064, Classification: 0.3207\n",
      "SM_0 → RMSE: 6.46770347, MAE: 4.97401953, ME: 0.43344527\n",
      "SM_20 → RMSE: 6.82451138, MAE: 5.26460886, ME: -0.23458220\n",
      "Classification → Accuracy: 0.94506563, F1-score: 0.94595076\n",
      "Epoch 56/60\n"
     ]
    },
    {
     "data": {
      "application/vnd.jupyter.widget-view+json": {
       "model_id": "77dc2189c0e1435aaa610c5c6b6cdcc6",
       "version_major": 2,
       "version_minor": 0
      },
      "text/plain": [
       "  0%|          | 0/65 [00:00<?, ?it/s]"
      ]
     },
     "metadata": {},
     "output_type": "display_data"
    },
    {
     "name": "stdout",
     "output_type": "stream",
     "text": [
      "Loss → Total: 0.3531, Regression: 0.0059, Classification: 0.3471\n",
      "SM_0 → RMSE: 6.19727086, MAE: 4.72736406, ME: 1.06130266\n",
      "SM_20 → RMSE: 6.37370437, MAE: 4.96710873, ME: 0.47401974\n",
      "Classification → Accuracy: 0.94409334, F1-score: 0.94445650\n",
      "Epoch 57/60\n"
     ]
    },
    {
     "data": {
      "application/vnd.jupyter.widget-view+json": {
       "model_id": "0a6874d54c8b4d818a695eaffa802395",
       "version_major": 2,
       "version_minor": 0
      },
      "text/plain": [
       "  0%|          | 0/65 [00:00<?, ?it/s]"
      ]
     },
     "metadata": {},
     "output_type": "display_data"
    },
    {
     "name": "stdout",
     "output_type": "stream",
     "text": [
      "Loss → Total: 0.3308, Regression: 0.0058, Classification: 0.3250\n",
      "SM_0 → RMSE: 6.54639107, MAE: 4.92024469, ME: 0.25178915\n",
      "SM_20 → RMSE: 6.47286606, MAE: 4.92867327, ME: -0.12192256\n",
      "Classification → Accuracy: 0.93728731, F1-score: 0.93809620\n",
      "Epoch 58/60\n"
     ]
    },
    {
     "data": {
      "application/vnd.jupyter.widget-view+json": {
       "model_id": "9ee777c471654de68701cbb42a052420",
       "version_major": 2,
       "version_minor": 0
      },
      "text/plain": [
       "  0%|          | 0/65 [00:00<?, ?it/s]"
      ]
     },
     "metadata": {},
     "output_type": "display_data"
    },
    {
     "name": "stdout",
     "output_type": "stream",
     "text": [
      "Loss → Total: 0.3665, Regression: 0.0070, Classification: 0.3595\n",
      "SM_0 → RMSE: 6.15960137, MAE: 4.69387770, ME: -0.83906549\n",
      "SM_20 → RMSE: 6.24867845, MAE: 4.78619480, ME: -0.48117900\n",
      "Classification → Accuracy: 0.93096743, F1-score: 0.93096053\n",
      "Epoch 59/60\n"
     ]
    },
    {
     "data": {
      "application/vnd.jupyter.widget-view+json": {
       "model_id": "f00cc7de3bdb4675888f6ca5651c7266",
       "version_major": 2,
       "version_minor": 0
      },
      "text/plain": [
       "  0%|          | 0/65 [00:00<?, ?it/s]"
      ]
     },
     "metadata": {},
     "output_type": "display_data"
    },
    {
     "name": "stdout",
     "output_type": "stream",
     "text": [
      "Loss → Total: 0.3445, Regression: 0.0061, Classification: 0.3383\n",
      "SM_0 → RMSE: 6.61758440, MAE: 4.99364901, ME: -0.63139349\n",
      "SM_20 → RMSE: 6.60853604, MAE: 5.02780962, ME: 0.00401255\n",
      "Classification → Accuracy: 0.93388430, F1-score: 0.93474477\n",
      "Epoch 60/60\n"
     ]
    },
    {
     "data": {
      "application/vnd.jupyter.widget-view+json": {
       "model_id": "d4ab3b29e3e94af7b0a2fab457685496",
       "version_major": 2,
       "version_minor": 0
      },
      "text/plain": [
       "  0%|          | 0/65 [00:00<?, ?it/s]"
      ]
     },
     "metadata": {},
     "output_type": "display_data"
    },
    {
     "name": "stdout",
     "output_type": "stream",
     "text": [
      "Loss → Total: 0.3210, Regression: 0.0063, Classification: 0.3147\n",
      "SM_0 → RMSE: 5.82958573, MAE: 4.45645857, ME: -0.24512710\n",
      "SM_20 → RMSE: 5.81561360, MAE: 4.45146656, ME: -0.09166329\n",
      "Classification → Accuracy: 0.95381624, F1-score: 0.95382641\n"
     ]
    }
   ],
   "source": [
    "import torch\n",
    "import torch.nn as nn\n",
    "import pandas as pd\n",
    "import numpy as np\n",
    "from torch.utils.data import Dataset, DataLoader\n",
    "from torchvision import transforms\n",
    "from PIL import Image\n",
    "from sklearn.metrics import mean_squared_error, mean_absolute_error, accuracy_score, f1_score\n",
    "from tqdm.notebook import tqdm\n",
    "import timm\n",
    "import os\n",
    "import random\n",
    "\n",
    "device = torch.device(\"cuda\" if torch.cuda.is_available() else \"cpu\")\n",
    "print(f\"Using device: {device}\")\n",
    "print(f\"PyTorch version: {torch.__version__}\")\n",
    "\n",
    "df = pd.read_csv(r\"F:\\Soil_Labeled_Data\\labels.csv\")\n",
    "print(f\"Total labeled images before check: {len(df)}\")\n",
    "\n",
    "required_columns = ['path', 'SM_0', 'SM_20', 'light_value', 'moisture_class']\n",
    "missing_columns = [col for col in required_columns if col not in df.columns]\n",
    "if missing_columns:\n",
    "    raise ValueError(f\"DataFrame missing columns: {missing_columns}\")\n",
    "\n",
    "fallback_dir = r\"F:\\Soil_Labeled_Data\\augmented_fallback\"\n",
    "os.makedirs(fallback_dir, exist_ok=True)\n",
    "replaced_count = 0\n",
    "augment = transforms.ColorJitter(brightness=0.2, contrast=0.2)\n",
    "\n",
    "for idx, row in tqdm(df.iterrows(), total=len(df)):\n",
    "    path = row[\"path\"]\n",
    "    try:\n",
    "        img = Image.open(path).convert(\"RGB\")\n",
    "        img.verify()\n",
    "    except:\n",
    "        print(f\"Image error: {path}\")\n",
    "        folder = os.path.dirname(path)\n",
    "        all_images = [f for f in os.listdir(folder) if f.lower().endswith((\".jpg\", \".png\"))]\n",
    "        good_images = [f for f in all_images if f != os.path.basename(path)]\n",
    "        if not good_images:\n",
    "            print(f\"No replacement images in: {folder}\")\n",
    "            continue\n",
    "        candidate = random.choice(good_images)\n",
    "        candidate_path = os.path.join(folder, candidate)\n",
    "        try:\n",
    "            img = Image.open(candidate_path).convert(\"RGB\")\n",
    "            img_aug = augment(img)\n",
    "            new_filename = f\"aug_{os.path.basename(path)}\"\n",
    "            new_path = os.path.join(fallback_dir, new_filename)\n",
    "            img_aug.save(new_path)\n",
    "            df.at[idx, \"path\"] = new_path\n",
    "            replaced_count += 1\n",
    "            print(f\"Replaced with: {new_path}\")\n",
    "        except:\n",
    "            print(f\"Replacement image error: {candidate_path}\")\n",
    "            continue\n",
    "print(f\"Replaced {replaced_count} invalid images with augmented versions.\")\n",
    "\n",
    "transform = transforms.Compose([\n",
    "    transforms.Resize((224, 224)),\n",
    "    transforms.ToTensor(),\n",
    "    transforms.Normalize(mean=[0.485, 0.456, 0.406], std=[0.229, 0.224, 0.225])\n",
    "])\n",
    "\n",
    "class SoilDualTaskDataset(Dataset):\n",
    "    def __init__(self, dataframe, transform=None):\n",
    "        self.df = dataframe\n",
    "        self.transform = transform\n",
    "\n",
    "    def __len__(self):\n",
    "        return len(self.df)\n",
    "\n",
    "    def __getitem__(self, idx):\n",
    "        row = self.df.iloc[idx]\n",
    "        img = Image.open(row[\"path\"]).convert(\"RGB\")\n",
    "        if self.transform:\n",
    "            img = self.transform(img)\n",
    "        light = torch.tensor([row[\"light_value\"] / 100.0], dtype=torch.float32)\n",
    "        regression_target = torch.tensor([row[\"SM_0\"] / 100.0, row[\"SM_20\"] / 100.0], dtype=torch.float32)\n",
    "        class_target = torch.tensor(row[\"moisture_class\"], dtype=torch.long)\n",
    "        return {\n",
    "            \"image\": img,\n",
    "            \"light\": light,\n",
    "            \"regression_target\": regression_target,\n",
    "            \"class_target\": class_target\n",
    "        }\n",
    "\n",
    "class SoilNetDualHead(nn.Module):\n",
    "    def __init__(self, num_classes=10):\n",
    "        super().__init__()\n",
    "        self.initial_conv = nn.Conv2d(3, 32, kernel_size=3, stride=1, padding=1)\n",
    "        self.mnv2_block1 = nn.Sequential(*list(\n",
    "            timm.create_model(\"mobilenetv2_100.ra_in1k\", pretrained=True).blocks.children())[0:3]\n",
    "        )\n",
    "        self.channel_adapter = nn.Conv2d(32, 16, kernel_size=1, bias=False)\n",
    "        self.mobilevit_full = timm.create_model(\"mobilevitv2_050\", pretrained=True)\n",
    "        self.mobilevit_encoder = self.mobilevit_full.stages\n",
    "        self.mvit_to_mnv2 = nn.Conv2d(256, 32, kernel_size=1, bias=False)\n",
    "        self.mnv2_block2 = nn.Sequential(*list(\n",
    "            timm.create_model(\"mobilenetv2_100.ra_in1k\", pretrained=True).blocks.children())[3:7]\n",
    "        )\n",
    "        self.final_conv = nn.Conv2d(320, 1280, kernel_size=1)\n",
    "        self.pool = nn.AdaptiveAvgPool2d((1, 1))\n",
    "        self.light_dense = nn.Sequential(nn.Linear(1, 32), nn.ReLU(inplace=True))\n",
    "        self.reg_head = nn.Sequential(\n",
    "            nn.Linear(1280 + 32, 128),\n",
    "            nn.ReLU(inplace=True),\n",
    "            nn.Linear(128, 2)\n",
    "        )\n",
    "        self.cls_head = nn.Sequential(\n",
    "            nn.Linear(1280 + 32, 128),\n",
    "            nn.ReLU(inplace=True),\n",
    "            nn.Linear(128, num_classes)\n",
    "        )\n",
    "\n",
    "    def forward(self, x_img, x_light):\n",
    "        x = self.initial_conv(x_img)\n",
    "        x = self.mnv2_block1(x)\n",
    "        x = self.channel_adapter(x)\n",
    "        x = self.mobilevit_encoder(x)\n",
    "        x = self.mvit_to_mnv2(x)\n",
    "        x = self.mnv2_block2(x)\n",
    "        x = self.final_conv(x)\n",
    "        x = self.pool(x)\n",
    "        x_img_feat = torch.flatten(x, 1)\n",
    "        x_light_feat = self.light_dense(x_light)\n",
    "        x_concat = torch.cat([x_img_feat, x_light_feat], dim=1)\n",
    "        reg_out = self.reg_head(x_concat)\n",
    "        cls_out = self.cls_head(x_concat)\n",
    "        return reg_out, cls_out\n",
    "\n",
    "dataset = SoilDualTaskDataset(df, transform)\n",
    "dataloader = DataLoader(dataset, batch_size=32, shuffle=True, pin_memory=True if device.type == \"cuda\" else False, num_workers=0)\n",
    "\n",
    "num_classes = len(df[\"moisture_class\"].unique())\n",
    "model = SoilNetDualHead(num_classes=num_classes).to(device)\n",
    "\n",
    "checkpoint_path = r\"C:\\Users\\PC\\soilNet\\checkpoints_VicReg\\vicreg_model_final_mu_27.0.pth\"\n",
    "try:\n",
    "    checkpoint = torch.load(checkpoint_path, map_location=device, weights_only=False)\n",
    "    if isinstance(checkpoint, dict) and 'model_state_dict' in checkpoint:\n",
    "        model_state_dict = checkpoint['model_state_dict']\n",
    "    else:\n",
    "        model_state_dict = checkpoint\n",
    "    model_dict = model.state_dict()\n",
    "    pretrained_dict = {k: v for k, v in model_state_dict.items() \n",
    "                       if k in model_dict and model_dict[k].shape == v.shape}\n",
    "    temp_model_dict = model_dict.copy()\n",
    "    temp_model_dict.update(pretrained_dict)\n",
    "    missing_keys, unexpected_keys = model.load_state_dict(temp_model_dict, strict=False)\n",
    "    print(f\"Loaded pretrained weights from {checkpoint_path}\")\n",
    "    if missing_keys:\n",
    "        print(f\"Some keys missing in checkpoint and not loaded: {missing_keys}\")\n",
    "    if unexpected_keys:\n",
    "        print(f\"Some keys in checkpoint not in model and ignored: {unexpected_keys}\")\n",
    "except FileNotFoundError:\n",
    "    print(f\"Checkpoint not found: {checkpoint_path}. Using random initialization.\")\n",
    "except Exception as e:\n",
    "    print(f\"Error loading checkpoint: {e}. Using random initialization.\")\n",
    "\n",
    "optimizer = torch.optim.Adam(model.parameters(), lr=1e-4)\n",
    "reg_criterion = nn.MSELoss()\n",
    "cls_criterion = nn.CrossEntropyLoss()\n",
    "\n",
    "num_epochs = 60\n",
    "loss_history = []\n",
    "\n",
    "for epoch in range(num_epochs):\n",
    "    print(f\"Epoch {epoch+1}/{num_epochs}\")\n",
    "    model.train()\n",
    "    total_loss, total_reg_loss, total_cls_loss = 0, 0, 0\n",
    "    for batch in tqdm(dataloader, leave=False):\n",
    "        x_img = batch[\"image\"].to(device)\n",
    "        x_light = batch[\"light\"].to(device)\n",
    "        y_reg = batch[\"regression_target\"].to(device)\n",
    "        y_cls = batch[\"class_target\"].to(device)\n",
    "        optimizer.zero_grad()\n",
    "        pred_reg, pred_cls = model(x_img, x_light)\n",
    "        loss_reg = reg_criterion(pred_reg, y_reg)\n",
    "        loss_cls = cls_criterion(pred_cls, y_cls)\n",
    "        loss = loss_reg + loss_cls\n",
    "        loss.backward()\n",
    "        optimizer.step()\n",
    "        total_loss += loss.item()\n",
    "        total_reg_loss += loss_reg.item()\n",
    "        total_cls_loss += loss_cls.item()\n",
    "    avg_total = total_loss / len(dataloader)\n",
    "    loss_history.append((avg_total, total_reg_loss / len(dataloader), total_cls_loss / len(dataloader)))\n",
    "    print(f\"Loss → Total: {avg_total:.4f}, Regression: {total_reg_loss / len(dataloader):.4f}, Classification: {total_cls_loss / len(dataloader):.4f}\")\n",
    "    model.eval()\n",
    "    y_true_reg, y_pred_reg = [], []\n",
    "    y_true_cls, y_pred_cls = [], []\n",
    "    with torch.no_grad():\n",
    "        for batch in dataloader:\n",
    "            x_img = batch[\"image\"].to(device)\n",
    "            x_light = batch[\"light\"].to(device)\n",
    "            y_reg = batch[\"regression_target\"].to(device)\n",
    "            y_cls = batch[\"class_target\"].to(device)\n",
    "            pred_reg, pred_cls = model(x_img, x_light)\n",
    "            y_true_reg.extend(y_reg.cpu().numpy())\n",
    "            y_pred_reg.extend(pred_reg.cpu().numpy())\n",
    "            y_true_cls.extend(y_cls.cpu().numpy())\n",
    "            y_pred_cls.extend(pred_cls.argmax(dim=1).cpu().numpy())\n",
    "    y_true_reg = np.array(y_true_reg) * 100\n",
    "    y_pred_reg = np.array(y_pred_reg) * 100\n",
    "    metrics = {}\n",
    "    for i, label in enumerate([\"SM_0\", \"SM_20\"]):\n",
    "        metrics[label] = {\n",
    "            \"RMSE\": mean_squared_error(y_true_reg[:, i], y_pred_reg[:, i]) ** 0.5,\n",
    "            \"MAE\": mean_absolute_error(y_true_reg[:, i], y_pred_reg[:, i]),\n",
    "            \"ME\": np.mean(y_pred_reg[:, i] - y_true_reg[:, i]),\n",
    "        }\n",
    "    metrics[\"Classification\"] = {\n",
    "        \"Accuracy\": accuracy_score(y_true_cls, y_pred_cls),\n",
    "        \"F1-score\": f1_score(y_true_cls, y_pred_cls, average=\"weighted\")\n",
    "    }\n",
    "    for label in [\"SM_0\", \"SM_20\"]:\n",
    "        print(f\"{label} → RMSE: {metrics[label]['RMSE']:.8f}, MAE: {metrics[label]['MAE']:.8f}, ME: {metrics[label]['ME']:.8f}\")\n",
    "    print(f\"Classification → Accuracy: {metrics['Classification']['Accuracy']:.8f}, F1-score: {metrics['Classification']['F1-score']:.8f}\")\n",
    "\n",
    "torch.save(model.state_dict(), r\"C:\\Users\\PC\\soilNet\\checkpoints_VicReg\\finetune_mu_27.0.pth\")"
   ]
  }
 ],
 "metadata": {
  "kernelspec": {
   "display_name": "Python 3 (ipykernel)",
   "language": "python",
   "name": "python3"
  },
  "language_info": {
   "codemirror_mode": {
    "name": "ipython",
    "version": 3
   },
   "file_extension": ".py",
   "mimetype": "text/x-python",
   "name": "python",
   "nbconvert_exporter": "python",
   "pygments_lexer": "ipython3",
   "version": "3.10.16"
  }
 },
 "nbformat": 4,
 "nbformat_minor": 5
}
