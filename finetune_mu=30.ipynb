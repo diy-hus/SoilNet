{
 "cells": [
  {
   "cell_type": "code",
   "execution_count": 1,
   "id": "37ffe4d9-53e0-48ad-b3ab-365e1ba12eb8",
   "metadata": {},
   "outputs": [
    {
     "name": "stdout",
     "output_type": "stream",
     "text": [
      "Using device: cuda\n",
      "PyTorch version: 2.6.0+cu118\n",
      "Total labeled images before check: 2057\n"
     ]
    },
    {
     "data": {
      "application/vnd.jupyter.widget-view+json": {
       "model_id": "22d38f392d96429d9cf476ac5675e908",
       "version_major": 2,
       "version_minor": 0
      },
      "text/plain": [
       "  0%|          | 0/2057 [00:00<?, ?it/s]"
      ]
     },
     "metadata": {},
     "output_type": "display_data"
    },
    {
     "name": "stdout",
     "output_type": "stream",
     "text": [
      "Image error: F:\\Soil_Labeled_Data\\M_10_20\\L_60_70\\alluvial\\IMG_0683.JPG\n",
      "Replaced with: F:\\Soil_Labeled_Data\\augmented_fallback\\aug_IMG_0683.JPG\n",
      "Image error: F:\\Soil_Labeled_Data\\M_10_20\\L_70_80\\alluvial\\IMG_0703.JPG\n",
      "Replaced with: F:\\Soil_Labeled_Data\\augmented_fallback\\aug_IMG_0703.JPG\n",
      "Image error: F:\\Soil_Labeled_Data\\M_10_20\\L_80_90\\alluvial\\IMG_0746.JPG\n",
      "Replaced with: F:\\Soil_Labeled_Data\\augmented_fallback\\aug_IMG_0746.JPG\n",
      "Image error: F:\\Soil_Labeled_Data\\M_10_20\\L_80_90\\alluvial\\IMG_0753.JPG\n",
      "Replaced with: F:\\Soil_Labeled_Data\\augmented_fallback\\aug_IMG_0753.JPG\n",
      "Image error: F:\\Soil_Labeled_Data\\M_10_20\\L_80_90\\alluvial\\IMG_0755.JPG\n",
      "Replaced with: F:\\Soil_Labeled_Data\\augmented_fallback\\aug_IMG_0755.JPG\n",
      "Replaced 5 invalid images with augmented versions.\n",
      "Loaded pretrained weights from C:\\Users\\PC\\soilNet\\checkpoints_VicReg\\vicreg_model_final_mu_30.0.pth\n",
      "Epoch 1/60\n"
     ]
    },
    {
     "data": {
      "application/vnd.jupyter.widget-view+json": {
       "model_id": "dfe09aff361547a58655bee05263c3f8",
       "version_major": 2,
       "version_minor": 0
      },
      "text/plain": [
       "  0%|          | 0/65 [00:00<?, ?it/s]"
      ]
     },
     "metadata": {},
     "output_type": "display_data"
    },
    {
     "name": "stdout",
     "output_type": "stream",
     "text": [
      "Loss → Total: 2.2113, Regression: 0.0663, Classification: 2.1450\n",
      "SM_0 → RMSE: 19.97242896, MAE: 15.77634907, ME: 0.36501494\n",
      "SM_20 → RMSE: 20.04806161, MAE: 15.85335732, ME: 1.12656784\n",
      "Classification → Accuracy: 0.30238211, F1-score: 0.27328838\n",
      "Epoch 2/60\n"
     ]
    },
    {
     "data": {
      "application/vnd.jupyter.widget-view+json": {
       "model_id": "67d856271e2e4011b0c97b0851594645",
       "version_major": 2,
       "version_minor": 0
      },
      "text/plain": [
       "  0%|          | 0/65 [00:00<?, ?it/s]"
      ]
     },
     "metadata": {},
     "output_type": "display_data"
    },
    {
     "name": "stdout",
     "output_type": "stream",
     "text": [
      "Loss → Total: 1.8707, Regression: 0.0393, Classification: 1.8314\n",
      "SM_0 → RMSE: 16.13157059, MAE: 12.38334370, ME: 1.88901365\n",
      "SM_20 → RMSE: 16.31726239, MAE: 12.58435154, ME: 3.57398748\n",
      "Classification → Accuracy: 0.36752552, F1-score: 0.34593969\n",
      "Epoch 3/60\n"
     ]
    },
    {
     "data": {
      "application/vnd.jupyter.widget-view+json": {
       "model_id": "30b7ae06599c45a2b0b204d2eeb9c313",
       "version_major": 2,
       "version_minor": 0
      },
      "text/plain": [
       "  0%|          | 0/65 [00:00<?, ?it/s]"
      ]
     },
     "metadata": {},
     "output_type": "display_data"
    },
    {
     "name": "stdout",
     "output_type": "stream",
     "text": [
      "Loss → Total: 1.6978, Regression: 0.0306, Classification: 1.6673\n",
      "SM_0 → RMSE: 13.98625217, MAE: 10.79197407, ME: -0.69432247\n",
      "SM_20 → RMSE: 14.28363778, MAE: 11.09087086, ME: -1.55437744\n",
      "Classification → Accuracy: 0.43607195, F1-score: 0.42010185\n",
      "Epoch 4/60\n"
     ]
    },
    {
     "data": {
      "application/vnd.jupyter.widget-view+json": {
       "model_id": "ccfbc2c4992348c4bfe31ab7570ca517",
       "version_major": 2,
       "version_minor": 0
      },
      "text/plain": [
       "  0%|          | 0/65 [00:00<?, ?it/s]"
      ]
     },
     "metadata": {},
     "output_type": "display_data"
    },
    {
     "name": "stdout",
     "output_type": "stream",
     "text": [
      "Loss → Total: 1.5677, Regression: 0.0281, Classification: 1.5395\n",
      "SM_0 → RMSE: 14.11186647, MAE: 11.03831196, ME: -1.34894586\n",
      "SM_20 → RMSE: 14.11143017, MAE: 11.15258121, ME: -2.35663152\n",
      "Classification → Accuracy: 0.47399125, F1-score: 0.46255287\n",
      "Epoch 5/60\n"
     ]
    },
    {
     "data": {
      "application/vnd.jupyter.widget-view+json": {
       "model_id": "76feaa41eee949d9a07a5df60f293016",
       "version_major": 2,
       "version_minor": 0
      },
      "text/plain": [
       "  0%|          | 0/65 [00:00<?, ?it/s]"
      ]
     },
     "metadata": {},
     "output_type": "display_data"
    },
    {
     "name": "stdout",
     "output_type": "stream",
     "text": [
      "Loss → Total: 1.5069, Regression: 0.0271, Classification: 1.4798\n",
      "SM_0 → RMSE: 12.87351315, MAE: 10.12771511, ME: -2.11473584\n",
      "SM_20 → RMSE: 13.10087068, MAE: 10.30628681, ME: -0.30220670\n",
      "Classification → Accuracy: 0.52843947, F1-score: 0.52745568\n",
      "Epoch 6/60\n"
     ]
    },
    {
     "data": {
      "application/vnd.jupyter.widget-view+json": {
       "model_id": "620e5d8130e7436fa54340770de8cb5c",
       "version_major": 2,
       "version_minor": 0
      },
      "text/plain": [
       "  0%|          | 0/65 [00:00<?, ?it/s]"
      ]
     },
     "metadata": {},
     "output_type": "display_data"
    },
    {
     "name": "stdout",
     "output_type": "stream",
     "text": [
      "Loss → Total: 1.4097, Regression: 0.0235, Classification: 1.3862\n",
      "SM_0 → RMSE: 12.29548887, MAE: 9.53174019, ME: 3.85774112\n",
      "SM_20 → RMSE: 12.36253515, MAE: 9.47694683, ME: 4.00455189\n",
      "Classification → Accuracy: 0.56295576, F1-score: 0.55643051\n",
      "Epoch 7/60\n"
     ]
    },
    {
     "data": {
      "application/vnd.jupyter.widget-view+json": {
       "model_id": "7d62a75dae884948967ca66cdc4932e2",
       "version_major": 2,
       "version_minor": 0
      },
      "text/plain": [
       "  0%|          | 0/65 [00:00<?, ?it/s]"
      ]
     },
     "metadata": {},
     "output_type": "display_data"
    },
    {
     "name": "stdout",
     "output_type": "stream",
     "text": [
      "Loss → Total: 1.3414, Regression: 0.0211, Classification: 1.3203\n",
      "SM_0 → RMSE: 11.26972656, MAE: 8.66925240, ME: 0.51396996\n",
      "SM_20 → RMSE: 10.90287383, MAE: 8.43710613, ME: -0.02114827\n",
      "Classification → Accuracy: 0.60865338, F1-score: 0.60892170\n",
      "Epoch 8/60\n"
     ]
    },
    {
     "data": {
      "application/vnd.jupyter.widget-view+json": {
       "model_id": "b8a3bfa8f914439a8e92d3f5e1fc50e2",
       "version_major": 2,
       "version_minor": 0
      },
      "text/plain": [
       "  0%|          | 0/65 [00:00<?, ?it/s]"
      ]
     },
     "metadata": {},
     "output_type": "display_data"
    },
    {
     "name": "stdout",
     "output_type": "stream",
     "text": [
      "Loss → Total: 1.2117, Regression: 0.0167, Classification: 1.1950\n",
      "SM_0 → RMSE: 10.29807341, MAE: 7.85554457, ME: 1.73076952\n",
      "SM_20 → RMSE: 10.26046219, MAE: 7.94379616, ME: -0.87947798\n",
      "Classification → Accuracy: 0.66115702, F1-score: 0.66057231\n",
      "Epoch 9/60\n"
     ]
    },
    {
     "data": {
      "application/vnd.jupyter.widget-view+json": {
       "model_id": "7ddf6eb0ae82400a87f068a9934f0d1e",
       "version_major": 2,
       "version_minor": 0
      },
      "text/plain": [
       "  0%|          | 0/65 [00:00<?, ?it/s]"
      ]
     },
     "metadata": {},
     "output_type": "display_data"
    },
    {
     "name": "stdout",
     "output_type": "stream",
     "text": [
      "Loss → Total: 1.1536, Regression: 0.0170, Classification: 1.1366\n",
      "SM_0 → RMSE: 9.83931804, MAE: 7.54458475, ME: 0.10138030\n",
      "SM_20 → RMSE: 10.12727387, MAE: 7.76651478, ME: 0.91104734\n",
      "Classification → Accuracy: 0.66699076, F1-score: 0.67005084\n",
      "Epoch 10/60\n"
     ]
    },
    {
     "data": {
      "application/vnd.jupyter.widget-view+json": {
       "model_id": "bf89d439b64749c3982a103b1ab2f86e",
       "version_major": 2,
       "version_minor": 0
      },
      "text/plain": [
       "  0%|          | 0/65 [00:00<?, ?it/s]"
      ]
     },
     "metadata": {},
     "output_type": "display_data"
    },
    {
     "name": "stdout",
     "output_type": "stream",
     "text": [
      "Loss → Total: 1.1359, Regression: 0.0166, Classification: 1.1193\n",
      "SM_0 → RMSE: 9.30952232, MAE: 7.28075981, ME: -0.35601702\n",
      "SM_20 → RMSE: 9.91083024, MAE: 7.73949480, ME: 0.11132894\n",
      "Classification → Accuracy: 0.70539621, F1-score: 0.70404269\n",
      "Epoch 11/60\n"
     ]
    },
    {
     "data": {
      "application/vnd.jupyter.widget-view+json": {
       "model_id": "033837c66a3643fb869d0608fd347d75",
       "version_major": 2,
       "version_minor": 0
      },
      "text/plain": [
       "  0%|          | 0/65 [00:00<?, ?it/s]"
      ]
     },
     "metadata": {},
     "output_type": "display_data"
    },
    {
     "name": "stdout",
     "output_type": "stream",
     "text": [
      "Loss → Total: 1.0933, Regression: 0.0157, Classification: 1.0776\n",
      "SM_0 → RMSE: 10.31727406, MAE: 8.06734180, ME: -0.22360609\n",
      "SM_20 → RMSE: 10.46726574, MAE: 8.20315742, ME: -0.31272030\n",
      "Classification → Accuracy: 0.71754983, F1-score: 0.71802117\n",
      "Epoch 12/60\n"
     ]
    },
    {
     "data": {
      "application/vnd.jupyter.widget-view+json": {
       "model_id": "a6fb7e70147b41bc82d6ff9a6191ff30",
       "version_major": 2,
       "version_minor": 0
      },
      "text/plain": [
       "  0%|          | 0/65 [00:00<?, ?it/s]"
      ]
     },
     "metadata": {},
     "output_type": "display_data"
    },
    {
     "name": "stdout",
     "output_type": "stream",
     "text": [
      "Loss → Total: 1.0404, Regression: 0.0149, Classification: 1.0255\n",
      "SM_0 → RMSE: 9.58203842, MAE: 7.37436342, ME: 1.17249525\n",
      "SM_20 → RMSE: 9.27714720, MAE: 7.15768385, ME: 1.81111372\n",
      "Classification → Accuracy: 0.74137093, F1-score: 0.73896352\n",
      "Epoch 13/60\n"
     ]
    },
    {
     "data": {
      "application/vnd.jupyter.widget-view+json": {
       "model_id": "1faa1de3c50c44afa607d86ca587ac05",
       "version_major": 2,
       "version_minor": 0
      },
      "text/plain": [
       "  0%|          | 0/65 [00:00<?, ?it/s]"
      ]
     },
     "metadata": {},
     "output_type": "display_data"
    },
    {
     "name": "stdout",
     "output_type": "stream",
     "text": [
      "Loss → Total: 0.9499, Regression: 0.0138, Classification: 0.9360\n",
      "SM_0 → RMSE: 9.83551824, MAE: 7.79385948, ME: 0.01953750\n",
      "SM_20 → RMSE: 9.87210002, MAE: 7.72388697, ME: 0.60056072\n",
      "Classification → Accuracy: 0.75401070, F1-score: 0.75256504\n",
      "Epoch 14/60\n"
     ]
    },
    {
     "data": {
      "application/vnd.jupyter.widget-view+json": {
       "model_id": "e620086b785e46b1b87ce22d323890d8",
       "version_major": 2,
       "version_minor": 0
      },
      "text/plain": [
       "  0%|          | 0/65 [00:00<?, ?it/s]"
      ]
     },
     "metadata": {},
     "output_type": "display_data"
    },
    {
     "name": "stdout",
     "output_type": "stream",
     "text": [
      "Loss → Total: 0.9346, Regression: 0.0133, Classification: 0.9213\n",
      "SM_0 → RMSE: 9.13635885, MAE: 7.16586399, ME: 0.09136352\n",
      "SM_20 → RMSE: 9.15567713, MAE: 7.19823217, ME: -0.09986721\n",
      "Classification → Accuracy: 0.78026252, F1-score: 0.77731735\n",
      "Epoch 15/60\n"
     ]
    },
    {
     "data": {
      "application/vnd.jupyter.widget-view+json": {
       "model_id": "78ac6dbdca1d49a1a6bb557167d267d4",
       "version_major": 2,
       "version_minor": 0
      },
      "text/plain": [
       "  0%|          | 0/65 [00:00<?, ?it/s]"
      ]
     },
     "metadata": {},
     "output_type": "display_data"
    },
    {
     "name": "stdout",
     "output_type": "stream",
     "text": [
      "Loss → Total: 0.9154, Regression: 0.0126, Classification: 0.9028\n",
      "SM_0 → RMSE: 9.38784114, MAE: 7.39486647, ME: 3.59071732\n",
      "SM_20 → RMSE: 9.40900206, MAE: 7.49861860, ME: 2.99351907\n",
      "Classification → Accuracy: 0.77929023, F1-score: 0.77477055\n",
      "Epoch 16/60\n"
     ]
    },
    {
     "data": {
      "application/vnd.jupyter.widget-view+json": {
       "model_id": "a69519144bfd446d8eea15826f6008e6",
       "version_major": 2,
       "version_minor": 0
      },
      "text/plain": [
       "  0%|          | 0/65 [00:00<?, ?it/s]"
      ]
     },
     "metadata": {},
     "output_type": "display_data"
    },
    {
     "name": "stdout",
     "output_type": "stream",
     "text": [
      "Loss → Total: 0.8835, Regression: 0.0128, Classification: 0.8708\n",
      "SM_0 → RMSE: 8.74625513, MAE: 6.82846832, ME: 2.77502227\n",
      "SM_20 → RMSE: 8.30991180, MAE: 6.35264683, ME: 1.11948109\n",
      "Classification → Accuracy: 0.75838600, F1-score: 0.75423782\n",
      "Epoch 17/60\n"
     ]
    },
    {
     "data": {
      "application/vnd.jupyter.widget-view+json": {
       "model_id": "86cbd3b7ac02431db0a1af9d894e0a67",
       "version_major": 2,
       "version_minor": 0
      },
      "text/plain": [
       "  0%|          | 0/65 [00:00<?, ?it/s]"
      ]
     },
     "metadata": {},
     "output_type": "display_data"
    },
    {
     "name": "stdout",
     "output_type": "stream",
     "text": [
      "Loss → Total: 0.8456, Regression: 0.0129, Classification: 0.8327\n",
      "SM_0 → RMSE: 8.23828079, MAE: 6.37722731, ME: -0.30393335\n",
      "SM_20 → RMSE: 8.20171305, MAE: 6.34269094, ME: 0.24760365\n",
      "Classification → Accuracy: 0.80894507, F1-score: 0.81078985\n",
      "Epoch 18/60\n"
     ]
    },
    {
     "data": {
      "application/vnd.jupyter.widget-view+json": {
       "model_id": "7030b5eb0d4d495892fbf05424987134",
       "version_major": 2,
       "version_minor": 0
      },
      "text/plain": [
       "  0%|          | 0/65 [00:00<?, ?it/s]"
      ]
     },
     "metadata": {},
     "output_type": "display_data"
    },
    {
     "name": "stdout",
     "output_type": "stream",
     "text": [
      "Loss → Total: 0.8140, Regression: 0.0127, Classification: 0.8013\n",
      "SM_0 → RMSE: 8.59997777, MAE: 6.62230682, ME: 0.57681221\n",
      "SM_20 → RMSE: 8.41369027, MAE: 6.42542744, ME: 1.35440755\n",
      "Classification → Accuracy: 0.81818182, F1-score: 0.81821358\n",
      "Epoch 19/60\n"
     ]
    },
    {
     "data": {
      "application/vnd.jupyter.widget-view+json": {
       "model_id": "a16a0c2214594a0596e35bc73984dc0d",
       "version_major": 2,
       "version_minor": 0
      },
      "text/plain": [
       "  0%|          | 0/65 [00:00<?, ?it/s]"
      ]
     },
     "metadata": {},
     "output_type": "display_data"
    },
    {
     "name": "stdout",
     "output_type": "stream",
     "text": [
      "Loss → Total: 0.8379, Regression: 0.0121, Classification: 0.8258\n",
      "SM_0 → RMSE: 8.08681117, MAE: 6.31567001, ME: -2.07847118\n",
      "SM_20 → RMSE: 8.58372195, MAE: 6.71129370, ME: -1.82609975\n",
      "Classification → Accuracy: 0.82839086, F1-score: 0.82855224\n",
      "Epoch 20/60\n"
     ]
    },
    {
     "data": {
      "application/vnd.jupyter.widget-view+json": {
       "model_id": "5b05815909d84a3eb745257e7c5ef747",
       "version_major": 2,
       "version_minor": 0
      },
      "text/plain": [
       "  0%|          | 0/65 [00:00<?, ?it/s]"
      ]
     },
     "metadata": {},
     "output_type": "display_data"
    },
    {
     "name": "stdout",
     "output_type": "stream",
     "text": [
      "Loss → Total: 0.7401, Regression: 0.0106, Classification: 0.7295\n",
      "SM_0 → RMSE: 7.87441651, MAE: 6.05783701, ME: 0.57433403\n",
      "SM_20 → RMSE: 7.87115021, MAE: 5.99950075, ME: 0.70624793\n",
      "Classification → Accuracy: 0.84151677, F1-score: 0.84101680\n",
      "Epoch 21/60\n"
     ]
    },
    {
     "data": {
      "application/vnd.jupyter.widget-view+json": {
       "model_id": "d8c842d134584504b4ee49eeeecb8bf0",
       "version_major": 2,
       "version_minor": 0
      },
      "text/plain": [
       "  0%|          | 0/65 [00:00<?, ?it/s]"
      ]
     },
     "metadata": {},
     "output_type": "display_data"
    },
    {
     "name": "stdout",
     "output_type": "stream",
     "text": [
      "Loss → Total: 0.6968, Regression: 0.0093, Classification: 0.6875\n",
      "SM_0 → RMSE: 7.86332637, MAE: 6.18709373, ME: 0.30228996\n",
      "SM_20 → RMSE: 7.91868922, MAE: 6.15989876, ME: 0.34710011\n",
      "Classification → Accuracy: 0.84248906, F1-score: 0.84214069\n",
      "Epoch 22/60\n"
     ]
    },
    {
     "data": {
      "application/vnd.jupyter.widget-view+json": {
       "model_id": "13acbe8c2754463e803ae026f82f2011",
       "version_major": 2,
       "version_minor": 0
      },
      "text/plain": [
       "  0%|          | 0/65 [00:00<?, ?it/s]"
      ]
     },
     "metadata": {},
     "output_type": "display_data"
    },
    {
     "name": "stdout",
     "output_type": "stream",
     "text": [
      "Loss → Total: 0.7281, Regression: 0.0102, Classification: 0.7178\n",
      "SM_0 → RMSE: 8.69882320, MAE: 6.74308586, ME: -2.83823919\n",
      "SM_20 → RMSE: 8.44670405, MAE: 6.58320761, ME: -2.30225849\n",
      "Classification → Accuracy: 0.85512883, F1-score: 0.85531339\n",
      "Epoch 23/60\n"
     ]
    },
    {
     "data": {
      "application/vnd.jupyter.widget-view+json": {
       "model_id": "106291cc7cdb4622a8efa4dc69110a7a",
       "version_major": 2,
       "version_minor": 0
      },
      "text/plain": [
       "  0%|          | 0/65 [00:00<?, ?it/s]"
      ]
     },
     "metadata": {},
     "output_type": "display_data"
    },
    {
     "name": "stdout",
     "output_type": "stream",
     "text": [
      "Loss → Total: 0.6686, Regression: 0.0105, Classification: 0.6581\n",
      "SM_0 → RMSE: 7.69761253, MAE: 5.95011091, ME: 1.77645266\n",
      "SM_20 → RMSE: 8.30209686, MAE: 6.50665712, ME: 1.14470220\n",
      "Classification → Accuracy: 0.85318425, F1-score: 0.85246368\n",
      "Epoch 24/60\n"
     ]
    },
    {
     "data": {
      "application/vnd.jupyter.widget-view+json": {
       "model_id": "4799739becb54fc9a87c4c368129bace",
       "version_major": 2,
       "version_minor": 0
      },
      "text/plain": [
       "  0%|          | 0/65 [00:00<?, ?it/s]"
      ]
     },
     "metadata": {},
     "output_type": "display_data"
    },
    {
     "name": "stdout",
     "output_type": "stream",
     "text": [
      "Loss → Total: 0.6516, Regression: 0.0106, Classification: 0.6410\n",
      "SM_0 → RMSE: 7.69879933, MAE: 5.94752121, ME: -0.22450732\n",
      "SM_20 → RMSE: 7.46012885, MAE: 5.74012947, ME: -1.12897158\n",
      "Classification → Accuracy: 0.85658726, F1-score: 0.85704814\n",
      "Epoch 25/60\n"
     ]
    },
    {
     "data": {
      "application/vnd.jupyter.widget-view+json": {
       "model_id": "79369e75dbbf423d96d03f6bab9117c0",
       "version_major": 2,
       "version_minor": 0
      },
      "text/plain": [
       "  0%|          | 0/65 [00:00<?, ?it/s]"
      ]
     },
     "metadata": {},
     "output_type": "display_data"
    },
    {
     "name": "stdout",
     "output_type": "stream",
     "text": [
      "Loss → Total: 0.6668, Regression: 0.0101, Classification: 0.6566\n",
      "SM_0 → RMSE: 8.41871734, MAE: 6.58201265, ME: -0.32441449\n",
      "SM_20 → RMSE: 8.26783443, MAE: 6.43947411, ME: -0.37617496\n",
      "Classification → Accuracy: 0.86096257, F1-score: 0.86222584\n",
      "Epoch 26/60\n"
     ]
    },
    {
     "data": {
      "application/vnd.jupyter.widget-view+json": {
       "model_id": "8726a5ee289143dd9d4aaa57a0984ad8",
       "version_major": 2,
       "version_minor": 0
      },
      "text/plain": [
       "  0%|          | 0/65 [00:00<?, ?it/s]"
      ]
     },
     "metadata": {},
     "output_type": "display_data"
    },
    {
     "name": "stdout",
     "output_type": "stream",
     "text": [
      "Loss → Total: 0.6417, Regression: 0.0091, Classification: 0.6326\n",
      "SM_0 → RMSE: 7.59667285, MAE: 5.88253117, ME: 0.35770226\n",
      "SM_20 → RMSE: 7.41754680, MAE: 5.66162825, ME: -1.10873020\n",
      "Classification → Accuracy: 0.88186680, F1-score: 0.88218952\n",
      "Epoch 27/60\n"
     ]
    },
    {
     "data": {
      "application/vnd.jupyter.widget-view+json": {
       "model_id": "ac45da9fb77a49e6a76c3b3e22751861",
       "version_major": 2,
       "version_minor": 0
      },
      "text/plain": [
       "  0%|          | 0/65 [00:00<?, ?it/s]"
      ]
     },
     "metadata": {},
     "output_type": "display_data"
    },
    {
     "name": "stdout",
     "output_type": "stream",
     "text": [
      "Loss → Total: 0.6387, Regression: 0.0098, Classification: 0.6289\n",
      "SM_0 → RMSE: 7.49697586, MAE: 5.83455038, ME: -0.83352482\n",
      "SM_20 → RMSE: 7.36597395, MAE: 5.69757414, ME: -0.19196025\n",
      "Classification → Accuracy: 0.86387944, F1-score: 0.86327869\n",
      "Epoch 28/60\n"
     ]
    },
    {
     "data": {
      "application/vnd.jupyter.widget-view+json": {
       "model_id": "b0a82ebf88a746f799c0d8a5dbb453e3",
       "version_major": 2,
       "version_minor": 0
      },
      "text/plain": [
       "  0%|          | 0/65 [00:00<?, ?it/s]"
      ]
     },
     "metadata": {},
     "output_type": "display_data"
    },
    {
     "name": "stdout",
     "output_type": "stream",
     "text": [
      "Loss → Total: 0.6084, Regression: 0.0090, Classification: 0.5994\n",
      "SM_0 → RMSE: 7.80939172, MAE: 6.11704540, ME: -1.45135069\n",
      "SM_20 → RMSE: 7.48958016, MAE: 5.86013651, ME: -1.43957937\n",
      "Classification → Accuracy: 0.88429752, F1-score: 0.88347524\n",
      "Epoch 29/60\n"
     ]
    },
    {
     "data": {
      "application/vnd.jupyter.widget-view+json": {
       "model_id": "c4c450da04d54566a21f7978838bae32",
       "version_major": 2,
       "version_minor": 0
      },
      "text/plain": [
       "  0%|          | 0/65 [00:00<?, ?it/s]"
      ]
     },
     "metadata": {},
     "output_type": "display_data"
    },
    {
     "name": "stdout",
     "output_type": "stream",
     "text": [
      "Loss → Total: 0.5544, Regression: 0.0088, Classification: 0.5456\n",
      "SM_0 → RMSE: 6.89126051, MAE: 5.30836296, ME: -0.72016877\n",
      "SM_20 → RMSE: 6.88002275, MAE: 5.32174492, ME: -1.12929940\n",
      "Classification → Accuracy: 0.88867282, F1-score: 0.88992764\n",
      "Epoch 30/60\n"
     ]
    },
    {
     "data": {
      "application/vnd.jupyter.widget-view+json": {
       "model_id": "6eb41b27baa24410815f47629e8bfd0b",
       "version_major": 2,
       "version_minor": 0
      },
      "text/plain": [
       "  0%|          | 0/65 [00:00<?, ?it/s]"
      ]
     },
     "metadata": {},
     "output_type": "display_data"
    },
    {
     "name": "stdout",
     "output_type": "stream",
     "text": [
      "Loss → Total: 0.5730, Regression: 0.0089, Classification: 0.5641\n",
      "SM_0 → RMSE: 7.57716650, MAE: 5.72168159, ME: 1.33435678\n",
      "SM_20 → RMSE: 7.59965204, MAE: 5.77190590, ME: 1.76304483\n",
      "Classification → Accuracy: 0.88283909, F1-score: 0.88380347\n",
      "Epoch 31/60\n"
     ]
    },
    {
     "data": {
      "application/vnd.jupyter.widget-view+json": {
       "model_id": "383bf0b9d12f4ad3a2f06790311a0006",
       "version_major": 2,
       "version_minor": 0
      },
      "text/plain": [
       "  0%|          | 0/65 [00:00<?, ?it/s]"
      ]
     },
     "metadata": {},
     "output_type": "display_data"
    },
    {
     "name": "stdout",
     "output_type": "stream",
     "text": [
      "Loss → Total: 0.5641, Regression: 0.0087, Classification: 0.5554\n",
      "SM_0 → RMSE: 7.86189293, MAE: 6.23444128, ME: 2.22108865\n",
      "SM_20 → RMSE: 7.77316268, MAE: 6.06718493, ME: 1.77159715\n",
      "Classification → Accuracy: 0.85707341, F1-score: 0.85596423\n",
      "Epoch 32/60\n"
     ]
    },
    {
     "data": {
      "application/vnd.jupyter.widget-view+json": {
       "model_id": "8baf478eddd34d79840025274ad9510c",
       "version_major": 2,
       "version_minor": 0
      },
      "text/plain": [
       "  0%|          | 0/65 [00:00<?, ?it/s]"
      ]
     },
     "metadata": {},
     "output_type": "display_data"
    },
    {
     "name": "stdout",
     "output_type": "stream",
     "text": [
      "Loss → Total: 0.5519, Regression: 0.0083, Classification: 0.5436\n",
      "SM_0 → RMSE: 6.93315167, MAE: 5.32694769, ME: 1.26607645\n",
      "SM_20 → RMSE: 6.78501682, MAE: 5.23466778, ME: 0.03078247\n",
      "Classification → Accuracy: 0.90179874, F1-score: 0.90225233\n",
      "Epoch 33/60\n"
     ]
    },
    {
     "data": {
      "application/vnd.jupyter.widget-view+json": {
       "model_id": "5ad4088b85cc4be1af9ab8b339a7b1a2",
       "version_major": 2,
       "version_minor": 0
      },
      "text/plain": [
       "  0%|          | 0/65 [00:00<?, ?it/s]"
      ]
     },
     "metadata": {},
     "output_type": "display_data"
    },
    {
     "name": "stdout",
     "output_type": "stream",
     "text": [
      "Loss → Total: 0.5502, Regression: 0.0093, Classification: 0.5409\n",
      "SM_0 → RMSE: 7.65038988, MAE: 5.81325197, ME: -1.34994316\n",
      "SM_20 → RMSE: 8.05947748, MAE: 6.09840775, ME: -1.19056773\n",
      "Classification → Accuracy: 0.90666018, F1-score: 0.90616571\n",
      "Epoch 34/60\n"
     ]
    },
    {
     "data": {
      "application/vnd.jupyter.widget-view+json": {
       "model_id": "6a00bc98896c470086bc6db9b030f586",
       "version_major": 2,
       "version_minor": 0
      },
      "text/plain": [
       "  0%|          | 0/65 [00:00<?, ?it/s]"
      ]
     },
     "metadata": {},
     "output_type": "display_data"
    },
    {
     "name": "stdout",
     "output_type": "stream",
     "text": [
      "Loss → Total: 0.5129, Regression: 0.0087, Classification: 0.5042\n",
      "SM_0 → RMSE: 8.32259267, MAE: 6.38795424, ME: 2.55912590\n",
      "SM_20 → RMSE: 6.95033410, MAE: 5.34659863, ME: 1.20428181\n",
      "Classification → Accuracy: 0.91638308, F1-score: 0.91578194\n",
      "Epoch 35/60\n"
     ]
    },
    {
     "data": {
      "application/vnd.jupyter.widget-view+json": {
       "model_id": "fa34b6153e9b4b4f88010647df66a7f6",
       "version_major": 2,
       "version_minor": 0
      },
      "text/plain": [
       "  0%|          | 0/65 [00:00<?, ?it/s]"
      ]
     },
     "metadata": {},
     "output_type": "display_data"
    },
    {
     "name": "stdout",
     "output_type": "stream",
     "text": [
      "Loss → Total: 0.5123, Regression: 0.0074, Classification: 0.5049\n",
      "SM_0 → RMSE: 6.42769402, MAE: 4.93831110, ME: -0.17143416\n",
      "SM_20 → RMSE: 6.71977503, MAE: 5.23188066, ME: -0.03890999\n",
      "Classification → Accuracy: 0.91152163, F1-score: 0.91163613\n",
      "Epoch 36/60\n"
     ]
    },
    {
     "data": {
      "application/vnd.jupyter.widget-view+json": {
       "model_id": "6193d45cf135417c96a8fd7b7624175d",
       "version_major": 2,
       "version_minor": 0
      },
      "text/plain": [
       "  0%|          | 0/65 [00:00<?, ?it/s]"
      ]
     },
     "metadata": {},
     "output_type": "display_data"
    },
    {
     "name": "stdout",
     "output_type": "stream",
     "text": [
      "Loss → Total: 0.5109, Regression: 0.0083, Classification: 0.5026\n",
      "SM_0 → RMSE: 9.65049557, MAE: 7.22410059, ME: -0.77865499\n",
      "SM_20 → RMSE: 9.93299428, MAE: 7.37191486, ME: -1.61521494\n",
      "Classification → Accuracy: 0.90277103, F1-score: 0.90320371\n",
      "Epoch 37/60\n"
     ]
    },
    {
     "data": {
      "application/vnd.jupyter.widget-view+json": {
       "model_id": "7f21edf7c5cd4fb89e8d3340a7ae8f98",
       "version_major": 2,
       "version_minor": 0
      },
      "text/plain": [
       "  0%|          | 0/65 [00:00<?, ?it/s]"
      ]
     },
     "metadata": {},
     "output_type": "display_data"
    },
    {
     "name": "stdout",
     "output_type": "stream",
     "text": [
      "Loss → Total: 0.4676, Regression: 0.0087, Classification: 0.4589\n",
      "SM_0 → RMSE: 6.51480676, MAE: 4.91940165, ME: -0.19822641\n",
      "SM_20 → RMSE: 7.38721244, MAE: 5.72164249, ME: -1.92536068\n",
      "Classification → Accuracy: 0.92464754, F1-score: 0.92460109\n",
      "Epoch 38/60\n"
     ]
    },
    {
     "data": {
      "application/vnd.jupyter.widget-view+json": {
       "model_id": "1f37181b29774e6fb469062d81ae106a",
       "version_major": 2,
       "version_minor": 0
      },
      "text/plain": [
       "  0%|          | 0/65 [00:00<?, ?it/s]"
      ]
     },
     "metadata": {},
     "output_type": "display_data"
    },
    {
     "name": "stdout",
     "output_type": "stream",
     "text": [
      "Loss → Total: 0.4939, Regression: 0.0075, Classification: 0.4863\n",
      "SM_0 → RMSE: 7.34845210, MAE: 5.75968981, ME: 0.12799342\n",
      "SM_20 → RMSE: 8.05803231, MAE: 6.27247763, ME: -1.49603987\n",
      "Classification → Accuracy: 0.91881381, F1-score: 0.91895142\n",
      "Epoch 39/60\n"
     ]
    },
    {
     "data": {
      "application/vnd.jupyter.widget-view+json": {
       "model_id": "e3b82da5f02144fa969d5dfae176a2f8",
       "version_major": 2,
       "version_minor": 0
      },
      "text/plain": [
       "  0%|          | 0/65 [00:00<?, ?it/s]"
      ]
     },
     "metadata": {},
     "output_type": "display_data"
    },
    {
     "name": "stdout",
     "output_type": "stream",
     "text": [
      "Loss → Total: 0.5083, Regression: 0.0080, Classification: 0.5003\n",
      "SM_0 → RMSE: 7.23245379, MAE: 5.54996824, ME: -1.64574730\n",
      "SM_20 → RMSE: 7.15231468, MAE: 5.40740871, ME: -1.14894891\n",
      "Classification → Accuracy: 0.91395236, F1-score: 0.91368988\n",
      "Epoch 40/60\n"
     ]
    },
    {
     "data": {
      "application/vnd.jupyter.widget-view+json": {
       "model_id": "3da1e8c989f54896bf81e1a5d96e2eb5",
       "version_major": 2,
       "version_minor": 0
      },
      "text/plain": [
       "  0%|          | 0/65 [00:00<?, ?it/s]"
      ]
     },
     "metadata": {},
     "output_type": "display_data"
    },
    {
     "name": "stdout",
     "output_type": "stream",
     "text": [
      "Loss → Total: 0.4882, Regression: 0.0075, Classification: 0.4807\n",
      "SM_0 → RMSE: 6.66366980, MAE: 5.06740618, ME: -1.12051737\n",
      "SM_20 → RMSE: 6.61118503, MAE: 5.10115099, ME: -1.63419020\n",
      "Classification → Accuracy: 0.92027224, F1-score: 0.92103566\n",
      "Epoch 41/60\n"
     ]
    },
    {
     "data": {
      "application/vnd.jupyter.widget-view+json": {
       "model_id": "e31bdc73c6784ed1ad6c1c3122f19b77",
       "version_major": 2,
       "version_minor": 0
      },
      "text/plain": [
       "  0%|          | 0/65 [00:00<?, ?it/s]"
      ]
     },
     "metadata": {},
     "output_type": "display_data"
    },
    {
     "name": "stdout",
     "output_type": "stream",
     "text": [
      "Loss → Total: 0.4664, Regression: 0.0079, Classification: 0.4585\n",
      "SM_0 → RMSE: 6.49178000, MAE: 4.96135283, ME: -1.13039887\n",
      "SM_20 → RMSE: 6.75637319, MAE: 5.21402884, ME: -1.81706166\n",
      "Classification → Accuracy: 0.92221682, F1-score: 0.92258070\n",
      "Epoch 42/60\n"
     ]
    },
    {
     "data": {
      "application/vnd.jupyter.widget-view+json": {
       "model_id": "8f06bab30c6541c1855280c514c27dd2",
       "version_major": 2,
       "version_minor": 0
      },
      "text/plain": [
       "  0%|          | 0/65 [00:00<?, ?it/s]"
      ]
     },
     "metadata": {},
     "output_type": "display_data"
    },
    {
     "name": "stdout",
     "output_type": "stream",
     "text": [
      "Loss → Total: 0.4404, Regression: 0.0074, Classification: 0.4329\n",
      "SM_0 → RMSE: 6.40596953, MAE: 4.89164019, ME: 0.70382154\n",
      "SM_20 → RMSE: 6.57164919, MAE: 5.06537151, ME: 0.09455940\n",
      "Classification → Accuracy: 0.92367526, F1-score: 0.92398058\n",
      "Epoch 43/60\n"
     ]
    },
    {
     "data": {
      "application/vnd.jupyter.widget-view+json": {
       "model_id": "bca8842e05944f03b216a48b0aea6ec8",
       "version_major": 2,
       "version_minor": 0
      },
      "text/plain": [
       "  0%|          | 0/65 [00:00<?, ?it/s]"
      ]
     },
     "metadata": {},
     "output_type": "display_data"
    },
    {
     "name": "stdout",
     "output_type": "stream",
     "text": [
      "Loss → Total: 0.4088, Regression: 0.0071, Classification: 0.4017\n",
      "SM_0 → RMSE: 7.19530190, MAE: 5.45339918, ME: -1.17170894\n",
      "SM_20 → RMSE: 6.99139939, MAE: 5.42005587, ME: -1.31832898\n",
      "Classification → Accuracy: 0.92610598, F1-score: 0.92636669\n",
      "Epoch 44/60\n"
     ]
    },
    {
     "data": {
      "application/vnd.jupyter.widget-view+json": {
       "model_id": "78aab82788f749f0be394dec0946bd7a",
       "version_major": 2,
       "version_minor": 0
      },
      "text/plain": [
       "  0%|          | 0/65 [00:00<?, ?it/s]"
      ]
     },
     "metadata": {},
     "output_type": "display_data"
    },
    {
     "name": "stdout",
     "output_type": "stream",
     "text": [
      "Loss → Total: 0.4566, Regression: 0.0079, Classification: 0.4487\n",
      "SM_0 → RMSE: 6.55025946, MAE: 4.98674154, ME: -0.10671028\n",
      "SM_20 → RMSE: 7.03549460, MAE: 5.48836565, ME: -0.92508245\n",
      "Classification → Accuracy: 0.93145357, F1-score: 0.93158642\n",
      "Epoch 45/60\n"
     ]
    },
    {
     "data": {
      "application/vnd.jupyter.widget-view+json": {
       "model_id": "159c97329a6d47a8b24f8aa387fae2af",
       "version_major": 2,
       "version_minor": 0
      },
      "text/plain": [
       "  0%|          | 0/65 [00:00<?, ?it/s]"
      ]
     },
     "metadata": {},
     "output_type": "display_data"
    },
    {
     "name": "stdout",
     "output_type": "stream",
     "text": [
      "Loss → Total: 0.4247, Regression: 0.0070, Classification: 0.4177\n",
      "SM_0 → RMSE: 6.76707672, MAE: 5.22414255, ME: -0.87582594\n",
      "SM_20 → RMSE: 6.47481323, MAE: 4.98770142, ME: -0.29969841\n",
      "Classification → Accuracy: 0.92221682, F1-score: 0.92232362\n",
      "Epoch 46/60\n"
     ]
    },
    {
     "data": {
      "application/vnd.jupyter.widget-view+json": {
       "model_id": "18c219bd11be463aa69c6843f850b86c",
       "version_major": 2,
       "version_minor": 0
      },
      "text/plain": [
       "  0%|          | 0/65 [00:00<?, ?it/s]"
      ]
     },
     "metadata": {},
     "output_type": "display_data"
    },
    {
     "name": "stdout",
     "output_type": "stream",
     "text": [
      "Loss → Total: 0.4599, Regression: 0.0082, Classification: 0.4517\n",
      "SM_0 → RMSE: 7.87971912, MAE: 6.12592077, ME: -0.12708941\n",
      "SM_20 → RMSE: 8.96396757, MAE: 6.86286163, ME: -0.64946336\n",
      "Classification → Accuracy: 0.92270297, F1-score: 0.92328608\n",
      "Epoch 47/60\n"
     ]
    },
    {
     "data": {
      "application/vnd.jupyter.widget-view+json": {
       "model_id": "13a396a9863448e5b6f2fb8f502364a7",
       "version_major": 2,
       "version_minor": 0
      },
      "text/plain": [
       "  0%|          | 0/65 [00:00<?, ?it/s]"
      ]
     },
     "metadata": {},
     "output_type": "display_data"
    },
    {
     "name": "stdout",
     "output_type": "stream",
     "text": [
      "Loss → Total: 0.4520, Regression: 0.0085, Classification: 0.4435\n",
      "SM_0 → RMSE: 6.50378073, MAE: 5.00513840, ME: 0.04676060\n",
      "SM_20 → RMSE: 6.78093047, MAE: 5.23317385, ME: 0.19696687\n",
      "Classification → Accuracy: 0.92173068, F1-score: 0.92087681\n",
      "Epoch 48/60\n"
     ]
    },
    {
     "data": {
      "application/vnd.jupyter.widget-view+json": {
       "model_id": "053762020669493281bea72acc0a9ad4",
       "version_major": 2,
       "version_minor": 0
      },
      "text/plain": [
       "  0%|          | 0/65 [00:00<?, ?it/s]"
      ]
     },
     "metadata": {},
     "output_type": "display_data"
    },
    {
     "name": "stdout",
     "output_type": "stream",
     "text": [
      "Loss → Total: 0.4127, Regression: 0.0069, Classification: 0.4058\n",
      "SM_0 → RMSE: 6.45505862, MAE: 4.87978363, ME: -1.07599139\n",
      "SM_20 → RMSE: 6.61450141, MAE: 5.12213039, ME: -1.02896082\n",
      "Classification → Accuracy: 0.93631502, F1-score: 0.93653184\n",
      "Epoch 49/60\n"
     ]
    },
    {
     "data": {
      "application/vnd.jupyter.widget-view+json": {
       "model_id": "9cf9b00c164d49c3a32eaa2eba2fd67d",
       "version_major": 2,
       "version_minor": 0
      },
      "text/plain": [
       "  0%|          | 0/65 [00:00<?, ?it/s]"
      ]
     },
     "metadata": {},
     "output_type": "display_data"
    },
    {
     "name": "stdout",
     "output_type": "stream",
     "text": [
      "Loss → Total: 0.4294, Regression: 0.0068, Classification: 0.4227\n",
      "SM_0 → RMSE: 6.77231273, MAE: 5.19268084, ME: -0.43295979\n",
      "SM_20 → RMSE: 6.89535810, MAE: 5.35617256, ME: -0.77308947\n",
      "Classification → Accuracy: 0.91443850, F1-score: 0.91434569\n",
      "Epoch 50/60\n"
     ]
    },
    {
     "data": {
      "application/vnd.jupyter.widget-view+json": {
       "model_id": "662ae4bad5a348e09d9f7922b4b74a94",
       "version_major": 2,
       "version_minor": 0
      },
      "text/plain": [
       "  0%|          | 0/65 [00:00<?, ?it/s]"
      ]
     },
     "metadata": {},
     "output_type": "display_data"
    },
    {
     "name": "stdout",
     "output_type": "stream",
     "text": [
      "Loss → Total: 0.4036, Regression: 0.0065, Classification: 0.3970\n",
      "SM_0 → RMSE: 6.21383273, MAE: 4.77626657, ME: 0.12735644\n",
      "SM_20 → RMSE: 6.52832930, MAE: 5.02176905, ME: 0.53758550\n",
      "Classification → Accuracy: 0.92173068, F1-score: 0.92119343\n",
      "Epoch 51/60\n"
     ]
    },
    {
     "data": {
      "application/vnd.jupyter.widget-view+json": {
       "model_id": "83d3c01263c741bb989ff40098be3ead",
       "version_major": 2,
       "version_minor": 0
      },
      "text/plain": [
       "  0%|          | 0/65 [00:00<?, ?it/s]"
      ]
     },
     "metadata": {},
     "output_type": "display_data"
    },
    {
     "name": "stdout",
     "output_type": "stream",
     "text": [
      "Loss → Total: 0.4029, Regression: 0.0065, Classification: 0.3964\n",
      "SM_0 → RMSE: 6.17614228, MAE: 4.71339703, ME: 0.64517254\n",
      "SM_20 → RMSE: 6.31453982, MAE: 4.91436386, ME: -0.17970198\n",
      "Classification → Accuracy: 0.93582888, F1-score: 0.93627175\n",
      "Epoch 52/60\n"
     ]
    },
    {
     "data": {
      "application/vnd.jupyter.widget-view+json": {
       "model_id": "9d5dca4c1d934d07a28ae75206d16e19",
       "version_major": 2,
       "version_minor": 0
      },
      "text/plain": [
       "  0%|          | 0/65 [00:00<?, ?it/s]"
      ]
     },
     "metadata": {},
     "output_type": "display_data"
    },
    {
     "name": "stdout",
     "output_type": "stream",
     "text": [
      "Loss → Total: 0.3670, Regression: 0.0069, Classification: 0.3601\n",
      "SM_0 → RMSE: 6.43438408, MAE: 4.91134596, ME: -1.57614243\n",
      "SM_20 → RMSE: 6.44283037, MAE: 4.97898674, ME: -1.29834425\n",
      "Classification → Accuracy: 0.94555177, F1-score: 0.94552553\n",
      "Epoch 53/60\n"
     ]
    },
    {
     "data": {
      "application/vnd.jupyter.widget-view+json": {
       "model_id": "41fd853a724a49ae9eb37d5bc281d19c",
       "version_major": 2,
       "version_minor": 0
      },
      "text/plain": [
       "  0%|          | 0/65 [00:00<?, ?it/s]"
      ]
     },
     "metadata": {},
     "output_type": "display_data"
    },
    {
     "name": "stdout",
     "output_type": "stream",
     "text": [
      "Loss → Total: 0.3216, Regression: 0.0062, Classification: 0.3154\n",
      "SM_0 → RMSE: 5.99855469, MAE: 4.60071850, ME: 0.52694947\n",
      "SM_20 → RMSE: 6.11434446, MAE: 4.67506027, ME: 0.82573056\n",
      "Classification → Accuracy: 0.94360719, F1-score: 0.94353654\n",
      "Epoch 54/60\n"
     ]
    },
    {
     "data": {
      "application/vnd.jupyter.widget-view+json": {
       "model_id": "0afb81afa3bd458eacd79804d561d071",
       "version_major": 2,
       "version_minor": 0
      },
      "text/plain": [
       "  0%|          | 0/65 [00:00<?, ?it/s]"
      ]
     },
     "metadata": {},
     "output_type": "display_data"
    },
    {
     "name": "stdout",
     "output_type": "stream",
     "text": [
      "Loss → Total: 0.3484, Regression: 0.0064, Classification: 0.3419\n",
      "SM_0 → RMSE: 6.14698707, MAE: 4.72728109, ME: 0.60703194\n",
      "SM_20 → RMSE: 6.14666094, MAE: 4.75513268, ME: -0.30033377\n",
      "Classification → Accuracy: 0.94409334, F1-score: 0.94423504\n",
      "Epoch 55/60\n"
     ]
    },
    {
     "data": {
      "application/vnd.jupyter.widget-view+json": {
       "model_id": "b1fc3c1b673346429953be97aef663b6",
       "version_major": 2,
       "version_minor": 0
      },
      "text/plain": [
       "  0%|          | 0/65 [00:00<?, ?it/s]"
      ]
     },
     "metadata": {},
     "output_type": "display_data"
    },
    {
     "name": "stdout",
     "output_type": "stream",
     "text": [
      "Loss → Total: 0.3588, Regression: 0.0062, Classification: 0.3526\n",
      "SM_0 → RMSE: 6.39435854, MAE: 4.91779566, ME: 1.16541278\n",
      "SM_20 → RMSE: 6.14190055, MAE: 4.74239540, ME: 0.38494310\n",
      "Classification → Accuracy: 0.94506563, F1-score: 0.94526850\n",
      "Epoch 56/60\n"
     ]
    },
    {
     "data": {
      "application/vnd.jupyter.widget-view+json": {
       "model_id": "f166d42dfea7453cb7414d9684e9cfad",
       "version_major": 2,
       "version_minor": 0
      },
      "text/plain": [
       "  0%|          | 0/65 [00:00<?, ?it/s]"
      ]
     },
     "metadata": {},
     "output_type": "display_data"
    },
    {
     "name": "stdout",
     "output_type": "stream",
     "text": [
      "Loss → Total: 0.3398, Regression: 0.0063, Classification: 0.3334\n",
      "SM_0 → RMSE: 6.05985226, MAE: 4.56119347, ME: 0.44023469\n",
      "SM_20 → RMSE: 6.27246269, MAE: 4.84736586, ME: 0.14622080\n",
      "Classification → Accuracy: 0.94020418, F1-score: 0.94025570\n",
      "Epoch 57/60\n"
     ]
    },
    {
     "data": {
      "application/vnd.jupyter.widget-view+json": {
       "model_id": "b619ca3d9e27475086c6965ba716d789",
       "version_major": 2,
       "version_minor": 0
      },
      "text/plain": [
       "  0%|          | 0/65 [00:00<?, ?it/s]"
      ]
     },
     "metadata": {},
     "output_type": "display_data"
    },
    {
     "name": "stdout",
     "output_type": "stream",
     "text": [
      "Loss → Total: 0.4215, Regression: 0.0078, Classification: 0.4138\n",
      "SM_0 → RMSE: 6.83174118, MAE: 5.35763550, ME: -1.13444924\n",
      "SM_20 → RMSE: 7.03249745, MAE: 5.57141495, ME: -1.04594362\n",
      "Classification → Accuracy: 0.94312105, F1-score: 0.94325005\n",
      "Epoch 58/60\n"
     ]
    },
    {
     "data": {
      "application/vnd.jupyter.widget-view+json": {
       "model_id": "d7d14c714695446799a6e793f840f191",
       "version_major": 2,
       "version_minor": 0
      },
      "text/plain": [
       "  0%|          | 0/65 [00:00<?, ?it/s]"
      ]
     },
     "metadata": {},
     "output_type": "display_data"
    },
    {
     "name": "stdout",
     "output_type": "stream",
     "text": [
      "Loss → Total: 0.3439, Regression: 0.0063, Classification: 0.3377\n",
      "SM_0 → RMSE: 5.97482263, MAE: 4.57052231, ME: -1.18802893\n",
      "SM_20 → RMSE: 6.52552683, MAE: 5.08291531, ME: -1.47966719\n",
      "Classification → Accuracy: 0.94701021, F1-score: 0.94715701\n",
      "Epoch 59/60\n"
     ]
    },
    {
     "data": {
      "application/vnd.jupyter.widget-view+json": {
       "model_id": "765b4aa941224950beb5bcf461bc428b",
       "version_major": 2,
       "version_minor": 0
      },
      "text/plain": [
       "  0%|          | 0/65 [00:00<?, ?it/s]"
      ]
     },
     "metadata": {},
     "output_type": "display_data"
    },
    {
     "name": "stdout",
     "output_type": "stream",
     "text": [
      "Loss → Total: 0.3319, Regression: 0.0067, Classification: 0.3252\n",
      "SM_0 → RMSE: 5.83152103, MAE: 4.46380997, ME: 0.12614352\n",
      "SM_20 → RMSE: 5.78387787, MAE: 4.46903658, ME: -0.41508880\n",
      "Classification → Accuracy: 0.94312105, F1-score: 0.94256933\n",
      "Epoch 60/60\n"
     ]
    },
    {
     "data": {
      "application/vnd.jupyter.widget-view+json": {
       "model_id": "adb4b69f32f24b2998bde5eaaee6e40f",
       "version_major": 2,
       "version_minor": 0
      },
      "text/plain": [
       "  0%|          | 0/65 [00:00<?, ?it/s]"
      ]
     },
     "metadata": {},
     "output_type": "display_data"
    },
    {
     "name": "stdout",
     "output_type": "stream",
     "text": [
      "Loss → Total: 0.3543, Regression: 0.0065, Classification: 0.3479\n",
      "SM_0 → RMSE: 6.10708739, MAE: 4.66016722, ME: 0.56167048\n",
      "SM_20 → RMSE: 6.01230504, MAE: 4.62651920, ME: 0.03675535\n",
      "Classification → Accuracy: 0.93874575, F1-score: 0.93828635\n"
     ]
    }
   ],
   "source": [
    "import torch\n",
    "import torch.nn as nn\n",
    "import pandas as pd\n",
    "import numpy as np\n",
    "from torch.utils.data import Dataset, DataLoader\n",
    "from torchvision import transforms\n",
    "from PIL import Image\n",
    "from sklearn.metrics import mean_squared_error, mean_absolute_error, accuracy_score, f1_score\n",
    "from tqdm.notebook import tqdm\n",
    "import timm\n",
    "import os\n",
    "import random\n",
    "\n",
    "device = torch.device(\"cuda\" if torch.cuda.is_available() else \"cpu\")\n",
    "print(f\"Using device: {device}\")\n",
    "print(f\"PyTorch version: {torch.__version__}\")\n",
    "\n",
    "df = pd.read_csv(r\"F:\\Soil_Labeled_Data\\labels.csv\")\n",
    "print(f\"Total labeled images before check: {len(df)}\")\n",
    "\n",
    "required_columns = ['path', 'SM_0', 'SM_20', 'light_value', 'moisture_class']\n",
    "missing_columns = [col for col in required_columns if col not in df.columns]\n",
    "if missing_columns:\n",
    "    raise ValueError(f\"DataFrame missing columns: {missing_columns}\")\n",
    "\n",
    "fallback_dir = r\"F:\\Soil_Labeled_Data\\augmented_fallback\"\n",
    "os.makedirs(fallback_dir, exist_ok=True)\n",
    "replaced_count = 0\n",
    "augment = transforms.ColorJitter(brightness=0.2, contrast=0.2)\n",
    "\n",
    "for idx, row in tqdm(df.iterrows(), total=len(df)):\n",
    "    path = row[\"path\"]\n",
    "    try:\n",
    "        img = Image.open(path).convert(\"RGB\")\n",
    "        img.verify()\n",
    "    except:\n",
    "        print(f\"Image error: {path}\")\n",
    "        folder = os.path.dirname(path)\n",
    "        all_images = [f for f in os.listdir(folder) if f.lower().endswith((\".jpg\", \".png\"))]\n",
    "        good_images = [f for f in all_images if f != os.path.basename(path)]\n",
    "        if not good_images:\n",
    "            print(f\"No replacement images in: {folder}\")\n",
    "            continue\n",
    "        candidate = random.choice(good_images)\n",
    "        candidate_path = os.path.join(folder, candidate)\n",
    "        try:\n",
    "            img = Image.open(candidate_path).convert(\"RGB\")\n",
    "            img_aug = augment(img)\n",
    "            new_filename = f\"aug_{os.path.basename(path)}\"\n",
    "            new_path = os.path.join(fallback_dir, new_filename)\n",
    "            img_aug.save(new_path)\n",
    "            df.at[idx, \"path\"] = new_path\n",
    "            replaced_count += 1\n",
    "            print(f\"Replaced with: {new_path}\")\n",
    "        except:\n",
    "            print(f\"Replacement image error: {candidate_path}\")\n",
    "            continue\n",
    "print(f\"Replaced {replaced_count} invalid images with augmented versions.\")\n",
    "\n",
    "transform = transforms.Compose([\n",
    "    transforms.Resize((224, 224)),\n",
    "    transforms.ToTensor(),\n",
    "    transforms.Normalize(mean=[0.485, 0.456, 0.406], std=[0.229, 0.224, 0.225])\n",
    "])\n",
    "\n",
    "class SoilDualTaskDataset(Dataset):\n",
    "    def __init__(self, dataframe, transform=None):\n",
    "        self.df = dataframe\n",
    "        self.transform = transform\n",
    "\n",
    "    def __len__(self):\n",
    "        return len(self.df)\n",
    "\n",
    "    def __getitem__(self, idx):\n",
    "        row = self.df.iloc[idx]\n",
    "        img = Image.open(row[\"path\"]).convert(\"RGB\")\n",
    "        if self.transform:\n",
    "            img = self.transform(img)\n",
    "        light = torch.tensor([row[\"light_value\"] / 100.0], dtype=torch.float32)\n",
    "        regression_target = torch.tensor([row[\"SM_0\"] / 100.0, row[\"SM_20\"] / 100.0], dtype=torch.float32)\n",
    "        class_target = torch.tensor(row[\"moisture_class\"], dtype=torch.long)\n",
    "        return {\n",
    "            \"image\": img,\n",
    "            \"light\": light,\n",
    "            \"regression_target\": regression_target,\n",
    "            \"class_target\": class_target\n",
    "        }\n",
    "\n",
    "class SoilNetDualHead(nn.Module):\n",
    "    def __init__(self, num_classes=10):\n",
    "        super().__init__()\n",
    "        self.initial_conv = nn.Conv2d(3, 32, kernel_size=3, stride=1, padding=1)\n",
    "        self.mnv2_block1 = nn.Sequential(*list(\n",
    "            timm.create_model(\"mobilenetv2_100.ra_in1k\", pretrained=True).blocks.children())[0:3]\n",
    "        )\n",
    "        self.channel_adapter = nn.Conv2d(32, 16, kernel_size=1, bias=False)\n",
    "        self.mobilevit_full = timm.create_model(\"mobilevitv2_050\", pretrained=True)\n",
    "        self.mobilevit_encoder = self.mobilevit_full.stages\n",
    "        self.mvit_to_mnv2 = nn.Conv2d(256, 32, kernel_size=1, bias=False)\n",
    "        self.mnv2_block2 = nn.Sequential(*list(\n",
    "            timm.create_model(\"mobilenetv2_100.ra_in1k\", pretrained=True).blocks.children())[3:7]\n",
    "        )\n",
    "        self.final_conv = nn.Conv2d(320, 1280, kernel_size=1)\n",
    "        self.pool = nn.AdaptiveAvgPool2d((1, 1))\n",
    "        self.light_dense = nn.Sequential(nn.Linear(1, 32), nn.ReLU(inplace=True))\n",
    "        self.reg_head = nn.Sequential(\n",
    "            nn.Linear(1280 + 32, 128),\n",
    "            nn.ReLU(inplace=True),\n",
    "            nn.Linear(128, 2)\n",
    "        )\n",
    "        self.cls_head = nn.Sequential(\n",
    "            nn.Linear(1280 + 32, 128),\n",
    "            nn.ReLU(inplace=True),\n",
    "            nn.Linear(128, num_classes)\n",
    "        )\n",
    "\n",
    "    def forward(self, x_img, x_light):\n",
    "        x = self.initial_conv(x_img)\n",
    "        x = self.mnv2_block1(x)\n",
    "        x = self.channel_adapter(x)\n",
    "        x = self.mobilevit_encoder(x)\n",
    "        x = self.mvit_to_mnv2(x)\n",
    "        x = self.mnv2_block2(x)\n",
    "        x = self.final_conv(x)\n",
    "        x = self.pool(x)\n",
    "        x_img_feat = torch.flatten(x, 1)\n",
    "        x_light_feat = self.light_dense(x_light)\n",
    "        x_concat = torch.cat([x_img_feat, x_light_feat], dim=1)\n",
    "        reg_out = self.reg_head(x_concat)\n",
    "        cls_out = self.cls_head(x_concat)\n",
    "        return reg_out, cls_out\n",
    "\n",
    "dataset = SoilDualTaskDataset(df, transform)\n",
    "dataloader = DataLoader(dataset, batch_size=32, shuffle=True, pin_memory=True if device.type == \"cuda\" else False, num_workers=0)\n",
    "\n",
    "num_classes = len(df[\"moisture_class\"].unique())\n",
    "model = SoilNetDualHead(num_classes=num_classes).to(device)\n",
    "\n",
    "checkpoint_path = r\"C:\\Users\\PC\\soilNet\\checkpoints_VicReg\\vicreg_model_final_mu_30.0.pth\"\n",
    "try:\n",
    "    checkpoint = torch.load(checkpoint_path, map_location=device, weights_only=False)\n",
    "    if isinstance(checkpoint, dict) and 'model_state_dict' in checkpoint:\n",
    "        model_state_dict = checkpoint['model_state_dict']\n",
    "    else:\n",
    "        model_state_dict = checkpoint\n",
    "    model_dict = model.state_dict()\n",
    "    pretrained_dict = {k: v for k, v in model_state_dict.items() \n",
    "                       if k in model_dict and model_dict[k].shape == v.shape}\n",
    "    temp_model_dict = model_dict.copy()\n",
    "    temp_model_dict.update(pretrained_dict)\n",
    "    missing_keys, unexpected_keys = model.load_state_dict(temp_model_dict, strict=False)\n",
    "    print(f\"Loaded pretrained weights from {checkpoint_path}\")\n",
    "    if missing_keys:\n",
    "        print(f\"Some keys missing in checkpoint and not loaded: {missing_keys}\")\n",
    "    if unexpected_keys:\n",
    "        print(f\"Some keys in checkpoint not in model and ignored: {unexpected_keys}\")\n",
    "except FileNotFoundError:\n",
    "    print(f\"Checkpoint not found: {checkpoint_path}. Using random initialization.\")\n",
    "except Exception as e:\n",
    "    print(f\"Error loading checkpoint: {e}. Using random initialization.\")\n",
    "\n",
    "optimizer = torch.optim.Adam(model.parameters(), lr=1e-4)\n",
    "reg_criterion = nn.MSELoss()\n",
    "cls_criterion = nn.CrossEntropyLoss()\n",
    "\n",
    "num_epochs = 60\n",
    "loss_history = []\n",
    "\n",
    "for epoch in range(num_epochs):\n",
    "    print(f\"Epoch {epoch+1}/{num_epochs}\")\n",
    "    model.train()\n",
    "    total_loss, total_reg_loss, total_cls_loss = 0, 0, 0\n",
    "    for batch in tqdm(dataloader, leave=False):\n",
    "        x_img = batch[\"image\"].to(device)\n",
    "        x_light = batch[\"light\"].to(device)\n",
    "        y_reg = batch[\"regression_target\"].to(device)\n",
    "        y_cls = batch[\"class_target\"].to(device)\n",
    "        optimizer.zero_grad()\n",
    "        pred_reg, pred_cls = model(x_img, x_light)\n",
    "        loss_reg = reg_criterion(pred_reg, y_reg)\n",
    "        loss_cls = cls_criterion(pred_cls, y_cls)\n",
    "        loss = loss_reg + loss_cls\n",
    "        loss.backward()\n",
    "        optimizer.step()\n",
    "        total_loss += loss.item()\n",
    "        total_reg_loss += loss_reg.item()\n",
    "        total_cls_loss += loss_cls.item()\n",
    "    avg_total = total_loss / len(dataloader)\n",
    "    loss_history.append((avg_total, total_reg_loss / len(dataloader), total_cls_loss / len(dataloader)))\n",
    "    print(f\"Loss → Total: {avg_total:.4f}, Regression: {total_reg_loss / len(dataloader):.4f}, Classification: {total_cls_loss / len(dataloader):.4f}\")\n",
    "    model.eval()\n",
    "    y_true_reg, y_pred_reg = [], []\n",
    "    y_true_cls, y_pred_cls = [], []\n",
    "    with torch.no_grad():\n",
    "        for batch in dataloader:\n",
    "            x_img = batch[\"image\"].to(device)\n",
    "            x_light = batch[\"light\"].to(device)\n",
    "            y_reg = batch[\"regression_target\"].to(device)\n",
    "            y_cls = batch[\"class_target\"].to(device)\n",
    "            pred_reg, pred_cls = model(x_img, x_light)\n",
    "            y_true_reg.extend(y_reg.cpu().numpy())\n",
    "            y_pred_reg.extend(pred_reg.cpu().numpy())\n",
    "            y_true_cls.extend(y_cls.cpu().numpy())\n",
    "            y_pred_cls.extend(pred_cls.argmax(dim=1).cpu().numpy())\n",
    "    y_true_reg = np.array(y_true_reg) * 100\n",
    "    y_pred_reg = np.array(y_pred_reg) * 100\n",
    "    metrics = {}\n",
    "    for i, label in enumerate([\"SM_0\", \"SM_20\"]):\n",
    "        metrics[label] = {\n",
    "            \"RMSE\": mean_squared_error(y_true_reg[:, i], y_pred_reg[:, i]) ** 0.5,\n",
    "            \"MAE\": mean_absolute_error(y_true_reg[:, i], y_pred_reg[:, i]),\n",
    "            \"ME\": np.mean(y_pred_reg[:, i] - y_true_reg[:, i]),\n",
    "        }\n",
    "    metrics[\"Classification\"] = {\n",
    "        \"Accuracy\": accuracy_score(y_true_cls, y_pred_cls),\n",
    "        \"F1-score\": f1_score(y_true_cls, y_pred_cls, average=\"weighted\")\n",
    "    }\n",
    "    for label in [\"SM_0\", \"SM_20\"]:\n",
    "        print(f\"{label} → RMSE: {metrics[label]['RMSE']:.8f}, MAE: {metrics[label]['MAE']:.8f}, ME: {metrics[label]['ME']:.8f}\")\n",
    "    print(f\"Classification → Accuracy: {metrics['Classification']['Accuracy']:.8f}, F1-score: {metrics['Classification']['F1-score']:.8f}\")\n",
    "\n",
    "torch.save(model.state_dict(), r\"C:\\Users\\PC\\soilNet\\checkpoints_VicReg\\finetune_mu_30.0.pth\")"
   ]
  }
 ],
 "metadata": {
  "kernelspec": {
   "display_name": "Python 3 (ipykernel)",
   "language": "python",
   "name": "python3"
  },
  "language_info": {
   "codemirror_mode": {
    "name": "ipython",
    "version": 3
   },
   "file_extension": ".py",
   "mimetype": "text/x-python",
   "name": "python",
   "nbconvert_exporter": "python",
   "pygments_lexer": "ipython3",
   "version": "3.10.16"
  }
 },
 "nbformat": 4,
 "nbformat_minor": 5
}
