{
 "cells": [
  {
   "cell_type": "code",
   "execution_count": 1,
   "id": "0596ce92-98d1-499d-9204-7ad71a132d13",
   "metadata": {},
   "outputs": [
    {
     "name": "stdout",
     "output_type": "stream",
     "text": [
      "PyTorch version: 2.6.0+cu118\n",
      "CUDA is available: True\n"
     ]
    }
   ],
   "source": [
    "import torch\n",
    "import torch.nn as nn\n",
    "import torch.nn.functional as F\n",
    "import timm\n",
    "import pandas as pd\n",
    "import numpy as np\n",
    "from PIL import Image, UnidentifiedImageError\n",
    "import os\n",
    "import glob\n",
    "import random\n",
    "from torchvision import transforms\n",
    "from torch.utils.data import Dataset, DataLoader\n",
    "from tqdm import tqdm\n",
    "from sklearn.metrics import mean_squared_error, mean_absolute_error, accuracy_score, f1_score\n",
    "import logging\n",
    "\n",
    "device = torch.device('cuda' if torch.cuda.is_available() else 'cpu')\n",
    "print(\"PyTorch version:\", torch.__version__)\n",
    "print(\"CUDA is available:\", torch.cuda.is_available())\n"
   ]
  },
  {
   "cell_type": "code",
   "execution_count": 2,
   "id": "966ef7e8-05d4-43fa-981d-6079476f01a4",
   "metadata": {},
   "outputs": [],
   "source": [
    "def preprocess_images(df):\n",
    "    new_df = df.copy()\n",
    "    deleted_count = 0\n",
    "    valid_indices = []\n",
    "    for idx, row in tqdm(new_df.iterrows(), total=len(new_df)):\n",
    "        path = row[\"path\"]\n",
    "        try:\n",
    "            img = Image.open(path).convert(\"RGB\")\n",
    "            img.verify()\n",
    "            valid_indices.append(idx)\n",
    "        except (UnidentifiedImageError, FileNotFoundError, OSError) as e:\n",
    "            logging.info(f\"Image error: {path} ({str(e)})\")\n",
    "            try:\n",
    "                if os.path.exists(path):\n",
    "                    os.remove(path)\n",
    "                    deleted_count += 1\n",
    "                    logging.info(f\"Deleted image: {path}\")\n",
    "            except (PermissionError, OSError) as e:\n",
    "                logging.error(f\"Cannot delete image {path}: {str(e)}\")\n",
    "    new_df = new_df.loc[valid_indices].reset_index(drop=True)\n",
    "    print(f\"Deleted {deleted_count} invalid labeled images. {len(new_df)} images remain.\")\n",
    "    logging.info(f\"Deleted {deleted_count} labeled images. {len(new_df)} images remain.\")\n",
    "    return new_df"
   ]
  },
  {
   "cell_type": "code",
   "execution_count": 3,
   "id": "a58ccc4c-3d30-4b46-b0e4-e3286cad4d0b",
   "metadata": {},
   "outputs": [
    {
     "name": "stdout",
     "output_type": "stream",
     "text": [
      "Total unlabeled images before check: 11995\n"
     ]
    },
    {
     "name": "stderr",
     "output_type": "stream",
     "text": [
      "100%|███████████████████████████████████████████████████████████████████████████| 11995/11995 [01:28<00:00, 134.81it/s]\n"
     ]
    },
    {
     "name": "stdout",
     "output_type": "stream",
     "text": [
      "Deleted 0 invalid unlabeled images. 11995 images remain.\n",
      "Images after check and error removal: 11995\n",
      "Total labeled images before check: 2057\n",
      "Sample image paths:\n",
      "0    F:\\Soil_Labeled_Data\\M_0_10\\L_0_10\\alluvial\\z5...\n",
      "1    F:\\Soil_Labeled_Data\\M_0_10\\L_0_10\\alluvial\\z5...\n",
      "2    F:\\Soil_Labeled_Data\\M_0_10\\L_0_10\\alluvial\\z5...\n",
      "3    F:\\Soil_Labeled_Data\\M_0_10\\L_0_10\\alluvial\\z5...\n",
      "4    F:\\Soil_Labeled_Data\\M_0_10\\L_0_10\\alluvial\\z5...\n",
      "Name: path, dtype: object\n"
     ]
    },
    {
     "name": "stderr",
     "output_type": "stream",
     "text": [
      "100%|██████████████████████████████████████████████████████████████████████████████| 2057/2057 [01:10<00:00, 29.32it/s]\n"
     ]
    },
    {
     "name": "stdout",
     "output_type": "stream",
     "text": [
      "Deleted 0 invalid labeled images. 2052 images remain.\n",
      "Checking and replacing invalid images...\n"
     ]
    },
    {
     "name": "stderr",
     "output_type": "stream",
     "text": [
      "100%|██████████████████████████████████████████████████████████████████████████████| 2052/2052 [01:10<00:00, 29.16it/s]"
     ]
    },
    {
     "name": "stdout",
     "output_type": "stream",
     "text": [
      "Replaced 0 invalid images with augmented versions.\n"
     ]
    },
    {
     "name": "stderr",
     "output_type": "stream",
     "text": [
      "\n"
     ]
    }
   ],
   "source": [
    "def preprocess_unlabeled_images(image_paths):\n",
    "    new_image_paths = []\n",
    "    deleted_count = 0\n",
    "    for path in tqdm(image_paths):\n",
    "        try:\n",
    "            img = Image.open(path).convert(\"RGB\")\n",
    "            img.verify()\n",
    "            new_image_paths.append(path)\n",
    "        except (UnidentifiedImageError, FileNotFoundError, OSError) as e:\n",
    "            logging.info(f\"Image error: {path} ({str(e)})\")\n",
    "            try:\n",
    "                if os.path.exists(path):\n",
    "                    os.remove(path)\n",
    "                    deleted_count += 1\n",
    "                    logging.info(f\"Deleted image: {path}\")\n",
    "            except (PermissionError, OSError) as e:\n",
    "                logging.error(f\"Cannot delete image {path}: {str(e)}\")\n",
    "    print(f\"Deleted {deleted_count} invalid unlabeled images. {len(new_image_paths)} images remain.\")\n",
    "    logging.info(f\"Deleted {deleted_count} unlabeled images. {len(new_image_paths)} images remain.\")\n",
    "    return new_image_paths\n",
    "\n",
    "image_dir = r\"F:/unlabeled_images\"\n",
    "image_paths = []\n",
    "for ext in [\"*.jpg\", \"*.jpeg\", \"*.png\", \"*.bmp\"]:\n",
    "    image_paths.extend(glob.glob(os.path.join(image_dir, \"**\", ext), recursive=True))\n",
    "print(f\"Total unlabeled images before check: {len(image_paths)}\")\n",
    "image_paths = preprocess_unlabeled_images(image_paths)\n",
    "print(f\"Images after check and error removal: {len(image_paths)}\")\n",
    "\n",
    "\n",
    "label_csv_path = r\"F:\\Soil_Labeled_Data\\labels.csv\"\n",
    "fallback_dir = r\"F:\\Soil_Labeled_Data\\augmented_fallback\"\n",
    "os.makedirs(fallback_dir, exist_ok=True)\n",
    "df = pd.read_csv(label_csv_path)\n",
    "print(f\"Total labeled images before check: {len(df)}\")\n",
    "print(\"Sample image paths:\")\n",
    "print(df[\"path\"].head())\n",
    "df = preprocess_images(df)\n",
    "\n",
    "augment = transforms.ColorJitter(brightness=0.2, contrast=0.2)\n",
    "replaced_count = 0\n",
    "print(\"Checking and replacing invalid images...\")\n",
    "for idx, row in tqdm(df.iterrows(), total=len(df)):\n",
    "    path = row[\"path\"]\n",
    "    try:\n",
    "        img = Image.open(path).convert(\"RGB\")\n",
    "        img.verify()\n",
    "    except (UnidentifiedImageError, FileNotFoundError, OSError):\n",
    "        print(f\"Image error: {path}\")\n",
    "        folder = os.path.dirname(path)\n",
    "        all_images = [f for f in os.listdir(folder) if f.lower().endswith((\".jpg\", \".png\"))]\n",
    "        good_images = [f for f in all_images if f != os.path.basename(path)]\n",
    "        if not good_images:\n",
    "            print(f\"No replacement images in: {folder}\")\n",
    "            continue\n",
    "        candidate = random.choice(good_images)\n",
    "        candidate_path = os.path.join(folder, candidate)\n",
    "        try:\n",
    "            img = Image.open(candidate_path).convert(\"RGB\")\n",
    "            img_aug = augment(img)\n",
    "            new_filename = f\"aug_{os.path.basename(path)}\"\n",
    "            new_path = os.path.join(fallback_dir, new_filename)\n",
    "            img_aug.save(new_path)\n",
    "            df.at[idx, \"path\"] = new_path\n",
    "            replaced_count += 1\n",
    "            print(f\"Replaced with: {new_path}\")\n",
    "        except Exception as e:\n",
    "            print(f\"Replacement image error: {candidate_path} ({e})\")\n",
    "print(f\"Replaced {replaced_count} invalid images with augmented versions.\")\n",
    "\n",
    "image_size = 224\n",
    "transform = transforms.Compose([\n",
    "    transforms.RandomResizedCrop(image_size, scale=(0.8, 1.0)),\n",
    "    transforms.RandomHorizontalFlip(p=0.5),\n",
    "    transforms.RandomApply([transforms.ColorJitter(brightness=0.4, contrast=0.4, saturation=0.4, hue=0.1)], p=0.8),\n",
    "    transforms.RandomGrayscale(p=0.2),\n",
    "    transforms.GaussianBlur(kernel_size=3, sigma=(0.1, 2.0)),\n",
    "    transforms.ToTensor(),\n",
    "    transforms.Normalize(mean=[0.485, 0.456, 0.406], std=[0.229, 0.224, 0.225])\n",
    "])\n",
    "\n",
    "labeled_transform = transforms.Compose([\n",
    "    transforms.Resize((image_size, image_size)),\n",
    "    transforms.ToTensor(),\n",
    "    transforms.Normalize(mean=[0.485, 0.456, 0.406], std=[0.229, 0.224, 0.225])\n",
    "])\n",
    "\n",
    "class UnlabeledImageDataset(Dataset):\n",
    "    def __init__(self, image_paths, transform):\n",
    "        self.image_paths = image_paths\n",
    "        self.transform = transform\n",
    "    def __len__(self):\n",
    "        return len(self.image_paths)\n",
    "    def __getitem__(self, idx):\n",
    "        try:\n",
    "            img_path = self.image_paths[idx]\n",
    "            image = Image.open(img_path).convert(\"RGB\")\n",
    "            img1 = self.transform(image)\n",
    "            img2 = self.transform(image)\n",
    "            return img1, img2\n",
    "        except Exception as e:\n",
    "            print(f\"Error reading image {img_path}: {e}\")\n",
    "            logging.error(f\"Error reading image {img_path}: {e}\")\n",
    "            return self.__getitem__((idx + 1) % len(self.image_paths))\n",
    "\n",
    "class LabeledImageDataset(Dataset):\n",
    "    def __init__(self, df, transform):\n",
    "        self.df = df\n",
    "        self.transform = transform\n",
    "    def __len__(self):\n",
    "        return len(self.df)\n",
    "    def __getitem__(self, idx):\n",
    "        row = self.df.iloc[idx]\n",
    "        img_path = row['path']\n",
    "        try:\n",
    "            image = Image.open(img_path).convert(\"RGB\")\n",
    "            img = self.transform(image)\n",
    "        except Exception as e:\n",
    "            print(f\"Error reading image {img_path}: {e}\")\n",
    "            logging.error(f\"Error reading image {img_path}: {e}\")\n",
    "            return self.__getitem__((idx + 1) % len(self.df))\n",
    "        humidity = torch.tensor([row['SM_0'] / 100, row['SM_20'] / 100], dtype=torch.float32)\n",
    "        class_label = torch.tensor(row[\"moisture_class\"], dtype=torch.long)\n",
    "        return img, humidity, class_label\n",
    "\n",
    "\n"
   ]
  },
  {
   "cell_type": "code",
   "execution_count": 4,
   "id": "e4fc52c1-eddc-4bc9-9373-9b9c710f62b1",
   "metadata": {},
   "outputs": [],
   "source": [
    "unlabeled_dataset = UnlabeledImageDataset(image_paths, transform)\n",
    "unlabeled_dataloader = DataLoader(unlabeled_dataset, batch_size=8, shuffle=True, drop_last=True, num_workers=0)\n",
    "labeled_dataset = LabeledImageDataset(df, labeled_transform)\n",
    "labeled_dataloader = DataLoader(labeled_dataset, batch_size=8, shuffle=True, drop_last=True, num_workers=0)"
   ]
  },
  {
   "cell_type": "code",
   "execution_count": 5,
   "id": "32a77d02-f202-4d02-8e4a-2b05da817f82",
   "metadata": {},
   "outputs": [],
   "source": [
    "class SoilNetDualHead(nn.Module):\n",
    "    def __init__(self, num_classes=10, simclr_mode=False):\n",
    "        super().__init__()\n",
    "        self.simclr_mode = simclr_mode\n",
    "        self.initial_conv = nn.Conv2d(3, 32, kernel_size=3, stride=1, padding=1)\n",
    "        self.mnv2_block1 = nn.Sequential(*list(\n",
    "            timm.create_model(\"mobilenetv2_100.ra_in1k\", pretrained=True).blocks.children())[0:3]\n",
    "        )\n",
    "        self.channel_adapter = nn.Conv2d(32, 16, kernel_size=1, bias=False)\n",
    "        self.mobilevit_full = timm.create_model(\"mobilevitv2_050\", pretrained=True)\n",
    "        self.mobilevit_encoder = self.mobilevit_full.stages\n",
    "        self.mvit_to_mnv2 = nn.Conv2d(256, 32, kernel_size=1, bias=False)\n",
    "        self.mnv2_block2 = nn.Sequential(*list(\n",
    "            timm.create_model(\"mobilenetv2_100.ra_in1k\", pretrained=True).blocks.children())[3:7]\n",
    "        )\n",
    "        self.final_conv = nn.Conv2d(320, 1280, kernel_size=1)\n",
    "        self.pool = nn.AdaptiveAvgPool2d((1, 1))\n",
    "        self.light_dense = nn.Sequential(nn.Linear(1, 32), nn.ReLU(inplace=True))\n",
    "        self.reg_head = nn.Sequential(\n",
    "            nn.Linear(1280 + 32, 128),\n",
    "            nn.ReLU(inplace=True),\n",
    "            nn.Linear(128, 2)\n",
    "        )\n",
    "        self.cls_head = nn.Sequential(\n",
    "            nn.Linear(1280 + 32, 128),\n",
    "            nn.ReLU(inplace=True),\n",
    "            nn.Linear(128, num_classes)\n",
    "        )\n",
    "\n",
    "    def forward(self, x_img, x_light=None):\n",
    "        x = self.initial_conv(x_img)\n",
    "        x = self.mnv2_block1(x)\n",
    "        x = self.channel_adapter(x)\n",
    "        x = self.mobilevit_encoder(x)\n",
    "        x = self.mvit_to_mnv2(x)\n",
    "        x = self.mnv2_block2(x)\n",
    "        x = self.final_conv(x)\n",
    "        x = self.pool(x)\n",
    "        x_img_feat = torch.flatten(x, 1)\n",
    "        if self.simclr_mode:\n",
    "            return x_img_feat\n",
    "        x_light_feat = self.light_dense(x_light)\n",
    "        x_concat = torch.cat([x_img_feat, x_light_feat], dim=1)\n",
    "        reg_out = self.reg_head(x_concat)\n",
    "        cls_out = self.cls_head(x_concat)\n",
    "        return reg_out, cls_out\n"
   ]
  },
  {
   "cell_type": "code",
   "execution_count": 6,
   "id": "54a8425c-d9e1-4df7-a303-4e540da0999d",
   "metadata": {},
   "outputs": [
    {
     "name": "stdout",
     "output_type": "stream",
     "text": [
      "Loaded backbone weights from soilnet_pretrained_imageNet.pth (ignoring light_dense, reg_head, cls_head)\n"
     ]
    }
   ],
   "source": [
    "class Projector(nn.Module):\n",
    "    def __init__(self, input_dim=1280, proj_dim=128):\n",
    "        super().__init__()\n",
    "        self.net = nn.Sequential(\n",
    "            nn.Linear(input_dim, input_dim),\n",
    "            nn.ReLU(inplace=True),\n",
    "            nn.Linear(input_dim, proj_dim)\n",
    "        )\n",
    "    def forward(self, x):\n",
    "        return self.net(x)\n",
    "\n",
    "class OnlineLinearRegression(nn.Module):\n",
    "    def __init__(self, input_dim=1280, output_dim=2):\n",
    "        super().__init__()\n",
    "        self.linear = nn.Linear(input_dim, output_dim)\n",
    "    def forward(self, x):\n",
    "        return self.linear(x)\n",
    "\n",
    "class OnlineClassifier(nn.Module):\n",
    "    def __init__(self, input_dim=1280, num_classes=10):\n",
    "        super().__init__()\n",
    "        self.linear = nn.Linear(input_dim, num_classes)\n",
    "    def forward(self, x):\n",
    "        return self.linear(x)\n",
    "\n",
    "def vicreg_loss(z1, z2, lambda_=25.0, mu=25.0, nu=1.0, epsilon=1e-4):\n",
    "    invariance_loss = F.mse_loss(z1, z2)\n",
    "    def variance_term(z):\n",
    "        z_std = torch.sqrt(z.var(dim=0) + epsilon)\n",
    "        return torch.mean(F.relu(1 - z_std))\n",
    "    var_loss = variance_term(z1) + variance_term(z2)\n",
    "    def covariance_term(z):\n",
    "        z = z - z.mean(dim=0)\n",
    "        cov = (z.T @ z) / (z.shape[0] - 1)\n",
    "        off_diag = cov - torch.diag(cov.diag())\n",
    "        return off_diag.pow(2).sum() / z.shape[1]\n",
    "    cov_loss = covariance_term(z1) + covariance_term(z2)\n",
    "    return lambda_ * invariance_loss + mu * var_loss + nu * cov_loss\n",
    "\n",
    "model = SoilNetDualHead(num_classes=10, simclr_mode=True).to(device)\n",
    "checkpoint_path = r\"C:\\Users\\PC\\soilNet\\Model\\Soilnet_pretrained_ImageNet.pth\"\n",
    "try:\n",
    "    state_dict = torch.load(checkpoint_path, map_location=device)\n",
    "    filtered_state_dict = {k: v for k, v in state_dict.items() if not k.startswith(('light_dense', 'reg_head', 'cls_head'))}\n",
    "    model.load_state_dict(filtered_state_dict, strict=False)\n",
    "    print(\"Loaded backbone weights from soilnet_pretrained_imageNet.pth (ignoring light_dense, reg_head, cls_head)\")\n",
    "except FileNotFoundError:\n",
    "    print(\"Checkpoint file not found, starting with random weights\")\n",
    "\n",
    "\n",
    "projector = Projector(input_dim=1280, proj_dim=128).to(device)\n",
    "linear_reg = OnlineLinearRegression(input_dim=1280, output_dim=2).to(device)\n",
    "classifier = OnlineClassifier(input_dim=1280, num_classes=10).to(device)\n",
    "\n",
    "\n",
    "optimizer_vicreg = torch.optim.Adam(list(model.parameters()) + list(projector.parameters()), lr=1e-4)\n",
    "optimizer_linear = torch.optim.Adam(linear_reg.parameters(), lr=1e-3)\n",
    "optimizer_classifier = torch.optim.Adam(classifier.parameters(), lr=1e-3)\n",
    "\n",
    "checkpoint_dir = r\"C:\\Users\\PC\\soilNet\\checkpoints_VicReg_tinyImagenet\"\n",
    "\n",
    "os.makedirs(checkpoint_dir, exist_ok=True)"
   ]
  },
  {
   "cell_type": "code",
   "execution_count": 7,
   "id": "d8a53a6b-0c26-4e41-9a7f-1ec945db99f2",
   "metadata": {},
   "outputs": [],
   "source": [
    "def train_vicreg_with_mu(mu=25.0, num_epochs=50):\n",
    "    vicreg_losses, mse_losses, rmse_losses, mae_losses, accuracy_scores, f1_scores = [], [], [], [], [], []\n",
    "    labeled_iterator = iter(labeled_dataloader)\n",
    "    for epoch in range(1, num_epochs + 1):\n",
    "        model.train()\n",
    "        projector.train()\n",
    "        linear_reg.train()\n",
    "        classifier.train()\n",
    "        running_vicreg_loss = running_mse = running_mae = running_accuracy = running_f1 = 0.0\n",
    "        num_batches = 0\n",
    "        # Gán vòng lặp tqdm vào biến loop\n",
    "        loop = tqdm(unlabeled_dataloader, leave=False)\n",
    "        for img1, img2 in loop:\n",
    "            img1, img2 = img1.to(device), img2.to(device)\n",
    "            feat1 = model(img1, x_light=None)\n",
    "            feat2 = model(img2, x_light=None)\n",
    "            z1 = projector(feat1)\n",
    "            z2 = projector(feat2)\n",
    "            vicreg_loss_val = vicreg_loss(z1, z2, mu=mu)\n",
    "            optimizer_vicreg.zero_grad()\n",
    "            vicreg_loss_val.backward()\n",
    "            optimizer_vicreg.step()\n",
    "            try:\n",
    "                labeled_img, humidity, class_label = next(labeled_iterator)\n",
    "            except StopIteration:\n",
    "                labeled_iterator = iter(labeled_dataloader)\n",
    "                labeled_img, humidity, class_label = next(labeled_iterator)\n",
    "            labeled_img, humidity, class_label = labeled_img.to(device), humidity.to(device), class_label.to(device)\n",
    "            with torch.no_grad():\n",
    "                feat = model(labeled_img, x_light=None)\n",
    "            pred_humidity = linear_reg(feat)\n",
    "            mse_loss = F.mse_loss(pred_humidity, humidity)\n",
    "            optimizer_linear.zero_grad()\n",
    "            mse_loss.backward()\n",
    "            optimizer_linear.step()\n",
    "            pred_logits = classifier(feat)\n",
    "            cls_loss = F.cross_entropy(pred_logits, class_label)\n",
    "            optimizer_classifier.zero_grad()\n",
    "            cls_loss.backward()\n",
    "            optimizer_classifier.step()\n",
    "            pred_humidity_np = pred_humidity.detach().cpu().numpy() * 100\n",
    "            humidity_np = humidity.detach().cpu().numpy() * 100\n",
    "            mse = mean_squared_error(humidity_np, pred_humidity_np)\n",
    "            rmse = np.sqrt(mse)\n",
    "            mae = mean_absolute_error(humidity_np, pred_humidity_np)\n",
    "            pred_classes = torch.argmax(pred_logits, dim=1).detach().cpu().numpy()\n",
    "            true_classes = class_label.detach().cpu().numpy()\n",
    "            accuracy = accuracy_score(true_classes, pred_classes)\n",
    "            f1 = f1_score(true_classes, pred_classes, average='weighted')\n",
    "            running_vicreg_loss += vicreg_loss_val.item()\n",
    "            running_mse += mse\n",
    "            running_mae += mae\n",
    "            running_accuracy += accuracy\n",
    "            running_f1 += f1\n",
    "            num_batches += 1\n",
    "            # Cập nhật tiến trình với loop.set_postfix\n",
    "            loop.set_postfix(vicreg_loss=vicreg_loss_val.item(), mse=mse, rmse=rmse, mae=mae, accuracy=accuracy, f1=f1)\n",
    "        avg_vicreg_loss = running_vicreg_loss / num_batches\n",
    "        avg_mse = running_mse / num_batches\n",
    "        avg_rmse = np.sqrt(avg_mse)\n",
    "        avg_mae = running_mae / num_batches\n",
    "        avg_accuracy = running_accuracy / num_batches\n",
    "        avg_f1 = running_f1 / num_batches\n",
    "        vicreg_losses.append(avg_vicreg_loss)\n",
    "        mse_losses.append(avg_mse)\n",
    "        rmse_losses.append(avg_rmse)\n",
    "        mae_losses.append(avg_mae)\n",
    "        accuracy_scores.append(avg_accuracy)\n",
    "        f1_scores.append(avg_f1)\n",
    "        print(f\"Epoch {epoch:3d}/{num_epochs} (mu={mu}) - VICReg Loss: {avg_vicreg_loss:.4f}, MSE: {avg_mse:.4f}, RMSE: {avg_rmse:.4f}, MAE: {avg_mae:.4f}, Accuracy: {avg_accuracy:.8f}, F1-Score: {avg_f1:.8f}\")\n",
    "        checkpoint = {\n",
    "            'epoch': epoch,\n",
    "            'model_state_dict': model.state_dict(),\n",
    "            'projector_state_dict': projector.state_dict(),\n",
    "            'linear_reg_state_dict': linear_reg.state_dict(),\n",
    "            'classifier_state_dict': classifier.state_dict(),\n",
    "            'vicreg_loss': avg_vicreg_loss,\n",
    "            'mse_loss': avg_mse,\n",
    "            'rmse_loss': avg_rmse,\n",
    "            'mae_loss': avg_mae,\n",
    "            'accuracy': avg_accuracy,\n",
    "            'f1_score': avg_f1\n",
    "        }\n",
    "        checkpoint_path = os.path.join(checkpoint_dir, f'vicreg_mu_{mu}_epoch_{epoch}.pth')\n",
    "        torch.save(checkpoint, checkpoint_path)\n",
    "        print(f\"Saved checkpoint: {checkpoint_path}\")\n",
    "        logging.info(f\"Saved checkpoint: {checkpoint_path}\")\n",
    "    final_model_path = os.path.join(checkpoint_dir, f'vicreg_model_final_mu_{mu}.pth')\n",
    "    final_projector_path = os.path.join(checkpoint_dir, f'vicreg_projector_final_mu_{mu}.pth')\n",
    "    final_linear_reg_path = os.path.join(checkpoint_dir, f'vicreg_linear_reg_final_mu_{mu}.pth')\n",
    "    final_classifier_path = os.path.join(checkpoint_dir, f'vicreg_classifier_final_mu_{mu}.pth')\n",
    "    torch.save(model.state_dict(), final_model_path)\n",
    "    torch.save(projector.state_dict(), final_projector_path)\n",
    "    torch.save(linear_reg.state_dict(), final_linear_reg_path)\n",
    "    torch.save(classifier.state_dict(), final_classifier_path)\n",
    "    print(f\"Saved final models (mu={mu}):\")\n",
    "    print(f\"  - Model: {final_model_path}\")\n",
    "    print(f\"  - Projector: {final_projector_path}\")\n",
    "    print(f\"  - Linear Regression: {final_linear_reg_path}\")\n",
    "    print(f\"  - Classifier: {final_classifier_path}\")\n",
    "    logging.info(f\"Saved final models (mu={mu}): {final_model_path}, {final_projector_path}, {final_linear_reg_path}, {final_classifier_path}\")"
   ]
  },
  {
   "cell_type": "code",
   "execution_count": 8,
   "id": "1bdfddd5-50d3-4ce5-85a3-54c83e48bfa2",
   "metadata": {
    "scrolled": true
   },
   "outputs": [
    {
     "name": "stderr",
     "output_type": "stream",
     "text": [
      "                                                                                                                       "
     ]
    },
    {
     "name": "stdout",
     "output_type": "stream",
     "text": [
      "Epoch   1/60 (mu=25.0) - VICReg Loss: 30.2515, MSE: 2853.9244, RMSE: 53.4221, MAE: 40.0958, Accuracy: 0.20813876, F1-Score: 0.21617388\n",
      "Saved checkpoint: C:\\Users\\PC\\soilNet\\checkpoints_VicReg_tinyImagenet\\vicreg_mu_25.0_epoch_1.pth\n"
     ]
    },
    {
     "name": "stderr",
     "output_type": "stream",
     "text": [
      "                                                                                                                       "
     ]
    },
    {
     "name": "stdout",
     "output_type": "stream",
     "text": [
      "Epoch   2/60 (mu=25.0) - VICReg Loss: 26.9875, MSE: 1209.4479, RMSE: 34.7771, MAE: 27.6702, Accuracy: 0.22456638, F1-Score: 0.23542918\n",
      "Saved checkpoint: C:\\Users\\PC\\soilNet\\checkpoints_VicReg_tinyImagenet\\vicreg_mu_25.0_epoch_2.pth\n"
     ]
    },
    {
     "name": "stderr",
     "output_type": "stream",
     "text": [
      "                                                                                                                       "
     ]
    },
    {
     "name": "stdout",
     "output_type": "stream",
     "text": [
      "Epoch   3/60 (mu=25.0) - VICReg Loss: 26.2491, MSE: 1205.3737, RMSE: 34.7185, MAE: 27.7883, Accuracy: 0.21772849, F1-Score: 0.22545784\n",
      "Saved checkpoint: C:\\Users\\PC\\soilNet\\checkpoints_VicReg_tinyImagenet\\vicreg_mu_25.0_epoch_3.pth\n"
     ]
    },
    {
     "name": "stderr",
     "output_type": "stream",
     "text": [
      "                                                                                                                       "
     ]
    },
    {
     "name": "stdout",
     "output_type": "stream",
     "text": [
      "Epoch   4/60 (mu=25.0) - VICReg Loss: 25.7885, MSE: 1198.5418, RMSE: 34.6200, MAE: 27.6862, Accuracy: 0.20597065, F1-Score: 0.21347883\n",
      "Saved checkpoint: C:\\Users\\PC\\soilNet\\checkpoints_VicReg_tinyImagenet\\vicreg_mu_25.0_epoch_4.pth\n"
     ]
    },
    {
     "name": "stderr",
     "output_type": "stream",
     "text": [
      "                                                                                                                       "
     ]
    },
    {
     "name": "stdout",
     "output_type": "stream",
     "text": [
      "Epoch   5/60 (mu=25.0) - VICReg Loss: 25.5577, MSE: 1228.2970, RMSE: 35.0471, MAE: 28.1012, Accuracy: 0.20597065, F1-Score: 0.21522801\n",
      "Saved checkpoint: C:\\Users\\PC\\soilNet\\checkpoints_VicReg_tinyImagenet\\vicreg_mu_25.0_epoch_5.pth\n"
     ]
    },
    {
     "name": "stderr",
     "output_type": "stream",
     "text": [
      "                                                                                                                       "
     ]
    },
    {
     "name": "stdout",
     "output_type": "stream",
     "text": [
      "Epoch   6/60 (mu=25.0) - VICReg Loss: 25.3801, MSE: 1194.6322, RMSE: 34.5635, MAE: 27.5555, Accuracy: 0.20913943, F1-Score: 0.21688546\n",
      "Saved checkpoint: C:\\Users\\PC\\soilNet\\checkpoints_VicReg_tinyImagenet\\vicreg_mu_25.0_epoch_6.pth\n"
     ]
    },
    {
     "name": "stderr",
     "output_type": "stream",
     "text": [
      "                                                                                                                       "
     ]
    },
    {
     "name": "stdout",
     "output_type": "stream",
     "text": [
      "Epoch   7/60 (mu=25.0) - VICReg Loss: 25.1892, MSE: 1231.8358, RMSE: 35.0975, MAE: 28.0979, Accuracy: 0.20363576, F1-Score: 0.21114553\n",
      "Saved checkpoint: C:\\Users\\PC\\soilNet\\checkpoints_VicReg_tinyImagenet\\vicreg_mu_25.0_epoch_7.pth\n"
     ]
    },
    {
     "name": "stderr",
     "output_type": "stream",
     "text": [
      "                                                                                                                       "
     ]
    },
    {
     "name": "stdout",
     "output_type": "stream",
     "text": [
      "Epoch   8/60 (mu=25.0) - VICReg Loss: 25.1329, MSE: 1186.0422, RMSE: 34.4390, MAE: 27.5057, Accuracy: 0.20888926, F1-Score: 0.21536818\n",
      "Saved checkpoint: C:\\Users\\PC\\soilNet\\checkpoints_VicReg_tinyImagenet\\vicreg_mu_25.0_epoch_8.pth\n"
     ]
    },
    {
     "name": "stderr",
     "output_type": "stream",
     "text": [
      "                                                                                                                       "
     ]
    },
    {
     "name": "stdout",
     "output_type": "stream",
     "text": [
      "Epoch   9/60 (mu=25.0) - VICReg Loss: 25.1211, MSE: 1226.0369, RMSE: 35.0148, MAE: 28.0423, Accuracy: 0.20280187, F1-Score: 0.20803393\n",
      "Saved checkpoint: C:\\Users\\PC\\soilNet\\checkpoints_VicReg_tinyImagenet\\vicreg_mu_25.0_epoch_9.pth\n"
     ]
    },
    {
     "name": "stderr",
     "output_type": "stream",
     "text": [
      "                                                                                                                       "
     ]
    },
    {
     "name": "stdout",
     "output_type": "stream",
     "text": [
      "Epoch  10/60 (mu=25.0) - VICReg Loss: 24.9500, MSE: 1201.7117, RMSE: 34.6657, MAE: 27.7841, Accuracy: 0.19979987, F1-Score: 0.20385019\n",
      "Saved checkpoint: C:\\Users\\PC\\soilNet\\checkpoints_VicReg_tinyImagenet\\vicreg_mu_25.0_epoch_10.pth\n"
     ]
    },
    {
     "name": "stderr",
     "output_type": "stream",
     "text": [
      "                                                                                                                       "
     ]
    },
    {
     "name": "stdout",
     "output_type": "stream",
     "text": [
      "Epoch  11/60 (mu=25.0) - VICReg Loss: 24.9040, MSE: 1257.3606, RMSE: 35.4593, MAE: 28.3374, Accuracy: 0.18829219, F1-Score: 0.19454795\n",
      "Saved checkpoint: C:\\Users\\PC\\soilNet\\checkpoints_VicReg_tinyImagenet\\vicreg_mu_25.0_epoch_11.pth\n"
     ]
    },
    {
     "name": "stderr",
     "output_type": "stream",
     "text": [
      "                                                                                                                       "
     ]
    },
    {
     "name": "stdout",
     "output_type": "stream",
     "text": [
      "Epoch  12/60 (mu=25.0) - VICReg Loss: 24.9318, MSE: 1226.4774, RMSE: 35.0211, MAE: 28.0665, Accuracy: 0.19746498, F1-Score: 0.20300875\n",
      "Saved checkpoint: C:\\Users\\PC\\soilNet\\checkpoints_VicReg_tinyImagenet\\vicreg_mu_25.0_epoch_12.pth\n"
     ]
    },
    {
     "name": "stderr",
     "output_type": "stream",
     "text": [
      "                                                                                                                       "
     ]
    },
    {
     "name": "stdout",
     "output_type": "stream",
     "text": [
      "Epoch  13/60 (mu=25.0) - VICReg Loss: 24.8430, MSE: 1286.5203, RMSE: 35.8681, MAE: 28.8342, Accuracy: 0.19204470, F1-Score: 0.19800145\n",
      "Saved checkpoint: C:\\Users\\PC\\soilNet\\checkpoints_VicReg_tinyImagenet\\vicreg_mu_25.0_epoch_13.pth\n"
     ]
    },
    {
     "name": "stderr",
     "output_type": "stream",
     "text": [
      "                                                                                                                       "
     ]
    },
    {
     "name": "stdout",
     "output_type": "stream",
     "text": [
      "Epoch  14/60 (mu=25.0) - VICReg Loss: 24.7493, MSE: 1222.7204, RMSE: 34.9674, MAE: 28.1124, Accuracy: 0.19246164, F1-Score: 0.19795320\n",
      "Saved checkpoint: C:\\Users\\PC\\soilNet\\checkpoints_VicReg_tinyImagenet\\vicreg_mu_25.0_epoch_14.pth\n"
     ]
    },
    {
     "name": "stderr",
     "output_type": "stream",
     "text": [
      "                                                                                                                       "
     ]
    },
    {
     "name": "stdout",
     "output_type": "stream",
     "text": [
      "Epoch  15/60 (mu=25.0) - VICReg Loss: 24.7715, MSE: 1247.4307, RMSE: 35.3190, MAE: 28.3831, Accuracy: 0.19062708, F1-Score: 0.19597867\n",
      "Saved checkpoint: C:\\Users\\PC\\soilNet\\checkpoints_VicReg_tinyImagenet\\vicreg_mu_25.0_epoch_15.pth\n"
     ]
    },
    {
     "name": "stderr",
     "output_type": "stream",
     "text": [
      "                                                                                                                       "
     ]
    },
    {
     "name": "stdout",
     "output_type": "stream",
     "text": [
      "Epoch  16/60 (mu=25.0) - VICReg Loss: 24.7828, MSE: 1226.4921, RMSE: 35.0213, MAE: 28.1393, Accuracy: 0.18537358, F1-Score: 0.19032768\n",
      "Saved checkpoint: C:\\Users\\PC\\soilNet\\checkpoints_VicReg_tinyImagenet\\vicreg_mu_25.0_epoch_16.pth\n"
     ]
    },
    {
     "name": "stderr",
     "output_type": "stream",
     "text": [
      "                                                                                                                       "
     ]
    },
    {
     "name": "stdout",
     "output_type": "stream",
     "text": [
      "Epoch  17/60 (mu=25.0) - VICReg Loss: 24.6949, MSE: 1250.3679, RMSE: 35.3605, MAE: 28.4076, Accuracy: 0.19654770, F1-Score: 0.20219392\n",
      "Saved checkpoint: C:\\Users\\PC\\soilNet\\checkpoints_VicReg_tinyImagenet\\vicreg_mu_25.0_epoch_17.pth\n"
     ]
    },
    {
     "name": "stderr",
     "output_type": "stream",
     "text": [
      "                                                                                                                       "
     ]
    },
    {
     "name": "stdout",
     "output_type": "stream",
     "text": [
      "Epoch  18/60 (mu=25.0) - VICReg Loss: 24.6485, MSE: 1214.3652, RMSE: 34.8477, MAE: 27.9299, Accuracy: 0.19129420, F1-Score: 0.19734175\n",
      "Saved checkpoint: C:\\Users\\PC\\soilNet\\checkpoints_VicReg_tinyImagenet\\vicreg_mu_25.0_epoch_18.pth\n"
     ]
    },
    {
     "name": "stderr",
     "output_type": "stream",
     "text": [
      "                                                                                                                       "
     ]
    },
    {
     "name": "stdout",
     "output_type": "stream",
     "text": [
      "Epoch  19/60 (mu=25.0) - VICReg Loss: 24.5831, MSE: 1232.9924, RMSE: 35.1140, MAE: 28.1392, Accuracy: 0.18595730, F1-Score: 0.18908360\n",
      "Saved checkpoint: C:\\Users\\PC\\soilNet\\checkpoints_VicReg_tinyImagenet\\vicreg_mu_25.0_epoch_19.pth\n"
     ]
    },
    {
     "name": "stderr",
     "output_type": "stream",
     "text": [
      "                                                                                                                       "
     ]
    },
    {
     "name": "stdout",
     "output_type": "stream",
     "text": [
      "Epoch  20/60 (mu=25.0) - VICReg Loss: 24.6236, MSE: 1244.0504, RMSE: 35.2711, MAE: 28.3693, Accuracy: 0.18428953, F1-Score: 0.19001001\n",
      "Saved checkpoint: C:\\Users\\PC\\soilNet\\checkpoints_VicReg_tinyImagenet\\vicreg_mu_25.0_epoch_20.pth\n"
     ]
    },
    {
     "name": "stderr",
     "output_type": "stream",
     "text": [
      "                                                                                                                       "
     ]
    },
    {
     "name": "stdout",
     "output_type": "stream",
     "text": [
      "Epoch  21/60 (mu=25.0) - VICReg Loss: 24.5081, MSE: 1245.2074, RMSE: 35.2875, MAE: 28.4354, Accuracy: 0.18712475, F1-Score: 0.19225515\n",
      "Saved checkpoint: C:\\Users\\PC\\soilNet\\checkpoints_VicReg_tinyImagenet\\vicreg_mu_25.0_epoch_21.pth\n"
     ]
    },
    {
     "name": "stderr",
     "output_type": "stream",
     "text": [
      "                                                                                                                       "
     ]
    },
    {
     "name": "stdout",
     "output_type": "stream",
     "text": [
      "Epoch  22/60 (mu=25.0) - VICReg Loss: 24.5537, MSE: 1252.3310, RMSE: 35.3883, MAE: 28.5347, Accuracy: 0.19087725, F1-Score: 0.19426840\n",
      "Saved checkpoint: C:\\Users\\PC\\soilNet\\checkpoints_VicReg_tinyImagenet\\vicreg_mu_25.0_epoch_22.pth\n"
     ]
    },
    {
     "name": "stderr",
     "output_type": "stream",
     "text": [
      "                                                                                                                       "
     ]
    },
    {
     "name": "stdout",
     "output_type": "stream",
     "text": [
      "Epoch  23/60 (mu=25.0) - VICReg Loss: 24.5306, MSE: 1210.4412, RMSE: 34.7914, MAE: 27.8666, Accuracy: 0.19279520, F1-Score: 0.19833441\n",
      "Saved checkpoint: C:\\Users\\PC\\soilNet\\checkpoints_VicReg_tinyImagenet\\vicreg_mu_25.0_epoch_23.pth\n"
     ]
    },
    {
     "name": "stderr",
     "output_type": "stream",
     "text": [
      "                                                                                                                       "
     ]
    },
    {
     "name": "stdout",
     "output_type": "stream",
     "text": [
      "Epoch  24/60 (mu=25.0) - VICReg Loss: 24.5639, MSE: 1297.9822, RMSE: 36.0275, MAE: 28.9517, Accuracy: 0.19046031, F1-Score: 0.19550176\n",
      "Saved checkpoint: C:\\Users\\PC\\soilNet\\checkpoints_VicReg_tinyImagenet\\vicreg_mu_25.0_epoch_24.pth\n"
     ]
    },
    {
     "name": "stderr",
     "output_type": "stream",
     "text": [
      "                                                                                                                       "
     ]
    },
    {
     "name": "stdout",
     "output_type": "stream",
     "text": [
      "Epoch  25/60 (mu=25.0) - VICReg Loss: 24.4883, MSE: 1209.4492, RMSE: 34.7771, MAE: 27.9141, Accuracy: 0.18979320, F1-Score: 0.19371287\n",
      "Saved checkpoint: C:\\Users\\PC\\soilNet\\checkpoints_VicReg_tinyImagenet\\vicreg_mu_25.0_epoch_25.pth\n"
     ]
    },
    {
     "name": "stderr",
     "output_type": "stream",
     "text": [
      "                                                                                                                       "
     ]
    },
    {
     "name": "stdout",
     "output_type": "stream",
     "text": [
      "Epoch  26/60 (mu=25.0) - VICReg Loss: 24.4495, MSE: 1285.0281, RMSE: 35.8473, MAE: 28.8200, Accuracy: 0.18712475, F1-Score: 0.19105574\n",
      "Saved checkpoint: C:\\Users\\PC\\soilNet\\checkpoints_VicReg_tinyImagenet\\vicreg_mu_25.0_epoch_26.pth\n"
     ]
    },
    {
     "name": "stderr",
     "output_type": "stream",
     "text": [
      "                                                                                                                       "
     ]
    },
    {
     "name": "stdout",
     "output_type": "stream",
     "text": [
      "Epoch  27/60 (mu=25.0) - VICReg Loss: 24.4821, MSE: 1254.4404, RMSE: 35.4181, MAE: 28.5292, Accuracy: 0.18604069, F1-Score: 0.19050478\n",
      "Saved checkpoint: C:\\Users\\PC\\soilNet\\checkpoints_VicReg_tinyImagenet\\vicreg_mu_25.0_epoch_27.pth\n"
     ]
    },
    {
     "name": "stderr",
     "output_type": "stream",
     "text": [
      "                                                                                                                       "
     ]
    },
    {
     "name": "stdout",
     "output_type": "stream",
     "text": [
      "Epoch  28/60 (mu=25.0) - VICReg Loss: 24.4250, MSE: 1293.3704, RMSE: 35.9635, MAE: 28.9872, Accuracy: 0.18237158, F1-Score: 0.18658987\n",
      "Saved checkpoint: C:\\Users\\PC\\soilNet\\checkpoints_VicReg_tinyImagenet\\vicreg_mu_25.0_epoch_28.pth\n"
     ]
    },
    {
     "name": "stderr",
     "output_type": "stream",
     "text": [
      "                                                                                                                       "
     ]
    },
    {
     "name": "stdout",
     "output_type": "stream",
     "text": [
      "Epoch  29/60 (mu=25.0) - VICReg Loss: 24.4140, MSE: 1269.2455, RMSE: 35.6265, MAE: 28.6705, Accuracy: 0.18712475, F1-Score: 0.18998698\n",
      "Saved checkpoint: C:\\Users\\PC\\soilNet\\checkpoints_VicReg_tinyImagenet\\vicreg_mu_25.0_epoch_29.pth\n"
     ]
    },
    {
     "name": "stderr",
     "output_type": "stream",
     "text": [
      "                                                                                                                       "
     ]
    },
    {
     "name": "stdout",
     "output_type": "stream",
     "text": [
      "Epoch  30/60 (mu=25.0) - VICReg Loss: 24.3782, MSE: 1273.3696, RMSE: 35.6843, MAE: 28.6872, Accuracy: 0.18904270, F1-Score: 0.19372101\n",
      "Saved checkpoint: C:\\Users\\PC\\soilNet\\checkpoints_VicReg_tinyImagenet\\vicreg_mu_25.0_epoch_30.pth\n"
     ]
    },
    {
     "name": "stderr",
     "output_type": "stream",
     "text": [
      "                                                                                                                       "
     ]
    },
    {
     "name": "stdout",
     "output_type": "stream",
     "text": [
      "Epoch  31/60 (mu=25.0) - VICReg Loss: 24.3081, MSE: 1288.4475, RMSE: 35.8950, MAE: 28.9829, Accuracy: 0.17803536, F1-Score: 0.18188554\n",
      "Saved checkpoint: C:\\Users\\PC\\soilNet\\checkpoints_VicReg_tinyImagenet\\vicreg_mu_25.0_epoch_31.pth\n"
     ]
    },
    {
     "name": "stderr",
     "output_type": "stream",
     "text": [
      "                                                                                                                       "
     ]
    },
    {
     "name": "stdout",
     "output_type": "stream",
     "text": [
      "Epoch  32/60 (mu=25.0) - VICReg Loss: 24.4237, MSE: 1218.7756, RMSE: 34.9110, MAE: 28.2336, Accuracy: 0.19062708, F1-Score: 0.19376906\n",
      "Saved checkpoint: C:\\Users\\PC\\soilNet\\checkpoints_VicReg_tinyImagenet\\vicreg_mu_25.0_epoch_32.pth\n"
     ]
    },
    {
     "name": "stderr",
     "output_type": "stream",
     "text": [
      "                                                                                                                       "
     ]
    },
    {
     "name": "stdout",
     "output_type": "stream",
     "text": [
      "Epoch  33/60 (mu=25.0) - VICReg Loss: 24.3508, MSE: 1240.6039, RMSE: 35.2222, MAE: 28.4670, Accuracy: 0.18629086, F1-Score: 0.19039518\n",
      "Saved checkpoint: C:\\Users\\PC\\soilNet\\checkpoints_VicReg_tinyImagenet\\vicreg_mu_25.0_epoch_33.pth\n"
     ]
    },
    {
     "name": "stderr",
     "output_type": "stream",
     "text": [
      "                                                                                                                       "
     ]
    },
    {
     "name": "stdout",
     "output_type": "stream",
     "text": [
      "Epoch  34/60 (mu=25.0) - VICReg Loss: 24.3069, MSE: 1309.2586, RMSE: 36.1837, MAE: 29.0286, Accuracy: 0.17928619, F1-Score: 0.18186331\n",
      "Saved checkpoint: C:\\Users\\PC\\soilNet\\checkpoints_VicReg_tinyImagenet\\vicreg_mu_25.0_epoch_34.pth\n"
     ]
    },
    {
     "name": "stderr",
     "output_type": "stream",
     "text": [
      "                                                                                                                       "
     ]
    },
    {
     "name": "stdout",
     "output_type": "stream",
     "text": [
      "Epoch  35/60 (mu=25.0) - VICReg Loss: 24.3105, MSE: 1294.7622, RMSE: 35.9828, MAE: 28.9528, Accuracy: 0.18595730, F1-Score: 0.18923806\n",
      "Saved checkpoint: C:\\Users\\PC\\soilNet\\checkpoints_VicReg_tinyImagenet\\vicreg_mu_25.0_epoch_35.pth\n"
     ]
    },
    {
     "name": "stderr",
     "output_type": "stream",
     "text": [
      "                                                                                                                       "
     ]
    },
    {
     "name": "stdout",
     "output_type": "stream",
     "text": [
      "Epoch  36/60 (mu=25.0) - VICReg Loss: 24.2939, MSE: 1297.6451, RMSE: 36.0228, MAE: 29.0317, Accuracy: 0.17686791, F1-Score: 0.17982246\n",
      "Saved checkpoint: C:\\Users\\PC\\soilNet\\checkpoints_VicReg_tinyImagenet\\vicreg_mu_25.0_epoch_36.pth\n"
     ]
    },
    {
     "name": "stderr",
     "output_type": "stream",
     "text": [
      "                                                                                                                       "
     ]
    },
    {
     "name": "stdout",
     "output_type": "stream",
     "text": [
      "Epoch  37/60 (mu=25.0) - VICReg Loss: 24.3600, MSE: 1313.1614, RMSE: 36.2376, MAE: 29.2612, Accuracy: 0.17386591, F1-Score: 0.17882795\n",
      "Saved checkpoint: C:\\Users\\PC\\soilNet\\checkpoints_VicReg_tinyImagenet\\vicreg_mu_25.0_epoch_37.pth\n"
     ]
    },
    {
     "name": "stderr",
     "output_type": "stream",
     "text": [
      "                                                                                                                       "
     ]
    },
    {
     "name": "stdout",
     "output_type": "stream",
     "text": [
      "Epoch  38/60 (mu=25.0) - VICReg Loss: 24.3199, MSE: 1260.7448, RMSE: 35.5070, MAE: 28.6009, Accuracy: 0.17578386, F1-Score: 0.18002994\n",
      "Saved checkpoint: C:\\Users\\PC\\soilNet\\checkpoints_VicReg_tinyImagenet\\vicreg_mu_25.0_epoch_38.pth\n"
     ]
    },
    {
     "name": "stderr",
     "output_type": "stream",
     "text": [
      "                                                                                                                       "
     ]
    },
    {
     "name": "stdout",
     "output_type": "stream",
     "text": [
      "Epoch  39/60 (mu=25.0) - VICReg Loss: 24.3031, MSE: 1299.8442, RMSE: 36.0534, MAE: 28.9567, Accuracy: 0.18353903, F1-Score: 0.18838948\n",
      "Saved checkpoint: C:\\Users\\PC\\soilNet\\checkpoints_VicReg_tinyImagenet\\vicreg_mu_25.0_epoch_39.pth\n"
     ]
    },
    {
     "name": "stderr",
     "output_type": "stream",
     "text": [
      "                                                                                                                       "
     ]
    },
    {
     "name": "stdout",
     "output_type": "stream",
     "text": [
      "Epoch  40/60 (mu=25.0) - VICReg Loss: 24.2420, MSE: 1303.7230, RMSE: 36.1071, MAE: 29.1586, Accuracy: 0.17853569, F1-Score: 0.18314194\n",
      "Saved checkpoint: C:\\Users\\PC\\soilNet\\checkpoints_VicReg_tinyImagenet\\vicreg_mu_25.0_epoch_40.pth\n"
     ]
    },
    {
     "name": "stderr",
     "output_type": "stream",
     "text": [
      "                                                                                                                       "
     ]
    },
    {
     "name": "stdout",
     "output_type": "stream",
     "text": [
      "Epoch  41/60 (mu=25.0) - VICReg Loss: 24.3002, MSE: 1298.2293, RMSE: 36.0309, MAE: 29.1188, Accuracy: 0.17595063, F1-Score: 0.17929652\n",
      "Saved checkpoint: C:\\Users\\PC\\soilNet\\checkpoints_VicReg_tinyImagenet\\vicreg_mu_25.0_epoch_41.pth\n"
     ]
    },
    {
     "name": "stderr",
     "output_type": "stream",
     "text": [
      "                                                                                                                       "
     ]
    },
    {
     "name": "stdout",
     "output_type": "stream",
     "text": [
      "Epoch  42/60 (mu=25.0) - VICReg Loss: 24.1892, MSE: 1297.5596, RMSE: 36.0217, MAE: 29.0185, Accuracy: 0.17628419, F1-Score: 0.17931994\n",
      "Saved checkpoint: C:\\Users\\PC\\soilNet\\checkpoints_VicReg_tinyImagenet\\vicreg_mu_25.0_epoch_42.pth\n"
     ]
    },
    {
     "name": "stderr",
     "output_type": "stream",
     "text": [
      "                                                                                                                       "
     ]
    },
    {
     "name": "stdout",
     "output_type": "stream",
     "text": [
      "Epoch  43/60 (mu=25.0) - VICReg Loss: 24.2234, MSE: 1315.8699, RMSE: 36.2749, MAE: 29.1774, Accuracy: 0.17761841, F1-Score: 0.18065297\n",
      "Saved checkpoint: C:\\Users\\PC\\soilNet\\checkpoints_VicReg_tinyImagenet\\vicreg_mu_25.0_epoch_43.pth\n"
     ]
    },
    {
     "name": "stderr",
     "output_type": "stream",
     "text": [
      "                                                                                                                       "
     ]
    },
    {
     "name": "stdout",
     "output_type": "stream",
     "text": [
      "Epoch  44/60 (mu=25.0) - VICReg Loss: 24.2438, MSE: 1285.3561, RMSE: 35.8519, MAE: 28.9971, Accuracy: 0.18012008, F1-Score: 0.18258541\n",
      "Saved checkpoint: C:\\Users\\PC\\soilNet\\checkpoints_VicReg_tinyImagenet\\vicreg_mu_25.0_epoch_44.pth\n"
     ]
    },
    {
     "name": "stderr",
     "output_type": "stream",
     "text": [
      "                                                                                                                       "
     ]
    },
    {
     "name": "stdout",
     "output_type": "stream",
     "text": [
      "Epoch  45/60 (mu=25.0) - VICReg Loss: 24.2269, MSE: 1317.5387, RMSE: 36.2979, MAE: 29.2116, Accuracy: 0.17720147, F1-Score: 0.18046634\n",
      "Saved checkpoint: C:\\Users\\PC\\soilNet\\checkpoints_VicReg_tinyImagenet\\vicreg_mu_25.0_epoch_45.pth\n"
     ]
    },
    {
     "name": "stderr",
     "output_type": "stream",
     "text": [
      "                                                                                                                       "
     ]
    },
    {
     "name": "stdout",
     "output_type": "stream",
     "text": [
      "Epoch  46/60 (mu=25.0) - VICReg Loss: 24.2037, MSE: 1285.0377, RMSE: 35.8474, MAE: 28.9760, Accuracy: 0.17561708, F1-Score: 0.17803992\n",
      "Saved checkpoint: C:\\Users\\PC\\soilNet\\checkpoints_VicReg_tinyImagenet\\vicreg_mu_25.0_epoch_46.pth\n"
     ]
    },
    {
     "name": "stderr",
     "output_type": "stream",
     "text": [
      "                                                                                                                       "
     ]
    },
    {
     "name": "stdout",
     "output_type": "stream",
     "text": [
      "Epoch  47/60 (mu=25.0) - VICReg Loss: 24.2380, MSE: 1319.2250, RMSE: 36.3211, MAE: 29.3391, Accuracy: 0.17486658, F1-Score: 0.17787136\n",
      "Saved checkpoint: C:\\Users\\PC\\soilNet\\checkpoints_VicReg_tinyImagenet\\vicreg_mu_25.0_epoch_47.pth\n"
     ]
    },
    {
     "name": "stderr",
     "output_type": "stream",
     "text": [
      "                                                                                                                       "
     ]
    },
    {
     "name": "stdout",
     "output_type": "stream",
     "text": [
      "Epoch  48/60 (mu=25.0) - VICReg Loss: 24.1939, MSE: 1277.4949, RMSE: 35.7421, MAE: 28.7623, Accuracy: 0.17294863, F1-Score: 0.17713793\n",
      "Saved checkpoint: C:\\Users\\PC\\soilNet\\checkpoints_VicReg_tinyImagenet\\vicreg_mu_25.0_epoch_48.pth\n"
     ]
    },
    {
     "name": "stderr",
     "output_type": "stream",
     "text": [
      "                                                                                                                       "
     ]
    },
    {
     "name": "stdout",
     "output_type": "stream",
     "text": [
      "Epoch  49/60 (mu=25.0) - VICReg Loss: 24.1727, MSE: 1303.4489, RMSE: 36.1033, MAE: 29.0833, Accuracy: 0.18028686, F1-Score: 0.18234259\n",
      "Saved checkpoint: C:\\Users\\PC\\soilNet\\checkpoints_VicReg_tinyImagenet\\vicreg_mu_25.0_epoch_49.pth\n"
     ]
    },
    {
     "name": "stderr",
     "output_type": "stream",
     "text": [
      "                                                                                                                       "
     ]
    },
    {
     "name": "stdout",
     "output_type": "stream",
     "text": [
      "Epoch  50/60 (mu=25.0) - VICReg Loss: 24.1464, MSE: 1295.7946, RMSE: 35.9971, MAE: 28.9839, Accuracy: 0.18103736, F1-Score: 0.18445710\n",
      "Saved checkpoint: C:\\Users\\PC\\soilNet\\checkpoints_VicReg_tinyImagenet\\vicreg_mu_25.0_epoch_50.pth\n"
     ]
    },
    {
     "name": "stderr",
     "output_type": "stream",
     "text": [
      "                                                                                                                       "
     ]
    },
    {
     "name": "stdout",
     "output_type": "stream",
     "text": [
      "Epoch  51/60 (mu=25.0) - VICReg Loss: 24.1317, MSE: 1277.3186, RMSE: 35.7396, MAE: 28.8238, Accuracy: 0.17528352, F1-Score: 0.17741351\n",
      "Saved checkpoint: C:\\Users\\PC\\soilNet\\checkpoints_VicReg_tinyImagenet\\vicreg_mu_25.0_epoch_51.pth\n"
     ]
    },
    {
     "name": "stderr",
     "output_type": "stream",
     "text": [
      "                                                                                                                       "
     ]
    },
    {
     "name": "stdout",
     "output_type": "stream",
     "text": [
      "Epoch  52/60 (mu=25.0) - VICReg Loss: 24.1537, MSE: 1291.4201, RMSE: 35.9363, MAE: 28.9718, Accuracy: 0.17403269, F1-Score: 0.17837288\n",
      "Saved checkpoint: C:\\Users\\PC\\soilNet\\checkpoints_VicReg_tinyImagenet\\vicreg_mu_25.0_epoch_52.pth\n"
     ]
    },
    {
     "name": "stderr",
     "output_type": "stream",
     "text": [
      "                                                                                                                       "
     ]
    },
    {
     "name": "stdout",
     "output_type": "stream",
     "text": [
      "Epoch  53/60 (mu=25.0) - VICReg Loss: 24.1375, MSE: 1249.8390, RMSE: 35.3531, MAE: 28.4609, Accuracy: 0.18387258, F1-Score: 0.18664229\n",
      "Saved checkpoint: C:\\Users\\PC\\soilNet\\checkpoints_VicReg_tinyImagenet\\vicreg_mu_25.0_epoch_53.pth\n"
     ]
    },
    {
     "name": "stderr",
     "output_type": "stream",
     "text": [
      "                                                                                                                       "
     ]
    },
    {
     "name": "stdout",
     "output_type": "stream",
     "text": [
      "Epoch  54/60 (mu=25.0) - VICReg Loss: 24.1920, MSE: 1199.9253, RMSE: 34.6399, MAE: 27.9119, Accuracy: 0.17686791, F1-Score: 0.17989453\n",
      "Saved checkpoint: C:\\Users\\PC\\soilNet\\checkpoints_VicReg_tinyImagenet\\vicreg_mu_25.0_epoch_54.pth\n"
     ]
    },
    {
     "name": "stderr",
     "output_type": "stream",
     "text": [
      "                                                                                                                       "
     ]
    },
    {
     "name": "stdout",
     "output_type": "stream",
     "text": [
      "Epoch  55/60 (mu=25.0) - VICReg Loss: 24.1381, MSE: 1315.6266, RMSE: 36.2716, MAE: 29.0392, Accuracy: 0.17836891, F1-Score: 0.18100241\n",
      "Saved checkpoint: C:\\Users\\PC\\soilNet\\checkpoints_VicReg_tinyImagenet\\vicreg_mu_25.0_epoch_55.pth\n"
     ]
    },
    {
     "name": "stderr",
     "output_type": "stream",
     "text": [
      "                                                                                                                       "
     ]
    },
    {
     "name": "stdout",
     "output_type": "stream",
     "text": [
      "Epoch  56/60 (mu=25.0) - VICReg Loss: 24.1326, MSE: 1266.5923, RMSE: 35.5892, MAE: 28.7473, Accuracy: 0.17761841, F1-Score: 0.18094523\n",
      "Saved checkpoint: C:\\Users\\PC\\soilNet\\checkpoints_VicReg_tinyImagenet\\vicreg_mu_25.0_epoch_56.pth\n"
     ]
    },
    {
     "name": "stderr",
     "output_type": "stream",
     "text": [
      "                                                                                                                       "
     ]
    },
    {
     "name": "stdout",
     "output_type": "stream",
     "text": [
      "Epoch  57/60 (mu=25.0) - VICReg Loss: 24.1426, MSE: 1290.9174, RMSE: 35.9293, MAE: 28.9952, Accuracy: 0.17861908, F1-Score: 0.18180335\n",
      "Saved checkpoint: C:\\Users\\PC\\soilNet\\checkpoints_VicReg_tinyImagenet\\vicreg_mu_25.0_epoch_57.pth\n"
     ]
    },
    {
     "name": "stderr",
     "output_type": "stream",
     "text": [
      "                                                                                                                       "
     ]
    },
    {
     "name": "stdout",
     "output_type": "stream",
     "text": [
      "Epoch  58/60 (mu=25.0) - VICReg Loss: 24.1664, MSE: 1237.6830, RMSE: 35.1807, MAE: 28.2765, Accuracy: 0.17403269, F1-Score: 0.17589445\n",
      "Saved checkpoint: C:\\Users\\PC\\soilNet\\checkpoints_VicReg_tinyImagenet\\vicreg_mu_25.0_epoch_58.pth\n"
     ]
    },
    {
     "name": "stderr",
     "output_type": "stream",
     "text": [
      "                                                                                                                       "
     ]
    },
    {
     "name": "stdout",
     "output_type": "stream",
     "text": [
      "Epoch  59/60 (mu=25.0) - VICReg Loss: 24.1209, MSE: 1320.5340, RMSE: 36.3392, MAE: 29.2683, Accuracy: 0.18020347, F1-Score: 0.18175569\n",
      "Saved checkpoint: C:\\Users\\PC\\soilNet\\checkpoints_VicReg_tinyImagenet\\vicreg_mu_25.0_epoch_59.pth\n"
     ]
    },
    {
     "name": "stderr",
     "output_type": "stream",
     "text": [
      "                                                                                                                       "
     ]
    },
    {
     "name": "stdout",
     "output_type": "stream",
     "text": [
      "Epoch  60/60 (mu=25.0) - VICReg Loss: 24.0939, MSE: 1273.3162, RMSE: 35.6836, MAE: 28.6119, Accuracy: 0.17595063, F1-Score: 0.17785548\n",
      "Saved checkpoint: C:\\Users\\PC\\soilNet\\checkpoints_VicReg_tinyImagenet\\vicreg_mu_25.0_epoch_60.pth\n",
      "Saved final models (mu=25.0):\n",
      "  - Model: C:\\Users\\PC\\soilNet\\checkpoints_VicReg_tinyImagenet\\vicreg_model_final_mu_25.0.pth\n",
      "  - Projector: C:\\Users\\PC\\soilNet\\checkpoints_VicReg_tinyImagenet\\vicreg_projector_final_mu_25.0.pth\n",
      "  - Linear Regression: C:\\Users\\PC\\soilNet\\checkpoints_VicReg_tinyImagenet\\vicreg_linear_reg_final_mu_25.0.pth\n",
      "  - Classifier: C:\\Users\\PC\\soilNet\\checkpoints_VicReg_tinyImagenet\\vicreg_classifier_final_mu_25.0.pth\n"
     ]
    },
    {
     "name": "stderr",
     "output_type": "stream",
     "text": []
    }
   ],
   "source": [
    "for mu_val in [25.0]:\n",
    "    train_vicreg_with_mu(mu=mu_val, num_epochs=60)"
   ]
  },
  {
   "cell_type": "code",
   "execution_count": null,
   "id": "18c83d7d-ccc5-4b02-b3a3-4022f3f12b6f",
   "metadata": {},
   "outputs": [],
   "source": []
  }
 ],
 "metadata": {
  "kernelspec": {
   "display_name": "Python 3 (ipykernel)",
   "language": "python",
   "name": "python3"
  },
  "language_info": {
   "codemirror_mode": {
    "name": "ipython",
    "version": 3
   },
   "file_extension": ".py",
   "mimetype": "text/x-python",
   "name": "python",
   "nbconvert_exporter": "python",
   "pygments_lexer": "ipython3",
   "version": "3.10.16"
  }
 },
 "nbformat": 4,
 "nbformat_minor": 5
}
