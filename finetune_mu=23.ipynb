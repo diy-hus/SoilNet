{
 "cells": [
  {
   "cell_type": "code",
   "execution_count": 1,
   "id": "37ffe4d9-53e0-48ad-b3ab-365e1ba12eb8",
   "metadata": {},
   "outputs": [
    {
     "name": "stdout",
     "output_type": "stream",
     "text": [
      "Using device: cuda\n",
      "PyTorch version: 2.6.0+cu118\n",
      "Total labeled images before check: 2057\n"
     ]
    },
    {
     "data": {
      "application/vnd.jupyter.widget-view+json": {
       "model_id": "315dbf3b985045aab5ce2cc7ec232eaf",
       "version_major": 2,
       "version_minor": 0
      },
      "text/plain": [
       "  0%|          | 0/2057 [00:00<?, ?it/s]"
      ]
     },
     "metadata": {},
     "output_type": "display_data"
    },
    {
     "name": "stdout",
     "output_type": "stream",
     "text": [
      "Image error: F:\\Soil_Labeled_Data\\M_10_20\\L_60_70\\alluvial\\IMG_0683.JPG\n",
      "Replaced with: F:\\Soil_Labeled_Data\\augmented_fallback\\aug_IMG_0683.JPG\n",
      "Image error: F:\\Soil_Labeled_Data\\M_10_20\\L_70_80\\alluvial\\IMG_0703.JPG\n",
      "Replaced with: F:\\Soil_Labeled_Data\\augmented_fallback\\aug_IMG_0703.JPG\n",
      "Image error: F:\\Soil_Labeled_Data\\M_10_20\\L_80_90\\alluvial\\IMG_0746.JPG\n",
      "Replaced with: F:\\Soil_Labeled_Data\\augmented_fallback\\aug_IMG_0746.JPG\n",
      "Image error: F:\\Soil_Labeled_Data\\M_10_20\\L_80_90\\alluvial\\IMG_0753.JPG\n",
      "Replaced with: F:\\Soil_Labeled_Data\\augmented_fallback\\aug_IMG_0753.JPG\n",
      "Image error: F:\\Soil_Labeled_Data\\M_10_20\\L_80_90\\alluvial\\IMG_0755.JPG\n",
      "Replaced with: F:\\Soil_Labeled_Data\\augmented_fallback\\aug_IMG_0755.JPG\n",
      "Replaced 5 invalid images with augmented versions.\n",
      "Loaded pretrained weights from C:\\Users\\PC\\soilNet\\checkpoints_VicReg\\vicreg_model_final_mu_23.0.pth\n",
      "Epoch 1/60\n"
     ]
    },
    {
     "data": {
      "application/vnd.jupyter.widget-view+json": {
       "model_id": "dd31b6cfd5c04f3a888293efe1639c51",
       "version_major": 2,
       "version_minor": 0
      },
      "text/plain": [
       "  0%|          | 0/33 [00:00<?, ?it/s]"
      ]
     },
     "metadata": {},
     "output_type": "display_data"
    },
    {
     "name": "stdout",
     "output_type": "stream",
     "text": [
      "Loss → Total: 2.2223, Regression: 0.0655, Classification: 2.1568\n",
      "SM_0 → RMSE: 20.89566789, MAE: 16.54395103, ME: 3.39689040\n",
      "SM_20 → RMSE: 20.81039647, MAE: 16.55841637, ME: 3.88409805\n",
      "Classification → Accuracy: 0.30140982, F1-score: 0.26734859\n",
      "Epoch 2/60\n"
     ]
    },
    {
     "data": {
      "application/vnd.jupyter.widget-view+json": {
       "model_id": "bb87aef3e9034ff18a2527a16bec5cb8",
       "version_major": 2,
       "version_minor": 0
      },
      "text/plain": [
       "  0%|          | 0/33 [00:00<?, ?it/s]"
      ]
     },
     "metadata": {},
     "output_type": "display_data"
    },
    {
     "name": "stdout",
     "output_type": "stream",
     "text": [
      "Loss → Total: 1.9178, Regression: 0.0413, Classification: 1.8765\n",
      "SM_0 → RMSE: 17.02580726, MAE: 13.30325508, ME: -1.06102693\n",
      "SM_20 → RMSE: 17.64810722, MAE: 13.98331738, ME: -1.28516150\n",
      "Classification → Accuracy: 0.35731648, F1-score: 0.32928715\n",
      "Epoch 3/60\n"
     ]
    },
    {
     "data": {
      "application/vnd.jupyter.widget-view+json": {
       "model_id": "b5075df9772c4f07b099df7a59741567",
       "version_major": 2,
       "version_minor": 0
      },
      "text/plain": [
       "  0%|          | 0/33 [00:00<?, ?it/s]"
      ]
     },
     "metadata": {},
     "output_type": "display_data"
    },
    {
     "name": "stdout",
     "output_type": "stream",
     "text": [
      "Loss → Total: 1.7638, Regression: 0.0352, Classification: 1.7286\n",
      "SM_0 → RMSE: 18.27353019, MAE: 14.61793232, ME: -4.38935566\n",
      "SM_20 → RMSE: 17.74741570, MAE: 14.15679455, ME: -3.64863157\n",
      "Classification → Accuracy: 0.39231891, F1-score: 0.37722952\n",
      "Epoch 4/60\n"
     ]
    },
    {
     "data": {
      "application/vnd.jupyter.widget-view+json": {
       "model_id": "addcd6330e82421c954501d93e761aa9",
       "version_major": 2,
       "version_minor": 0
      },
      "text/plain": [
       "  0%|          | 0/33 [00:00<?, ?it/s]"
      ]
     },
     "metadata": {},
     "output_type": "display_data"
    },
    {
     "name": "stdout",
     "output_type": "stream",
     "text": [
      "Loss → Total: 1.6459, Regression: 0.0313, Classification: 1.6146\n",
      "SM_0 → RMSE: 14.45677319, MAE: 10.99400997, ME: -1.03676236\n",
      "SM_20 → RMSE: 14.74007793, MAE: 11.39717579, ME: -1.11686063\n",
      "Classification → Accuracy: 0.46280992, F1-score: 0.45180525\n",
      "Epoch 5/60\n"
     ]
    },
    {
     "data": {
      "application/vnd.jupyter.widget-view+json": {
       "model_id": "9256bdcdc67e4140b102e4f2276eaa6e",
       "version_major": 2,
       "version_minor": 0
      },
      "text/plain": [
       "  0%|          | 0/33 [00:00<?, ?it/s]"
      ]
     },
     "metadata": {},
     "output_type": "display_data"
    },
    {
     "name": "stdout",
     "output_type": "stream",
     "text": [
      "Loss → Total: 1.5347, Regression: 0.0271, Classification: 1.5076\n",
      "SM_0 → RMSE: 13.27149573, MAE: 10.00672245, ME: 0.47290021\n",
      "SM_20 → RMSE: 13.39734644, MAE: 10.16659355, ME: 0.47067073\n",
      "Classification → Accuracy: 0.49732620, F1-score: 0.48271090\n",
      "Epoch 6/60\n"
     ]
    },
    {
     "data": {
      "application/vnd.jupyter.widget-view+json": {
       "model_id": "7ecf2432465643debf7c2bfcb6306bcb",
       "version_major": 2,
       "version_minor": 0
      },
      "text/plain": [
       "  0%|          | 0/33 [00:00<?, ?it/s]"
      ]
     },
     "metadata": {},
     "output_type": "display_data"
    },
    {
     "name": "stdout",
     "output_type": "stream",
     "text": [
      "Loss → Total: 1.4392, Regression: 0.0223, Classification: 1.4170\n",
      "SM_0 → RMSE: 12.65745136, MAE: 9.50988388, ME: 0.67074949\n",
      "SM_20 → RMSE: 12.64513461, MAE: 9.65462303, ME: -0.29342052\n",
      "Classification → Accuracy: 0.54496840, F1-score: 0.53395310\n",
      "Epoch 7/60\n"
     ]
    },
    {
     "data": {
      "application/vnd.jupyter.widget-view+json": {
       "model_id": "cd96c7fe1c3548d7a5a93bfcc0816538",
       "version_major": 2,
       "version_minor": 0
      },
      "text/plain": [
       "  0%|          | 0/33 [00:00<?, ?it/s]"
      ]
     },
     "metadata": {},
     "output_type": "display_data"
    },
    {
     "name": "stdout",
     "output_type": "stream",
     "text": [
      "Loss → Total: 1.3190, Regression: 0.0202, Classification: 1.2989\n",
      "SM_0 → RMSE: 11.88971192, MAE: 9.03288937, ME: -0.55820304\n",
      "SM_20 → RMSE: 11.69994194, MAE: 9.02332878, ME: -0.77467930\n",
      "Classification → Accuracy: 0.56781721, F1-score: 0.55079232\n",
      "Epoch 8/60\n"
     ]
    },
    {
     "data": {
      "application/vnd.jupyter.widget-view+json": {
       "model_id": "bdd9665880564afabfa823a21ac7e789",
       "version_major": 2,
       "version_minor": 0
      },
      "text/plain": [
       "  0%|          | 0/33 [00:00<?, ?it/s]"
      ]
     },
     "metadata": {},
     "output_type": "display_data"
    },
    {
     "name": "stdout",
     "output_type": "stream",
     "text": [
      "Loss → Total: 1.2611, Regression: 0.0188, Classification: 1.2424\n",
      "SM_0 → RMSE: 11.41834427, MAE: 8.55373192, ME: 0.33857849\n",
      "SM_20 → RMSE: 11.59241669, MAE: 8.90978909, ME: 1.19375086\n",
      "Classification → Accuracy: 0.60233350, F1-score: 0.57645380\n",
      "Epoch 9/60\n"
     ]
    },
    {
     "data": {
      "application/vnd.jupyter.widget-view+json": {
       "model_id": "2dd9246b81b34857a225a406ad6b753d",
       "version_major": 2,
       "version_minor": 0
      },
      "text/plain": [
       "  0%|          | 0/33 [00:00<?, ?it/s]"
      ]
     },
     "metadata": {},
     "output_type": "display_data"
    },
    {
     "name": "stdout",
     "output_type": "stream",
     "text": [
      "Loss → Total: 1.2111, Regression: 0.0204, Classification: 1.1907\n",
      "SM_0 → RMSE: 12.96137368, MAE: 10.15563297, ME: 1.66527760\n",
      "SM_20 → RMSE: 12.72610508, MAE: 9.98404121, ME: 2.12918019\n",
      "Classification → Accuracy: 0.65532329, F1-score: 0.65161132\n",
      "Epoch 10/60\n"
     ]
    },
    {
     "data": {
      "application/vnd.jupyter.widget-view+json": {
       "model_id": "5fffec0cc62546b797fb4eaa977db59a",
       "version_major": 2,
       "version_minor": 0
      },
      "text/plain": [
       "  0%|          | 0/33 [00:00<?, ?it/s]"
      ]
     },
     "metadata": {},
     "output_type": "display_data"
    },
    {
     "name": "stdout",
     "output_type": "stream",
     "text": [
      "Loss → Total: 1.1038, Regression: 0.0186, Classification: 1.0851\n",
      "SM_0 → RMSE: 10.56014501, MAE: 8.11709785, ME: -1.05953705\n",
      "SM_20 → RMSE: 10.63628300, MAE: 8.15134144, ME: -2.23255777\n",
      "Classification → Accuracy: 0.66796305, F1-score: 0.66761192\n",
      "Epoch 11/60\n"
     ]
    },
    {
     "data": {
      "application/vnd.jupyter.widget-view+json": {
       "model_id": "f0fcde2d458343d4914c7c7fc8b3ce7e",
       "version_major": 2,
       "version_minor": 0
      },
      "text/plain": [
       "  0%|          | 0/33 [00:00<?, ?it/s]"
      ]
     },
     "metadata": {},
     "output_type": "display_data"
    },
    {
     "name": "stdout",
     "output_type": "stream",
     "text": [
      "Loss → Total: 1.0676, Regression: 0.0171, Classification: 1.0505\n",
      "SM_0 → RMSE: 10.25151907, MAE: 7.80216646, ME: -1.26222181\n",
      "SM_20 → RMSE: 10.37505331, MAE: 7.97611809, ME: -0.30594933\n",
      "Classification → Accuracy: 0.69956247, F1-score: 0.69499708\n",
      "Epoch 12/60\n"
     ]
    },
    {
     "data": {
      "application/vnd.jupyter.widget-view+json": {
       "model_id": "3eefef2fd262423ca687a9513b05b22f",
       "version_major": 2,
       "version_minor": 0
      },
      "text/plain": [
       "  0%|          | 0/33 [00:00<?, ?it/s]"
      ]
     },
     "metadata": {},
     "output_type": "display_data"
    },
    {
     "name": "stdout",
     "output_type": "stream",
     "text": [
      "Loss → Total: 0.9947, Regression: 0.0146, Classification: 0.9801\n",
      "SM_0 → RMSE: 9.83900943, MAE: 7.68271112, ME: 0.04170708\n",
      "SM_20 → RMSE: 10.34556577, MAE: 8.07598305, ME: 0.53617477\n",
      "Classification → Accuracy: 0.71706368, F1-score: 0.70970762\n",
      "Epoch 13/60\n"
     ]
    },
    {
     "data": {
      "application/vnd.jupyter.widget-view+json": {
       "model_id": "f1f2b20b83654808b41a004ff429892d",
       "version_major": 2,
       "version_minor": 0
      },
      "text/plain": [
       "  0%|          | 0/33 [00:00<?, ?it/s]"
      ]
     },
     "metadata": {},
     "output_type": "display_data"
    },
    {
     "name": "stdout",
     "output_type": "stream",
     "text": [
      "Loss → Total: 0.9502, Regression: 0.0140, Classification: 0.9363\n",
      "SM_0 → RMSE: 9.01028999, MAE: 7.02192020, ME: 0.31088373\n",
      "SM_20 → RMSE: 9.22663403, MAE: 7.26751709, ME: -0.15948705\n",
      "Classification → Accuracy: 0.73991249, F1-score: 0.73694898\n",
      "Epoch 14/60\n"
     ]
    },
    {
     "data": {
      "application/vnd.jupyter.widget-view+json": {
       "model_id": "0dcf35d30cd14e4d8e2baf2ff6ceb8bc",
       "version_major": 2,
       "version_minor": 0
      },
      "text/plain": [
       "  0%|          | 0/33 [00:00<?, ?it/s]"
      ]
     },
     "metadata": {},
     "output_type": "display_data"
    },
    {
     "name": "stdout",
     "output_type": "stream",
     "text": [
      "Loss → Total: 0.8926, Regression: 0.0133, Classification: 0.8793\n",
      "SM_0 → RMSE: 9.14274314, MAE: 7.06287432, ME: -0.89770567\n",
      "SM_20 → RMSE: 9.01092671, MAE: 7.00867796, ME: -0.35167527\n",
      "Classification → Accuracy: 0.77880408, F1-score: 0.77879304\n",
      "Epoch 15/60\n"
     ]
    },
    {
     "data": {
      "application/vnd.jupyter.widget-view+json": {
       "model_id": "c65e6dcf32d943d0a2d3a9edb5a5c991",
       "version_major": 2,
       "version_minor": 0
      },
      "text/plain": [
       "  0%|          | 0/33 [00:00<?, ?it/s]"
      ]
     },
     "metadata": {},
     "output_type": "display_data"
    },
    {
     "name": "stdout",
     "output_type": "stream",
     "text": [
      "Loss → Total: 0.8185, Regression: 0.0127, Classification: 0.8058\n",
      "SM_0 → RMSE: 8.59340775, MAE: 6.65762377, ME: -0.59282303\n",
      "SM_20 → RMSE: 8.85393980, MAE: 6.95424891, ME: -0.50993025\n",
      "Classification → Accuracy: 0.79581915, F1-score: 0.79334562\n",
      "Epoch 16/60\n"
     ]
    },
    {
     "data": {
      "application/vnd.jupyter.widget-view+json": {
       "model_id": "0f50694d3022447fabdcdda867e20ebe",
       "version_major": 2,
       "version_minor": 0
      },
      "text/plain": [
       "  0%|          | 0/33 [00:00<?, ?it/s]"
      ]
     },
     "metadata": {},
     "output_type": "display_data"
    },
    {
     "name": "stdout",
     "output_type": "stream",
     "text": [
      "Loss → Total: 0.8251, Regression: 0.0121, Classification: 0.8129\n",
      "SM_0 → RMSE: 8.42775633, MAE: 6.45742369, ME: -0.29925421\n",
      "SM_20 → RMSE: 8.64121127, MAE: 6.75804520, ME: -0.16652049\n",
      "Classification → Accuracy: 0.79290228, F1-score: 0.78984121\n",
      "Epoch 17/60\n"
     ]
    },
    {
     "data": {
      "application/vnd.jupyter.widget-view+json": {
       "model_id": "a3adef8c28ef4b88a135ebbffcc6e4e7",
       "version_major": 2,
       "version_minor": 0
      },
      "text/plain": [
       "  0%|          | 0/33 [00:00<?, ?it/s]"
      ]
     },
     "metadata": {},
     "output_type": "display_data"
    },
    {
     "name": "stdout",
     "output_type": "stream",
     "text": [
      "Loss → Total: 0.7534, Regression: 0.0119, Classification: 0.7415\n",
      "SM_0 → RMSE: 8.30053768, MAE: 6.46605968, ME: -0.33690333\n",
      "SM_20 → RMSE: 8.18080716, MAE: 6.41788530, ME: -0.82381022\n",
      "Classification → Accuracy: 0.80845892, F1-score: 0.80646567\n",
      "Epoch 18/60\n"
     ]
    },
    {
     "data": {
      "application/vnd.jupyter.widget-view+json": {
       "model_id": "efa9e40ca4ce4ca58c719c0ab83e9929",
       "version_major": 2,
       "version_minor": 0
      },
      "text/plain": [
       "  0%|          | 0/33 [00:00<?, ?it/s]"
      ]
     },
     "metadata": {},
     "output_type": "display_data"
    },
    {
     "name": "stdout",
     "output_type": "stream",
     "text": [
      "Loss → Total: 0.7598, Regression: 0.0131, Classification: 0.7467\n",
      "SM_0 → RMSE: 8.51749729, MAE: 6.68830919, ME: -2.48568988\n",
      "SM_20 → RMSE: 9.05213493, MAE: 7.09079647, ME: -2.58387494\n",
      "Classification → Accuracy: 0.83179387, F1-score: 0.83062857\n",
      "Epoch 19/60\n"
     ]
    },
    {
     "data": {
      "application/vnd.jupyter.widget-view+json": {
       "model_id": "50fbc1d730d642a2931a92b9215252fd",
       "version_major": 2,
       "version_minor": 0
      },
      "text/plain": [
       "  0%|          | 0/33 [00:00<?, ?it/s]"
      ]
     },
     "metadata": {},
     "output_type": "display_data"
    },
    {
     "name": "stdout",
     "output_type": "stream",
     "text": [
      "Loss → Total: 0.7906, Regression: 0.0127, Classification: 0.7779\n",
      "SM_0 → RMSE: 8.81310773, MAE: 6.92534733, ME: 2.49599338\n",
      "SM_20 → RMSE: 9.06555461, MAE: 7.14095831, ME: 0.67503119\n",
      "Classification → Accuracy: 0.83908605, F1-score: 0.83835986\n",
      "Epoch 20/60\n"
     ]
    },
    {
     "data": {
      "application/vnd.jupyter.widget-view+json": {
       "model_id": "d6b3e0ea12c94e648cf1ceee0c443502",
       "version_major": 2,
       "version_minor": 0
      },
      "text/plain": [
       "  0%|          | 0/33 [00:00<?, ?it/s]"
      ]
     },
     "metadata": {},
     "output_type": "display_data"
    },
    {
     "name": "stdout",
     "output_type": "stream",
     "text": [
      "Loss → Total: 0.7207, Regression: 0.0119, Classification: 0.7088\n",
      "SM_0 → RMSE: 7.94134020, MAE: 6.17183208, ME: 0.32440093\n",
      "SM_20 → RMSE: 7.91729809, MAE: 6.07425976, ME: -0.13479495\n",
      "Classification → Accuracy: 0.84151677, F1-score: 0.84000760\n",
      "Epoch 21/60\n"
     ]
    },
    {
     "data": {
      "application/vnd.jupyter.widget-view+json": {
       "model_id": "c481d49d8f8a4688b973246161bff847",
       "version_major": 2,
       "version_minor": 0
      },
      "text/plain": [
       "  0%|          | 0/33 [00:00<?, ?it/s]"
      ]
     },
     "metadata": {},
     "output_type": "display_data"
    },
    {
     "name": "stdout",
     "output_type": "stream",
     "text": [
      "Loss → Total: 0.7552, Regression: 0.0129, Classification: 0.7423\n",
      "SM_0 → RMSE: 7.93263155, MAE: 6.29238176, ME: 1.30020416\n",
      "SM_20 → RMSE: 7.83515344, MAE: 6.16013050, ME: 0.63506222\n",
      "Classification → Accuracy: 0.86047642, F1-score: 0.85892465\n",
      "Epoch 22/60\n"
     ]
    },
    {
     "data": {
      "application/vnd.jupyter.widget-view+json": {
       "model_id": "c18728aa5c02474891a79e01d5fd8c52",
       "version_major": 2,
       "version_minor": 0
      },
      "text/plain": [
       "  0%|          | 0/33 [00:00<?, ?it/s]"
      ]
     },
     "metadata": {},
     "output_type": "display_data"
    },
    {
     "name": "stdout",
     "output_type": "stream",
     "text": [
      "Loss → Total: 0.7110, Regression: 0.0127, Classification: 0.6983\n",
      "SM_0 → RMSE: 9.37116865, MAE: 7.51129389, ME: -2.16952062\n",
      "SM_20 → RMSE: 9.04793162, MAE: 7.12658596, ME: -2.25187397\n",
      "Classification → Accuracy: 0.87506077, F1-score: 0.87501726\n",
      "Epoch 23/60\n"
     ]
    },
    {
     "data": {
      "application/vnd.jupyter.widget-view+json": {
       "model_id": "3dda20264b3642d3ac0e390f93695f09",
       "version_major": 2,
       "version_minor": 0
      },
      "text/plain": [
       "  0%|          | 0/33 [00:00<?, ?it/s]"
      ]
     },
     "metadata": {},
     "output_type": "display_data"
    },
    {
     "name": "stdout",
     "output_type": "stream",
     "text": [
      "Loss → Total: 0.6726, Regression: 0.0121, Classification: 0.6605\n",
      "SM_0 → RMSE: 7.64047172, MAE: 5.96123552, ME: -0.04665192\n",
      "SM_20 → RMSE: 7.54716109, MAE: 5.88601065, ME: 0.33120286\n",
      "Classification → Accuracy: 0.87360233, F1-score: 0.87413772\n",
      "Epoch 24/60\n"
     ]
    },
    {
     "data": {
      "application/vnd.jupyter.widget-view+json": {
       "model_id": "6d56779d58314556ad80a3fabc93bc7d",
       "version_major": 2,
       "version_minor": 0
      },
      "text/plain": [
       "  0%|          | 0/33 [00:00<?, ?it/s]"
      ]
     },
     "metadata": {},
     "output_type": "display_data"
    },
    {
     "name": "stdout",
     "output_type": "stream",
     "text": [
      "Loss → Total: 0.5846, Regression: 0.0094, Classification: 0.5752\n",
      "SM_0 → RMSE: 7.84681307, MAE: 6.09014988, ME: -0.83987111\n",
      "SM_20 → RMSE: 7.72673925, MAE: 6.09588528, ME: 0.01549689\n",
      "Classification → Accuracy: 0.87603306, F1-score: 0.87577135\n",
      "Epoch 25/60\n"
     ]
    },
    {
     "data": {
      "application/vnd.jupyter.widget-view+json": {
       "model_id": "f5439f56d5b043cea08f95829041677a",
       "version_major": 2,
       "version_minor": 0
      },
      "text/plain": [
       "  0%|          | 0/33 [00:00<?, ?it/s]"
      ]
     },
     "metadata": {},
     "output_type": "display_data"
    },
    {
     "name": "stdout",
     "output_type": "stream",
     "text": [
      "Loss → Total: 0.5756, Regression: 0.0082, Classification: 0.5674\n",
      "SM_0 → RMSE: 7.11671475, MAE: 5.58522463, ME: 0.47543240\n",
      "SM_20 → RMSE: 7.17080740, MAE: 5.55934525, ME: 1.02933407\n",
      "Classification → Accuracy: 0.88915897, F1-score: 0.88953641\n",
      "Epoch 26/60\n"
     ]
    },
    {
     "data": {
      "application/vnd.jupyter.widget-view+json": {
       "model_id": "47e01e9094ed437b9a538fa7746db4c7",
       "version_major": 2,
       "version_minor": 0
      },
      "text/plain": [
       "  0%|          | 0/33 [00:00<?, ?it/s]"
      ]
     },
     "metadata": {},
     "output_type": "display_data"
    },
    {
     "name": "stdout",
     "output_type": "stream",
     "text": [
      "Loss → Total: 0.5872, Regression: 0.0097, Classification: 0.5775\n",
      "SM_0 → RMSE: 7.62420750, MAE: 5.88541794, ME: 2.32185030\n",
      "SM_20 → RMSE: 8.32409273, MAE: 6.50329113, ME: 1.85069084\n",
      "Classification → Accuracy: 0.89158969, F1-score: 0.89046680\n",
      "Epoch 27/60\n"
     ]
    },
    {
     "data": {
      "application/vnd.jupyter.widget-view+json": {
       "model_id": "8103f79a121c44f09f7488cd49084e3d",
       "version_major": 2,
       "version_minor": 0
      },
      "text/plain": [
       "  0%|          | 0/33 [00:00<?, ?it/s]"
      ]
     },
     "metadata": {},
     "output_type": "display_data"
    },
    {
     "name": "stdout",
     "output_type": "stream",
     "text": [
      "Loss → Total: 0.5891, Regression: 0.0101, Classification: 0.5790\n",
      "SM_0 → RMSE: 7.13177944, MAE: 5.57894373, ME: -1.16465807\n",
      "SM_20 → RMSE: 7.83478998, MAE: 6.18811607, ME: -1.14623988\n",
      "Classification → Accuracy: 0.89450656, F1-score: 0.89338928\n",
      "Epoch 28/60\n"
     ]
    },
    {
     "data": {
      "application/vnd.jupyter.widget-view+json": {
       "model_id": "f375150127e04c99bf431680b65ca30c",
       "version_major": 2,
       "version_minor": 0
      },
      "text/plain": [
       "  0%|          | 0/33 [00:00<?, ?it/s]"
      ]
     },
     "metadata": {},
     "output_type": "display_data"
    },
    {
     "name": "stdout",
     "output_type": "stream",
     "text": [
      "Loss → Total: 0.4950, Regression: 0.0085, Classification: 0.4865\n",
      "SM_0 → RMSE: 7.67230907, MAE: 6.00339031, ME: -1.03781891\n",
      "SM_20 → RMSE: 7.08195395, MAE: 5.45918083, ME: -0.20857292\n",
      "Classification → Accuracy: 0.91152163, F1-score: 0.91195477\n",
      "Epoch 29/60\n"
     ]
    },
    {
     "data": {
      "application/vnd.jupyter.widget-view+json": {
       "model_id": "d96a5876e51b43dd8182d2014bd7c3e5",
       "version_major": 2,
       "version_minor": 0
      },
      "text/plain": [
       "  0%|          | 0/33 [00:00<?, ?it/s]"
      ]
     },
     "metadata": {},
     "output_type": "display_data"
    },
    {
     "name": "stdout",
     "output_type": "stream",
     "text": [
      "Loss → Total: 0.5468, Regression: 0.0089, Classification: 0.5379\n",
      "SM_0 → RMSE: 7.16169046, MAE: 5.51656723, ME: 0.21884690\n",
      "SM_20 → RMSE: 7.57417846, MAE: 5.88040876, ME: -0.28924295\n",
      "Classification → Accuracy: 0.89207584, F1-score: 0.89139915\n",
      "Epoch 30/60\n"
     ]
    },
    {
     "data": {
      "application/vnd.jupyter.widget-view+json": {
       "model_id": "a2fd09789dc64b7780d87fcdbac03cab",
       "version_major": 2,
       "version_minor": 0
      },
      "text/plain": [
       "  0%|          | 0/33 [00:00<?, ?it/s]"
      ]
     },
     "metadata": {},
     "output_type": "display_data"
    },
    {
     "name": "stdout",
     "output_type": "stream",
     "text": [
      "Loss → Total: 0.4958, Regression: 0.0083, Classification: 0.4876\n",
      "SM_0 → RMSE: 7.31688722, MAE: 5.78046179, ME: -1.86942530\n",
      "SM_20 → RMSE: 6.89259141, MAE: 5.37531137, ME: -0.54521114\n",
      "Classification → Accuracy: 0.90228488, F1-score: 0.90192924\n",
      "Epoch 31/60\n"
     ]
    },
    {
     "data": {
      "application/vnd.jupyter.widget-view+json": {
       "model_id": "5f8ad8072ca546708f3714afaa029331",
       "version_major": 2,
       "version_minor": 0
      },
      "text/plain": [
       "  0%|          | 0/33 [00:00<?, ?it/s]"
      ]
     },
     "metadata": {},
     "output_type": "display_data"
    },
    {
     "name": "stdout",
     "output_type": "stream",
     "text": [
      "Loss → Total: 0.6536, Regression: 0.0116, Classification: 0.6419\n",
      "SM_0 → RMSE: 7.77484676, MAE: 6.05867147, ME: -1.09376752\n",
      "SM_20 → RMSE: 8.27585319, MAE: 6.38818121, ME: -1.29398930\n",
      "Classification → Accuracy: 0.91784152, F1-score: 0.91809084\n",
      "Epoch 32/60\n"
     ]
    },
    {
     "data": {
      "application/vnd.jupyter.widget-view+json": {
       "model_id": "4edf83d25bdc44d4ae4e8951ab4ec7d9",
       "version_major": 2,
       "version_minor": 0
      },
      "text/plain": [
       "  0%|          | 0/33 [00:00<?, ?it/s]"
      ]
     },
     "metadata": {},
     "output_type": "display_data"
    },
    {
     "name": "stdout",
     "output_type": "stream",
     "text": [
      "Loss → Total: 0.5286, Regression: 0.0101, Classification: 0.5185\n",
      "SM_0 → RMSE: 7.23172271, MAE: 5.62676620, ME: -1.52766562\n",
      "SM_20 → RMSE: 7.45548389, MAE: 5.79302311, ME: -1.42753291\n",
      "Classification → Accuracy: 0.91298007, F1-score: 0.91306076\n",
      "Epoch 33/60\n"
     ]
    },
    {
     "data": {
      "application/vnd.jupyter.widget-view+json": {
       "model_id": "51ec597effdd4e79b0a39b6ea5556467",
       "version_major": 2,
       "version_minor": 0
      },
      "text/plain": [
       "  0%|          | 0/33 [00:00<?, ?it/s]"
      ]
     },
     "metadata": {},
     "output_type": "display_data"
    },
    {
     "name": "stdout",
     "output_type": "stream",
     "text": [
      "Loss → Total: 0.5100, Regression: 0.0094, Classification: 0.5005\n",
      "SM_0 → RMSE: 7.40746597, MAE: 5.79295635, ME: -0.56443542\n",
      "SM_20 → RMSE: 7.17051774, MAE: 5.61528587, ME: -0.27278188\n",
      "Classification → Accuracy: 0.89790958, F1-score: 0.89731579\n",
      "Epoch 34/60\n"
     ]
    },
    {
     "data": {
      "application/vnd.jupyter.widget-view+json": {
       "model_id": "1b962e13c9934fa6892c71ef9ffd5b6e",
       "version_major": 2,
       "version_minor": 0
      },
      "text/plain": [
       "  0%|          | 0/33 [00:00<?, ?it/s]"
      ]
     },
     "metadata": {},
     "output_type": "display_data"
    },
    {
     "name": "stdout",
     "output_type": "stream",
     "text": [
      "Loss → Total: 0.4293, Regression: 0.0087, Classification: 0.4206\n",
      "SM_0 → RMSE: 6.70337682, MAE: 5.12148190, ME: 0.81025511\n",
      "SM_20 → RMSE: 6.78574795, MAE: 5.25823450, ME: 1.13771164\n",
      "Classification → Accuracy: 0.92707827, F1-score: 0.92771398\n",
      "Epoch 35/60\n"
     ]
    },
    {
     "data": {
      "application/vnd.jupyter.widget-view+json": {
       "model_id": "6fe36547dc6e4c07bc03e50766d3edf8",
       "version_major": 2,
       "version_minor": 0
      },
      "text/plain": [
       "  0%|          | 0/33 [00:00<?, ?it/s]"
      ]
     },
     "metadata": {},
     "output_type": "display_data"
    },
    {
     "name": "stdout",
     "output_type": "stream",
     "text": [
      "Loss → Total: 0.4500, Regression: 0.0078, Classification: 0.4423\n",
      "SM_0 → RMSE: 6.99657111, MAE: 5.33497095, ME: -0.94129103\n",
      "SM_20 → RMSE: 7.56729050, MAE: 5.82803011, ME: -1.54232728\n",
      "Classification → Accuracy: 0.91686923, F1-score: 0.91736290\n",
      "Epoch 36/60\n"
     ]
    },
    {
     "data": {
      "application/vnd.jupyter.widget-view+json": {
       "model_id": "d88a961abc5f460faaa4a3f8657f8430",
       "version_major": 2,
       "version_minor": 0
      },
      "text/plain": [
       "  0%|          | 0/33 [00:00<?, ?it/s]"
      ]
     },
     "metadata": {},
     "output_type": "display_data"
    },
    {
     "name": "stdout",
     "output_type": "stream",
     "text": [
      "Loss → Total: 0.5403, Regression: 0.0086, Classification: 0.5316\n",
      "SM_0 → RMSE: 7.20082118, MAE: 5.48800993, ME: -1.39667237\n",
      "SM_20 → RMSE: 7.92252120, MAE: 6.20702457, ME: 0.65543479\n",
      "Classification → Accuracy: 0.92659212, F1-score: 0.92723063\n",
      "Epoch 37/60\n"
     ]
    },
    {
     "data": {
      "application/vnd.jupyter.widget-view+json": {
       "model_id": "d3bf227a09d0408e8f9a30b52792c229",
       "version_major": 2,
       "version_minor": 0
      },
      "text/plain": [
       "  0%|          | 0/33 [00:00<?, ?it/s]"
      ]
     },
     "metadata": {},
     "output_type": "display_data"
    },
    {
     "name": "stdout",
     "output_type": "stream",
     "text": [
      "Loss → Total: 0.4824, Regression: 0.0096, Classification: 0.4728\n",
      "SM_0 → RMSE: 7.39488101, MAE: 5.73888397, ME: -2.28068113\n",
      "SM_20 → RMSE: 7.28026315, MAE: 5.62126541, ME: -1.66584885\n",
      "Classification → Accuracy: 0.93242586, F1-score: 0.93231270\n",
      "Epoch 38/60\n"
     ]
    },
    {
     "data": {
      "application/vnd.jupyter.widget-view+json": {
       "model_id": "809c40d3c13c4f2fbf773d05ca5b0527",
       "version_major": 2,
       "version_minor": 0
      },
      "text/plain": [
       "  0%|          | 0/33 [00:00<?, ?it/s]"
      ]
     },
     "metadata": {},
     "output_type": "display_data"
    },
    {
     "name": "stdout",
     "output_type": "stream",
     "text": [
      "Loss → Total: 0.4395, Regression: 0.0102, Classification: 0.4294\n",
      "SM_0 → RMSE: 7.60011057, MAE: 5.90220070, ME: 1.24880409\n",
      "SM_20 → RMSE: 7.41752571, MAE: 5.82639742, ME: 1.99935150\n",
      "Classification → Accuracy: 0.92756441, F1-score: 0.92788161\n",
      "Epoch 39/60\n"
     ]
    },
    {
     "data": {
      "application/vnd.jupyter.widget-view+json": {
       "model_id": "67a1b65458ce4bfbaf4f725de96370b2",
       "version_major": 2,
       "version_minor": 0
      },
      "text/plain": [
       "  0%|          | 0/33 [00:00<?, ?it/s]"
      ]
     },
     "metadata": {},
     "output_type": "display_data"
    },
    {
     "name": "stdout",
     "output_type": "stream",
     "text": [
      "Loss → Total: 0.4640, Regression: 0.0077, Classification: 0.4563\n",
      "SM_0 → RMSE: 7.66837668, MAE: 5.83102036, ME: 1.53406656\n",
      "SM_20 → RMSE: 8.20533080, MAE: 6.37089539, ME: 0.38971895\n",
      "Classification → Accuracy: 0.93923189, F1-score: 0.93920198\n",
      "Epoch 40/60\n"
     ]
    },
    {
     "data": {
      "application/vnd.jupyter.widget-view+json": {
       "model_id": "60b7dee2d9464c8990d975d42919ebb4",
       "version_major": 2,
       "version_minor": 0
      },
      "text/plain": [
       "  0%|          | 0/33 [00:00<?, ?it/s]"
      ]
     },
     "metadata": {},
     "output_type": "display_data"
    },
    {
     "name": "stdout",
     "output_type": "stream",
     "text": [
      "Loss → Total: 0.5257, Regression: 0.0087, Classification: 0.5170\n",
      "SM_0 → RMSE: 6.61306176, MAE: 5.13305998, ME: 0.26424611\n",
      "SM_20 → RMSE: 7.27526846, MAE: 5.75960064, ME: 0.08450750\n",
      "Classification → Accuracy: 0.91929995, F1-score: 0.92019586\n",
      "Epoch 41/60\n"
     ]
    },
    {
     "data": {
      "application/vnd.jupyter.widget-view+json": {
       "model_id": "d98d144b022346a38a8dc990ce11693e",
       "version_major": 2,
       "version_minor": 0
      },
      "text/plain": [
       "  0%|          | 0/33 [00:00<?, ?it/s]"
      ]
     },
     "metadata": {},
     "output_type": "display_data"
    },
    {
     "name": "stdout",
     "output_type": "stream",
     "text": [
      "Loss → Total: 0.4272, Regression: 0.0078, Classification: 0.4194\n",
      "SM_0 → RMSE: 6.77571548, MAE: 5.20621681, ME: 0.75295931\n",
      "SM_20 → RMSE: 6.48760450, MAE: 4.98392296, ME: -0.09681540\n",
      "Classification → Accuracy: 0.93339815, F1-score: 0.93389219\n",
      "Epoch 42/60\n"
     ]
    },
    {
     "data": {
      "application/vnd.jupyter.widget-view+json": {
       "model_id": "a5659f9b0c22483391961fa200b5f312",
       "version_major": 2,
       "version_minor": 0
      },
      "text/plain": [
       "  0%|          | 0/33 [00:00<?, ?it/s]"
      ]
     },
     "metadata": {},
     "output_type": "display_data"
    },
    {
     "name": "stdout",
     "output_type": "stream",
     "text": [
      "Loss → Total: 0.4362, Regression: 0.0081, Classification: 0.4281\n",
      "SM_0 → RMSE: 7.72581671, MAE: 5.99366379, ME: 1.77383041\n",
      "SM_20 → RMSE: 8.17701341, MAE: 6.30567312, ME: 0.27539688\n",
      "Classification → Accuracy: 0.92416140, F1-score: 0.92378496\n",
      "Epoch 43/60\n"
     ]
    },
    {
     "data": {
      "application/vnd.jupyter.widget-view+json": {
       "model_id": "549335cd3b064cdd8a4e057697095cbf",
       "version_major": 2,
       "version_minor": 0
      },
      "text/plain": [
       "  0%|          | 0/33 [00:00<?, ?it/s]"
      ]
     },
     "metadata": {},
     "output_type": "display_data"
    },
    {
     "name": "stdout",
     "output_type": "stream",
     "text": [
      "Loss → Total: 0.4411, Regression: 0.0081, Classification: 0.4329\n",
      "SM_0 → RMSE: 6.88454067, MAE: 5.34816504, ME: 0.79880273\n",
      "SM_20 → RMSE: 6.72130816, MAE: 5.21837759, ME: -0.26075578\n",
      "Classification → Accuracy: 0.92805056, F1-score: 0.92857394\n",
      "Epoch 44/60\n"
     ]
    },
    {
     "data": {
      "application/vnd.jupyter.widget-view+json": {
       "model_id": "8a7e875151de48ff958def61169c206a",
       "version_major": 2,
       "version_minor": 0
      },
      "text/plain": [
       "  0%|          | 0/33 [00:00<?, ?it/s]"
      ]
     },
     "metadata": {},
     "output_type": "display_data"
    },
    {
     "name": "stdout",
     "output_type": "stream",
     "text": [
      "Loss → Total: 0.4335, Regression: 0.0076, Classification: 0.4259\n",
      "SM_0 → RMSE: 6.61444518, MAE: 5.15005827, ME: -1.31792021\n",
      "SM_20 → RMSE: 7.00122332, MAE: 5.46455765, ME: -2.27118468\n",
      "Classification → Accuracy: 0.93485659, F1-score: 0.93499796\n",
      "Epoch 45/60\n"
     ]
    },
    {
     "data": {
      "application/vnd.jupyter.widget-view+json": {
       "model_id": "b4d6ba5ed7494cc392b60f9e47a25e76",
       "version_major": 2,
       "version_minor": 0
      },
      "text/plain": [
       "  0%|          | 0/33 [00:00<?, ?it/s]"
      ]
     },
     "metadata": {},
     "output_type": "display_data"
    },
    {
     "name": "stdout",
     "output_type": "stream",
     "text": [
      "Loss → Total: 0.3785, Regression: 0.0079, Classification: 0.3706\n",
      "SM_0 → RMSE: 6.56446271, MAE: 5.04842281, ME: 0.56187046\n",
      "SM_20 → RMSE: 6.77096157, MAE: 5.18272018, ME: 1.06415713\n",
      "Classification → Accuracy: 0.93242586, F1-score: 0.93212859\n",
      "Epoch 46/60\n"
     ]
    },
    {
     "data": {
      "application/vnd.jupyter.widget-view+json": {
       "model_id": "566a712fb5224413af0a00c0164c7e64",
       "version_major": 2,
       "version_minor": 0
      },
      "text/plain": [
       "  0%|          | 0/33 [00:00<?, ?it/s]"
      ]
     },
     "metadata": {},
     "output_type": "display_data"
    },
    {
     "name": "stdout",
     "output_type": "stream",
     "text": [
      "Loss → Total: 0.3425, Regression: 0.0068, Classification: 0.3357\n",
      "SM_0 → RMSE: 6.51016614, MAE: 5.00794411, ME: 0.47991472\n",
      "SM_20 → RMSE: 6.93980163, MAE: 5.39526558, ME: 0.43252707\n",
      "Classification → Accuracy: 0.94409334, F1-score: 0.94414682\n",
      "Epoch 47/60\n"
     ]
    },
    {
     "data": {
      "application/vnd.jupyter.widget-view+json": {
       "model_id": "ae2226155b0d4686a1ab1d12f89b0d3c",
       "version_major": 2,
       "version_minor": 0
      },
      "text/plain": [
       "  0%|          | 0/33 [00:00<?, ?it/s]"
      ]
     },
     "metadata": {},
     "output_type": "display_data"
    },
    {
     "name": "stdout",
     "output_type": "stream",
     "text": [
      "Loss → Total: 0.4222, Regression: 0.0084, Classification: 0.4139\n",
      "SM_0 → RMSE: 6.19900214, MAE: 4.81734324, ME: -0.80100274\n",
      "SM_20 → RMSE: 6.51900550, MAE: 5.12988186, ME: -0.95658046\n",
      "Classification → Accuracy: 0.94555177, F1-score: 0.94568232\n",
      "Epoch 48/60\n"
     ]
    },
    {
     "data": {
      "application/vnd.jupyter.widget-view+json": {
       "model_id": "f7ac6fcae18b40d2b104b37e7aeebb4a",
       "version_major": 2,
       "version_minor": 0
      },
      "text/plain": [
       "  0%|          | 0/33 [00:00<?, ?it/s]"
      ]
     },
     "metadata": {},
     "output_type": "display_data"
    },
    {
     "name": "stdout",
     "output_type": "stream",
     "text": [
      "Loss → Total: 0.4592, Regression: 0.0077, Classification: 0.4515\n",
      "SM_0 → RMSE: 6.91803051, MAE: 5.37898827, ME: -0.83364314\n",
      "SM_20 → RMSE: 6.60817179, MAE: 5.13613462, ME: 1.04234612\n",
      "Classification → Accuracy: 0.92075839, F1-score: 0.92069035\n",
      "Epoch 49/60\n"
     ]
    },
    {
     "data": {
      "application/vnd.jupyter.widget-view+json": {
       "model_id": "8b2fd3bdd7ca4a398a17d425e7b232f7",
       "version_major": 2,
       "version_minor": 0
      },
      "text/plain": [
       "  0%|          | 0/33 [00:00<?, ?it/s]"
      ]
     },
     "metadata": {},
     "output_type": "display_data"
    },
    {
     "name": "stdout",
     "output_type": "stream",
     "text": [
      "Loss → Total: 0.3830, Regression: 0.0072, Classification: 0.3758\n",
      "SM_0 → RMSE: 6.67982170, MAE: 5.18344307, ME: -1.13001549\n",
      "SM_20 → RMSE: 6.26981904, MAE: 4.84411955, ME: -0.61216229\n",
      "Classification → Accuracy: 0.94506563, F1-score: 0.94529144\n",
      "Epoch 50/60\n"
     ]
    },
    {
     "data": {
      "application/vnd.jupyter.widget-view+json": {
       "model_id": "a621032bc38f458dbeacb2077be98f60",
       "version_major": 2,
       "version_minor": 0
      },
      "text/plain": [
       "  0%|          | 0/33 [00:00<?, ?it/s]"
      ]
     },
     "metadata": {},
     "output_type": "display_data"
    },
    {
     "name": "stdout",
     "output_type": "stream",
     "text": [
      "Loss → Total: 0.3273, Regression: 0.0071, Classification: 0.3203\n",
      "SM_0 → RMSE: 6.03989435, MAE: 4.68737078, ME: 0.27366236\n",
      "SM_20 → RMSE: 5.96184488, MAE: 4.57966375, ME: 1.02371049\n",
      "Classification → Accuracy: 0.94603792, F1-score: 0.94619679\n",
      "Epoch 51/60\n"
     ]
    },
    {
     "data": {
      "application/vnd.jupyter.widget-view+json": {
       "model_id": "5d46a5efc05d4be795be6c1be72748e9",
       "version_major": 2,
       "version_minor": 0
      },
      "text/plain": [
       "  0%|          | 0/33 [00:00<?, ?it/s]"
      ]
     },
     "metadata": {},
     "output_type": "display_data"
    },
    {
     "name": "stdout",
     "output_type": "stream",
     "text": [
      "Loss → Total: 0.3295, Regression: 0.0063, Classification: 0.3232\n",
      "SM_0 → RMSE: 6.72995834, MAE: 5.28058910, ME: 0.67354959\n",
      "SM_20 → RMSE: 6.42672598, MAE: 4.94748449, ME: 0.05803602\n",
      "Classification → Accuracy: 0.93582888, F1-score: 0.93634398\n",
      "Epoch 52/60\n"
     ]
    },
    {
     "data": {
      "application/vnd.jupyter.widget-view+json": {
       "model_id": "68886fb8d025467b95aa85cb6f854265",
       "version_major": 2,
       "version_minor": 0
      },
      "text/plain": [
       "  0%|          | 0/33 [00:00<?, ?it/s]"
      ]
     },
     "metadata": {},
     "output_type": "display_data"
    },
    {
     "name": "stdout",
     "output_type": "stream",
     "text": [
      "Loss → Total: 0.3871, Regression: 0.0074, Classification: 0.3797\n",
      "SM_0 → RMSE: 6.45530269, MAE: 4.97013807, ME: -0.54218006\n",
      "SM_20 → RMSE: 6.59698262, MAE: 5.10185766, ME: -0.16052422\n",
      "Classification → Accuracy: 0.94652406, F1-score: 0.94667596\n",
      "Epoch 53/60\n"
     ]
    },
    {
     "data": {
      "application/vnd.jupyter.widget-view+json": {
       "model_id": "1ce9f7d80d0b404081e612f9284b1054",
       "version_major": 2,
       "version_minor": 0
      },
      "text/plain": [
       "  0%|          | 0/33 [00:00<?, ?it/s]"
      ]
     },
     "metadata": {},
     "output_type": "display_data"
    },
    {
     "name": "stdout",
     "output_type": "stream",
     "text": [
      "Loss → Total: 0.3457, Regression: 0.0075, Classification: 0.3382\n",
      "SM_0 → RMSE: 6.50692967, MAE: 5.03303337, ME: -1.28773165\n",
      "SM_20 → RMSE: 6.92732441, MAE: 5.39351797, ME: -2.18131614\n",
      "Classification → Accuracy: 0.94214876, F1-score: 0.94235870\n",
      "Epoch 54/60\n"
     ]
    },
    {
     "data": {
      "application/vnd.jupyter.widget-view+json": {
       "model_id": "56cef589ff424abe95da58af3e6fcecf",
       "version_major": 2,
       "version_minor": 0
      },
      "text/plain": [
       "  0%|          | 0/33 [00:00<?, ?it/s]"
      ]
     },
     "metadata": {},
     "output_type": "display_data"
    },
    {
     "name": "stdout",
     "output_type": "stream",
     "text": [
      "Loss → Total: 0.3553, Regression: 0.0071, Classification: 0.3482\n",
      "SM_0 → RMSE: 6.41958080, MAE: 4.97683382, ME: -1.19671321\n",
      "SM_20 → RMSE: 6.34889531, MAE: 4.79877901, ME: 0.46305650\n",
      "Classification → Accuracy: 0.94603792, F1-score: 0.94628323\n",
      "Epoch 55/60\n"
     ]
    },
    {
     "data": {
      "application/vnd.jupyter.widget-view+json": {
       "model_id": "4e49aab8823a40fda63c85954d208807",
       "version_major": 2,
       "version_minor": 0
      },
      "text/plain": [
       "  0%|          | 0/33 [00:00<?, ?it/s]"
      ]
     },
     "metadata": {},
     "output_type": "display_data"
    },
    {
     "name": "stdout",
     "output_type": "stream",
     "text": [
      "Loss → Total: 0.3343, Regression: 0.0066, Classification: 0.3277\n",
      "SM_0 → RMSE: 6.17914209, MAE: 4.71717644, ME: -0.61485577\n",
      "SM_20 → RMSE: 6.20213606, MAE: 4.78640318, ME: -0.74178398\n",
      "Classification → Accuracy: 0.95089937, F1-score: 0.95117717\n",
      "Epoch 56/60\n"
     ]
    },
    {
     "data": {
      "application/vnd.jupyter.widget-view+json": {
       "model_id": "50231e8d6b8f4196b9d050988b023db1",
       "version_major": 2,
       "version_minor": 0
      },
      "text/plain": [
       "  0%|          | 0/33 [00:00<?, ?it/s]"
      ]
     },
     "metadata": {},
     "output_type": "display_data"
    },
    {
     "name": "stdout",
     "output_type": "stream",
     "text": [
      "Loss → Total: 0.3726, Regression: 0.0071, Classification: 0.3655\n",
      "SM_0 → RMSE: 6.44751501, MAE: 4.95630646, ME: 0.32500914\n",
      "SM_20 → RMSE: 6.23588953, MAE: 4.74996805, ME: 0.78927219\n",
      "Classification → Accuracy: 0.94992708, F1-score: 0.95008483\n",
      "Epoch 57/60\n"
     ]
    },
    {
     "data": {
      "application/vnd.jupyter.widget-view+json": {
       "model_id": "85883687ce6f447586af8f27c2637752",
       "version_major": 2,
       "version_minor": 0
      },
      "text/plain": [
       "  0%|          | 0/33 [00:00<?, ?it/s]"
      ]
     },
     "metadata": {},
     "output_type": "display_data"
    },
    {
     "name": "stdout",
     "output_type": "stream",
     "text": [
      "Loss → Total: 0.2956, Regression: 0.0061, Classification: 0.2895\n",
      "SM_0 → RMSE: 5.95252071, MAE: 4.52475262, ME: 0.06377517\n",
      "SM_20 → RMSE: 6.15310170, MAE: 4.69506311, ME: 0.09076827\n",
      "Classification → Accuracy: 0.95478853, F1-score: 0.95469031\n",
      "Epoch 58/60\n"
     ]
    },
    {
     "data": {
      "application/vnd.jupyter.widget-view+json": {
       "model_id": "84e93c1804ac4d60af9d3fa604569395",
       "version_major": 2,
       "version_minor": 0
      },
      "text/plain": [
       "  0%|          | 0/33 [00:00<?, ?it/s]"
      ]
     },
     "metadata": {},
     "output_type": "display_data"
    },
    {
     "name": "stdout",
     "output_type": "stream",
     "text": [
      "Loss → Total: 0.2881, Regression: 0.0060, Classification: 0.2821\n",
      "SM_0 → RMSE: 5.86145536, MAE: 4.46970701, ME: -0.51179790\n",
      "SM_20 → RMSE: 5.78848391, MAE: 4.44978380, ME: -0.51004440\n",
      "Classification → Accuracy: 0.95333009, F1-score: 0.95380214\n",
      "Epoch 59/60\n"
     ]
    },
    {
     "data": {
      "application/vnd.jupyter.widget-view+json": {
       "model_id": "bcc6f873c63343509c00b60bc69c3425",
       "version_major": 2,
       "version_minor": 0
      },
      "text/plain": [
       "  0%|          | 0/33 [00:00<?, ?it/s]"
      ]
     },
     "metadata": {},
     "output_type": "display_data"
    },
    {
     "name": "stdout",
     "output_type": "stream",
     "text": [
      "Loss → Total: 0.3068, Regression: 0.0062, Classification: 0.3006\n",
      "SM_0 → RMSE: 5.98955389, MAE: 4.60265446, ME: -1.14848864\n",
      "SM_20 → RMSE: 6.22285732, MAE: 4.78665352, ME: 0.08499057\n",
      "Classification → Accuracy: 0.95138551, F1-score: 0.95122984\n",
      "Epoch 60/60\n"
     ]
    },
    {
     "data": {
      "application/vnd.jupyter.widget-view+json": {
       "model_id": "73944e811d0949f195363f38ee6740d2",
       "version_major": 2,
       "version_minor": 0
      },
      "text/plain": [
       "  0%|          | 0/33 [00:00<?, ?it/s]"
      ]
     },
     "metadata": {},
     "output_type": "display_data"
    },
    {
     "name": "stdout",
     "output_type": "stream",
     "text": [
      "Loss → Total: 0.3556, Regression: 0.0068, Classification: 0.3488\n",
      "SM_0 → RMSE: 5.90040420, MAE: 4.47078609, ME: -0.08475088\n",
      "SM_20 → RMSE: 6.58309234, MAE: 5.16321278, ME: -2.30067348\n",
      "Classification → Accuracy: 0.95089937, F1-score: 0.95116095\n"
     ]
    }
   ],
   "source": [
    "import torch\n",
    "import torch.nn as nn\n",
    "import pandas as pd\n",
    "import numpy as np\n",
    "from torch.utils.data import Dataset, DataLoader\n",
    "from torchvision import transforms\n",
    "from PIL import Image\n",
    "from sklearn.metrics import mean_squared_error, mean_absolute_error, accuracy_score, f1_score\n",
    "from tqdm.notebook import tqdm\n",
    "import timm\n",
    "import os\n",
    "import random\n",
    "\n",
    "device = torch.device(\"cuda\" if torch.cuda.is_available() else \"cpu\")\n",
    "print(f\"Using device: {device}\")\n",
    "print(f\"PyTorch version: {torch.__version__}\")\n",
    "\n",
    "df = pd.read_csv(r\"F:\\Soil_Labeled_Data\\labels.csv\")\n",
    "print(f\"Total labeled images before check: {len(df)}\")\n",
    "\n",
    "required_columns = ['path', 'SM_0', 'SM_20', 'light_value', 'moisture_class']\n",
    "missing_columns = [col for col in required_columns if col not in df.columns]\n",
    "if missing_columns:\n",
    "    raise ValueError(f\"DataFrame missing columns: {missing_columns}\")\n",
    "\n",
    "fallback_dir = r\"F:\\Soil_Labeled_Data\\augmented_fallback\"\n",
    "os.makedirs(fallback_dir, exist_ok=True)\n",
    "replaced_count = 0\n",
    "augment = transforms.ColorJitter(brightness=0.2, contrast=0.2)\n",
    "\n",
    "for idx, row in tqdm(df.iterrows(), total=len(df)):\n",
    "    path = row[\"path\"]\n",
    "    try:\n",
    "        img = Image.open(path).convert(\"RGB\")\n",
    "        img.verify()\n",
    "    except:\n",
    "        print(f\"Image error: {path}\")\n",
    "        folder = os.path.dirname(path)\n",
    "        all_images = [f for f in os.listdir(folder) if f.lower().endswith((\".jpg\", \".png\"))]\n",
    "        good_images = [f for f in all_images if f != os.path.basename(path)]\n",
    "        if not good_images:\n",
    "            print(f\"No replacement images in: {folder}\")\n",
    "            continue\n",
    "        candidate = random.choice(good_images)\n",
    "        candidate_path = os.path.join(folder, candidate)\n",
    "        try:\n",
    "            img = Image.open(candidate_path).convert(\"RGB\")\n",
    "            img_aug = augment(img)\n",
    "            new_filename = f\"aug_{os.path.basename(path)}\"\n",
    "            new_path = os.path.join(fallback_dir, new_filename)\n",
    "            img_aug.save(new_path)\n",
    "            df.at[idx, \"path\"] = new_path\n",
    "            replaced_count += 1\n",
    "            print(f\"Replaced with: {new_path}\")\n",
    "        except:\n",
    "            print(f\"Replacement image error: {candidate_path}\")\n",
    "            continue\n",
    "print(f\"Replaced {replaced_count} invalid images with augmented versions.\")\n",
    "\n",
    "transform = transforms.Compose([\n",
    "    transforms.Resize((224, 224)),\n",
    "    transforms.ToTensor(),\n",
    "    transforms.Normalize(mean=[0.485, 0.456, 0.406], std=[0.229, 0.224, 0.225])\n",
    "])\n",
    "\n",
    "class SoilDualTaskDataset(Dataset):\n",
    "    def __init__(self, dataframe, transform=None):\n",
    "        self.df = dataframe\n",
    "        self.transform = transform\n",
    "\n",
    "    def __len__(self):\n",
    "        return len(self.df)\n",
    "\n",
    "    def __getitem__(self, idx):\n",
    "        row = self.df.iloc[idx]\n",
    "        img = Image.open(row[\"path\"]).convert(\"RGB\")\n",
    "        if self.transform:\n",
    "            img = self.transform(img)\n",
    "        light = torch.tensor([row[\"light_value\"] / 100.0], dtype=torch.float32)\n",
    "        regression_target = torch.tensor([row[\"SM_0\"] / 100.0, row[\"SM_20\"] / 100.0], dtype=torch.float32)\n",
    "        class_target = torch.tensor(row[\"moisture_class\"], dtype=torch.long)\n",
    "        return {\n",
    "            \"image\": img,\n",
    "            \"light\": light,\n",
    "            \"regression_target\": regression_target,\n",
    "            \"class_target\": class_target\n",
    "        }\n",
    "\n",
    "class SoilNetDualHead(nn.Module):\n",
    "    def __init__(self, num_classes=10):\n",
    "        super().__init__()\n",
    "        self.initial_conv = nn.Conv2d(3, 32, kernel_size=3, stride=1, padding=1)\n",
    "        self.mnv2_block1 = nn.Sequential(*list(\n",
    "            timm.create_model(\"mobilenetv2_100.ra_in1k\", pretrained=True).blocks.children())[0:3]\n",
    "        )\n",
    "        self.channel_adapter = nn.Conv2d(32, 16, kernel_size=1, bias=False)\n",
    "        self.mobilevit_full = timm.create_model(\"mobilevitv2_050\", pretrained=True)\n",
    "        self.mobilevit_encoder = self.mobilevit_full.stages\n",
    "        self.mvit_to_mnv2 = nn.Conv2d(256, 32, kernel_size=1, bias=False)\n",
    "        self.mnv2_block2 = nn.Sequential(*list(\n",
    "            timm.create_model(\"mobilenetv2_100.ra_in1k\", pretrained=True).blocks.children())[3:7]\n",
    "        )\n",
    "        self.final_conv = nn.Conv2d(320, 1280, kernel_size=1)\n",
    "        self.pool = nn.AdaptiveAvgPool2d((1, 1))\n",
    "        self.light_dense = nn.Sequential(nn.Linear(1, 32), nn.ReLU(inplace=True))\n",
    "        self.reg_head = nn.Sequential(\n",
    "            nn.Linear(1280 + 32, 128),\n",
    "            nn.ReLU(inplace=True),\n",
    "            nn.Linear(128, 2)\n",
    "        )\n",
    "        self.cls_head = nn.Sequential(\n",
    "            nn.Linear(1280 + 32, 128),\n",
    "            nn.ReLU(inplace=True),\n",
    "            nn.Linear(128, num_classes)\n",
    "        )\n",
    "\n",
    "    def forward(self, x_img, x_light):\n",
    "        x = self.initial_conv(x_img)\n",
    "        x = self.mnv2_block1(x)\n",
    "        x = self.channel_adapter(x)\n",
    "        x = self.mobilevit_encoder(x)\n",
    "        x = self.mvit_to_mnv2(x)\n",
    "        x = self.mnv2_block2(x)\n",
    "        x = self.final_conv(x)\n",
    "        x = self.pool(x)\n",
    "        x_img_feat = torch.flatten(x, 1)\n",
    "        x_light_feat = self.light_dense(x_light)\n",
    "        x_concat = torch.cat([x_img_feat, x_light_feat], dim=1)\n",
    "        reg_out = self.reg_head(x_concat)\n",
    "        cls_out = self.cls_head(x_concat)\n",
    "        return reg_out, cls_out\n",
    "\n",
    "dataset = SoilDualTaskDataset(df, transform)\n",
    "dataloader = DataLoader(dataset, batch_size=64, shuffle=True, pin_memory=True if device.type == \"cuda\" else False, num_workers=0)\n",
    "\n",
    "num_classes = len(df[\"moisture_class\"].unique())\n",
    "model = SoilNetDualHead(num_classes=num_classes).to(device)\n",
    "\n",
    "checkpoint_path = r\"C:\\Users\\PC\\soilNet\\checkpoints_VicReg\\vicreg_model_final_mu_23.0.pth\"\n",
    "try:\n",
    "    checkpoint = torch.load(checkpoint_path, map_location=device, weights_only=False)\n",
    "    if isinstance(checkpoint, dict) and 'model_state_dict' in checkpoint:\n",
    "        model_state_dict = checkpoint['model_state_dict']\n",
    "    else:\n",
    "        model_state_dict = checkpoint\n",
    "    model_dict = model.state_dict()\n",
    "    pretrained_dict = {k: v for k, v in model_state_dict.items() \n",
    "                       if k in model_dict and model_dict[k].shape == v.shape}\n",
    "    temp_model_dict = model_dict.copy()\n",
    "    temp_model_dict.update(pretrained_dict)\n",
    "    missing_keys, unexpected_keys = model.load_state_dict(temp_model_dict, strict=False)\n",
    "    print(f\"Loaded pretrained weights from {checkpoint_path}\")\n",
    "    if missing_keys:\n",
    "        print(f\"Some keys missing in checkpoint and not loaded: {missing_keys}\")\n",
    "    if unexpected_keys:\n",
    "        print(f\"Some keys in checkpoint not in model and ignored: {unexpected_keys}\")\n",
    "except FileNotFoundError:\n",
    "    print(f\"Checkpoint not found: {checkpoint_path}. Using random initialization.\")\n",
    "except Exception as e:\n",
    "    print(f\"Error loading checkpoint: {e}. Using random initialization.\")\n",
    "\n",
    "optimizer = torch.optim.Adam(model.parameters(), lr=1e-4)\n",
    "reg_criterion = nn.MSELoss()\n",
    "cls_criterion = nn.CrossEntropyLoss()\n",
    "\n",
    "num_epochs = 60\n",
    "loss_history = []\n",
    "\n",
    "for epoch in range(num_epochs):\n",
    "    print(f\"Epoch {epoch+1}/{num_epochs}\")\n",
    "    model.train()\n",
    "    total_loss, total_reg_loss, total_cls_loss = 0, 0, 0\n",
    "    for batch in tqdm(dataloader, leave=False):\n",
    "        x_img = batch[\"image\"].to(device)\n",
    "        x_light = batch[\"light\"].to(device)\n",
    "        y_reg = batch[\"regression_target\"].to(device)\n",
    "        y_cls = batch[\"class_target\"].to(device)\n",
    "        optimizer.zero_grad()\n",
    "        pred_reg, pred_cls = model(x_img, x_light)\n",
    "        loss_reg = reg_criterion(pred_reg, y_reg)\n",
    "        loss_cls = cls_criterion(pred_cls, y_cls)\n",
    "        loss = loss_reg + loss_cls\n",
    "        loss.backward()\n",
    "        optimizer.step()\n",
    "        total_loss += loss.item()\n",
    "        total_reg_loss += loss_reg.item()\n",
    "        total_cls_loss += loss_cls.item()\n",
    "    avg_total = total_loss / len(dataloader)\n",
    "    loss_history.append((avg_total, total_reg_loss / len(dataloader), total_cls_loss / len(dataloader)))\n",
    "    print(f\"Loss → Total: {avg_total:.4f}, Regression: {total_reg_loss / len(dataloader):.4f}, Classification: {total_cls_loss / len(dataloader):.4f}\")\n",
    "    model.eval()\n",
    "    y_true_reg, y_pred_reg = [], []\n",
    "    y_true_cls, y_pred_cls = [], []\n",
    "    with torch.no_grad():\n",
    "        for batch in dataloader:\n",
    "            x_img = batch[\"image\"].to(device)\n",
    "            x_light = batch[\"light\"].to(device)\n",
    "            y_reg = batch[\"regression_target\"].to(device)\n",
    "            y_cls = batch[\"class_target\"].to(device)\n",
    "            pred_reg, pred_cls = model(x_img, x_light)\n",
    "            y_true_reg.extend(y_reg.cpu().numpy())\n",
    "            y_pred_reg.extend(pred_reg.cpu().numpy())\n",
    "            y_true_cls.extend(y_cls.cpu().numpy())\n",
    "            y_pred_cls.extend(pred_cls.argmax(dim=1).cpu().numpy())\n",
    "    y_true_reg = np.array(y_true_reg) * 100\n",
    "    y_pred_reg = np.array(y_pred_reg) * 100\n",
    "    metrics = {}\n",
    "    for i, label in enumerate([\"SM_0\", \"SM_20\"]):\n",
    "        metrics[label] = {\n",
    "            \"RMSE\": mean_squared_error(y_true_reg[:, i], y_pred_reg[:, i]) ** 0.5,\n",
    "            \"MAE\": mean_absolute_error(y_true_reg[:, i], y_pred_reg[:, i]),\n",
    "            \"ME\": np.mean(y_pred_reg[:, i] - y_true_reg[:, i]),\n",
    "        }\n",
    "    metrics[\"Classification\"] = {\n",
    "        \"Accuracy\": accuracy_score(y_true_cls, y_pred_cls),\n",
    "        \"F1-score\": f1_score(y_true_cls, y_pred_cls, average=\"weighted\")\n",
    "    }\n",
    "    for label in [\"SM_0\", \"SM_20\"]:\n",
    "        print(f\"{label} → RMSE: {metrics[label]['RMSE']:.8f}, MAE: {metrics[label]['MAE']:.8f}, ME: {metrics[label]['ME']:.8f}\")\n",
    "    print(f\"Classification → Accuracy: {metrics['Classification']['Accuracy']:.8f}, F1-score: {metrics['Classification']['F1-score']:.8f}\")\n",
    "\n",
    "torch.save(model.state_dict(), r\"C:\\Users\\PC\\soilNet\\checkpoints_VicReg\\finetune_mu_23.0.pth\")"
   ]
  }
 ],
 "metadata": {
  "kernelspec": {
   "display_name": "Python 3 (ipykernel)",
   "language": "python",
   "name": "python3"
  },
  "language_info": {
   "codemirror_mode": {
    "name": "ipython",
    "version": 3
   },
   "file_extension": ".py",
   "mimetype": "text/x-python",
   "name": "python",
   "nbconvert_exporter": "python",
   "pygments_lexer": "ipython3",
   "version": "3.10.16"
  }
 },
 "nbformat": 4,
 "nbformat_minor": 5
}
