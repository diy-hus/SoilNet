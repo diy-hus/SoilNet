{
 "cells": [
  {
   "cell_type": "code",
   "execution_count": 1,
   "id": "37ffe4d9-53e0-48ad-b3ab-365e1ba12eb8",
   "metadata": {},
   "outputs": [
    {
     "name": "stdout",
     "output_type": "stream",
     "text": [
      "Using device: cuda\n",
      "PyTorch version: 2.6.0+cu118\n",
      "Total labeled images before check: 2057\n"
     ]
    },
    {
     "data": {
      "application/vnd.jupyter.widget-view+json": {
       "model_id": "d99036e8b5fa4068a2c384fb00c4eace",
       "version_major": 2,
       "version_minor": 0
      },
      "text/plain": [
       "  0%|          | 0/2057 [00:00<?, ?it/s]"
      ]
     },
     "metadata": {},
     "output_type": "display_data"
    },
    {
     "name": "stdout",
     "output_type": "stream",
     "text": [
      "Image error: F:\\Soil_Labeled_Data\\M_10_20\\L_60_70\\alluvial\\IMG_0683.JPG\n",
      "Replaced with: F:\\Soil_Labeled_Data\\augmented_fallback\\aug_IMG_0683.JPG\n",
      "Image error: F:\\Soil_Labeled_Data\\M_10_20\\L_70_80\\alluvial\\IMG_0703.JPG\n",
      "Replaced with: F:\\Soil_Labeled_Data\\augmented_fallback\\aug_IMG_0703.JPG\n",
      "Image error: F:\\Soil_Labeled_Data\\M_10_20\\L_80_90\\alluvial\\IMG_0746.JPG\n",
      "Replaced with: F:\\Soil_Labeled_Data\\augmented_fallback\\aug_IMG_0746.JPG\n",
      "Image error: F:\\Soil_Labeled_Data\\M_10_20\\L_80_90\\alluvial\\IMG_0753.JPG\n",
      "Replaced with: F:\\Soil_Labeled_Data\\augmented_fallback\\aug_IMG_0753.JPG\n",
      "Image error: F:\\Soil_Labeled_Data\\M_10_20\\L_80_90\\alluvial\\IMG_0755.JPG\n",
      "Replaced with: F:\\Soil_Labeled_Data\\augmented_fallback\\aug_IMG_0755.JPG\n",
      "Replaced 5 invalid images with augmented versions.\n",
      "Loaded pretrained weights from C:\\Users\\PC\\soilNet\\checkpoints_VicReg\\vicreg_model_final_mu_25.0.pth\n",
      "Epoch 1/60\n"
     ]
    },
    {
     "data": {
      "application/vnd.jupyter.widget-view+json": {
       "model_id": "b84f4e8d71234da4b1fd646324b7c7f0",
       "version_major": 2,
       "version_minor": 0
      },
      "text/plain": [
       "  0%|          | 0/65 [00:00<?, ?it/s]"
      ]
     },
     "metadata": {},
     "output_type": "display_data"
    },
    {
     "name": "stdout",
     "output_type": "stream",
     "text": [
      "Loss → Total: 2.1277, Regression: 0.0568, Classification: 2.0709\n",
      "SM_0 → RMSE: 18.26432760, MAE: 13.95457554, ME: -0.43715140\n",
      "SM_20 → RMSE: 18.35454225, MAE: 14.07275200, ME: -1.95193672\n",
      "Classification → Accuracy: 0.30967428, F1-score: 0.28489474\n",
      "Epoch 2/60\n"
     ]
    },
    {
     "data": {
      "application/vnd.jupyter.widget-view+json": {
       "model_id": "f14a96cc9fe246138286e7553b183176",
       "version_major": 2,
       "version_minor": 0
      },
      "text/plain": [
       "  0%|          | 0/65 [00:00<?, ?it/s]"
      ]
     },
     "metadata": {},
     "output_type": "display_data"
    },
    {
     "name": "stdout",
     "output_type": "stream",
     "text": [
      "Loss → Total: 1.8407, Regression: 0.0372, Classification: 1.8035\n",
      "SM_0 → RMSE: 16.06897839, MAE: 12.44165707, ME: 0.56441420\n",
      "SM_20 → RMSE: 16.09708040, MAE: 12.66377544, ME: 0.81934005\n",
      "Classification → Accuracy: 0.38454059, F1-score: 0.37567610\n",
      "Epoch 3/60\n"
     ]
    },
    {
     "data": {
      "application/vnd.jupyter.widget-view+json": {
       "model_id": "525328c87a3945f1a70100703e7392fd",
       "version_major": 2,
       "version_minor": 0
      },
      "text/plain": [
       "  0%|          | 0/65 [00:00<?, ?it/s]"
      ]
     },
     "metadata": {},
     "output_type": "display_data"
    },
    {
     "name": "stdout",
     "output_type": "stream",
     "text": [
      "Loss → Total: 1.6874, Regression: 0.0296, Classification: 1.6577\n",
      "SM_0 → RMSE: 13.51170407, MAE: 10.36985779, ME: 0.88541627\n",
      "SM_20 → RMSE: 13.73300730, MAE: 10.60444736, ME: 0.77241099\n",
      "Classification → Accuracy: 0.43558580, F1-score: 0.43619413\n",
      "Epoch 4/60\n"
     ]
    },
    {
     "data": {
      "application/vnd.jupyter.widget-view+json": {
       "model_id": "cb9ea9d192f6463cbe7d115ba02ab24d",
       "version_major": 2,
       "version_minor": 0
      },
      "text/plain": [
       "  0%|          | 0/65 [00:00<?, ?it/s]"
      ]
     },
     "metadata": {},
     "output_type": "display_data"
    },
    {
     "name": "stdout",
     "output_type": "stream",
     "text": [
      "Loss → Total: 1.5781, Regression: 0.0258, Classification: 1.5522\n",
      "SM_0 → RMSE: 15.31380983, MAE: 12.09394264, ME: -1.19062030\n",
      "SM_20 → RMSE: 15.77443048, MAE: 12.38059425, ME: -2.69815493\n",
      "Classification → Accuracy: 0.51093826, F1-score: 0.51278407\n",
      "Epoch 5/60\n"
     ]
    },
    {
     "data": {
      "application/vnd.jupyter.widget-view+json": {
       "model_id": "07e1121fe6ff438d9fe42cbad6a8749e",
       "version_major": 2,
       "version_minor": 0
      },
      "text/plain": [
       "  0%|          | 0/65 [00:00<?, ?it/s]"
      ]
     },
     "metadata": {},
     "output_type": "display_data"
    },
    {
     "name": "stdout",
     "output_type": "stream",
     "text": [
      "Loss → Total: 1.4672, Regression: 0.0232, Classification: 1.4441\n",
      "SM_0 → RMSE: 12.66440950, MAE: 9.82509899, ME: 2.68443036\n",
      "SM_20 → RMSE: 12.21520102, MAE: 9.27866936, ME: 1.86608171\n",
      "Classification → Accuracy: 0.54059310, F1-score: 0.53032070\n",
      "Epoch 6/60\n"
     ]
    },
    {
     "data": {
      "application/vnd.jupyter.widget-view+json": {
       "model_id": "a571562c24044cf38a3cf7cb3ab54fe1",
       "version_major": 2,
       "version_minor": 0
      },
      "text/plain": [
       "  0%|          | 0/65 [00:00<?, ?it/s]"
      ]
     },
     "metadata": {},
     "output_type": "display_data"
    },
    {
     "name": "stdout",
     "output_type": "stream",
     "text": [
      "Loss → Total: 1.3670, Regression: 0.0212, Classification: 1.3458\n",
      "SM_0 → RMSE: 11.31483191, MAE: 8.55838108, ME: 0.77395654\n",
      "SM_20 → RMSE: 11.40278000, MAE: 8.58097935, ME: 0.03578760\n",
      "Classification → Accuracy: 0.58774915, F1-score: 0.58295532\n",
      "Epoch 7/60\n"
     ]
    },
    {
     "data": {
      "application/vnd.jupyter.widget-view+json": {
       "model_id": "eb03205dfda847d3959b3c34b80224a7",
       "version_major": 2,
       "version_minor": 0
      },
      "text/plain": [
       "  0%|          | 0/65 [00:00<?, ?it/s]"
      ]
     },
     "metadata": {},
     "output_type": "display_data"
    },
    {
     "name": "stdout",
     "output_type": "stream",
     "text": [
      "Loss → Total: 1.2722, Regression: 0.0182, Classification: 1.2540\n",
      "SM_0 → RMSE: 10.81532771, MAE: 8.24495316, ME: 2.69129610\n",
      "SM_20 → RMSE: 10.91840199, MAE: 8.28728104, ME: 2.54347253\n",
      "Classification → Accuracy: 0.62761303, F1-score: 0.62857749\n",
      "Epoch 8/60\n"
     ]
    },
    {
     "data": {
      "application/vnd.jupyter.widget-view+json": {
       "model_id": "4479ee119c0043c38bce926742b6d676",
       "version_major": 2,
       "version_minor": 0
      },
      "text/plain": [
       "  0%|          | 0/65 [00:00<?, ?it/s]"
      ]
     },
     "metadata": {},
     "output_type": "display_data"
    },
    {
     "name": "stdout",
     "output_type": "stream",
     "text": [
      "Loss → Total: 1.2201, Regression: 0.0177, Classification: 1.2024\n",
      "SM_0 → RMSE: 10.65003835, MAE: 8.04086113, ME: 1.63102102\n",
      "SM_20 → RMSE: 10.25371205, MAE: 7.79016209, ME: 1.20756602\n",
      "Classification → Accuracy: 0.65046184, F1-score: 0.64418370\n",
      "Epoch 9/60\n"
     ]
    },
    {
     "data": {
      "application/vnd.jupyter.widget-view+json": {
       "model_id": "5580b95e904f4049b0dd8a9a98a8655a",
       "version_major": 2,
       "version_minor": 0
      },
      "text/plain": [
       "  0%|          | 0/65 [00:00<?, ?it/s]"
      ]
     },
     "metadata": {},
     "output_type": "display_data"
    },
    {
     "name": "stdout",
     "output_type": "stream",
     "text": [
      "Loss → Total: 1.1224, Regression: 0.0165, Classification: 1.1059\n",
      "SM_0 → RMSE: 10.46234317, MAE: 8.16300774, ME: 2.28919649\n",
      "SM_20 → RMSE: 10.93066262, MAE: 8.39961338, ME: 4.10168409\n",
      "Classification → Accuracy: 0.66650462, F1-score: 0.66328038\n",
      "Epoch 10/60\n"
     ]
    },
    {
     "data": {
      "application/vnd.jupyter.widget-view+json": {
       "model_id": "6c2d446f0a964297be6fe68c78843019",
       "version_major": 2,
       "version_minor": 0
      },
      "text/plain": [
       "  0%|          | 0/65 [00:00<?, ?it/s]"
      ]
     },
     "metadata": {},
     "output_type": "display_data"
    },
    {
     "name": "stdout",
     "output_type": "stream",
     "text": [
      "Loss → Total: 1.0960, Regression: 0.0157, Classification: 1.0803\n",
      "SM_0 → RMSE: 9.09408055, MAE: 6.99612522, ME: 1.23567748\n",
      "SM_20 → RMSE: 9.15060595, MAE: 6.98196220, ME: 0.78372699\n",
      "Classification → Accuracy: 0.72873116, F1-score: 0.72562128\n",
      "Epoch 11/60\n"
     ]
    },
    {
     "data": {
      "application/vnd.jupyter.widget-view+json": {
       "model_id": "c457ccf5a05b4862af8715eabda369bb",
       "version_major": 2,
       "version_minor": 0
      },
      "text/plain": [
       "  0%|          | 0/65 [00:00<?, ?it/s]"
      ]
     },
     "metadata": {},
     "output_type": "display_data"
    },
    {
     "name": "stdout",
     "output_type": "stream",
     "text": [
      "Loss → Total: 0.9888, Regression: 0.0149, Classification: 0.9739\n",
      "SM_0 → RMSE: 9.39264372, MAE: 7.09104872, ME: 0.82799667\n",
      "SM_20 → RMSE: 9.73549493, MAE: 7.51574945, ME: 0.28538284\n",
      "Classification → Accuracy: 0.74088478, F1-score: 0.73885563\n",
      "Epoch 12/60\n"
     ]
    },
    {
     "data": {
      "application/vnd.jupyter.widget-view+json": {
       "model_id": "15402c02139c455699cfd3d619c5c602",
       "version_major": 2,
       "version_minor": 0
      },
      "text/plain": [
       "  0%|          | 0/65 [00:00<?, ?it/s]"
      ]
     },
     "metadata": {},
     "output_type": "display_data"
    },
    {
     "name": "stdout",
     "output_type": "stream",
     "text": [
      "Loss → Total: 0.9298, Regression: 0.0133, Classification: 0.9165\n",
      "SM_0 → RMSE: 10.42156643, MAE: 8.29551315, ME: 0.64550394\n",
      "SM_20 → RMSE: 9.67119264, MAE: 7.54147720, ME: 1.30845547\n",
      "Classification → Accuracy: 0.76470588, F1-score: 0.76152943\n",
      "Epoch 13/60\n"
     ]
    },
    {
     "data": {
      "application/vnd.jupyter.widget-view+json": {
       "model_id": "a72a5c31587743bb9d7e7563c37a6a10",
       "version_major": 2,
       "version_minor": 0
      },
      "text/plain": [
       "  0%|          | 0/65 [00:00<?, ?it/s]"
      ]
     },
     "metadata": {},
     "output_type": "display_data"
    },
    {
     "name": "stdout",
     "output_type": "stream",
     "text": [
      "Loss → Total: 0.9636, Regression: 0.0144, Classification: 0.9491\n",
      "SM_0 → RMSE: 9.07129153, MAE: 6.94727993, ME: 0.16393313\n",
      "SM_20 → RMSE: 9.06102788, MAE: 7.06164217, ME: -0.35546026\n",
      "Classification → Accuracy: 0.75401070, F1-score: 0.75207715\n",
      "Epoch 14/60\n"
     ]
    },
    {
     "data": {
      "application/vnd.jupyter.widget-view+json": {
       "model_id": "478a607187034e9ab69d9d313d82e4af",
       "version_major": 2,
       "version_minor": 0
      },
      "text/plain": [
       "  0%|          | 0/65 [00:00<?, ?it/s]"
      ]
     },
     "metadata": {},
     "output_type": "display_data"
    },
    {
     "name": "stdout",
     "output_type": "stream",
     "text": [
      "Loss → Total: 0.9235, Regression: 0.0141, Classification: 0.9094\n",
      "SM_0 → RMSE: 8.45504451, MAE: 6.66025639, ME: 0.04027788\n",
      "SM_20 → RMSE: 8.82060875, MAE: 6.98119164, ME: -1.04242706\n",
      "Classification → Accuracy: 0.79047156, F1-score: 0.79042678\n",
      "Epoch 15/60\n"
     ]
    },
    {
     "data": {
      "application/vnd.jupyter.widget-view+json": {
       "model_id": "91c07d07a50c4fceb7b4b475ceb09774",
       "version_major": 2,
       "version_minor": 0
      },
      "text/plain": [
       "  0%|          | 0/65 [00:00<?, ?it/s]"
      ]
     },
     "metadata": {},
     "output_type": "display_data"
    },
    {
     "name": "stdout",
     "output_type": "stream",
     "text": [
      "Loss → Total: 0.8593, Regression: 0.0129, Classification: 0.8464\n",
      "SM_0 → RMSE: 8.18466533, MAE: 6.25282431, ME: 2.81961083\n",
      "SM_20 → RMSE: 8.51499827, MAE: 6.59689951, ME: 2.11317492\n",
      "Classification → Accuracy: 0.80213904, F1-score: 0.79422794\n",
      "Epoch 16/60\n"
     ]
    },
    {
     "data": {
      "application/vnd.jupyter.widget-view+json": {
       "model_id": "b74b3c1ea04c48e8aa51c24a5d9a12d2",
       "version_major": 2,
       "version_minor": 0
      },
      "text/plain": [
       "  0%|          | 0/65 [00:00<?, ?it/s]"
      ]
     },
     "metadata": {},
     "output_type": "display_data"
    },
    {
     "name": "stdout",
     "output_type": "stream",
     "text": [
      "Loss → Total: 0.7890, Regression: 0.0119, Classification: 0.7771\n",
      "SM_0 → RMSE: 8.90143699, MAE: 7.03120804, ME: 2.95649743\n",
      "SM_20 → RMSE: 8.73498162, MAE: 6.93943882, ME: 3.08670783\n",
      "Classification → Accuracy: 0.80797278, F1-score: 0.80583911\n",
      "Epoch 17/60\n"
     ]
    },
    {
     "data": {
      "application/vnd.jupyter.widget-view+json": {
       "model_id": "77f1afe670ad475eb97ed5096f8b51cb",
       "version_major": 2,
       "version_minor": 0
      },
      "text/plain": [
       "  0%|          | 0/65 [00:00<?, ?it/s]"
      ]
     },
     "metadata": {},
     "output_type": "display_data"
    },
    {
     "name": "stdout",
     "output_type": "stream",
     "text": [
      "Loss → Total: 0.7731, Regression: 0.0119, Classification: 0.7612\n",
      "SM_0 → RMSE: 8.74923441, MAE: 6.67191744, ME: 2.81084466\n",
      "SM_20 → RMSE: 9.57887213, MAE: 7.35880852, ME: 2.84296846\n",
      "Classification → Accuracy: 0.81915411, F1-score: 0.81866258\n",
      "Epoch 18/60\n"
     ]
    },
    {
     "data": {
      "application/vnd.jupyter.widget-view+json": {
       "model_id": "4af3118f9cec4e928f3a6c708f9b3ad1",
       "version_major": 2,
       "version_minor": 0
      },
      "text/plain": [
       "  0%|          | 0/65 [00:00<?, ?it/s]"
      ]
     },
     "metadata": {},
     "output_type": "display_data"
    },
    {
     "name": "stdout",
     "output_type": "stream",
     "text": [
      "Loss → Total: 0.7856, Regression: 0.0116, Classification: 0.7739\n",
      "SM_0 → RMSE: 9.91063393, MAE: 7.95483255, ME: 0.71545297\n",
      "SM_20 → RMSE: 9.20232954, MAE: 7.36042261, ME: 0.16918217\n",
      "Classification → Accuracy: 0.83616918, F1-score: 0.83743960\n",
      "Epoch 19/60\n"
     ]
    },
    {
     "data": {
      "application/vnd.jupyter.widget-view+json": {
       "model_id": "fc88fc0316cd4b009622817441070027",
       "version_major": 2,
       "version_minor": 0
      },
      "text/plain": [
       "  0%|          | 0/65 [00:00<?, ?it/s]"
      ]
     },
     "metadata": {},
     "output_type": "display_data"
    },
    {
     "name": "stdout",
     "output_type": "stream",
     "text": [
      "Loss → Total: 0.7304, Regression: 0.0109, Classification: 0.7195\n",
      "SM_0 → RMSE: 8.10777170, MAE: 6.28727627, ME: 1.97741497\n",
      "SM_20 → RMSE: 8.84715308, MAE: 6.89462137, ME: 0.64057225\n",
      "Classification → Accuracy: 0.81283422, F1-score: 0.80972091\n",
      "Epoch 20/60\n"
     ]
    },
    {
     "data": {
      "application/vnd.jupyter.widget-view+json": {
       "model_id": "a58e853614214731b5bdb76b9e22fc10",
       "version_major": 2,
       "version_minor": 0
      },
      "text/plain": [
       "  0%|          | 0/65 [00:00<?, ?it/s]"
      ]
     },
     "metadata": {},
     "output_type": "display_data"
    },
    {
     "name": "stdout",
     "output_type": "stream",
     "text": [
      "Loss → Total: 0.7398, Regression: 0.0118, Classification: 0.7280\n",
      "SM_0 → RMSE: 8.61752084, MAE: 6.75116110, ME: -1.00356591\n",
      "SM_20 → RMSE: 9.19881153, MAE: 7.15869570, ME: -1.08381796\n",
      "Classification → Accuracy: 0.85561497, F1-score: 0.85681246\n",
      "Epoch 21/60\n"
     ]
    },
    {
     "data": {
      "application/vnd.jupyter.widget-view+json": {
       "model_id": "d61b0526c29449749784ef5c63b19926",
       "version_major": 2,
       "version_minor": 0
      },
      "text/plain": [
       "  0%|          | 0/65 [00:00<?, ?it/s]"
      ]
     },
     "metadata": {},
     "output_type": "display_data"
    },
    {
     "name": "stdout",
     "output_type": "stream",
     "text": [
      "Loss → Total: 0.6785, Regression: 0.0103, Classification: 0.6681\n",
      "SM_0 → RMSE: 7.92144377, MAE: 6.16254997, ME: 0.32902181\n",
      "SM_20 → RMSE: 7.81885313, MAE: 6.07742500, ME: 0.75045162\n",
      "Classification → Accuracy: 0.87408848, F1-score: 0.87439890\n",
      "Epoch 22/60\n"
     ]
    },
    {
     "data": {
      "application/vnd.jupyter.widget-view+json": {
       "model_id": "9e932e0a83de49ab9c89b07dbbe3f6f4",
       "version_major": 2,
       "version_minor": 0
      },
      "text/plain": [
       "  0%|          | 0/65 [00:00<?, ?it/s]"
      ]
     },
     "metadata": {},
     "output_type": "display_data"
    },
    {
     "name": "stdout",
     "output_type": "stream",
     "text": [
      "Loss → Total: 0.6839, Regression: 0.0112, Classification: 0.6728\n",
      "SM_0 → RMSE: 9.43732376, MAE: 7.22955513, ME: 3.42681527\n",
      "SM_20 → RMSE: 8.82273757, MAE: 6.76829052, ME: 2.11561346\n",
      "Classification → Accuracy: 0.86387944, F1-score: 0.86273129\n",
      "Epoch 23/60\n"
     ]
    },
    {
     "data": {
      "application/vnd.jupyter.widget-view+json": {
       "model_id": "401990b41207487690ebb1346e756aba",
       "version_major": 2,
       "version_minor": 0
      },
      "text/plain": [
       "  0%|          | 0/65 [00:00<?, ?it/s]"
      ]
     },
     "metadata": {},
     "output_type": "display_data"
    },
    {
     "name": "stdout",
     "output_type": "stream",
     "text": [
      "Loss → Total: 0.6392, Regression: 0.0100, Classification: 0.6293\n",
      "SM_0 → RMSE: 7.78574177, MAE: 6.07530069, ME: 0.91381139\n",
      "SM_20 → RMSE: 7.87539357, MAE: 6.17394590, ME: 0.21358143\n",
      "Classification → Accuracy: 0.89304813, F1-score: 0.89340353\n",
      "Epoch 24/60\n"
     ]
    },
    {
     "data": {
      "application/vnd.jupyter.widget-view+json": {
       "model_id": "3b22a216b3cb436282b185c63e1dcc7c",
       "version_major": 2,
       "version_minor": 0
      },
      "text/plain": [
       "  0%|          | 0/65 [00:00<?, ?it/s]"
      ]
     },
     "metadata": {},
     "output_type": "display_data"
    },
    {
     "name": "stdout",
     "output_type": "stream",
     "text": [
      "Loss → Total: 0.6532, Regression: 0.0107, Classification: 0.6425\n",
      "SM_0 → RMSE: 8.18214533, MAE: 6.22428465, ME: 0.84174770\n",
      "SM_20 → RMSE: 7.90554601, MAE: 6.10055208, ME: 0.72297335\n",
      "Classification → Accuracy: 0.88721439, F1-score: 0.88696170\n",
      "Epoch 25/60\n"
     ]
    },
    {
     "data": {
      "application/vnd.jupyter.widget-view+json": {
       "model_id": "417cc53df00b480ba381eef4e4669bf7",
       "version_major": 2,
       "version_minor": 0
      },
      "text/plain": [
       "  0%|          | 0/65 [00:00<?, ?it/s]"
      ]
     },
     "metadata": {},
     "output_type": "display_data"
    },
    {
     "name": "stdout",
     "output_type": "stream",
     "text": [
      "Loss → Total: 0.6678, Regression: 0.0102, Classification: 0.6577\n",
      "SM_0 → RMSE: 7.74376280, MAE: 6.10212898, ME: 2.69443369\n",
      "SM_20 → RMSE: 7.78560679, MAE: 6.01527023, ME: 2.52212524\n",
      "Classification → Accuracy: 0.89207584, F1-score: 0.89217062\n",
      "Epoch 26/60\n"
     ]
    },
    {
     "data": {
      "application/vnd.jupyter.widget-view+json": {
       "model_id": "2957069a38ce492ea99174b6db8798ca",
       "version_major": 2,
       "version_minor": 0
      },
      "text/plain": [
       "  0%|          | 0/65 [00:00<?, ?it/s]"
      ]
     },
     "metadata": {},
     "output_type": "display_data"
    },
    {
     "name": "stdout",
     "output_type": "stream",
     "text": [
      "Loss → Total: 0.6225, Regression: 0.0098, Classification: 0.6128\n",
      "SM_0 → RMSE: 7.91160842, MAE: 6.33912754, ME: 0.62171245\n",
      "SM_20 → RMSE: 8.01872922, MAE: 6.30629349, ME: -0.05045960\n",
      "Classification → Accuracy: 0.91298007, F1-score: 0.91310303\n",
      "Epoch 27/60\n"
     ]
    },
    {
     "data": {
      "application/vnd.jupyter.widget-view+json": {
       "model_id": "fca9f98c2dae4e33b112740e8038e913",
       "version_major": 2,
       "version_minor": 0
      },
      "text/plain": [
       "  0%|          | 0/65 [00:00<?, ?it/s]"
      ]
     },
     "metadata": {},
     "output_type": "display_data"
    },
    {
     "name": "stdout",
     "output_type": "stream",
     "text": [
      "Loss → Total: 0.5385, Regression: 0.0088, Classification: 0.5297\n",
      "SM_0 → RMSE: 7.16590304, MAE: 5.55688286, ME: -0.99916929\n",
      "SM_20 → RMSE: 7.11500491, MAE: 5.53440714, ME: -0.99571311\n",
      "Classification → Accuracy: 0.88867282, F1-score: 0.88879381\n",
      "Epoch 28/60\n"
     ]
    },
    {
     "data": {
      "application/vnd.jupyter.widget-view+json": {
       "model_id": "905bb5b4c70540d9a115a78fdeebc4dc",
       "version_major": 2,
       "version_minor": 0
      },
      "text/plain": [
       "  0%|          | 0/65 [00:00<?, ?it/s]"
      ]
     },
     "metadata": {},
     "output_type": "display_data"
    },
    {
     "name": "stdout",
     "output_type": "stream",
     "text": [
      "Loss → Total: 0.5216, Regression: 0.0089, Classification: 0.5127\n",
      "SM_0 → RMSE: 7.79207364, MAE: 5.93951321, ME: 1.00880587\n",
      "SM_20 → RMSE: 7.93979017, MAE: 6.17377758, ME: 1.49031126\n",
      "Classification → Accuracy: 0.89645114, F1-score: 0.89608273\n",
      "Epoch 29/60\n"
     ]
    },
    {
     "data": {
      "application/vnd.jupyter.widget-view+json": {
       "model_id": "205bd345e4884248a1084c44e48a3366",
       "version_major": 2,
       "version_minor": 0
      },
      "text/plain": [
       "  0%|          | 0/65 [00:00<?, ?it/s]"
      ]
     },
     "metadata": {},
     "output_type": "display_data"
    },
    {
     "name": "stdout",
     "output_type": "stream",
     "text": [
      "Loss → Total: 0.5536, Regression: 0.0094, Classification: 0.5441\n",
      "SM_0 → RMSE: 7.70264537, MAE: 5.99865627, ME: -1.40748453\n",
      "SM_20 → RMSE: 7.47828914, MAE: 5.83931160, ME: -0.75666207\n",
      "Classification → Accuracy: 0.89985416, F1-score: 0.90009978\n",
      "Epoch 30/60\n"
     ]
    },
    {
     "data": {
      "application/vnd.jupyter.widget-view+json": {
       "model_id": "bdd867ed91d64bb1b9b3ed95ebae3fdc",
       "version_major": 2,
       "version_minor": 0
      },
      "text/plain": [
       "  0%|          | 0/65 [00:00<?, ?it/s]"
      ]
     },
     "metadata": {},
     "output_type": "display_data"
    },
    {
     "name": "stdout",
     "output_type": "stream",
     "text": [
      "Loss → Total: 0.5358, Regression: 0.0089, Classification: 0.5268\n",
      "SM_0 → RMSE: 7.22362192, MAE: 5.57223320, ME: 1.16187847\n",
      "SM_20 → RMSE: 7.38984970, MAE: 5.69910049, ME: 0.29689512\n",
      "Classification → Accuracy: 0.89693729, F1-score: 0.89633953\n",
      "Epoch 31/60\n"
     ]
    },
    {
     "data": {
      "application/vnd.jupyter.widget-view+json": {
       "model_id": "dbaed8acbc6a42d8b4642d7eae1b7a15",
       "version_major": 2,
       "version_minor": 0
      },
      "text/plain": [
       "  0%|          | 0/65 [00:00<?, ?it/s]"
      ]
     },
     "metadata": {},
     "output_type": "display_data"
    },
    {
     "name": "stdout",
     "output_type": "stream",
     "text": [
      "Loss → Total: 0.5281, Regression: 0.0092, Classification: 0.5189\n",
      "SM_0 → RMSE: 7.02737686, MAE: 5.45243883, ME: -1.81693506\n",
      "SM_20 → RMSE: 7.43195040, MAE: 5.82366514, ME: -2.42902470\n",
      "Classification → Accuracy: 0.91978610, F1-score: 0.91982656\n",
      "Epoch 32/60\n"
     ]
    },
    {
     "data": {
      "application/vnd.jupyter.widget-view+json": {
       "model_id": "20e4d04c09554c3e9d743f88e4301e7b",
       "version_major": 2,
       "version_minor": 0
      },
      "text/plain": [
       "  0%|          | 0/65 [00:00<?, ?it/s]"
      ]
     },
     "metadata": {},
     "output_type": "display_data"
    },
    {
     "name": "stdout",
     "output_type": "stream",
     "text": [
      "Loss → Total: 0.5136, Regression: 0.0084, Classification: 0.5052\n",
      "SM_0 → RMSE: 7.29729505, MAE: 5.55843544, ME: 1.81259358\n",
      "SM_20 → RMSE: 7.66876394, MAE: 5.90452337, ME: 1.84288764\n",
      "Classification → Accuracy: 0.92075839, F1-score: 0.92096486\n",
      "Epoch 33/60\n"
     ]
    },
    {
     "data": {
      "application/vnd.jupyter.widget-view+json": {
       "model_id": "e33e215c72204b489c159f758ec056ec",
       "version_major": 2,
       "version_minor": 0
      },
      "text/plain": [
       "  0%|          | 0/65 [00:00<?, ?it/s]"
      ]
     },
     "metadata": {},
     "output_type": "display_data"
    },
    {
     "name": "stdout",
     "output_type": "stream",
     "text": [
      "Loss → Total: 0.5089, Regression: 0.0086, Classification: 0.5002\n",
      "SM_0 → RMSE: 7.11462182, MAE: 5.43957281, ME: -0.99200374\n",
      "SM_20 → RMSE: 7.02589966, MAE: 5.41773415, ME: 0.76134133\n",
      "Classification → Accuracy: 0.90277103, F1-score: 0.90319261\n",
      "Epoch 34/60\n"
     ]
    },
    {
     "data": {
      "application/vnd.jupyter.widget-view+json": {
       "model_id": "a7ea922321dd44d996caa52eb7ff1d71",
       "version_major": 2,
       "version_minor": 0
      },
      "text/plain": [
       "  0%|          | 0/65 [00:00<?, ?it/s]"
      ]
     },
     "metadata": {},
     "output_type": "display_data"
    },
    {
     "name": "stdout",
     "output_type": "stream",
     "text": [
      "Loss → Total: 0.4789, Regression: 0.0084, Classification: 0.4705\n",
      "SM_0 → RMSE: 7.55766053, MAE: 5.87542439, ME: -0.58474463\n",
      "SM_20 → RMSE: 7.69677225, MAE: 5.97062302, ME: -0.33763400\n",
      "Classification → Accuracy: 0.92707827, F1-score: 0.92762837\n",
      "Epoch 35/60\n"
     ]
    },
    {
     "data": {
      "application/vnd.jupyter.widget-view+json": {
       "model_id": "985bd152db3c4d1fa5db08ca48bc96aa",
       "version_major": 2,
       "version_minor": 0
      },
      "text/plain": [
       "  0%|          | 0/65 [00:00<?, ?it/s]"
      ]
     },
     "metadata": {},
     "output_type": "display_data"
    },
    {
     "name": "stdout",
     "output_type": "stream",
     "text": [
      "Loss → Total: 0.4610, Regression: 0.0078, Classification: 0.4532\n",
      "SM_0 → RMSE: 7.23776159, MAE: 5.51844025, ME: -0.85292810\n",
      "SM_20 → RMSE: 7.44601645, MAE: 5.55911303, ME: -0.08434864\n",
      "Classification → Accuracy: 0.92464754, F1-score: 0.92581987\n",
      "Epoch 36/60\n"
     ]
    },
    {
     "data": {
      "application/vnd.jupyter.widget-view+json": {
       "model_id": "ecbdb7fb0744483ab1627cd11daebdfa",
       "version_major": 2,
       "version_minor": 0
      },
      "text/plain": [
       "  0%|          | 0/65 [00:00<?, ?it/s]"
      ]
     },
     "metadata": {},
     "output_type": "display_data"
    },
    {
     "name": "stdout",
     "output_type": "stream",
     "text": [
      "Loss → Total: 0.4203, Regression: 0.0072, Classification: 0.4131\n",
      "SM_0 → RMSE: 6.19665497, MAE: 4.73224449, ME: -0.19843054\n",
      "SM_20 → RMSE: 6.67101645, MAE: 5.08813381, ME: -0.48837677\n",
      "Classification → Accuracy: 0.93048128, F1-score: 0.93080289\n",
      "Epoch 37/60\n"
     ]
    },
    {
     "data": {
      "application/vnd.jupyter.widget-view+json": {
       "model_id": "968d8cbfb2874d96998f98e708b0c216",
       "version_major": 2,
       "version_minor": 0
      },
      "text/plain": [
       "  0%|          | 0/65 [00:00<?, ?it/s]"
      ]
     },
     "metadata": {},
     "output_type": "display_data"
    },
    {
     "name": "stdout",
     "output_type": "stream",
     "text": [
      "Loss → Total: 0.4210, Regression: 0.0075, Classification: 0.4136\n",
      "SM_0 → RMSE: 7.13343740, MAE: 5.54064322, ME: 0.73194027\n",
      "SM_20 → RMSE: 6.68727810, MAE: 5.18642521, ME: -0.04318664\n",
      "Classification → Accuracy: 0.93923189, F1-score: 0.93930351\n",
      "Epoch 38/60\n"
     ]
    },
    {
     "data": {
      "application/vnd.jupyter.widget-view+json": {
       "model_id": "e9110c618d8243f78d3ef9d67d6d615b",
       "version_major": 2,
       "version_minor": 0
      },
      "text/plain": [
       "  0%|          | 0/65 [00:00<?, ?it/s]"
      ]
     },
     "metadata": {},
     "output_type": "display_data"
    },
    {
     "name": "stdout",
     "output_type": "stream",
     "text": [
      "Loss → Total: 0.4445, Regression: 0.0087, Classification: 0.4358\n",
      "SM_0 → RMSE: 6.94012814, MAE: 5.42930603, ME: -1.59110510\n",
      "SM_20 → RMSE: 6.89029144, MAE: 5.42244244, ME: -1.23683822\n",
      "Classification → Accuracy: 0.93485659, F1-score: 0.93576639\n",
      "Epoch 39/60\n"
     ]
    },
    {
     "data": {
      "application/vnd.jupyter.widget-view+json": {
       "model_id": "d6ff889f4ba441089e5f8fa840d2f64c",
       "version_major": 2,
       "version_minor": 0
      },
      "text/plain": [
       "  0%|          | 0/65 [00:00<?, ?it/s]"
      ]
     },
     "metadata": {},
     "output_type": "display_data"
    },
    {
     "name": "stdout",
     "output_type": "stream",
     "text": [
      "Loss → Total: 0.4703, Regression: 0.0080, Classification: 0.4624\n",
      "SM_0 → RMSE: 6.91702879, MAE: 5.34464979, ME: 1.58352971\n",
      "SM_20 → RMSE: 7.00981270, MAE: 5.41466427, ME: 2.03881884\n",
      "Classification → Accuracy: 0.92561983, F1-score: 0.92551205\n",
      "Epoch 40/60\n"
     ]
    },
    {
     "data": {
      "application/vnd.jupyter.widget-view+json": {
       "model_id": "79bee39af99947b8a6ffe356d659aae1",
       "version_major": 2,
       "version_minor": 0
      },
      "text/plain": [
       "  0%|          | 0/65 [00:00<?, ?it/s]"
      ]
     },
     "metadata": {},
     "output_type": "display_data"
    },
    {
     "name": "stdout",
     "output_type": "stream",
     "text": [
      "Loss → Total: 0.4400, Regression: 0.0078, Classification: 0.4322\n",
      "SM_0 → RMSE: 6.71498407, MAE: 5.04318094, ME: 0.25782198\n",
      "SM_20 → RMSE: 7.24562756, MAE: 5.45337200, ME: 1.53364801\n",
      "Classification → Accuracy: 0.93388430, F1-score: 0.93358685\n",
      "Epoch 41/60\n"
     ]
    },
    {
     "data": {
      "application/vnd.jupyter.widget-view+json": {
       "model_id": "29e5dfd6700b49bfaf92a888750ab77b",
       "version_major": 2,
       "version_minor": 0
      },
      "text/plain": [
       "  0%|          | 0/65 [00:00<?, ?it/s]"
      ]
     },
     "metadata": {},
     "output_type": "display_data"
    },
    {
     "name": "stdout",
     "output_type": "stream",
     "text": [
      "Loss → Total: 0.4499, Regression: 0.0083, Classification: 0.4416\n",
      "SM_0 → RMSE: 6.57681167, MAE: 5.01263046, ME: 0.54965144\n",
      "SM_20 → RMSE: 6.61603645, MAE: 5.09496927, ME: 0.70562458\n",
      "Classification → Accuracy: 0.93048128, F1-score: 0.93112323\n",
      "Epoch 42/60\n"
     ]
    },
    {
     "data": {
      "application/vnd.jupyter.widget-view+json": {
       "model_id": "346d95171af84eff8d55b421f29f6e08",
       "version_major": 2,
       "version_minor": 0
      },
      "text/plain": [
       "  0%|          | 0/65 [00:00<?, ?it/s]"
      ]
     },
     "metadata": {},
     "output_type": "display_data"
    },
    {
     "name": "stdout",
     "output_type": "stream",
     "text": [
      "Loss → Total: 0.3826, Regression: 0.0072, Classification: 0.3754\n",
      "SM_0 → RMSE: 6.77544721, MAE: 5.19351625, ME: -1.23927820\n",
      "SM_20 → RMSE: 6.86163668, MAE: 5.23976183, ME: -0.21705468\n",
      "Classification → Accuracy: 0.94166262, F1-score: 0.94243986\n",
      "Epoch 43/60\n"
     ]
    },
    {
     "data": {
      "application/vnd.jupyter.widget-view+json": {
       "model_id": "4f1aeb7e2a7d475b999b0a344cb891a3",
       "version_major": 2,
       "version_minor": 0
      },
      "text/plain": [
       "  0%|          | 0/65 [00:00<?, ?it/s]"
      ]
     },
     "metadata": {},
     "output_type": "display_data"
    },
    {
     "name": "stdout",
     "output_type": "stream",
     "text": [
      "Loss → Total: 0.4469, Regression: 0.0099, Classification: 0.4370\n",
      "SM_0 → RMSE: 6.73880235, MAE: 5.26635027, ME: 0.28686354\n",
      "SM_20 → RMSE: 7.02303584, MAE: 5.52189445, ME: -0.26652804\n",
      "Classification → Accuracy: 0.94409334, F1-score: 0.94411630\n",
      "Epoch 44/60\n"
     ]
    },
    {
     "data": {
      "application/vnd.jupyter.widget-view+json": {
       "model_id": "21d561a6cd564ecdac3b10bc8c0a9bd9",
       "version_major": 2,
       "version_minor": 0
      },
      "text/plain": [
       "  0%|          | 0/65 [00:00<?, ?it/s]"
      ]
     },
     "metadata": {},
     "output_type": "display_data"
    },
    {
     "name": "stdout",
     "output_type": "stream",
     "text": [
      "Loss → Total: 0.4168, Regression: 0.0082, Classification: 0.4086\n",
      "SM_0 → RMSE: 6.77775547, MAE: 5.20838356, ME: 0.26546332\n",
      "SM_20 → RMSE: 7.04135206, MAE: 5.42592096, ME: -0.51457316\n",
      "Classification → Accuracy: 0.94457948, F1-score: 0.94445303\n",
      "Epoch 45/60\n"
     ]
    },
    {
     "data": {
      "application/vnd.jupyter.widget-view+json": {
       "model_id": "f52b44b0e0f94f6c9fdbf226de355c25",
       "version_major": 2,
       "version_minor": 0
      },
      "text/plain": [
       "  0%|          | 0/65 [00:00<?, ?it/s]"
      ]
     },
     "metadata": {},
     "output_type": "display_data"
    },
    {
     "name": "stdout",
     "output_type": "stream",
     "text": [
      "Loss → Total: 0.3817, Regression: 0.0067, Classification: 0.3750\n",
      "SM_0 → RMSE: 6.83589090, MAE: 5.21525669, ME: 2.26773572\n",
      "SM_20 → RMSE: 6.53655207, MAE: 5.04518795, ME: 0.29653600\n",
      "Classification → Accuracy: 0.94506563, F1-score: 0.94534435\n",
      "Epoch 46/60\n"
     ]
    },
    {
     "data": {
      "application/vnd.jupyter.widget-view+json": {
       "model_id": "bac0696547174cf99d77fc6481313638",
       "version_major": 2,
       "version_minor": 0
      },
      "text/plain": [
       "  0%|          | 0/65 [00:00<?, ?it/s]"
      ]
     },
     "metadata": {},
     "output_type": "display_data"
    },
    {
     "name": "stdout",
     "output_type": "stream",
     "text": [
      "Loss → Total: 0.3763, Regression: 0.0071, Classification: 0.3692\n",
      "SM_0 → RMSE: 6.78371543, MAE: 5.09943962, ME: -0.49156991\n",
      "SM_20 → RMSE: 6.67263854, MAE: 5.08233356, ME: -0.25289422\n",
      "Classification → Accuracy: 0.93971804, F1-score: 0.93981426\n",
      "Epoch 47/60\n"
     ]
    },
    {
     "data": {
      "application/vnd.jupyter.widget-view+json": {
       "model_id": "4065265ea9094163a7cadf62eec2dd61",
       "version_major": 2,
       "version_minor": 0
      },
      "text/plain": [
       "  0%|          | 0/65 [00:00<?, ?it/s]"
      ]
     },
     "metadata": {},
     "output_type": "display_data"
    },
    {
     "name": "stdout",
     "output_type": "stream",
     "text": [
      "Loss → Total: 0.3420, Regression: 0.0060, Classification: 0.3360\n",
      "SM_0 → RMSE: 6.64385118, MAE: 5.17114830, ME: -0.51825374\n",
      "SM_20 → RMSE: 6.90446511, MAE: 5.36622000, ME: -0.25455797\n",
      "Classification → Accuracy: 0.94117647, F1-score: 0.94198818\n",
      "Epoch 48/60\n"
     ]
    },
    {
     "data": {
      "application/vnd.jupyter.widget-view+json": {
       "model_id": "64d8302f3a6d49deb76ab427d9cb57da",
       "version_major": 2,
       "version_minor": 0
      },
      "text/plain": [
       "  0%|          | 0/65 [00:00<?, ?it/s]"
      ]
     },
     "metadata": {},
     "output_type": "display_data"
    },
    {
     "name": "stdout",
     "output_type": "stream",
     "text": [
      "Loss → Total: 0.3679, Regression: 0.0068, Classification: 0.3611\n",
      "SM_0 → RMSE: 6.32154968, MAE: 4.91301250, ME: -1.07885969\n",
      "SM_20 → RMSE: 6.57593491, MAE: 5.06389141, ME: -1.33946574\n",
      "Classification → Accuracy: 0.93971804, F1-score: 0.93990594\n",
      "Epoch 49/60\n"
     ]
    },
    {
     "data": {
      "application/vnd.jupyter.widget-view+json": {
       "model_id": "6c47566d567c42d59a4d89425c1dca02",
       "version_major": 2,
       "version_minor": 0
      },
      "text/plain": [
       "  0%|          | 0/65 [00:00<?, ?it/s]"
      ]
     },
     "metadata": {},
     "output_type": "display_data"
    },
    {
     "name": "stdout",
     "output_type": "stream",
     "text": [
      "Loss → Total: 0.3572, Regression: 0.0073, Classification: 0.3499\n",
      "SM_0 → RMSE: 5.81911035, MAE: 4.41317654, ME: 0.89901870\n",
      "SM_20 → RMSE: 6.33651908, MAE: 4.89844847, ME: 1.16269815\n",
      "Classification → Accuracy: 0.94603792, F1-score: 0.94642757\n",
      "Epoch 50/60\n"
     ]
    },
    {
     "data": {
      "application/vnd.jupyter.widget-view+json": {
       "model_id": "9713416e7006440795619da9958f0d44",
       "version_major": 2,
       "version_minor": 0
      },
      "text/plain": [
       "  0%|          | 0/65 [00:00<?, ?it/s]"
      ]
     },
     "metadata": {},
     "output_type": "display_data"
    },
    {
     "name": "stdout",
     "output_type": "stream",
     "text": [
      "Loss → Total: 0.3474, Regression: 0.0069, Classification: 0.3404\n",
      "SM_0 → RMSE: 6.62739980, MAE: 5.12427187, ME: 1.25561917\n",
      "SM_20 → RMSE: 6.51901252, MAE: 5.00086117, ME: 0.80036527\n",
      "Classification → Accuracy: 0.94555177, F1-score: 0.94590633\n",
      "Epoch 51/60\n"
     ]
    },
    {
     "data": {
      "application/vnd.jupyter.widget-view+json": {
       "model_id": "7bd1ee63e5f94cde8b9803a687e9b9ad",
       "version_major": 2,
       "version_minor": 0
      },
      "text/plain": [
       "  0%|          | 0/65 [00:00<?, ?it/s]"
      ]
     },
     "metadata": {},
     "output_type": "display_data"
    },
    {
     "name": "stdout",
     "output_type": "stream",
     "text": [
      "Loss → Total: 0.3244, Regression: 0.0062, Classification: 0.3182\n",
      "SM_0 → RMSE: 6.03024394, MAE: 4.59701538, ME: 0.64707142\n",
      "SM_20 → RMSE: 6.34796033, MAE: 4.86357212, ME: 0.31954265\n",
      "Classification → Accuracy: 0.94555177, F1-score: 0.94623805\n",
      "Epoch 52/60\n"
     ]
    },
    {
     "data": {
      "application/vnd.jupyter.widget-view+json": {
       "model_id": "4a89c1179b8a410cbe065c8abdbfaced",
       "version_major": 2,
       "version_minor": 0
      },
      "text/plain": [
       "  0%|          | 0/65 [00:00<?, ?it/s]"
      ]
     },
     "metadata": {},
     "output_type": "display_data"
    },
    {
     "name": "stdout",
     "output_type": "stream",
     "text": [
      "Loss → Total: 0.3298, Regression: 0.0065, Classification: 0.3232\n",
      "SM_0 → RMSE: 6.17601905, MAE: 4.68258047, ME: -0.35099825\n",
      "SM_20 → RMSE: 6.37260452, MAE: 4.85075617, ME: 0.36648273\n",
      "Classification → Accuracy: 0.94798250, F1-score: 0.94820296\n",
      "Epoch 53/60\n"
     ]
    },
    {
     "data": {
      "application/vnd.jupyter.widget-view+json": {
       "model_id": "b12043dc11904a8ea7574279c4155009",
       "version_major": 2,
       "version_minor": 0
      },
      "text/plain": [
       "  0%|          | 0/65 [00:00<?, ?it/s]"
      ]
     },
     "metadata": {},
     "output_type": "display_data"
    },
    {
     "name": "stdout",
     "output_type": "stream",
     "text": [
      "Loss → Total: 0.3201, Regression: 0.0059, Classification: 0.3142\n",
      "SM_0 → RMSE: 5.90117868, MAE: 4.47238541, ME: -0.17650649\n",
      "SM_20 → RMSE: 6.06210357, MAE: 4.62750578, ME: 0.61495245\n",
      "Classification → Accuracy: 0.94749635, F1-score: 0.94751952\n",
      "Epoch 54/60\n"
     ]
    },
    {
     "data": {
      "application/vnd.jupyter.widget-view+json": {
       "model_id": "642eed63b38a4d5ba683f7c4db7cbeaf",
       "version_major": 2,
       "version_minor": 0
      },
      "text/plain": [
       "  0%|          | 0/65 [00:00<?, ?it/s]"
      ]
     },
     "metadata": {},
     "output_type": "display_data"
    },
    {
     "name": "stdout",
     "output_type": "stream",
     "text": [
      "Loss → Total: 0.3210, Regression: 0.0065, Classification: 0.3144\n",
      "SM_0 → RMSE: 6.12305965, MAE: 4.70394707, ME: -0.33219740\n",
      "SM_20 → RMSE: 6.09738067, MAE: 4.60424376, ME: 0.14844778\n",
      "Classification → Accuracy: 0.95235780, F1-score: 0.95256108\n",
      "Epoch 55/60\n"
     ]
    },
    {
     "data": {
      "application/vnd.jupyter.widget-view+json": {
       "model_id": "c8bab098d2af4223ae65ebcbef1a1592",
       "version_major": 2,
       "version_minor": 0
      },
      "text/plain": [
       "  0%|          | 0/65 [00:00<?, ?it/s]"
      ]
     },
     "metadata": {},
     "output_type": "display_data"
    },
    {
     "name": "stdout",
     "output_type": "stream",
     "text": [
      "Loss → Total: 0.3296, Regression: 0.0057, Classification: 0.3239\n",
      "SM_0 → RMSE: 6.11033432, MAE: 4.64296579, ME: -1.02483952\n",
      "SM_20 → RMSE: 6.03099036, MAE: 4.62516260, ME: -0.64018101\n",
      "Classification → Accuracy: 0.94603792, F1-score: 0.94652763\n",
      "Epoch 56/60\n"
     ]
    },
    {
     "data": {
      "application/vnd.jupyter.widget-view+json": {
       "model_id": "832f931b7c154c0a862b88654001b4c2",
       "version_major": 2,
       "version_minor": 0
      },
      "text/plain": [
       "  0%|          | 0/65 [00:00<?, ?it/s]"
      ]
     },
     "metadata": {},
     "output_type": "display_data"
    },
    {
     "name": "stdout",
     "output_type": "stream",
     "text": [
      "Loss → Total: 0.3344, Regression: 0.0070, Classification: 0.3274\n",
      "SM_0 → RMSE: 6.56247094, MAE: 5.10714912, ME: 2.26790857\n",
      "SM_20 → RMSE: 6.84552174, MAE: 5.24414682, ME: 2.13913155\n",
      "Classification → Accuracy: 0.94263491, F1-score: 0.94319959\n",
      "Epoch 57/60\n"
     ]
    },
    {
     "data": {
      "application/vnd.jupyter.widget-view+json": {
       "model_id": "f32980bb62374c5fac5537158f0ec2c4",
       "version_major": 2,
       "version_minor": 0
      },
      "text/plain": [
       "  0%|          | 0/65 [00:00<?, ?it/s]"
      ]
     },
     "metadata": {},
     "output_type": "display_data"
    },
    {
     "name": "stdout",
     "output_type": "stream",
     "text": [
      "Loss → Total: 0.3100, Regression: 0.0076, Classification: 0.3024\n",
      "SM_0 → RMSE: 6.27238332, MAE: 4.73474073, ME: 0.22702593\n",
      "SM_20 → RMSE: 6.68689076, MAE: 5.04422665, ME: -0.09700079\n",
      "Classification → Accuracy: 0.95041322, F1-score: 0.95085792\n",
      "Epoch 58/60\n"
     ]
    },
    {
     "data": {
      "application/vnd.jupyter.widget-view+json": {
       "model_id": "135d4e71a90247ee852c3e8717e67d7f",
       "version_major": 2,
       "version_minor": 0
      },
      "text/plain": [
       "  0%|          | 0/65 [00:00<?, ?it/s]"
      ]
     },
     "metadata": {},
     "output_type": "display_data"
    },
    {
     "name": "stdout",
     "output_type": "stream",
     "text": [
      "Loss → Total: 0.2748, Regression: 0.0066, Classification: 0.2683\n",
      "SM_0 → RMSE: 6.31813266, MAE: 4.77371502, ME: 0.55543339\n",
      "SM_20 → RMSE: 6.29999747, MAE: 4.87396193, ME: -1.11200178\n",
      "Classification → Accuracy: 0.94944093, F1-score: 0.94996609\n",
      "Epoch 59/60\n"
     ]
    },
    {
     "data": {
      "application/vnd.jupyter.widget-view+json": {
       "model_id": "0702893709c14074a44c59674e790dd8",
       "version_major": 2,
       "version_minor": 0
      },
      "text/plain": [
       "  0%|          | 0/65 [00:00<?, ?it/s]"
      ]
     },
     "metadata": {},
     "output_type": "display_data"
    },
    {
     "name": "stdout",
     "output_type": "stream",
     "text": [
      "Loss → Total: 0.3688, Regression: 0.0065, Classification: 0.3623\n",
      "SM_0 → RMSE: 6.36822659, MAE: 4.86869431, ME: 0.48619145\n",
      "SM_20 → RMSE: 6.55388665, MAE: 4.90628815, ME: 0.51283610\n",
      "Classification → Accuracy: 0.95089937, F1-score: 0.95168450\n",
      "Epoch 60/60\n"
     ]
    },
    {
     "data": {
      "application/vnd.jupyter.widget-view+json": {
       "model_id": "97491f3d633c4e47b796d6f16344e4df",
       "version_major": 2,
       "version_minor": 0
      },
      "text/plain": [
       "  0%|          | 0/65 [00:00<?, ?it/s]"
      ]
     },
     "metadata": {},
     "output_type": "display_data"
    },
    {
     "name": "stdout",
     "output_type": "stream",
     "text": [
      "Loss → Total: 0.3278, Regression: 0.0056, Classification: 0.3222\n",
      "SM_0 → RMSE: 6.05039761, MAE: 4.61791801, ME: -0.66005725\n",
      "SM_20 → RMSE: 6.16920185, MAE: 4.66411686, ME: -0.16578232\n",
      "Classification → Accuracy: 0.94263491, F1-score: 0.94276028\n"
     ]
    }
   ],
   "source": [
    "import torch\n",
    "import torch.nn as nn\n",
    "import pandas as pd\n",
    "import numpy as np\n",
    "from torch.utils.data import Dataset, DataLoader\n",
    "from torchvision import transforms\n",
    "from PIL import Image\n",
    "from sklearn.metrics import mean_squared_error, mean_absolute_error, accuracy_score, f1_score\n",
    "from tqdm.notebook import tqdm\n",
    "import timm\n",
    "import os\n",
    "import random\n",
    "\n",
    "device = torch.device(\"cuda\" if torch.cuda.is_available() else \"cpu\")\n",
    "print(f\"Using device: {device}\")\n",
    "print(f\"PyTorch version: {torch.__version__}\")\n",
    "\n",
    "df = pd.read_csv(r\"F:\\Soil_Labeled_Data\\labels.csv\")\n",
    "print(f\"Total labeled images before check: {len(df)}\")\n",
    "\n",
    "required_columns = ['path', 'SM_0', 'SM_20', 'light_value', 'moisture_class']\n",
    "missing_columns = [col for col in required_columns if col not in df.columns]\n",
    "if missing_columns:\n",
    "    raise ValueError(f\"DataFrame missing columns: {missing_columns}\")\n",
    "\n",
    "fallback_dir = r\"F:\\Soil_Labeled_Data\\augmented_fallback\"\n",
    "os.makedirs(fallback_dir, exist_ok=True)\n",
    "replaced_count = 0\n",
    "augment = transforms.ColorJitter(brightness=0.2, contrast=0.2)\n",
    "\n",
    "for idx, row in tqdm(df.iterrows(), total=len(df)):\n",
    "    path = row[\"path\"]\n",
    "    try:\n",
    "        img = Image.open(path).convert(\"RGB\")\n",
    "        img.verify()\n",
    "    except:\n",
    "        print(f\"Image error: {path}\")\n",
    "        folder = os.path.dirname(path)\n",
    "        all_images = [f for f in os.listdir(folder) if f.lower().endswith((\".jpg\", \".png\"))]\n",
    "        good_images = [f for f in all_images if f != os.path.basename(path)]\n",
    "        if not good_images:\n",
    "            print(f\"No replacement images in: {folder}\")\n",
    "            continue\n",
    "        candidate = random.choice(good_images)\n",
    "        candidate_path = os.path.join(folder, candidate)\n",
    "        try:\n",
    "            img = Image.open(candidate_path).convert(\"RGB\")\n",
    "            img_aug = augment(img)\n",
    "            new_filename = f\"aug_{os.path.basename(path)}\"\n",
    "            new_path = os.path.join(fallback_dir, new_filename)\n",
    "            img_aug.save(new_path)\n",
    "            df.at[idx, \"path\"] = new_path\n",
    "            replaced_count += 1\n",
    "            print(f\"Replaced with: {new_path}\")\n",
    "        except:\n",
    "            print(f\"Replacement image error: {candidate_path}\")\n",
    "            continue\n",
    "print(f\"Replaced {replaced_count} invalid images with augmented versions.\")\n",
    "\n",
    "transform = transforms.Compose([\n",
    "    transforms.Resize((224, 224)),\n",
    "    transforms.ToTensor(),\n",
    "    transforms.Normalize(mean=[0.485, 0.456, 0.406], std=[0.229, 0.224, 0.225])\n",
    "])\n",
    "\n",
    "class SoilDualTaskDataset(Dataset):\n",
    "    def __init__(self, dataframe, transform=None):\n",
    "        self.df = dataframe\n",
    "        self.transform = transform\n",
    "\n",
    "    def __len__(self):\n",
    "        return len(self.df)\n",
    "\n",
    "    def __getitem__(self, idx):\n",
    "        row = self.df.iloc[idx]\n",
    "        img = Image.open(row[\"path\"]).convert(\"RGB\")\n",
    "        if self.transform:\n",
    "            img = self.transform(img)\n",
    "        light = torch.tensor([row[\"light_value\"] / 100.0], dtype=torch.float32)\n",
    "        regression_target = torch.tensor([row[\"SM_0\"] / 100.0, row[\"SM_20\"] / 100.0], dtype=torch.float32)\n",
    "        class_target = torch.tensor(row[\"moisture_class\"], dtype=torch.long)\n",
    "        return {\n",
    "            \"image\": img,\n",
    "            \"light\": light,\n",
    "            \"regression_target\": regression_target,\n",
    "            \"class_target\": class_target\n",
    "        }\n",
    "\n",
    "class SoilNetDualHead(nn.Module):\n",
    "    def __init__(self, num_classes=10):\n",
    "        super().__init__()\n",
    "        self.initial_conv = nn.Conv2d(3, 32, kernel_size=3, stride=1, padding=1)\n",
    "        self.mnv2_block1 = nn.Sequential(*list(\n",
    "            timm.create_model(\"mobilenetv2_100.ra_in1k\", pretrained=True).blocks.children())[0:3]\n",
    "        )\n",
    "        self.channel_adapter = nn.Conv2d(32, 16, kernel_size=1, bias=False)\n",
    "        self.mobilevit_full = timm.create_model(\"mobilevitv2_050\", pretrained=True)\n",
    "        self.mobilevit_encoder = self.mobilevit_full.stages\n",
    "        self.mvit_to_mnv2 = nn.Conv2d(256, 32, kernel_size=1, bias=False)\n",
    "        self.mnv2_block2 = nn.Sequential(*list(\n",
    "            timm.create_model(\"mobilenetv2_100.ra_in1k\", pretrained=True).blocks.children())[3:7]\n",
    "        )\n",
    "        self.final_conv = nn.Conv2d(320, 1280, kernel_size=1)\n",
    "        self.pool = nn.AdaptiveAvgPool2d((1, 1))\n",
    "        self.light_dense = nn.Sequential(nn.Linear(1, 32), nn.ReLU(inplace=True))\n",
    "        self.reg_head = nn.Sequential(\n",
    "            nn.Linear(1280 + 32, 128),\n",
    "            nn.ReLU(inplace=True),\n",
    "            nn.Linear(128, 2)\n",
    "        )\n",
    "        self.cls_head = nn.Sequential(\n",
    "            nn.Linear(1280 + 32, 128),\n",
    "            nn.ReLU(inplace=True),\n",
    "            nn.Linear(128, num_classes)\n",
    "        )\n",
    "\n",
    "    def forward(self, x_img, x_light):\n",
    "        x = self.initial_conv(x_img)\n",
    "        x = self.mnv2_block1(x)\n",
    "        x = self.channel_adapter(x)\n",
    "        x = self.mobilevit_encoder(x)\n",
    "        x = self.mvit_to_mnv2(x)\n",
    "        x = self.mnv2_block2(x)\n",
    "        x = self.final_conv(x)\n",
    "        x = self.pool(x)\n",
    "        x_img_feat = torch.flatten(x, 1)\n",
    "        x_light_feat = self.light_dense(x_light)\n",
    "        x_concat = torch.cat([x_img_feat, x_light_feat], dim=1)\n",
    "        reg_out = self.reg_head(x_concat)\n",
    "        cls_out = self.cls_head(x_concat)\n",
    "        return reg_out, cls_out\n",
    "\n",
    "dataset = SoilDualTaskDataset(df, transform)\n",
    "dataloader = DataLoader(dataset, batch_size=32, shuffle=True, pin_memory=True if device.type == \"cuda\" else False, num_workers=0)\n",
    "\n",
    "num_classes = len(df[\"moisture_class\"].unique())\n",
    "model = SoilNetDualHead(num_classes=num_classes).to(device)\n",
    "\n",
    "checkpoint_path = r\"C:\\Users\\PC\\soilNet\\checkpoints_VicReg\\vicreg_model_final_mu_25.0.pth\"\n",
    "try:\n",
    "    checkpoint = torch.load(checkpoint_path, map_location=device, weights_only=False)\n",
    "    if isinstance(checkpoint, dict) and 'model_state_dict' in checkpoint:\n",
    "        model_state_dict = checkpoint['model_state_dict']\n",
    "    else:\n",
    "        model_state_dict = checkpoint\n",
    "    model_dict = model.state_dict()\n",
    "    pretrained_dict = {k: v for k, v in model_state_dict.items() \n",
    "                       if k in model_dict and model_dict[k].shape == v.shape}\n",
    "    temp_model_dict = model_dict.copy()\n",
    "    temp_model_dict.update(pretrained_dict)\n",
    "    missing_keys, unexpected_keys = model.load_state_dict(temp_model_dict, strict=False)\n",
    "    print(f\"Loaded pretrained weights from {checkpoint_path}\")\n",
    "    if missing_keys:\n",
    "        print(f\"Some keys missing in checkpoint and not loaded: {missing_keys}\")\n",
    "    if unexpected_keys:\n",
    "        print(f\"Some keys in checkpoint not in model and ignored: {unexpected_keys}\")\n",
    "except FileNotFoundError:\n",
    "    print(f\"Checkpoint not found: {checkpoint_path}. Using random initialization.\")\n",
    "except Exception as e:\n",
    "    print(f\"Error loading checkpoint: {e}. Using random initialization.\")\n",
    "\n",
    "optimizer = torch.optim.Adam(model.parameters(), lr=1e-4)\n",
    "reg_criterion = nn.MSELoss()\n",
    "cls_criterion = nn.CrossEntropyLoss()\n",
    "\n",
    "num_epochs = 60\n",
    "loss_history = []\n",
    "\n",
    "for epoch in range(num_epochs):\n",
    "    print(f\"Epoch {epoch+1}/{num_epochs}\")\n",
    "    model.train()\n",
    "    total_loss, total_reg_loss, total_cls_loss = 0, 0, 0\n",
    "    for batch in tqdm(dataloader, leave=False):\n",
    "        x_img = batch[\"image\"].to(device)\n",
    "        x_light = batch[\"light\"].to(device)\n",
    "        y_reg = batch[\"regression_target\"].to(device)\n",
    "        y_cls = batch[\"class_target\"].to(device)\n",
    "        optimizer.zero_grad()\n",
    "        pred_reg, pred_cls = model(x_img, x_light)\n",
    "        loss_reg = reg_criterion(pred_reg, y_reg)\n",
    "        loss_cls = cls_criterion(pred_cls, y_cls)\n",
    "        loss = loss_reg + loss_cls\n",
    "        loss.backward()\n",
    "        optimizer.step()\n",
    "        total_loss += loss.item()\n",
    "        total_reg_loss += loss_reg.item()\n",
    "        total_cls_loss += loss_cls.item()\n",
    "    avg_total = total_loss / len(dataloader)\n",
    "    loss_history.append((avg_total, total_reg_loss / len(dataloader), total_cls_loss / len(dataloader)))\n",
    "    print(f\"Loss → Total: {avg_total:.4f}, Regression: {total_reg_loss / len(dataloader):.4f}, Classification: {total_cls_loss / len(dataloader):.4f}\")\n",
    "    model.eval()\n",
    "    y_true_reg, y_pred_reg = [], []\n",
    "    y_true_cls, y_pred_cls = [], []\n",
    "    with torch.no_grad():\n",
    "        for batch in dataloader:\n",
    "            x_img = batch[\"image\"].to(device)\n",
    "            x_light = batch[\"light\"].to(device)\n",
    "            y_reg = batch[\"regression_target\"].to(device)\n",
    "            y_cls = batch[\"class_target\"].to(device)\n",
    "            pred_reg, pred_cls = model(x_img, x_light)\n",
    "            y_true_reg.extend(y_reg.cpu().numpy())\n",
    "            y_pred_reg.extend(pred_reg.cpu().numpy())\n",
    "            y_true_cls.extend(y_cls.cpu().numpy())\n",
    "            y_pred_cls.extend(pred_cls.argmax(dim=1).cpu().numpy())\n",
    "    y_true_reg = np.array(y_true_reg) * 100\n",
    "    y_pred_reg = np.array(y_pred_reg) * 100\n",
    "    metrics = {}\n",
    "    for i, label in enumerate([\"SM_0\", \"SM_20\"]):\n",
    "        metrics[label] = {\n",
    "            \"RMSE\": mean_squared_error(y_true_reg[:, i], y_pred_reg[:, i]) ** 0.5,\n",
    "            \"MAE\": mean_absolute_error(y_true_reg[:, i], y_pred_reg[:, i]),\n",
    "            \"ME\": np.mean(y_pred_reg[:, i] - y_true_reg[:, i]),\n",
    "        }\n",
    "    metrics[\"Classification\"] = {\n",
    "        \"Accuracy\": accuracy_score(y_true_cls, y_pred_cls),\n",
    "        \"F1-score\": f1_score(y_true_cls, y_pred_cls, average=\"weighted\")\n",
    "    }\n",
    "    for label in [\"SM_0\", \"SM_20\"]:\n",
    "        print(f\"{label} → RMSE: {metrics[label]['RMSE']:.8f}, MAE: {metrics[label]['MAE']:.8f}, ME: {metrics[label]['ME']:.8f}\")\n",
    "    print(f\"Classification → Accuracy: {metrics['Classification']['Accuracy']:.8f}, F1-score: {metrics['Classification']['F1-score']:.8f}\")\n",
    "\n",
    "torch.save(model.state_dict(), r\"C:\\Users\\PC\\soilNet\\checkpoints_VicReg\\finetune_mu_25.0.pth\")"
   ]
  }
 ],
 "metadata": {
  "kernelspec": {
   "display_name": "Python 3 (ipykernel)",
   "language": "python",
   "name": "python3"
  },
  "language_info": {
   "codemirror_mode": {
    "name": "ipython",
    "version": 3
   },
   "file_extension": ".py",
   "mimetype": "text/x-python",
   "name": "python",
   "nbconvert_exporter": "python",
   "pygments_lexer": "ipython3",
   "version": "3.10.16"
  }
 },
 "nbformat": 4,
 "nbformat_minor": 5
}
